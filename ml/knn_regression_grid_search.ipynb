{
 "cells": [
  {
   "cell_type": "markdown",
   "id": "e7c097f1",
   "metadata": {},
   "source": [
    "# KNN_Regression_grid_search"
   ]
  },
  {
   "cell_type": "code",
   "execution_count": 1,
   "id": "3307e13a",
   "metadata": {},
   "outputs": [
    {
     "name": "stderr",
     "output_type": "stream",
     "text": [
      "C:\\Users\\robot\\anaconda3\\envs\\ml_py37\\lib\\site-packages\\sklearn\\utils\\__init__.py:4: DeprecationWarning: Using or importing the ABCs from 'collections' instead of from 'collections.abc' is deprecated, and in 3.8 it will stop working\n",
      "  from collections import Sequence\n",
      "C:\\Users\\robot\\anaconda3\\envs\\ml_py37\\lib\\site-packages\\sklearn\\model_selection\\_split.py:18: DeprecationWarning: Using or importing the ABCs from 'collections' instead of from 'collections.abc' is deprecated, and in 3.8 it will stop working\n",
      "  from collections import Iterable\n",
      "C:\\Users\\robot\\anaconda3\\envs\\ml_py37\\lib\\site-packages\\sklearn\\model_selection\\_search.py:16: DeprecationWarning: Using or importing the ABCs from 'collections' instead of from 'collections.abc' is deprecated, and in 3.8 it will stop working\n",
      "  from collections import Mapping, namedtuple, defaultdict, Sequence\n"
     ]
    }
   ],
   "source": [
    "from sklearn.model_selection import GridSearchCV\n",
    "from sklearn.neighbors import KNeighborsRegressor\n",
    "from sklearn.datasets import make_regression\n",
    "from sklearn.model_selection import train_test_split\n",
    "from sklearn.metrics import mean_squared_error\n",
    "from sklearn.datasets import load_diabetes\n",
    "from sklearn import metrics\n",
    "import numpy as np\n",
    "import pickle"
   ]
  },
  {
   "cell_type": "code",
   "execution_count": 2,
   "id": "f0becf50",
   "metadata": {},
   "outputs": [],
   "source": [
    "diabeties = load_diabetes()"
   ]
  },
  {
   "cell_type": "code",
   "execution_count": 3,
   "id": "6bef344e",
   "metadata": {},
   "outputs": [],
   "source": [
    "# Generate synthetic data\n",
    "X = diabeties.data\n",
    "Y = diabeties.target"
   ]
  },
  {
   "cell_type": "code",
   "execution_count": 4,
   "id": "db18669c",
   "metadata": {},
   "outputs": [
    {
     "name": "stdout",
     "output_type": "stream",
     "text": [
      "Best Parameters: {'algorithm': 'auto', 'leaf_size': 1, 'n_neighbors': 15, 'weights': 'distance'}\n",
      "---KNN on diabeties dataset---\n",
      "R squared: 0.43  MSE: 3009.54 \n",
      "  RMSE: 54.86 \n",
      "\n"
     ]
    }
   ],
   "source": [
    "\n",
    "\n",
    "# Generate synthetic data\n",
    "#X, y = make_regression(n_samples=1000, n_features=10, noise=0.1, random_state=42)\n",
    "\n",
    "# Split data into training and testing sets\n",
    "X_train, X_test, y_train, y_test = train_test_split(X, Y, test_size=0.2, random_state=42)\n",
    "\n",
    "# Define the parameter grid\n",
    "param_grid = {\n",
    "    'n_neighbors': [1, 3, 5, 7, 9, 11, 13, 15],\n",
    "    'leaf_size':[1,2,3,4,5,10,2030,50],\n",
    "    'weights':['uniform', 'distance'],\n",
    "    'algorithm':['auto', 'ball_tree', 'kd_tree', 'brute']\n",
    "}\n",
    "\n",
    "# Initialize GridSearchCV\n",
    "grid_search = GridSearchCV(\n",
    "    KNeighborsRegressor(),  # Model\n",
    "    param_grid,  # Parameter grid\n",
    "    cv=5,  # Number of cross-validation folds\n",
    "    scoring='neg_mean_squared_error'  # Scoring metric\n",
    ")\n",
    "\n",
    "# Perform grid search\n",
    "grid_search.fit(X_train, y_train)\n",
    "\n",
    "# Get the best hyperparameters\n",
    "best_params = grid_search.best_params_\n",
    "print(\"Best Parameters:\", best_params)\n",
    "\n",
    "# Evaluate the model with best hyperparameters\n",
    "best_model = grid_search.best_estimator_\n",
    "y_pred = best_model.predict(X_test)\n",
    "err = metrics.mean_squared_error(y_test, best_model.predict(X_test))\n",
    "r2 = metrics.r2_score(y_test, best_model.predict(X_test))\n",
    "rmse = np.sqrt(err)\n",
    "\n",
    "print(\"---KNN on diabeties dataset---\")\n",
    "rmse = np.sqrt(err)\n",
    "print(\"R squared: %.2f\"%r2, ' MSE: %.2f \\n' %err, ' RMSE: %.2f \\n' %rmse) "
   ]
  },
  {
   "cell_type": "code",
   "execution_count": null,
   "id": "2bc5b9c3",
   "metadata": {},
   "outputs": [],
   "source": []
  }
 ],
 "metadata": {
  "kernelspec": {
   "display_name": "Python 3 (ipykernel)",
   "language": "python",
   "name": "python3"
  },
  "language_info": {
   "codemirror_mode": {
    "name": "ipython",
    "version": 3
   },
   "file_extension": ".py",
   "mimetype": "text/x-python",
   "name": "python",
   "nbconvert_exporter": "python",
   "pygments_lexer": "ipython3",
   "version": "3.7.0"
  }
 },
 "nbformat": 4,
 "nbformat_minor": 5
}
