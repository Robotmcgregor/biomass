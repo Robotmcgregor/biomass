{
 "cells": [
  {
   "cell_type": "code",
   "execution_count": 1,
   "metadata": {},
   "outputs": [],
   "source": [
    "# import modules\n",
    "import pandas as pd\n",
    "import numpy as np\n",
    "import scipy.stats as scistat\n",
    "import statsmodels.api as sm\n",
    "import os\n",
    "\n",
    "# visualisation\n",
    "import matplotlib.pyplot as plt\n",
    "import seaborn as sns\n",
    "%matplotlib inline"
   ]
  },
  {
   "cell_type": "code",
   "execution_count": 2,
   "metadata": {},
   "outputs": [],
   "source": [
    "# load data\n",
    "csv_file = r\"F:\\cdu\\data\\zonal_stats\\output\\merged_slats_field_agb_dp1_dry.csv\"\n",
    "output_dir = r\"F:\\cdu\\data\\eda\""
   ]
  },
  {
   "cell_type": "code",
   "execution_count": 3,
   "metadata": {},
   "outputs": [
    {
     "data": {
      "text/plain": [
       "(180, 69)"
      ]
     },
     "execution_count": 3,
     "metadata": {},
     "output_type": "execute_result"
    }
   ],
   "source": [
    "df = pd.read_csv(csv_file, parse_dates=['date'])\n",
    "# set uid to index\n",
    "df.set_index(\"uid_x\", inplace=True)\n",
    "df.shape"
   ]
  },
  {
   "cell_type": "code",
   "execution_count": 4,
   "metadata": {},
   "outputs": [
    {
     "data": {
      "text/plain": [
       "Index(['site', 'date', 'lon_gda94', 'lat_gda94', 'bio_l_kg1ha', 'bio_t_kg1ha',\n",
       "       'bio_b_kg1ha', 'bio_w_kg1ha', 'bio_br_kg1ha', 'bio_s_kg1ha',\n",
       "       'bio_r_kg1ha', 'bio_agb_kg1ha', 'c_l_kg1ha', 'c_t_kg1ha', 'c_b_kg1ha',\n",
       "       'c_w_kg1ha', 'c_br_kg1ha', 'c_s_kg1ha', 'c_r_kg1ha', 'c_agb_kg1ha',\n",
       "       'basal_dt', 'uid_y', 'image', 's_day', 's_month', 's_year', 's_date',\n",
       "       'e_day', 'e_month', 'e_year', 'e_date', 'b1_dp1_min', 'b1_dp1_max',\n",
       "       'b1_dp1_mean', 'b1_dp1_count', 'b1_dp1_std', 'b1_dp1_med', 'b1_dp1_p25',\n",
       "       'b1_dp1_p50', 'b1_dp1_p75', 'b1_dp1_p95', 'b1_dp1_p99', 'b1_dp1_range',\n",
       "       'b2_dp1_min', 'b2_dp1_max', 'b2_dp1_mean', 'b2_dp1_count', 'b2_dp1_std',\n",
       "       'b2_dp1_med', 'b2_dp1_p25', 'b2_dp1_p50', 'b2_dp1_p75', 'b2_dp1_p95',\n",
       "       'b2_dp1_p99', 'b2_dp1_range', 'b3_dp1_min', 'b3_dp1_max', 'b3_dp1_mean',\n",
       "       'b3_dp1_count', 'b3_dp1_med', 'b3_dp1_p25', 'b3_dp1_p50', 'b3_dp1_p75',\n",
       "       'b3_dp1_p95', 'b3_dp1_p99', 'b3_dp1_range', 'b3_dp1_std', 'image_s_dt',\n",
       "       'image_e_dt'],\n",
       "      dtype='object')"
      ]
     },
     "execution_count": 4,
     "metadata": {},
     "output_type": "execute_result"
    }
   ],
   "source": [
    "df.columns"
   ]
  },
  {
   "cell_type": "code",
   "execution_count": 5,
   "metadata": {},
   "outputs": [],
   "source": [
    "# drop unwanted columns\n",
    "df.drop(['date', 'lon_gda94', 'lat_gda94', 'bio_l_kg1ha', 'bio_t_kg1ha', 'bio_b_kg1ha', 'bio_w_kg1ha', 'bio_br_kg1ha', \n",
    "         'bio_s_kg1ha', 'bio_r_kg1ha', 'c_l_kg1ha', 'c_t_kg1ha', 'c_b_kg1ha', 'c_w_kg1ha', 'c_br_kg1ha', 'c_s_kg1ha', \n",
    "         'c_r_kg1ha', 'c_agb_kg1ha', 'basal_dt', 'uid_y', 'image', 's_day', 's_month', 's_year', 's_date',\n",
    "       'e_day', 'e_month', 'e_year', 'e_date', 'b1_dp1_count', 'b2_dp1_count', 'b3_dp1_count',\n",
    "        'b1_dp1_range', 'b2_dp1_range', 'b3_dp1_range','image_s_dt',\n",
    "       'image_e_dt'], axis=1, inplace=True)"
   ]
  },
  {
   "cell_type": "code",
   "execution_count": 6,
   "metadata": {},
   "outputs": [],
   "source": [
    "#drop null values\n",
    "df.dropna(inplace=True)"
   ]
  },
  {
   "cell_type": "code",
   "execution_count": 7,
   "metadata": {},
   "outputs": [
    {
     "data": {
      "text/plain": [
       "43"
      ]
     },
     "execution_count": 7,
     "metadata": {},
     "output_type": "execute_result"
    }
   ],
   "source": [
    "df.index.nunique()"
   ]
  },
  {
   "cell_type": "code",
   "execution_count": 8,
   "metadata": {},
   "outputs": [
    {
     "data": {
      "text/html": [
       "<div>\n",
       "<style scoped>\n",
       "    .dataframe tbody tr th:only-of-type {\n",
       "        vertical-align: middle;\n",
       "    }\n",
       "\n",
       "    .dataframe tbody tr th {\n",
       "        vertical-align: top;\n",
       "    }\n",
       "\n",
       "    .dataframe thead th {\n",
       "        text-align: right;\n",
       "    }\n",
       "</style>\n",
       "<table border=\"1\" class=\"dataframe\">\n",
       "  <thead>\n",
       "    <tr style=\"text-align: right;\">\n",
       "      <th>uid_x</th>\n",
       "      <th>106</th>\n",
       "      <th>56</th>\n",
       "      <th>146</th>\n",
       "      <th>37</th>\n",
       "      <th>38</th>\n",
       "      <th>61</th>\n",
       "      <th>145</th>\n",
       "      <th>169</th>\n",
       "    </tr>\n",
       "  </thead>\n",
       "  <tbody>\n",
       "    <tr>\n",
       "      <th>site</th>\n",
       "      <td>legu08</td>\n",
       "      <td>hshr01</td>\n",
       "      <td>NTAGFU0024</td>\n",
       "      <td>barkely01</td>\n",
       "      <td>barkely03</td>\n",
       "      <td>lto04</td>\n",
       "      <td>NTAGFU0023</td>\n",
       "      <td>NTAPCK0001</td>\n",
       "    </tr>\n",
       "    <tr>\n",
       "      <th>bio_agb_kg1ha</th>\n",
       "      <td>4717.19</td>\n",
       "      <td>35199.7</td>\n",
       "      <td>689.92</td>\n",
       "      <td>0</td>\n",
       "      <td>0</td>\n",
       "      <td>0</td>\n",
       "      <td>1.29347e+07</td>\n",
       "      <td>989.555</td>\n",
       "    </tr>\n",
       "    <tr>\n",
       "      <th>b1_dp1_min</th>\n",
       "      <td>3</td>\n",
       "      <td>1</td>\n",
       "      <td>6</td>\n",
       "      <td>1</td>\n",
       "      <td>2</td>\n",
       "      <td>20</td>\n",
       "      <td>2</td>\n",
       "      <td>1</td>\n",
       "    </tr>\n",
       "    <tr>\n",
       "      <th>b1_dp1_max</th>\n",
       "      <td>24</td>\n",
       "      <td>5</td>\n",
       "      <td>15</td>\n",
       "      <td>7</td>\n",
       "      <td>5</td>\n",
       "      <td>27</td>\n",
       "      <td>15</td>\n",
       "      <td>10</td>\n",
       "    </tr>\n",
       "    <tr>\n",
       "      <th>b1_dp1_mean</th>\n",
       "      <td>8.44444</td>\n",
       "      <td>3.11111</td>\n",
       "      <td>9.16667</td>\n",
       "      <td>4.11111</td>\n",
       "      <td>3.44444</td>\n",
       "      <td>24.4167</td>\n",
       "      <td>6.5625</td>\n",
       "      <td>4.33333</td>\n",
       "    </tr>\n",
       "    <tr>\n",
       "      <th>b1_dp1_std</th>\n",
       "      <td>5.85209</td>\n",
       "      <td>1.36987</td>\n",
       "      <td>2.88194</td>\n",
       "      <td>1.59474</td>\n",
       "      <td>0.955814</td>\n",
       "      <td>1.89113</td>\n",
       "      <td>3.65665</td>\n",
       "      <td>2.95334</td>\n",
       "    </tr>\n",
       "    <tr>\n",
       "      <th>b1_dp1_med</th>\n",
       "      <td>7</td>\n",
       "      <td>3</td>\n",
       "      <td>8.5</td>\n",
       "      <td>4</td>\n",
       "      <td>3</td>\n",
       "      <td>24</td>\n",
       "      <td>7</td>\n",
       "      <td>3.5</td>\n",
       "    </tr>\n",
       "    <tr>\n",
       "      <th>b1_dp1_p25</th>\n",
       "      <td>5</td>\n",
       "      <td>2</td>\n",
       "      <td>6.75</td>\n",
       "      <td>4</td>\n",
       "      <td>3</td>\n",
       "      <td>24</td>\n",
       "      <td>3</td>\n",
       "      <td>2</td>\n",
       "    </tr>\n",
       "    <tr>\n",
       "      <th>b1_dp1_p50</th>\n",
       "      <td>7</td>\n",
       "      <td>3</td>\n",
       "      <td>8.5</td>\n",
       "      <td>4</td>\n",
       "      <td>3</td>\n",
       "      <td>24</td>\n",
       "      <td>7</td>\n",
       "      <td>3.5</td>\n",
       "    </tr>\n",
       "    <tr>\n",
       "      <th>b1_dp1_p75</th>\n",
       "      <td>9</td>\n",
       "      <td>4</td>\n",
       "      <td>10.25</td>\n",
       "      <td>4</td>\n",
       "      <td>4</td>\n",
       "      <td>25.5</td>\n",
       "      <td>9</td>\n",
       "      <td>7</td>\n",
       "    </tr>\n",
       "    <tr>\n",
       "      <th>b1_dp1_p95</th>\n",
       "      <td>18.4</td>\n",
       "      <td>5</td>\n",
       "      <td>14.45</td>\n",
       "      <td>6.6</td>\n",
       "      <td>5</td>\n",
       "      <td>27</td>\n",
       "      <td>12.75</td>\n",
       "      <td>8.9</td>\n",
       "    </tr>\n",
       "    <tr>\n",
       "      <th>b1_dp1_p99</th>\n",
       "      <td>22.88</td>\n",
       "      <td>5</td>\n",
       "      <td>14.89</td>\n",
       "      <td>6.92</td>\n",
       "      <td>5</td>\n",
       "      <td>27</td>\n",
       "      <td>14.55</td>\n",
       "      <td>9.78</td>\n",
       "    </tr>\n",
       "    <tr>\n",
       "      <th>b2_dp1_min</th>\n",
       "      <td>31</td>\n",
       "      <td>56</td>\n",
       "      <td>8</td>\n",
       "      <td>1</td>\n",
       "      <td>2</td>\n",
       "      <td>10</td>\n",
       "      <td>21</td>\n",
       "      <td>35</td>\n",
       "    </tr>\n",
       "    <tr>\n",
       "      <th>b2_dp1_max</th>\n",
       "      <td>42</td>\n",
       "      <td>73</td>\n",
       "      <td>24</td>\n",
       "      <td>4</td>\n",
       "      <td>8</td>\n",
       "      <td>20</td>\n",
       "      <td>42</td>\n",
       "      <td>57</td>\n",
       "    </tr>\n",
       "    <tr>\n",
       "      <th>b2_dp1_mean</th>\n",
       "      <td>37.1111</td>\n",
       "      <td>63.4444</td>\n",
       "      <td>18.1667</td>\n",
       "      <td>2.11111</td>\n",
       "      <td>4.22222</td>\n",
       "      <td>15.8333</td>\n",
       "      <td>33.4375</td>\n",
       "      <td>47.8333</td>\n",
       "    </tr>\n",
       "    <tr>\n",
       "      <th>b2_dp1_std</th>\n",
       "      <td>3.47833</td>\n",
       "      <td>5.56</td>\n",
       "      <td>4.50617</td>\n",
       "      <td>0.737028</td>\n",
       "      <td>1.93091</td>\n",
       "      <td>2.6405</td>\n",
       "      <td>6.41257</td>\n",
       "      <td>7.88282</td>\n",
       "    </tr>\n",
       "    <tr>\n",
       "      <th>b2_dp1_med</th>\n",
       "      <td>38</td>\n",
       "      <td>61</td>\n",
       "      <td>19</td>\n",
       "      <td>2</td>\n",
       "      <td>3</td>\n",
       "      <td>16.5</td>\n",
       "      <td>34</td>\n",
       "      <td>51.5</td>\n",
       "    </tr>\n",
       "    <tr>\n",
       "      <th>b2_dp1_p25</th>\n",
       "      <td>36</td>\n",
       "      <td>60</td>\n",
       "      <td>15.75</td>\n",
       "      <td>2</td>\n",
       "      <td>3</td>\n",
       "      <td>14</td>\n",
       "      <td>28</td>\n",
       "      <td>41.25</td>\n",
       "    </tr>\n",
       "    <tr>\n",
       "      <th>b2_dp1_p50</th>\n",
       "      <td>38</td>\n",
       "      <td>61</td>\n",
       "      <td>19</td>\n",
       "      <td>2</td>\n",
       "      <td>3</td>\n",
       "      <td>16.5</td>\n",
       "      <td>34</td>\n",
       "      <td>51.5</td>\n",
       "    </tr>\n",
       "    <tr>\n",
       "      <th>b2_dp1_p75</th>\n",
       "      <td>39</td>\n",
       "      <td>67</td>\n",
       "      <td>21.25</td>\n",
       "      <td>2</td>\n",
       "      <td>5</td>\n",
       "      <td>18</td>\n",
       "      <td>38.25</td>\n",
       "      <td>53</td>\n",
       "    </tr>\n",
       "    <tr>\n",
       "      <th>b2_dp1_p95</th>\n",
       "      <td>41.6</td>\n",
       "      <td>72.2</td>\n",
       "      <td>24</td>\n",
       "      <td>3.2</td>\n",
       "      <td>7.6</td>\n",
       "      <td>18.9</td>\n",
       "      <td>42</td>\n",
       "      <td>55.9</td>\n",
       "    </tr>\n",
       "    <tr>\n",
       "      <th>b2_dp1_p99</th>\n",
       "      <td>41.92</td>\n",
       "      <td>72.84</td>\n",
       "      <td>24</td>\n",
       "      <td>3.84</td>\n",
       "      <td>7.92</td>\n",
       "      <td>19.78</td>\n",
       "      <td>42</td>\n",
       "      <td>56.78</td>\n",
       "    </tr>\n",
       "    <tr>\n",
       "      <th>b3_dp1_min</th>\n",
       "      <td>43</td>\n",
       "      <td>23</td>\n",
       "      <td>66</td>\n",
       "      <td>89</td>\n",
       "      <td>87</td>\n",
       "      <td>52</td>\n",
       "      <td>48</td>\n",
       "      <td>38</td>\n",
       "    </tr>\n",
       "    <tr>\n",
       "      <th>b3_dp1_max</th>\n",
       "      <td>60</td>\n",
       "      <td>38</td>\n",
       "      <td>76</td>\n",
       "      <td>94</td>\n",
       "      <td>94</td>\n",
       "      <td>62</td>\n",
       "      <td>72</td>\n",
       "      <td>57</td>\n",
       "    </tr>\n",
       "    <tr>\n",
       "      <th>b3_dp1_mean</th>\n",
       "      <td>52.7778</td>\n",
       "      <td>32.2222</td>\n",
       "      <td>70.9167</td>\n",
       "      <td>92.3333</td>\n",
       "      <td>90.6667</td>\n",
       "      <td>58.0833</td>\n",
       "      <td>58.25</td>\n",
       "      <td>46.3333</td>\n",
       "    </tr>\n",
       "    <tr>\n",
       "      <th>b3_dp1_med</th>\n",
       "      <td>53</td>\n",
       "      <td>35</td>\n",
       "      <td>70.5</td>\n",
       "      <td>93</td>\n",
       "      <td>92</td>\n",
       "      <td>59</td>\n",
       "      <td>58.5</td>\n",
       "      <td>45</td>\n",
       "    </tr>\n",
       "    <tr>\n",
       "      <th>b3_dp1_p25</th>\n",
       "      <td>50</td>\n",
       "      <td>30</td>\n",
       "      <td>68.75</td>\n",
       "      <td>92</td>\n",
       "      <td>89</td>\n",
       "      <td>56.75</td>\n",
       "      <td>49</td>\n",
       "      <td>43</td>\n",
       "    </tr>\n",
       "    <tr>\n",
       "      <th>b3_dp1_p50</th>\n",
       "      <td>53</td>\n",
       "      <td>35</td>\n",
       "      <td>70.5</td>\n",
       "      <td>93</td>\n",
       "      <td>92</td>\n",
       "      <td>59</td>\n",
       "      <td>58.5</td>\n",
       "      <td>45</td>\n",
       "    </tr>\n",
       "    <tr>\n",
       "      <th>b3_dp1_p75</th>\n",
       "      <td>56</td>\n",
       "      <td>36</td>\n",
       "      <td>72.75</td>\n",
       "      <td>93</td>\n",
       "      <td>92</td>\n",
       "      <td>60.25</td>\n",
       "      <td>63.75</td>\n",
       "      <td>49</td>\n",
       "    </tr>\n",
       "    <tr>\n",
       "      <th>b3_dp1_p95</th>\n",
       "      <td>59.2</td>\n",
       "      <td>37.2</td>\n",
       "      <td>75.45</td>\n",
       "      <td>94</td>\n",
       "      <td>93.6</td>\n",
       "      <td>61.45</td>\n",
       "      <td>71.25</td>\n",
       "      <td>56.45</td>\n",
       "    </tr>\n",
       "    <tr>\n",
       "      <th>b3_dp1_p99</th>\n",
       "      <td>59.84</td>\n",
       "      <td>37.84</td>\n",
       "      <td>75.89</td>\n",
       "      <td>94</td>\n",
       "      <td>93.92</td>\n",
       "      <td>61.89</td>\n",
       "      <td>71.85</td>\n",
       "      <td>56.89</td>\n",
       "    </tr>\n",
       "    <tr>\n",
       "      <th>b3_dp1_std</th>\n",
       "      <td>4.82534</td>\n",
       "      <td>4.7088</td>\n",
       "      <td>3.04024</td>\n",
       "      <td>1.63299</td>\n",
       "      <td>2.4037</td>\n",
       "      <td>3.06753</td>\n",
       "      <td>8.50368</td>\n",
       "      <td>5.7494</td>\n",
       "    </tr>\n",
       "  </tbody>\n",
       "</table>\n",
       "</div>"
      ],
      "text/plain": [
       "uid_x              106      56          146        37         38       61   \\\n",
       "site            legu08   hshr01  NTAGFU0024  barkely01  barkely03    lto04   \n",
       "bio_agb_kg1ha  4717.19  35199.7      689.92          0          0        0   \n",
       "b1_dp1_min           3        1           6          1          2       20   \n",
       "b1_dp1_max          24        5          15          7          5       27   \n",
       "b1_dp1_mean    8.44444  3.11111     9.16667    4.11111    3.44444  24.4167   \n",
       "b1_dp1_std     5.85209  1.36987     2.88194    1.59474   0.955814  1.89113   \n",
       "b1_dp1_med           7        3         8.5          4          3       24   \n",
       "b1_dp1_p25           5        2        6.75          4          3       24   \n",
       "b1_dp1_p50           7        3         8.5          4          3       24   \n",
       "b1_dp1_p75           9        4       10.25          4          4     25.5   \n",
       "b1_dp1_p95        18.4        5       14.45        6.6          5       27   \n",
       "b1_dp1_p99       22.88        5       14.89       6.92          5       27   \n",
       "b2_dp1_min          31       56           8          1          2       10   \n",
       "b2_dp1_max          42       73          24          4          8       20   \n",
       "b2_dp1_mean    37.1111  63.4444     18.1667    2.11111    4.22222  15.8333   \n",
       "b2_dp1_std     3.47833     5.56     4.50617   0.737028    1.93091   2.6405   \n",
       "b2_dp1_med          38       61          19          2          3     16.5   \n",
       "b2_dp1_p25          36       60       15.75          2          3       14   \n",
       "b2_dp1_p50          38       61          19          2          3     16.5   \n",
       "b2_dp1_p75          39       67       21.25          2          5       18   \n",
       "b2_dp1_p95        41.6     72.2          24        3.2        7.6     18.9   \n",
       "b2_dp1_p99       41.92    72.84          24       3.84       7.92    19.78   \n",
       "b3_dp1_min          43       23          66         89         87       52   \n",
       "b3_dp1_max          60       38          76         94         94       62   \n",
       "b3_dp1_mean    52.7778  32.2222     70.9167    92.3333    90.6667  58.0833   \n",
       "b3_dp1_med          53       35        70.5         93         92       59   \n",
       "b3_dp1_p25          50       30       68.75         92         89    56.75   \n",
       "b3_dp1_p50          53       35        70.5         93         92       59   \n",
       "b3_dp1_p75          56       36       72.75         93         92    60.25   \n",
       "b3_dp1_p95        59.2     37.2       75.45         94       93.6    61.45   \n",
       "b3_dp1_p99       59.84    37.84       75.89         94      93.92    61.89   \n",
       "b3_dp1_std     4.82534   4.7088     3.04024    1.63299     2.4037  3.06753   \n",
       "\n",
       "uid_x                  145         169  \n",
       "site            NTAGFU0023  NTAPCK0001  \n",
       "bio_agb_kg1ha  1.29347e+07     989.555  \n",
       "b1_dp1_min               2           1  \n",
       "b1_dp1_max              15          10  \n",
       "b1_dp1_mean         6.5625     4.33333  \n",
       "b1_dp1_std         3.65665     2.95334  \n",
       "b1_dp1_med               7         3.5  \n",
       "b1_dp1_p25               3           2  \n",
       "b1_dp1_p50               7         3.5  \n",
       "b1_dp1_p75               9           7  \n",
       "b1_dp1_p95           12.75         8.9  \n",
       "b1_dp1_p99           14.55        9.78  \n",
       "b2_dp1_min              21          35  \n",
       "b2_dp1_max              42          57  \n",
       "b2_dp1_mean        33.4375     47.8333  \n",
       "b2_dp1_std         6.41257     7.88282  \n",
       "b2_dp1_med              34        51.5  \n",
       "b2_dp1_p25              28       41.25  \n",
       "b2_dp1_p50              34        51.5  \n",
       "b2_dp1_p75           38.25          53  \n",
       "b2_dp1_p95              42        55.9  \n",
       "b2_dp1_p99              42       56.78  \n",
       "b3_dp1_min              48          38  \n",
       "b3_dp1_max              72          57  \n",
       "b3_dp1_mean          58.25     46.3333  \n",
       "b3_dp1_med            58.5          45  \n",
       "b3_dp1_p25              49          43  \n",
       "b3_dp1_p50            58.5          45  \n",
       "b3_dp1_p75           63.75          49  \n",
       "b3_dp1_p95           71.25       56.45  \n",
       "b3_dp1_p99           71.85       56.89  \n",
       "b3_dp1_std         8.50368      5.7494  "
      ]
     },
     "execution_count": 8,
     "metadata": {},
     "output_type": "execute_result"
    }
   ],
   "source": [
    "df.sample(8, random_state=2).T"
   ]
  },
  {
   "cell_type": "code",
   "execution_count": 9,
   "metadata": {
    "scrolled": true
   },
   "outputs": [
    {
     "name": "stdout",
     "output_type": "stream",
     "text": [
      "       bio_agb_kg1ha  b1_dp1_min  b1_dp1_max  b1_dp1_mean  b1_dp1_std  \\\n",
      "count   4.300000e+01   43.000000   43.000000    43.000000   43.000000   \n",
      "mean    3.060168e+05    5.837209   14.534884    10.082203    2.619255   \n",
      "std     1.971730e+06    7.828307   12.711728    10.819960    2.064211   \n",
      "min     0.000000e+00    1.000000    3.000000     1.333333    0.623610   \n",
      "25%     6.468000e+01    1.000000    5.500000     3.513889    1.280298   \n",
      "50%     1.358280e+03    2.000000   10.000000     5.437500    1.617802   \n",
      "75%     4.720593e+03    6.500000   22.500000    14.333333    3.623380   \n",
      "max     1.293471e+07   42.000000   69.000000    60.750000    9.568467   \n",
      "\n",
      "       b1_dp1_med  b1_dp1_p25  b1_dp1_p50  b1_dp1_p75  b1_dp1_p95  b1_dp1_p99  \\\n",
      "count   43.000000   43.000000   43.000000   43.000000   43.000000   43.000000   \n",
      "mean     9.953488    8.598837    9.953488   11.610465   13.775581   14.383023   \n",
      "std     11.135429   10.495909   11.135429   11.958174   12.461547   12.655744   \n",
      "min      1.000000    1.000000    1.000000    1.250000    2.450000    2.890000   \n",
      "25%      3.250000    2.375000    3.250000    4.000000    5.000000    5.380000   \n",
      "50%      5.000000    4.000000    5.000000    7.000000    8.900000    9.780000   \n",
      "75%     13.000000    9.000000   13.000000   19.125000   20.100000   21.940000   \n",
      "max     62.000000   59.000000   62.000000   65.750000   68.450000   68.890000   \n",
      "\n",
      "       b2_dp1_min  b2_dp1_max  b2_dp1_mean  b2_dp1_std  b2_dp1_med  \\\n",
      "count   43.000000   43.000000    43.000000   43.000000   43.000000   \n",
      "mean    25.441860   36.767442    31.020672    3.541673   31.151163   \n",
      "std     18.689572   20.930540    19.625579    2.282990   19.683367   \n",
      "min      1.000000    4.000000     2.111111    0.666667    2.000000   \n",
      "25%      7.500000   18.500000    13.416667    2.052625   13.250000   \n",
      "50%     25.000000   40.000000    33.000000    3.018462   32.000000   \n",
      "75%     39.000000   51.500000    45.166667    4.613028   45.000000   \n",
      "max     76.000000   85.000000    81.416667   12.341839   81.000000   \n",
      "\n",
      "       b2_dp1_p25  b2_dp1_p50  b2_dp1_p75  b2_dp1_p95  b2_dp1_p99  b3_dp1_min  \\\n",
      "count   43.000000   43.000000   43.000000   43.000000   43.000000   43.000000   \n",
      "mean    28.575581   31.151163   33.377907   35.986047   36.611163   51.279070   \n",
      "std     19.210809   19.683367   20.313127   20.805884   20.903935   21.229276   \n",
      "min      2.000000    2.000000    2.000000    3.200000    3.840000   10.000000   \n",
      "25%     11.500000   13.250000   16.000000   17.350000   18.270000   38.000000   \n",
      "50%     30.000000   32.000000   35.000000   38.800000   39.760000   45.000000   \n",
      "75%     41.625000   45.000000   48.000000   50.350000   51.270000   63.500000   \n",
      "max     81.000000   81.000000   84.000000   84.450000   84.890000   89.000000   \n",
      "\n",
      "       b3_dp1_max  b3_dp1_mean  b3_dp1_med  b3_dp1_p25  b3_dp1_p50  \\\n",
      "count   43.000000    43.000000   43.000000   43.000000   43.000000   \n",
      "mean    63.372093    57.391634   57.500000   55.145349   57.500000   \n",
      "std     18.342019    19.633550   19.720065   20.290248   19.720065   \n",
      "min     21.000000    14.416667   14.500000   11.750000   14.500000   \n",
      "25%     51.000000    43.444444   43.000000   39.875000   43.000000   \n",
      "50%     60.000000    52.500000   53.000000   49.000000   53.000000   \n",
      "75%     78.500000    71.291667   72.000000   68.625000   72.000000   \n",
      "max     94.000000    92.333333   93.000000   92.000000   93.000000   \n",
      "\n",
      "       b3_dp1_p75  b3_dp1_p95  b3_dp1_p99  b3_dp1_std  \n",
      "count   43.000000   43.000000   43.000000   43.000000  \n",
      "mean    59.441860   62.617442   63.221163    3.674262  \n",
      "std     19.310575   18.461227   18.363474    1.947704  \n",
      "min     15.250000   20.450000   20.890000    0.816497  \n",
      "25%     45.500000   50.400000   50.880000    2.340641  \n",
      "50%     55.000000   58.500000   59.700000    3.165570  \n",
      "75%     74.000000   77.125000   78.225000    5.258234  \n",
      "max     93.000000   94.000000   94.000000    8.503676  \n"
     ]
    }
   ],
   "source": [
    "with pd.option_context('display.max_rows', None, 'display.max_columns', None):\n",
    "    print (df.describe())"
   ]
  },
  {
   "cell_type": "code",
   "execution_count": 41,
   "metadata": {},
   "outputs": [],
   "source": [
    "key_var = ['site','bio_agb_kg1ha', 'b1_dp1_mean', 'b1_dp1_med', 'b2_dp1_mean', 'b2_dp1_med', 'b3_dp1_mean', 'b3_dp1_med']"
   ]
  },
  {
   "cell_type": "code",
   "execution_count": 42,
   "metadata": {},
   "outputs": [],
   "source": [
    "df_key = df[key_var]"
   ]
  },
  {
   "cell_type": "code",
   "execution_count": 43,
   "metadata": {},
   "outputs": [
    {
     "data": {
      "text/html": [
       "<div>\n",
       "<style scoped>\n",
       "    .dataframe tbody tr th:only-of-type {\n",
       "        vertical-align: middle;\n",
       "    }\n",
       "\n",
       "    .dataframe tbody tr th {\n",
       "        vertical-align: top;\n",
       "    }\n",
       "\n",
       "    .dataframe thead th {\n",
       "        text-align: right;\n",
       "    }\n",
       "</style>\n",
       "<table border=\"1\" class=\"dataframe\">\n",
       "  <thead>\n",
       "    <tr style=\"text-align: right;\">\n",
       "      <th></th>\n",
       "      <th>site</th>\n",
       "      <th>bio_agb_kg1ha</th>\n",
       "      <th>b1_dp1_mean</th>\n",
       "      <th>b1_dp1_med</th>\n",
       "      <th>b2_dp1_mean</th>\n",
       "      <th>b2_dp1_med</th>\n",
       "      <th>b3_dp1_mean</th>\n",
       "      <th>b3_dp1_med</th>\n",
       "    </tr>\n",
       "    <tr>\n",
       "      <th>uid_x</th>\n",
       "      <th></th>\n",
       "      <th></th>\n",
       "      <th></th>\n",
       "      <th></th>\n",
       "      <th></th>\n",
       "      <th></th>\n",
       "      <th></th>\n",
       "      <th></th>\n",
       "    </tr>\n",
       "  </thead>\n",
       "  <tbody>\n",
       "    <tr>\n",
       "      <th>37</th>\n",
       "      <td>barkely01</td>\n",
       "      <td>0.000000e+00</td>\n",
       "      <td>4.111111</td>\n",
       "      <td>4.0</td>\n",
       "      <td>2.111111</td>\n",
       "      <td>2.0</td>\n",
       "      <td>92.333333</td>\n",
       "      <td>93.0</td>\n",
       "    </tr>\n",
       "    <tr>\n",
       "      <th>39</th>\n",
       "      <td>barkely04</td>\n",
       "      <td>0.000000e+00</td>\n",
       "      <td>4.444444</td>\n",
       "      <td>5.0</td>\n",
       "      <td>3.666667</td>\n",
       "      <td>4.0</td>\n",
       "      <td>90.111111</td>\n",
       "      <td>90.0</td>\n",
       "    </tr>\n",
       "    <tr>\n",
       "      <th>38</th>\n",
       "      <td>barkely03</td>\n",
       "      <td>0.000000e+00</td>\n",
       "      <td>3.444444</td>\n",
       "      <td>3.0</td>\n",
       "      <td>4.222222</td>\n",
       "      <td>3.0</td>\n",
       "      <td>90.666667</td>\n",
       "      <td>92.0</td>\n",
       "    </tr>\n",
       "    <tr>\n",
       "      <th>41</th>\n",
       "      <td>barkely06</td>\n",
       "      <td>0.000000e+00</td>\n",
       "      <td>13.666667</td>\n",
       "      <td>14.0</td>\n",
       "      <td>24.555556</td>\n",
       "      <td>24.0</td>\n",
       "      <td>60.111111</td>\n",
       "      <td>60.0</td>\n",
       "    </tr>\n",
       "    <tr>\n",
       "      <th>52</th>\n",
       "      <td>agb02</td>\n",
       "      <td>0.000000e+00</td>\n",
       "      <td>9.333333</td>\n",
       "      <td>10.0</td>\n",
       "      <td>45.000000</td>\n",
       "      <td>44.0</td>\n",
       "      <td>44.000000</td>\n",
       "      <td>43.0</td>\n",
       "    </tr>\n",
       "    <tr>\n",
       "      <th>20</th>\n",
       "      <td>nt004</td>\n",
       "      <td>0.000000e+00</td>\n",
       "      <td>19.222222</td>\n",
       "      <td>20.0</td>\n",
       "      <td>36.555556</td>\n",
       "      <td>36.0</td>\n",
       "      <td>42.888889</td>\n",
       "      <td>43.0</td>\n",
       "    </tr>\n",
       "    <tr>\n",
       "      <th>142</th>\n",
       "      <td>NTAGFU0020</td>\n",
       "      <td>6.468000e+02</td>\n",
       "      <td>5.437500</td>\n",
       "      <td>4.0</td>\n",
       "      <td>41.750000</td>\n",
       "      <td>42.0</td>\n",
       "      <td>51.437500</td>\n",
       "      <td>52.0</td>\n",
       "    </tr>\n",
       "    <tr>\n",
       "      <th>55</th>\n",
       "      <td>girra01</td>\n",
       "      <td>1.799476e+04</td>\n",
       "      <td>15.000000</td>\n",
       "      <td>12.0</td>\n",
       "      <td>39.111111</td>\n",
       "      <td>44.0</td>\n",
       "      <td>44.333333</td>\n",
       "      <td>46.0</td>\n",
       "    </tr>\n",
       "    <tr>\n",
       "      <th>2</th>\n",
       "      <td>girra02</td>\n",
       "      <td>3.123120e+03</td>\n",
       "      <td>26.666667</td>\n",
       "      <td>28.0</td>\n",
       "      <td>18.333333</td>\n",
       "      <td>18.0</td>\n",
       "      <td>53.555556</td>\n",
       "      <td>54.0</td>\n",
       "    </tr>\n",
       "    <tr>\n",
       "      <th>56</th>\n",
       "      <td>hshr01</td>\n",
       "      <td>3.519971e+04</td>\n",
       "      <td>3.111111</td>\n",
       "      <td>3.0</td>\n",
       "      <td>63.444444</td>\n",
       "      <td>61.0</td>\n",
       "      <td>32.222222</td>\n",
       "      <td>35.0</td>\n",
       "    </tr>\n",
       "    <tr>\n",
       "      <th>143</th>\n",
       "      <td>NTAGFU0021</td>\n",
       "      <td>1.700160e+03</td>\n",
       "      <td>7.444444</td>\n",
       "      <td>7.0</td>\n",
       "      <td>9.666667</td>\n",
       "      <td>9.0</td>\n",
       "      <td>81.333333</td>\n",
       "      <td>81.0</td>\n",
       "    </tr>\n",
       "    <tr>\n",
       "      <th>59</th>\n",
       "      <td>wedo01</td>\n",
       "      <td>4.370912e+03</td>\n",
       "      <td>25.416667</td>\n",
       "      <td>26.5</td>\n",
       "      <td>33.750000</td>\n",
       "      <td>32.5</td>\n",
       "      <td>39.583333</td>\n",
       "      <td>40.5</td>\n",
       "    </tr>\n",
       "    <tr>\n",
       "      <th>144</th>\n",
       "      <td>NTAGFU0022</td>\n",
       "      <td>1.956570e+03</td>\n",
       "      <td>5.888889</td>\n",
       "      <td>6.0</td>\n",
       "      <td>8.888889</td>\n",
       "      <td>9.0</td>\n",
       "      <td>83.666667</td>\n",
       "      <td>83.0</td>\n",
       "    </tr>\n",
       "    <tr>\n",
       "      <th>145</th>\n",
       "      <td>NTAGFU0023</td>\n",
       "      <td>1.293471e+07</td>\n",
       "      <td>6.562500</td>\n",
       "      <td>7.0</td>\n",
       "      <td>33.437500</td>\n",
       "      <td>34.0</td>\n",
       "      <td>58.250000</td>\n",
       "      <td>58.5</td>\n",
       "    </tr>\n",
       "    <tr>\n",
       "      <th>146</th>\n",
       "      <td>NTAGFU0024</td>\n",
       "      <td>6.899200e+02</td>\n",
       "      <td>9.166667</td>\n",
       "      <td>8.5</td>\n",
       "      <td>18.166667</td>\n",
       "      <td>19.0</td>\n",
       "      <td>70.916667</td>\n",
       "      <td>70.5</td>\n",
       "    </tr>\n",
       "    <tr>\n",
       "      <th>147</th>\n",
       "      <td>NTAGFU0025</td>\n",
       "      <td>3.234000e+02</td>\n",
       "      <td>2.666667</td>\n",
       "      <td>2.0</td>\n",
       "      <td>33.000000</td>\n",
       "      <td>32.0</td>\n",
       "      <td>62.777778</td>\n",
       "      <td>64.0</td>\n",
       "    </tr>\n",
       "    <tr>\n",
       "      <th>57</th>\n",
       "      <td>hsf01</td>\n",
       "      <td>2.570169e+04</td>\n",
       "      <td>3.583333</td>\n",
       "      <td>3.5</td>\n",
       "      <td>59.833333</td>\n",
       "      <td>60.5</td>\n",
       "      <td>35.250000</td>\n",
       "      <td>34.5</td>\n",
       "    </tr>\n",
       "    <tr>\n",
       "      <th>58</th>\n",
       "      <td>hsf02</td>\n",
       "      <td>2.663629e+04</td>\n",
       "      <td>4.555556</td>\n",
       "      <td>4.0</td>\n",
       "      <td>55.444444</td>\n",
       "      <td>56.0</td>\n",
       "      <td>38.666667</td>\n",
       "      <td>39.0</td>\n",
       "    </tr>\n",
       "    <tr>\n",
       "      <th>60</th>\n",
       "      <td>wedo03</td>\n",
       "      <td>1.133813e+04</td>\n",
       "      <td>3.000000</td>\n",
       "      <td>3.0</td>\n",
       "      <td>43.187500</td>\n",
       "      <td>42.0</td>\n",
       "      <td>52.500000</td>\n",
       "      <td>53.0</td>\n",
       "    </tr>\n",
       "    <tr>\n",
       "      <th>54</th>\n",
       "      <td>ep01</td>\n",
       "      <td>1.875720e+04</td>\n",
       "      <td>2.500000</td>\n",
       "      <td>2.0</td>\n",
       "      <td>81.416667</td>\n",
       "      <td>81.0</td>\n",
       "      <td>14.416667</td>\n",
       "      <td>14.5</td>\n",
       "    </tr>\n",
       "    <tr>\n",
       "      <th>100</th>\n",
       "      <td>legu02</td>\n",
       "      <td>0.000000e+00</td>\n",
       "      <td>4.222222</td>\n",
       "      <td>4.0</td>\n",
       "      <td>7.777778</td>\n",
       "      <td>8.0</td>\n",
       "      <td>86.555556</td>\n",
       "      <td>86.0</td>\n",
       "    </tr>\n",
       "    <tr>\n",
       "      <th>99</th>\n",
       "      <td>legu01</td>\n",
       "      <td>2.217600e+03</td>\n",
       "      <td>4.000000</td>\n",
       "      <td>4.0</td>\n",
       "      <td>8.222222</td>\n",
       "      <td>9.0</td>\n",
       "      <td>86.555556</td>\n",
       "      <td>86.0</td>\n",
       "    </tr>\n",
       "    <tr>\n",
       "      <th>101</th>\n",
       "      <td>legu03</td>\n",
       "      <td>0.000000e+00</td>\n",
       "      <td>60.750000</td>\n",
       "      <td>62.0</td>\n",
       "      <td>4.083333</td>\n",
       "      <td>4.0</td>\n",
       "      <td>33.666667</td>\n",
       "      <td>33.0</td>\n",
       "    </tr>\n",
       "    <tr>\n",
       "      <th>103</th>\n",
       "      <td>legu05</td>\n",
       "      <td>4.723999e+03</td>\n",
       "      <td>1.888889</td>\n",
       "      <td>2.0</td>\n",
       "      <td>32.000000</td>\n",
       "      <td>32.0</td>\n",
       "      <td>64.444444</td>\n",
       "      <td>65.0</td>\n",
       "    </tr>\n",
       "    <tr>\n",
       "      <th>102</th>\n",
       "      <td>legu04</td>\n",
       "      <td>3.648393e+03</td>\n",
       "      <td>9.333333</td>\n",
       "      <td>9.5</td>\n",
       "      <td>17.416667</td>\n",
       "      <td>17.0</td>\n",
       "      <td>71.666667</td>\n",
       "      <td>73.5</td>\n",
       "    </tr>\n",
       "    <tr>\n",
       "      <th>104</th>\n",
       "      <td>legu06</td>\n",
       "      <td>7.715400e+03</td>\n",
       "      <td>2.062500</td>\n",
       "      <td>2.0</td>\n",
       "      <td>48.625000</td>\n",
       "      <td>49.0</td>\n",
       "      <td>47.875000</td>\n",
       "      <td>47.0</td>\n",
       "    </tr>\n",
       "    <tr>\n",
       "      <th>105</th>\n",
       "      <td>legu07</td>\n",
       "      <td>9.708965e+03</td>\n",
       "      <td>2.777778</td>\n",
       "      <td>2.0</td>\n",
       "      <td>46.333333</td>\n",
       "      <td>47.0</td>\n",
       "      <td>49.333333</td>\n",
       "      <td>49.0</td>\n",
       "    </tr>\n",
       "    <tr>\n",
       "      <th>106</th>\n",
       "      <td>legu08</td>\n",
       "      <td>4.717188e+03</td>\n",
       "      <td>8.444444</td>\n",
       "      <td>7.0</td>\n",
       "      <td>37.111111</td>\n",
       "      <td>38.0</td>\n",
       "      <td>52.777778</td>\n",
       "      <td>53.0</td>\n",
       "    </tr>\n",
       "    <tr>\n",
       "      <th>9</th>\n",
       "      <td>auv01</td>\n",
       "      <td>4.268880e+03</td>\n",
       "      <td>4.777778</td>\n",
       "      <td>5.0</td>\n",
       "      <td>11.000000</td>\n",
       "      <td>10.0</td>\n",
       "      <td>82.777778</td>\n",
       "      <td>84.0</td>\n",
       "    </tr>\n",
       "    <tr>\n",
       "      <th>10</th>\n",
       "      <td>auv02</td>\n",
       "      <td>3.086160e+03</td>\n",
       "      <td>20.111111</td>\n",
       "      <td>21.0</td>\n",
       "      <td>18.111111</td>\n",
       "      <td>19.0</td>\n",
       "      <td>60.000000</td>\n",
       "      <td>58.0</td>\n",
       "    </tr>\n",
       "    <tr>\n",
       "      <th>11</th>\n",
       "      <td>auv03</td>\n",
       "      <td>1.349040e+03</td>\n",
       "      <td>2.888889</td>\n",
       "      <td>3.0</td>\n",
       "      <td>7.777778</td>\n",
       "      <td>8.0</td>\n",
       "      <td>87.777778</td>\n",
       "      <td>88.0</td>\n",
       "    </tr>\n",
       "    <tr>\n",
       "      <th>12</th>\n",
       "      <td>auv04</td>\n",
       "      <td>0.000000e+00</td>\n",
       "      <td>7.777778</td>\n",
       "      <td>7.0</td>\n",
       "      <td>3.111111</td>\n",
       "      <td>3.0</td>\n",
       "      <td>87.666667</td>\n",
       "      <td>88.0</td>\n",
       "    </tr>\n",
       "    <tr>\n",
       "      <th>1</th>\n",
       "      <td>lit01</td>\n",
       "      <td>2.558507e+04</td>\n",
       "      <td>1.333333</td>\n",
       "      <td>1.0</td>\n",
       "      <td>61.750000</td>\n",
       "      <td>61.0</td>\n",
       "      <td>35.250000</td>\n",
       "      <td>36.0</td>\n",
       "    </tr>\n",
       "    <tr>\n",
       "      <th>121</th>\n",
       "      <td>NTADAC0001</td>\n",
       "      <td>2.587200e+03</td>\n",
       "      <td>19.777778</td>\n",
       "      <td>20.0</td>\n",
       "      <td>31.111111</td>\n",
       "      <td>31.0</td>\n",
       "      <td>47.777778</td>\n",
       "      <td>49.0</td>\n",
       "    </tr>\n",
       "    <tr>\n",
       "      <th>62</th>\n",
       "      <td>lto05</td>\n",
       "      <td>0.000000e+00</td>\n",
       "      <td>18.750000</td>\n",
       "      <td>18.5</td>\n",
       "      <td>31.000000</td>\n",
       "      <td>31.0</td>\n",
       "      <td>48.916667</td>\n",
       "      <td>49.0</td>\n",
       "    </tr>\n",
       "    <tr>\n",
       "      <th>61</th>\n",
       "      <td>lto04</td>\n",
       "      <td>0.000000e+00</td>\n",
       "      <td>24.416667</td>\n",
       "      <td>24.0</td>\n",
       "      <td>15.833333</td>\n",
       "      <td>16.5</td>\n",
       "      <td>58.083333</td>\n",
       "      <td>59.0</td>\n",
       "    </tr>\n",
       "    <tr>\n",
       "      <th>177</th>\n",
       "      <td>NTTDAC0001</td>\n",
       "      <td>1.293600e+02</td>\n",
       "      <td>4.111111</td>\n",
       "      <td>4.0</td>\n",
       "      <td>45.333333</td>\n",
       "      <td>46.0</td>\n",
       "      <td>49.333333</td>\n",
       "      <td>49.0</td>\n",
       "    </tr>\n",
       "    <tr>\n",
       "      <th>179</th>\n",
       "      <td>NTTPCK0001</td>\n",
       "      <td>3.880800e+02</td>\n",
       "      <td>21.000000</td>\n",
       "      <td>21.5</td>\n",
       "      <td>37.083333</td>\n",
       "      <td>38.0</td>\n",
       "      <td>40.333333</td>\n",
       "      <td>38.0</td>\n",
       "    </tr>\n",
       "    <tr>\n",
       "      <th>169</th>\n",
       "      <td>NTAPCK0001</td>\n",
       "      <td>9.895550e+02</td>\n",
       "      <td>4.333333</td>\n",
       "      <td>3.5</td>\n",
       "      <td>47.833333</td>\n",
       "      <td>51.5</td>\n",
       "      <td>46.333333</td>\n",
       "      <td>45.0</td>\n",
       "    </tr>\n",
       "    <tr>\n",
       "      <th>122</th>\n",
       "      <td>NTADAC0002</td>\n",
       "      <td>9.787396e+02</td>\n",
       "      <td>9.666667</td>\n",
       "      <td>10.5</td>\n",
       "      <td>48.666667</td>\n",
       "      <td>48.5</td>\n",
       "      <td>40.250000</td>\n",
       "      <td>40.5</td>\n",
       "    </tr>\n",
       "    <tr>\n",
       "      <th>118</th>\n",
       "      <td>NTAARP0001</td>\n",
       "      <td>1.358280e+03</td>\n",
       "      <td>2.555556</td>\n",
       "      <td>2.0</td>\n",
       "      <td>53.666667</td>\n",
       "      <td>53.0</td>\n",
       "      <td>42.111111</td>\n",
       "      <td>42.0</td>\n",
       "    </tr>\n",
       "    <tr>\n",
       "      <th>119</th>\n",
       "      <td>NTAARP0002</td>\n",
       "      <td>1.157053e+03</td>\n",
       "      <td>4.000000</td>\n",
       "      <td>4.0</td>\n",
       "      <td>30.666667</td>\n",
       "      <td>31.0</td>\n",
       "      <td>64.000000</td>\n",
       "      <td>64.0</td>\n",
       "    </tr>\n",
       "    <tr>\n",
       "      <th>120</th>\n",
       "      <td>NTAARP0003</td>\n",
       "      <td>9.702000e+02</td>\n",
       "      <td>19.333333</td>\n",
       "      <td>18.0</td>\n",
       "      <td>33.833333</td>\n",
       "      <td>35.0</td>\n",
       "      <td>45.333333</td>\n",
       "      <td>44.0</td>\n",
       "    </tr>\n",
       "  </tbody>\n",
       "</table>\n",
       "</div>"
      ],
      "text/plain": [
       "             site  bio_agb_kg1ha  b1_dp1_mean  b1_dp1_med  b2_dp1_mean  \\\n",
       "uid_x                                                                    \n",
       "37      barkely01   0.000000e+00     4.111111         4.0     2.111111   \n",
       "39      barkely04   0.000000e+00     4.444444         5.0     3.666667   \n",
       "38      barkely03   0.000000e+00     3.444444         3.0     4.222222   \n",
       "41      barkely06   0.000000e+00    13.666667        14.0    24.555556   \n",
       "52          agb02   0.000000e+00     9.333333        10.0    45.000000   \n",
       "20          nt004   0.000000e+00    19.222222        20.0    36.555556   \n",
       "142    NTAGFU0020   6.468000e+02     5.437500         4.0    41.750000   \n",
       "55        girra01   1.799476e+04    15.000000        12.0    39.111111   \n",
       "2         girra02   3.123120e+03    26.666667        28.0    18.333333   \n",
       "56         hshr01   3.519971e+04     3.111111         3.0    63.444444   \n",
       "143    NTAGFU0021   1.700160e+03     7.444444         7.0     9.666667   \n",
       "59         wedo01   4.370912e+03    25.416667        26.5    33.750000   \n",
       "144    NTAGFU0022   1.956570e+03     5.888889         6.0     8.888889   \n",
       "145    NTAGFU0023   1.293471e+07     6.562500         7.0    33.437500   \n",
       "146    NTAGFU0024   6.899200e+02     9.166667         8.5    18.166667   \n",
       "147    NTAGFU0025   3.234000e+02     2.666667         2.0    33.000000   \n",
       "57          hsf01   2.570169e+04     3.583333         3.5    59.833333   \n",
       "58          hsf02   2.663629e+04     4.555556         4.0    55.444444   \n",
       "60         wedo03   1.133813e+04     3.000000         3.0    43.187500   \n",
       "54           ep01   1.875720e+04     2.500000         2.0    81.416667   \n",
       "100        legu02   0.000000e+00     4.222222         4.0     7.777778   \n",
       "99         legu01   2.217600e+03     4.000000         4.0     8.222222   \n",
       "101        legu03   0.000000e+00    60.750000        62.0     4.083333   \n",
       "103        legu05   4.723999e+03     1.888889         2.0    32.000000   \n",
       "102        legu04   3.648393e+03     9.333333         9.5    17.416667   \n",
       "104        legu06   7.715400e+03     2.062500         2.0    48.625000   \n",
       "105        legu07   9.708965e+03     2.777778         2.0    46.333333   \n",
       "106        legu08   4.717188e+03     8.444444         7.0    37.111111   \n",
       "9           auv01   4.268880e+03     4.777778         5.0    11.000000   \n",
       "10          auv02   3.086160e+03    20.111111        21.0    18.111111   \n",
       "11          auv03   1.349040e+03     2.888889         3.0     7.777778   \n",
       "12          auv04   0.000000e+00     7.777778         7.0     3.111111   \n",
       "1           lit01   2.558507e+04     1.333333         1.0    61.750000   \n",
       "121    NTADAC0001   2.587200e+03    19.777778        20.0    31.111111   \n",
       "62          lto05   0.000000e+00    18.750000        18.5    31.000000   \n",
       "61          lto04   0.000000e+00    24.416667        24.0    15.833333   \n",
       "177    NTTDAC0001   1.293600e+02     4.111111         4.0    45.333333   \n",
       "179    NTTPCK0001   3.880800e+02    21.000000        21.5    37.083333   \n",
       "169    NTAPCK0001   9.895550e+02     4.333333         3.5    47.833333   \n",
       "122    NTADAC0002   9.787396e+02     9.666667        10.5    48.666667   \n",
       "118    NTAARP0001   1.358280e+03     2.555556         2.0    53.666667   \n",
       "119    NTAARP0002   1.157053e+03     4.000000         4.0    30.666667   \n",
       "120    NTAARP0003   9.702000e+02    19.333333        18.0    33.833333   \n",
       "\n",
       "       b2_dp1_med  b3_dp1_mean  b3_dp1_med  \n",
       "uid_x                                       \n",
       "37            2.0    92.333333        93.0  \n",
       "39            4.0    90.111111        90.0  \n",
       "38            3.0    90.666667        92.0  \n",
       "41           24.0    60.111111        60.0  \n",
       "52           44.0    44.000000        43.0  \n",
       "20           36.0    42.888889        43.0  \n",
       "142          42.0    51.437500        52.0  \n",
       "55           44.0    44.333333        46.0  \n",
       "2            18.0    53.555556        54.0  \n",
       "56           61.0    32.222222        35.0  \n",
       "143           9.0    81.333333        81.0  \n",
       "59           32.5    39.583333        40.5  \n",
       "144           9.0    83.666667        83.0  \n",
       "145          34.0    58.250000        58.5  \n",
       "146          19.0    70.916667        70.5  \n",
       "147          32.0    62.777778        64.0  \n",
       "57           60.5    35.250000        34.5  \n",
       "58           56.0    38.666667        39.0  \n",
       "60           42.0    52.500000        53.0  \n",
       "54           81.0    14.416667        14.5  \n",
       "100           8.0    86.555556        86.0  \n",
       "99            9.0    86.555556        86.0  \n",
       "101           4.0    33.666667        33.0  \n",
       "103          32.0    64.444444        65.0  \n",
       "102          17.0    71.666667        73.5  \n",
       "104          49.0    47.875000        47.0  \n",
       "105          47.0    49.333333        49.0  \n",
       "106          38.0    52.777778        53.0  \n",
       "9            10.0    82.777778        84.0  \n",
       "10           19.0    60.000000        58.0  \n",
       "11            8.0    87.777778        88.0  \n",
       "12            3.0    87.666667        88.0  \n",
       "1            61.0    35.250000        36.0  \n",
       "121          31.0    47.777778        49.0  \n",
       "62           31.0    48.916667        49.0  \n",
       "61           16.5    58.083333        59.0  \n",
       "177          46.0    49.333333        49.0  \n",
       "179          38.0    40.333333        38.0  \n",
       "169          51.5    46.333333        45.0  \n",
       "122          48.5    40.250000        40.5  \n",
       "118          53.0    42.111111        42.0  \n",
       "119          31.0    64.000000        64.0  \n",
       "120          35.0    45.333333        44.0  "
      ]
     },
     "execution_count": 43,
     "metadata": {},
     "output_type": "execute_result"
    }
   ],
   "source": [
    "df_key"
   ]
  },
  {
   "cell_type": "code",
   "execution_count": 48,
   "metadata": {},
   "outputs": [
    {
     "data": {
      "text/html": [
       "<div>\n",
       "<style scoped>\n",
       "    .dataframe tbody tr th:only-of-type {\n",
       "        vertical-align: middle;\n",
       "    }\n",
       "\n",
       "    .dataframe tbody tr th {\n",
       "        vertical-align: top;\n",
       "    }\n",
       "\n",
       "    .dataframe thead th {\n",
       "        text-align: right;\n",
       "    }\n",
       "</style>\n",
       "<table border=\"1\" class=\"dataframe\">\n",
       "  <thead>\n",
       "    <tr style=\"text-align: right;\">\n",
       "      <th></th>\n",
       "      <th>bio_agb_kg1ha</th>\n",
       "      <th>b1_dp1_mean</th>\n",
       "      <th>b1_dp1_med</th>\n",
       "      <th>b2_dp1_mean</th>\n",
       "      <th>b2_dp1_med</th>\n",
       "      <th>b3_dp1_mean</th>\n",
       "      <th>b3_dp1_med</th>\n",
       "    </tr>\n",
       "  </thead>\n",
       "  <tbody>\n",
       "    <tr>\n",
       "      <th>count</th>\n",
       "      <td>4.300000e+01</td>\n",
       "      <td>43.000000</td>\n",
       "      <td>43.000000</td>\n",
       "      <td>43.000000</td>\n",
       "      <td>43.000000</td>\n",
       "      <td>43.000000</td>\n",
       "      <td>43.000000</td>\n",
       "    </tr>\n",
       "    <tr>\n",
       "      <th>mean</th>\n",
       "      <td>3.060168e+05</td>\n",
       "      <td>10.082203</td>\n",
       "      <td>9.953488</td>\n",
       "      <td>31.020672</td>\n",
       "      <td>31.151163</td>\n",
       "      <td>57.391634</td>\n",
       "      <td>57.500000</td>\n",
       "    </tr>\n",
       "    <tr>\n",
       "      <th>std</th>\n",
       "      <td>1.971730e+06</td>\n",
       "      <td>10.819960</td>\n",
       "      <td>11.135429</td>\n",
       "      <td>19.625579</td>\n",
       "      <td>19.683367</td>\n",
       "      <td>19.633550</td>\n",
       "      <td>19.720065</td>\n",
       "    </tr>\n",
       "    <tr>\n",
       "      <th>min</th>\n",
       "      <td>0.000000e+00</td>\n",
       "      <td>1.333333</td>\n",
       "      <td>1.000000</td>\n",
       "      <td>2.111111</td>\n",
       "      <td>2.000000</td>\n",
       "      <td>14.416667</td>\n",
       "      <td>14.500000</td>\n",
       "    </tr>\n",
       "    <tr>\n",
       "      <th>25%</th>\n",
       "      <td>6.468000e+01</td>\n",
       "      <td>3.513889</td>\n",
       "      <td>3.250000</td>\n",
       "      <td>13.416667</td>\n",
       "      <td>13.250000</td>\n",
       "      <td>43.444444</td>\n",
       "      <td>43.000000</td>\n",
       "    </tr>\n",
       "    <tr>\n",
       "      <th>50%</th>\n",
       "      <td>1.358280e+03</td>\n",
       "      <td>5.437500</td>\n",
       "      <td>5.000000</td>\n",
       "      <td>33.000000</td>\n",
       "      <td>32.000000</td>\n",
       "      <td>52.500000</td>\n",
       "      <td>53.000000</td>\n",
       "    </tr>\n",
       "    <tr>\n",
       "      <th>75%</th>\n",
       "      <td>4.720593e+03</td>\n",
       "      <td>14.333333</td>\n",
       "      <td>13.000000</td>\n",
       "      <td>45.166667</td>\n",
       "      <td>45.000000</td>\n",
       "      <td>71.291667</td>\n",
       "      <td>72.000000</td>\n",
       "    </tr>\n",
       "    <tr>\n",
       "      <th>max</th>\n",
       "      <td>1.293471e+07</td>\n",
       "      <td>60.750000</td>\n",
       "      <td>62.000000</td>\n",
       "      <td>81.416667</td>\n",
       "      <td>81.000000</td>\n",
       "      <td>92.333333</td>\n",
       "      <td>93.000000</td>\n",
       "    </tr>\n",
       "  </tbody>\n",
       "</table>\n",
       "</div>"
      ],
      "text/plain": [
       "       bio_agb_kg1ha  b1_dp1_mean  b1_dp1_med  b2_dp1_mean  b2_dp1_med  \\\n",
       "count   4.300000e+01    43.000000   43.000000    43.000000   43.000000   \n",
       "mean    3.060168e+05    10.082203    9.953488    31.020672   31.151163   \n",
       "std     1.971730e+06    10.819960   11.135429    19.625579   19.683367   \n",
       "min     0.000000e+00     1.333333    1.000000     2.111111    2.000000   \n",
       "25%     6.468000e+01     3.513889    3.250000    13.416667   13.250000   \n",
       "50%     1.358280e+03     5.437500    5.000000    33.000000   32.000000   \n",
       "75%     4.720593e+03    14.333333   13.000000    45.166667   45.000000   \n",
       "max     1.293471e+07    60.750000   62.000000    81.416667   81.000000   \n",
       "\n",
       "       b3_dp1_mean  b3_dp1_med  \n",
       "count    43.000000   43.000000  \n",
       "mean     57.391634   57.500000  \n",
       "std      19.633550   19.720065  \n",
       "min      14.416667   14.500000  \n",
       "25%      43.444444   43.000000  \n",
       "50%      52.500000   53.000000  \n",
       "75%      71.291667   72.000000  \n",
       "max      92.333333   93.000000  "
      ]
     },
     "execution_count": 48,
     "metadata": {},
     "output_type": "execute_result"
    }
   ],
   "source": [
    "df_key.describe()"
   ]
  },
  {
   "cell_type": "markdown",
   "metadata": {},
   "source": [
    "Substantial differences between the mean and median, as an indication of skewness."
   ]
  },
  {
   "cell_type": "markdown",
   "metadata": {},
   "source": [
    "The interquartile range is also the target value, with the 75th percentile value being about 800 times larger than the 25th percentile value (9210.71, 18.48). We can compare that with the band median and means; b2 has the largest distribution and woyld likly be better at explaining the differences with the target vale; however, the 75th percentile value being about 5 times larger than the 25th percentile vale (55, 11)."
   ]
  },
  {
   "cell_type": "code",
   "execution_count": 49,
   "metadata": {},
   "outputs": [
    {
     "data": {
      "text/html": [
       "<div>\n",
       "<style scoped>\n",
       "    .dataframe tbody tr th:only-of-type {\n",
       "        vertical-align: middle;\n",
       "    }\n",
       "\n",
       "    .dataframe tbody tr th {\n",
       "        vertical-align: top;\n",
       "    }\n",
       "\n",
       "    .dataframe thead th {\n",
       "        text-align: right;\n",
       "    }\n",
       "</style>\n",
       "<table border=\"1\" class=\"dataframe\">\n",
       "  <thead>\n",
       "    <tr style=\"text-align: right;\">\n",
       "      <th></th>\n",
       "      <th>bio_agb_kg1ha</th>\n",
       "      <th>b1_dp1_mean</th>\n",
       "      <th>b1_dp1_med</th>\n",
       "      <th>b2_dp1_mean</th>\n",
       "      <th>b2_dp1_med</th>\n",
       "      <th>b3_dp1_mean</th>\n",
       "      <th>b3_dp1_med</th>\n",
       "    </tr>\n",
       "  </thead>\n",
       "  <tbody>\n",
       "    <tr>\n",
       "      <th>0.0</th>\n",
       "      <td>0.000000e+00</td>\n",
       "      <td>1.333333</td>\n",
       "      <td>1.0</td>\n",
       "      <td>2.111111</td>\n",
       "      <td>2.0</td>\n",
       "      <td>14.416667</td>\n",
       "      <td>14.5</td>\n",
       "    </tr>\n",
       "    <tr>\n",
       "      <th>0.1</th>\n",
       "      <td>0.000000e+00</td>\n",
       "      <td>2.577778</td>\n",
       "      <td>2.0</td>\n",
       "      <td>4.933333</td>\n",
       "      <td>4.8</td>\n",
       "      <td>35.933333</td>\n",
       "      <td>36.4</td>\n",
       "    </tr>\n",
       "    <tr>\n",
       "      <th>0.2</th>\n",
       "      <td>0.000000e+00</td>\n",
       "      <td>3.044444</td>\n",
       "      <td>3.0</td>\n",
       "      <td>9.200000</td>\n",
       "      <td>9.0</td>\n",
       "      <td>41.044444</td>\n",
       "      <td>41.1</td>\n",
       "    </tr>\n",
       "    <tr>\n",
       "      <th>0.3</th>\n",
       "      <td>3.622080e+02</td>\n",
       "      <td>4.000000</td>\n",
       "      <td>3.8</td>\n",
       "      <td>17.833333</td>\n",
       "      <td>17.6</td>\n",
       "      <td>44.933333</td>\n",
       "      <td>44.6</td>\n",
       "    </tr>\n",
       "    <tr>\n",
       "      <th>0.4</th>\n",
       "      <td>9.770317e+02</td>\n",
       "      <td>4.311111</td>\n",
       "      <td>4.0</td>\n",
       "      <td>29.444444</td>\n",
       "      <td>29.6</td>\n",
       "      <td>48.708333</td>\n",
       "      <td>49.0</td>\n",
       "    </tr>\n",
       "    <tr>\n",
       "      <th>0.5</th>\n",
       "      <td>1.358280e+03</td>\n",
       "      <td>5.437500</td>\n",
       "      <td>5.0</td>\n",
       "      <td>33.000000</td>\n",
       "      <td>32.0</td>\n",
       "      <td>52.500000</td>\n",
       "      <td>53.0</td>\n",
       "    </tr>\n",
       "    <tr>\n",
       "      <th>0.6</th>\n",
       "      <td>2.686992e+03</td>\n",
       "      <td>7.911111</td>\n",
       "      <td>7.0</td>\n",
       "      <td>36.661111</td>\n",
       "      <td>36.4</td>\n",
       "      <td>58.600000</td>\n",
       "      <td>58.6</td>\n",
       "    </tr>\n",
       "    <tr>\n",
       "      <th>0.7</th>\n",
       "      <td>4.309693e+03</td>\n",
       "      <td>9.466667</td>\n",
       "      <td>10.2</td>\n",
       "      <td>42.325000</td>\n",
       "      <td>42.8</td>\n",
       "      <td>64.177778</td>\n",
       "      <td>64.4</td>\n",
       "    </tr>\n",
       "    <tr>\n",
       "      <th>0.8</th>\n",
       "      <td>8.911539e+03</td>\n",
       "      <td>19.033333</td>\n",
       "      <td>18.3</td>\n",
       "      <td>47.233333</td>\n",
       "      <td>47.9</td>\n",
       "      <td>82.200000</td>\n",
       "      <td>82.2</td>\n",
       "    </tr>\n",
       "    <tr>\n",
       "      <th>0.9</th>\n",
       "      <td>2.421950e+04</td>\n",
       "      <td>20.822222</td>\n",
       "      <td>21.4</td>\n",
       "      <td>55.088889</td>\n",
       "      <td>55.4</td>\n",
       "      <td>87.444444</td>\n",
       "      <td>87.6</td>\n",
       "    </tr>\n",
       "    <tr>\n",
       "      <th>1.0</th>\n",
       "      <td>1.293471e+07</td>\n",
       "      <td>60.750000</td>\n",
       "      <td>62.0</td>\n",
       "      <td>81.416667</td>\n",
       "      <td>81.0</td>\n",
       "      <td>92.333333</td>\n",
       "      <td>93.0</td>\n",
       "    </tr>\n",
       "  </tbody>\n",
       "</table>\n",
       "</div>"
      ],
      "text/plain": [
       "     bio_agb_kg1ha  b1_dp1_mean  b1_dp1_med  b2_dp1_mean  b2_dp1_med  \\\n",
       "0.0   0.000000e+00     1.333333         1.0     2.111111         2.0   \n",
       "0.1   0.000000e+00     2.577778         2.0     4.933333         4.8   \n",
       "0.2   0.000000e+00     3.044444         3.0     9.200000         9.0   \n",
       "0.3   3.622080e+02     4.000000         3.8    17.833333        17.6   \n",
       "0.4   9.770317e+02     4.311111         4.0    29.444444        29.6   \n",
       "0.5   1.358280e+03     5.437500         5.0    33.000000        32.0   \n",
       "0.6   2.686992e+03     7.911111         7.0    36.661111        36.4   \n",
       "0.7   4.309693e+03     9.466667        10.2    42.325000        42.8   \n",
       "0.8   8.911539e+03    19.033333        18.3    47.233333        47.9   \n",
       "0.9   2.421950e+04    20.822222        21.4    55.088889        55.4   \n",
       "1.0   1.293471e+07    60.750000        62.0    81.416667        81.0   \n",
       "\n",
       "     b3_dp1_mean  b3_dp1_med  \n",
       "0.0    14.416667        14.5  \n",
       "0.1    35.933333        36.4  \n",
       "0.2    41.044444        41.1  \n",
       "0.3    44.933333        44.6  \n",
       "0.4    48.708333        49.0  \n",
       "0.5    52.500000        53.0  \n",
       "0.6    58.600000        58.6  \n",
       "0.7    64.177778        64.4  \n",
       "0.8    82.200000        82.2  \n",
       "0.9    87.444444        87.6  \n",
       "1.0    92.333333        93.0  "
      ]
     },
     "execution_count": 49,
     "metadata": {},
     "output_type": "execute_result"
    }
   ],
   "source": [
    "df_key.quantile(np.arange(0.0, 1.1, 0.1))"
   ]
  },
  {
   "cell_type": "markdown",
   "metadata": {},
   "source": [
    "Normal distributions are distributed symmetrically (have low skew), and that they have relatively normal tails (neither excessively high nor excessively low kurtosis)."
   ]
  },
  {
   "cell_type": "markdown",
   "metadata": {},
   "source": [
    "Expect a value near 0 for skew and 3 for kurtosis"
   ]
  },
  {
   "cell_type": "code",
   "execution_count": 50,
   "metadata": {
    "scrolled": true
   },
   "outputs": [
    {
     "data": {
      "text/plain": [
       "bio_agb_kg1ha    6.557239\n",
       "b1_dp1_mean      2.754622\n",
       "b1_dp1_med       2.763239\n",
       "b2_dp1_mean      0.287639\n",
       "b2_dp1_med       0.241720\n",
       "b3_dp1_mean      0.341680\n",
       "b3_dp1_med       0.350316\n",
       "dtype: float64"
      ]
     },
     "execution_count": 50,
     "metadata": {},
     "output_type": "execute_result"
    }
   ],
   "source": [
    "df_key.skew()"
   ]
  },
  {
   "cell_type": "code",
   "execution_count": 51,
   "metadata": {},
   "outputs": [
    {
     "data": {
      "text/plain": [
       "bio_agb_kg1ha    42.998209\n",
       "b1_dp1_mean      10.535789\n",
       "b1_dp1_med       10.483439\n",
       "b2_dp1_mean      -0.496410\n",
       "b2_dp1_med       -0.591659\n",
       "b3_dp1_mean      -0.724601\n",
       "b3_dp1_med       -0.737277\n",
       "dtype: float64"
      ]
     },
     "execution_count": 51,
     "metadata": {},
     "output_type": "execute_result"
    }
   ],
   "source": [
    "df_key.kurtosis()"
   ]
  },
  {
   "cell_type": "markdown",
   "metadata": {},
   "source": [
    "### Shapiro-Wilk test"
   ]
  },
  {
   "cell_type": "markdown",
   "metadata": {},
   "source": [
    "Shapiro-Wilk test on the distribution.\n",
    "P-values less than 0.05 indicate that we can reject the null hypothesis of normal distribution."
   ]
  },
  {
   "cell_type": "markdown",
   "metadata": {},
   "source": [
    "Note: non normal distribution may limit the models (i.e. linear regression)"
   ]
  },
  {
   "cell_type": "code",
   "execution_count": 52,
   "metadata": {},
   "outputs": [
    {
     "name": "stdout",
     "output_type": "stream",
     "text": [
      "feature= bio_agb_kg1ha      p-value= 0.000000\n",
      "feature= b1_dp1_mean      p-value= 0.000000\n",
      "feature= b1_dp1_med      p-value= 0.000000\n",
      "feature= b2_dp1_mean      p-value= 0.099906\n",
      "feature= b2_dp1_med      p-value= 0.093063\n",
      "feature= b3_dp1_mean      p-value= 0.016174\n",
      "feature= b3_dp1_med      p-value= 0.016977\n"
     ]
    }
   ],
   "source": [
    "for var in key_var[1:]:\n",
    "\n",
    "      stat, p = scistat.shapiro(df_key[var].dropna())\n",
    "\n",
    "      print(\"feature=\", var, \"     p-value=\", '{:.6f}'.format(p))"
   ]
  },
  {
   "cell_type": "markdown",
   "metadata": {},
   "source": [
    "## Identifying extreme values and outliers in univariate analysis"
   ]
  },
  {
   "cell_type": "code",
   "execution_count": 53,
   "metadata": {},
   "outputs": [
    {
     "data": {
      "text/html": [
       "<div>\n",
       "<style scoped>\n",
       "    .dataframe tbody tr th:only-of-type {\n",
       "        vertical-align: middle;\n",
       "    }\n",
       "\n",
       "    .dataframe tbody tr th {\n",
       "        vertical-align: top;\n",
       "    }\n",
       "\n",
       "    .dataframe thead th {\n",
       "        text-align: right;\n",
       "    }\n",
       "</style>\n",
       "<table border=\"1\" class=\"dataframe\">\n",
       "  <thead>\n",
       "    <tr style=\"text-align: right;\">\n",
       "      <th></th>\n",
       "      <th>site</th>\n",
       "      <th>bio_agb_kg1ha</th>\n",
       "      <th>b1_dp1_mean</th>\n",
       "      <th>b1_dp1_med</th>\n",
       "      <th>b2_dp1_mean</th>\n",
       "      <th>b2_dp1_med</th>\n",
       "      <th>b3_dp1_mean</th>\n",
       "      <th>b3_dp1_med</th>\n",
       "    </tr>\n",
       "    <tr>\n",
       "      <th>uid_x</th>\n",
       "      <th></th>\n",
       "      <th></th>\n",
       "      <th></th>\n",
       "      <th></th>\n",
       "      <th></th>\n",
       "      <th></th>\n",
       "      <th></th>\n",
       "      <th></th>\n",
       "    </tr>\n",
       "  </thead>\n",
       "  <tbody>\n",
       "    <tr>\n",
       "      <th>37</th>\n",
       "      <td>barkely01</td>\n",
       "      <td>0.000000e+00</td>\n",
       "      <td>4.111111</td>\n",
       "      <td>4.0</td>\n",
       "      <td>2.111111</td>\n",
       "      <td>2.0</td>\n",
       "      <td>92.333333</td>\n",
       "      <td>93.0</td>\n",
       "    </tr>\n",
       "    <tr>\n",
       "      <th>39</th>\n",
       "      <td>barkely04</td>\n",
       "      <td>0.000000e+00</td>\n",
       "      <td>4.444444</td>\n",
       "      <td>5.0</td>\n",
       "      <td>3.666667</td>\n",
       "      <td>4.0</td>\n",
       "      <td>90.111111</td>\n",
       "      <td>90.0</td>\n",
       "    </tr>\n",
       "    <tr>\n",
       "      <th>38</th>\n",
       "      <td>barkely03</td>\n",
       "      <td>0.000000e+00</td>\n",
       "      <td>3.444444</td>\n",
       "      <td>3.0</td>\n",
       "      <td>4.222222</td>\n",
       "      <td>3.0</td>\n",
       "      <td>90.666667</td>\n",
       "      <td>92.0</td>\n",
       "    </tr>\n",
       "    <tr>\n",
       "      <th>41</th>\n",
       "      <td>barkely06</td>\n",
       "      <td>0.000000e+00</td>\n",
       "      <td>13.666667</td>\n",
       "      <td>14.0</td>\n",
       "      <td>24.555556</td>\n",
       "      <td>24.0</td>\n",
       "      <td>60.111111</td>\n",
       "      <td>60.0</td>\n",
       "    </tr>\n",
       "    <tr>\n",
       "      <th>52</th>\n",
       "      <td>agb02</td>\n",
       "      <td>0.000000e+00</td>\n",
       "      <td>9.333333</td>\n",
       "      <td>10.0</td>\n",
       "      <td>45.000000</td>\n",
       "      <td>44.0</td>\n",
       "      <td>44.000000</td>\n",
       "      <td>43.0</td>\n",
       "    </tr>\n",
       "    <tr>\n",
       "      <th>20</th>\n",
       "      <td>nt004</td>\n",
       "      <td>0.000000e+00</td>\n",
       "      <td>19.222222</td>\n",
       "      <td>20.0</td>\n",
       "      <td>36.555556</td>\n",
       "      <td>36.0</td>\n",
       "      <td>42.888889</td>\n",
       "      <td>43.0</td>\n",
       "    </tr>\n",
       "    <tr>\n",
       "      <th>142</th>\n",
       "      <td>NTAGFU0020</td>\n",
       "      <td>6.468000e+02</td>\n",
       "      <td>5.437500</td>\n",
       "      <td>4.0</td>\n",
       "      <td>41.750000</td>\n",
       "      <td>42.0</td>\n",
       "      <td>51.437500</td>\n",
       "      <td>52.0</td>\n",
       "    </tr>\n",
       "    <tr>\n",
       "      <th>55</th>\n",
       "      <td>girra01</td>\n",
       "      <td>1.799476e+04</td>\n",
       "      <td>15.000000</td>\n",
       "      <td>12.0</td>\n",
       "      <td>39.111111</td>\n",
       "      <td>44.0</td>\n",
       "      <td>44.333333</td>\n",
       "      <td>46.0</td>\n",
       "    </tr>\n",
       "    <tr>\n",
       "      <th>2</th>\n",
       "      <td>girra02</td>\n",
       "      <td>3.123120e+03</td>\n",
       "      <td>26.666667</td>\n",
       "      <td>28.0</td>\n",
       "      <td>18.333333</td>\n",
       "      <td>18.0</td>\n",
       "      <td>53.555556</td>\n",
       "      <td>54.0</td>\n",
       "    </tr>\n",
       "    <tr>\n",
       "      <th>56</th>\n",
       "      <td>hshr01</td>\n",
       "      <td>3.519971e+04</td>\n",
       "      <td>3.111111</td>\n",
       "      <td>3.0</td>\n",
       "      <td>63.444444</td>\n",
       "      <td>61.0</td>\n",
       "      <td>32.222222</td>\n",
       "      <td>35.0</td>\n",
       "    </tr>\n",
       "    <tr>\n",
       "      <th>143</th>\n",
       "      <td>NTAGFU0021</td>\n",
       "      <td>1.700160e+03</td>\n",
       "      <td>7.444444</td>\n",
       "      <td>7.0</td>\n",
       "      <td>9.666667</td>\n",
       "      <td>9.0</td>\n",
       "      <td>81.333333</td>\n",
       "      <td>81.0</td>\n",
       "    </tr>\n",
       "    <tr>\n",
       "      <th>59</th>\n",
       "      <td>wedo01</td>\n",
       "      <td>4.370912e+03</td>\n",
       "      <td>25.416667</td>\n",
       "      <td>26.5</td>\n",
       "      <td>33.750000</td>\n",
       "      <td>32.5</td>\n",
       "      <td>39.583333</td>\n",
       "      <td>40.5</td>\n",
       "    </tr>\n",
       "    <tr>\n",
       "      <th>144</th>\n",
       "      <td>NTAGFU0022</td>\n",
       "      <td>1.956570e+03</td>\n",
       "      <td>5.888889</td>\n",
       "      <td>6.0</td>\n",
       "      <td>8.888889</td>\n",
       "      <td>9.0</td>\n",
       "      <td>83.666667</td>\n",
       "      <td>83.0</td>\n",
       "    </tr>\n",
       "    <tr>\n",
       "      <th>145</th>\n",
       "      <td>NTAGFU0023</td>\n",
       "      <td>1.293471e+07</td>\n",
       "      <td>6.562500</td>\n",
       "      <td>7.0</td>\n",
       "      <td>33.437500</td>\n",
       "      <td>34.0</td>\n",
       "      <td>58.250000</td>\n",
       "      <td>58.5</td>\n",
       "    </tr>\n",
       "    <tr>\n",
       "      <th>146</th>\n",
       "      <td>NTAGFU0024</td>\n",
       "      <td>6.899200e+02</td>\n",
       "      <td>9.166667</td>\n",
       "      <td>8.5</td>\n",
       "      <td>18.166667</td>\n",
       "      <td>19.0</td>\n",
       "      <td>70.916667</td>\n",
       "      <td>70.5</td>\n",
       "    </tr>\n",
       "    <tr>\n",
       "      <th>147</th>\n",
       "      <td>NTAGFU0025</td>\n",
       "      <td>3.234000e+02</td>\n",
       "      <td>2.666667</td>\n",
       "      <td>2.0</td>\n",
       "      <td>33.000000</td>\n",
       "      <td>32.0</td>\n",
       "      <td>62.777778</td>\n",
       "      <td>64.0</td>\n",
       "    </tr>\n",
       "    <tr>\n",
       "      <th>57</th>\n",
       "      <td>hsf01</td>\n",
       "      <td>2.570169e+04</td>\n",
       "      <td>3.583333</td>\n",
       "      <td>3.5</td>\n",
       "      <td>59.833333</td>\n",
       "      <td>60.5</td>\n",
       "      <td>35.250000</td>\n",
       "      <td>34.5</td>\n",
       "    </tr>\n",
       "    <tr>\n",
       "      <th>58</th>\n",
       "      <td>hsf02</td>\n",
       "      <td>2.663629e+04</td>\n",
       "      <td>4.555556</td>\n",
       "      <td>4.0</td>\n",
       "      <td>55.444444</td>\n",
       "      <td>56.0</td>\n",
       "      <td>38.666667</td>\n",
       "      <td>39.0</td>\n",
       "    </tr>\n",
       "    <tr>\n",
       "      <th>60</th>\n",
       "      <td>wedo03</td>\n",
       "      <td>1.133813e+04</td>\n",
       "      <td>3.000000</td>\n",
       "      <td>3.0</td>\n",
       "      <td>43.187500</td>\n",
       "      <td>42.0</td>\n",
       "      <td>52.500000</td>\n",
       "      <td>53.0</td>\n",
       "    </tr>\n",
       "    <tr>\n",
       "      <th>54</th>\n",
       "      <td>ep01</td>\n",
       "      <td>1.875720e+04</td>\n",
       "      <td>2.500000</td>\n",
       "      <td>2.0</td>\n",
       "      <td>81.416667</td>\n",
       "      <td>81.0</td>\n",
       "      <td>14.416667</td>\n",
       "      <td>14.5</td>\n",
       "    </tr>\n",
       "    <tr>\n",
       "      <th>100</th>\n",
       "      <td>legu02</td>\n",
       "      <td>0.000000e+00</td>\n",
       "      <td>4.222222</td>\n",
       "      <td>4.0</td>\n",
       "      <td>7.777778</td>\n",
       "      <td>8.0</td>\n",
       "      <td>86.555556</td>\n",
       "      <td>86.0</td>\n",
       "    </tr>\n",
       "    <tr>\n",
       "      <th>99</th>\n",
       "      <td>legu01</td>\n",
       "      <td>2.217600e+03</td>\n",
       "      <td>4.000000</td>\n",
       "      <td>4.0</td>\n",
       "      <td>8.222222</td>\n",
       "      <td>9.0</td>\n",
       "      <td>86.555556</td>\n",
       "      <td>86.0</td>\n",
       "    </tr>\n",
       "    <tr>\n",
       "      <th>101</th>\n",
       "      <td>legu03</td>\n",
       "      <td>0.000000e+00</td>\n",
       "      <td>60.750000</td>\n",
       "      <td>62.0</td>\n",
       "      <td>4.083333</td>\n",
       "      <td>4.0</td>\n",
       "      <td>33.666667</td>\n",
       "      <td>33.0</td>\n",
       "    </tr>\n",
       "    <tr>\n",
       "      <th>103</th>\n",
       "      <td>legu05</td>\n",
       "      <td>4.723999e+03</td>\n",
       "      <td>1.888889</td>\n",
       "      <td>2.0</td>\n",
       "      <td>32.000000</td>\n",
       "      <td>32.0</td>\n",
       "      <td>64.444444</td>\n",
       "      <td>65.0</td>\n",
       "    </tr>\n",
       "    <tr>\n",
       "      <th>102</th>\n",
       "      <td>legu04</td>\n",
       "      <td>3.648393e+03</td>\n",
       "      <td>9.333333</td>\n",
       "      <td>9.5</td>\n",
       "      <td>17.416667</td>\n",
       "      <td>17.0</td>\n",
       "      <td>71.666667</td>\n",
       "      <td>73.5</td>\n",
       "    </tr>\n",
       "    <tr>\n",
       "      <th>104</th>\n",
       "      <td>legu06</td>\n",
       "      <td>7.715400e+03</td>\n",
       "      <td>2.062500</td>\n",
       "      <td>2.0</td>\n",
       "      <td>48.625000</td>\n",
       "      <td>49.0</td>\n",
       "      <td>47.875000</td>\n",
       "      <td>47.0</td>\n",
       "    </tr>\n",
       "    <tr>\n",
       "      <th>105</th>\n",
       "      <td>legu07</td>\n",
       "      <td>9.708965e+03</td>\n",
       "      <td>2.777778</td>\n",
       "      <td>2.0</td>\n",
       "      <td>46.333333</td>\n",
       "      <td>47.0</td>\n",
       "      <td>49.333333</td>\n",
       "      <td>49.0</td>\n",
       "    </tr>\n",
       "    <tr>\n",
       "      <th>106</th>\n",
       "      <td>legu08</td>\n",
       "      <td>4.717188e+03</td>\n",
       "      <td>8.444444</td>\n",
       "      <td>7.0</td>\n",
       "      <td>37.111111</td>\n",
       "      <td>38.0</td>\n",
       "      <td>52.777778</td>\n",
       "      <td>53.0</td>\n",
       "    </tr>\n",
       "    <tr>\n",
       "      <th>9</th>\n",
       "      <td>auv01</td>\n",
       "      <td>4.268880e+03</td>\n",
       "      <td>4.777778</td>\n",
       "      <td>5.0</td>\n",
       "      <td>11.000000</td>\n",
       "      <td>10.0</td>\n",
       "      <td>82.777778</td>\n",
       "      <td>84.0</td>\n",
       "    </tr>\n",
       "    <tr>\n",
       "      <th>10</th>\n",
       "      <td>auv02</td>\n",
       "      <td>3.086160e+03</td>\n",
       "      <td>20.111111</td>\n",
       "      <td>21.0</td>\n",
       "      <td>18.111111</td>\n",
       "      <td>19.0</td>\n",
       "      <td>60.000000</td>\n",
       "      <td>58.0</td>\n",
       "    </tr>\n",
       "    <tr>\n",
       "      <th>11</th>\n",
       "      <td>auv03</td>\n",
       "      <td>1.349040e+03</td>\n",
       "      <td>2.888889</td>\n",
       "      <td>3.0</td>\n",
       "      <td>7.777778</td>\n",
       "      <td>8.0</td>\n",
       "      <td>87.777778</td>\n",
       "      <td>88.0</td>\n",
       "    </tr>\n",
       "    <tr>\n",
       "      <th>12</th>\n",
       "      <td>auv04</td>\n",
       "      <td>0.000000e+00</td>\n",
       "      <td>7.777778</td>\n",
       "      <td>7.0</td>\n",
       "      <td>3.111111</td>\n",
       "      <td>3.0</td>\n",
       "      <td>87.666667</td>\n",
       "      <td>88.0</td>\n",
       "    </tr>\n",
       "    <tr>\n",
       "      <th>1</th>\n",
       "      <td>lit01</td>\n",
       "      <td>2.558507e+04</td>\n",
       "      <td>1.333333</td>\n",
       "      <td>1.0</td>\n",
       "      <td>61.750000</td>\n",
       "      <td>61.0</td>\n",
       "      <td>35.250000</td>\n",
       "      <td>36.0</td>\n",
       "    </tr>\n",
       "    <tr>\n",
       "      <th>121</th>\n",
       "      <td>NTADAC0001</td>\n",
       "      <td>2.587200e+03</td>\n",
       "      <td>19.777778</td>\n",
       "      <td>20.0</td>\n",
       "      <td>31.111111</td>\n",
       "      <td>31.0</td>\n",
       "      <td>47.777778</td>\n",
       "      <td>49.0</td>\n",
       "    </tr>\n",
       "    <tr>\n",
       "      <th>62</th>\n",
       "      <td>lto05</td>\n",
       "      <td>0.000000e+00</td>\n",
       "      <td>18.750000</td>\n",
       "      <td>18.5</td>\n",
       "      <td>31.000000</td>\n",
       "      <td>31.0</td>\n",
       "      <td>48.916667</td>\n",
       "      <td>49.0</td>\n",
       "    </tr>\n",
       "    <tr>\n",
       "      <th>61</th>\n",
       "      <td>lto04</td>\n",
       "      <td>0.000000e+00</td>\n",
       "      <td>24.416667</td>\n",
       "      <td>24.0</td>\n",
       "      <td>15.833333</td>\n",
       "      <td>16.5</td>\n",
       "      <td>58.083333</td>\n",
       "      <td>59.0</td>\n",
       "    </tr>\n",
       "    <tr>\n",
       "      <th>177</th>\n",
       "      <td>NTTDAC0001</td>\n",
       "      <td>1.293600e+02</td>\n",
       "      <td>4.111111</td>\n",
       "      <td>4.0</td>\n",
       "      <td>45.333333</td>\n",
       "      <td>46.0</td>\n",
       "      <td>49.333333</td>\n",
       "      <td>49.0</td>\n",
       "    </tr>\n",
       "    <tr>\n",
       "      <th>179</th>\n",
       "      <td>NTTPCK0001</td>\n",
       "      <td>3.880800e+02</td>\n",
       "      <td>21.000000</td>\n",
       "      <td>21.5</td>\n",
       "      <td>37.083333</td>\n",
       "      <td>38.0</td>\n",
       "      <td>40.333333</td>\n",
       "      <td>38.0</td>\n",
       "    </tr>\n",
       "    <tr>\n",
       "      <th>169</th>\n",
       "      <td>NTAPCK0001</td>\n",
       "      <td>9.895550e+02</td>\n",
       "      <td>4.333333</td>\n",
       "      <td>3.5</td>\n",
       "      <td>47.833333</td>\n",
       "      <td>51.5</td>\n",
       "      <td>46.333333</td>\n",
       "      <td>45.0</td>\n",
       "    </tr>\n",
       "    <tr>\n",
       "      <th>122</th>\n",
       "      <td>NTADAC0002</td>\n",
       "      <td>9.787396e+02</td>\n",
       "      <td>9.666667</td>\n",
       "      <td>10.5</td>\n",
       "      <td>48.666667</td>\n",
       "      <td>48.5</td>\n",
       "      <td>40.250000</td>\n",
       "      <td>40.5</td>\n",
       "    </tr>\n",
       "    <tr>\n",
       "      <th>118</th>\n",
       "      <td>NTAARP0001</td>\n",
       "      <td>1.358280e+03</td>\n",
       "      <td>2.555556</td>\n",
       "      <td>2.0</td>\n",
       "      <td>53.666667</td>\n",
       "      <td>53.0</td>\n",
       "      <td>42.111111</td>\n",
       "      <td>42.0</td>\n",
       "    </tr>\n",
       "    <tr>\n",
       "      <th>119</th>\n",
       "      <td>NTAARP0002</td>\n",
       "      <td>1.157053e+03</td>\n",
       "      <td>4.000000</td>\n",
       "      <td>4.0</td>\n",
       "      <td>30.666667</td>\n",
       "      <td>31.0</td>\n",
       "      <td>64.000000</td>\n",
       "      <td>64.0</td>\n",
       "    </tr>\n",
       "    <tr>\n",
       "      <th>120</th>\n",
       "      <td>NTAARP0003</td>\n",
       "      <td>9.702000e+02</td>\n",
       "      <td>19.333333</td>\n",
       "      <td>18.0</td>\n",
       "      <td>33.833333</td>\n",
       "      <td>35.0</td>\n",
       "      <td>45.333333</td>\n",
       "      <td>44.0</td>\n",
       "    </tr>\n",
       "  </tbody>\n",
       "</table>\n",
       "</div>"
      ],
      "text/plain": [
       "             site  bio_agb_kg1ha  b1_dp1_mean  b1_dp1_med  b2_dp1_mean  \\\n",
       "uid_x                                                                    \n",
       "37      barkely01   0.000000e+00     4.111111         4.0     2.111111   \n",
       "39      barkely04   0.000000e+00     4.444444         5.0     3.666667   \n",
       "38      barkely03   0.000000e+00     3.444444         3.0     4.222222   \n",
       "41      barkely06   0.000000e+00    13.666667        14.0    24.555556   \n",
       "52          agb02   0.000000e+00     9.333333        10.0    45.000000   \n",
       "20          nt004   0.000000e+00    19.222222        20.0    36.555556   \n",
       "142    NTAGFU0020   6.468000e+02     5.437500         4.0    41.750000   \n",
       "55        girra01   1.799476e+04    15.000000        12.0    39.111111   \n",
       "2         girra02   3.123120e+03    26.666667        28.0    18.333333   \n",
       "56         hshr01   3.519971e+04     3.111111         3.0    63.444444   \n",
       "143    NTAGFU0021   1.700160e+03     7.444444         7.0     9.666667   \n",
       "59         wedo01   4.370912e+03    25.416667        26.5    33.750000   \n",
       "144    NTAGFU0022   1.956570e+03     5.888889         6.0     8.888889   \n",
       "145    NTAGFU0023   1.293471e+07     6.562500         7.0    33.437500   \n",
       "146    NTAGFU0024   6.899200e+02     9.166667         8.5    18.166667   \n",
       "147    NTAGFU0025   3.234000e+02     2.666667         2.0    33.000000   \n",
       "57          hsf01   2.570169e+04     3.583333         3.5    59.833333   \n",
       "58          hsf02   2.663629e+04     4.555556         4.0    55.444444   \n",
       "60         wedo03   1.133813e+04     3.000000         3.0    43.187500   \n",
       "54           ep01   1.875720e+04     2.500000         2.0    81.416667   \n",
       "100        legu02   0.000000e+00     4.222222         4.0     7.777778   \n",
       "99         legu01   2.217600e+03     4.000000         4.0     8.222222   \n",
       "101        legu03   0.000000e+00    60.750000        62.0     4.083333   \n",
       "103        legu05   4.723999e+03     1.888889         2.0    32.000000   \n",
       "102        legu04   3.648393e+03     9.333333         9.5    17.416667   \n",
       "104        legu06   7.715400e+03     2.062500         2.0    48.625000   \n",
       "105        legu07   9.708965e+03     2.777778         2.0    46.333333   \n",
       "106        legu08   4.717188e+03     8.444444         7.0    37.111111   \n",
       "9           auv01   4.268880e+03     4.777778         5.0    11.000000   \n",
       "10          auv02   3.086160e+03    20.111111        21.0    18.111111   \n",
       "11          auv03   1.349040e+03     2.888889         3.0     7.777778   \n",
       "12          auv04   0.000000e+00     7.777778         7.0     3.111111   \n",
       "1           lit01   2.558507e+04     1.333333         1.0    61.750000   \n",
       "121    NTADAC0001   2.587200e+03    19.777778        20.0    31.111111   \n",
       "62          lto05   0.000000e+00    18.750000        18.5    31.000000   \n",
       "61          lto04   0.000000e+00    24.416667        24.0    15.833333   \n",
       "177    NTTDAC0001   1.293600e+02     4.111111         4.0    45.333333   \n",
       "179    NTTPCK0001   3.880800e+02    21.000000        21.5    37.083333   \n",
       "169    NTAPCK0001   9.895550e+02     4.333333         3.5    47.833333   \n",
       "122    NTADAC0002   9.787396e+02     9.666667        10.5    48.666667   \n",
       "118    NTAARP0001   1.358280e+03     2.555556         2.0    53.666667   \n",
       "119    NTAARP0002   1.157053e+03     4.000000         4.0    30.666667   \n",
       "120    NTAARP0003   9.702000e+02    19.333333        18.0    33.833333   \n",
       "\n",
       "       b2_dp1_med  b3_dp1_mean  b3_dp1_med  \n",
       "uid_x                                       \n",
       "37            2.0    92.333333        93.0  \n",
       "39            4.0    90.111111        90.0  \n",
       "38            3.0    90.666667        92.0  \n",
       "41           24.0    60.111111        60.0  \n",
       "52           44.0    44.000000        43.0  \n",
       "20           36.0    42.888889        43.0  \n",
       "142          42.0    51.437500        52.0  \n",
       "55           44.0    44.333333        46.0  \n",
       "2            18.0    53.555556        54.0  \n",
       "56           61.0    32.222222        35.0  \n",
       "143           9.0    81.333333        81.0  \n",
       "59           32.5    39.583333        40.5  \n",
       "144           9.0    83.666667        83.0  \n",
       "145          34.0    58.250000        58.5  \n",
       "146          19.0    70.916667        70.5  \n",
       "147          32.0    62.777778        64.0  \n",
       "57           60.5    35.250000        34.5  \n",
       "58           56.0    38.666667        39.0  \n",
       "60           42.0    52.500000        53.0  \n",
       "54           81.0    14.416667        14.5  \n",
       "100           8.0    86.555556        86.0  \n",
       "99            9.0    86.555556        86.0  \n",
       "101           4.0    33.666667        33.0  \n",
       "103          32.0    64.444444        65.0  \n",
       "102          17.0    71.666667        73.5  \n",
       "104          49.0    47.875000        47.0  \n",
       "105          47.0    49.333333        49.0  \n",
       "106          38.0    52.777778        53.0  \n",
       "9            10.0    82.777778        84.0  \n",
       "10           19.0    60.000000        58.0  \n",
       "11            8.0    87.777778        88.0  \n",
       "12            3.0    87.666667        88.0  \n",
       "1            61.0    35.250000        36.0  \n",
       "121          31.0    47.777778        49.0  \n",
       "62           31.0    48.916667        49.0  \n",
       "61           16.5    58.083333        59.0  \n",
       "177          46.0    49.333333        49.0  \n",
       "179          38.0    40.333333        38.0  \n",
       "169          51.5    46.333333        45.0  \n",
       "122          48.5    40.250000        40.5  \n",
       "118          53.0    42.111111        42.0  \n",
       "119          31.0    64.000000        64.0  \n",
       "120          35.0    45.333333        44.0  "
      ]
     },
     "execution_count": 53,
     "metadata": {},
     "output_type": "execute_result"
    }
   ],
   "source": [
    "df_key"
   ]
  },
  {
   "cell_type": "code",
   "execution_count": 54,
   "metadata": {},
   "outputs": [],
   "source": [
    "var_ = \"bio_agb_kg1ha\""
   ]
  },
  {
   "cell_type": "code",
   "execution_count": 55,
   "metadata": {},
   "outputs": [
    {
     "name": "stdout",
     "output_type": "stream",
     "text": [
      "-6919.19025 <--> 11704.463749999999\n"
     ]
    }
   ],
   "source": [
    "thirdq, firstq = df_key[var_].quantile(0.75), df_key[var_].quantile(0.25)\n",
    "interquartilerange = 1.5*(thirdq-firstq)\n",
    "extvalhigh, extvallow = interquartilerange+thirdq, firstq-interquartilerange\n",
    "print(extvallow, extvalhigh, sep=\" <--> \")"
   ]
  },
  {
   "cell_type": "code",
   "execution_count": 56,
   "metadata": {},
   "outputs": [
    {
     "data": {
      "text/html": [
       "<div>\n",
       "<style scoped>\n",
       "    .dataframe tbody tr th:only-of-type {\n",
       "        vertical-align: middle;\n",
       "    }\n",
       "\n",
       "    .dataframe tbody tr th {\n",
       "        vertical-align: top;\n",
       "    }\n",
       "\n",
       "    .dataframe thead th {\n",
       "        text-align: right;\n",
       "    }\n",
       "</style>\n",
       "<table border=\"1\" class=\"dataframe\">\n",
       "  <thead>\n",
       "    <tr style=\"text-align: right;\">\n",
       "      <th>uid_x</th>\n",
       "      <th>55</th>\n",
       "      <th>56</th>\n",
       "      <th>145</th>\n",
       "      <th>57</th>\n",
       "      <th>58</th>\n",
       "      <th>54</th>\n",
       "      <th>1</th>\n",
       "    </tr>\n",
       "  </thead>\n",
       "  <tbody>\n",
       "    <tr>\n",
       "      <th>site</th>\n",
       "      <td>girra01</td>\n",
       "      <td>hshr01</td>\n",
       "      <td>NTAGFU0023</td>\n",
       "      <td>hsf01</td>\n",
       "      <td>hsf02</td>\n",
       "      <td>ep01</td>\n",
       "      <td>lit01</td>\n",
       "    </tr>\n",
       "    <tr>\n",
       "      <th>bio_agb_kg1ha</th>\n",
       "      <td>17994.8</td>\n",
       "      <td>35199.7</td>\n",
       "      <td>1.29347e+07</td>\n",
       "      <td>25701.7</td>\n",
       "      <td>26636.3</td>\n",
       "      <td>18757.2</td>\n",
       "      <td>25585.1</td>\n",
       "    </tr>\n",
       "    <tr>\n",
       "      <th>b1_dp1_min</th>\n",
       "      <td>1</td>\n",
       "      <td>1</td>\n",
       "      <td>2</td>\n",
       "      <td>1</td>\n",
       "      <td>1</td>\n",
       "      <td>2</td>\n",
       "      <td>1</td>\n",
       "    </tr>\n",
       "    <tr>\n",
       "      <th>b1_dp1_max</th>\n",
       "      <td>28</td>\n",
       "      <td>5</td>\n",
       "      <td>15</td>\n",
       "      <td>5</td>\n",
       "      <td>9</td>\n",
       "      <td>4</td>\n",
       "      <td>3</td>\n",
       "    </tr>\n",
       "    <tr>\n",
       "      <th>b1_dp1_mean</th>\n",
       "      <td>15</td>\n",
       "      <td>3.11111</td>\n",
       "      <td>6.5625</td>\n",
       "      <td>3.58333</td>\n",
       "      <td>4.55556</td>\n",
       "      <td>2.5</td>\n",
       "      <td>1.33333</td>\n",
       "    </tr>\n",
       "    <tr>\n",
       "      <th>b1_dp1_std</th>\n",
       "      <td>9.56847</td>\n",
       "      <td>1.36987</td>\n",
       "      <td>3.65665</td>\n",
       "      <td>1.11492</td>\n",
       "      <td>2.45452</td>\n",
       "      <td>0.763763</td>\n",
       "      <td>0.62361</td>\n",
       "    </tr>\n",
       "    <tr>\n",
       "      <th>b1_dp1_med</th>\n",
       "      <td>12</td>\n",
       "      <td>3</td>\n",
       "      <td>7</td>\n",
       "      <td>3.5</td>\n",
       "      <td>4</td>\n",
       "      <td>2</td>\n",
       "      <td>1</td>\n",
       "    </tr>\n",
       "    <tr>\n",
       "      <th>b1_dp1_p25</th>\n",
       "      <td>9</td>\n",
       "      <td>2</td>\n",
       "      <td>3</td>\n",
       "      <td>3</td>\n",
       "      <td>3</td>\n",
       "      <td>2</td>\n",
       "      <td>1</td>\n",
       "    </tr>\n",
       "    <tr>\n",
       "      <th>b1_dp1_p50</th>\n",
       "      <td>12</td>\n",
       "      <td>3</td>\n",
       "      <td>7</td>\n",
       "      <td>3.5</td>\n",
       "      <td>4</td>\n",
       "      <td>2</td>\n",
       "      <td>1</td>\n",
       "    </tr>\n",
       "    <tr>\n",
       "      <th>b1_dp1_p75</th>\n",
       "      <td>24</td>\n",
       "      <td>4</td>\n",
       "      <td>9</td>\n",
       "      <td>4.25</td>\n",
       "      <td>6</td>\n",
       "      <td>3</td>\n",
       "      <td>1.25</td>\n",
       "    </tr>\n",
       "    <tr>\n",
       "      <th>b1_dp1_p95</th>\n",
       "      <td>26.8</td>\n",
       "      <td>5</td>\n",
       "      <td>12.75</td>\n",
       "      <td>5</td>\n",
       "      <td>8.2</td>\n",
       "      <td>4</td>\n",
       "      <td>2.45</td>\n",
       "    </tr>\n",
       "    <tr>\n",
       "      <th>b1_dp1_p99</th>\n",
       "      <td>27.76</td>\n",
       "      <td>5</td>\n",
       "      <td>14.55</td>\n",
       "      <td>5</td>\n",
       "      <td>8.84</td>\n",
       "      <td>4</td>\n",
       "      <td>2.89</td>\n",
       "    </tr>\n",
       "    <tr>\n",
       "      <th>b2_dp1_min</th>\n",
       "      <td>24</td>\n",
       "      <td>56</td>\n",
       "      <td>21</td>\n",
       "      <td>54</td>\n",
       "      <td>48</td>\n",
       "      <td>76</td>\n",
       "      <td>58</td>\n",
       "    </tr>\n",
       "    <tr>\n",
       "      <th>b2_dp1_max</th>\n",
       "      <td>56</td>\n",
       "      <td>73</td>\n",
       "      <td>42</td>\n",
       "      <td>64</td>\n",
       "      <td>60</td>\n",
       "      <td>85</td>\n",
       "      <td>68</td>\n",
       "    </tr>\n",
       "    <tr>\n",
       "      <th>b2_dp1_mean</th>\n",
       "      <td>39.1111</td>\n",
       "      <td>63.4444</td>\n",
       "      <td>33.4375</td>\n",
       "      <td>59.8333</td>\n",
       "      <td>55.4444</td>\n",
       "      <td>81.4167</td>\n",
       "      <td>61.75</td>\n",
       "    </tr>\n",
       "    <tr>\n",
       "      <th>b2_dp1_std</th>\n",
       "      <td>12.3418</td>\n",
       "      <td>5.56</td>\n",
       "      <td>6.41257</td>\n",
       "      <td>3.13138</td>\n",
       "      <td>3.62433</td>\n",
       "      <td>2.81242</td>\n",
       "      <td>3.00347</td>\n",
       "    </tr>\n",
       "    <tr>\n",
       "      <th>b2_dp1_med</th>\n",
       "      <td>44</td>\n",
       "      <td>61</td>\n",
       "      <td>34</td>\n",
       "      <td>60.5</td>\n",
       "      <td>56</td>\n",
       "      <td>81</td>\n",
       "      <td>61</td>\n",
       "    </tr>\n",
       "    <tr>\n",
       "      <th>b2_dp1_p25</th>\n",
       "      <td>26</td>\n",
       "      <td>60</td>\n",
       "      <td>28</td>\n",
       "      <td>57.75</td>\n",
       "      <td>54</td>\n",
       "      <td>81</td>\n",
       "      <td>59</td>\n",
       "    </tr>\n",
       "    <tr>\n",
       "      <th>b2_dp1_p50</th>\n",
       "      <td>44</td>\n",
       "      <td>61</td>\n",
       "      <td>34</td>\n",
       "      <td>60.5</td>\n",
       "      <td>56</td>\n",
       "      <td>81</td>\n",
       "      <td>61</td>\n",
       "    </tr>\n",
       "    <tr>\n",
       "      <th>b2_dp1_p75</th>\n",
       "      <td>50</td>\n",
       "      <td>67</td>\n",
       "      <td>38.25</td>\n",
       "      <td>62.25</td>\n",
       "      <td>58</td>\n",
       "      <td>84</td>\n",
       "      <td>63.5</td>\n",
       "    </tr>\n",
       "    <tr>\n",
       "      <th>b2_dp1_p95</th>\n",
       "      <td>54</td>\n",
       "      <td>72.2</td>\n",
       "      <td>42</td>\n",
       "      <td>63.45</td>\n",
       "      <td>59.6</td>\n",
       "      <td>84.45</td>\n",
       "      <td>66.35</td>\n",
       "    </tr>\n",
       "    <tr>\n",
       "      <th>b2_dp1_p99</th>\n",
       "      <td>55.6</td>\n",
       "      <td>72.84</td>\n",
       "      <td>42</td>\n",
       "      <td>63.89</td>\n",
       "      <td>59.92</td>\n",
       "      <td>84.89</td>\n",
       "      <td>67.67</td>\n",
       "    </tr>\n",
       "    <tr>\n",
       "      <th>b3_dp1_min</th>\n",
       "      <td>31</td>\n",
       "      <td>23</td>\n",
       "      <td>48</td>\n",
       "      <td>31</td>\n",
       "      <td>33</td>\n",
       "      <td>10</td>\n",
       "      <td>29</td>\n",
       "    </tr>\n",
       "    <tr>\n",
       "      <th>b3_dp1_max</th>\n",
       "      <td>53</td>\n",
       "      <td>38</td>\n",
       "      <td>72</td>\n",
       "      <td>41</td>\n",
       "      <td>45</td>\n",
       "      <td>21</td>\n",
       "      <td>39</td>\n",
       "    </tr>\n",
       "    <tr>\n",
       "      <th>b3_dp1_mean</th>\n",
       "      <td>44.3333</td>\n",
       "      <td>32.2222</td>\n",
       "      <td>58.25</td>\n",
       "      <td>35.25</td>\n",
       "      <td>38.6667</td>\n",
       "      <td>14.4167</td>\n",
       "      <td>35.25</td>\n",
       "    </tr>\n",
       "    <tr>\n",
       "      <th>b3_dp1_med</th>\n",
       "      <td>46</td>\n",
       "      <td>35</td>\n",
       "      <td>58.5</td>\n",
       "      <td>34.5</td>\n",
       "      <td>39</td>\n",
       "      <td>14.5</td>\n",
       "      <td>36</td>\n",
       "    </tr>\n",
       "    <tr>\n",
       "      <th>b3_dp1_p25</th>\n",
       "      <td>38</td>\n",
       "      <td>30</td>\n",
       "      <td>49</td>\n",
       "      <td>32.75</td>\n",
       "      <td>37</td>\n",
       "      <td>11.75</td>\n",
       "      <td>33.75</td>\n",
       "    </tr>\n",
       "    <tr>\n",
       "      <th>b3_dp1_p50</th>\n",
       "      <td>46</td>\n",
       "      <td>35</td>\n",
       "      <td>58.5</td>\n",
       "      <td>34.5</td>\n",
       "      <td>39</td>\n",
       "      <td>14.5</td>\n",
       "      <td>36</td>\n",
       "    </tr>\n",
       "    <tr>\n",
       "      <th>b3_dp1_p75</th>\n",
       "      <td>48</td>\n",
       "      <td>36</td>\n",
       "      <td>63.75</td>\n",
       "      <td>37.25</td>\n",
       "      <td>41</td>\n",
       "      <td>15.25</td>\n",
       "      <td>37.25</td>\n",
       "    </tr>\n",
       "    <tr>\n",
       "      <th>b3_dp1_p95</th>\n",
       "      <td>52.2</td>\n",
       "      <td>37.2</td>\n",
       "      <td>71.25</td>\n",
       "      <td>40.45</td>\n",
       "      <td>43.8</td>\n",
       "      <td>20.45</td>\n",
       "      <td>38.45</td>\n",
       "    </tr>\n",
       "    <tr>\n",
       "      <th>b3_dp1_p99</th>\n",
       "      <td>52.84</td>\n",
       "      <td>37.84</td>\n",
       "      <td>71.85</td>\n",
       "      <td>40.89</td>\n",
       "      <td>44.76</td>\n",
       "      <td>20.89</td>\n",
       "      <td>38.89</td>\n",
       "    </tr>\n",
       "    <tr>\n",
       "      <th>b3_dp1_std</th>\n",
       "      <td>6.74949</td>\n",
       "      <td>4.7088</td>\n",
       "      <td>8.50368</td>\n",
       "      <td>3.16557</td>\n",
       "      <td>3.4641</td>\n",
       "      <td>3.27766</td>\n",
       "      <td>2.80253</td>\n",
       "    </tr>\n",
       "  </tbody>\n",
       "</table>\n",
       "</div>"
      ],
      "text/plain": [
       "uid_x              55       56           145      57       58        54   \\\n",
       "site           girra01   hshr01   NTAGFU0023    hsf01    hsf02      ep01   \n",
       "bio_agb_kg1ha  17994.8  35199.7  1.29347e+07  25701.7  26636.3   18757.2   \n",
       "b1_dp1_min           1        1            2        1        1         2   \n",
       "b1_dp1_max          28        5           15        5        9         4   \n",
       "b1_dp1_mean         15  3.11111       6.5625  3.58333  4.55556       2.5   \n",
       "b1_dp1_std     9.56847  1.36987      3.65665  1.11492  2.45452  0.763763   \n",
       "b1_dp1_med          12        3            7      3.5        4         2   \n",
       "b1_dp1_p25           9        2            3        3        3         2   \n",
       "b1_dp1_p50          12        3            7      3.5        4         2   \n",
       "b1_dp1_p75          24        4            9     4.25        6         3   \n",
       "b1_dp1_p95        26.8        5        12.75        5      8.2         4   \n",
       "b1_dp1_p99       27.76        5        14.55        5     8.84         4   \n",
       "b2_dp1_min          24       56           21       54       48        76   \n",
       "b2_dp1_max          56       73           42       64       60        85   \n",
       "b2_dp1_mean    39.1111  63.4444      33.4375  59.8333  55.4444   81.4167   \n",
       "b2_dp1_std     12.3418     5.56      6.41257  3.13138  3.62433   2.81242   \n",
       "b2_dp1_med          44       61           34     60.5       56        81   \n",
       "b2_dp1_p25          26       60           28    57.75       54        81   \n",
       "b2_dp1_p50          44       61           34     60.5       56        81   \n",
       "b2_dp1_p75          50       67        38.25    62.25       58        84   \n",
       "b2_dp1_p95          54     72.2           42    63.45     59.6     84.45   \n",
       "b2_dp1_p99        55.6    72.84           42    63.89    59.92     84.89   \n",
       "b3_dp1_min          31       23           48       31       33        10   \n",
       "b3_dp1_max          53       38           72       41       45        21   \n",
       "b3_dp1_mean    44.3333  32.2222        58.25    35.25  38.6667   14.4167   \n",
       "b3_dp1_med          46       35         58.5     34.5       39      14.5   \n",
       "b3_dp1_p25          38       30           49    32.75       37     11.75   \n",
       "b3_dp1_p50          46       35         58.5     34.5       39      14.5   \n",
       "b3_dp1_p75          48       36        63.75    37.25       41     15.25   \n",
       "b3_dp1_p95        52.2     37.2        71.25    40.45     43.8     20.45   \n",
       "b3_dp1_p99       52.84    37.84        71.85    40.89    44.76     20.89   \n",
       "b3_dp1_std     6.74949   4.7088      8.50368  3.16557   3.4641   3.27766   \n",
       "\n",
       "uid_x              1    \n",
       "site             lit01  \n",
       "bio_agb_kg1ha  25585.1  \n",
       "b1_dp1_min           1  \n",
       "b1_dp1_max           3  \n",
       "b1_dp1_mean    1.33333  \n",
       "b1_dp1_std     0.62361  \n",
       "b1_dp1_med           1  \n",
       "b1_dp1_p25           1  \n",
       "b1_dp1_p50           1  \n",
       "b1_dp1_p75        1.25  \n",
       "b1_dp1_p95        2.45  \n",
       "b1_dp1_p99        2.89  \n",
       "b2_dp1_min          58  \n",
       "b2_dp1_max          68  \n",
       "b2_dp1_mean      61.75  \n",
       "b2_dp1_std     3.00347  \n",
       "b2_dp1_med          61  \n",
       "b2_dp1_p25          59  \n",
       "b2_dp1_p50          61  \n",
       "b2_dp1_p75        63.5  \n",
       "b2_dp1_p95       66.35  \n",
       "b2_dp1_p99       67.67  \n",
       "b3_dp1_min          29  \n",
       "b3_dp1_max          39  \n",
       "b3_dp1_mean      35.25  \n",
       "b3_dp1_med          36  \n",
       "b3_dp1_p25       33.75  \n",
       "b3_dp1_p50          36  \n",
       "b3_dp1_p75       37.25  \n",
       "b3_dp1_p95       38.45  \n",
       "b3_dp1_p99       38.89  \n",
       "b3_dp1_std     2.80253  "
      ]
     },
     "execution_count": 56,
     "metadata": {},
     "output_type": "execute_result"
    }
   ],
   "source": [
    "df.loc[df[var_]>extvalhigh].T"
   ]
  },
  {
   "cell_type": "markdown",
   "metadata": {},
   "source": [
    "The Howard Springs outliers may be explained by the dense woody veg"
   ]
  },
  {
   "cell_type": "code",
   "execution_count": 57,
   "metadata": {},
   "outputs": [
    {
     "data": {
      "text/plain": [
       "bio_agb_kg1ha    306016.842499\n",
       "b1_dp1_min            5.837209\n",
       "b1_dp1_max           14.534884\n",
       "b1_dp1_mean          10.082203\n",
       "b1_dp1_std            2.619255\n",
       "b1_dp1_med            9.953488\n",
       "b1_dp1_p25            8.598837\n",
       "b1_dp1_p50            9.953488\n",
       "b1_dp1_p75           11.610465\n",
       "b1_dp1_p95           13.775581\n",
       "b1_dp1_p99           14.383023\n",
       "b2_dp1_min           25.441860\n",
       "b2_dp1_max           36.767442\n",
       "b2_dp1_mean          31.020672\n",
       "b2_dp1_std            3.541673\n",
       "b2_dp1_med           31.151163\n",
       "b2_dp1_p25           28.575581\n",
       "b2_dp1_p50           31.151163\n",
       "b2_dp1_p75           33.377907\n",
       "b2_dp1_p95           35.986047\n",
       "b2_dp1_p99           36.611163\n",
       "b3_dp1_min           51.279070\n",
       "b3_dp1_max           63.372093\n",
       "b3_dp1_mean          57.391634\n",
       "b3_dp1_med           57.500000\n",
       "b3_dp1_p25           55.145349\n",
       "b3_dp1_p50           57.500000\n",
       "b3_dp1_p75           59.441860\n",
       "b3_dp1_p95           62.617442\n",
       "b3_dp1_p99           63.221163\n",
       "b3_dp1_std            3.674262\n",
       "dtype: float64"
      ]
     },
     "execution_count": 57,
     "metadata": {},
     "output_type": "execute_result"
    }
   ],
   "source": [
    "df.mean()"
   ]
  },
  {
   "cell_type": "code",
   "execution_count": 58,
   "metadata": {},
   "outputs": [],
   "source": [
    "df_out = df.loc[df[var_]<extvalhigh]"
   ]
  },
  {
   "cell_type": "code",
   "execution_count": 59,
   "metadata": {},
   "outputs": [
    {
     "name": "stdout",
     "output_type": "stream",
     "text": [
      "File output to:  F:\\cdu\\data\\eda\\merged_slats_field_agb_dp1_dry_outlier.csv\n"
     ]
    }
   ],
   "source": [
    "output_path = os.path.join(output_dir, \"merged_slats_field_agb_dp1_dry_outlier.csv\")\n",
    "df_out.to_csv(os.path.join(output_path), index=False)\n",
    "print(\"File output to: \", output_path) "
   ]
  },
  {
   "cell_type": "code",
   "execution_count": 60,
   "metadata": {},
   "outputs": [
    {
     "data": {
      "text/plain": [
       "(36, 32)"
      ]
     },
     "execution_count": 60,
     "metadata": {},
     "output_type": "execute_result"
    }
   ],
   "source": [
    "df_out.shape"
   ]
  },
  {
   "cell_type": "code",
   "execution_count": 61,
   "metadata": {},
   "outputs": [],
   "source": [
    "df_key_out = df_key.loc[df_key[var_]<extvalhigh]"
   ]
  },
  {
   "cell_type": "code",
   "execution_count": 62,
   "metadata": {},
   "outputs": [
    {
     "name": "stdout",
     "output_type": "stream",
     "text": [
      "File output to:  F:\\cdu\\data\\eda\\merged_slats_field_agb_dp1_dry_key_outlier.csv\n"
     ]
    }
   ],
   "source": [
    "output_path = os.path.join(output_dir, \"merged_slats_field_agb_dp1_dry_key_outlier.csv\")\n",
    "df_key_out.to_csv(os.path.join(output_path), index=False)\n",
    "print(\"File output to: \", output_path)  "
   ]
  },
  {
   "cell_type": "code",
   "execution_count": 63,
   "metadata": {},
   "outputs": [
    {
     "data": {
      "text/plain": [
       "(36, 8)"
      ]
     },
     "execution_count": 63,
     "metadata": {},
     "output_type": "execute_result"
    }
   ],
   "source": [
    "df_key_out.shape"
   ]
  },
  {
   "cell_type": "code",
   "execution_count": 64,
   "metadata": {},
   "outputs": [
    {
     "data": {
      "text/plain": [
       "bio_agb_kg1ha    2059.530623\n",
       "b1_dp1_min          6.722222\n",
       "b1_dp1_max         15.444444\n",
       "b1_dp1_mean        11.024691\n",
       "b1_dp1_std          2.585449\n",
       "b1_dp1_med         10.986111\n",
       "b1_dp1_p25          9.631944\n",
       "b1_dp1_p50         10.986111\n",
       "b1_dp1_p75         12.437500\n",
       "b1_dp1_p95         14.670833\n",
       "b1_dp1_p99         15.289722\n",
       "b2_dp1_min         21.027778\n",
       "b2_dp1_max         31.472222\n",
       "b2_dp1_mean        26.095872\n",
       "b2_dp1_std          3.205719\n",
       "b2_dp1_med         26.166667\n",
       "b2_dp1_p25         23.972222\n",
       "b2_dp1_p50         26.166667\n",
       "b2_dp1_p75         28.118056\n",
       "b2_dp1_p95         30.704167\n",
       "b2_dp1_p99         31.318611\n",
       "b3_dp1_min         55.555556\n",
       "b3_dp1_max         67.111111\n",
       "b3_dp1_mean        61.373650\n",
       "b3_dp1_med         61.361111\n",
       "b3_dp1_p25         59.416667\n",
       "b3_dp1_p50         61.361111\n",
       "b3_dp1_p75         63.263889\n",
       "b3_dp1_p95         66.354167\n",
       "b3_dp1_p99         66.959722\n",
       "b3_dp1_std          3.481151\n",
       "dtype: float64"
      ]
     },
     "execution_count": 64,
     "metadata": {},
     "output_type": "execute_result"
    }
   ],
   "source": [
    "df_out.mean()"
   ]
  },
  {
   "cell_type": "code",
   "execution_count": 65,
   "metadata": {},
   "outputs": [],
   "source": [
    "def getextremevalues(dfin):\n",
    "    \n",
    "    dfout = pd.DataFrame(columns=dfin.columns, data=None)\n",
    "    for col in dfin.columns[1:]:\n",
    "        thirdq, firstq = dfin[col].quantile(0.75), dfin[col].quantile(0.25)\n",
    "        interquartilerange = 1.5*(thirdq-firstq)\n",
    "        extvalhigh, extvallow = interquartilerange+thirdq, firstq-interquartilerange\n",
    "        #print(extvalhigh, extvallow)\n",
    "        \n",
    "        extreme_df = dfin.loc[(dfin[col]>extvalhigh) | (dfin[col]<extvallow)]\n",
    "        #print(extreme_df)\n",
    "        print(list(extreme_df))\n"
   ]
  },
  {
   "cell_type": "code",
   "execution_count": 66,
   "metadata": {},
   "outputs": [
    {
     "name": "stdout",
     "output_type": "stream",
     "text": [
      "['site', 'bio_agb_kg1ha', 'b1_dp1_mean', 'b1_dp1_med', 'b2_dp1_mean', 'b2_dp1_med', 'b3_dp1_mean', 'b3_dp1_med']\n",
      "['site', 'bio_agb_kg1ha', 'b1_dp1_mean', 'b1_dp1_med', 'b2_dp1_mean', 'b2_dp1_med', 'b3_dp1_mean', 'b3_dp1_med']\n",
      "['site', 'bio_agb_kg1ha', 'b1_dp1_mean', 'b1_dp1_med', 'b2_dp1_mean', 'b2_dp1_med', 'b3_dp1_mean', 'b3_dp1_med']\n",
      "['site', 'bio_agb_kg1ha', 'b1_dp1_mean', 'b1_dp1_med', 'b2_dp1_mean', 'b2_dp1_med', 'b3_dp1_mean', 'b3_dp1_med']\n",
      "['site', 'bio_agb_kg1ha', 'b1_dp1_mean', 'b1_dp1_med', 'b2_dp1_mean', 'b2_dp1_med', 'b3_dp1_mean', 'b3_dp1_med']\n",
      "['site', 'bio_agb_kg1ha', 'b1_dp1_mean', 'b1_dp1_med', 'b2_dp1_mean', 'b2_dp1_med', 'b3_dp1_mean', 'b3_dp1_med']\n",
      "['site', 'bio_agb_kg1ha', 'b1_dp1_mean', 'b1_dp1_med', 'b2_dp1_mean', 'b2_dp1_med', 'b3_dp1_mean', 'b3_dp1_med']\n"
     ]
    }
   ],
   "source": [
    "getextremevalues(df_key)"
   ]
  },
  {
   "cell_type": "markdown",
   "metadata": {},
   "source": [
    "### QQ plot"
   ]
  },
  {
   "cell_type": "markdown",
   "metadata": {},
   "source": [
    "Quantile-quantile (Q-Q) plots can improve our sense of that distribution by allowing us to view it graphically relative to a theoretical distribution: normal, uniform, log, or others.\n",
    "\n",
    " - Negative skew have an umbrella-like shape\n",
    " - Positive skew have a bowl-like shape"
   ]
  },
  {
   "cell_type": "code",
   "execution_count": 67,
   "metadata": {
    "scrolled": true
   },
   "outputs": [
    {
     "data": {
      "image/png": "[encoded data removed]",
      "text/plain": [
       "<Figure size 432x288 with 1 Axes>"
      ]
     },
     "metadata": {
      "needs_background": "light"
     },
     "output_type": "display_data"
    }
   ],
   "source": [
    "sm.qqplot(df_out[[var_]].sort_values([var_]).dropna(),line='s')\n",
    "plt.show()"
   ]
  },
  {
   "cell_type": "markdown",
   "metadata": {},
   "source": [
    "Indicating a positive skew"
   ]
  },
  {
   "cell_type": "code",
   "execution_count": 70,
   "metadata": {
    "scrolled": true
   },
   "outputs": [
    {
     "name": "stdout",
     "output_type": "stream",
     "text": [
      "bio_agb_kg1ha\n"
     ]
    },
    {
     "data": {
      "image/png": "[encoded data removed]",
      "text/plain": [
       "<Figure size 432x288 with 1 Axes>"
      ]
     },
     "metadata": {
      "needs_background": "light"
     },
     "output_type": "display_data"
    },
    {
     "data": {
      "image/png": "[encoded data removed]",
      "text/plain": [
       "<Figure size 432x288 with 1 Axes>"
      ]
     },
     "metadata": {
      "needs_background": "light"
     },
     "output_type": "display_data"
    },
    {
     "data": {
      "image/png": "[encoded data removed]",
      "text/plain": [
       "<Figure size 432x288 with 1 Axes>"
      ]
     },
     "metadata": {
      "needs_background": "light"
     },
     "output_type": "display_data"
    },
    {
     "data": {
      "image/png": "[encoded data removed]",
      "text/plain": [
       "<Figure size 432x288 with 1 Axes>"
      ]
     },
     "metadata": {
      "needs_background": "light"
     },
     "output_type": "display_data"
    },
    {
     "name": "stdout",
     "output_type": "stream",
     "text": [
      "==================================================\n",
      "b1_dp1_mean\n"
     ]
    },
    {
     "data": {
      "image/png": "[encoded data removed]",
      "text/plain": [
       "<Figure size 432x288 with 1 Axes>"
      ]
     },
     "metadata": {
      "needs_background": "light"
     },
     "output_type": "display_data"
    },
    {
     "data": {
      "image/png": "[encoded data removed]",
      "text/plain": [
       "<Figure size 432x288 with 1 Axes>"
      ]
     },
     "metadata": {
      "needs_background": "light"
     },
     "output_type": "display_data"
    },
    {
     "data": {
      "image/png": "[encoded data removed]",
      "text/plain": [
       "<Figure size 432x288 with 1 Axes>"
      ]
     },
     "metadata": {
      "needs_background": "light"
     },
     "output_type": "display_data"
    },
    {
     "data": {
      "image/png": "[encoded data removed]",
      "text/plain": [
       "<Figure size 432x288 with 1 Axes>"
      ]
     },
     "metadata": {
      "needs_background": "light"
     },
     "output_type": "display_data"
    },
    {
     "name": "stdout",
     "output_type": "stream",
     "text": [
      "==================================================\n",
      "b1_dp1_med\n"
     ]
    },
    {
     "data": {
      "image/png": "[encoded data removed]",
      "text/plain": [
       "<Figure size 432x288 with 1 Axes>"
      ]
     },
     "metadata": {
      "needs_background": "light"
     },
     "output_type": "display_data"
    },
    {
     "data": {
      "image/png": "[encoded data removed]",
      "text/plain": [
       "<Figure size 432x288 with 1 Axes>"
      ]
     },
     "metadata": {
      "needs_background": "light"
     },
     "output_type": "display_data"
    },
    {
     "data": {
      "image/png": "[encoded data removed]",
      "text/plain": [
       "<Figure size 432x288 with 1 Axes>"
      ]
     },
     "metadata": {
      "needs_background": "light"
     },
     "output_type": "display_data"
    },
    {
     "data": {
      "image/png": "[encoded data removed]",
      "text/plain": [
       "<Figure size 432x288 with 1 Axes>"
      ]
     },
     "metadata": {
      "needs_background": "light"
     },
     "output_type": "display_data"
    },
    {
     "name": "stdout",
     "output_type": "stream",
     "text": [
      "==================================================\n",
      "b2_dp1_mean\n"
     ]
    },
    {
     "data": {
      "image/png": "[encoded data removed]",
      "text/plain": [
       "<Figure size 432x288 with 1 Axes>"
      ]
     },
     "metadata": {
      "needs_background": "light"
     },
     "output_type": "display_data"
    },
    {
     "data": {
      "image/png": "[encoded data removed]",
      "text/plain": [
       "<Figure size 432x288 with 1 Axes>"
      ]
     },
     "metadata": {
      "needs_background": "light"
     },
     "output_type": "display_data"
    },
    {
     "data": {
      "image/png": "[encoded data removed]",
      "text/plain": [
       "<Figure size 432x288 with 1 Axes>"
      ]
     },
     "metadata": {
      "needs_background": "light"
     },
     "output_type": "display_data"
    },
    {
     "data": {
      "image/png": "[encoded data removed]",
      "text/plain": [
       "<Figure size 432x288 with 1 Axes>"
      ]
     },
     "metadata": {
      "needs_background": "light"
     },
     "output_type": "display_data"
    },
    {
     "name": "stdout",
     "output_type": "stream",
     "text": [
      "==================================================\n",
      "b2_dp1_med\n"
     ]
    },
    {
     "data": {
      "image/png": "[encoded data removed]",
      "text/plain": [
       "<Figure size 432x288 with 1 Axes>"
      ]
     },
     "metadata": {
      "needs_background": "light"
     },
     "output_type": "display_data"
    },
    {
     "data": {
      "image/png": "[encoded data removed]",
      "text/plain": [
       "<Figure size 432x288 with 1 Axes>"
      ]
     },
     "metadata": {
      "needs_background": "light"
     },
     "output_type": "display_data"
    },
    {
     "data": {
      "image/png": "[encoded data removed]",
      "text/plain": [
       "<Figure size 432x288 with 1 Axes>"
      ]
     },
     "metadata": {
      "needs_background": "light"
     },
     "output_type": "display_data"
    },
    {
     "data": {
      "image/png": "[encoded data removed]",
      "text/plain": [
       "<Figure size 432x288 with 1 Axes>"
      ]
     },
     "metadata": {
      "needs_background": "light"
     },
     "output_type": "display_data"
    },
    {
     "name": "stdout",
     "output_type": "stream",
     "text": [
      "==================================================\n",
      "b3_dp1_mean\n"
     ]
    },
    {
     "data": {
      "image/png": "[encoded data removed]",
      "text/plain": [
       "<Figure size 432x288 with 1 Axes>"
      ]
     },
     "metadata": {
      "needs_background": "light"
     },
     "output_type": "display_data"
    },
    {
     "data": {
      "image/png": "[encoded data removed]",
      "text/plain": [
       "<Figure size 432x288 with 1 Axes>"
      ]
     },
     "metadata": {
      "needs_background": "light"
     },
     "output_type": "display_data"
    },
    {
     "data": {
      "image/png": "[encoded data removed]",
      "text/plain": [
       "<Figure size 432x288 with 1 Axes>"
      ]
     },
     "metadata": {
      "needs_background": "light"
     },
     "output_type": "display_data"
    },
    {
     "data": {
      "image/png": "[encoded data removed]",
      "text/plain": [
       "<Figure size 432x288 with 1 Axes>"
      ]
     },
     "metadata": {
      "needs_background": "light"
     },
     "output_type": "display_data"
    },
    {
     "name": "stdout",
     "output_type": "stream",
     "text": [
      "==================================================\n",
      "b3_dp1_med\n"
     ]
    },
    {
     "data": {
      "image/png": "[encoded data removed]",
      "text/plain": [
       "<Figure size 432x288 with 1 Axes>"
      ]
     },
     "metadata": {
      "needs_background": "light"
     },
     "output_type": "display_data"
    },
    {
     "data": {
      "image/png": "[encoded data removed]",
      "text/plain": [
       "<Figure size 432x288 with 1 Axes>"
      ]
     },
     "metadata": {
      "needs_background": "light"
     },
     "output_type": "display_data"
    },
    {
     "data": {
      "image/png": "[encoded data removed]",
      "text/plain": [
       "<Figure size 432x288 with 1 Axes>"
      ]
     },
     "metadata": {
      "needs_background": "light"
     },
     "output_type": "display_data"
    },
    {
     "data": {
      "image/png": "[encoded data removed]",
      "text/plain": [
       "<Figure size 432x288 with 1 Axes>"
      ]
     },
     "metadata": {
      "needs_background": "light"
     },
     "output_type": "display_data"
    },
    {
     "name": "stdout",
     "output_type": "stream",
     "text": [
      "==================================================\n"
     ]
    }
   ],
   "source": [
    "for i in key_var[1:]:\n",
    "    print(i)\n",
    "    plt.hist(df_out[i], bins=7)\n",
    "    plt.axvline(df_out[i].mean(), color='red',\n",
    "    linestyle='dashed', linewidth=1, label='mean')\n",
    "    plt.axvline(df_out[i].median(), color='black',\n",
    "    linestyle='dashed', linewidth=1, label='median')\n",
    "    plt.title(i.title().replace(\"_\", \" \") + \" distribution\")\n",
    "    plt.xlabel('Number of sites')\n",
    "    plt.ylabel(i.title().replace(\"_\", \" \") + \" values\")\n",
    "    plt.legend()\n",
    "\n",
    "    plt.show()\n",
    "    \n",
    "    sm.qqplot(df_out[[i]].sort_values([i]).dropna(),line='s')\n",
    "    plt.title(i.title().replace(\"_\", \" \"))\n",
    "    plt.show()\n",
    "    \n",
    "    plt.boxplot(df_out[i].dropna(), labels=[i])\n",
    "    plt.title(i.title().replace(\"_\", \" \"))\n",
    "    plt.show()\n",
    "    \n",
    "    sns.violinplot(x=df_out[i])\n",
    "    plt.show()\n",
    "    print(\"=\"*50)\n",
    "    \n",
    "\n"
   ]
  },
  {
   "cell_type": "markdown",
   "metadata": {},
   "source": [
    "Violin plot:\n",
    " - the black bar with the white dot in the middle is the interquartile range\n",
    " - the white dot represents the median.\n",
    " - the height at each point (when the violin plot is horizontal) gives us the relative frequency. \n",
    " - the thin black lines to the right/left of the interquartile range are the whiskers \n",
    " - the extreme values are shown in the part of the distribution beyond the whiskers"
   ]
  },
  {
   "cell_type": "code",
   "execution_count": 71,
   "metadata": {},
   "outputs": [
    {
     "data": {
      "text/plain": [
       "bio_agb_kg1ha    1.919313\n",
       "b1_dp1_mean      2.586491\n",
       "b1_dp1_med       2.560270\n",
       "b2_dp1_mean     -0.012588\n",
       "b2_dp1_med      -0.000691\n",
       "b3_dp1_mean      0.439592\n",
       "b3_dp1_med       0.419088\n",
       "dtype: float64"
      ]
     },
     "execution_count": 71,
     "metadata": {},
     "output_type": "execute_result"
    }
   ],
   "source": [
    "df_key_out.skew()"
   ]
  },
  {
   "cell_type": "code",
   "execution_count": 72,
   "metadata": {},
   "outputs": [
    {
     "data": {
      "text/plain": [
       "bio_agb_kg1ha    3.636135\n",
       "b1_dp1_mean      9.217958\n",
       "b1_dp1_med       8.986979\n",
       "b2_dp1_mean     -1.416690\n",
       "b2_dp1_med      -1.393043\n",
       "b3_dp1_mean     -1.258714\n",
       "b3_dp1_med      -1.255515\n",
       "dtype: float64"
      ]
     },
     "execution_count": 72,
     "metadata": {},
     "output_type": "execute_result"
    }
   ],
   "source": [
    "df_key_out.kurtosis()"
   ]
  },
  {
   "cell_type": "code",
   "execution_count": 74,
   "metadata": {},
   "outputs": [
    {
     "name": "stdout",
     "output_type": "stream",
     "text": [
      "feature= bio_agb_kg1ha      p-value = 0.000000\n",
      "feature= b1_dp1_mean      p-value = 0.000000\n",
      "feature= b1_dp1_med      p-value = 0.000000\n",
      "feature= b2_dp1_mean      p-value = 0.099906\n",
      "feature= b2_dp1_med      p-value = 0.093063\n",
      "feature= b3_dp1_mean      p-value = 0.016174\n",
      "feature= b3_dp1_med      p-value = 0.016977\n"
     ]
    }
   ],
   "source": [
    "for var in key_var[1:]:\n",
    "\n",
    "      stat, p = scistat.shapiro(df_key[var].dropna())\n",
    "\n",
    "      print(\"feature=\", var, \"     p-value =\", '{:.6f}'.format(p))"
   ]
  },
  {
   "cell_type": "code",
   "execution_count": 75,
   "metadata": {},
   "outputs": [
    {
     "name": "stdout",
     "output_type": "stream",
     "text": [
      "-4643.099999999999 <--> 7738.499999999999\n"
     ]
    }
   ],
   "source": [
    "thirdq, firstq = df_key_out[var_].quantile(0.75), df_key_out[var_].quantile(0.25)\n",
    "interquartilerange = 1.5*(thirdq-firstq)\n",
    "extvalhigh, extvallow = interquartilerange+thirdq, firstq-interquartilerange\n",
    "print(extvallow, extvalhigh, sep=\" <--> \")"
   ]
  },
  {
   "cell_type": "code",
   "execution_count": 76,
   "metadata": {},
   "outputs": [
    {
     "data": {
      "text/html": [
       "<div>\n",
       "<style scoped>\n",
       "    .dataframe tbody tr th:only-of-type {\n",
       "        vertical-align: middle;\n",
       "    }\n",
       "\n",
       "    .dataframe tbody tr th {\n",
       "        vertical-align: top;\n",
       "    }\n",
       "\n",
       "    .dataframe thead th {\n",
       "        text-align: right;\n",
       "    }\n",
       "</style>\n",
       "<table border=\"1\" class=\"dataframe\">\n",
       "  <thead>\n",
       "    <tr style=\"text-align: right;\">\n",
       "      <th>uid_x</th>\n",
       "      <th>55</th>\n",
       "      <th>56</th>\n",
       "      <th>145</th>\n",
       "      <th>57</th>\n",
       "      <th>58</th>\n",
       "      <th>60</th>\n",
       "      <th>54</th>\n",
       "      <th>105</th>\n",
       "      <th>1</th>\n",
       "    </tr>\n",
       "  </thead>\n",
       "  <tbody>\n",
       "    <tr>\n",
       "      <th>site</th>\n",
       "      <td>girra01</td>\n",
       "      <td>hshr01</td>\n",
       "      <td>NTAGFU0023</td>\n",
       "      <td>hsf01</td>\n",
       "      <td>hsf02</td>\n",
       "      <td>wedo03</td>\n",
       "      <td>ep01</td>\n",
       "      <td>legu07</td>\n",
       "      <td>lit01</td>\n",
       "    </tr>\n",
       "    <tr>\n",
       "      <th>bio_agb_kg1ha</th>\n",
       "      <td>17994.8</td>\n",
       "      <td>35199.7</td>\n",
       "      <td>1.29347e+07</td>\n",
       "      <td>25701.7</td>\n",
       "      <td>26636.3</td>\n",
       "      <td>11338.1</td>\n",
       "      <td>18757.2</td>\n",
       "      <td>9708.97</td>\n",
       "      <td>25585.1</td>\n",
       "    </tr>\n",
       "    <tr>\n",
       "      <th>b1_dp1_min</th>\n",
       "      <td>1</td>\n",
       "      <td>1</td>\n",
       "      <td>2</td>\n",
       "      <td>1</td>\n",
       "      <td>1</td>\n",
       "      <td>1</td>\n",
       "      <td>2</td>\n",
       "      <td>2</td>\n",
       "      <td>1</td>\n",
       "    </tr>\n",
       "    <tr>\n",
       "      <th>b1_dp1_max</th>\n",
       "      <td>28</td>\n",
       "      <td>5</td>\n",
       "      <td>15</td>\n",
       "      <td>5</td>\n",
       "      <td>9</td>\n",
       "      <td>6</td>\n",
       "      <td>4</td>\n",
       "      <td>5</td>\n",
       "      <td>3</td>\n",
       "    </tr>\n",
       "    <tr>\n",
       "      <th>b1_dp1_mean</th>\n",
       "      <td>15</td>\n",
       "      <td>3.11111</td>\n",
       "      <td>6.5625</td>\n",
       "      <td>3.58333</td>\n",
       "      <td>4.55556</td>\n",
       "      <td>3</td>\n",
       "      <td>2.5</td>\n",
       "      <td>2.77778</td>\n",
       "      <td>1.33333</td>\n",
       "    </tr>\n",
       "    <tr>\n",
       "      <th>b1_dp1_std</th>\n",
       "      <td>9.56847</td>\n",
       "      <td>1.36987</td>\n",
       "      <td>3.65665</td>\n",
       "      <td>1.11492</td>\n",
       "      <td>2.45452</td>\n",
       "      <td>1.45774</td>\n",
       "      <td>0.763763</td>\n",
       "      <td>1.0304</td>\n",
       "      <td>0.62361</td>\n",
       "    </tr>\n",
       "    <tr>\n",
       "      <th>b1_dp1_med</th>\n",
       "      <td>12</td>\n",
       "      <td>3</td>\n",
       "      <td>7</td>\n",
       "      <td>3.5</td>\n",
       "      <td>4</td>\n",
       "      <td>3</td>\n",
       "      <td>2</td>\n",
       "      <td>2</td>\n",
       "      <td>1</td>\n",
       "    </tr>\n",
       "    <tr>\n",
       "      <th>b1_dp1_p25</th>\n",
       "      <td>9</td>\n",
       "      <td>2</td>\n",
       "      <td>3</td>\n",
       "      <td>3</td>\n",
       "      <td>3</td>\n",
       "      <td>2</td>\n",
       "      <td>2</td>\n",
       "      <td>2</td>\n",
       "      <td>1</td>\n",
       "    </tr>\n",
       "    <tr>\n",
       "      <th>b1_dp1_p50</th>\n",
       "      <td>12</td>\n",
       "      <td>3</td>\n",
       "      <td>7</td>\n",
       "      <td>3.5</td>\n",
       "      <td>4</td>\n",
       "      <td>3</td>\n",
       "      <td>2</td>\n",
       "      <td>2</td>\n",
       "      <td>1</td>\n",
       "    </tr>\n",
       "    <tr>\n",
       "      <th>b1_dp1_p75</th>\n",
       "      <td>24</td>\n",
       "      <td>4</td>\n",
       "      <td>9</td>\n",
       "      <td>4.25</td>\n",
       "      <td>6</td>\n",
       "      <td>4</td>\n",
       "      <td>3</td>\n",
       "      <td>3</td>\n",
       "      <td>1.25</td>\n",
       "    </tr>\n",
       "    <tr>\n",
       "      <th>b1_dp1_p95</th>\n",
       "      <td>26.8</td>\n",
       "      <td>5</td>\n",
       "      <td>12.75</td>\n",
       "      <td>5</td>\n",
       "      <td>8.2</td>\n",
       "      <td>5.25</td>\n",
       "      <td>4</td>\n",
       "      <td>4.6</td>\n",
       "      <td>2.45</td>\n",
       "    </tr>\n",
       "    <tr>\n",
       "      <th>b1_dp1_p99</th>\n",
       "      <td>27.76</td>\n",
       "      <td>5</td>\n",
       "      <td>14.55</td>\n",
       "      <td>5</td>\n",
       "      <td>8.84</td>\n",
       "      <td>5.85</td>\n",
       "      <td>4</td>\n",
       "      <td>4.92</td>\n",
       "      <td>2.89</td>\n",
       "    </tr>\n",
       "    <tr>\n",
       "      <th>b2_dp1_min</th>\n",
       "      <td>24</td>\n",
       "      <td>56</td>\n",
       "      <td>21</td>\n",
       "      <td>54</td>\n",
       "      <td>48</td>\n",
       "      <td>36</td>\n",
       "      <td>76</td>\n",
       "      <td>42</td>\n",
       "      <td>58</td>\n",
       "    </tr>\n",
       "    <tr>\n",
       "      <th>b2_dp1_max</th>\n",
       "      <td>56</td>\n",
       "      <td>73</td>\n",
       "      <td>42</td>\n",
       "      <td>64</td>\n",
       "      <td>60</td>\n",
       "      <td>54</td>\n",
       "      <td>85</td>\n",
       "      <td>50</td>\n",
       "      <td>68</td>\n",
       "    </tr>\n",
       "    <tr>\n",
       "      <th>b2_dp1_mean</th>\n",
       "      <td>39.1111</td>\n",
       "      <td>63.4444</td>\n",
       "      <td>33.4375</td>\n",
       "      <td>59.8333</td>\n",
       "      <td>55.4444</td>\n",
       "      <td>43.1875</td>\n",
       "      <td>81.4167</td>\n",
       "      <td>46.3333</td>\n",
       "      <td>61.75</td>\n",
       "    </tr>\n",
       "    <tr>\n",
       "      <th>b2_dp1_std</th>\n",
       "      <td>12.3418</td>\n",
       "      <td>5.56</td>\n",
       "      <td>6.41257</td>\n",
       "      <td>3.13138</td>\n",
       "      <td>3.62433</td>\n",
       "      <td>4.71989</td>\n",
       "      <td>2.81242</td>\n",
       "      <td>2.53859</td>\n",
       "      <td>3.00347</td>\n",
       "    </tr>\n",
       "    <tr>\n",
       "      <th>b2_dp1_med</th>\n",
       "      <td>44</td>\n",
       "      <td>61</td>\n",
       "      <td>34</td>\n",
       "      <td>60.5</td>\n",
       "      <td>56</td>\n",
       "      <td>42</td>\n",
       "      <td>81</td>\n",
       "      <td>47</td>\n",
       "      <td>61</td>\n",
       "    </tr>\n",
       "    <tr>\n",
       "      <th>b2_dp1_p25</th>\n",
       "      <td>26</td>\n",
       "      <td>60</td>\n",
       "      <td>28</td>\n",
       "      <td>57.75</td>\n",
       "      <td>54</td>\n",
       "      <td>41</td>\n",
       "      <td>81</td>\n",
       "      <td>44</td>\n",
       "      <td>59</td>\n",
       "    </tr>\n",
       "    <tr>\n",
       "      <th>b2_dp1_p50</th>\n",
       "      <td>44</td>\n",
       "      <td>61</td>\n",
       "      <td>34</td>\n",
       "      <td>60.5</td>\n",
       "      <td>56</td>\n",
       "      <td>42</td>\n",
       "      <td>81</td>\n",
       "      <td>47</td>\n",
       "      <td>61</td>\n",
       "    </tr>\n",
       "    <tr>\n",
       "      <th>b2_dp1_p75</th>\n",
       "      <td>50</td>\n",
       "      <td>67</td>\n",
       "      <td>38.25</td>\n",
       "      <td>62.25</td>\n",
       "      <td>58</td>\n",
       "      <td>44.25</td>\n",
       "      <td>84</td>\n",
       "      <td>48</td>\n",
       "      <td>63.5</td>\n",
       "    </tr>\n",
       "    <tr>\n",
       "      <th>b2_dp1_p95</th>\n",
       "      <td>54</td>\n",
       "      <td>72.2</td>\n",
       "      <td>42</td>\n",
       "      <td>63.45</td>\n",
       "      <td>59.6</td>\n",
       "      <td>54</td>\n",
       "      <td>84.45</td>\n",
       "      <td>49.2</td>\n",
       "      <td>66.35</td>\n",
       "    </tr>\n",
       "    <tr>\n",
       "      <th>b2_dp1_p99</th>\n",
       "      <td>55.6</td>\n",
       "      <td>72.84</td>\n",
       "      <td>42</td>\n",
       "      <td>63.89</td>\n",
       "      <td>59.92</td>\n",
       "      <td>54</td>\n",
       "      <td>84.89</td>\n",
       "      <td>49.84</td>\n",
       "      <td>67.67</td>\n",
       "    </tr>\n",
       "    <tr>\n",
       "      <th>b3_dp1_min</th>\n",
       "      <td>31</td>\n",
       "      <td>23</td>\n",
       "      <td>48</td>\n",
       "      <td>31</td>\n",
       "      <td>33</td>\n",
       "      <td>41</td>\n",
       "      <td>10</td>\n",
       "      <td>45</td>\n",
       "      <td>29</td>\n",
       "    </tr>\n",
       "    <tr>\n",
       "      <th>b3_dp1_max</th>\n",
       "      <td>53</td>\n",
       "      <td>38</td>\n",
       "      <td>72</td>\n",
       "      <td>41</td>\n",
       "      <td>45</td>\n",
       "      <td>60</td>\n",
       "      <td>21</td>\n",
       "      <td>54</td>\n",
       "      <td>39</td>\n",
       "    </tr>\n",
       "    <tr>\n",
       "      <th>b3_dp1_mean</th>\n",
       "      <td>44.3333</td>\n",
       "      <td>32.2222</td>\n",
       "      <td>58.25</td>\n",
       "      <td>35.25</td>\n",
       "      <td>38.6667</td>\n",
       "      <td>52.5</td>\n",
       "      <td>14.4167</td>\n",
       "      <td>49.3333</td>\n",
       "      <td>35.25</td>\n",
       "    </tr>\n",
       "    <tr>\n",
       "      <th>b3_dp1_med</th>\n",
       "      <td>46</td>\n",
       "      <td>35</td>\n",
       "      <td>58.5</td>\n",
       "      <td>34.5</td>\n",
       "      <td>39</td>\n",
       "      <td>53</td>\n",
       "      <td>14.5</td>\n",
       "      <td>49</td>\n",
       "      <td>36</td>\n",
       "    </tr>\n",
       "    <tr>\n",
       "      <th>b3_dp1_p25</th>\n",
       "      <td>38</td>\n",
       "      <td>30</td>\n",
       "      <td>49</td>\n",
       "      <td>32.75</td>\n",
       "      <td>37</td>\n",
       "      <td>52</td>\n",
       "      <td>11.75</td>\n",
       "      <td>48</td>\n",
       "      <td>33.75</td>\n",
       "    </tr>\n",
       "    <tr>\n",
       "      <th>b3_dp1_p50</th>\n",
       "      <td>46</td>\n",
       "      <td>35</td>\n",
       "      <td>58.5</td>\n",
       "      <td>34.5</td>\n",
       "      <td>39</td>\n",
       "      <td>53</td>\n",
       "      <td>14.5</td>\n",
       "      <td>49</td>\n",
       "      <td>36</td>\n",
       "    </tr>\n",
       "    <tr>\n",
       "      <th>b3_dp1_p75</th>\n",
       "      <td>48</td>\n",
       "      <td>36</td>\n",
       "      <td>63.75</td>\n",
       "      <td>37.25</td>\n",
       "      <td>41</td>\n",
       "      <td>55</td>\n",
       "      <td>15.25</td>\n",
       "      <td>50</td>\n",
       "      <td>37.25</td>\n",
       "    </tr>\n",
       "    <tr>\n",
       "      <th>b3_dp1_p95</th>\n",
       "      <td>52.2</td>\n",
       "      <td>37.2</td>\n",
       "      <td>71.25</td>\n",
       "      <td>40.45</td>\n",
       "      <td>43.8</td>\n",
       "      <td>58.5</td>\n",
       "      <td>20.45</td>\n",
       "      <td>53.2</td>\n",
       "      <td>38.45</td>\n",
       "    </tr>\n",
       "    <tr>\n",
       "      <th>b3_dp1_p99</th>\n",
       "      <td>52.84</td>\n",
       "      <td>37.84</td>\n",
       "      <td>71.85</td>\n",
       "      <td>40.89</td>\n",
       "      <td>44.76</td>\n",
       "      <td>59.7</td>\n",
       "      <td>20.89</td>\n",
       "      <td>53.84</td>\n",
       "      <td>38.89</td>\n",
       "    </tr>\n",
       "    <tr>\n",
       "      <th>b3_dp1_std</th>\n",
       "      <td>6.74949</td>\n",
       "      <td>4.7088</td>\n",
       "      <td>8.50368</td>\n",
       "      <td>3.16557</td>\n",
       "      <td>3.4641</td>\n",
       "      <td>4.82183</td>\n",
       "      <td>3.27766</td>\n",
       "      <td>2.4037</td>\n",
       "      <td>2.80253</td>\n",
       "    </tr>\n",
       "  </tbody>\n",
       "</table>\n",
       "</div>"
      ],
      "text/plain": [
       "uid_x              55       56           145      57       58       60   \\\n",
       "site           girra01   hshr01   NTAGFU0023    hsf01    hsf02   wedo03   \n",
       "bio_agb_kg1ha  17994.8  35199.7  1.29347e+07  25701.7  26636.3  11338.1   \n",
       "b1_dp1_min           1        1            2        1        1        1   \n",
       "b1_dp1_max          28        5           15        5        9        6   \n",
       "b1_dp1_mean         15  3.11111       6.5625  3.58333  4.55556        3   \n",
       "b1_dp1_std     9.56847  1.36987      3.65665  1.11492  2.45452  1.45774   \n",
       "b1_dp1_med          12        3            7      3.5        4        3   \n",
       "b1_dp1_p25           9        2            3        3        3        2   \n",
       "b1_dp1_p50          12        3            7      3.5        4        3   \n",
       "b1_dp1_p75          24        4            9     4.25        6        4   \n",
       "b1_dp1_p95        26.8        5        12.75        5      8.2     5.25   \n",
       "b1_dp1_p99       27.76        5        14.55        5     8.84     5.85   \n",
       "b2_dp1_min          24       56           21       54       48       36   \n",
       "b2_dp1_max          56       73           42       64       60       54   \n",
       "b2_dp1_mean    39.1111  63.4444      33.4375  59.8333  55.4444  43.1875   \n",
       "b2_dp1_std     12.3418     5.56      6.41257  3.13138  3.62433  4.71989   \n",
       "b2_dp1_med          44       61           34     60.5       56       42   \n",
       "b2_dp1_p25          26       60           28    57.75       54       41   \n",
       "b2_dp1_p50          44       61           34     60.5       56       42   \n",
       "b2_dp1_p75          50       67        38.25    62.25       58    44.25   \n",
       "b2_dp1_p95          54     72.2           42    63.45     59.6       54   \n",
       "b2_dp1_p99        55.6    72.84           42    63.89    59.92       54   \n",
       "b3_dp1_min          31       23           48       31       33       41   \n",
       "b3_dp1_max          53       38           72       41       45       60   \n",
       "b3_dp1_mean    44.3333  32.2222        58.25    35.25  38.6667     52.5   \n",
       "b3_dp1_med          46       35         58.5     34.5       39       53   \n",
       "b3_dp1_p25          38       30           49    32.75       37       52   \n",
       "b3_dp1_p50          46       35         58.5     34.5       39       53   \n",
       "b3_dp1_p75          48       36        63.75    37.25       41       55   \n",
       "b3_dp1_p95        52.2     37.2        71.25    40.45     43.8     58.5   \n",
       "b3_dp1_p99       52.84    37.84        71.85    40.89    44.76     59.7   \n",
       "b3_dp1_std     6.74949   4.7088      8.50368  3.16557   3.4641  4.82183   \n",
       "\n",
       "uid_x               54       105      1    \n",
       "site               ep01   legu07    lit01  \n",
       "bio_agb_kg1ha   18757.2  9708.97  25585.1  \n",
       "b1_dp1_min            2        2        1  \n",
       "b1_dp1_max            4        5        3  \n",
       "b1_dp1_mean         2.5  2.77778  1.33333  \n",
       "b1_dp1_std     0.763763   1.0304  0.62361  \n",
       "b1_dp1_med            2        2        1  \n",
       "b1_dp1_p25            2        2        1  \n",
       "b1_dp1_p50            2        2        1  \n",
       "b1_dp1_p75            3        3     1.25  \n",
       "b1_dp1_p95            4      4.6     2.45  \n",
       "b1_dp1_p99            4     4.92     2.89  \n",
       "b2_dp1_min           76       42       58  \n",
       "b2_dp1_max           85       50       68  \n",
       "b2_dp1_mean     81.4167  46.3333    61.75  \n",
       "b2_dp1_std      2.81242  2.53859  3.00347  \n",
       "b2_dp1_med           81       47       61  \n",
       "b2_dp1_p25           81       44       59  \n",
       "b2_dp1_p50           81       47       61  \n",
       "b2_dp1_p75           84       48     63.5  \n",
       "b2_dp1_p95        84.45     49.2    66.35  \n",
       "b2_dp1_p99        84.89    49.84    67.67  \n",
       "b3_dp1_min           10       45       29  \n",
       "b3_dp1_max           21       54       39  \n",
       "b3_dp1_mean     14.4167  49.3333    35.25  \n",
       "b3_dp1_med         14.5       49       36  \n",
       "b3_dp1_p25        11.75       48    33.75  \n",
       "b3_dp1_p50         14.5       49       36  \n",
       "b3_dp1_p75        15.25       50    37.25  \n",
       "b3_dp1_p95        20.45     53.2    38.45  \n",
       "b3_dp1_p99        20.89    53.84    38.89  \n",
       "b3_dp1_std      3.27766   2.4037  2.80253  "
      ]
     },
     "execution_count": 76,
     "metadata": {},
     "output_type": "execute_result"
    }
   ],
   "source": [
    "df.loc[df[var_]>extvalhigh].T"
   ]
  },
  {
   "cell_type": "code",
   "execution_count": 77,
   "metadata": {},
   "outputs": [],
   "source": [
    "df_key_out_out = df_key.loc[df_key[var_]<extvalhigh]"
   ]
  },
  {
   "cell_type": "code",
   "execution_count": 78,
   "metadata": {},
   "outputs": [
    {
     "data": {
      "image/png": "[encoded data removed]",
      "text/plain": [
       "<Figure size 432x288 with 1 Axes>"
      ]
     },
     "metadata": {
      "needs_background": "light"
     },
     "output_type": "display_data"
    },
    {
     "data": {
      "image/png": "[encoded data removed]",
      "text/plain": [
       "<Figure size 432x288 with 1 Axes>"
      ]
     },
     "metadata": {
      "needs_background": "light"
     },
     "output_type": "display_data"
    },
    {
     "data": {
      "image/png": "[encoded data removed]",
      "text/plain": [
       "<Figure size 432x288 with 1 Axes>"
      ]
     },
     "metadata": {
      "needs_background": "light"
     },
     "output_type": "display_data"
    },
    {
     "data": {
      "image/png": "[encoded data removed]",
      "text/plain": [
       "<Figure size 432x288 with 1 Axes>"
      ]
     },
     "metadata": {
      "needs_background": "light"
     },
     "output_type": "display_data"
    },
    {
     "name": "stdout",
     "output_type": "stream",
     "text": [
      "==================================================\n"
     ]
    },
    {
     "data": {
      "image/png": "[encoded data removed]",
      "text/plain": [
       "<Figure size 432x288 with 1 Axes>"
      ]
     },
     "metadata": {
      "needs_background": "light"
     },
     "output_type": "display_data"
    },
    {
     "data": {
      "image/png": "[encoded data removed]",
      "text/plain": [
       "<Figure size 432x288 with 1 Axes>"
      ]
     },
     "metadata": {
      "needs_background": "light"
     },
     "output_type": "display_data"
    },
    {
     "data": {
      "image/png": "[encoded data removed]",
      "text/plain": [
       "<Figure size 432x288 with 1 Axes>"
      ]
     },
     "metadata": {
      "needs_background": "light"
     },
     "output_type": "display_data"
    },
    {
     "data": {
      "image/png": "[encoded data removed]",
      "text/plain": [
       "<Figure size 432x288 with 1 Axes>"
      ]
     },
     "metadata": {
      "needs_background": "light"
     },
     "output_type": "display_data"
    },
    {
     "name": "stdout",
     "output_type": "stream",
     "text": [
      "==================================================\n"
     ]
    },
    {
     "data": {
      "image/png": "[encoded data removed]",
      "text/plain": [
       "<Figure size 432x288 with 1 Axes>"
      ]
     },
     "metadata": {
      "needs_background": "light"
     },
     "output_type": "display_data"
    },
    {
     "data": {
      "image/png": "[encoded data removed]",
      "text/plain": [
       "<Figure size 432x288 with 1 Axes>"
      ]
     },
     "metadata": {
      "needs_background": "light"
     },
     "output_type": "display_data"
    },
    {
     "data": {
      "image/png": "[encoded data removed]",
      "text/plain": [
       "<Figure size 432x288 with 1 Axes>"
      ]
     },
     "metadata": {
      "needs_background": "light"
     },
     "output_type": "display_data"
    },
    {
     "data": {
      "image/png": "[encoded data removed]",
      "text/plain": [
       "<Figure size 432x288 with 1 Axes>"
      ]
     },
     "metadata": {
      "needs_background": "light"
     },
     "output_type": "display_data"
    },
    {
     "name": "stdout",
     "output_type": "stream",
     "text": [
      "==================================================\n"
     ]
    },
    {
     "data": {
      "image/png": "[encoded data removed]",
      "text/plain": [
       "<Figure size 432x288 with 1 Axes>"
      ]
     },
     "metadata": {
      "needs_background": "light"
     },
     "output_type": "display_data"
    },
    {
     "data": {
      "image/png": "[encoded data removed]",
      "text/plain": [
       "<Figure size 432x288 with 1 Axes>"
      ]
     },
     "metadata": {
      "needs_background": "light"
     },
     "output_type": "display_data"
    },
    {
     "data": {
      "image/png": "[encoded data removed]",
      "text/plain": [
       "<Figure size 432x288 with 1 Axes>"
      ]
     },
     "metadata": {
      "needs_background": "light"
     },
     "output_type": "display_data"
    },
    {
     "data": {
      "image/png": "[encoded data removed]",
      "text/plain": [
       "<Figure size 432x288 with 1 Axes>"
      ]
     },
     "metadata": {
      "needs_background": "light"
     },
     "output_type": "display_data"
    },
    {
     "name": "stdout",
     "output_type": "stream",
     "text": [
      "==================================================\n"
     ]
    },
    {
     "data": {
      "image/png": "[encoded data removed]",
      "text/plain": [
       "<Figure size 432x288 with 1 Axes>"
      ]
     },
     "metadata": {
      "needs_background": "light"
     },
     "output_type": "display_data"
    },
    {
     "data": {
      "image/png": "[encoded data removed]",
      "text/plain": [
       "<Figure size 432x288 with 1 Axes>"
      ]
     },
     "metadata": {
      "needs_background": "light"
     },
     "output_type": "display_data"
    },
    {
     "data": {
      "image/png": "[encoded data removed]",
      "text/plain": [
       "<Figure size 432x288 with 1 Axes>"
      ]
     },
     "metadata": {
      "needs_background": "light"
     },
     "output_type": "display_data"
    },
    {
     "data": {
      "image/png": "[encoded data removed]",
      "text/plain": [
       "<Figure size 432x288 with 1 Axes>"
      ]
     },
     "metadata": {
      "needs_background": "light"
     },
     "output_type": "display_data"
    },
    {
     "name": "stdout",
     "output_type": "stream",
     "text": [
      "==================================================\n"
     ]
    },
    {
     "data": {
      "image/png": "[encoded data removed]",
      "text/plain": [
       "<Figure size 432x288 with 1 Axes>"
      ]
     },
     "metadata": {
      "needs_background": "light"
     },
     "output_type": "display_data"
    },
    {
     "data": {
      "image/png": "[encoded data removed]",
      "text/plain": [
       "<Figure size 432x288 with 1 Axes>"
      ]
     },
     "metadata": {
      "needs_background": "light"
     },
     "output_type": "display_data"
    },
    {
     "data": {
      "image/png": "[encoded data removed]",
      "text/plain": [
       "<Figure size 432x288 with 1 Axes>"
      ]
     },
     "metadata": {
      "needs_background": "light"
     },
     "output_type": "display_data"
    },
    {
     "data": {
      "image/png": "[encoded data removed]",
      "text/plain": [
       "<Figure size 432x288 with 1 Axes>"
      ]
     },
     "metadata": {
      "needs_background": "light"
     },
     "output_type": "display_data"
    },
    {
     "name": "stdout",
     "output_type": "stream",
     "text": [
      "==================================================\n"
     ]
    },
    {
     "data": {
      "image/png": "[encoded data removed]",
      "text/plain": [
       "<Figure size 432x288 with 1 Axes>"
      ]
     },
     "metadata": {
      "needs_background": "light"
     },
     "output_type": "display_data"
    },
    {
     "data": {
      "image/png": "[encoded data removed]",
      "text/plain": [
       "<Figure size 432x288 with 1 Axes>"
      ]
     },
     "metadata": {
      "needs_background": "light"
     },
     "output_type": "display_data"
    },
    {
     "data": {
      "image/png": "[encoded data removed]",
      "text/plain": [
       "<Figure size 432x288 with 1 Axes>"
      ]
     },
     "metadata": {
      "needs_background": "light"
     },
     "output_type": "display_data"
    },
    {
     "data": {
      "image/png": "[encoded data removed]",
      "text/plain": [
       "<Figure size 432x288 with 1 Axes>"
      ]
     },
     "metadata": {
      "needs_background": "light"
     },
     "output_type": "display_data"
    },
    {
     "name": "stdout",
     "output_type": "stream",
     "text": [
      "==================================================\n"
     ]
    }
   ],
   "source": [
    "for i in key_var[1:]:\n",
    "    plt.hist(df_key_out_out[i], bins=7)\n",
    "    plt.axvline(df_key_out_out[i].mean(), color='red',\n",
    "    linestyle='dashed', linewidth=1, label='mean')\n",
    "    plt.axvline(df_key_out_out[i].median(), color='black',\n",
    "    linestyle='dashed', linewidth=1, label='median')\n",
    "    plt.title(i.title().replace(\"_\", \" \") + \" distribution\")\n",
    "    plt.xlabel('Number of sites')\n",
    "    plt.ylabel(i.title().replace(\"_\", \" \") + \" values\")\n",
    "    plt.legend()\n",
    "\n",
    "    plt.show()\n",
    "    \n",
    "    sm.qqplot(df_key_out_out[[i]].sort_values([i]).dropna(),line='s')\n",
    "    plt.title(i.title().replace(\"_\", \" \"))\n",
    "    plt.show()\n",
    "    \n",
    "    plt.boxplot(df_key_out_out[i].dropna(), labels=[i])\n",
    "    plt.title(i.title().replace(\"_\", \" \"))\n",
    "    plt.show()\n",
    "    \n",
    "    sns.violinplot(x=df_key_out_out[i])\n",
    "    plt.show()\n",
    "    print(\"=\"*50)\n",
    "    "
   ]
  },
  {
   "cell_type": "code",
   "execution_count": null,
   "metadata": {},
   "outputs": [],
   "source": []
  }
 ],
 "metadata": {
  "kernelspec": {
   "display_name": "Python 3",
   "language": "python",
   "name": "python3"
  },
  "language_info": {
   "codemirror_mode": {
    "name": "ipython",
    "version": 3
   },
   "file_extension": ".py",
   "mimetype": "text/x-python",
   "name": "python",
   "nbconvert_exporter": "python",
   "pygments_lexer": "ipython3",
   "version": "3.7.7"
  }
 },
 "nbformat": 4,
 "nbformat_minor": 4
}
