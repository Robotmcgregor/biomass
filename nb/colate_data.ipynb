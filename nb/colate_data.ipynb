{
 "cells": [
  {
   "cell_type": "markdown",
   "metadata": {},
   "source": [
    "# Merged meteorological AGB zonal stats colation"
   ]
  },
  {
   "cell_type": "markdown",
   "metadata": {},
   "source": [
    "This notebook looks for zonal stats subdirectories and the zonal stats csv outputs within them and concatenates all files into one data frame which is exported as a csv to the output directory.\n",
    "\n",
    "The following conditions apply:\n",
    "\n",
    " - run after Seasonal Biomass Zonal Pipeline.\n",
    " - env = base"
   ]
  },
  {
   "cell_type": "code",
   "execution_count": null,
   "metadata": {},
   "outputs": [],
   "source": [
    "import pandas as pd\n",
    "from glob import glob\n",
    "import os\n",
    "from calendar import monthrange\n",
    "from datetime import datetime"
   ]
  },
  {
   "cell_type": "code",
   "execution_count": null,
   "metadata": {},
   "outputs": [],
   "source": [
    "basal = r\"E:\\cdu\\data\\output\\slats_tern_c_bio_site_totals_v6.csv\"\n",
    "basal_df = pd.read_csv(basal)"
   ]
  },
  {
   "cell_type": "code",
   "execution_count": null,
   "metadata": {},
   "outputs": [],
   "source": [
    "dir_ = r\"E:\\cdu\\data\\zonal_stats\\output\\gr_meteorological_20221020_1025\"\n",
    "output_dir = r\"E:\\cdu\\data\\output\\zonal_stats\""
   ]
  },
  {
   "cell_type": "code",
   "execution_count": null,
   "metadata": {},
   "outputs": [],
   "source": [
    "def start_seasonal_date(date_):\n",
    "    \"\"\" extract the end dates of the seasonal image zonal stats.\"\"\"\n",
    "    \n",
    "    year = date_[:4]\n",
    "    month = date_[4:]\n",
    "    \n",
    "    start_date = str(year) + str(month) + \"01\"\n",
    "    \n",
    "    return start_date\n",
    "    \n",
    "\n",
    "def end_seasonal_date(date_):\n",
    "    \n",
    "    \"\"\" extract the start dates of the seasonal image zonal stats.\"\"\"\n",
    "    #print(\"date: \", date_)\n",
    "    year = str(date_[:4])\n",
    "    month = str(date_[4:])\n",
    "    #print(\"month: \", month)\n",
    "    \n",
    "    month_, day_range = monthrange(int(year), int(month))\n",
    "    end_date = str(year) + str(month) + str(day_range)\n",
    "    #print(end_date)\n",
    "    return end_date\n",
    "\n",
    "\n",
    "def im_date_season(df):\n",
    "    \"\"\"Collate start date of image into im_date column\"\"\"\n",
    "    \n",
    "    st_date_list = []\n",
    "    e_date_list = []\n",
    "    for i in df.im_name:\n",
    "        #print(i)\n",
    "        list_name = i.split(\"_\")\n",
    "        date = list_name[-2]\n",
    "        st_date = date[1:7]\n",
    "        start_date = start_seasonal_date(st_date)\n",
    "        st_date_list.append(start_date)\n",
    "        \n",
    "        e_date = date[7:] \n",
    "        end_date = end_seasonal_date(e_date)\n",
    "        e_date_list.append(end_date)\n",
    "        \n",
    "    df[\"im_s_date\"] = st_date_list\n",
    "    df[\"im_e_date\"] = e_date_list\n",
    "    \n",
    "    return df\n",
    "        \n",
    "    \n",
    "def im_date_annual(df):\n",
    "    \"\"\"Collate start date of image into im_date column\"\"\"\n",
    "    \n",
    "    st_date_list = []\n",
    "    e_date_list = []\n",
    "    for i in df.im_name:\n",
    "        #print(i)\n",
    "        list_name = i.split(\"_\")\n",
    "        date = list_name[-2]\n",
    "        st_date = str(date) + \"01\"\n",
    "        start_date = start_seasonal_date(st_date)\n",
    "        st_date_list.append(start_date)\n",
    "        \n",
    "        e_date = str(date) + \"12\"\n",
    "        end_date = end_seasonal_date(e_date)\n",
    "        e_date_list.append(end_date)\n",
    "        \n",
    "    df[\"im_s_date\"] = st_date_list\n",
    "    df[\"im_e_date\"] = e_date_list\n",
    "    \n",
    "    return df\n",
    "\n",
    "    \n",
    "def convert_to_datetime(df, col_nm_s, col_nm_d):\n",
    "    \n",
    "    date_list = []\n",
    "    for i in df[col_nm_s]:\n",
    "        #print(i)\n",
    "        datetime_object = datetime.strptime(str(i), '%Y%m%d')\n",
    "        date_list.append(datetime_object)\n",
    "        print(datetime_object)\n",
    "        #df[col_nm_d] =  pd.to_datetime(df[col_nm_s], format='%Y%m%d.%f')\n",
    "        #date_time = now.strftime(\"%m/%d/%Y, %H:%M:%S\")\n",
    "    df[col_nm_d] = date_list\n",
    "    return df        "
   ]
  },
  {
   "cell_type": "code",
   "execution_count": null,
   "metadata": {},
   "outputs": [],
   "source": [
    "basal_df = convert_to_datetime(basal_df, \"date\", \"basal_dt\")\n",
    "basal_df.sort_values(by='basal_dt', inplace=True)"
   ]
  },
  {
   "cell_type": "code",
   "execution_count": null,
   "metadata": {},
   "outputs": [],
   "source": [
    "basal_df.shape"
   ]
  },
  {
   "cell_type": "code",
   "execution_count": null,
   "metadata": {},
   "outputs": [],
   "source": [
    "# extract a list of subdirectories from the qld meterological zonal stats\n",
    "sub_list = next(os.walk(dir_))[1]\n",
    "sub_list\n",
    "\n",
    "zonal_list = []\n",
    "sub_dir_list = []\n",
    "for sub_dir in sub_list:\n",
    "    file_list = []\n",
    "    #print(sub_dir)\n",
    "    sub_dir_path = os.path.join(dir_, sub_dir)\n",
    "    sub_dir_df_list = []\n",
    "    for file_ in glob(os.path.join(sub_dir_path, \"*.csv\")):\n",
    "        if \"zonal_stats\" in file_:\n",
    "            sub_dir_list.append(file_)\n",
    "            print(file_)\n",
    "\n",
    "            df = pd.read_csv(file_)\n",
    "            df = convert_to_datetime(df, \"im_date\", \"image_dt\")\n",
    "            df.sort_values(by='image_dt', inplace=True)\n",
    "            print(df.columns)\n",
    "            sub_dir_df_list.append(df)\n",
    "    df1 = pd.concat(sub_dir_df_list)\n",
    "    \n",
    "    print(df1.columns)\n",
    "    # locate min column name and delete values that are missing\n",
    "    df_columns = df1.columns.tolist()\n",
    "    \n",
    "    min_column = [columns for columns in df_columns if \"min\" in columns]\n",
    "    print(\"Min column: \", min_column)\n",
    "    \n",
    "        \n",
    "    df1.dropna(subset = [min_columns], inplace=True)\n",
    "    \n",
    "    #merge data with basal datset based on the nearest date to the field data colection\n",
    "    df1 = pd.merge_asof(basal_df, df1, left_on=\"basal_dt\", right_on= \"image_dt\", by=\"site\", direction=\"nearest\")\n",
    "        \n",
    "    output_path = os.path.join(output_dir, \"merged_slats_field_agb_meterological_{0}.csv\".format(sub_dir))\n",
    "    df1.to_csv(os.path.join(output_path), index=False)\n",
    "    print(\"File output to: \", output_path)\n",
    "    \n",
    "    \n",
    "    zonal_list.append(df1)"
   ]
  },
  {
   "cell_type": "code",
   "execution_count": null,
   "metadata": {},
   "outputs": [],
   "source": [
    "# file_list"
   ]
  },
  {
   "cell_type": "code",
   "execution_count": null,
   "metadata": {},
   "outputs": [],
   "source": [
    "                      \n",
    "# if len(file_list) > 1:\n",
    "#     df1 = pd.concat(file_list)\n",
    "#     # convert to datetime\n",
    "#     df1 = convert_to_datetime(df1, \"im_date\", \"image_dt\")\n",
    "\n",
    "                \n",
    "#     #sort df on datetime data\n",
    "#     df1.sort_values(by='image_dt', inplace=True)\n",
    "#     print(df1.columns)\n",
    "#     # locate min column name and delete values that are missing\n",
    "#     df_columns = dft.columns.tolist()\n",
    "    \n",
    "#     min_column = [columns for columns in df_columns if \"min\" in columns]\n",
    "#     print(\"Min column: \", min_column)\n",
    "    \n",
    "        \n",
    "#     dp1_start.dropna(subset = [min_columns], inplace=True)\n",
    "\n",
    "# else:\n",
    "#     pass"
   ]
  },
  {
   "cell_type": "code",
   "execution_count": null,
   "metadata": {},
   "outputs": [],
   "source": [
    "# df2 = pd.merge_asof(basal_df, df1, left_on=\"basal_dt\", right_on= \"image_dt\", by=\"site\", direction=\"nearest\")\n",
    "# output_path = os.path.join(output_dir, \"merged_basal_zonal\", \"merged_slats_field_agb_metero_{0}.csv\".format(sub_dir))\n",
    "# df2.to_csv(os.path.join(output_path), index=False)\n",
    "# print(\"File output to: \", output_path)"
   ]
  },
  {
   "cell_type": "code",
   "execution_count": null,
   "metadata": {},
   "outputs": [],
   "source": []
  }
 ],
 "metadata": {
  "kernelspec": {
   "display_name": "Python 3",
   "language": "python",
   "name": "python3"
  },
  "language_info": {
   "codemirror_mode": {
    "name": "ipython",
    "version": 3
   },
   "file_extension": ".py",
   "mimetype": "text/x-python",
   "name": "python",
   "nbconvert_exporter": "python",
   "pygments_lexer": "ipython3",
   "version": "3.7.7"
  }
 },
 "nbformat": 4,
 "nbformat_minor": 5
}
