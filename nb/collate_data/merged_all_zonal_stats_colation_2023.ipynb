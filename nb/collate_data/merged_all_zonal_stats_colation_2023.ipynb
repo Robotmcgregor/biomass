{
 "cells": [
  {
   "cell_type": "markdown",
   "metadata": {},
   "source": [
    "# Merged all Zonal Stats Colation"
   ]
  },
  {
   "cell_type": "markdown",
   "metadata": {},
   "source": [
    "This notebook looks for zonal stats subdirectories and the zonal stats csv outputs within them and concatenates all files into one data frame which is exported as a csv to the output directory.\n",
    "\n",
    "The following conditions apply:\n",
    "\n",
    " - run after Seasonal Biomass Zonal Pipeline.\n",
    " - env = base"
   ]
  },
  {
   "cell_type": "code",
   "execution_count": 1,
   "metadata": {},
   "outputs": [],
   "source": [
    "import pandas as pd\n",
    "from glob import glob\n",
    "import os\n",
    "from calendar import monthrange\n",
    "from datetime import datetime\n",
    "import geopandas as gpd"
   ]
  },
  {
   "cell_type": "code",
   "execution_count": 2,
   "metadata": {},
   "outputs": [],
   "source": [
    "# # drive\n",
    "# drive = \"F\"\n",
    "# # processing date\n",
    "# date = \"20230109\"\n",
    "# date_met = \"20230109\"\n",
    "# # date of data exports\n",
    "# field_date = \"20230109\""
   ]
  },
  {
   "cell_type": "code",
   "execution_count": 3,
   "metadata": {},
   "outputs": [],
   "source": [
    "# drive\n",
    "drive = \"D\"\n",
    "# processing date\n",
    "date = \"20230109\"\n",
    "date_met = \"20230109\"\n",
    "# date of data exports\n",
    "field_date = \"20230109\""
   ]
  },
  {
   "cell_type": "code",
   "execution_count": 4,
   "metadata": {},
   "outputs": [],
   "source": [
    "#dir_ = r\"{0}:\\cdu\\data\\zonal_stats\\nt_mosaic\\rmcgr_nt_mosaic_20230104_0859\".format(drive)\n",
    "dir_ = r\"{0}:\\cdu\\data\\zonal_stats\\nt_mosaic\\rmcgr_nt_mosaic_20230401_1308\".format(drive)\n",
    "output_dir = r\"{0}:\\cdu\\data\\ml_outputs\\{1}\".format(drive, date)"
   ]
  },
  {
   "cell_type": "code",
   "execution_count": 5,
   "metadata": {},
   "outputs": [],
   "source": [
    "if not os.path.isdir(output_dir):\n",
    "    os.mkdir(output_dir)"
   ]
  },
  {
   "cell_type": "code",
   "execution_count": 5,
   "metadata": {},
   "outputs": [],
   "source": [
    "#NT mosaic\n",
    "mosaic_si = pd.read_csv(r'{0}:\\cdu\\data\\zonal_stats\\output\\{1}\\dja_dbi_dim_dis_dka_stc_h99a2_fpca2_dry_indicies_clean.csv'.format(drive, date))\n",
    "\n",
    "\n",
    "# Tile\n",
    "tile_si = pd.read_csv(r'{0}:\\cdu\\data\\zonal_stats\\output\\{1}\\dbg_dp0_df_dp1_dry_dp1_annual_indices_clean.csv'.format(drive, date))\n",
    "\n",
    "                      \n",
    "# Met\n",
    "met_near = pd.read_csv(r\"{0}:\\cdu\\data\\zonal_stats\\output\\{1}\\cleaned_near_met_zonal_stats.csv\".format(drive, date_met))\n",
    "met_for = pd.read_csv(r\"{0}:\\cdu\\data\\zonal_stats\\output\\{1}\\cleaned_for_met_zonal_stats.csv\".format(drive, date_met))\n",
    "met_back = pd.read_csv(r\"{0}:\\cdu\\data\\zonal_stats\\output\\{1}\\cleaned_back_met_zonal_stats.csv\".format(drive, date_met))"
   ]
  },
  {
   "cell_type": "code",
   "execution_count": 6,
   "metadata": {},
   "outputs": [
    {
     "name": "stdout",
     "output_type": "stream",
     "text": [
      "['site', 'bio_agb_kg1ha', 'rain_d_mean', 'et_ma_mean', 'et_mp_mean', 'et_mw_mean', 'et_sc_mean', 'et_tc_mean', 'evp_ml_mean', 'evp_s_mean', 'evp_s_mean.1', 'tmax_mean', 'tmin_mean', 'rain_m_mean', 'mslp_mean', 'rad_mean', 'rh_tmax_mean', 'rh_tmin_mean', 'vp_mean', 'vp_d_mean']\n"
     ]
    }
   ],
   "source": [
    "print(list(met_near.columns))"
   ]
  },
  {
   "cell_type": "code",
   "execution_count": 7,
   "metadata": {},
   "outputs": [],
   "source": [
    "mosaic_tile = pd.merge(mosaic_si, tile_si, on=['site', 'bio_agb_kg1ha'])\n",
    "mosaic_tile_met_near = pd.merge(mosaic_tile, met_near, on=['site', 'bio_agb_kg1ha'])"
   ]
  },
  {
   "cell_type": "code",
   "execution_count": 8,
   "metadata": {},
   "outputs": [],
   "source": [
    "out = os.path.join(output_dir, \"mosaic_tile_ml_ready.csv\")\n",
    "mosaic_tile.to_csv(out, index=False)"
   ]
  },
  {
   "cell_type": "code",
   "execution_count": 9,
   "metadata": {},
   "outputs": [],
   "source": [
    "out = os.path.join(output_dir, \"mosaic_tile__met_near_ml_ready.csv\")\n",
    "mosaic_tile_met_near.to_csv(out, index=False)"
   ]
  },
  {
   "cell_type": "code",
   "execution_count": null,
   "metadata": {},
   "outputs": [],
   "source": []
  }
 ],
 "metadata": {
  "kernelspec": {
   "display_name": "Python 3",
   "language": "python",
   "name": "python3"
  },
  "language_info": {
   "codemirror_mode": {
    "name": "ipython",
    "version": 3
   },
   "file_extension": ".py",
   "mimetype": "text/x-python",
   "name": "python",
   "nbconvert_exporter": "python",
   "pygments_lexer": "ipython3",
   "version": "3.7.7"
  }
 },
 "nbformat": 4,
 "nbformat_minor": 5
}
