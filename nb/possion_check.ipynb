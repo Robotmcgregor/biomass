{
 "cells": [
  {
   "cell_type": "code",
   "execution_count": 1,
   "metadata": {},
   "outputs": [
    {
     "name": "stdout",
     "output_type": "stream",
     "text": [
      "Probability of at least one fire in every 5-year interval over 30 years: 0.9602\n"
     ]
    }
   ],
   "source": [
    "import math\n",
    "\n",
    "def poisson_probability(lam, k):\n",
    "    return (lam ** k) * math.exp(-lam) / math.factorial(k)\n",
    "\n",
    "def probability_of_at_least_one_fire(lam, years):\n",
    "    lam_years = lam * years\n",
    "    return 1 - poisson_probability(lam_years, 0)\n",
    "\n",
    "def probability_of_fires_in_every_interval(lam, total_years, interval):\n",
    "    probability_per_interval = probability_of_at_least_one_fire(lam, interval)\n",
    "    intervals = total_years // interval\n",
    "    return probability_per_interval ** intervals\n",
    "\n",
    "# Example usage\n",
    "lambda_per_year = 1  # Example average rate of fires per year\n",
    "total_years = 30\n",
    "interval_years = 5\n",
    "\n",
    "probability = probability_of_fires_in_every_interval(lambda_per_year, total_years, interval_years)\n",
    "\n",
    "print(f\"Probability of at least one fire in every {interval_years}-year interval over {total_years} years: {probability:.4f}\")"
   ]
  },
  {
   "cell_type": "code",
   "execution_count": null,
   "metadata": {},
   "outputs": [],
   "source": []
  }
 ],
 "metadata": {
  "kernelspec": {
   "display_name": "Python 3",
   "language": "python",
   "name": "python3"
  },
  "language_info": {
   "codemirror_mode": {
    "name": "ipython",
    "version": 3
   },
   "file_extension": ".py",
   "mimetype": "text/x-python",
   "name": "python",
   "nbconvert_exporter": "python",
   "pygments_lexer": "ipython3",
   "version": "3.7.7"
  }
 },
 "nbformat": 4,
 "nbformat_minor": 4
}
