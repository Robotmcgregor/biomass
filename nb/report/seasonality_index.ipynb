{
 "cells": [
  {
   "cell_type": "code",
   "execution_count": 1,
   "metadata": {},
   "outputs": [],
   "source": [
    "from statistics import mean"
   ]
  },
  {
   "cell_type": "code",
   "execution_count": 2,
   "metadata": {},
   "outputs": [],
   "source": [
    "\n",
    "mean_data = [102, 102, 1, 2, 6, 5, 10, 55, 88, 77, 12, 11]\n",
    "\n",
    "R =mean(mean_data)"
   ]
  },
  {
   "cell_type": "code",
   "execution_count": 3,
   "metadata": {},
   "outputs": [
    {
     "data": {
      "text/plain": [
       "39.25"
      ]
     },
     "execution_count": 3,
     "metadata": {},
     "output_type": "execute_result"
    }
   ],
   "source": [
    "R"
   ]
  },
  {
   "cell_type": "code",
   "execution_count": 13,
   "metadata": {},
   "outputs": [
    {
     "name": "stdout",
     "output_type": "stream",
     "text": [
      "102\n",
      "third:  98.72916666666667\n",
      "first part:  0.025477707006369428\n",
      "third part:  98.72916666666667\n",
      "102\n",
      "third:  98.72916666666667\n",
      "first part:  0.025477707006369428\n",
      "third part:  98.72916666666667\n",
      "1\n",
      "third:  -2.2708333333333335\n",
      "negative\n",
      "first part:  0.025477707006369428\n",
      "third part:  2.2708333333333335\n",
      "2\n",
      "third:  -1.2708333333333335\n",
      "negative\n",
      "first part:  0.025477707006369428\n",
      "third part:  1.2708333333333335\n",
      "6\n",
      "third:  2.7291666666666665\n",
      "first part:  0.025477707006369428\n",
      "third part:  2.7291666666666665\n",
      "5\n",
      "third:  1.7291666666666665\n",
      "first part:  0.025477707006369428\n",
      "third part:  1.7291666666666665\n",
      "10\n",
      "third:  6.729166666666666\n",
      "first part:  0.025477707006369428\n",
      "third part:  6.729166666666666\n",
      "55\n",
      "third:  51.729166666666664\n",
      "first part:  0.025477707006369428\n",
      "third part:  51.729166666666664\n",
      "88\n",
      "third:  84.72916666666667\n",
      "first part:  0.025477707006369428\n",
      "third part:  84.72916666666667\n",
      "77\n",
      "third:  73.72916666666667\n",
      "first part:  0.025477707006369428\n",
      "third part:  73.72916666666667\n",
      "12\n",
      "third:  8.729166666666666\n",
      "first part:  0.025477707006369428\n",
      "third part:  8.729166666666666\n",
      "11\n",
      "third:  7.729166666666666\n",
      "first part:  0.025477707006369428\n",
      "third part:  7.729166666666666\n"
     ]
    }
   ],
   "source": [
    "third_list = []\n",
    "for Xj in mean_data:\n",
    "    \n",
    "    first_part = 1/R\n",
    "    print(Xj)\n",
    "    third_part = Xj - (R/12)\n",
    "    print(\"third: \", third_part)\n",
    "    if third_part <0:\n",
    "        third_part_ = third_part*(-1)\n",
    "        print(\"negative\")\n",
    "    else:\n",
    "        third_part_ = third_part\n",
    "    third_list.append(third_part_)    \n",
    "    #second_part = sum(mean_data)\n",
    "    #print(second_part)\n",
    "    print(\"first part: \", first_part)\n",
    "    print(\"third part: \", third_part_)\n",
    "answer = first_part * sum(third_list)"
   ]
  },
  {
   "cell_type": "code",
   "execution_count": 11,
   "metadata": {},
   "outputs": [
    {
     "data": {
      "text/plain": [
       "[98.72916666666667,\n",
       " 98.72916666666667,\n",
       " 2.2708333333333335,\n",
       " 1.2708333333333335,\n",
       " 2.7291666666666665,\n",
       " 1.7291666666666665,\n",
       " 6.729166666666666,\n",
       " 51.729166666666664,\n",
       " 84.72916666666667,\n",
       " 73.72916666666667,\n",
       " 8.729166666666666,\n",
       " 7.729166666666666]"
      ]
     },
     "execution_count": 11,
     "metadata": {},
     "output_type": "execute_result"
    }
   ],
   "source": [
    "third_list"
   ]
  },
  {
   "cell_type": "code",
   "execution_count": 14,
   "metadata": {},
   "outputs": [
    {
     "data": {
      "text/plain": [
       "11.18046709129512"
      ]
     },
     "execution_count": 14,
     "metadata": {},
     "output_type": "execute_result"
    }
   ],
   "source": [
    "answer"
   ]
  },
  {
   "cell_type": "code",
   "execution_count": 15,
   "metadata": {},
   "outputs": [],
   "source": [
    "def sigma(func, frm, to):\n",
    "    result = 0\n",
    "    for i in range(frm, to+1):\n",
    "        result += func(i)\n",
    "        return result"
   ]
  },
  {
   "cell_type": "code",
   "execution_count": 14,
   "metadata": {},
   "outputs": [
    {
     "name": "stdout",
     "output_type": "stream",
     "text": [
      "0\n",
      "2\n",
      "6\n",
      "12\n",
      "20\n",
      "30\n",
      "42\n",
      "56\n",
      "72\n",
      "90\n",
      "110\n",
      "132\n",
      "156\n",
      "182\n",
      "210\n",
      "240\n",
      "272\n",
      "306\n",
      "342\n",
      "380\n",
      "420\n",
      "462\n",
      "506\n",
      "552\n",
      "600\n",
      "650\n",
      "702\n",
      "756\n",
      "812\n",
      "870\n",
      "930\n",
      "992\n",
      "1056\n",
      "1122\n",
      "1190\n",
      "1260\n",
      "1332\n",
      "1406\n",
      "1482\n",
      "1560\n",
      "1640\n",
      "1722\n",
      "1806\n",
      "1892\n",
      "1980\n",
      "2070\n",
      "2162\n",
      "2256\n",
      "2352\n",
      "2450\n"
     ]
    }
   ],
   "source": []
  },
  {
   "cell_type": "code",
   "execution_count": null,
   "metadata": {},
   "outputs": [],
   "source": []
  }
 ],
 "metadata": {
  "kernelspec": {
   "display_name": "Python 3",
   "language": "python",
   "name": "python3"
  },
  "language_info": {
   "codemirror_mode": {
    "name": "ipython",
    "version": 3
   },
   "file_extension": ".py",
   "mimetype": "text/x-python",
   "name": "python",
   "nbconvert_exporter": "python",
   "pygments_lexer": "ipython3",
   "version": "3.7.7"
  }
 },
 "nbformat": 4,
 "nbformat_minor": 4
}
