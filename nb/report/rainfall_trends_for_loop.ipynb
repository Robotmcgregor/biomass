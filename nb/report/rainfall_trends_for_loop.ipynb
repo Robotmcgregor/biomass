{
 "cells": [
  {
   "cell_type": "code",
   "execution_count": null,
   "metadata": {},
   "outputs": [],
   "source": [
    "import pandas as pd\n",
    "import os\n",
    "from glob import glob\n",
    "from statistics import mean\n",
    "\n",
    "# Import libraries\n",
    "import matplotlib.pyplot as plt\n",
    "import numpy as np\n",
    "%matplotlib inline"
   ]
  },
  {
   "cell_type": "code",
   "execution_count": null,
   "metadata": {},
   "outputs": [],
   "source": [
    "def mk_dir_fn(path_):\n",
    "    \n",
    "    if not os.path.isdir(path_):\n",
    "        os.mkdir(path_)"
   ]
  },
  {
   "cell_type": "code",
   "execution_count": null,
   "metadata": {},
   "outputs": [],
   "source": [
    "# type of data\n",
    "d_type = \"et_morton_actual\"\n",
    "\n",
    "\n",
    "if d_type == \"daily_rain\":\n",
    "    str_type = \"precipitation\"\n",
    "    \n",
    "elif d_type == \"et_morton_actual\":\n",
    "    str_type = \"Morton's evapotranspiration\"\n",
    "\n",
    "elif d_type == \"max_temp\":\n",
    "    str_type = \"maximum temperature\"\n",
    "\n",
    "elif d_type == \"min_temp\":\n",
    "    str_type = \"minimum temperature\"\n",
    "\n",
    "elif d_type == \"rh_tmax\":\n",
    "    str_type = \"maximum relative humidity\"\n",
    "    \n",
    "elif d_type == \"rh_tmin\":\n",
    "    str_type = \"minimum relative humidity\"\n",
    "\n",
    "elif d_type == \"vp\":\n",
    "    str_type = \"vapour pressure\"\n",
    "else:\n",
    "    pass\n",
    "\n",
    "# met data\n",
    "dir_ = r\"X:\\PGB\\RSU\\biomass\\raw_zonal_stats\\met\\collation\\{0}\".format(d_type)\n",
    "\n",
    "# plot directories\n",
    "export_dir = r\"X:\\PGB\\RSU\\biomass\\plots\\{0}\".format(d_type)\n",
    "mk_dir_fn(export_dir)\n",
    "\n",
    "export_box = os.path.join(export_dir, \"box_plots\")\n",
    "mk_dir_fn(export_box)\n",
    "export_line = os.path.join(export_dir, \"line_plots\")\n",
    "mk_dir_fn(export_line)\n",
    "\n",
    "\n",
    "csv_export = r\"X:\\PGB\\RSU\\biomass\\met_zonal_stats_per_site\\{0}\".format(d_type)\n",
    "mk_dir_fn(csv_export)\n",
    "\n",
    "monthly_dir = os.path.join(csv_export, \"mean_monthly_{0}\".format(d_type))\n",
    "mk_dir_fn(monthly_dir)\n",
    "mean_monthly_dir = os.path.join(csv_export, \"monthly_{0}\".format(d_type))\n",
    "mk_dir_fn(mean_monthly_dir)"
   ]
  },
  {
   "cell_type": "code",
   "execution_count": null,
   "metadata": {},
   "outputs": [],
   "source": [
    "for f in glob(os.path.join(dir_, \"*.csv\")):\n",
    "    csv_file = f\n",
    "    print(\"-\"*100)\n",
    "    print(\"working for: \", f)\n",
    "    \n",
    "    df = pd.read_csv(csv_file)\n",
    "    df.dropna(inplace=True)\n",
    "    df1 = pd.read_csv(csv_file)\n",
    "    df1.dropna(inplace=True)\n",
    "    \n",
    "    # extract name and site year\n",
    "    _, f = os.path.split(csv_file)\n",
    "    flist = f.split(\"_\")\n",
    "    site_name, field_year = flist[0].split(\".\")\n",
    "    print(site_name, field_year)\n",
    "    \n",
    "    # splitting date time to year month and day\n",
    "    year = []\n",
    "    month = []\n",
    "    day = []\n",
    "\n",
    "    for index, row in df.iterrows():\n",
    "        #print(row[\"im_date\"])\n",
    "        date = str(row[\"im_date\"])\n",
    "        year.append(date[:4])\n",
    "        month.append(date[4:6])\n",
    "        day.append(date[6:])\n",
    "\n",
    "    df[\"year\"] = year\n",
    "    df[\"month\"] = month\n",
    "    df[\"day\"] = day\n",
    "    \n",
    "    # collate df\n",
    "    year_list = []\n",
    "    month_list = []\n",
    "\n",
    "    mean_list = []\n",
    "    \n",
    "    print(list(df.columns))\n",
    "\n",
    "#     # ---------------- calulate montly mean met value across all data ---------------------------\n",
    "    \n",
    "    for y in df[\"year\"].unique():\n",
    "        #year_list.append(y)\n",
    "        y_df = df[df[\"year\"]== y]\n",
    "\n",
    "        for m in y_df[\"month\"].unique():\n",
    "            my_df = y_df[y_df[\"month\"]== m]\n",
    "            \n",
    "            col_list = my_df.columns.tolist()\n",
    "            #print(col_list)\n",
    "            matches = [match for match in col_list if \"mean\" in match]\n",
    "            #print(matches[0])\n",
    "            ym = my_df[matches[0]].tolist()\n",
    "            year_list.append(y)\n",
    "            month_list.append(m)\n",
    "            mean_list.append(mean(ym))\n",
    "            \n",
    "            \n",
    "    monthly_df = pd.DataFrame({\"year\": year_list,\n",
    "                     \"month\": month_list,\n",
    "                    \"mean\": mean_list})\n",
    "    \n",
    "    monthly_df.insert(0, \"site\", site_name)\n",
    "    monthly_df.insert(1, \"site_year\", field_year)\n",
    "    monthly_df.insert(2, \"met\", d_type)\n",
    "    \n",
    "    monthly_out = os.path.join(monthly_dir, f\"{site_name}_monthly_{d_type}.csv\")\n",
    "    monthly_df.to_csv(monthly_out, index = False)\n",
    "    \n",
    "#     # ------------------------------------------------------------------------------------------\n",
    "    \n",
    "    \n",
    "    month_list2 = []\n",
    "    mean_month_list = []\n",
    "    month_list3 = []\n",
    "\n",
    "    for m in monthly_df[\"month\"].unique():\n",
    "        #print(\"month: \", m)\n",
    "        #month_list3.append(m)\n",
    "\n",
    "        my_df = monthly_df[monthly_df[\"month\"]== m]\n",
    "        month_var = my_df[\"mean\"].tolist()\n",
    "        \n",
    "        mean_month_list.append(mean(month_var))\n",
    "        month_list3.append(month_var)\n",
    "        month_list2.append(m)\n",
    "    \n",
    "    print(\"month_list2: \", month_list2)\n",
    "    print(\"mean_month_list: \", mean_month_list)\n",
    "    print(\"=\"*50)\n",
    "    mean_monthly_df = pd.DataFrame({\n",
    "                             \"month\": month_list2,\n",
    "                            \"var\": mean_month_list})\n",
    "    \n",
    "    mean_monthly_df.insert(0, \"site\", site_name)\n",
    "    mean_monthly_df.insert(1, \"site_year\", field_year)\n",
    "    mean_monthly_df.insert(2, \"met\", d_type)\n",
    "    \n",
    "    mean_monthly_out = os.path.join(mean_monthly_dir, f\"{site_name}_mean_monthly_rain.csv\")\n",
    "    mean_monthly_df.to_csv(mean_monthly_out, index = False)\n",
    "    \n",
    "    print(\"export: \", mean_monthly_out)\n",
    "\n",
    "    \n",
    "    # ------------------------------------------ Box Plot -----------------------------------------------\n",
    "        \n",
    "    data = month_list3\n",
    "    #print(data)\n",
    "\n",
    "    fig = plt.figure(figsize =(10, 7))\n",
    "    #plt.xlim(-10, 10)\n",
    "    plt.ylim(-5,25)\n",
    "\n",
    "    plt.xticks([1, 2, 3, 4, 5, 6, 7, 8, 9, 10, 11, 12], \n",
    "               ['Jan', 'Feb', 'Mar', 'Apr', 'May', 'June', 'July', 'Aug', 'Sep', 'Oct', 'Nov', 'Dec'], \n",
    "               #rotation=90,  fontsize='12',\n",
    "              )\n",
    "    plt.title(f'Mean monthly {str_type} variation between 1988 and 2023 at site: {site_name}.',  fontsize='12', horizontalalignment='center')\n",
    "    # Custom Axis title\n",
    "    plt.xlabel('Months',  fontsize='12', horizontalalignment='center')\n",
    "    # Custom Axis title\n",
    "    plt.ylabel('Monthly mean {0} (mm)'.format(str_type),  fontsize='12', horizontalalignment='center')\n",
    "    # Creating plot\n",
    "    plt.boxplot(data, showfliers = False)\n",
    "\n",
    "    #show plot\n",
    "    plt.show()\n",
    "\n",
    "    box_out = os.path.join(export_box, f\"{site_name}_{d_type}_box.jpg\")\n",
    "    plt.savefig(box_out)\n",
    "\n",
    "    # Time trace \n",
    "    y_list = monthly_df[\"year\"].tolist()\n",
    "    m_list = monthly_df[\"month\"].tolist()\n",
    "    val_list = monthly_df[\"mean\"].tolist()\n",
    "    dt_list2 = []\n",
    "    year__ = monthly_df[\"year\"].unique().tolist()\n",
    "    for y, m, v  in zip(y_list, m_list, val_list):\n",
    "        i = f\"{str(y)}{str(m)}15\"\n",
    "\n",
    "        dt_list2.append(pd.to_datetime(i, format='%Y%m%d'))\n",
    "\n",
    "\n",
    "    # ---------------------- Time Trace --------------------------\n",
    "\n",
    "    df3 = pd.DataFrame(val_list, index=dt_list2, columns=[\"met\"])\n",
    "\n",
    "\n",
    "    fig, axs = plt.subplots(1,1, figsize=(18,5))\n",
    "    x = df3.index\n",
    "    y = df3.met\n",
    "    axs.plot(x, y)\n",
    "    fig.show() \n",
    "    \n",
    "    plt.title('Time trace mean {0} between 1988 and 2023, site: {1} .'.format(str_type, site_name),  fontsize='12', horizontalalignment='center')\n",
    "    # Custom Axis title\n",
    "    plt.xlabel('Years',  fontsize='12', horizontalalignment='center')\n",
    "    # Custom Axis title\n",
    "    plt.ylabel('Mean monthly {0} (mm)'.format(str_type),  fontsize='12', horizontalalignment='center')\n",
    "\n",
    "    axs.set_xticklabels(year__)\n",
    "    axs.xaxis.set_ticks(year__)\n",
    "    plt.xticks(rotation=90, ha='right')\n",
    "    # limit data time\n",
    "    plt.xlim(['1993', '2023'])\n",
    "\n",
    "    line_out = os.path.join(export_line, f\"{site_name}_{d_type}_line.jpg\")\n",
    "    plt.savefig(line_out)\n",
    "    fig.show()            "
   ]
  },
  {
   "cell_type": "code",
   "execution_count": null,
   "metadata": {},
   "outputs": [],
   "source": [
    "csv_file = r\"X:\\PGB\\RSU\\biomass\\raw_zonal_stats\\met\\collation\\daily_rain\\adelaideriver.2008_1ha_daily_rain_zonal_stats.csv\""
   ]
  },
  {
   "cell_type": "code",
   "execution_count": null,
   "metadata": {},
   "outputs": [],
   "source": [
    "df = pd.read_csv(csv_file)\n",
    "df1 = pd.read_csv(csv_file)"
   ]
  },
  {
   "cell_type": "code",
   "execution_count": null,
   "metadata": {},
   "outputs": [],
   "source": [
    "_, f = os.path.split(csv_file)\n",
    "flist = f.split(\"_\")\n",
    "site_name, field_year = flist[0].split(\".\")\n",
    "print(site_name, field_year)"
   ]
  },
  {
   "cell_type": "code",
   "execution_count": null,
   "metadata": {},
   "outputs": [],
   "source": []
  },
  {
   "cell_type": "code",
   "execution_count": null,
   "metadata": {},
   "outputs": [],
   "source": []
  },
  {
   "cell_type": "code",
   "execution_count": null,
   "metadata": {},
   "outputs": [],
   "source": [
    "df"
   ]
  },
  {
   "cell_type": "code",
   "execution_count": null,
   "metadata": {},
   "outputs": [],
   "source": [
    "year = []\n",
    "month = []\n",
    "day = []\n",
    "\n",
    "for index, row in df.iterrows():\n",
    "    #print(row[\"im_date\"])\n",
    "    date = str(row[\"im_date\"])\n",
    "    year.append(date[:4])\n",
    "    month.append(date[4:6])\n",
    "    day.append(date[6:])\n",
    "    \n",
    "\n",
    "df[\"year\"] = year\n",
    "df[\"month\"] = month\n",
    "df[\"day\"] = day"
   ]
  },
  {
   "cell_type": "code",
   "execution_count": null,
   "metadata": {},
   "outputs": [],
   "source": []
  },
  {
   "cell_type": "code",
   "execution_count": null,
   "metadata": {},
   "outputs": [],
   "source": [
    "print(list(df))"
   ]
  },
  {
   "cell_type": "code",
   "execution_count": null,
   "metadata": {
    "scrolled": true
   },
   "outputs": [],
   "source": [
    "\n",
    "\n",
    "year_list = []\n",
    "month_list = []\n",
    "\n",
    "mean_list = []\n",
    "\n",
    "for y in df[\"year\"].unique():\n",
    "    #year_list.append(y)\n",
    "    y_df = df[df[\"year\"]== y]\n",
    "\n",
    "    for m in y_df[\"month\"].unique():\n",
    "        my_df = y_df[y_df[\"month\"]== m]\n",
    "        ym_rain = my_df.rain_d_mean.tolist()\n",
    "        year_list.append(y)\n",
    "        month_list.append(m)\n",
    "        mean_list.append(mean(ym_rain))\n",
    "\n",
    "\n",
    "    "
   ]
  },
  {
   "cell_type": "code",
   "execution_count": null,
   "metadata": {},
   "outputs": [],
   "source": [
    "mean_list"
   ]
  },
  {
   "cell_type": "code",
   "execution_count": null,
   "metadata": {},
   "outputs": [],
   "source": [
    "len(year_list)"
   ]
  },
  {
   "cell_type": "code",
   "execution_count": null,
   "metadata": {},
   "outputs": [],
   "source": [
    "len(month_list)"
   ]
  },
  {
   "cell_type": "code",
   "execution_count": null,
   "metadata": {},
   "outputs": [],
   "source": [
    "len(mean_list)"
   ]
  },
  {
   "cell_type": "code",
   "execution_count": null,
   "metadata": {},
   "outputs": [],
   "source": [
    "len(month_list)"
   ]
  },
  {
   "cell_type": "code",
   "execution_count": null,
   "metadata": {},
   "outputs": [],
   "source": [
    "monthly_rain = pd.DataFrame({\"year\": year_list,\n",
    "                             \"month\": month_list,\n",
    "                            \"mean\": mean_list})\n",
    "\n"
   ]
  },
  {
   "cell_type": "code",
   "execution_count": null,
   "metadata": {},
   "outputs": [],
   "source": [
    "monthly_rain"
   ]
  },
  {
   "cell_type": "code",
   "execution_count": null,
   "metadata": {},
   "outputs": [],
   "source": []
  },
  {
   "cell_type": "code",
   "execution_count": null,
   "metadata": {},
   "outputs": [],
   "source": []
  },
  {
   "cell_type": "code",
   "execution_count": null,
   "metadata": {},
   "outputs": [],
   "source": [
    "# m_min_list = []\n",
    "# m_max_list = []\n",
    "mean_list = []\n",
    "month_list = []\n",
    "\n",
    "month_list = []\n",
    "mean_month_rain_list = []\n",
    "    \n",
    "for m in monthly_rain[\"month\"].unique():\n",
    "    print(\"month: \", m)\n",
    "    month_list.append(m)\n",
    "    my_df = monthly_rain[monthly_rain[\"month\"]== m]\n",
    "    month_rain = my_df[\"mean\"].tolist()\n",
    "    print(mean(month_rain))\n",
    "    mean_month_rain_list.append(mean(month_rain))\n"
   ]
  },
  {
   "cell_type": "code",
   "execution_count": null,
   "metadata": {},
   "outputs": [],
   "source": [
    "len(month_list)"
   ]
  },
  {
   "cell_type": "code",
   "execution_count": null,
   "metadata": {},
   "outputs": [],
   "source": [
    "mean_monthly_rain = pd.DataFrame({\n",
    "                             \"month\": month_list,\n",
    "                            \"rain\": mean_month_rain_list})"
   ]
  },
  {
   "cell_type": "code",
   "execution_count": null,
   "metadata": {},
   "outputs": [],
   "source": [
    "mean_monthly_rain.insert(0, site_name, \"site\")\n",
    "mean_monthly_rain.insert(1, field_year, \"site_year\")"
   ]
  },
  {
   "cell_type": "code",
   "execution_count": null,
   "metadata": {},
   "outputs": [],
   "source": []
  },
  {
   "cell_type": "code",
   "execution_count": null,
   "metadata": {},
   "outputs": [],
   "source": [
    "mean_monthly_rain"
   ]
  },
  {
   "cell_type": "code",
   "execution_count": null,
   "metadata": {},
   "outputs": [],
   "source": [
    "\n",
    "# Import libraries\n",
    "import matplotlib.pyplot as plt\n",
    "import numpy as np\n",
    "%matplotlib inline\n",
    " \n",
    " \n",
    "# Creating dataset\n",
    "#np.random.seed(10)\n",
    "data = month_list\n",
    " \n",
    "fig = plt.figure(figsize =(10, 7))\n",
    "#plt.xlim(-10, 10)\n",
    "plt.ylim(-5,25)\n",
    "\n",
    "plt.xticks([1, 2, 3, 4, 5, 6, 7, 8, 9, 10, 11, 12], \n",
    "           ['Jan', 'Feb', 'Mar', 'Apr', 'May', 'June', 'July', 'Aug', 'Sep', 'Oct', 'Nov', 'Dec'], \n",
    "           #rotation=90,  fontsize='12',\n",
    "          )\n",
    "\n",
    "\n",
    "plt.title(f'Mean Minimum Daily Rainfall at {site_name} from 1988 until 2023.',  fontsize='12', horizontalalignment='center')\n",
    "# Custom Axis title\n",
    "plt.xlabel('Months',  fontsize='12', horizontalalignment='center')\n",
    "# Custom Axis title\n",
    "plt.ylabel('Mean Minimum Rainfall (mm)',  fontsize='12', horizontalalignment='center')\n",
    "# Creating plot\n",
    "plt.boxplot(data, showfliers = False)\n",
    " \n",
    "# show plot\n",
    "plt.show()\n",
    "\n",
    "box_out = os.path.join(export_box, f\"{site_name}_rainfall_box.jpg\")\n",
    "plt.savefig(box_out)"
   ]
  },
  {
   "cell_type": "code",
   "execution_count": null,
   "metadata": {},
   "outputs": [],
   "source": [
    "monthly_rain\n",
    "\n",
    "y_list = monthly_rain[\"year\"].tolist()\n",
    "m_list = monthly_rain[\"month\"].tolist()\n",
    "val_list = monthly_rain[\"mean\"].tolist()\n",
    "dt_list2 = []\n",
    "year__ = monthly_rain[\"year\"].unique().tolist()\n",
    "for y, m, v  in zip(y_list, m_list, val_list):\n",
    "    i = f\"{str(y)}{str(m)}15\"\n",
    "    \n",
    "    dt_list2.append(pd.to_datetime(i, format='%Y%m%d'))\n",
    "    #print(pd.to_datetime(i, format='%Y%m%d')\n",
    "    #dt = pd.to_datetime(i)\n",
    "    #print(dt)\n",
    "    \n",
    "    "
   ]
  },
  {
   "cell_type": "code",
   "execution_count": null,
   "metadata": {},
   "outputs": [],
   "source": [
    "year__ "
   ]
  },
  {
   "cell_type": "code",
   "execution_count": null,
   "metadata": {},
   "outputs": [],
   "source": [
    "dt_list = df1.im_date.tolist()\n",
    "val_list = df1.rain_d_mean.tolist()\n",
    "dt_list2 = []\n",
    "for i, v  in zip(dt_list, val_list):\n",
    "    print(i)\n",
    "    \n",
    "    dt_list2.append(pd.to_datetime(i, format='%Y%m%d'))\n",
    "    #print(pd.to_datetime(i, format='%Y%m%d')\n",
    "    #dt = pd.to_datetime(i)\n",
    "    #print(dt)\n",
    "    \n",
    "    \n"
   ]
  },
  {
   "cell_type": "code",
   "execution_count": null,
   "metadata": {},
   "outputs": [],
   "source": [
    "df3 = pd.DataFrame(val_list, index=dt_list2, columns=[\"rainfall\"])"
   ]
  },
  {
   "cell_type": "code",
   "execution_count": null,
   "metadata": {},
   "outputs": [],
   "source": [
    "df3"
   ]
  },
  {
   "cell_type": "code",
   "execution_count": null,
   "metadata": {},
   "outputs": [],
   "source": [
    "year__"
   ]
  },
  {
   "cell_type": "code",
   "execution_count": null,
   "metadata": {},
   "outputs": [],
   "source": [
    "fig, axs = plt.subplots(1,1, figsize=(18,5))\n",
    "x = df3.index\n",
    "y = df3.rainfall\n",
    "axs.plot(x, y)\n",
    "\n",
    "# # xticks and labels: select only the first\n",
    "# # unique year\n",
    "# xticks, xlabels = [], []\n",
    "# for t, d in zip(x, dates):\n",
    "#     print(\"d: \", d)\n",
    "#     if (not xlabels) or (d[:4] != xlabels[-1]):\n",
    "#         xticks.append(t)\n",
    "#         # keep only the year\n",
    "#         print(d[:4])\n",
    "#         xlabels.append(d[:4])\n",
    "        \n",
    "#axs.set_xticks(xticks)\n",
    "axs.set_xticklabels(year__)\n",
    "# f.autofmt_xdate(rotation=60, ha=\"right\")\n",
    "\n",
    "\n",
    "axs.xaxis.set_ticks(year__)\n",
    "plt.xticks(rotation=90, ha='right')\n",
    "#axs.xaxis.set_major_formatter(ticker.FormatStrFormatter('%3f'))\n",
    "plt.xlim(['1993', '2023'])\n",
    "fig.show()"
   ]
  },
  {
   "cell_type": "code",
   "execution_count": null,
   "metadata": {},
   "outputs": [],
   "source": [
    "df1[\"t_stamp\"] =dt_list2"
   ]
  },
  {
   "cell_type": "code",
   "execution_count": null,
   "metadata": {},
   "outputs": [],
   "source": [
    "df1"
   ]
  },
  {
   "cell_type": "code",
   "execution_count": null,
   "metadata": {},
   "outputs": [],
   "source": [
    "df1.set_index(dt_list2, inplace=True)"
   ]
  },
  {
   "cell_type": "code",
   "execution_count": null,
   "metadata": {},
   "outputs": [],
   "source": [
    "df1"
   ]
  },
  {
   "cell_type": "code",
   "execution_count": null,
   "metadata": {},
   "outputs": [],
   "source": [
    "df"
   ]
  },
  {
   "cell_type": "code",
   "execution_count": null,
   "metadata": {},
   "outputs": [],
   "source": []
  }
 ],
 "metadata": {
  "kernelspec": {
   "display_name": "Python 3",
   "language": "python",
   "name": "python3"
  },
  "language_info": {
   "codemirror_mode": {
    "name": "ipython",
    "version": 3
   },
   "file_extension": ".py",
   "mimetype": "text/x-python",
   "name": "python",
   "nbconvert_exporter": "python",
   "pygments_lexer": "ipython3",
   "version": "3.7.7"
  }
 },
 "nbformat": 4,
 "nbformat_minor": 4
}
