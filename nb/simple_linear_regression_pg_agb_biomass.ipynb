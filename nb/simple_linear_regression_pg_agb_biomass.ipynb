{
 "cells": [
  {
   "cell_type": "markdown",
   "metadata": {},
   "source": [
    "# Linear regression biomass and persistent green"
   ]
  },
  {
   "cell_type": "code",
   "execution_count": null,
   "metadata": {},
   "outputs": [],
   "source": []
  },
  {
   "cell_type": "code",
   "execution_count": 3,
   "metadata": {},
   "outputs": [],
   "source": [
    "from statsmodels.stats.outliers_influence import variance_inflation_factor\n",
    "from statsmodels.tools.tools import add_constant\n",
    "import pandas as pd\n",
    "import matplotlib\n",
    "import matplotlib.pyplot as plt\n",
    "import numpy as np\n",
    "import scipy.stats as sc\n",
    "import math\n",
    "import numpy as np\n",
    "from scipy import mean\n",
    "from scipy.stats import zscore\n",
    "import seaborn as sns\n",
    "import statsmodels.api as sm\n",
    "from statsmodels.sandbox.regression.predstd import wls_prediction_std\n",
    "import pandas as pd\n",
    "\n",
    "%matplotlib inline  "
   ]
  },
  {
   "cell_type": "code",
   "execution_count": 70,
   "metadata": {},
   "outputs": [],
   "source": [
    "df_all_path = r\"D:\\z_drive_bu\\tern\\tree_biomass_field_data\\outputs\\subset_all_df.csv\"\n",
    "df_no0_path = r\"D:\\z_drive_bu\\tern\\tree_biomass_field_data\\outputs\\subset_no0_df.csv\"\n",
    "df_some0_path = r\"D:\\z_drive_bu\\tern\\tree_biomass_field_data\\outputs\\subset_some0_df.csv\""
   ]
  },
  {
   "cell_type": "code",
   "execution_count": 71,
   "metadata": {},
   "outputs": [],
   "source": [
    "df_path = df_some0_path"
   ]
  },
  {
   "cell_type": "code",
   "execution_count": 72,
   "metadata": {},
   "outputs": [],
   "source": [
    "df = pd.read_csv(df_path, index_col=0)"
   ]
  },
  {
   "cell_type": "code",
   "execution_count": 73,
   "metadata": {},
   "outputs": [
    {
     "data": {
      "text/html": [
       "<div>\n",
       "<style scoped>\n",
       "    .dataframe tbody tr th:only-of-type {\n",
       "        vertical-align: middle;\n",
       "    }\n",
       "\n",
       "    .dataframe tbody tr th {\n",
       "        vertical-align: top;\n",
       "    }\n",
       "\n",
       "    .dataframe thead th {\n",
       "        text-align: right;\n",
       "    }\n",
       "</style>\n",
       "<table border=\"1\" class=\"dataframe\">\n",
       "  <thead>\n",
       "    <tr style=\"text-align: right;\">\n",
       "      <th></th>\n",
       "      <th>pg_mean</th>\n",
       "      <th>pg_min</th>\n",
       "      <th>pg_max</th>\n",
       "      <th>pg_med</th>\n",
       "      <th>total_agb</th>\n",
       "    </tr>\n",
       "  </thead>\n",
       "  <tbody>\n",
       "    <tr>\n",
       "      <th>0</th>\n",
       "      <td>21.750000</td>\n",
       "      <td>17.0</td>\n",
       "      <td>25.0</td>\n",
       "      <td>22.0</td>\n",
       "      <td>7658.5425</td>\n",
       "    </tr>\n",
       "    <tr>\n",
       "      <th>1</th>\n",
       "      <td>8.437500</td>\n",
       "      <td>2.0</td>\n",
       "      <td>23.0</td>\n",
       "      <td>7.5</td>\n",
       "      <td>3123.1200</td>\n",
       "    </tr>\n",
       "    <tr>\n",
       "      <th>2</th>\n",
       "      <td>33.157895</td>\n",
       "      <td>24.0</td>\n",
       "      <td>45.0</td>\n",
       "      <td>30.0</td>\n",
       "      <td>17994.7600</td>\n",
       "    </tr>\n",
       "    <tr>\n",
       "      <th>3</th>\n",
       "      <td>53.954545</td>\n",
       "      <td>44.0</td>\n",
       "      <td>64.0</td>\n",
       "      <td>54.5</td>\n",
       "      <td>35199.7100</td>\n",
       "    </tr>\n",
       "    <tr>\n",
       "      <th>4</th>\n",
       "      <td>30.347826</td>\n",
       "      <td>18.0</td>\n",
       "      <td>41.0</td>\n",
       "      <td>31.0</td>\n",
       "      <td>4370.9120</td>\n",
       "    </tr>\n",
       "    <tr>\n",
       "      <th>5</th>\n",
       "      <td>43.080000</td>\n",
       "      <td>37.0</td>\n",
       "      <td>50.0</td>\n",
       "      <td>43.0</td>\n",
       "      <td>25701.6900</td>\n",
       "    </tr>\n",
       "    <tr>\n",
       "      <th>6</th>\n",
       "      <td>45.350000</td>\n",
       "      <td>42.0</td>\n",
       "      <td>50.0</td>\n",
       "      <td>45.5</td>\n",
       "      <td>26636.2950</td>\n",
       "    </tr>\n",
       "    <tr>\n",
       "      <th>7</th>\n",
       "      <td>34.400000</td>\n",
       "      <td>21.0</td>\n",
       "      <td>41.0</td>\n",
       "      <td>34.0</td>\n",
       "      <td>11338.1275</td>\n",
       "    </tr>\n",
       "    <tr>\n",
       "      <th>8</th>\n",
       "      <td>38.562500</td>\n",
       "      <td>34.0</td>\n",
       "      <td>42.0</td>\n",
       "      <td>39.0</td>\n",
       "      <td>9757.3350</td>\n",
       "    </tr>\n",
       "    <tr>\n",
       "      <th>9</th>\n",
       "      <td>69.062500</td>\n",
       "      <td>66.0</td>\n",
       "      <td>76.0</td>\n",
       "      <td>69.0</td>\n",
       "      <td>18757.2000</td>\n",
       "    </tr>\n",
       "    <tr>\n",
       "      <th>10</th>\n",
       "      <td>46.000000</td>\n",
       "      <td>38.0</td>\n",
       "      <td>52.0</td>\n",
       "      <td>46.0</td>\n",
       "      <td>25585.0700</td>\n",
       "    </tr>\n",
       "    <tr>\n",
       "      <th>11</th>\n",
       "      <td>16.684211</td>\n",
       "      <td>15.0</td>\n",
       "      <td>18.0</td>\n",
       "      <td>17.0</td>\n",
       "      <td>3511.2000</td>\n",
       "    </tr>\n",
       "    <tr>\n",
       "      <th>15</th>\n",
       "      <td>19.750000</td>\n",
       "      <td>17.0</td>\n",
       "      <td>25.0</td>\n",
       "      <td>19.0</td>\n",
       "      <td>5359.2000</td>\n",
       "    </tr>\n",
       "    <tr>\n",
       "      <th>19</th>\n",
       "      <td>18.454545</td>\n",
       "      <td>15.0</td>\n",
       "      <td>23.0</td>\n",
       "      <td>18.0</td>\n",
       "      <td>6946.7825</td>\n",
       "    </tr>\n",
       "    <tr>\n",
       "      <th>21</th>\n",
       "      <td>25.375000</td>\n",
       "      <td>22.0</td>\n",
       "      <td>32.0</td>\n",
       "      <td>24.5</td>\n",
       "      <td>10763.3225</td>\n",
       "    </tr>\n",
       "    <tr>\n",
       "      <th>27</th>\n",
       "      <td>5.950000</td>\n",
       "      <td>3.0</td>\n",
       "      <td>10.0</td>\n",
       "      <td>6.0</td>\n",
       "      <td>1275.1200</td>\n",
       "    </tr>\n",
       "    <tr>\n",
       "      <th>29</th>\n",
       "      <td>9.650000</td>\n",
       "      <td>4.0</td>\n",
       "      <td>17.0</td>\n",
       "      <td>9.0</td>\n",
       "      <td>3049.2000</td>\n",
       "    </tr>\n",
       "    <tr>\n",
       "      <th>30</th>\n",
       "      <td>9.360000</td>\n",
       "      <td>8.0</td>\n",
       "      <td>11.0</td>\n",
       "      <td>9.0</td>\n",
       "      <td>2254.5600</td>\n",
       "    </tr>\n",
       "    <tr>\n",
       "      <th>34</th>\n",
       "      <td>10.882353</td>\n",
       "      <td>8.0</td>\n",
       "      <td>15.0</td>\n",
       "      <td>11.0</td>\n",
       "      <td>628.3200</td>\n",
       "    </tr>\n",
       "    <tr>\n",
       "      <th>40</th>\n",
       "      <td>19.700000</td>\n",
       "      <td>11.0</td>\n",
       "      <td>30.0</td>\n",
       "      <td>21.5</td>\n",
       "      <td>4943.4000</td>\n",
       "    </tr>\n",
       "    <tr>\n",
       "      <th>47</th>\n",
       "      <td>12.625000</td>\n",
       "      <td>9.0</td>\n",
       "      <td>15.0</td>\n",
       "      <td>13.0</td>\n",
       "      <td>5405.4000</td>\n",
       "    </tr>\n",
       "    <tr>\n",
       "      <th>49</th>\n",
       "      <td>2.000000</td>\n",
       "      <td>1.0</td>\n",
       "      <td>3.0</td>\n",
       "      <td>2.0</td>\n",
       "      <td>332.6400</td>\n",
       "    </tr>\n",
       "    <tr>\n",
       "      <th>51</th>\n",
       "      <td>18.312500</td>\n",
       "      <td>14.0</td>\n",
       "      <td>21.0</td>\n",
       "      <td>19.0</td>\n",
       "      <td>6421.8000</td>\n",
       "    </tr>\n",
       "    <tr>\n",
       "      <th>63</th>\n",
       "      <td>15.960000</td>\n",
       "      <td>14.0</td>\n",
       "      <td>18.0</td>\n",
       "      <td>16.0</td>\n",
       "      <td>4573.8000</td>\n",
       "    </tr>\n",
       "    <tr>\n",
       "      <th>25</th>\n",
       "      <td>3.187500</td>\n",
       "      <td>1.0</td>\n",
       "      <td>5.0</td>\n",
       "      <td>3.5</td>\n",
       "      <td>0.0000</td>\n",
       "    </tr>\n",
       "  </tbody>\n",
       "</table>\n",
       "</div>"
      ],
      "text/plain": [
       "      pg_mean  pg_min  pg_max  pg_med   total_agb\n",
       "0   21.750000    17.0    25.0    22.0   7658.5425\n",
       "1    8.437500     2.0    23.0     7.5   3123.1200\n",
       "2   33.157895    24.0    45.0    30.0  17994.7600\n",
       "3   53.954545    44.0    64.0    54.5  35199.7100\n",
       "4   30.347826    18.0    41.0    31.0   4370.9120\n",
       "5   43.080000    37.0    50.0    43.0  25701.6900\n",
       "6   45.350000    42.0    50.0    45.5  26636.2950\n",
       "7   34.400000    21.0    41.0    34.0  11338.1275\n",
       "8   38.562500    34.0    42.0    39.0   9757.3350\n",
       "9   69.062500    66.0    76.0    69.0  18757.2000\n",
       "10  46.000000    38.0    52.0    46.0  25585.0700\n",
       "11  16.684211    15.0    18.0    17.0   3511.2000\n",
       "15  19.750000    17.0    25.0    19.0   5359.2000\n",
       "19  18.454545    15.0    23.0    18.0   6946.7825\n",
       "21  25.375000    22.0    32.0    24.5  10763.3225\n",
       "27   5.950000     3.0    10.0     6.0   1275.1200\n",
       "29   9.650000     4.0    17.0     9.0   3049.2000\n",
       "30   9.360000     8.0    11.0     9.0   2254.5600\n",
       "34  10.882353     8.0    15.0    11.0    628.3200\n",
       "40  19.700000    11.0    30.0    21.5   4943.4000\n",
       "47  12.625000     9.0    15.0    13.0   5405.4000\n",
       "49   2.000000     1.0     3.0     2.0    332.6400\n",
       "51  18.312500    14.0    21.0    19.0   6421.8000\n",
       "63  15.960000    14.0    18.0    16.0   4573.8000\n",
       "25   3.187500     1.0     5.0     3.5      0.0000"
      ]
     },
     "execution_count": 73,
     "metadata": {},
     "output_type": "execute_result"
    }
   ],
   "source": [
    "df"
   ]
  },
  {
   "cell_type": "code",
   "execution_count": 74,
   "metadata": {},
   "outputs": [],
   "source": [
    "value_x = 'pg_mean'\n",
    "value_y = 'total_agb'"
   ]
  },
  {
   "cell_type": "markdown",
   "metadata": {},
   "source": [
    "https://medium.com/analytics-vidhya/linear-regression-in-python-from-scratch-with-scipy-statsmodels-sklearn-da8e373cc89b"
   ]
  },
  {
   "cell_type": "code",
   "execution_count": 75,
   "metadata": {
    "scrolled": false
   },
   "outputs": [
    {
     "name": "stderr",
     "output_type": "stream",
     "text": [
      "C:\\Users\\rmcgr\\anaconda3\\lib\\site-packages\\seaborn\\_decorators.py:36: FutureWarning: Pass the following variables as keyword args: x, y. From version 0.12, the only valid positional argument will be `data`, and passing other arguments without an explicit keyword will result in an error or misinterpretation.\n",
      "  warnings.warn(\n",
      "C:\\Users\\rmcgr\\anaconda3\\lib\\site-packages\\seaborn\\_decorators.py:36: FutureWarning: Pass the following variables as keyword args: x, y. From version 0.12, the only valid positional argument will be `data`, and passing other arguments without an explicit keyword will result in an error or misinterpretation.\n",
      "  warnings.warn(\n"
     ]
    },
    {
     "data": {
      "image/png": "[encoded data removed]",
      "text/plain": [
       "<Figure size 720x288 with 2 Axes>"
      ]
     },
     "metadata": {
      "needs_background": "light"
     },
     "output_type": "display_data"
    }
   ],
   "source": [
    "plt.figure(figsize=(10,4))\n",
    "# left plot\n",
    "plt.subplot(1,2,1)\n",
    "sns.regplot(df[value_x], df[value_y], line_kws={\"color\":\"red\"})\n",
    "plt.xlabel(value_x)\n",
    "plt.ylabel(value_y)\n",
    "plt.title(\"Regression {0} and {1}\".format(value_x, value_y))\n",
    "\n",
    "# right plot\n",
    "plt.subplot(1,2,2)\n",
    "sns.regplot(df[value_x], df[value_y], lowess=True, line_kws={\"color\":\"green\"})\n",
    "plt.xlabel(value_x)\n",
    "plt.ylabel(\"Error\")\n",
    "plt.title(\"Residual Error {0} and {1}\".format(value_x, value_y))\n",
    "plt.tight_layout()"
   ]
  },
  {
   "cell_type": "code",
   "execution_count": 76,
   "metadata": {},
   "outputs": [],
   "source": [
    "x = df[value_x]\n",
    "y = df[value_y]"
   ]
  },
  {
   "cell_type": "code",
   "execution_count": 77,
   "metadata": {},
   "outputs": [],
   "source": [
    "df_reg = pd.DataFrame()\n",
    "df_reg['x']=x\n",
    "df_reg['y']=y\n",
    "df_reg['xy'] = df_reg.x * df_reg.y\n",
    "df_reg['x2'] = df_reg.x**2\n",
    "df_reg['y2'] = df_reg.y**2\n",
    "df_reg['x-xavg**2'] = (df_reg.x - df_reg.x.mean())**2\n",
    "df_reg['y-yavg**2'] = (df_reg.y - df_reg.y.mean())**2"
   ]
  },
  {
   "cell_type": "code",
   "execution_count": 78,
   "metadata": {},
   "outputs": [
    {
     "data": {
      "text/html": [
       "<div>\n",
       "<style scoped>\n",
       "    .dataframe tbody tr th:only-of-type {\n",
       "        vertical-align: middle;\n",
       "    }\n",
       "\n",
       "    .dataframe tbody tr th {\n",
       "        vertical-align: top;\n",
       "    }\n",
       "\n",
       "    .dataframe thead th {\n",
       "        text-align: right;\n",
       "    }\n",
       "</style>\n",
       "<table border=\"1\" class=\"dataframe\">\n",
       "  <thead>\n",
       "    <tr style=\"text-align: right;\">\n",
       "      <th></th>\n",
       "      <th>x</th>\n",
       "      <th>y</th>\n",
       "      <th>xy</th>\n",
       "      <th>x2</th>\n",
       "      <th>y2</th>\n",
       "      <th>x-xavg**2</th>\n",
       "      <th>y-yavg**2</th>\n",
       "    </tr>\n",
       "  </thead>\n",
       "  <tbody>\n",
       "    <tr>\n",
       "      <th>0</th>\n",
       "      <td>21.750000</td>\n",
       "      <td>7658.5425</td>\n",
       "      <td>1.665733e+05</td>\n",
       "      <td>473.062500</td>\n",
       "      <td>5.865327e+07</td>\n",
       "      <td>7.451562</td>\n",
       "      <td>4.019856e+06</td>\n",
       "    </tr>\n",
       "    <tr>\n",
       "      <th>1</th>\n",
       "      <td>8.437500</td>\n",
       "      <td>3123.1200</td>\n",
       "      <td>2.635133e+04</td>\n",
       "      <td>71.191406</td>\n",
       "      <td>9.753879e+06</td>\n",
       "      <td>257.353946</td>\n",
       "      <td>4.277657e+07</td>\n",
       "    </tr>\n",
       "    <tr>\n",
       "      <th>2</th>\n",
       "      <td>33.157895</td>\n",
       "      <td>17994.7600</td>\n",
       "      <td>5.966684e+05</td>\n",
       "      <td>1099.445983</td>\n",
       "      <td>3.238114e+08</td>\n",
       "      <td>75.310109</td>\n",
       "      <td>6.940989e+07</td>\n",
       "    </tr>\n",
       "    <tr>\n",
       "      <th>3</th>\n",
       "      <td>53.954545</td>\n",
       "      <td>35199.7100</td>\n",
       "      <td>1.899184e+06</td>\n",
       "      <td>2911.092975</td>\n",
       "      <td>1.239020e+09</td>\n",
       "      <td>868.763272</td>\n",
       "      <td>6.520980e+08</td>\n",
       "    </tr>\n",
       "    <tr>\n",
       "      <th>4</th>\n",
       "      <td>30.347826</td>\n",
       "      <td>4370.9120</td>\n",
       "      <td>1.326477e+05</td>\n",
       "      <td>920.990548</td>\n",
       "      <td>1.910487e+07</td>\n",
       "      <td>34.434258</td>\n",
       "      <td>2.801149e+07</td>\n",
       "    </tr>\n",
       "    <tr>\n",
       "      <th>5</th>\n",
       "      <td>43.080000</td>\n",
       "      <td>25701.6900</td>\n",
       "      <td>1.107229e+06</td>\n",
       "      <td>1855.886400</td>\n",
       "      <td>6.605769e+08</td>\n",
       "      <td>345.969114</td>\n",
       "      <td>2.572235e+08</td>\n",
       "    </tr>\n",
       "    <tr>\n",
       "      <th>6</th>\n",
       "      <td>45.350000</td>\n",
       "      <td>26636.2950</td>\n",
       "      <td>1.207956e+06</td>\n",
       "      <td>2056.622500</td>\n",
       "      <td>7.094922e+08</td>\n",
       "      <td>435.567126</td>\n",
       "      <td>2.880758e+08</td>\n",
       "    </tr>\n",
       "    <tr>\n",
       "      <th>7</th>\n",
       "      <td>34.400000</td>\n",
       "      <td>11338.1275</td>\n",
       "      <td>3.900316e+05</td>\n",
       "      <td>1183.360000</td>\n",
       "      <td>1.285531e+08</td>\n",
       "      <td>98.411261</td>\n",
       "      <td>2.804376e+06</td>\n",
       "    </tr>\n",
       "    <tr>\n",
       "      <th>8</th>\n",
       "      <td>38.562500</td>\n",
       "      <td>9757.3350</td>\n",
       "      <td>3.762672e+05</td>\n",
       "      <td>1487.066406</td>\n",
       "      <td>9.520559e+07</td>\n",
       "      <td>198.323707</td>\n",
       "      <td>8.804955e+03</td>\n",
       "    </tr>\n",
       "    <tr>\n",
       "      <th>9</th>\n",
       "      <td>69.062500</td>\n",
       "      <td>18757.2000</td>\n",
       "      <td>1.295419e+06</td>\n",
       "      <td>4769.628906</td>\n",
       "      <td>3.518326e+08</td>\n",
       "      <td>1987.621151</td>\n",
       "      <td>8.269537e+07</td>\n",
       "    </tr>\n",
       "    <tr>\n",
       "      <th>10</th>\n",
       "      <td>46.000000</td>\n",
       "      <td>25585.0700</td>\n",
       "      <td>1.176913e+06</td>\n",
       "      <td>2116.000000</td>\n",
       "      <td>6.545958e+08</td>\n",
       "      <td>463.120945</td>\n",
       "      <td>2.534964e+08</td>\n",
       "    </tr>\n",
       "    <tr>\n",
       "      <th>11</th>\n",
       "      <td>16.684211</td>\n",
       "      <td>3511.2000</td>\n",
       "      <td>5.858160e+04</td>\n",
       "      <td>278.362881</td>\n",
       "      <td>1.232853e+07</td>\n",
       "      <td>60.770514</td>\n",
       "      <td>3.785080e+07</td>\n",
       "    </tr>\n",
       "    <tr>\n",
       "      <th>15</th>\n",
       "      <td>19.750000</td>\n",
       "      <td>5359.2000</td>\n",
       "      <td>1.058442e+05</td>\n",
       "      <td>390.062500</td>\n",
       "      <td>2.872102e+07</td>\n",
       "      <td>22.370582</td>\n",
       "      <td>1.852700e+07</td>\n",
       "    </tr>\n",
       "    <tr>\n",
       "      <th>19</th>\n",
       "      <td>18.454545</td>\n",
       "      <td>6946.7825</td>\n",
       "      <td>1.281997e+05</td>\n",
       "      <td>340.570248</td>\n",
       "      <td>4.825779e+07</td>\n",
       "      <td>36.303150</td>\n",
       "      <td>7.380555e+06</td>\n",
       "    </tr>\n",
       "    <tr>\n",
       "      <th>21</th>\n",
       "      <td>25.375000</td>\n",
       "      <td>10763.3225</td>\n",
       "      <td>2.731193e+05</td>\n",
       "      <td>643.890625</td>\n",
       "      <td>1.158491e+08</td>\n",
       "      <td>0.801464</td>\n",
       "      <td>1.209609e+06</td>\n",
       "    </tr>\n",
       "    <tr>\n",
       "      <th>27</th>\n",
       "      <td>5.950000</td>\n",
       "      <td>1275.1200</td>\n",
       "      <td>7.586964e+03</td>\n",
       "      <td>35.402500</td>\n",
       "      <td>1.625931e+06</td>\n",
       "      <td>343.351821</td>\n",
       "      <td>7.036492e+07</td>\n",
       "    </tr>\n",
       "    <tr>\n",
       "      <th>29</th>\n",
       "      <td>9.650000</td>\n",
       "      <td>3049.2000</td>\n",
       "      <td>2.942478e+04</td>\n",
       "      <td>93.122500</td>\n",
       "      <td>9.297621e+06</td>\n",
       "      <td>219.921634</td>\n",
       "      <td>4.374897e+07</td>\n",
       "    </tr>\n",
       "    <tr>\n",
       "      <th>30</th>\n",
       "      <td>9.360000</td>\n",
       "      <td>2254.5600</td>\n",
       "      <td>2.110268e+04</td>\n",
       "      <td>87.609600</td>\n",
       "      <td>5.083041e+06</td>\n",
       "      <td>228.606992</td>\n",
       "      <td>5.489240e+07</td>\n",
       "    </tr>\n",
       "    <tr>\n",
       "      <th>34</th>\n",
       "      <td>10.882353</td>\n",
       "      <td>628.3200</td>\n",
       "      <td>6.837600e+03</td>\n",
       "      <td>118.425606</td>\n",
       "      <td>3.947860e+05</td>\n",
       "      <td>184.889343</td>\n",
       "      <td>8.163448e+07</td>\n",
       "    </tr>\n",
       "    <tr>\n",
       "      <th>40</th>\n",
       "      <td>19.700000</td>\n",
       "      <td>4943.4000</td>\n",
       "      <td>9.738498e+04</td>\n",
       "      <td>388.090000</td>\n",
       "      <td>2.443720e+07</td>\n",
       "      <td>22.846058</td>\n",
       "      <td>2.227935e+07</td>\n",
       "    </tr>\n",
       "    <tr>\n",
       "      <th>47</th>\n",
       "      <td>12.625000</td>\n",
       "      <td>5405.4000</td>\n",
       "      <td>6.824318e+04</td>\n",
       "      <td>159.390625</td>\n",
       "      <td>2.921835e+07</td>\n",
       "      <td>140.535216</td>\n",
       "      <td>1.813142e+07</td>\n",
       "    </tr>\n",
       "    <tr>\n",
       "      <th>49</th>\n",
       "      <td>2.000000</td>\n",
       "      <td>332.6400</td>\n",
       "      <td>6.652800e+02</td>\n",
       "      <td>4.000000</td>\n",
       "      <td>1.106494e+05</td>\n",
       "      <td>505.339385</td>\n",
       "      <td>8.706495e+07</td>\n",
       "    </tr>\n",
       "    <tr>\n",
       "      <th>51</th>\n",
       "      <td>18.312500</td>\n",
       "      <td>6421.8000</td>\n",
       "      <td>1.175992e+05</td>\n",
       "      <td>335.347656</td>\n",
       "      <td>4.123952e+07</td>\n",
       "      <td>38.035034</td>\n",
       "      <td>1.050862e+07</td>\n",
       "    </tr>\n",
       "    <tr>\n",
       "      <th>63</th>\n",
       "      <td>15.960000</td>\n",
       "      <td>4573.8000</td>\n",
       "      <td>7.299785e+04</td>\n",
       "      <td>254.721600</td>\n",
       "      <td>2.091965e+07</td>\n",
       "      <td>72.586225</td>\n",
       "      <td>2.590505e+07</td>\n",
       "    </tr>\n",
       "    <tr>\n",
       "      <th>25</th>\n",
       "      <td>3.187500</td>\n",
       "      <td>0.0000</td>\n",
       "      <td>0.000000e+00</td>\n",
       "      <td>10.160156</td>\n",
       "      <td>0.000000e+00</td>\n",
       "      <td>453.360123</td>\n",
       "      <td>9.338324e+07</td>\n",
       "    </tr>\n",
       "  </tbody>\n",
       "</table>\n",
       "</div>"
      ],
      "text/plain": [
       "            x           y            xy           x2            y2  \\\n",
       "0   21.750000   7658.5425  1.665733e+05   473.062500  5.865327e+07   \n",
       "1    8.437500   3123.1200  2.635133e+04    71.191406  9.753879e+06   \n",
       "2   33.157895  17994.7600  5.966684e+05  1099.445983  3.238114e+08   \n",
       "3   53.954545  35199.7100  1.899184e+06  2911.092975  1.239020e+09   \n",
       "4   30.347826   4370.9120  1.326477e+05   920.990548  1.910487e+07   \n",
       "5   43.080000  25701.6900  1.107229e+06  1855.886400  6.605769e+08   \n",
       "6   45.350000  26636.2950  1.207956e+06  2056.622500  7.094922e+08   \n",
       "7   34.400000  11338.1275  3.900316e+05  1183.360000  1.285531e+08   \n",
       "8   38.562500   9757.3350  3.762672e+05  1487.066406  9.520559e+07   \n",
       "9   69.062500  18757.2000  1.295419e+06  4769.628906  3.518326e+08   \n",
       "10  46.000000  25585.0700  1.176913e+06  2116.000000  6.545958e+08   \n",
       "11  16.684211   3511.2000  5.858160e+04   278.362881  1.232853e+07   \n",
       "15  19.750000   5359.2000  1.058442e+05   390.062500  2.872102e+07   \n",
       "19  18.454545   6946.7825  1.281997e+05   340.570248  4.825779e+07   \n",
       "21  25.375000  10763.3225  2.731193e+05   643.890625  1.158491e+08   \n",
       "27   5.950000   1275.1200  7.586964e+03    35.402500  1.625931e+06   \n",
       "29   9.650000   3049.2000  2.942478e+04    93.122500  9.297621e+06   \n",
       "30   9.360000   2254.5600  2.110268e+04    87.609600  5.083041e+06   \n",
       "34  10.882353    628.3200  6.837600e+03   118.425606  3.947860e+05   \n",
       "40  19.700000   4943.4000  9.738498e+04   388.090000  2.443720e+07   \n",
       "47  12.625000   5405.4000  6.824318e+04   159.390625  2.921835e+07   \n",
       "49   2.000000    332.6400  6.652800e+02     4.000000  1.106494e+05   \n",
       "51  18.312500   6421.8000  1.175992e+05   335.347656  4.123952e+07   \n",
       "63  15.960000   4573.8000  7.299785e+04   254.721600  2.091965e+07   \n",
       "25   3.187500      0.0000  0.000000e+00    10.160156  0.000000e+00   \n",
       "\n",
       "      x-xavg**2     y-yavg**2  \n",
       "0      7.451562  4.019856e+06  \n",
       "1    257.353946  4.277657e+07  \n",
       "2     75.310109  6.940989e+07  \n",
       "3    868.763272  6.520980e+08  \n",
       "4     34.434258  2.801149e+07  \n",
       "5    345.969114  2.572235e+08  \n",
       "6    435.567126  2.880758e+08  \n",
       "7     98.411261  2.804376e+06  \n",
       "8    198.323707  8.804955e+03  \n",
       "9   1987.621151  8.269537e+07  \n",
       "10   463.120945  2.534964e+08  \n",
       "11    60.770514  3.785080e+07  \n",
       "15    22.370582  1.852700e+07  \n",
       "19    36.303150  7.380555e+06  \n",
       "21     0.801464  1.209609e+06  \n",
       "27   343.351821  7.036492e+07  \n",
       "29   219.921634  4.374897e+07  \n",
       "30   228.606992  5.489240e+07  \n",
       "34   184.889343  8.163448e+07  \n",
       "40    22.846058  2.227935e+07  \n",
       "47   140.535216  1.813142e+07  \n",
       "49   505.339385  8.706495e+07  \n",
       "51    38.035034  1.050862e+07  \n",
       "63    72.586225  2.590505e+07  \n",
       "25   453.360123  9.338324e+07  "
      ]
     },
     "execution_count": 78,
     "metadata": {},
     "output_type": "execute_result"
    }
   ],
   "source": [
    "df_reg"
   ]
  },
  {
   "cell_type": "code",
   "execution_count": 79,
   "metadata": {},
   "outputs": [],
   "source": [
    "def lin_regr_func(x,y):\n",
    "    n = len(x)\n",
    "    # denominator\n",
    "    d = (n*(x**2).sum()-x.sum()**2)\n",
    "    # intercept\n",
    "    a = (y.sum()*(x**2).sum()-x.sum()*(x*y).sum())/d\n",
    "    # slope\n",
    "    b = (n*(x*y).sum()-x.sum()*y.sum())/d\n",
    "    \n",
    "    y_pred = x*b+a\n",
    "    yyi = (y-y_pred)**2\n",
    "    xxi = (x.mean()-x)**2\n",
    "    #standard error\n",
    "    sb = np.sqrt(yyi.sum()/(n-2))/np.sqrt(xxi.sum())\n",
    "    \n",
    "    # correlation coefficient\n",
    "    corr_coeff = (n*(x*y).sum() - x.sum()*y.sum())/(np.sqrt(n*(x**2).sum()-x.sum()**2)*np.sqrt((n*(y**2).sum()-y.sum()**2)))\n",
    "    return a,b,corr_coeff,sb"
   ]
  },
  {
   "cell_type": "code",
   "execution_count": 80,
   "metadata": {},
   "outputs": [],
   "source": [
    "a,b,corr_coeff,sb = lin_regr_func(x,y)"
   ]
  },
  {
   "cell_type": "code",
   "execution_count": 81,
   "metadata": {},
   "outputs": [
    {
     "name": "stdout",
     "output_type": "stream",
     "text": [
      "intercept:  -2224.119526762853\n",
      "slope:  485.610244174035\n",
      "r:  0.7431923054198605\n",
      "standard error of the slope:  59.52197533601324\n"
     ]
    }
   ],
   "source": [
    "print(\"intercept: \", a)\n",
    "print(\"slope: \", b)\n",
    "print(\"r: \", corr_coeff**2)\n",
    "print(\"standard error of the slope: \", sb)"
   ]
  },
  {
   "cell_type": "code",
   "execution_count": 82,
   "metadata": {
    "scrolled": true
   },
   "outputs": [
    {
     "data": {
      "text/html": [
       "<div>\n",
       "<style scoped>\n",
       "    .dataframe tbody tr th:only-of-type {\n",
       "        vertical-align: middle;\n",
       "    }\n",
       "\n",
       "    .dataframe tbody tr th {\n",
       "        vertical-align: top;\n",
       "    }\n",
       "\n",
       "    .dataframe thead th {\n",
       "        text-align: right;\n",
       "    }\n",
       "</style>\n",
       "<table border=\"1\" class=\"dataframe\">\n",
       "  <thead>\n",
       "    <tr style=\"text-align: right;\">\n",
       "      <th></th>\n",
       "      <th>x</th>\n",
       "      <th>y</th>\n",
       "      <th>xy</th>\n",
       "      <th>x2</th>\n",
       "      <th>y2</th>\n",
       "      <th>x-xavg**2</th>\n",
       "      <th>y-yavg**2</th>\n",
       "      <th>y_predict</th>\n",
       "      <th>error</th>\n",
       "    </tr>\n",
       "  </thead>\n",
       "  <tbody>\n",
       "    <tr>\n",
       "      <th>5</th>\n",
       "      <td>43.080000</td>\n",
       "      <td>25701.6900</td>\n",
       "      <td>1.107229e+06</td>\n",
       "      <td>1855.886400</td>\n",
       "      <td>6.605769e+08</td>\n",
       "      <td>345.969114</td>\n",
       "      <td>2.572235e+08</td>\n",
       "      <td>18695.969792</td>\n",
       "      <td>7005.720208</td>\n",
       "    </tr>\n",
       "    <tr>\n",
       "      <th>19</th>\n",
       "      <td>18.454545</td>\n",
       "      <td>6946.7825</td>\n",
       "      <td>1.281997e+05</td>\n",
       "      <td>340.570248</td>\n",
       "      <td>4.825779e+07</td>\n",
       "      <td>36.303150</td>\n",
       "      <td>7.380555e+06</td>\n",
       "      <td>6737.596798</td>\n",
       "      <td>209.185702</td>\n",
       "    </tr>\n",
       "    <tr>\n",
       "      <th>25</th>\n",
       "      <td>3.187500</td>\n",
       "      <td>0.0000</td>\n",
       "      <td>0.000000e+00</td>\n",
       "      <td>10.160156</td>\n",
       "      <td>0.000000e+00</td>\n",
       "      <td>453.360123</td>\n",
       "      <td>9.338324e+07</td>\n",
       "      <td>-676.236873</td>\n",
       "      <td>676.236873</td>\n",
       "    </tr>\n",
       "    <tr>\n",
       "      <th>15</th>\n",
       "      <td>19.750000</td>\n",
       "      <td>5359.2000</td>\n",
       "      <td>1.058442e+05</td>\n",
       "      <td>390.062500</td>\n",
       "      <td>2.872102e+07</td>\n",
       "      <td>22.370582</td>\n",
       "      <td>1.852700e+07</td>\n",
       "      <td>7366.682796</td>\n",
       "      <td>-2007.482796</td>\n",
       "    </tr>\n",
       "    <tr>\n",
       "      <th>7</th>\n",
       "      <td>34.400000</td>\n",
       "      <td>11338.1275</td>\n",
       "      <td>3.900316e+05</td>\n",
       "      <td>1183.360000</td>\n",
       "      <td>1.285531e+08</td>\n",
       "      <td>98.411261</td>\n",
       "      <td>2.804376e+06</td>\n",
       "      <td>14480.872873</td>\n",
       "      <td>-3142.745373</td>\n",
       "    </tr>\n",
       "    <tr>\n",
       "      <th>27</th>\n",
       "      <td>5.950000</td>\n",
       "      <td>1275.1200</td>\n",
       "      <td>7.586964e+03</td>\n",
       "      <td>35.402500</td>\n",
       "      <td>1.625931e+06</td>\n",
       "      <td>343.351821</td>\n",
       "      <td>7.036492e+07</td>\n",
       "      <td>665.261426</td>\n",
       "      <td>609.858574</td>\n",
       "    </tr>\n",
       "    <tr>\n",
       "      <th>30</th>\n",
       "      <td>9.360000</td>\n",
       "      <td>2254.5600</td>\n",
       "      <td>2.110268e+04</td>\n",
       "      <td>87.609600</td>\n",
       "      <td>5.083041e+06</td>\n",
       "      <td>228.606992</td>\n",
       "      <td>5.489240e+07</td>\n",
       "      <td>2321.192359</td>\n",
       "      <td>-66.632359</td>\n",
       "    </tr>\n",
       "    <tr>\n",
       "      <th>11</th>\n",
       "      <td>16.684211</td>\n",
       "      <td>3511.2000</td>\n",
       "      <td>5.858160e+04</td>\n",
       "      <td>278.362881</td>\n",
       "      <td>1.232853e+07</td>\n",
       "      <td>60.770514</td>\n",
       "      <td>3.785080e+07</td>\n",
       "      <td>5877.904021</td>\n",
       "      <td>-2366.704021</td>\n",
       "    </tr>\n",
       "    <tr>\n",
       "      <th>3</th>\n",
       "      <td>53.954545</td>\n",
       "      <td>35199.7100</td>\n",
       "      <td>1.899184e+06</td>\n",
       "      <td>2911.092975</td>\n",
       "      <td>1.239020e+09</td>\n",
       "      <td>868.763272</td>\n",
       "      <td>6.520980e+08</td>\n",
       "      <td>23976.760466</td>\n",
       "      <td>11222.949534</td>\n",
       "    </tr>\n",
       "    <tr>\n",
       "      <th>10</th>\n",
       "      <td>46.000000</td>\n",
       "      <td>25585.0700</td>\n",
       "      <td>1.176913e+06</td>\n",
       "      <td>2116.000000</td>\n",
       "      <td>6.545958e+08</td>\n",
       "      <td>463.120945</td>\n",
       "      <td>2.534964e+08</td>\n",
       "      <td>20113.951705</td>\n",
       "      <td>5471.118295</td>\n",
       "    </tr>\n",
       "  </tbody>\n",
       "</table>\n",
       "</div>"
      ],
      "text/plain": [
       "            x           y            xy           x2            y2  \\\n",
       "5   43.080000  25701.6900  1.107229e+06  1855.886400  6.605769e+08   \n",
       "19  18.454545   6946.7825  1.281997e+05   340.570248  4.825779e+07   \n",
       "25   3.187500      0.0000  0.000000e+00    10.160156  0.000000e+00   \n",
       "15  19.750000   5359.2000  1.058442e+05   390.062500  2.872102e+07   \n",
       "7   34.400000  11338.1275  3.900316e+05  1183.360000  1.285531e+08   \n",
       "27   5.950000   1275.1200  7.586964e+03    35.402500  1.625931e+06   \n",
       "30   9.360000   2254.5600  2.110268e+04    87.609600  5.083041e+06   \n",
       "11  16.684211   3511.2000  5.858160e+04   278.362881  1.232853e+07   \n",
       "3   53.954545  35199.7100  1.899184e+06  2911.092975  1.239020e+09   \n",
       "10  46.000000  25585.0700  1.176913e+06  2116.000000  6.545958e+08   \n",
       "\n",
       "     x-xavg**2     y-yavg**2     y_predict         error  \n",
       "5   345.969114  2.572235e+08  18695.969792   7005.720208  \n",
       "19   36.303150  7.380555e+06   6737.596798    209.185702  \n",
       "25  453.360123  9.338324e+07   -676.236873    676.236873  \n",
       "15   22.370582  1.852700e+07   7366.682796  -2007.482796  \n",
       "7    98.411261  2.804376e+06  14480.872873  -3142.745373  \n",
       "27  343.351821  7.036492e+07    665.261426    609.858574  \n",
       "30  228.606992  5.489240e+07   2321.192359    -66.632359  \n",
       "11   60.770514  3.785080e+07   5877.904021  -2366.704021  \n",
       "3   868.763272  6.520980e+08  23976.760466  11222.949534  \n",
       "10  463.120945  2.534964e+08  20113.951705   5471.118295  "
      ]
     },
     "execution_count": 82,
     "metadata": {},
     "output_type": "execute_result"
    }
   ],
   "source": [
    "df_reg[\"y_predict\"] = df_reg[\"x\"]*b+a\n",
    "df_reg[\"error\"] = df_reg[\"y\"]-df_reg[\"y_predict\"]\n",
    "df_reg.sample(10)"
   ]
  },
  {
   "cell_type": "markdown",
   "metadata": {},
   "source": [
    "## Scipy"
   ]
  },
  {
   "cell_type": "code",
   "execution_count": 83,
   "metadata": {
    "scrolled": true
   },
   "outputs": [
    {
     "name": "stdout",
     "output_type": "stream",
     "text": [
      "slope:  485.61024417403496 intercept:  -2224.11952676285 r2:  0.7431923054198606 p value:  3.058263379892626e-08 std_err:  59.52197533601325\n"
     ]
    }
   ],
   "source": [
    "slope, intercept, r_value, p_value, std_err = sc.linregress(x,y)\n",
    "\n",
    "print(\"slope: \", slope, \"intercept: \", intercept, \"r2: \",  r_value**2, \"p value: \",  p_value, \"std_err: \", std_err)"
   ]
  },
  {
   "cell_type": "code",
   "execution_count": 84,
   "metadata": {},
   "outputs": [
    {
     "name": "stdout",
     "output_type": "stream",
     "text": [
      "                            OLS Regression Results                            \n",
      "==============================================================================\n",
      "Dep. Variable:              total_agb   R-squared:                       0.743\n",
      "Model:                            OLS   Adj. R-squared:                  0.732\n",
      "Method:                 Least Squares   F-statistic:                     66.56\n",
      "Date:                Fri, 02 Sep 2022   Prob (F-statistic):           3.06e-08\n",
      "Time:                        06:37:55   Log-Likelihood:                -247.44\n",
      "No. Observations:                  25   AIC:                             498.9\n",
      "Df Residuals:                      23   BIC:                             501.3\n",
      "Df Model:                           1                                         \n",
      "Covariance Type:            nonrobust                                         \n",
      "==============================================================================\n",
      "                 coef    std err          t      P>|t|      [0.025      0.975]\n",
      "------------------------------------------------------------------------------\n",
      "const      -2224.1195   1769.055     -1.257      0.221   -5883.689    1435.449\n",
      "pg_mean      485.6102     59.522      8.159      0.000     362.480     608.741\n",
      "==============================================================================\n",
      "Omnibus:                        2.578   Durbin-Watson:                   2.130\n",
      "Prob(Omnibus):                  0.276   Jarque-Bera (JB):                1.166\n",
      "Skew:                          -0.211   Prob(JB):                        0.558\n",
      "Kurtosis:                       3.971   Cond. No.                         52.4\n",
      "==============================================================================\n",
      "\n",
      "Notes:\n",
      "[1] Standard Errors assume that the covariance matrix of the errors is correctly specified.\n"
     ]
    }
   ],
   "source": [
    "X = sm.add_constant(x)\n",
    "mod = sm.OLS(y, X)\n",
    "res = mod.fit()\n",
    "print(res.summary())\n"
   ]
  },
  {
   "cell_type": "code",
   "execution_count": 85,
   "metadata": {},
   "outputs": [
    {
     "data": {
      "text/plain": [
       "<matplotlib.legend.Legend at 0x1c0e9de84f0>"
      ]
     },
     "execution_count": 85,
     "metadata": {},
     "output_type": "execute_result"
    },
    {
     "data": {
      "image/png": "[encoded data removed]",
      "text/plain": [
       "<Figure size 576x432 with 1 Axes>"
      ]
     },
     "metadata": {
      "needs_background": "light"
     },
     "output_type": "display_data"
    }
   ],
   "source": [
    "prstd, iv_l, iv_u = wls_prediction_std(res)\n",
    "\n",
    "fig, ax = plt.subplots(figsize=(8,6))\n",
    "\n",
    "ax.plot(x, y, 'o', label='data')\n",
    "#ax.plot(x,df.y_predict, 'b-', label=\"true\")\n",
    "ax.plot(x, res.fittedvalues, 'r--', label=\"OLS\")\n",
    "ax.plot(x, iv_u, 'r--')\n",
    "ax.plot(x, iv_l, 'r--')\n",
    "ax.legend(loc='best')"
   ]
  },
  {
   "cell_type": "markdown",
   "metadata": {},
   "source": [
    "#### Mean squared error and the root mean squared error"
   ]
  },
  {
   "cell_type": "code",
   "execution_count": 86,
   "metadata": {},
   "outputs": [
    {
     "data": {
      "text/plain": [
       "(23148660.017639037, 4811.305437990716)"
      ]
     },
     "execution_count": 86,
     "metadata": {},
     "output_type": "execute_result"
    }
   ],
   "source": [
    "mse_c = (df_reg['error']**2).sum()/len(df_reg.error)\n",
    "mse_c, np.sqrt(mse_c)"
   ]
  },
  {
   "cell_type": "code",
   "execution_count": 87,
   "metadata": {},
   "outputs": [],
   "source": [
    "from statsmodels.tools.eval_measures import mse, rmse"
   ]
  },
  {
   "cell_type": "code",
   "execution_count": 61,
   "metadata": {},
   "outputs": [
    {
     "data": {
      "text/plain": [
       "(20935528.19760321, 4575.535837211114)"
      ]
     },
     "execution_count": 61,
     "metadata": {},
     "output_type": "execute_result"
    }
   ],
   "source": [
    "mse(df_reg['y'], df_reg['y_predict']), rmse(df_reg['y'], df_reg['y_predict'])"
   ]
  },
  {
   "cell_type": "code",
   "execution_count": 88,
   "metadata": {},
   "outputs": [],
   "source": [
    "value_ = value_y"
   ]
  },
  {
   "cell_type": "markdown",
   "metadata": {},
   "source": [
    "# May need to read tihis again"
   ]
  },
  {
   "cell_type": "code",
   "execution_count": 89,
   "metadata": {},
   "outputs": [
    {
     "name": "stderr",
     "output_type": "stream",
     "text": [
      "C:\\Users\\rmcgr\\anaconda3\\lib\\site-packages\\seaborn\\distributions.py:2619: FutureWarning: `distplot` is a deprecated function and will be removed in a future version. Please adapt your code to use either `displot` (a figure-level function with similar flexibility) or `histplot` (an axes-level function for histograms).\n",
      "  warnings.warn(msg, FutureWarning)\n"
     ]
    },
    {
     "data": {
      "image/png": "[encoded data removed]",
      "text/plain": [
       "<Figure size 432x288 with 1 Axes>"
      ]
     },
     "metadata": {
      "needs_background": "light"
     },
     "output_type": "display_data"
    },
    {
     "data": {
      "image/png": "[encoded data removed]",
      "text/plain": [
       "<Figure size 432x288 with 1 Axes>"
      ]
     },
     "metadata": {
      "needs_background": "light"
     },
     "output_type": "display_data"
    }
   ],
   "source": [
    "sns.distplot(df[value_]).set_title(\"Distribution of {0}\".format(value_))\n",
    "\n",
    "# probability plot\n",
    "fig = plt.figure()\n",
    "res = sc.probplot(df[value_], plot=plt)"
   ]
  },
  {
   "cell_type": "markdown",
   "metadata": {},
   "source": [
    "Right squewdness identified, can be correctedwit a log transform"
   ]
  },
  {
   "cell_type": "code",
   "execution_count": 90,
   "metadata": {},
   "outputs": [
    {
     "name": "stderr",
     "output_type": "stream",
     "text": [
      "C:\\Users\\rmcgr\\anaconda3\\lib\\site-packages\\seaborn\\distributions.py:2619: FutureWarning: `distplot` is a deprecated function and will be removed in a future version. Please adapt your code to use either `displot` (a figure-level function with similar flexibility) or `histplot` (an axes-level function for histograms).\n",
      "  warnings.warn(msg, FutureWarning)\n"
     ]
    },
    {
     "name": "stdout",
     "output_type": "stream",
     "text": [
      "\n",
      " mean = 8.35 and std dev = 2.04\n",
      "\n"
     ]
    },
    {
     "data": {
      "image/png": "[encoded data removed]",
      "text/plain": [
       "<Figure size 432x288 with 1 Axes>"
      ]
     },
     "metadata": {
      "needs_background": "light"
     },
     "output_type": "display_data"
    },
    {
     "data": {
      "image/png": "[encoded data removed]",
      "text/plain": [
       "<Figure size 432x288 with 1 Axes>"
      ]
     },
     "metadata": {
      "needs_background": "light"
     },
     "output_type": "display_data"
    }
   ],
   "source": [
    "#Using the log1p function applies log(1+x) to all elements of the column\n",
    "df[value_] = np.log1p(df[value_])\n",
    "\n",
    "#Check the new distribution after log transformation \n",
    "sns.distplot(df[value_], fit=sc.norm)\n",
    "\n",
    "# Get the fitted parameters used by the function\n",
    "(mu, sigma) = sc.norm.fit(df[value_])\n",
    "print( '\\n mean = {:.2f} and std dev = {:.2f}\\n'.format(mu, sigma))\n",
    "\n",
    "#NPlotting the distribution\n",
    "plt.legend(['Normal dist. ($\\mu=$ {:.2f} and $\\sigma=$ {:.2f} )'.format(mu, sigma)],\n",
    "            loc='best')\n",
    "plt.ylabel('Frequency')\n",
    "plt.title('Distribution of Log SalePrices')\n",
    "\n",
    "#Also the QQ plot\n",
    "fig = plt.figure()\n",
    "res = sc.probplot(df[value_], plot=plt)\n",
    "plt.show()"
   ]
  }
 ],
 "metadata": {
  "kernelspec": {
   "display_name": "Python 3",
   "language": "python",
   "name": "python3"
  },
  "language_info": {
   "codemirror_mode": {
    "name": "ipython",
    "version": 3
   },
   "file_extension": ".py",
   "mimetype": "text/x-python",
   "name": "python",
   "nbconvert_exporter": "python",
   "pygments_lexer": "ipython3",
   "version": "3.7.7"
  }
 },
 "nbformat": 4,
 "nbformat_minor": 4
}
