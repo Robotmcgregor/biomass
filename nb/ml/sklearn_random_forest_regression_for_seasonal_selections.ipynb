{
 "cells": [
  {
   "cell_type": "markdown",
   "metadata": {},
   "source": [
    "# Sklearn Random Forest Regression for seasonal selections"
   ]
  },
  {
   "cell_type": "markdown",
   "metadata": {},
   "source": [
    "###### Load modules "
   ]
  },
  {
   "cell_type": "markdown",
   "metadata": {},
   "source": [
    "The following conditions apply:\n",
    "\n",
    " - env = biomass_zonal\n",
    " - data merged_slats_field_agb_dp1_start.csv"
   ]
  },
  {
   "cell_type": "code",
   "execution_count": 1,
   "metadata": {},
   "outputs": [],
   "source": [
    "\n",
    "\n",
    "%matplotlib inline\n",
    "import sklearn\n",
    "import pandas as pd\n",
    "pd.set_option('display.float_format', '{:.2f}'.format)\n",
    "import numpy as np\n",
    "from random import sample\n",
    "from sklearn.ensemble import RandomForestRegressor as rfr\n",
    "from sklearn.ensemble import ExtraTreesRegressor as etr\n",
    "from sklearn.ensemble import GradientBoostingRegressor as gbr\n",
    "from sklearn.ensemble import AdaBoostRegressor as abr\n",
    "from sklearn.tree import DecisionTreeRegressor as dtr\n",
    "import matplotlib.pyplot as plt\n",
    "import csv\n",
    "from sklearn.model_selection import train_test_split\n",
    "\n",
    "# import plotting and stats modules\n",
    "\n",
    "import matplotlib.pyplot as plt\n",
    "import seaborn as sns\n",
    "import os\n",
    "import scipy\n",
    "import scipy.stats as sc\n",
    "import numpy as np\n",
    "from glob import glob\n",
    "\n",
    "# stats module\n",
    "import statsmodels.api as sm\n",
    "from statsmodels.tools.tools import add_constant\n",
    "from statsmodels.sandbox.regression.predstd import wls_prediction_std\n",
    "from statsmodels.stats.outliers_influence import variance_inflation_factor\n",
    "\n",
    "from bokeh.io import output_notebook, output_file\n",
    "from bokeh.plotting import figure, show, save\n",
    "#%matplotlib inline\n",
    "\n",
    "# Bokeh Libraries\n",
    "# from bokeh.plotting import figure, show\n",
    "# from bokeh.io import output_file\n",
    "from bokeh.models import ColumnDataSource, NumeralTickFormatter, HoverTool\n",
    "\n",
    "\n",
    "from sklearn.model_selection import cross_validate\n",
    "#sklearn.model_selection.cross_validate\n",
    "# from sklearn import cross_validation\n",
    "from sklearn.metrics import explained_variance_score\n",
    "from sklearn import metrics\n",
    "from sklearn.metrics import mean_squared_error\n",
    "from sklearn.model_selection import GridSearchCV\n",
    "#from sklearn.cross_validation import KFold\n",
    "import pickle5 as Pickle"
   ]
  },
  {
   "cell_type": "markdown",
   "metadata": {},
   "source": [
    "### Import data"
   ]
  },
  {
   "cell_type": "code",
   "execution_count": 2,
   "metadata": {},
   "outputs": [],
   "source": [
    "date = \"20230201\"\n",
    "drive = \"D\"\n",
    "\n",
    "# define output directory\n",
    "output_dir = r\"{0}:\\cdu\\data\\zonal_stats\\output\\{1}\".format(drive, date)\n",
    "\n",
    "# data dir\n",
    "dir_ = r\"{0}:\\cdu\\data\\zonal_stats\\output\\{1}\\ml_data_si_dir\".format(drive, date)\n",
    "\n",
    "index_ = 0\n",
    "\n",
    "\n",
    "runs = 1"
   ]
  },
  {
   "cell_type": "code",
   "execution_count": 3,
   "metadata": {},
   "outputs": [],
   "source": [
    "def mk_dir_fn(dir_):\n",
    "    \"\"\" Create a new directory if one does not already exist. \"\"\"\n",
    "    if not os.path.isdir(dir_):\n",
    "        os.mkdir(dir_)\n",
    "\n",
    "        \n",
    "def export_csv_fn(list_, dir_, file_name):\n",
    "    \n",
    "    \"\"\" Create and export path from directory and file name and exports csv with no dropping the index column. \"\"\"\n",
    "    \n",
    "    df_final = pd.concat(list_, axis =0)    \n",
    "    output_path = os.path.join(dir_, file_name)\n",
    "    df_final.to_csv(os.path.join(output_path), index=False)\n",
    "    print(\"File output to: \", output_path)\n",
    "    \n",
    "    return df_final"
   ]
  },
  {
   "cell_type": "markdown",
   "metadata": {},
   "source": [
    "## Set output file locations"
   ]
  },
  {
   "cell_type": "code",
   "execution_count": 4,
   "metadata": {},
   "outputs": [],
   "source": [
    "ml_rf_reg_dir= os.path.join(output_dir, \"ml_rf_reg_dir\")\n",
    "plots_dir = os.path.join(ml_rf_reg_dir, \"ml_rf_reg_plots_dir\")\n",
    "all_plots_dir = os.path.join(plots_dir, \"all\")\n",
    "no_tern_plots_dir = os.path.join(plots_dir, \"no_tern\")\n",
    "mk_dir_fn(output_dir)\n",
    "mk_dir_fn(ml_rf_reg_dir)\n",
    "mk_dir_fn(plots_dir)\n",
    "mk_dir_fn(all_plots_dir)\n",
    "mk_dir_fn(no_tern_plots_dir)"
   ]
  },
  {
   "cell_type": "markdown",
   "metadata": {},
   "source": [
    "## Load data"
   ]
  },
  {
   "cell_type": "code",
   "execution_count": 5,
   "metadata": {},
   "outputs": [
    {
     "name": "stdout",
     "output_type": "stream",
     "text": [
      "D:\\cdu\\data\\zonal_stats\\output\\20230201\\ml_data_si_dir\\season_climate_fillna_mean_fms_NOT_si_reg.csv\n",
      "D:\\cdu\\data\\zonal_stats\\output\\20230201\\ml_data_si_dir\\r2_best_season_climate_fillna_fms_NOT_si_reg.csv\n",
      "D:\\cdu\\data\\zonal_stats\\output\\20230201\\ml_data_si_dir\\season_NO_climate_fillna_mean_fms_NOT_si_reg.csv\n",
      "D:\\cdu\\data\\zonal_stats\\output\\20230201\\ml_data_si_dir\\r2_best_season_NO_climate_fillna_fms_NOT_si_reg.csv\n"
     ]
    }
   ],
   "source": [
    "file_list = []\n",
    "for f in glob(os.path.join(dir_, \"*reg.csv\")):\n",
    "    print(f)\n",
    "    file_list.append(f)"
   ]
  },
  {
   "cell_type": "code",
   "execution_count": 6,
   "metadata": {},
   "outputs": [],
   "source": [
    "df = pd.read_csv(file_list[index_], header=0)"
   ]
  },
  {
   "cell_type": "code",
   "execution_count": 7,
   "metadata": {},
   "outputs": [
    {
     "data": {
      "text/html": [
       "<div>\n",
       "<style scoped>\n",
       "    .dataframe tbody tr th:only-of-type {\n",
       "        vertical-align: middle;\n",
       "    }\n",
       "\n",
       "    .dataframe tbody tr th {\n",
       "        vertical-align: top;\n",
       "    }\n",
       "\n",
       "    .dataframe thead th {\n",
       "        text-align: right;\n",
       "    }\n",
       "</style>\n",
       "<table border=\"1\" class=\"dataframe\">\n",
       "  <thead>\n",
       "    <tr style=\"text-align: right;\">\n",
       "      <th></th>\n",
       "      <th>target</th>\n",
       "      <th>site</th>\n",
       "      <th>uid</th>\n",
       "      <th>date</th>\n",
       "      <th>bio_agb_kg1ha</th>\n",
       "      <th>b1_fpca2_0509_min</th>\n",
       "      <th>b1_fpca2_0509_max</th>\n",
       "      <th>b1_fpca2_0509_mean</th>\n",
       "      <th>b1_fpca2_0509_med</th>\n",
       "      <th>b1_fpca2_0509_std</th>\n",
       "      <th>...</th>\n",
       "      <th>NDGIm</th>\n",
       "      <th>RIm</th>\n",
       "      <th>NBRm</th>\n",
       "      <th>NDIIm</th>\n",
       "      <th>GDVIm</th>\n",
       "      <th>MSAVIm</th>\n",
       "      <th>DVIm</th>\n",
       "      <th>SAVIm</th>\n",
       "      <th>NDVIm</th>\n",
       "      <th>MSRm</th>\n",
       "    </tr>\n",
       "  </thead>\n",
       "  <tbody>\n",
       "    <tr>\n",
       "      <th>0</th>\n",
       "      <td>0.00</td>\n",
       "      <td>nt001</td>\n",
       "      <td>119</td>\n",
       "      <td>20110523</td>\n",
       "      <td>0.00</td>\n",
       "      <td>13.78</td>\n",
       "      <td>47.00</td>\n",
       "      <td>25.85</td>\n",
       "      <td>23.87</td>\n",
       "      <td>8.48</td>\n",
       "      <td>...</td>\n",
       "      <td>-1797183</td>\n",
       "      <td>1797183</td>\n",
       "      <td>803085</td>\n",
       "      <td>-1648544</td>\n",
       "      <td>1653000</td>\n",
       "      <td>2108509</td>\n",
       "      <td>1334000</td>\n",
       "      <td>2374229</td>\n",
       "      <td>3891482</td>\n",
       "      <td>5080174</td>\n",
       "    </tr>\n",
       "    <tr>\n",
       "      <th>1</th>\n",
       "      <td>0.00</td>\n",
       "      <td>barkely01</td>\n",
       "      <td>42</td>\n",
       "      <td>20111025</td>\n",
       "      <td>0.00</td>\n",
       "      <td>0.75</td>\n",
       "      <td>2.87</td>\n",
       "      <td>1.69</td>\n",
       "      <td>1.49</td>\n",
       "      <td>0.70</td>\n",
       "      <td>...</td>\n",
       "      <td>-1237840</td>\n",
       "      <td>1237840</td>\n",
       "      <td>145478</td>\n",
       "      <td>-1258856</td>\n",
       "      <td>1100000</td>\n",
       "      <td>1063379</td>\n",
       "      <td>731000</td>\n",
       "      <td>1207466</td>\n",
       "      <td>1791228</td>\n",
       "      <td>1985065</td>\n",
       "    </tr>\n",
       "    <tr>\n",
       "      <th>2</th>\n",
       "      <td>0.00</td>\n",
       "      <td>barkely02</td>\n",
       "      <td>43</td>\n",
       "      <td>20111026</td>\n",
       "      <td>0.00</td>\n",
       "      <td>2.12</td>\n",
       "      <td>13.78</td>\n",
       "      <td>4.97</td>\n",
       "      <td>4.73</td>\n",
       "      <td>2.43</td>\n",
       "      <td>...</td>\n",
       "      <td>-1563211</td>\n",
       "      <td>1563211</td>\n",
       "      <td>758167</td>\n",
       "      <td>-969300</td>\n",
       "      <td>1320000</td>\n",
       "      <td>1195078</td>\n",
       "      <td>839000</td>\n",
       "      <td>1339257</td>\n",
       "      <td>1908119</td>\n",
       "      <td>2131007</td>\n",
       "    </tr>\n",
       "    <tr>\n",
       "      <th>3</th>\n",
       "      <td>0.00</td>\n",
       "      <td>barkely04</td>\n",
       "      <td>45</td>\n",
       "      <td>20111026</td>\n",
       "      <td>0.00</td>\n",
       "      <td>2.12</td>\n",
       "      <td>6.42</td>\n",
       "      <td>4.37</td>\n",
       "      <td>4.47</td>\n",
       "      <td>1.22</td>\n",
       "      <td>...</td>\n",
       "      <td>-1493838</td>\n",
       "      <td>1493838</td>\n",
       "      <td>965693</td>\n",
       "      <td>-982236</td>\n",
       "      <td>1174000</td>\n",
       "      <td>951763</td>\n",
       "      <td>677000</td>\n",
       "      <td>1068835</td>\n",
       "      <td>1504110</td>\n",
       "      <td>1636492</td>\n",
       "    </tr>\n",
       "    <tr>\n",
       "      <th>4</th>\n",
       "      <td>0.00</td>\n",
       "      <td>barkely03</td>\n",
       "      <td>44</td>\n",
       "      <td>20111026</td>\n",
       "      <td>0.00</td>\n",
       "      <td>0.75</td>\n",
       "      <td>3.29</td>\n",
       "      <td>1.82</td>\n",
       "      <td>1.64</td>\n",
       "      <td>0.70</td>\n",
       "      <td>...</td>\n",
       "      <td>-1481481</td>\n",
       "      <td>1481481</td>\n",
       "      <td>-2046</td>\n",
       "      <td>-1713026</td>\n",
       "      <td>1178000</td>\n",
       "      <td>1068186</td>\n",
       "      <td>738000</td>\n",
       "      <td>1210101</td>\n",
       "      <td>1779171</td>\n",
       "      <td>1970149</td>\n",
       "    </tr>\n",
       "    <tr>\n",
       "      <th>...</th>\n",
       "      <td>...</td>\n",
       "      <td>...</td>\n",
       "      <td>...</td>\n",
       "      <td>...</td>\n",
       "      <td>...</td>\n",
       "      <td>...</td>\n",
       "      <td>...</td>\n",
       "      <td>...</td>\n",
       "      <td>...</td>\n",
       "      <td>...</td>\n",
       "      <td>...</td>\n",
       "      <td>...</td>\n",
       "      <td>...</td>\n",
       "      <td>...</td>\n",
       "      <td>...</td>\n",
       "      <td>...</td>\n",
       "      <td>...</td>\n",
       "      <td>...</td>\n",
       "      <td>...</td>\n",
       "      <td>...</td>\n",
       "      <td>...</td>\n",
       "    </tr>\n",
       "    <tr>\n",
       "      <th>162</th>\n",
       "      <td>20805.22</td>\n",
       "      <td>ntadac0002</td>\n",
       "      <td>5</td>\n",
       "      <td>20160506</td>\n",
       "      <td>20805.22</td>\n",
       "      <td>15.54</td>\n",
       "      <td>42.39</td>\n",
       "      <td>29.12</td>\n",
       "      <td>29.27</td>\n",
       "      <td>6.84</td>\n",
       "      <td>...</td>\n",
       "      <td>-652174</td>\n",
       "      <td>652174</td>\n",
       "      <td>4386747</td>\n",
       "      <td>1261845</td>\n",
       "      <td>1828000</td>\n",
       "      <td>3096442</td>\n",
       "      <td>1768000</td>\n",
       "      <td>3422819</td>\n",
       "      <td>6433770</td>\n",
       "      <td>11466633</td>\n",
       "    </tr>\n",
       "    <tr>\n",
       "      <th>163</th>\n",
       "      <td>30472.45</td>\n",
       "      <td>ntaarp0001</td>\n",
       "      <td>1</td>\n",
       "      <td>20160602</td>\n",
       "      <td>30472.45</td>\n",
       "      <td>27.61</td>\n",
       "      <td>38.92</td>\n",
       "      <td>34.75</td>\n",
       "      <td>34.33</td>\n",
       "      <td>3.24</td>\n",
       "      <td>...</td>\n",
       "      <td>-1485714</td>\n",
       "      <td>1485714</td>\n",
       "      <td>4017258</td>\n",
       "      <td>1123510</td>\n",
       "      <td>1746000</td>\n",
       "      <td>2727661</td>\n",
       "      <td>1590000</td>\n",
       "      <td>3059261</td>\n",
       "      <td>5686695</td>\n",
       "      <td>9070438</td>\n",
       "    </tr>\n",
       "    <tr>\n",
       "      <th>164</th>\n",
       "      <td>24414.13</td>\n",
       "      <td>ntaarp0002</td>\n",
       "      <td>2</td>\n",
       "      <td>20160602</td>\n",
       "      <td>24414.13</td>\n",
       "      <td>9.06</td>\n",
       "      <td>22.31</td>\n",
       "      <td>14.40</td>\n",
       "      <td>14.21</td>\n",
       "      <td>3.60</td>\n",
       "      <td>...</td>\n",
       "      <td>-2065698</td>\n",
       "      <td>2065698</td>\n",
       "      <td>2615783</td>\n",
       "      <td>222222</td>\n",
       "      <td>1810000</td>\n",
       "      <td>2372051</td>\n",
       "      <td>1483000</td>\n",
       "      <td>2650423</td>\n",
       "      <td>4370763</td>\n",
       "      <td>5977733</td>\n",
       "    </tr>\n",
       "    <tr>\n",
       "      <th>165</th>\n",
       "      <td>17598.35</td>\n",
       "      <td>ntaarp0003</td>\n",
       "      <td>3</td>\n",
       "      <td>20160603</td>\n",
       "      <td>17598.35</td>\n",
       "      <td>5.26</td>\n",
       "      <td>25.45</td>\n",
       "      <td>13.08</td>\n",
       "      <td>12.11</td>\n",
       "      <td>5.79</td>\n",
       "      <td>...</td>\n",
       "      <td>-1885790</td>\n",
       "      <td>1885790</td>\n",
       "      <td>2958064</td>\n",
       "      <td>395123</td>\n",
       "      <td>1691000</td>\n",
       "      <td>2284112</td>\n",
       "      <td>1407000</td>\n",
       "      <td>2574722</td>\n",
       "      <td>4401001</td>\n",
       "      <td>6037665</td>\n",
       "    </tr>\n",
       "    <tr>\n",
       "      <th>166</th>\n",
       "      <td>9995.51</td>\n",
       "      <td>buff01</td>\n",
       "      <td>3</td>\n",
       "      <td>20210713</td>\n",
       "      <td>9995.51</td>\n",
       "      <td>19.30</td>\n",
       "      <td>40.08</td>\n",
       "      <td>30.47</td>\n",
       "      <td>32.06</td>\n",
       "      <td>6.23</td>\n",
       "      <td>...</td>\n",
       "      <td>770925</td>\n",
       "      <td>-770925</td>\n",
       "      <td>5614599</td>\n",
       "      <td>2339640</td>\n",
       "      <td>2185000</td>\n",
       "      <td>3960474</td>\n",
       "      <td>2255000</td>\n",
       "      <td>4179538</td>\n",
       "      <td>7290656</td>\n",
       "      <td>15262347</td>\n",
       "    </tr>\n",
       "  </tbody>\n",
       "</table>\n",
       "<p>167 rows × 180 columns</p>\n",
       "</div>"
      ],
      "text/plain": [
       "      target        site  uid      date  bio_agb_kg1ha  b1_fpca2_0509_min  \\\n",
       "0       0.00       nt001  119  20110523           0.00              13.78   \n",
       "1       0.00   barkely01   42  20111025           0.00               0.75   \n",
       "2       0.00   barkely02   43  20111026           0.00               2.12   \n",
       "3       0.00   barkely04   45  20111026           0.00               2.12   \n",
       "4       0.00   barkely03   44  20111026           0.00               0.75   \n",
       "..       ...         ...  ...       ...            ...                ...   \n",
       "162 20805.22  ntadac0002    5  20160506       20805.22              15.54   \n",
       "163 30472.45  ntaarp0001    1  20160602       30472.45              27.61   \n",
       "164 24414.13  ntaarp0002    2  20160602       24414.13               9.06   \n",
       "165 17598.35  ntaarp0003    3  20160603       17598.35               5.26   \n",
       "166  9995.51      buff01    3  20210713        9995.51              19.30   \n",
       "\n",
       "     b1_fpca2_0509_max  b1_fpca2_0509_mean  b1_fpca2_0509_med  \\\n",
       "0                47.00               25.85              23.87   \n",
       "1                 2.87                1.69               1.49   \n",
       "2                13.78                4.97               4.73   \n",
       "3                 6.42                4.37               4.47   \n",
       "4                 3.29                1.82               1.64   \n",
       "..                 ...                 ...                ...   \n",
       "162              42.39               29.12              29.27   \n",
       "163              38.92               34.75              34.33   \n",
       "164              22.31               14.40              14.21   \n",
       "165              25.45               13.08              12.11   \n",
       "166              40.08               30.47              32.06   \n",
       "\n",
       "     b1_fpca2_0509_std  ...    NDGIm      RIm     NBRm    NDIIm    GDVIm  \\\n",
       "0                 8.48  ... -1797183  1797183   803085 -1648544  1653000   \n",
       "1                 0.70  ... -1237840  1237840   145478 -1258856  1100000   \n",
       "2                 2.43  ... -1563211  1563211   758167  -969300  1320000   \n",
       "3                 1.22  ... -1493838  1493838   965693  -982236  1174000   \n",
       "4                 0.70  ... -1481481  1481481    -2046 -1713026  1178000   \n",
       "..                 ...  ...      ...      ...      ...      ...      ...   \n",
       "162               6.84  ...  -652174   652174  4386747  1261845  1828000   \n",
       "163               3.24  ... -1485714  1485714  4017258  1123510  1746000   \n",
       "164               3.60  ... -2065698  2065698  2615783   222222  1810000   \n",
       "165               5.79  ... -1885790  1885790  2958064   395123  1691000   \n",
       "166               6.23  ...   770925  -770925  5614599  2339640  2185000   \n",
       "\n",
       "      MSAVIm     DVIm    SAVIm    NDVIm      MSRm  \n",
       "0    2108509  1334000  2374229  3891482   5080174  \n",
       "1    1063379   731000  1207466  1791228   1985065  \n",
       "2    1195078   839000  1339257  1908119   2131007  \n",
       "3     951763   677000  1068835  1504110   1636492  \n",
       "4    1068186   738000  1210101  1779171   1970149  \n",
       "..       ...      ...      ...      ...       ...  \n",
       "162  3096442  1768000  3422819  6433770  11466633  \n",
       "163  2727661  1590000  3059261  5686695   9070438  \n",
       "164  2372051  1483000  2650423  4370763   5977733  \n",
       "165  2284112  1407000  2574722  4401001   6037665  \n",
       "166  3960474  2255000  4179538  7290656  15262347  \n",
       "\n",
       "[167 rows x 180 columns]"
      ]
     },
     "execution_count": 7,
     "metadata": {},
     "output_type": "execute_result"
    }
   ],
   "source": [
    "df"
   ]
  },
  {
   "cell_type": "code",
   "execution_count": 8,
   "metadata": {},
   "outputs": [
    {
     "data": {
      "text/plain": [
       "(167, 180)"
      ]
     },
     "execution_count": 8,
     "metadata": {},
     "output_type": "execute_result"
    }
   ],
   "source": [
    "df.shape"
   ]
  },
  {
   "cell_type": "code",
   "execution_count": 9,
   "metadata": {},
   "outputs": [],
   "source": [
    "# drop_list = ['dis_one', 'dis_two', 'dis_three', 'dis_four', 'dis_five', 'dis_six', 'dis_seven', 'dis_eight', 'dis_nine', 'dis_ten',\n",
    "#  'dka_jan', 'dka_feb', 'dka_mar', 'dka_april', 'dka_may', 'dka_june', 'dka_july', 'dka_aug', 'dka_sep', 'dka_oct', 'dka_nov', 'dka_dec',\n",
    "#     'stc_one', 'stc_two', 'stc_three', 'stc_four', 'stc_five', 'stc_six', 'stc_seven', 'stc_eight', 'stc_nine', 'stc_ten', 'stc_elev', \n",
    "#     'stc_twelv', 'stc_thirt', 'stc_fourt', 'stc_fift', 'stc_sixt', 'stc_sevent', 'dka_sum', 'dka_sum.1', 'dka_sum.2', 'dka_sum.3', \n",
    "#              'stc_sum', 'stc_sum.1', 'stc_sum.2', 'stc_sum.3']\n"
   ]
  },
  {
   "cell_type": "code",
   "execution_count": 10,
   "metadata": {},
   "outputs": [],
   "source": [
    "df2 = df.copy(deep=True)"
   ]
  },
  {
   "cell_type": "code",
   "execution_count": 11,
   "metadata": {},
   "outputs": [
    {
     "name": "stdout",
     "output_type": "stream",
     "text": [
      "['target', 'site', 'uid', 'date', 'bio_agb_kg1ha', 'b1_fpca2_0509_min', 'b1_fpca2_0509_max', 'b1_fpca2_0509_mean', 'b1_fpca2_0509_med', 'b1_fpca2_0509_std', 'b1_h99a_01122_min', 'b1_h99a_01122_max', 'b1_h99a_01122_mean', 'b1_h99a_01122_med', 'b1_h99a_01122_std', 'b1_dbi_0608_min', 'b1_dbi_0608_max', 'b1_dbi_0608_mean', 'b1_dbi_0608_med', 'b1_dbi_0608_std', 'b2_dbi_0608_min', 'b2_dbi_0608_max', 'b2_dbi_0608_mean', 'b2_dbi_0608_med', 'b2_dbi_0608_std', 'b3_dbi_0608_min', 'b3_dbi_0608_max', 'b3_dbi_0608_mean', 'b3_dbi_0608_med', 'b3_dbi_0608_std', 'b4_dbi_0608_min', 'b4_dbi_0608_max', 'b4_dbi_0608_mean', 'b4_dbi_0608_med', 'b4_dbi_0608_std', 'b5_dbi_0608_min', 'b5_dbi_0608_max', 'b5_dbi_0608_mean', 'b5_dbi_0608_med', 'b5_dbi_0608_std', 'b6_dbi_0608_min', 'b6_dbi_0608_max', 'b6_dbi_0608_mean', 'b6_dbi_0608_med', 'b6_dbi_0608_std', 'b1_dja_0305_min', 'b1_dja_0305_max', 'b1_dja_0305_mean', 'b1_dja_0305_med', 'b1_dja_0305_std', 'b1_dp1_0112_min', 'b1_dp1_0112_max', 'b1_dp1_0112_mean', 'b1_dp1_0112_std', 'b1_dp1_0112_med', 'b2_dp1_0112_min', 'b2_dp1_0112_max', 'b2_dp1_0112_mean', 'b2_dp1_0112_std', 'b2_dp1_0112_med', 'b3_dp1_0112_min', 'b3_dp1_0112_max', 'b3_dp1_0112_mean', 'b3_dp1_0112_med', 'b3_dp1_0112_std', 'b1_dp1_0509_min', 'b1_dp1_0509_max', 'b1_dp1_0509_mean', 'b1_dp1_0509_std', 'b1_dp1_0509_med', 'b2_dp1_0509_min', 'b2_dp1_0509_max', 'b2_dp1_0509_mean', 'b2_dp1_0509_std', 'b2_dp1_0509_med', 'b3_dp1_0509_min', 'b3_dp1_0509_max', 'b3_dp1_0509_mean', 'b3_dp1_0509_med', 'b3_dp1_0509_std', 'b1_dim_0305_min', 'b1_dim_0305_max', 'b1_dim_0305_mean', 'b1_dim_0305_med', 'b1_dim_0305_std', 'b2_dim_0305_min', 'b2_dim_0305_max', 'b2_dim_0305_mean', 'b2_dim_0305_med', 'b2_dim_0305_std', 'b3_dim_0305_min', 'b3_dim_0305_max', 'b3_dim_0305_mean', 'b3_dim_0305_med', 'b3_dim_0305_std', 'b1_dim_0608_min', 'b1_dim_0608_max', 'b1_dim_0608_mean', 'b1_dim_0608_med', 'b1_dim_0608_std', 'b2_dim_0608_min', 'b2_dim_0608_max', 'b2_dim_0608_mean', 'b2_dim_0608_med', 'b2_dim_0608_std', 'b3_dim_0608_min', 'b3_dim_0608_max', 'b3_dim_0608_mean', 'b3_dim_0608_med', 'b3_dim_0608_std', 'b1_dim_0911_min', 'b1_dim_0911_max', 'b1_dim_0911_mean', 'b1_dim_0911_med', 'b1_dim_0911_std', 'b2_dim_0911_min', 'b2_dim_0911_max', 'b2_dim_0911_mean', 'b2_dim_0911_med', 'b2_dim_0911_std', 'b3_dim_0911_min', 'b3_dim_0911_max', 'b3_dim_0911_mean', 'b3_dim_0911_med', 'b3_dim_0911_std', 'b1_dim_1202_min', 'b1_dim_1202_max', 'b1_dim_1202_mean', 'b1_dim_1202_med', 'b1_dim_1202_std', 'b2_dim_1202_min', 'b2_dim_1202_max', 'b2_dim_1202_mean', 'b2_dim_1202_med', 'b2_dim_1202_std', 'b3_dim_1202_min', 'b3_dim_1202_max', 'b3_dim_1202_mean', 'b3_dim_1202_med', 'b3_dim_1202_std', 'rain_d_mean', 'et_ma_mean', 'et_mp_mean', 'et_mw_mean', 'et_sc_mean', 'et_tc_mean', 'evp_ml_mean', 'evp_s_mean', 'tmax_mean', 'tmin_mean', 'rain_m_mean', 'mslp_mean', 'rad_mean', 'rh_tmax_mean', 'rh_tmin_mean', 'vp_mean', 'vp_d_mean', 'ratio32m', 'ratio42m', 'ratio43m', 'ratio52m', 'ratio53m', 'ratio54m', 'ratio62m', 'ratio63m', 'ratio64m', 'ratio65m', 'GSAVIm', 'GNDVIm', 'CVIm', 'NDGIm', 'RIm', 'NBRm', 'NDIIm', 'GDVIm', 'MSAVIm', 'DVIm', 'SAVIm', 'NDVIm', 'MSRm']\n"
     ]
    }
   ],
   "source": [
    "print(list(df2.columns))"
   ]
  },
  {
   "cell_type": "markdown",
   "metadata": {},
   "source": [
    "### Set variables to plot"
   ]
  },
  {
   "cell_type": "code",
   "execution_count": 12,
   "metadata": {},
   "outputs": [],
   "source": [
    "# # predicted value is x\n",
    "# value_x = 'bio_agb_kg1ha'\n",
    "# # variable is y\n",
    "# value_y = \"b1_h99a_01122_mean\"\n",
    "# value_a = 'date'\n",
    "# value_b = 'b1_fpca2_0509_mean'\n"
   ]
  },
  {
   "cell_type": "code",
   "execution_count": 13,
   "metadata": {},
   "outputs": [],
   "source": [
    "# value_y"
   ]
  },
  {
   "cell_type": "code",
   "execution_count": 14,
   "metadata": {},
   "outputs": [],
   "source": [
    "# df2.shape"
   ]
  },
  {
   "cell_type": "code",
   "execution_count": 15,
   "metadata": {},
   "outputs": [],
   "source": [
    "def save_fig(value_x, value_y, value_a, value_b, out_file):\n",
    "    # Output to file\n",
    "    output_file(out_file, \n",
    "                title='Relationship between {0} and {1}'.format(value_x.replace(\"_\", \" \"), value_y.replace(\"_\", \" \")))\n",
    "\n",
    "\n",
    "\n",
    "    #Specify the selection tools to be made available\n",
    "    select_tools = ['box_select', 'lasso_select', 'poly_select', 'tap', 'zoom_in', 'zoom_out', 'wheel_zoom', 'reset']\n",
    "\n",
    "    #print(test)\n",
    "    # Format the tooltip\n",
    "    tooltips = [\n",
    "                ('Site', '@site'),\n",
    "                ('Date', '@date'),\n",
    "                (value_x, '@{0}'.format(value_x)),\n",
    "                (value_y, '@{0}'.format(value_y)),   \n",
    "                (value_a, '@{0}'.format(value_a)),\n",
    "                (value_b, '@{0}'.format(value_b)) \n",
    "               ]\n",
    "\n",
    "    # Create the figure\n",
    "    fig = figure(plot_height=400,\n",
    "                 plot_width=1500,\n",
    "                 y_axis_label= value_y.replace(\"_\", \" \"), \n",
    "                 x_axis_label= value_x.replace(\"_\", \" \"),\n",
    "                 title='Relationship between {0} and {1}'.format(value_x.replace(\"_\", \" \"), value_y.replace(\"_\", \" \")),\n",
    "                 toolbar_location='below',\n",
    "                 tools=select_tools)\n",
    "\n",
    "    # # Format the y-axis tick label\n",
    "    fig.yaxis[0].formatter = NumeralTickFormatter(format='0')\n",
    "\n",
    "    # Add square representing each site\n",
    "    fig.square(x= value_x,\n",
    "               y= value_y,\n",
    "               source=df2.round(4),\n",
    "               size=5,\n",
    "               color='royalblue',\n",
    "               selection_color='deepskyblue',\n",
    "               nonselection_color='lightgray',\n",
    "               nonselection_alpha=0.3)\n",
    "\n",
    "    # Add the HoverTool to the figure\n",
    "    fig.add_tools(HoverTool(tooltips=tooltips))\n",
    "\n",
    "    # Visualize\n",
    "    save(fig)"
   ]
  },
  {
   "cell_type": "code",
   "execution_count": 16,
   "metadata": {},
   "outputs": [],
   "source": [
    "# save_fig(value_x, value_y)"
   ]
  },
  {
   "cell_type": "code",
   "execution_count": 17,
   "metadata": {},
   "outputs": [],
   "source": [
    "# column_list"
   ]
  },
  {
   "cell_type": "code",
   "execution_count": 18,
   "metadata": {},
   "outputs": [
    {
     "name": "stdout",
     "output_type": "stream",
     "text": [
      "Plot exported to: D:\\cdu\\data\\zonal_stats\\output\\20230201\\ml_rf_reg_dir\\ml_rf_reg_plots_dir\\all\\all_sites_target_b1_fpca2_0509_min.html\n",
      "Plot exported to: D:\\cdu\\data\\zonal_stats\\output\\20230201\\ml_rf_reg_dir\\ml_rf_reg_plots_dir\\all\\all_sites_target_b1_fpca2_0509_max.html\n",
      "Plot exported to: D:\\cdu\\data\\zonal_stats\\output\\20230201\\ml_rf_reg_dir\\ml_rf_reg_plots_dir\\all\\all_sites_target_b1_fpca2_0509_mean.html\n",
      "Plot exported to: D:\\cdu\\data\\zonal_stats\\output\\20230201\\ml_rf_reg_dir\\ml_rf_reg_plots_dir\\all\\all_sites_target_b1_fpca2_0509_med.html\n",
      "Plot exported to: D:\\cdu\\data\\zonal_stats\\output\\20230201\\ml_rf_reg_dir\\ml_rf_reg_plots_dir\\all\\all_sites_target_b1_fpca2_0509_std.html\n",
      "Plot exported to: D:\\cdu\\data\\zonal_stats\\output\\20230201\\ml_rf_reg_dir\\ml_rf_reg_plots_dir\\all\\all_sites_target_b1_h99a_01122_min.html\n",
      "Plot exported to: D:\\cdu\\data\\zonal_stats\\output\\20230201\\ml_rf_reg_dir\\ml_rf_reg_plots_dir\\all\\all_sites_target_b1_h99a_01122_max.html\n",
      "Plot exported to: D:\\cdu\\data\\zonal_stats\\output\\20230201\\ml_rf_reg_dir\\ml_rf_reg_plots_dir\\all\\all_sites_target_b1_h99a_01122_mean.html\n",
      "Plot exported to: D:\\cdu\\data\\zonal_stats\\output\\20230201\\ml_rf_reg_dir\\ml_rf_reg_plots_dir\\all\\all_sites_target_b1_h99a_01122_med.html\n",
      "Plot exported to: D:\\cdu\\data\\zonal_stats\\output\\20230201\\ml_rf_reg_dir\\ml_rf_reg_plots_dir\\all\\all_sites_target_b1_h99a_01122_std.html\n",
      "Plot exported to: D:\\cdu\\data\\zonal_stats\\output\\20230201\\ml_rf_reg_dir\\ml_rf_reg_plots_dir\\all\\all_sites_target_b1_dbi_0608_min.html\n",
      "Plot exported to: D:\\cdu\\data\\zonal_stats\\output\\20230201\\ml_rf_reg_dir\\ml_rf_reg_plots_dir\\all\\all_sites_target_b1_dbi_0608_max.html\n",
      "Plot exported to: D:\\cdu\\data\\zonal_stats\\output\\20230201\\ml_rf_reg_dir\\ml_rf_reg_plots_dir\\all\\all_sites_target_b1_dbi_0608_mean.html\n",
      "Plot exported to: D:\\cdu\\data\\zonal_stats\\output\\20230201\\ml_rf_reg_dir\\ml_rf_reg_plots_dir\\all\\all_sites_target_b1_dbi_0608_med.html\n",
      "Plot exported to: D:\\cdu\\data\\zonal_stats\\output\\20230201\\ml_rf_reg_dir\\ml_rf_reg_plots_dir\\all\\all_sites_target_b1_dbi_0608_std.html\n",
      "Plot exported to: D:\\cdu\\data\\zonal_stats\\output\\20230201\\ml_rf_reg_dir\\ml_rf_reg_plots_dir\\all\\all_sites_target_b2_dbi_0608_min.html\n",
      "Plot exported to: D:\\cdu\\data\\zonal_stats\\output\\20230201\\ml_rf_reg_dir\\ml_rf_reg_plots_dir\\all\\all_sites_target_b2_dbi_0608_max.html\n",
      "Plot exported to: D:\\cdu\\data\\zonal_stats\\output\\20230201\\ml_rf_reg_dir\\ml_rf_reg_plots_dir\\all\\all_sites_target_b2_dbi_0608_mean.html\n",
      "Plot exported to: D:\\cdu\\data\\zonal_stats\\output\\20230201\\ml_rf_reg_dir\\ml_rf_reg_plots_dir\\all\\all_sites_target_b2_dbi_0608_med.html\n",
      "Plot exported to: D:\\cdu\\data\\zonal_stats\\output\\20230201\\ml_rf_reg_dir\\ml_rf_reg_plots_dir\\all\\all_sites_target_b2_dbi_0608_std.html\n",
      "Plot exported to: D:\\cdu\\data\\zonal_stats\\output\\20230201\\ml_rf_reg_dir\\ml_rf_reg_plots_dir\\all\\all_sites_target_b3_dbi_0608_min.html\n",
      "Plot exported to: D:\\cdu\\data\\zonal_stats\\output\\20230201\\ml_rf_reg_dir\\ml_rf_reg_plots_dir\\all\\all_sites_target_b3_dbi_0608_max.html\n",
      "Plot exported to: D:\\cdu\\data\\zonal_stats\\output\\20230201\\ml_rf_reg_dir\\ml_rf_reg_plots_dir\\all\\all_sites_target_b3_dbi_0608_mean.html\n",
      "Plot exported to: D:\\cdu\\data\\zonal_stats\\output\\20230201\\ml_rf_reg_dir\\ml_rf_reg_plots_dir\\all\\all_sites_target_b3_dbi_0608_med.html\n",
      "Plot exported to: D:\\cdu\\data\\zonal_stats\\output\\20230201\\ml_rf_reg_dir\\ml_rf_reg_plots_dir\\all\\all_sites_target_b3_dbi_0608_std.html\n",
      "Plot exported to: D:\\cdu\\data\\zonal_stats\\output\\20230201\\ml_rf_reg_dir\\ml_rf_reg_plots_dir\\all\\all_sites_target_b4_dbi_0608_min.html\n",
      "Plot exported to: D:\\cdu\\data\\zonal_stats\\output\\20230201\\ml_rf_reg_dir\\ml_rf_reg_plots_dir\\all\\all_sites_target_b4_dbi_0608_max.html\n",
      "Plot exported to: D:\\cdu\\data\\zonal_stats\\output\\20230201\\ml_rf_reg_dir\\ml_rf_reg_plots_dir\\all\\all_sites_target_b4_dbi_0608_mean.html\n",
      "Plot exported to: D:\\cdu\\data\\zonal_stats\\output\\20230201\\ml_rf_reg_dir\\ml_rf_reg_plots_dir\\all\\all_sites_target_b4_dbi_0608_med.html\n",
      "Plot exported to: D:\\cdu\\data\\zonal_stats\\output\\20230201\\ml_rf_reg_dir\\ml_rf_reg_plots_dir\\all\\all_sites_target_b4_dbi_0608_std.html\n",
      "Plot exported to: D:\\cdu\\data\\zonal_stats\\output\\20230201\\ml_rf_reg_dir\\ml_rf_reg_plots_dir\\all\\all_sites_target_b5_dbi_0608_min.html\n",
      "Plot exported to: D:\\cdu\\data\\zonal_stats\\output\\20230201\\ml_rf_reg_dir\\ml_rf_reg_plots_dir\\all\\all_sites_target_b5_dbi_0608_max.html\n",
      "Plot exported to: D:\\cdu\\data\\zonal_stats\\output\\20230201\\ml_rf_reg_dir\\ml_rf_reg_plots_dir\\all\\all_sites_target_b5_dbi_0608_mean.html\n",
      "Plot exported to: D:\\cdu\\data\\zonal_stats\\output\\20230201\\ml_rf_reg_dir\\ml_rf_reg_plots_dir\\all\\all_sites_target_b5_dbi_0608_med.html\n",
      "Plot exported to: D:\\cdu\\data\\zonal_stats\\output\\20230201\\ml_rf_reg_dir\\ml_rf_reg_plots_dir\\all\\all_sites_target_b5_dbi_0608_std.html\n",
      "Plot exported to: D:\\cdu\\data\\zonal_stats\\output\\20230201\\ml_rf_reg_dir\\ml_rf_reg_plots_dir\\all\\all_sites_target_b6_dbi_0608_min.html\n",
      "Plot exported to: D:\\cdu\\data\\zonal_stats\\output\\20230201\\ml_rf_reg_dir\\ml_rf_reg_plots_dir\\all\\all_sites_target_b6_dbi_0608_max.html\n",
      "Plot exported to: D:\\cdu\\data\\zonal_stats\\output\\20230201\\ml_rf_reg_dir\\ml_rf_reg_plots_dir\\all\\all_sites_target_b6_dbi_0608_mean.html\n",
      "Plot exported to: D:\\cdu\\data\\zonal_stats\\output\\20230201\\ml_rf_reg_dir\\ml_rf_reg_plots_dir\\all\\all_sites_target_b6_dbi_0608_med.html\n",
      "Plot exported to: D:\\cdu\\data\\zonal_stats\\output\\20230201\\ml_rf_reg_dir\\ml_rf_reg_plots_dir\\all\\all_sites_target_b6_dbi_0608_std.html\n",
      "Plot exported to: D:\\cdu\\data\\zonal_stats\\output\\20230201\\ml_rf_reg_dir\\ml_rf_reg_plots_dir\\all\\all_sites_target_b1_dja_0305_min.html\n",
      "Plot exported to: D:\\cdu\\data\\zonal_stats\\output\\20230201\\ml_rf_reg_dir\\ml_rf_reg_plots_dir\\all\\all_sites_target_b1_dja_0305_max.html\n",
      "Plot exported to: D:\\cdu\\data\\zonal_stats\\output\\20230201\\ml_rf_reg_dir\\ml_rf_reg_plots_dir\\all\\all_sites_target_b1_dja_0305_mean.html\n",
      "Plot exported to: D:\\cdu\\data\\zonal_stats\\output\\20230201\\ml_rf_reg_dir\\ml_rf_reg_plots_dir\\all\\all_sites_target_b1_dja_0305_med.html\n",
      "Plot exported to: D:\\cdu\\data\\zonal_stats\\output\\20230201\\ml_rf_reg_dir\\ml_rf_reg_plots_dir\\all\\all_sites_target_b1_dja_0305_std.html\n",
      "Plot exported to: D:\\cdu\\data\\zonal_stats\\output\\20230201\\ml_rf_reg_dir\\ml_rf_reg_plots_dir\\all\\all_sites_target_b1_dp1_0112_min.html\n",
      "Plot exported to: D:\\cdu\\data\\zonal_stats\\output\\20230201\\ml_rf_reg_dir\\ml_rf_reg_plots_dir\\all\\all_sites_target_b1_dp1_0112_max.html\n",
      "Plot exported to: D:\\cdu\\data\\zonal_stats\\output\\20230201\\ml_rf_reg_dir\\ml_rf_reg_plots_dir\\all\\all_sites_target_b1_dp1_0112_mean.html\n",
      "Plot exported to: D:\\cdu\\data\\zonal_stats\\output\\20230201\\ml_rf_reg_dir\\ml_rf_reg_plots_dir\\all\\all_sites_target_b1_dp1_0112_std.html\n",
      "Plot exported to: D:\\cdu\\data\\zonal_stats\\output\\20230201\\ml_rf_reg_dir\\ml_rf_reg_plots_dir\\all\\all_sites_target_b1_dp1_0112_med.html\n",
      "Plot exported to: D:\\cdu\\data\\zonal_stats\\output\\20230201\\ml_rf_reg_dir\\ml_rf_reg_plots_dir\\all\\all_sites_target_b2_dp1_0112_min.html\n",
      "Plot exported to: D:\\cdu\\data\\zonal_stats\\output\\20230201\\ml_rf_reg_dir\\ml_rf_reg_plots_dir\\all\\all_sites_target_b2_dp1_0112_max.html\n",
      "Plot exported to: D:\\cdu\\data\\zonal_stats\\output\\20230201\\ml_rf_reg_dir\\ml_rf_reg_plots_dir\\all\\all_sites_target_b2_dp1_0112_mean.html\n",
      "Plot exported to: D:\\cdu\\data\\zonal_stats\\output\\20230201\\ml_rf_reg_dir\\ml_rf_reg_plots_dir\\all\\all_sites_target_b2_dp1_0112_std.html\n",
      "Plot exported to: D:\\cdu\\data\\zonal_stats\\output\\20230201\\ml_rf_reg_dir\\ml_rf_reg_plots_dir\\all\\all_sites_target_b2_dp1_0112_med.html\n",
      "Plot exported to: D:\\cdu\\data\\zonal_stats\\output\\20230201\\ml_rf_reg_dir\\ml_rf_reg_plots_dir\\all\\all_sites_target_b3_dp1_0112_min.html\n",
      "Plot exported to: D:\\cdu\\data\\zonal_stats\\output\\20230201\\ml_rf_reg_dir\\ml_rf_reg_plots_dir\\all\\all_sites_target_b3_dp1_0112_max.html\n",
      "Plot exported to: D:\\cdu\\data\\zonal_stats\\output\\20230201\\ml_rf_reg_dir\\ml_rf_reg_plots_dir\\all\\all_sites_target_b3_dp1_0112_mean.html\n",
      "Plot exported to: D:\\cdu\\data\\zonal_stats\\output\\20230201\\ml_rf_reg_dir\\ml_rf_reg_plots_dir\\all\\all_sites_target_b3_dp1_0112_med.html\n",
      "Plot exported to: D:\\cdu\\data\\zonal_stats\\output\\20230201\\ml_rf_reg_dir\\ml_rf_reg_plots_dir\\all\\all_sites_target_b3_dp1_0112_std.html\n",
      "Plot exported to: D:\\cdu\\data\\zonal_stats\\output\\20230201\\ml_rf_reg_dir\\ml_rf_reg_plots_dir\\all\\all_sites_target_b1_dp1_0509_min.html\n",
      "Plot exported to: D:\\cdu\\data\\zonal_stats\\output\\20230201\\ml_rf_reg_dir\\ml_rf_reg_plots_dir\\all\\all_sites_target_b1_dp1_0509_max.html\n"
     ]
    },
    {
     "name": "stdout",
     "output_type": "stream",
     "text": [
      "Plot exported to: D:\\cdu\\data\\zonal_stats\\output\\20230201\\ml_rf_reg_dir\\ml_rf_reg_plots_dir\\all\\all_sites_target_b1_dp1_0509_mean.html\n",
      "Plot exported to: D:\\cdu\\data\\zonal_stats\\output\\20230201\\ml_rf_reg_dir\\ml_rf_reg_plots_dir\\all\\all_sites_target_b1_dp1_0509_std.html\n",
      "Plot exported to: D:\\cdu\\data\\zonal_stats\\output\\20230201\\ml_rf_reg_dir\\ml_rf_reg_plots_dir\\all\\all_sites_target_b1_dp1_0509_med.html\n",
      "Plot exported to: D:\\cdu\\data\\zonal_stats\\output\\20230201\\ml_rf_reg_dir\\ml_rf_reg_plots_dir\\all\\all_sites_target_b2_dp1_0509_min.html\n",
      "Plot exported to: D:\\cdu\\data\\zonal_stats\\output\\20230201\\ml_rf_reg_dir\\ml_rf_reg_plots_dir\\all\\all_sites_target_b2_dp1_0509_max.html\n",
      "Plot exported to: D:\\cdu\\data\\zonal_stats\\output\\20230201\\ml_rf_reg_dir\\ml_rf_reg_plots_dir\\all\\all_sites_target_b2_dp1_0509_mean.html\n",
      "Plot exported to: D:\\cdu\\data\\zonal_stats\\output\\20230201\\ml_rf_reg_dir\\ml_rf_reg_plots_dir\\all\\all_sites_target_b2_dp1_0509_std.html\n",
      "Plot exported to: D:\\cdu\\data\\zonal_stats\\output\\20230201\\ml_rf_reg_dir\\ml_rf_reg_plots_dir\\all\\all_sites_target_b2_dp1_0509_med.html\n",
      "Plot exported to: D:\\cdu\\data\\zonal_stats\\output\\20230201\\ml_rf_reg_dir\\ml_rf_reg_plots_dir\\all\\all_sites_target_b3_dp1_0509_min.html\n",
      "Plot exported to: D:\\cdu\\data\\zonal_stats\\output\\20230201\\ml_rf_reg_dir\\ml_rf_reg_plots_dir\\all\\all_sites_target_b3_dp1_0509_max.html\n",
      "Plot exported to: D:\\cdu\\data\\zonal_stats\\output\\20230201\\ml_rf_reg_dir\\ml_rf_reg_plots_dir\\all\\all_sites_target_b3_dp1_0509_mean.html\n",
      "Plot exported to: D:\\cdu\\data\\zonal_stats\\output\\20230201\\ml_rf_reg_dir\\ml_rf_reg_plots_dir\\all\\all_sites_target_b3_dp1_0509_med.html\n",
      "Plot exported to: D:\\cdu\\data\\zonal_stats\\output\\20230201\\ml_rf_reg_dir\\ml_rf_reg_plots_dir\\all\\all_sites_target_b3_dp1_0509_std.html\n",
      "Plot exported to: D:\\cdu\\data\\zonal_stats\\output\\20230201\\ml_rf_reg_dir\\ml_rf_reg_plots_dir\\all\\all_sites_target_b1_dim_0305_min.html\n",
      "Plot exported to: D:\\cdu\\data\\zonal_stats\\output\\20230201\\ml_rf_reg_dir\\ml_rf_reg_plots_dir\\all\\all_sites_target_b1_dim_0305_max.html\n",
      "Plot exported to: D:\\cdu\\data\\zonal_stats\\output\\20230201\\ml_rf_reg_dir\\ml_rf_reg_plots_dir\\all\\all_sites_target_b1_dim_0305_mean.html\n",
      "Plot exported to: D:\\cdu\\data\\zonal_stats\\output\\20230201\\ml_rf_reg_dir\\ml_rf_reg_plots_dir\\all\\all_sites_target_b1_dim_0305_med.html\n",
      "Plot exported to: D:\\cdu\\data\\zonal_stats\\output\\20230201\\ml_rf_reg_dir\\ml_rf_reg_plots_dir\\all\\all_sites_target_b1_dim_0305_std.html\n",
      "Plot exported to: D:\\cdu\\data\\zonal_stats\\output\\20230201\\ml_rf_reg_dir\\ml_rf_reg_plots_dir\\all\\all_sites_target_b2_dim_0305_min.html\n",
      "Plot exported to: D:\\cdu\\data\\zonal_stats\\output\\20230201\\ml_rf_reg_dir\\ml_rf_reg_plots_dir\\all\\all_sites_target_b2_dim_0305_max.html\n",
      "Plot exported to: D:\\cdu\\data\\zonal_stats\\output\\20230201\\ml_rf_reg_dir\\ml_rf_reg_plots_dir\\all\\all_sites_target_b2_dim_0305_mean.html\n",
      "Plot exported to: D:\\cdu\\data\\zonal_stats\\output\\20230201\\ml_rf_reg_dir\\ml_rf_reg_plots_dir\\all\\all_sites_target_b2_dim_0305_med.html\n",
      "Plot exported to: D:\\cdu\\data\\zonal_stats\\output\\20230201\\ml_rf_reg_dir\\ml_rf_reg_plots_dir\\all\\all_sites_target_b2_dim_0305_std.html\n",
      "Plot exported to: D:\\cdu\\data\\zonal_stats\\output\\20230201\\ml_rf_reg_dir\\ml_rf_reg_plots_dir\\all\\all_sites_target_b3_dim_0305_min.html\n",
      "Plot exported to: D:\\cdu\\data\\zonal_stats\\output\\20230201\\ml_rf_reg_dir\\ml_rf_reg_plots_dir\\all\\all_sites_target_b3_dim_0305_max.html\n",
      "Plot exported to: D:\\cdu\\data\\zonal_stats\\output\\20230201\\ml_rf_reg_dir\\ml_rf_reg_plots_dir\\all\\all_sites_target_b3_dim_0305_mean.html\n",
      "Plot exported to: D:\\cdu\\data\\zonal_stats\\output\\20230201\\ml_rf_reg_dir\\ml_rf_reg_plots_dir\\all\\all_sites_target_b3_dim_0305_med.html\n",
      "Plot exported to: D:\\cdu\\data\\zonal_stats\\output\\20230201\\ml_rf_reg_dir\\ml_rf_reg_plots_dir\\all\\all_sites_target_b3_dim_0305_std.html\n",
      "Plot exported to: D:\\cdu\\data\\zonal_stats\\output\\20230201\\ml_rf_reg_dir\\ml_rf_reg_plots_dir\\all\\all_sites_target_b1_dim_0608_min.html\n",
      "Plot exported to: D:\\cdu\\data\\zonal_stats\\output\\20230201\\ml_rf_reg_dir\\ml_rf_reg_plots_dir\\all\\all_sites_target_b1_dim_0608_max.html\n",
      "Plot exported to: D:\\cdu\\data\\zonal_stats\\output\\20230201\\ml_rf_reg_dir\\ml_rf_reg_plots_dir\\all\\all_sites_target_b1_dim_0608_mean.html\n",
      "Plot exported to: D:\\cdu\\data\\zonal_stats\\output\\20230201\\ml_rf_reg_dir\\ml_rf_reg_plots_dir\\all\\all_sites_target_b1_dim_0608_med.html\n",
      "Plot exported to: D:\\cdu\\data\\zonal_stats\\output\\20230201\\ml_rf_reg_dir\\ml_rf_reg_plots_dir\\all\\all_sites_target_b1_dim_0608_std.html\n",
      "Plot exported to: D:\\cdu\\data\\zonal_stats\\output\\20230201\\ml_rf_reg_dir\\ml_rf_reg_plots_dir\\all\\all_sites_target_b2_dim_0608_min.html\n",
      "Plot exported to: D:\\cdu\\data\\zonal_stats\\output\\20230201\\ml_rf_reg_dir\\ml_rf_reg_plots_dir\\all\\all_sites_target_b2_dim_0608_max.html\n",
      "Plot exported to: D:\\cdu\\data\\zonal_stats\\output\\20230201\\ml_rf_reg_dir\\ml_rf_reg_plots_dir\\all\\all_sites_target_b2_dim_0608_mean.html\n",
      "Plot exported to: D:\\cdu\\data\\zonal_stats\\output\\20230201\\ml_rf_reg_dir\\ml_rf_reg_plots_dir\\all\\all_sites_target_b2_dim_0608_med.html\n",
      "Plot exported to: D:\\cdu\\data\\zonal_stats\\output\\20230201\\ml_rf_reg_dir\\ml_rf_reg_plots_dir\\all\\all_sites_target_b2_dim_0608_std.html\n",
      "Plot exported to: D:\\cdu\\data\\zonal_stats\\output\\20230201\\ml_rf_reg_dir\\ml_rf_reg_plots_dir\\all\\all_sites_target_b3_dim_0608_min.html\n",
      "Plot exported to: D:\\cdu\\data\\zonal_stats\\output\\20230201\\ml_rf_reg_dir\\ml_rf_reg_plots_dir\\all\\all_sites_target_b3_dim_0608_max.html\n",
      "Plot exported to: D:\\cdu\\data\\zonal_stats\\output\\20230201\\ml_rf_reg_dir\\ml_rf_reg_plots_dir\\all\\all_sites_target_b3_dim_0608_mean.html\n",
      "Plot exported to: D:\\cdu\\data\\zonal_stats\\output\\20230201\\ml_rf_reg_dir\\ml_rf_reg_plots_dir\\all\\all_sites_target_b3_dim_0608_med.html\n",
      "Plot exported to: D:\\cdu\\data\\zonal_stats\\output\\20230201\\ml_rf_reg_dir\\ml_rf_reg_plots_dir\\all\\all_sites_target_b3_dim_0608_std.html\n",
      "Plot exported to: D:\\cdu\\data\\zonal_stats\\output\\20230201\\ml_rf_reg_dir\\ml_rf_reg_plots_dir\\all\\all_sites_target_b1_dim_0911_min.html\n",
      "Plot exported to: D:\\cdu\\data\\zonal_stats\\output\\20230201\\ml_rf_reg_dir\\ml_rf_reg_plots_dir\\all\\all_sites_target_b1_dim_0911_max.html\n",
      "Plot exported to: D:\\cdu\\data\\zonal_stats\\output\\20230201\\ml_rf_reg_dir\\ml_rf_reg_plots_dir\\all\\all_sites_target_b1_dim_0911_mean.html\n",
      "Plot exported to: D:\\cdu\\data\\zonal_stats\\output\\20230201\\ml_rf_reg_dir\\ml_rf_reg_plots_dir\\all\\all_sites_target_b1_dim_0911_med.html\n",
      "Plot exported to: D:\\cdu\\data\\zonal_stats\\output\\20230201\\ml_rf_reg_dir\\ml_rf_reg_plots_dir\\all\\all_sites_target_b1_dim_0911_std.html\n",
      "Plot exported to: D:\\cdu\\data\\zonal_stats\\output\\20230201\\ml_rf_reg_dir\\ml_rf_reg_plots_dir\\all\\all_sites_target_b2_dim_0911_min.html\n",
      "Plot exported to: D:\\cdu\\data\\zonal_stats\\output\\20230201\\ml_rf_reg_dir\\ml_rf_reg_plots_dir\\all\\all_sites_target_b2_dim_0911_max.html\n",
      "Plot exported to: D:\\cdu\\data\\zonal_stats\\output\\20230201\\ml_rf_reg_dir\\ml_rf_reg_plots_dir\\all\\all_sites_target_b2_dim_0911_mean.html\n",
      "Plot exported to: D:\\cdu\\data\\zonal_stats\\output\\20230201\\ml_rf_reg_dir\\ml_rf_reg_plots_dir\\all\\all_sites_target_b2_dim_0911_med.html\n",
      "Plot exported to: D:\\cdu\\data\\zonal_stats\\output\\20230201\\ml_rf_reg_dir\\ml_rf_reg_plots_dir\\all\\all_sites_target_b2_dim_0911_std.html\n",
      "Plot exported to: D:\\cdu\\data\\zonal_stats\\output\\20230201\\ml_rf_reg_dir\\ml_rf_reg_plots_dir\\all\\all_sites_target_b3_dim_0911_min.html\n",
      "Plot exported to: D:\\cdu\\data\\zonal_stats\\output\\20230201\\ml_rf_reg_dir\\ml_rf_reg_plots_dir\\all\\all_sites_target_b3_dim_0911_max.html\n",
      "Plot exported to: D:\\cdu\\data\\zonal_stats\\output\\20230201\\ml_rf_reg_dir\\ml_rf_reg_plots_dir\\all\\all_sites_target_b3_dim_0911_mean.html\n",
      "Plot exported to: D:\\cdu\\data\\zonal_stats\\output\\20230201\\ml_rf_reg_dir\\ml_rf_reg_plots_dir\\all\\all_sites_target_b3_dim_0911_med.html\n",
      "Plot exported to: D:\\cdu\\data\\zonal_stats\\output\\20230201\\ml_rf_reg_dir\\ml_rf_reg_plots_dir\\all\\all_sites_target_b3_dim_0911_std.html\n",
      "Plot exported to: D:\\cdu\\data\\zonal_stats\\output\\20230201\\ml_rf_reg_dir\\ml_rf_reg_plots_dir\\all\\all_sites_target_b1_dim_1202_min.html\n",
      "Plot exported to: D:\\cdu\\data\\zonal_stats\\output\\20230201\\ml_rf_reg_dir\\ml_rf_reg_plots_dir\\all\\all_sites_target_b1_dim_1202_max.html\n",
      "Plot exported to: D:\\cdu\\data\\zonal_stats\\output\\20230201\\ml_rf_reg_dir\\ml_rf_reg_plots_dir\\all\\all_sites_target_b1_dim_1202_mean.html\n",
      "Plot exported to: D:\\cdu\\data\\zonal_stats\\output\\20230201\\ml_rf_reg_dir\\ml_rf_reg_plots_dir\\all\\all_sites_target_b1_dim_1202_med.html\n",
      "Plot exported to: D:\\cdu\\data\\zonal_stats\\output\\20230201\\ml_rf_reg_dir\\ml_rf_reg_plots_dir\\all\\all_sites_target_b1_dim_1202_std.html\n",
      "Plot exported to: D:\\cdu\\data\\zonal_stats\\output\\20230201\\ml_rf_reg_dir\\ml_rf_reg_plots_dir\\all\\all_sites_target_b2_dim_1202_min.html\n"
     ]
    },
    {
     "name": "stdout",
     "output_type": "stream",
     "text": [
      "Plot exported to: D:\\cdu\\data\\zonal_stats\\output\\20230201\\ml_rf_reg_dir\\ml_rf_reg_plots_dir\\all\\all_sites_target_b2_dim_1202_max.html\n",
      "Plot exported to: D:\\cdu\\data\\zonal_stats\\output\\20230201\\ml_rf_reg_dir\\ml_rf_reg_plots_dir\\all\\all_sites_target_b2_dim_1202_mean.html\n",
      "Plot exported to: D:\\cdu\\data\\zonal_stats\\output\\20230201\\ml_rf_reg_dir\\ml_rf_reg_plots_dir\\all\\all_sites_target_b2_dim_1202_med.html\n",
      "Plot exported to: D:\\cdu\\data\\zonal_stats\\output\\20230201\\ml_rf_reg_dir\\ml_rf_reg_plots_dir\\all\\all_sites_target_b2_dim_1202_std.html\n",
      "Plot exported to: D:\\cdu\\data\\zonal_stats\\output\\20230201\\ml_rf_reg_dir\\ml_rf_reg_plots_dir\\all\\all_sites_target_b3_dim_1202_min.html\n",
      "Plot exported to: D:\\cdu\\data\\zonal_stats\\output\\20230201\\ml_rf_reg_dir\\ml_rf_reg_plots_dir\\all\\all_sites_target_b3_dim_1202_max.html\n",
      "Plot exported to: D:\\cdu\\data\\zonal_stats\\output\\20230201\\ml_rf_reg_dir\\ml_rf_reg_plots_dir\\all\\all_sites_target_b3_dim_1202_mean.html\n",
      "Plot exported to: D:\\cdu\\data\\zonal_stats\\output\\20230201\\ml_rf_reg_dir\\ml_rf_reg_plots_dir\\all\\all_sites_target_b3_dim_1202_med.html\n",
      "Plot exported to: D:\\cdu\\data\\zonal_stats\\output\\20230201\\ml_rf_reg_dir\\ml_rf_reg_plots_dir\\all\\all_sites_target_b3_dim_1202_std.html\n",
      "Plot exported to: D:\\cdu\\data\\zonal_stats\\output\\20230201\\ml_rf_reg_dir\\ml_rf_reg_plots_dir\\all\\all_sites_target_rain_d_mean.html\n",
      "Plot exported to: D:\\cdu\\data\\zonal_stats\\output\\20230201\\ml_rf_reg_dir\\ml_rf_reg_plots_dir\\all\\all_sites_target_et_ma_mean.html\n",
      "Plot exported to: D:\\cdu\\data\\zonal_stats\\output\\20230201\\ml_rf_reg_dir\\ml_rf_reg_plots_dir\\all\\all_sites_target_et_mp_mean.html\n",
      "Plot exported to: D:\\cdu\\data\\zonal_stats\\output\\20230201\\ml_rf_reg_dir\\ml_rf_reg_plots_dir\\all\\all_sites_target_et_mw_mean.html\n",
      "Plot exported to: D:\\cdu\\data\\zonal_stats\\output\\20230201\\ml_rf_reg_dir\\ml_rf_reg_plots_dir\\all\\all_sites_target_et_sc_mean.html\n",
      "Plot exported to: D:\\cdu\\data\\zonal_stats\\output\\20230201\\ml_rf_reg_dir\\ml_rf_reg_plots_dir\\all\\all_sites_target_et_tc_mean.html\n",
      "Plot exported to: D:\\cdu\\data\\zonal_stats\\output\\20230201\\ml_rf_reg_dir\\ml_rf_reg_plots_dir\\all\\all_sites_target_evp_ml_mean.html\n",
      "Plot exported to: D:\\cdu\\data\\zonal_stats\\output\\20230201\\ml_rf_reg_dir\\ml_rf_reg_plots_dir\\all\\all_sites_target_evp_s_mean.html\n",
      "Plot exported to: D:\\cdu\\data\\zonal_stats\\output\\20230201\\ml_rf_reg_dir\\ml_rf_reg_plots_dir\\all\\all_sites_target_tmax_mean.html\n",
      "Plot exported to: D:\\cdu\\data\\zonal_stats\\output\\20230201\\ml_rf_reg_dir\\ml_rf_reg_plots_dir\\all\\all_sites_target_tmin_mean.html\n",
      "Plot exported to: D:\\cdu\\data\\zonal_stats\\output\\20230201\\ml_rf_reg_dir\\ml_rf_reg_plots_dir\\all\\all_sites_target_rain_m_mean.html\n",
      "Plot exported to: D:\\cdu\\data\\zonal_stats\\output\\20230201\\ml_rf_reg_dir\\ml_rf_reg_plots_dir\\all\\all_sites_target_mslp_mean.html\n",
      "Plot exported to: D:\\cdu\\data\\zonal_stats\\output\\20230201\\ml_rf_reg_dir\\ml_rf_reg_plots_dir\\all\\all_sites_target_rad_mean.html\n",
      "Plot exported to: D:\\cdu\\data\\zonal_stats\\output\\20230201\\ml_rf_reg_dir\\ml_rf_reg_plots_dir\\all\\all_sites_target_rh_tmax_mean.html\n",
      "Plot exported to: D:\\cdu\\data\\zonal_stats\\output\\20230201\\ml_rf_reg_dir\\ml_rf_reg_plots_dir\\all\\all_sites_target_rh_tmin_mean.html\n",
      "Plot exported to: D:\\cdu\\data\\zonal_stats\\output\\20230201\\ml_rf_reg_dir\\ml_rf_reg_plots_dir\\all\\all_sites_target_vp_mean.html\n",
      "Plot exported to: D:\\cdu\\data\\zonal_stats\\output\\20230201\\ml_rf_reg_dir\\ml_rf_reg_plots_dir\\all\\all_sites_target_vp_d_mean.html\n",
      "Plot exported to: D:\\cdu\\data\\zonal_stats\\output\\20230201\\ml_rf_reg_dir\\ml_rf_reg_plots_dir\\all\\all_sites_target_ratio32m.html\n",
      "Plot exported to: D:\\cdu\\data\\zonal_stats\\output\\20230201\\ml_rf_reg_dir\\ml_rf_reg_plots_dir\\all\\all_sites_target_ratio42m.html\n",
      "Plot exported to: D:\\cdu\\data\\zonal_stats\\output\\20230201\\ml_rf_reg_dir\\ml_rf_reg_plots_dir\\all\\all_sites_target_ratio43m.html\n",
      "Plot exported to: D:\\cdu\\data\\zonal_stats\\output\\20230201\\ml_rf_reg_dir\\ml_rf_reg_plots_dir\\all\\all_sites_target_ratio52m.html\n",
      "Plot exported to: D:\\cdu\\data\\zonal_stats\\output\\20230201\\ml_rf_reg_dir\\ml_rf_reg_plots_dir\\all\\all_sites_target_ratio53m.html\n",
      "Plot exported to: D:\\cdu\\data\\zonal_stats\\output\\20230201\\ml_rf_reg_dir\\ml_rf_reg_plots_dir\\all\\all_sites_target_ratio54m.html\n",
      "Plot exported to: D:\\cdu\\data\\zonal_stats\\output\\20230201\\ml_rf_reg_dir\\ml_rf_reg_plots_dir\\all\\all_sites_target_ratio62m.html\n",
      "Plot exported to: D:\\cdu\\data\\zonal_stats\\output\\20230201\\ml_rf_reg_dir\\ml_rf_reg_plots_dir\\all\\all_sites_target_ratio63m.html\n",
      "Plot exported to: D:\\cdu\\data\\zonal_stats\\output\\20230201\\ml_rf_reg_dir\\ml_rf_reg_plots_dir\\all\\all_sites_target_ratio64m.html\n",
      "Plot exported to: D:\\cdu\\data\\zonal_stats\\output\\20230201\\ml_rf_reg_dir\\ml_rf_reg_plots_dir\\all\\all_sites_target_ratio65m.html\n",
      "Plot exported to: D:\\cdu\\data\\zonal_stats\\output\\20230201\\ml_rf_reg_dir\\ml_rf_reg_plots_dir\\all\\all_sites_target_GSAVIm.html\n",
      "Plot exported to: D:\\cdu\\data\\zonal_stats\\output\\20230201\\ml_rf_reg_dir\\ml_rf_reg_plots_dir\\all\\all_sites_target_GNDVIm.html\n",
      "Plot exported to: D:\\cdu\\data\\zonal_stats\\output\\20230201\\ml_rf_reg_dir\\ml_rf_reg_plots_dir\\all\\all_sites_target_CVIm.html\n",
      "Plot exported to: D:\\cdu\\data\\zonal_stats\\output\\20230201\\ml_rf_reg_dir\\ml_rf_reg_plots_dir\\all\\all_sites_target_NDGIm.html\n",
      "Plot exported to: D:\\cdu\\data\\zonal_stats\\output\\20230201\\ml_rf_reg_dir\\ml_rf_reg_plots_dir\\all\\all_sites_target_RIm.html\n",
      "Plot exported to: D:\\cdu\\data\\zonal_stats\\output\\20230201\\ml_rf_reg_dir\\ml_rf_reg_plots_dir\\all\\all_sites_target_NBRm.html\n",
      "Plot exported to: D:\\cdu\\data\\zonal_stats\\output\\20230201\\ml_rf_reg_dir\\ml_rf_reg_plots_dir\\all\\all_sites_target_NDIIm.html\n",
      "Plot exported to: D:\\cdu\\data\\zonal_stats\\output\\20230201\\ml_rf_reg_dir\\ml_rf_reg_plots_dir\\all\\all_sites_target_GDVIm.html\n",
      "Plot exported to: D:\\cdu\\data\\zonal_stats\\output\\20230201\\ml_rf_reg_dir\\ml_rf_reg_plots_dir\\all\\all_sites_target_MSAVIm.html\n",
      "Plot exported to: D:\\cdu\\data\\zonal_stats\\output\\20230201\\ml_rf_reg_dir\\ml_rf_reg_plots_dir\\all\\all_sites_target_DVIm.html\n",
      "Plot exported to: D:\\cdu\\data\\zonal_stats\\output\\20230201\\ml_rf_reg_dir\\ml_rf_reg_plots_dir\\all\\all_sites_target_SAVIm.html\n",
      "Plot exported to: D:\\cdu\\data\\zonal_stats\\output\\20230201\\ml_rf_reg_dir\\ml_rf_reg_plots_dir\\all\\all_sites_target_NDVIm.html\n",
      "Plot exported to: D:\\cdu\\data\\zonal_stats\\output\\20230201\\ml_rf_reg_dir\\ml_rf_reg_plots_dir\\all\\all_sites_target_MSRm.html\n"
     ]
    }
   ],
   "source": [
    "column_list = df2.columns.to_list()\n",
    "y_list = column_list[5:]\n",
    "value_x = column_list[:1][0]\n",
    "\n",
    "value_a = 'date'\n",
    "value_b = 'b1_fpca2_0509_mean'\n",
    "\n",
    "\n",
    "for i in y_list:\n",
    "    value_y = i\n",
    "    \n",
    "    out_file = os.path.join(all_plots_dir,'all_sites_{0}_{1}.html'.format(value_x, value_y))\n",
    "    print(f\"Plot exported to: {out_file}\")\n",
    "    save_fig(value_x, value_y, value_a, value_b, out_file)\n",
    "    "
   ]
  },
  {
   "cell_type": "markdown",
   "metadata": {},
   "source": [
    "### Drop AGB numbers which are high"
   ]
  },
  {
   "cell_type": "code",
   "execution_count": null,
   "metadata": {},
   "outputs": [],
   "source": [
    "# # drop the 7 tern sites that apear to be outliers\n",
    "# df3 =df2[df2[value_x] <= 100000]\n",
    "# df3.to_csv(os.path.join(output_dir, \"{0}_lt_100000.csv\".format(value_x)))\n",
    "# drop_sites =df2[df2[value_x] > 100000]\n",
    "# drop_sites.value_counts(['site', value_x, value_y])\n"
   ]
  },
  {
   "cell_type": "code",
   "execution_count": null,
   "metadata": {},
   "outputs": [],
   "source": []
  },
  {
   "cell_type": "code",
   "execution_count": null,
   "metadata": {},
   "outputs": [],
   "source": [
    "# df3.shape"
   ]
  },
  {
   "cell_type": "code",
   "execution_count": null,
   "metadata": {},
   "outputs": [],
   "source": [
    "\n",
    "# # Output to file\n",
    "# output_file(os.path.join(output_, 'TERN7_removed_sites_{0}_{1}.html'.format(value_x, value_y)),\n",
    "#             title='Seven TERN sites removed - relationship between {0} and {1}'.format(value_x.replace(\"_\", \" \"), value_y.replace(\"_\", \" \")))\n",
    "\n",
    "\n",
    "# #Specify the selection tools to be made available\n",
    "# select_tools = ['box_select', 'lasso_select', 'poly_select', 'tap', 'zoom_in', 'zoom_out', 'wheel_zoom', 'reset']\n",
    "\n",
    "# # Format the tooltip\n",
    "# tooltips = [\n",
    "#             ('Site', '@site'),\n",
    "#             ('Date', '@date'),\n",
    "#             (value_x, '@{0}'.format(value_x)),\n",
    "#             (value_y, '@{0}'.format(value_y)),\n",
    "#             (value_a, '@{0}'.format(value_a)),\n",
    "#             (value_b, '@{0}'.format(value_b)) \n",
    "#            ]\n",
    "\n",
    "# # Create the figure\n",
    "# fig = figure(plot_height=400,\n",
    "#              plot_width=1500,\n",
    "#              y_axis_label= value_y.replace(\"_\", \" \"), \n",
    "#              x_axis_label= value_x.replace(\"_\", \" \"),\n",
    "#              title='Seven TERN sites removed - relationship between {0} and {1}'.format(value_x.replace(\"_\", \" \"), value_y.replace(\"_\", \" \")),\n",
    "#              toolbar_location='below',\n",
    "#              tools=select_tools)\n",
    "\n",
    "# # # Format the y-axis tick label\n",
    "# fig.yaxis[0].formatter = NumeralTickFormatter(format='0')\n",
    "\n",
    "# # Add square representing each site\n",
    "# fig.square(x= value_x,\n",
    "#            y= value_y,\n",
    "#            source=df3,\n",
    "#            size=5,\n",
    "#            color='royalblue',\n",
    "#            selection_color='deepskyblue',\n",
    "#            nonselection_color='lightgray',\n",
    "#            nonselection_alpha=0.3)\n",
    "\n",
    "# # Add the HoverTool to the figure\n",
    "# fig.add_tools(HoverTool(tooltips=tooltips))\n",
    "\n",
    "# # Visualize\n",
    "# show(fig)"
   ]
  },
  {
   "cell_type": "markdown",
   "metadata": {},
   "source": [
    "### Drop the TERN sites for review"
   ]
  },
  {
   "cell_type": "code",
   "execution_count": null,
   "metadata": {},
   "outputs": [],
   "source": []
  },
  {
   "cell_type": "code",
   "execution_count": null,
   "metadata": {},
   "outputs": [],
   "source": [
    "# # drop the TERN sites due to \n",
    "# df4=df3[df3.site.apply(lambda x: len(str(x))<=9)]\n",
    "# df4.to_csv(os.path.join(output_dir, \"{0}_NTG_only.csv\".format(value_x)))"
   ]
  },
  {
   "cell_type": "code",
   "execution_count": null,
   "metadata": {},
   "outputs": [],
   "source": [
    "column_list = df4.columns.to_list()\n",
    "y_list = column_list[5:]\n",
    "value_x = column_list[:1][0]\n",
    "\n",
    "value_a = 'date'\n",
    "value_b = 'b1_fpca2_0509_mean'\n",
    "\n",
    "\n",
    "for i in y_list:\n",
    "    value_y = i\n",
    "    \n",
    "    out_file = os.path.join(no_tern_plots_dir,'no_tern_sites_{0}_{1}.html'.format(value_x, value_y))\n",
    "    save_fig(value_x, value_y, value_a, value_b, out_file)"
   ]
  },
  {
   "cell_type": "markdown",
   "metadata": {},
   "source": [
    "## Choose which data set to run the models from"
   ]
  },
  {
   "cell_type": "code",
   "execution_count": null,
   "metadata": {},
   "outputs": [],
   "source": [
    "df_ml = df2\n",
    "df_ml = df"
   ]
  },
  {
   "cell_type": "code",
   "execution_count": null,
   "metadata": {},
   "outputs": [],
   "source": [
    "print(list(df_ml.columns))"
   ]
  },
  {
   "cell_type": "code",
   "execution_count": null,
   "metadata": {},
   "outputs": [],
   "source": [
    "# drop some of the unwanted values\n",
    "df_ml.drop(['site', 'uid', 'date', 'bio_agb_kg1ha'], axis=1, inplace=True) # 'date',\n",
    "#df_ml.drop(['fpca2_imdate'], axis=1, inplace=True)"
   ]
  },
  {
   "cell_type": "code",
   "execution_count": null,
   "metadata": {},
   "outputs": [],
   "source": [
    "print(list(df_ml))"
   ]
  },
  {
   "cell_type": "code",
   "execution_count": null,
   "metadata": {},
   "outputs": [],
   "source": [
    "df_ml.shape"
   ]
  },
  {
   "cell_type": "code",
   "execution_count": null,
   "metadata": {},
   "outputs": [],
   "source": [
    "df_ml.head(5)"
   ]
  },
  {
   "cell_type": "markdown",
   "metadata": {},
   "source": [
    "## Reduce level of 0 values"
   ]
  },
  {
   "cell_type": "code",
   "execution_count": null,
   "metadata": {},
   "outputs": [],
   "source": [
    "# # due to the number of field sites with no basal collected data is stratified\n",
    "model_data = df_ml[df_ml['target']>0.0]\n",
    "model_data_name = \"no0_values\"\n",
    "\n",
    "model_outputs = os.path.join(output_dir, f\"{model_data_name}_{runs}\")\n",
    "mk_dir_fn(model_outputs)\n",
    "\n",
    "\n",
    "# agb_0 = df_ml[df_ml['bio_agb_kg1ha']==0.0].sample(3)\n",
    "# some0_df = pd.concat([no0_df, agb_0])\n",
    "\n",
    "## use this for reduced variables\n",
    "#no0_df = df[df['bio_agb_kg1ha']>0.0]"
   ]
  },
  {
   "cell_type": "markdown",
   "metadata": {},
   "source": [
    "## Select the dataset to run the models from"
   ]
  },
  {
   "cell_type": "markdown",
   "metadata": {},
   "source": [
    " Define if you are using all variabes or selected variables"
   ]
  },
  {
   "cell_type": "code",
   "execution_count": null,
   "metadata": {},
   "outputs": [],
   "source": [
    "# All variables\n",
    "df = no0_df\n",
    "\n",
    "# select variables\n",
    "#df = select_df\n",
    "df.shape"
   ]
  },
  {
   "cell_type": "code",
   "execution_count": null,
   "metadata": {},
   "outputs": [],
   "source": [
    "df.info()"
   ]
  },
  {
   "cell_type": "code",
   "execution_count": null,
   "metadata": {},
   "outputs": [],
   "source": [
    "test = df[df[value_x]==0.0]"
   ]
  },
  {
   "cell_type": "code",
   "execution_count": null,
   "metadata": {},
   "outputs": [],
   "source": [
    "test.shape"
   ]
  },
  {
   "cell_type": "code",
   "execution_count": null,
   "metadata": {},
   "outputs": [],
   "source": [
    "df.dropna(inplace=True)"
   ]
  },
  {
   "cell_type": "code",
   "execution_count": null,
   "metadata": {},
   "outputs": [],
   "source": [
    "df.info()"
   ]
  },
  {
   "cell_type": "code",
   "execution_count": null,
   "metadata": {},
   "outputs": [],
   "source": [
    "# col_list = df.columns.to_list()"
   ]
  },
  {
   "cell_type": "code",
   "execution_count": null,
   "metadata": {},
   "outputs": [],
   "source": [
    "# variable = col_list[4]\n",
    "# print(variable)"
   ]
  },
  {
   "cell_type": "code",
   "execution_count": null,
   "metadata": {},
   "outputs": [],
   "source": []
  },
  {
   "cell_type": "code",
   "execution_count": null,
   "metadata": {},
   "outputs": [],
   "source": []
  },
  {
   "cell_type": "markdown",
   "metadata": {},
   "source": [
    "# Scatter plots with error"
   ]
  },
  {
   "cell_type": "code",
   "execution_count": null,
   "metadata": {
    "scrolled": true
   },
   "outputs": [],
   "source": [
    "for i in df.columns[1:]:\n",
    "    print(i)\n",
    "    value_x = 'target'\n",
    "    value_y_loop = str(i)\n",
    "    plt.figure(figsize=(10,4))\n",
    "    # left plot\n",
    "    plt.subplot(1,2,1)\n",
    "    sns.regplot(df[value_x], df[value_y_loop], line_kws={\"color\":\"red\"})\n",
    "    plt.xlabel(value_x)\n",
    "    plt.ylabel(value_y_loop)\n",
    "    plt.title(\"Regression {0} and {1}\".format(value_x, value_y_loop))\n",
    "    \n",
    "    slope, intercept, r_value, p_value, std_err = scipy.stats.linregress(df[value_x], df[value_y_loop])\n",
    "\n",
    "    print(\"slope: \", slope)\n",
    "    print(\"intersept: \", intercept)\n",
    "    print(\"r2: \", r_value)\n",
    "    print(\"P_value: \", p_value)\n",
    "    print(\"std error: \", std_err)\n",
    "\n",
    "    # right plot\n",
    "    plt.subplot(1,2,2)\n",
    "    sns.regplot(df[value_x], df[value_y_loop], lowess=True, line_kws={\"color\":\"green\"})\n",
    "    plt.xlabel(value_x)\n",
    "    plt.ylabel(\"Error\")\n",
    "    plt.title(\"Residual Error {0} and {1}\".format(value_x, value_y_loop))\n",
    "    plt.tight_layout()\n",
    "    plt.show()\n",
    "    \n",
    "#     slope, intercept, r_value, p_value, std_err = scipy.stats.linregress(df[value_x], df[value_y])\n",
    "\n",
    "#     print(\"slope: \", slope)\n",
    "#     print(\"intersept: \", intercept)\n",
    "#     print(\"r2: \", r_value)\n",
    "#     print(\"P_value: \", p_value)\n",
    "#     print(\"std error: \", std_err)"
   ]
  },
  {
   "cell_type": "code",
   "execution_count": null,
   "metadata": {},
   "outputs": [],
   "source": [
    "# value_x = 'bio_agb_kg1ha'\n",
    "# value_y = 'b2_dbi_mean'\n",
    "sns.regplot(x= value_x, y=value_y, data=df)\n",
    "slope, intercept, r_value, p_value, std_err = scipy.stats.linregress(df[value_x], df[value_y])\n",
    "\n",
    "print(\"slope: \", slope)\n",
    "print(\"intersept: \", intercept)\n",
    "print(\"r2: \", r_value)\n",
    "print(\"P_value: \", p_value)\n",
    "print(\"std error: \", std_err)"
   ]
  },
  {
   "cell_type": "code",
   "execution_count": null,
   "metadata": {},
   "outputs": [],
   "source": [
    "# value_x = 'bio_agb_kg1ha'\n",
    "# value_y = 'b3_dbi_mean'\n",
    "sns.scatterplot(x= value_x, y=value_y, data=df)\n",
    "slope, intercept, r_value, p_value, std_err = scipy.stats.linregress(df[value_x], df[value_y])\n",
    "\n",
    "print(\"slope: \", slope)\n",
    "print(\"intersept: \", intercept)\n",
    "print(\"r2: \", r_value)\n",
    "print(\"P_value: \", p_value)\n",
    "print(\"std error: \", std_err)"
   ]
  },
  {
   "cell_type": "code",
   "execution_count": null,
   "metadata": {},
   "outputs": [],
   "source": [
    "# randomly split data into train and test datasets, the user needs to define the variables \n",
    "\n",
    "# Two example of how you can call the predictor variables \n",
    "\n",
    "#xdata1 = df4[df4.columns[12:]].astype('float32')\n",
    "\n",
    "#xdata1 = df[['psB2a', 'psB3a', 'psB4a', 'psB5a', 'psB6a', 'ratio32a', 'ratio42a', 'ratio43a', 'ratio52a', 'ratio53a', 'ratio54a', 'ratio62a', 'ratio63a', 'ratio64a', 'ratio65a', 'GSAVIa', 'GNDVIa', 'CVIa', 'NDGIa', 'RIa', 'NBRa', 'NDIIa', 'GDVIa', 'MSAVIa', 'DVIa', 'SAVIa', 'NDVIa', 'MSRa', 'psB2d', 'psB3d', 'psB4d', 'psB5d', 'psB6d', 'ratio32d', 'ratio42d', 'ratio43d', 'ratio52d', 'ratio53d', 'ratio54d', 'ratio62d', 'ratio63d', 'ratio64d', 'ratio65d', 'GSAVId', 'GNDVId', 'CVId', 'NDGId', 'RId', 'NBRd', 'NDIId', 'GDVId', 'MSAVId', 'DVId', 'SAVId', 'NDVId', 'MSRd']].astype('float32')\n",
    "#xdata1 = df[['psB1a', 'psB2a', 'psB3a', 'psB4a', 'psB5a', 'psB6a', 'ratio32fa', 'ratio42fa', 'ratio43fa', 'ratio52fa', 'ratio53fa', 'ratio54fa', 'ratio62fa', 'ratio63fa', 'ratio64fa', 'ratio65fa', 'ratio32a', 'ratio42a', 'ratio43a', 'ratio52a', 'ratio53a', 'ratio54a', 'ratio62a', 'ratio63a', 'ratio64a', 'ratio65a', 'GSAVIfa', 'GSAVIa', 'GNDVIfa', 'GNDVIa', 'CVIfa', 'CVIa', 'NDGIfa', 'NDGIa', 'RIfa', 'RIa', 'NBRfa', 'NBRa', 'NDIIfa', 'NDIIa', 'GDVIfa', 'GDVIa', 'MSAVIfa', 'MSAVIa', 'DVIfa', 'DVIa', 'SAVIfa', 'SAVIa', 'NDVIfa', 'NDVIa', 'MSRfa', 'MSRa']]\n",
    "xdata1 = df.iloc[:, 1:].astype('float32')\n",
    "ydata1 = df[[value_x]].astype('float32')\n",
    "ydata2 = ydata1.values\n",
    "ydata = ydata2.ravel()\n",
    "\n",
    "X_1, X_2, y_1, y_2 = train_test_split(xdata1, ydata, train_size=0.70)  \n",
    "         \n",
    "print(X_1.shape, y_1.shape)\n",
    "print(X_2.shape, y_2.shape)"
   ]
  },
  {
   "cell_type": "markdown",
   "metadata": {},
   "source": [
    "### Plot up Histograms of Lidar meanCHM for train and test datasets"
   ]
  },
  {
   "cell_type": "code",
   "execution_count": null,
   "metadata": {},
   "outputs": [],
   "source": [
    "plt.subplot(2, 2, 1)\n",
    "plt.hist(y_1)\n",
    "plt.subplot(2, 2, 2)\n",
    "plt.hist(y_2)\n",
    "plt.tight_layout()"
   ]
  },
  {
   "cell_type": "markdown",
   "metadata": {},
   "source": [
    "### Parameterise the Random Forest Regressor alogorthim\n",
    "\n",
    "for details see: http://scikit-learn.org/stable/modules/generated/sklearn.ensemble.RandomForestRegressor.html"
   ]
  },
  {
   "cell_type": "code",
   "execution_count": null,
   "metadata": {},
   "outputs": [],
   "source": [
    "rng = np.random.RandomState(1)\n",
    "rfrModel_1 = abr(dtr(max_depth=4), n_estimators=300, random_state=rng)\n",
    "rfrModel_1"
   ]
  },
  {
   "cell_type": "code",
   "execution_count": null,
   "metadata": {},
   "outputs": [],
   "source": []
  },
  {
   "cell_type": "code",
   "execution_count": null,
   "metadata": {},
   "outputs": [],
   "source": [
    "rfrModel_1 = gbr(n_estimators=100, learning_rate=0.1, max_depth=4, random_state=0, loss='ls')\n",
    "rfrModel_1"
   ]
  },
  {
   "cell_type": "code",
   "execution_count": null,
   "metadata": {},
   "outputs": [],
   "source": [
    "# rfrModel_1 = etr(n_estimators=100, bootstrap=True, oob_score=True,  max_features='log2', min_samples_split=1,n_jobs=-1) \n",
    "# rfrModel_1"
   ]
  },
  {
   "cell_type": "code",
   "execution_count": null,
   "metadata": {
    "scrolled": true
   },
   "outputs": [],
   "source": [
    "# rfrModel_1 = rfr(n_estimators=100, oob_score=True,  max_depth=None, max_features='log2', min_samples_split=1.0,n_jobs=-1) \n",
    "# rfrModel_1,"
   ]
  },
  {
   "cell_type": "code",
   "execution_count": null,
   "metadata": {},
   "outputs": [],
   "source": [
    "# rfrModel_1 = rfr(n_estimators=100, oob_score=True) #,  max_depth=None, max_features='log2', min_samples_split=1.0,n_jobs=-1) \n",
    "# rfrModel_1,"
   ]
  },
  {
   "cell_type": "code",
   "execution_count": null,
   "metadata": {},
   "outputs": [],
   "source": [
    "np.nan_to_num(X_1)"
   ]
  },
  {
   "cell_type": "markdown",
   "metadata": {},
   "source": [
    "### Fit random forest regressor model and compute variable importance score \n",
    "\n",
    "may need to restrict the number of variables for the bar graph to be legible\n",
    "\n"
   ]
  },
  {
   "cell_type": "code",
   "execution_count": null,
   "metadata": {},
   "outputs": [],
   "source": [
    "rfrLCHM = rfrModel_1.fit(X_1, y_1)"
   ]
  },
  {
   "cell_type": "markdown",
   "metadata": {},
   "source": [
    "##### good info on the feature importance score - http://stackoverflow.com/questions/15810339/how-are-feature-importances-in-randomforestclassifier-determined"
   ]
  },
  {
   "cell_type": "code",
   "execution_count": null,
   "metadata": {},
   "outputs": [],
   "source": [
    "feature_importance = rfrModel_1.feature_importances_\n",
    "\n",
    "### TRY THIS\n",
    "# use \"feature importance\" scores to see what the top 10 important features are\n",
    "fi = enumerate(rfrModel_1.feature_importances_)\n",
    "cols = xdata1.columns\n",
    "fiResult = [(value,cols[i]) for (i,value) in fi]\n",
    "#fiResult = [(value,cols[i]) for (i,value) in fi if value > 0.001]\n",
    "## Change the value 0.04 which we picked empirically to give us 10 variables\n",
    "## try running this code after changing the value up and down so you get more or less variables\n",
    "## do you see how this might be useful in refining the model?\n",
    "## Here is the code in case you mess up the line above\n",
    "## [(value,cols[i]) for (i,value) in fi if value > 0.04]\n",
    "#print fiResult\n",
    "\n",
    "print('Fitted model r2 =' ,  format(rfrLCHM.score(X_1, y_1), '.2f'))\n",
    "print('Fitted model mse =', format(np.mean((y_1 - rfrLCHM.predict(X_1))**2), '.2f'))\n",
    "print('n =', len(y_1))\n",
    "plt.scatter(rfrLCHM.predict(X_1), y_1,)  \n",
    "# data for the 1 for 1 line\n",
    "x = [0,35000]\n",
    "y = [0,35000]\n",
    "\n",
    "#sets the limits of the axis\n",
    "#plt.xlim(-1,35)\n",
    "#plt.ylim(-1,35)\n",
    "\n",
    "plt.ylabel('Observed AGB')\n",
    "\n",
    "plt.xlabel('Predicted AGB')\n",
    "\n",
    "# 1 for 1 line\n",
    "\n",
    "plt.plot(x, y, color = 'r')\n",
    "plt.show()\n",
    "\n",
    "plot_out = os.path.join(model_outputs, f'rf_train_plot_{str(runs)}.pdf')\n",
    "fig.savefig(plot_out,dpi=600)# save out your figure to a pdf \n",
    "\n",
    "runs +=1"
   ]
  },
  {
   "cell_type": "code",
   "execution_count": null,
   "metadata": {},
   "outputs": [],
   "source": [
    "print(runs)"
   ]
  },
  {
   "cell_type": "code",
   "execution_count": null,
   "metadata": {},
   "outputs": [],
   "source": [
    "fiResult = np.array(fiResult)\n",
    "score = (fiResult[:,0])\n",
    "band = fiResult[:,1]\n",
    "a = fiResult[np.argsort(fiResult[:, 1])]\n",
    "\n",
    "df_band = pd.DataFrame(dict(band=band,n=score))\n",
    "df_band['n'].astype('float')\n",
    "dfsort = df_band.sort_values(['n'], ascending=[False])\n",
    "print(dfsort)\n",
    " \n",
    "## my complicated way to get the bar plot to sort in ascending order and display the assocated band names in the y axis\n",
    "dfsort2 = df_band.sort_values(['n'], ascending=[True])\n",
    "b = dfsort2[['band']]\n",
    "c = b.values.tolist()\n",
    "# convert the list of band names in the correct order to a string\n",
    "e = str(c)\n",
    "# strips all the rubbish from the string\n",
    "f = e.replace('[','').replace(']','').replace(\"'\",'').replace(\",\",' ')\n",
    "# convert the cleaned up string back into a list to plot the band names in the bar graph\n",
    "g = f.split()\n",
    " \n",
    "ind = np.arange(len(df_band))\n",
    "width = 0.4\n",
    " \n",
    "fig, ax = plt.subplots()\n",
    "ax.barh(ind, dfsort2.n, width, color='blue')\n",
    "ax.set(yticks=ind + width, yticklabels= g, ylim=[2*width - 1, len(df_band)])\n",
    "ax.set_xlabel('Performance')\n",
    "ax.set_ylabel('Ranked variables')\n",
    "plt.xticks(rotation='vertical')\n",
    "ax.set_title('Variable Importance Rank')\n",
    "\n",
    "plt.show()\n",
    "plot_out = os.path.join(model_outputs, f'Band_Importance_Score_{str(runs)}.pdf')\n",
    "fig.savefig(plot_out,dpi=600)# save out your figure to a pdf "
   ]
  },
  {
   "cell_type": "code",
   "execution_count": null,
   "metadata": {},
   "outputs": [],
   "source": [
    "df_band.info()"
   ]
  },
  {
   "cell_type": "code",
   "execution_count": null,
   "metadata": {},
   "outputs": [],
   "source": [
    "dfsort['n'].astype('float')\n",
    "dfsort.info()\n",
    "dfsort['n'] = dfsort['n'].astype('float')\n",
    "dfsort.info()"
   ]
  },
  {
   "cell_type": "code",
   "execution_count": null,
   "metadata": {},
   "outputs": [],
   "source": [
    "num_bf_selection = 0.01\n",
    "df_var = dfsort[dfsort['n'] > num_bf_selection]"
   ]
  },
  {
   "cell_type": "code",
   "execution_count": null,
   "metadata": {},
   "outputs": [],
   "source": [
    "num_bf_selection"
   ]
  },
  {
   "cell_type": "code",
   "execution_count": null,
   "metadata": {},
   "outputs": [],
   "source": [
    "column_var = df_var.band.tolist()"
   ]
  },
  {
   "cell_type": "code",
   "execution_count": null,
   "metadata": {},
   "outputs": [],
   "source": [
    "column_var.insert(0, 'target')"
   ]
  },
  {
   "cell_type": "code",
   "execution_count": null,
   "metadata": {},
   "outputs": [],
   "source": [
    "column_var"
   ]
  },
  {
   "cell_type": "code",
   "execution_count": null,
   "metadata": {},
   "outputs": [],
   "source": [
    "df_ml"
   ]
  },
  {
   "cell_type": "code",
   "execution_count": null,
   "metadata": {},
   "outputs": [],
   "source": [
    "df2 = df[column_var]"
   ]
  },
  {
   "cell_type": "code",
   "execution_count": null,
   "metadata": {},
   "outputs": [],
   "source": [
    "df_corr = df2.corr()\n",
    "df_corr.to_csv(os.path.join(model_outputs, f\"corrolation_feature_importance_{str(num_bf_selection)}_features_{runs}.csv\"), index=False)\n",
    "df_corr"
   ]
  },
  {
   "cell_type": "code",
   "execution_count": null,
   "metadata": {},
   "outputs": [],
   "source": [
    "dfsort.to_csv(os.path.join(t_dir_path, \"rf_variable_score.csv\"), index=False)"
   ]
  },
  {
   "cell_type": "code",
   "execution_count": null,
   "metadata": {},
   "outputs": [],
   "source": [
    "variable_imp_list = dfsort.band.to_list()"
   ]
  },
  {
   "cell_type": "code",
   "execution_count": null,
   "metadata": {},
   "outputs": [],
   "source": [
    "# var_not_imp = variable_imp_list[20:]\n",
    "# print(list(var_not_imp))"
   ]
  },
  {
   "cell_type": "markdown",
   "metadata": {},
   "source": [
    "### Predict the selected model on the test data"
   ]
  },
  {
   "cell_type": "code",
   "execution_count": null,
   "metadata": {},
   "outputs": [],
   "source": [
    "# plt.scatter(y2_predict, y_2)\n",
    "# plt.show()"
   ]
  },
  {
   "cell_type": "code",
   "execution_count": null,
   "metadata": {},
   "outputs": [],
   "source": [
    "y2_predict = rfrLCHM.predict(X_2)\n",
    "\n",
    "print('Predicted data r2 =', rfrLCHM.score(X_2, y_2))\n",
    "print('MSE =', format(np.mean((y_2 - rfrLCHM.predict(X_2))** 2), '.3f'))\n",
    "print('RMSE =', format(np.sqrt(np.mean((y2_predict - y_2) ** 2)), '.3f'))\n",
    "#print 'explained_var =',format(explained_variance_score(y_2, y2_predict),  '.3f') \n",
    "print('bias =' , format(np.mean(y_2) - np.mean(y2_predict), '.3f'))\n",
    "print('n =' , len(y_2))\n",
    "\n",
    "plt.scatter(y2_predict, y_2 ,s=10, c='b', marker='o')\n",
    "# data for the 1 for 1 line\n",
    "x = [-1,30000]\n",
    "y = [-1,30000]\n",
    "\n",
    "#sets the limits of the axis\n",
    "plt.xlim(-1,30000)\n",
    "plt.ylim(-1, 30000)\n",
    "plt.ylabel('Observed mean AGB')\n",
    "plt.xlabel('Predicted mean AGB')\n",
    "# 1 for 1 line\n",
    "plt.plot(x, y, color = 'r')\n",
    "plot_out = os.path.join(model_outputs, f'rf_test_data_{str(runs)}.pdf')\n",
    "fig.savefig(plot_out,dpi=600)# save out your figure to a pdf \n",
    "\n",
    "plt.show()"
   ]
  },
  {
   "cell_type": "code",
   "execution_count": null,
   "metadata": {},
   "outputs": [],
   "source": [
    "import numpy as np\n",
    "import matplotlib.pyplot as plt\n",
    "from scipy.stats import gaussian_kde\n",
    "\n",
    "# data to plot\n",
    "x = y2_predict\n",
    "y = y_2\n",
    "\n",
    "# Calculate the point density\n",
    "xy = np.vstack([x,y])\n",
    "z = gaussian_kde(xy)(xy)\n",
    "\n",
    "# Sort the points by density, so that the densest points are plotted last\n",
    "idx = z.argsort()\n",
    "x, y, z = x[idx], y[idx], z[idx]\n",
    "\n",
    "print(x)\n",
    "print(y)\n",
    "print(z)\n",
    "# fig, ax = plt.subplots()\n",
    "# ax.scatter(x, y, c=z, s=0.8, edgecolor='')\n",
    "\n",
    "# # data for the 1 for 1 line\n",
    "# a = [-1,25]\n",
    "# b = [-1,25]\n",
    "\n",
    "# #sets the limits of the axis\n",
    "# plt.xlim(-1,25)\n",
    "# plt.ylim(-1,25)\n",
    "# plt.ylabel('Observed mean CHM')\n",
    "# plt.xlabel('Predicted mean CHM')\n",
    "# # 1 for 1 line\n",
    "# ax.plot(a, b, color = 'black')\n",
    "\n",
    "# plt.show()"
   ]
  },
  {
   "cell_type": "code",
   "execution_count": null,
   "metadata": {},
   "outputs": [],
   "source": []
  },
  {
   "cell_type": "code",
   "execution_count": null,
   "metadata": {},
   "outputs": [],
   "source": []
  },
  {
   "cell_type": "code",
   "execution_count": null,
   "metadata": {},
   "outputs": [],
   "source": []
  },
  {
   "cell_type": "code",
   "execution_count": null,
   "metadata": {},
   "outputs": [],
   "source": []
  },
  {
   "cell_type": "code",
   "execution_count": null,
   "metadata": {},
   "outputs": [],
   "source": []
  },
  {
   "cell_type": "markdown",
   "metadata": {},
   "source": [
    "# ================================================================="
   ]
  },
  {
   "cell_type": "markdown",
   "metadata": {},
   "source": [
    "# STOP - do you realy want to save this model?"
   ]
  },
  {
   "cell_type": "markdown",
   "metadata": {},
   "source": [
    "# remember to change the cPickle file name !!"
   ]
  },
  {
   "cell_type": "markdown",
   "metadata": {},
   "source": [
    "# Save current fitted model and apply to unseen validation data "
   ]
  },
  {
   "cell_type": "code",
   "execution_count": null,
   "metadata": {},
   "outputs": [],
   "source": [
    "import pickle\n",
    "\n",
    "#rfrL8CHM = rfr()\n",
    "#rfrL8CHM.fit(X_1, y_1)\n",
    "\n",
    "pkl_out = os.path.join(model_outputs, f'rf_model_{str(runs)}')\n",
    "\n",
    "\n",
    "with open(pkl_out, 'wb') as f:\n",
    "    pickle.dump(rfrLCHM, f)"
   ]
  },
  {
   "cell_type": "code",
   "execution_count": null,
   "metadata": {},
   "outputs": [],
   "source": [
    "# read in your validation dataset which has never been seen by rfr model - NOTE in this example I am just reading the same data used to train the model\n",
    "\n",
    "df = pd.read_csv(csv_file, header=0)\n",
    "df.shape "
   ]
  },
  {
   "cell_type": "code",
   "execution_count": null,
   "metadata": {},
   "outputs": [],
   "source": [
    "c_list = df.columns.tolist()\n",
    "c_list"
   ]
  },
  {
   "cell_type": "code",
   "execution_count": null,
   "metadata": {},
   "outputs": [],
   "source": []
  },
  {
   "cell_type": "code",
   "execution_count": null,
   "metadata": {},
   "outputs": [],
   "source": [
    "#df1 = df[(df['comp'] == 'l57')]\n",
    "df1 = df[(df['target'] > 0.01)]\n",
    "df1.dropna(inplace=True)\n",
    "print (df1.shape)"
   ]
  },
  {
   "cell_type": "code",
   "execution_count": null,
   "metadata": {},
   "outputs": [],
   "source": [
    "df1.columns"
   ]
  },
  {
   "cell_type": "code",
   "execution_count": null,
   "metadata": {},
   "outputs": [],
   "source": [
    "column_var"
   ]
  },
  {
   "cell_type": "code",
   "execution_count": null,
   "metadata": {},
   "outputs": [],
   "source": [
    "df1[column_var].info()"
   ]
  },
  {
   "cell_type": "code",
   "execution_count": null,
   "metadata": {},
   "outputs": [],
   "source": [
    "df1"
   ]
  },
  {
   "cell_type": "code",
   "execution_count": null,
   "metadata": {},
   "outputs": [],
   "source": [
    "xdata2 = df1[column_var].astype('float32')\n",
    "\n",
    "ydata1 = df1[['target']].astype('float32')\n",
    "\n",
    "ydata2 = ydata1.values\n",
    "\n",
    "ydata = ydata2.ravel()\n",
    "\n",
    "print(len(ydata1))"
   ]
  },
  {
   "cell_type": "code",
   "execution_count": null,
   "metadata": {},
   "outputs": [],
   "source": [
    "with open(pkl_out, 'rb') as f:\n",
    "        rf = pickle.load(f)\n",
    "\n",
    "        predicted = rf.predict(xdata2)\n",
    "\n",
    "#print 'r2 =' ,  rf.score(predicted, y_2)\n",
    "#print 'rmse =', np.sqrt(np.mean((y_2 - predicted)**2))\n",
    "#print 'n =' , len(y_2)\n",
    "\n",
    "print('Predicted data r2 =', rf.score(xdata2, ydata))\n",
    "print('MSE =', format(np.mean((ydata - rf.predict(xdata2))** 2), '.3f'))\n",
    "print('RMSE =', format(np.sqrt(np.mean((predicted - ydata) ** 2)), '.3f'))\n",
    "print('explained_var =',format(explained_variance_score(ydata, predicted),  '.3f'))\n",
    "print('bias =' , format(np.mean(ydata) - np.mean(predicted), '.3f'))\n",
    "print('n =' , len(ydata))\n",
    "\n",
    "\n",
    "# plot up predicted and observed data \n",
    "plt.scatter(predicted, ydata,s=8, c='b', marker='o')\n",
    "\n",
    "# data for the 1 for 1 line\n",
    "x = [-1,40000]\n",
    "y = [-1,40000]\n",
    "\n",
    "#sets the limits of the axis\n",
    "plt.xlim(-1, 40000)\n",
    "plt.ylim(-1, 40000)\n",
    "\n",
    "# 1 for 1 line\n",
    "\n",
    "fig = plt.figure(1)\n",
    "plt.plot(x, y, color = 'black')\n",
    "fig.savefig('predicted_Observed_Validation_78.png',dpi=600)\n",
    "plt.show()"
   ]
  },
  {
   "cell_type": "code",
   "execution_count": null,
   "metadata": {},
   "outputs": [],
   "source": []
  },
  {
   "cell_type": "code",
   "execution_count": null,
   "metadata": {},
   "outputs": [],
   "source": []
  },
  {
   "cell_type": "code",
   "execution_count": null,
   "metadata": {},
   "outputs": [],
   "source": []
  },
  {
   "cell_type": "code",
   "execution_count": null,
   "metadata": {},
   "outputs": [],
   "source": []
  },
  {
   "cell_type": "code",
   "execution_count": null,
   "metadata": {},
   "outputs": [],
   "source": []
  },
  {
   "cell_type": "code",
   "execution_count": null,
   "metadata": {},
   "outputs": [],
   "source": []
  },
  {
   "cell_type": "code",
   "execution_count": null,
   "metadata": {},
   "outputs": [],
   "source": []
  },
  {
   "cell_type": "code",
   "execution_count": null,
   "metadata": {},
   "outputs": [],
   "source": []
  },
  {
   "cell_type": "code",
   "execution_count": null,
   "metadata": {},
   "outputs": [],
   "source": []
  },
  {
   "cell_type": "code",
   "execution_count": null,
   "metadata": {},
   "outputs": [],
   "source": [
    "import numpy as np\n",
    "import matplotlib.pyplot as plt\n",
    "from scipy.stats import gaussian_kde\n",
    "\n",
    "# data to plot\n",
    "x = predicted\n",
    "y = ydata\n",
    "\n",
    "# Calculate the point density\n",
    "xy = np.vstack([x,y])\n",
    "z = gaussian_kde(xy)(xy)\n",
    "\n",
    "# Sort the points by density, so that the densest points are plotted last\n",
    "idx = z.argsort()\n",
    "x, y, z = x[idx], y[idx], z[idx]\n",
    "\n",
    "\n",
    "fig, ax = plt.subplots()\n",
    "ax.scatter(x, y, c=z, s=0.5, edgecolor='')\n",
    "\n",
    "# data for the 1 for 1 line\n",
    "a = [-1,30]\n",
    "b = [-1,30]\n",
    "\n",
    "#sets the limits of the axis\n",
    "plt.xlim(-1,30)\n",
    "plt.ylim(-1,30)\n",
    "plt.ylabel('Observed mean CHM')\n",
    "plt.xlabel('Predicted mean CHM')\n",
    "# 1 for 1 line\n",
    "ax.plot(a, b, color = 'black')\n",
    "\n",
    "plt.show()"
   ]
  },
  {
   "cell_type": "code",
   "execution_count": null,
   "metadata": {},
   "outputs": [],
   "source": [
    "with open('rfr_modelName_mKath', 'rb') as f:\n",
    "        rf = cPickle.load(f)\n",
    "\n",
    "        predicted = rf.predict(xdata2)\n",
    "\n",
    "#print 'r2 =' ,  rf.score(predicted, y_2)\n",
    "#print 'rmse =', np.sqrt(np.mean((y_2 - predicted)**2))\n",
    "#print 'n =' , len(y_2)\n",
    "\n",
    "print 'Predicted data r2 =', rf.score(xdata2, ydata)\n",
    "print 'MSE =', format(np.mean((ydata - rf.predict(xdata2))** 2), '.3f')\n",
    "print 'RMSE =', format(np.sqrt(np.mean((predicted - ydata) ** 2)), '.3f')\n",
    "print 'explained_var =',format(explained_variance_score(ydata, predicted),  '.3f') \n",
    "print 'bias =' , format(np.mean(ydata) - np.mean(predicted), '.3f')\n",
    "print 'n =' , len(ydata)\n",
    "\n",
    "\n",
    "# plot up predicted and observed data \n",
    "plt.scatter(predicted, ydata,s=0.002, c='b', marker='o')\n",
    "\n",
    "# data for the 1 for 1 line\n",
    "x = [-1,30]\n",
    "y = [-1,30]\n",
    "\n",
    "#sets the limits of the axis\n",
    "plt.xlim(-1, 30)\n",
    "plt.ylim(-1, 30)\n",
    "\n",
    "# 1 for 1 line\n",
    "\n",
    "fig = plt.figure(1)\n",
    "plt.plot(x, y, color = 'black')\n",
    "fig.savefig('predicted_Observed_Validation_l57.png',dpi=600)\n",
    "plt.show()"
   ]
  },
  {
   "cell_type": "code",
   "execution_count": null,
   "metadata": {},
   "outputs": [],
   "source": [
    "import numpy as np\n",
    "import matplotlib.pyplot as plt\n",
    "from scipy.stats import gaussian_kde\n",
    "\n",
    "# data to plot\n",
    "x = predicted\n",
    "y = ydata\n",
    "\n",
    "# Calculate the point density\n",
    "xy = np.vstack([x,y])\n",
    "z = gaussian_kde(xy)(xy)\n",
    "\n",
    "# Sort the points by density, so that the densest points are plotted last\n",
    "idx = z.argsort()\n",
    "x, y, z = x[idx], y[idx], z[idx]\n",
    "\n",
    "\n",
    "fig, ax = plt.subplots()\n",
    "ax.scatter(x, y, c=z, s=0.5, edgecolor='')\n",
    "\n",
    "# data for the 1 for 1 line\n",
    "a = [-1,30]\n",
    "b = [-1,30]\n",
    "\n",
    "#sets the limits of the axis\n",
    "plt.xlim(-1,30)\n",
    "plt.ylim(-1,30)\n",
    "plt.ylabel('Observed mean CHM')\n",
    "plt.xlabel('Predicted mean CHM')\n",
    "# 1 for 1 line\n",
    "ax.plot(a, b, color = 'black')\n",
    "\n",
    "plt.show()"
   ]
  },
  {
   "cell_type": "code",
   "execution_count": null,
   "metadata": {},
   "outputs": [],
   "source": [
    "with open('rfr_modelNamel57', 'rb') as f:\n",
    "        rf = cPickle.load(f)\n",
    "\n",
    "        predicted = rf.predict(xdata2)\n",
    "\n",
    "#print 'r2 =' ,  rf.score(predicted, y_2)\n",
    "#print 'rmse =', np.sqrt(np.mean((y_2 - predicted)**2))\n",
    "#print 'n =' , len(y_2)\n",
    "\n",
    "print 'Predicted data r2 =', rf.score(xdata2, ydata)\n",
    "print 'MSE =', format(np.mean((ydata - rf.predict(xdata2))** 2), '.3f')\n",
    "print 'RMSE =', format(np.sqrt(np.mean((predicted - ydata) ** 2)), '.3f')\n",
    "print 'explained_var =',format(explained_variance_score(ydata, predicted),  '.3f') \n",
    "print 'bias =' , format(np.mean(ydata) - np.mean(predicted), '.3f')\n",
    "print 'n =' , len(ydata)\n",
    "\n",
    "\n",
    "# plot up predicted and observed data \n",
    "plt.scatter(predicted, ydata,s=0.002, c='b', marker='o')\n",
    "\n",
    "# data for the 1 for 1 line\n",
    "x = [-1,30]\n",
    "y = [-1,30]\n",
    "\n",
    "#sets the limits of the axis\n",
    "plt.xlim(-1, 30)\n",
    "plt.ylim(-1, 30)\n",
    "\n",
    "# 1 for 1 line\n",
    "\n",
    "fig = plt.figure(1)\n",
    "plt.plot(x, y, color = 'black')\n",
    "fig.savefig('predicted_Observed_Validation.png',dpi=600)\n",
    "plt.show()"
   ]
  },
  {
   "cell_type": "code",
   "execution_count": null,
   "metadata": {},
   "outputs": [],
   "source": [
    "import numpy as np\n",
    "import matplotlib.pyplot as plt\n",
    "from scipy.stats import gaussian_kde\n",
    "\n",
    "# data to plot\n",
    "x = predicted\n",
    "y = ydata\n",
    "\n",
    "# Calculate the point density\n",
    "xy = np.vstack([x,y])\n",
    "z = gaussian_kde(xy)(xy)\n",
    "\n",
    "# Sort the points by density, so that the densest points are plotted last\n",
    "idx = z.argsort()\n",
    "x, y, z = x[idx], y[idx], z[idx]\n",
    "\n",
    "\n",
    "fig, ax = plt.subplots()\n",
    "ax.scatter(x, y, c=z, s=0.5, edgecolor='')\n",
    "\n",
    "# data for the 1 for 1 line\n",
    "a = [-1,30]\n",
    "b = [-1,30]\n",
    "\n",
    "#sets the limits of the axis\n",
    "plt.xlim(-1,30)\n",
    "plt.ylim(-1,30)\n",
    "plt.ylabel('Observed mean CHM')\n",
    "plt.xlabel('Predicted mean CHM')\n",
    "# 1 for 1 line\n",
    "ax.plot(a, b, color = 'black')\n",
    "\n",
    "plt.show()"
   ]
  },
  {
   "cell_type": "code",
   "execution_count": null,
   "metadata": {},
   "outputs": [],
   "source": []
  },
  {
   "cell_type": "code",
   "execution_count": null,
   "metadata": {},
   "outputs": [],
   "source": [
    "with open('rfr_modelNamel57', 'rb') as f:\n",
    "        rf = cPickle.load(f)\n",
    "\n",
    "        predicted = rf.predict(xdata2)\n",
    "\n",
    "#print 'r2 =' ,  rf.score(predicted, y_2)\n",
    "#print 'rmse =', np.sqrt(np.mean((y_2 - predicted)**2))\n",
    "#print 'n =' , len(y_2)\n",
    "\n",
    "print 'Predicted data r2 =', rf.score(xdata2, ydata)\n",
    "print 'MSE =', format(np.mean((ydata - rf.predict(xdata2))** 2), '.3f')\n",
    "print 'RMSE =', format(np.sqrt(np.mean((predicted - ydata) ** 2)), '.3f')\n",
    "print 'explained_var =',format(explained_variance_score(ydata, predicted),  '.3f') \n",
    "print 'bias =' , format(np.mean(ydata) - np.mean(predicted), '.3f')\n",
    "print 'n =' , len(ydata)\n",
    "\n",
    "\n",
    "# plot up predicted and observed data \n",
    "plt.scatter(predicted, ydata,s=0.002, c='b', marker='o')\n",
    "\n",
    "# data for the 1 for 1 line\n",
    "x = [-1,30]\n",
    "y = [-1,30]\n",
    "\n",
    "#sets the limits of the axis\n",
    "plt.xlim(-1, 30)\n",
    "plt.ylim(-1, 30)\n",
    "\n",
    "# 1 for 1 line\n",
    "\n",
    "fig = plt.figure(1)\n",
    "plt.plot(x, y, color = 'black')\n",
    "fig.savefig('predicted_Observed_Validationgtr4m.png',dpi=600)\n",
    "plt.show()"
   ]
  },
  {
   "cell_type": "code",
   "execution_count": null,
   "metadata": {},
   "outputs": [],
   "source": [
    "import numpy as np\n",
    "import matplotlib.pyplot as plt\n",
    "from scipy.stats import gaussian_kde\n",
    "\n",
    "# data to plot\n",
    "x = predicted\n",
    "y = ydata\n",
    "\n",
    "# Calculate the point density\n",
    "xy = np.vstack([x,y])\n",
    "z = gaussian_kde(xy)(xy)\n",
    "\n",
    "# Sort the points by density, so that the densest points are plotted last\n",
    "idx = z.argsort()\n",
    "x, y, z = x[idx], y[idx], z[idx]\n",
    "\n",
    "\n",
    "fig, ax = plt.subplots()\n",
    "ax.scatter(x, y, c=z, s=0.5, edgecolor='')\n",
    "\n",
    "# data for the 1 for 1 line\n",
    "a = [-1,30]\n",
    "b = [-1,30]\n",
    "\n",
    "#sets the limits of the axis\n",
    "plt.xlim(-1,30)\n",
    "plt.ylim(-1,30)\n",
    "plt.ylabel('Observed mean CHM')\n",
    "plt.xlabel('Predicted mean CHM')\n",
    "# 1 for 1 line\n",
    "ax.plot(a, b, color = 'black')\n",
    "\n",
    "plt.show()"
   ]
  },
  {
   "cell_type": "code",
   "execution_count": null,
   "metadata": {},
   "outputs": [],
   "source": []
  },
  {
   "cell_type": "code",
   "execution_count": null,
   "metadata": {},
   "outputs": [],
   "source": []
  },
  {
   "cell_type": "code",
   "execution_count": null,
   "metadata": {},
   "outputs": [],
   "source": []
  },
  {
   "cell_type": "code",
   "execution_count": null,
   "metadata": {},
   "outputs": [],
   "source": [
    "with open('rfr_modelNamel78', 'rb') as f:\n",
    "        rf = cPickle.load(f)\n",
    "\n",
    "        predicted = rf.predict(xdata2)\n",
    "\n",
    "#print 'r2 =' ,  rf.score(predicted, y_2)\n",
    "#print 'rmse =', np.sqrt(np.mean((y_2 - predicted)**2))\n",
    "#print 'n =' , len(y_2)\n",
    "\n",
    "print 'Predicted data r2 =', rf.score(xdata2, ydata)\n",
    "print 'MSE =', format(np.mean((ydata - rf.predict(xdata2))** 2), '.3f')\n",
    "print 'RMSE =', format(np.sqrt(np.mean((predicted - ydata) ** 2)), '.3f')\n",
    "print 'explained_var =',format(explained_variance_score(ydata, predicted),  '.3f') \n",
    "print 'bias =' , format(np.mean(ydata) - np.mean(predicted), '.3f')\n",
    "print 'n =' , len(ydata)\n",
    "\n",
    "\n",
    "# plot up predicted and observed data \n",
    "plt.scatter(predicted, ydata,s=0.002, c='b', marker='o')\n",
    "\n",
    "# data for the 1 for 1 line\n",
    "x = [-1,30]\n",
    "y = [-1,30]\n",
    "\n",
    "#sets the limits of the axis\n",
    "plt.xlim(-1, 30)\n",
    "plt.ylim(-1, 30)\n",
    "\n",
    "# 1 for 1 line\n",
    "\n",
    "fig = plt.figure(1)\n",
    "plt.plot(x, y, color = 'black')\n",
    "fig.savefig('predicted_Observed_Validation.png',dpi=600)\n",
    "plt.show()"
   ]
  },
  {
   "cell_type": "code",
   "execution_count": null,
   "metadata": {},
   "outputs": [],
   "source": []
  }
 ],
 "metadata": {
  "anaconda-cloud": {},
  "kernelspec": {
   "display_name": "Python 3",
   "language": "python",
   "name": "python3"
  },
  "language_info": {
   "codemirror_mode": {
    "name": "ipython",
    "version": 3
   },
   "file_extension": ".py",
   "mimetype": "text/x-python",
   "name": "python",
   "nbconvert_exporter": "python",
   "pygments_lexer": "ipython3",
   "version": "3.7.7"
  }
 },
 "nbformat": 4,
 "nbformat_minor": 1
}
