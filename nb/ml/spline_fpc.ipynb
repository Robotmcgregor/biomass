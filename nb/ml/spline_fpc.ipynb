{
 "cells": [
  {
   "cell_type": "markdown",
   "metadata": {},
   "source": [
    "# sklearn_classification_models_for_seasonal_selections"
   ]
  },
  {
   "cell_type": "markdown",
   "metadata": {},
   "source": [
    "https://www.projectpro.io/article/multi-class-classification-python-example/547#mcetoc_1fpjsn4g8g"
   ]
  },
  {
   "cell_type": "markdown",
   "metadata": {},
   "source": [
    "https://www.educba.com/keras-sequential/"
   ]
  },
  {
   "cell_type": "markdown",
   "metadata": {},
   "source": [
    "###### Load modules "
   ]
  },
  {
   "cell_type": "markdown",
   "metadata": {},
   "source": [
    "The following conditions apply:\n",
    "\n",
    " - env = biomass_zonal\n",
    " - data merged_slats_field_agb_dp1_start.csv"
   ]
  },
  {
   "cell_type": "code",
   "execution_count": 1,
   "metadata": {},
   "outputs": [],
   "source": [
    "import numpy as np\n",
    "import matplotlib.pyplot as plt\n",
    "%matplotlib inline\n",
    "\n",
    "from sklearn import svm\n",
    "from sklearn.model_selection import train_test_split\n",
    "from sklearn.preprocessing import StandardScaler\n",
    "from sklearn.metrics import ConfusionMatrixDisplay, accuracy_score, classification_report\n",
    "from sklearn.neighbors import KNeighborsClassifier\n",
    "from sklearn.linear_model import LinearRegression\n",
    "from sklearn.kernel_ridge import KernelRidge\n",
    "from sklearn.linear_model import SGDRegressor\n",
    "from sklearn.linear_model import ElasticNet\n",
    "from sklearn.linear_model import BayesianRidge\n",
    "from sklearn.ensemble import GradientBoostingRegressor\n",
    "from sklearn.svm import SVR\n",
    "from sklearn.preprocessing import PolynomialFeatures\n",
    "\n",
    "\n",
    "\n",
    "import matplotlib.pyplot as plt\n",
    "import seaborn as sns\n",
    "import os\n",
    "import scipy\n",
    "import scipy.stats as sc\n",
    "import numpy as np\n",
    "from glob import glob\n",
    "import pandas as pd\n",
    "pd.set_option('display.float_format', '{:.2f}'.format)"
   ]
  },
  {
   "cell_type": "code",
   "execution_count": 2,
   "metadata": {},
   "outputs": [
    {
     "name": "stdout",
     "output_type": "stream",
     "text": [
      "20230219\n",
      "20230219_101604\n"
     ]
    }
   ],
   "source": [
    "from datetime import datetime\n",
    "\n",
    "# datetime object containing current date and time\n",
    "now = datetime.now()\n",
    " \n",
    "date_str = now.strftime(\"%Y%m%d\")\n",
    "date_time_str = now.strftime(\"%Y%m%d_%H%M%S\")\n",
    "print(date_str)\n",
    "print(date_time_str)"
   ]
  },
  {
   "cell_type": "markdown",
   "metadata": {},
   "source": [
    "### Import data"
   ]
  },
  {
   "cell_type": "code",
   "execution_count": 3,
   "metadata": {},
   "outputs": [],
   "source": [
    "#date_str = \"20230201\"\n",
    "drive = \"D\"\n",
    "data_date = \"20230205\"\n",
    "# define output directory\n",
    "output_dir = r\"{0}:\\cdu\\data\\zonal_stats\\output\\{1}\".format(drive, date_str)\n",
    "export_dir = os.path.join(output_dir, date_time_str)\n",
    "\n",
    "# data dir\n",
    "dir_ = r\"{0}:\\cdu\\data\\zonal_stats\\output\\{1}\\ml_data_si_dir\".format(drive, data_date)\n",
    "\n",
    "index_ = 1\n"
   ]
  },
  {
   "cell_type": "code",
   "execution_count": 4,
   "metadata": {},
   "outputs": [],
   "source": [
    "def mk_dir_fn(dir_):\n",
    "    \"\"\" Create a new directory if one does not already exist. \"\"\"\n",
    "    print(\"pathway \", dir_)\n",
    "    if not os.path.isdir(dir_):\n",
    "        os.mkdir(dir_)\n",
    "\n",
    "        \n",
    "def export_csv_fn(list_, dir_, file_name):\n",
    "    \n",
    "    \"\"\" Create and export path from directory and file name and exports csv with no dropping the index column. \"\"\"\n",
    "    \n",
    "    df_final = pd.concat(list_, axis =0)    \n",
    "    output_path = os.path.join(dir_, file_name)\n",
    "    df_final.to_csv(os.path.join(output_path), index=False)\n",
    "    print(\"File output to: \", output_path)\n",
    "    \n",
    "    return df_final"
   ]
  },
  {
   "cell_type": "markdown",
   "metadata": {},
   "source": [
    "## Set output file locations"
   ]
  },
  {
   "cell_type": "markdown",
   "metadata": {},
   "source": [
    "## Load data"
   ]
  },
  {
   "cell_type": "code",
   "execution_count": 5,
   "metadata": {},
   "outputs": [
    {
     "name": "stdout",
     "output_type": "stream",
     "text": [
      "D:\\cdu\\data\\zonal_stats\\output\\20230205\\ml_data_si_dir\\s_mean_max_min_med_std__fnm_fms_si_reg.csv\n",
      "D:\\cdu\\data\\zonal_stats\\output\\20230205\\ml_data_si_dir\\r2_bs_mean_max_min_med_std__fnm_fms_si_reg.csv\n",
      "D:\\cdu\\data\\zonal_stats\\output\\20230205\\ml_data_si_dir\\s_mean_max_min_med_std_met_fnm_fms_si_reg.csv\n",
      "D:\\cdu\\data\\zonal_stats\\output\\20230205\\ml_data_si_dir\\r2_bs_mean_max_min_med_std_met_fnm_fms_si_reg.csv\n"
     ]
    }
   ],
   "source": [
    "file_list = []\n",
    "for f in glob(os.path.join(dir_, \"*reg.csv\")):\n",
    "    print(f)\n",
    "    file_list.append(f)\n"
   ]
  },
  {
   "cell_type": "code",
   "execution_count": 6,
   "metadata": {},
   "outputs": [],
   "source": [
    "_, file_name = os.path.split(file_list[index_])\n",
    "split_list = file_name.split(\".\")\n",
    "data_set = split_list[0]"
   ]
  },
  {
   "cell_type": "code",
   "execution_count": 7,
   "metadata": {},
   "outputs": [
    {
     "data": {
      "text/plain": [
       "'r2_bs_mean_max_min_med_std__fnm_fms_si_reg'"
      ]
     },
     "execution_count": 7,
     "metadata": {},
     "output_type": "execute_result"
    }
   ],
   "source": [
    "data_set"
   ]
  },
  {
   "cell_type": "code",
   "execution_count": 8,
   "metadata": {},
   "outputs": [],
   "source": [
    "ml_rf_reg_dir= os.path.join(output_dir, \"ml_svc_reg_dir\")\n",
    "data_set_dir= os.path.join(ml_rf_reg_dir, \"data_set\")\n",
    "export_ml_rf_reg_dir = os.path.join(data_set_dir, date_time_str)\n",
    "# plots_dir = os.path.join(export_ml_rf_reg_dir, data_set)\n",
    "all_plots_dir = os.path.join(export_ml_rf_reg_dir, \"all_plots\")\n",
    "# no_tern_plots_dir = os.path.join(plots_dir, \"no_tern\")\n"
   ]
  },
  {
   "cell_type": "code",
   "execution_count": 9,
   "metadata": {},
   "outputs": [
    {
     "name": "stdout",
     "output_type": "stream",
     "text": [
      "pathway  D:\\cdu\\data\\zonal_stats\\output\\20230219\n",
      "pathway  D:\\cdu\\data\\zonal_stats\\output\\20230219\\ml_svc_reg_dir\n",
      "pathway  D:\\cdu\\data\\zonal_stats\\output\\20230219\\ml_svc_reg_dir\\data_set\n",
      "pathway  D:\\cdu\\data\\zonal_stats\\output\\20230219\\ml_svc_reg_dir\\data_set\\20230219_101604\n",
      "pathway  D:\\cdu\\data\\zonal_stats\\output\\20230219\\ml_svc_reg_dir\\data_set\\20230219_101604\\all_plots\n"
     ]
    }
   ],
   "source": [
    "mk_dir_fn(output_dir)\n",
    "mk_dir_fn(ml_rf_reg_dir)\n",
    "mk_dir_fn(data_set_dir)\n",
    "mk_dir_fn(export_ml_rf_reg_dir)\n",
    "# mk_dir_fn(plots_dir)\n",
    "mk_dir_fn(all_plots_dir)\n",
    "# mk_dir_fn(no_tern_plots_dir)"
   ]
  },
  {
   "cell_type": "code",
   "execution_count": 10,
   "metadata": {},
   "outputs": [
    {
     "data": {
      "text/plain": [
       "'D:\\\\cdu\\\\data\\\\zonal_stats\\\\output\\\\20230219\\\\ml_svc_reg_dir\\\\data_set\\\\20230219_101604'"
      ]
     },
     "execution_count": 10,
     "metadata": {},
     "output_type": "execute_result"
    }
   ],
   "source": [
    "export_ml_rf_reg_dir"
   ]
  },
  {
   "cell_type": "code",
   "execution_count": 11,
   "metadata": {},
   "outputs": [],
   "source": [
    "df = pd.read_csv(file_list[index_], header=0)"
   ]
  },
  {
   "cell_type": "code",
   "execution_count": 12,
   "metadata": {},
   "outputs": [
    {
     "data": {
      "text/html": [
       "<div>\n",
       "<style scoped>\n",
       "    .dataframe tbody tr th:only-of-type {\n",
       "        vertical-align: middle;\n",
       "    }\n",
       "\n",
       "    .dataframe tbody tr th {\n",
       "        vertical-align: top;\n",
       "    }\n",
       "\n",
       "    .dataframe thead th {\n",
       "        text-align: right;\n",
       "    }\n",
       "</style>\n",
       "<table border=\"1\" class=\"dataframe\">\n",
       "  <thead>\n",
       "    <tr style=\"text-align: right;\">\n",
       "      <th></th>\n",
       "      <th>target</th>\n",
       "      <th>site</th>\n",
       "      <th>uid</th>\n",
       "      <th>date</th>\n",
       "      <th>b1_fpca2_0509_min</th>\n",
       "      <th>b1_fpca2_0509_max</th>\n",
       "      <th>b1_fpca2_0509_mean</th>\n",
       "      <th>b1_fpca2_0509_med</th>\n",
       "      <th>b1_fpca2_0509_std</th>\n",
       "      <th>b1_h99a_01122_min</th>\n",
       "      <th>...</th>\n",
       "      <th>NDGIm</th>\n",
       "      <th>RIm</th>\n",
       "      <th>NBRm</th>\n",
       "      <th>NDIIm</th>\n",
       "      <th>GDVIm</th>\n",
       "      <th>MSAVIm</th>\n",
       "      <th>DVIm</th>\n",
       "      <th>SAVIm</th>\n",
       "      <th>NDVIm</th>\n",
       "      <th>MSRm</th>\n",
       "    </tr>\n",
       "  </thead>\n",
       "  <tbody>\n",
       "    <tr>\n",
       "      <th>0</th>\n",
       "      <td>0.00</td>\n",
       "      <td>nt001</td>\n",
       "      <td>71</td>\n",
       "      <td>20110523</td>\n",
       "      <td>13.78</td>\n",
       "      <td>47.00</td>\n",
       "      <td>25.85</td>\n",
       "      <td>23.87</td>\n",
       "      <td>8.48</td>\n",
       "      <td>7.27</td>\n",
       "      <td>...</td>\n",
       "      <td>-1797183</td>\n",
       "      <td>1797183</td>\n",
       "      <td>803085</td>\n",
       "      <td>-1648544</td>\n",
       "      <td>1653000</td>\n",
       "      <td>2108509</td>\n",
       "      <td>1334000</td>\n",
       "      <td>2374229</td>\n",
       "      <td>3891482</td>\n",
       "      <td>5080174</td>\n",
       "    </tr>\n",
       "    <tr>\n",
       "      <th>1</th>\n",
       "      <td>0.00</td>\n",
       "      <td>barkely01</td>\n",
       "      <td>24</td>\n",
       "      <td>20111025</td>\n",
       "      <td>0.75</td>\n",
       "      <td>2.87</td>\n",
       "      <td>1.69</td>\n",
       "      <td>1.49</td>\n",
       "      <td>0.70</td>\n",
       "      <td>4.38</td>\n",
       "      <td>...</td>\n",
       "      <td>-1237840</td>\n",
       "      <td>1237840</td>\n",
       "      <td>145478</td>\n",
       "      <td>-1258856</td>\n",
       "      <td>1100000</td>\n",
       "      <td>1063379</td>\n",
       "      <td>731000</td>\n",
       "      <td>1207466</td>\n",
       "      <td>1791228</td>\n",
       "      <td>1985065</td>\n",
       "    </tr>\n",
       "    <tr>\n",
       "      <th>2</th>\n",
       "      <td>0.00</td>\n",
       "      <td>barkely04</td>\n",
       "      <td>27</td>\n",
       "      <td>20111026</td>\n",
       "      <td>2.12</td>\n",
       "      <td>6.42</td>\n",
       "      <td>4.37</td>\n",
       "      <td>4.47</td>\n",
       "      <td>1.22</td>\n",
       "      <td>5.93</td>\n",
       "      <td>...</td>\n",
       "      <td>-1493838</td>\n",
       "      <td>1493838</td>\n",
       "      <td>965693</td>\n",
       "      <td>-982236</td>\n",
       "      <td>1174000</td>\n",
       "      <td>951763</td>\n",
       "      <td>677000</td>\n",
       "      <td>1068835</td>\n",
       "      <td>1504110</td>\n",
       "      <td>1636492</td>\n",
       "    </tr>\n",
       "    <tr>\n",
       "      <th>3</th>\n",
       "      <td>0.00</td>\n",
       "      <td>barkely03</td>\n",
       "      <td>26</td>\n",
       "      <td>20111026</td>\n",
       "      <td>0.75</td>\n",
       "      <td>3.29</td>\n",
       "      <td>1.82</td>\n",
       "      <td>1.64</td>\n",
       "      <td>0.70</td>\n",
       "      <td>3.66</td>\n",
       "      <td>...</td>\n",
       "      <td>-1481481</td>\n",
       "      <td>1481481</td>\n",
       "      <td>-2046</td>\n",
       "      <td>-1713026</td>\n",
       "      <td>1178000</td>\n",
       "      <td>1068186</td>\n",
       "      <td>738000</td>\n",
       "      <td>1210101</td>\n",
       "      <td>1779171</td>\n",
       "      <td>1970149</td>\n",
       "    </tr>\n",
       "    <tr>\n",
       "      <th>4</th>\n",
       "      <td>0.00</td>\n",
       "      <td>barkely02</td>\n",
       "      <td>25</td>\n",
       "      <td>20111026</td>\n",
       "      <td>2.12</td>\n",
       "      <td>13.78</td>\n",
       "      <td>4.97</td>\n",
       "      <td>4.73</td>\n",
       "      <td>2.43</td>\n",
       "      <td>3.13</td>\n",
       "      <td>...</td>\n",
       "      <td>-1563211</td>\n",
       "      <td>1563211</td>\n",
       "      <td>758167</td>\n",
       "      <td>-969300</td>\n",
       "      <td>1320000</td>\n",
       "      <td>1195078</td>\n",
       "      <td>839000</td>\n",
       "      <td>1339257</td>\n",
       "      <td>1908119</td>\n",
       "      <td>2131007</td>\n",
       "    </tr>\n",
       "    <tr>\n",
       "      <th>...</th>\n",
       "      <td>...</td>\n",
       "      <td>...</td>\n",
       "      <td>...</td>\n",
       "      <td>...</td>\n",
       "      <td>...</td>\n",
       "      <td>...</td>\n",
       "      <td>...</td>\n",
       "      <td>...</td>\n",
       "      <td>...</td>\n",
       "      <td>...</td>\n",
       "      <td>...</td>\n",
       "      <td>...</td>\n",
       "      <td>...</td>\n",
       "      <td>...</td>\n",
       "      <td>...</td>\n",
       "      <td>...</td>\n",
       "      <td>...</td>\n",
       "      <td>...</td>\n",
       "      <td>...</td>\n",
       "      <td>...</td>\n",
       "      <td>...</td>\n",
       "    </tr>\n",
       "    <tr>\n",
       "      <th>162</th>\n",
       "      <td>20805.22</td>\n",
       "      <td>ntadac0002</td>\n",
       "      <td>79</td>\n",
       "      <td>20160506</td>\n",
       "      <td>15.54</td>\n",
       "      <td>42.39</td>\n",
       "      <td>29.12</td>\n",
       "      <td>29.27</td>\n",
       "      <td>6.84</td>\n",
       "      <td>16.05</td>\n",
       "      <td>...</td>\n",
       "      <td>-652174</td>\n",
       "      <td>652174</td>\n",
       "      <td>4386747</td>\n",
       "      <td>1261845</td>\n",
       "      <td>1828000</td>\n",
       "      <td>3096442</td>\n",
       "      <td>1768000</td>\n",
       "      <td>3422819</td>\n",
       "      <td>6433770</td>\n",
       "      <td>11466633</td>\n",
       "    </tr>\n",
       "    <tr>\n",
       "      <th>163</th>\n",
       "      <td>30472.45</td>\n",
       "      <td>ntaarp0001</td>\n",
       "      <td>75</td>\n",
       "      <td>20160602</td>\n",
       "      <td>27.61</td>\n",
       "      <td>38.92</td>\n",
       "      <td>34.75</td>\n",
       "      <td>34.33</td>\n",
       "      <td>3.24</td>\n",
       "      <td>17.31</td>\n",
       "      <td>...</td>\n",
       "      <td>-1485714</td>\n",
       "      <td>1485714</td>\n",
       "      <td>4017258</td>\n",
       "      <td>1123510</td>\n",
       "      <td>1746000</td>\n",
       "      <td>2727661</td>\n",
       "      <td>1590000</td>\n",
       "      <td>3059261</td>\n",
       "      <td>5686695</td>\n",
       "      <td>9070438</td>\n",
       "    </tr>\n",
       "    <tr>\n",
       "      <th>164</th>\n",
       "      <td>24414.13</td>\n",
       "      <td>ntaarp0002</td>\n",
       "      <td>76</td>\n",
       "      <td>20160602</td>\n",
       "      <td>9.06</td>\n",
       "      <td>22.31</td>\n",
       "      <td>14.40</td>\n",
       "      <td>14.21</td>\n",
       "      <td>3.60</td>\n",
       "      <td>9.74</td>\n",
       "      <td>...</td>\n",
       "      <td>-2065698</td>\n",
       "      <td>2065698</td>\n",
       "      <td>2615783</td>\n",
       "      <td>222222</td>\n",
       "      <td>1810000</td>\n",
       "      <td>2372051</td>\n",
       "      <td>1483000</td>\n",
       "      <td>2650423</td>\n",
       "      <td>4370763</td>\n",
       "      <td>5977733</td>\n",
       "    </tr>\n",
       "    <tr>\n",
       "      <th>165</th>\n",
       "      <td>17598.35</td>\n",
       "      <td>ntaarp0003</td>\n",
       "      <td>77</td>\n",
       "      <td>20160603</td>\n",
       "      <td>5.26</td>\n",
       "      <td>25.45</td>\n",
       "      <td>13.08</td>\n",
       "      <td>12.11</td>\n",
       "      <td>5.79</td>\n",
       "      <td>9.61</td>\n",
       "      <td>...</td>\n",
       "      <td>-1885790</td>\n",
       "      <td>1885790</td>\n",
       "      <td>2958064</td>\n",
       "      <td>395123</td>\n",
       "      <td>1691000</td>\n",
       "      <td>2284112</td>\n",
       "      <td>1407000</td>\n",
       "      <td>2574722</td>\n",
       "      <td>4401001</td>\n",
       "      <td>6037665</td>\n",
       "    </tr>\n",
       "    <tr>\n",
       "      <th>166</th>\n",
       "      <td>9995.51</td>\n",
       "      <td>buff01</td>\n",
       "      <td>31</td>\n",
       "      <td>20210713</td>\n",
       "      <td>19.30</td>\n",
       "      <td>40.08</td>\n",
       "      <td>30.47</td>\n",
       "      <td>32.06</td>\n",
       "      <td>6.23</td>\n",
       "      <td>12.00</td>\n",
       "      <td>...</td>\n",
       "      <td>770925</td>\n",
       "      <td>-770925</td>\n",
       "      <td>5614599</td>\n",
       "      <td>2339640</td>\n",
       "      <td>2185000</td>\n",
       "      <td>3960474</td>\n",
       "      <td>2255000</td>\n",
       "      <td>4179538</td>\n",
       "      <td>7290656</td>\n",
       "      <td>15262347</td>\n",
       "    </tr>\n",
       "  </tbody>\n",
       "</table>\n",
       "<p>167 rows × 174 columns</p>\n",
       "</div>"
      ],
      "text/plain": [
       "      target        site  uid      date  b1_fpca2_0509_min  b1_fpca2_0509_max  \\\n",
       "0       0.00       nt001   71  20110523              13.78              47.00   \n",
       "1       0.00   barkely01   24  20111025               0.75               2.87   \n",
       "2       0.00   barkely04   27  20111026               2.12               6.42   \n",
       "3       0.00   barkely03   26  20111026               0.75               3.29   \n",
       "4       0.00   barkely02   25  20111026               2.12              13.78   \n",
       "..       ...         ...  ...       ...                ...                ...   \n",
       "162 20805.22  ntadac0002   79  20160506              15.54              42.39   \n",
       "163 30472.45  ntaarp0001   75  20160602              27.61              38.92   \n",
       "164 24414.13  ntaarp0002   76  20160602               9.06              22.31   \n",
       "165 17598.35  ntaarp0003   77  20160603               5.26              25.45   \n",
       "166  9995.51      buff01   31  20210713              19.30              40.08   \n",
       "\n",
       "     b1_fpca2_0509_mean  b1_fpca2_0509_med  b1_fpca2_0509_std  \\\n",
       "0                 25.85              23.87               8.48   \n",
       "1                  1.69               1.49               0.70   \n",
       "2                  4.37               4.47               1.22   \n",
       "3                  1.82               1.64               0.70   \n",
       "4                  4.97               4.73               2.43   \n",
       "..                  ...                ...                ...   \n",
       "162               29.12              29.27               6.84   \n",
       "163               34.75              34.33               3.24   \n",
       "164               14.40              14.21               3.60   \n",
       "165               13.08              12.11               5.79   \n",
       "166               30.47              32.06               6.23   \n",
       "\n",
       "     b1_h99a_01122_min  ...    NDGIm      RIm     NBRm    NDIIm    GDVIm  \\\n",
       "0                 7.27  ... -1797183  1797183   803085 -1648544  1653000   \n",
       "1                 4.38  ... -1237840  1237840   145478 -1258856  1100000   \n",
       "2                 5.93  ... -1493838  1493838   965693  -982236  1174000   \n",
       "3                 3.66  ... -1481481  1481481    -2046 -1713026  1178000   \n",
       "4                 3.13  ... -1563211  1563211   758167  -969300  1320000   \n",
       "..                 ...  ...      ...      ...      ...      ...      ...   \n",
       "162              16.05  ...  -652174   652174  4386747  1261845  1828000   \n",
       "163              17.31  ... -1485714  1485714  4017258  1123510  1746000   \n",
       "164               9.74  ... -2065698  2065698  2615783   222222  1810000   \n",
       "165               9.61  ... -1885790  1885790  2958064   395123  1691000   \n",
       "166              12.00  ...   770925  -770925  5614599  2339640  2185000   \n",
       "\n",
       "      MSAVIm     DVIm    SAVIm    NDVIm      MSRm  \n",
       "0    2108509  1334000  2374229  3891482   5080174  \n",
       "1    1063379   731000  1207466  1791228   1985065  \n",
       "2     951763   677000  1068835  1504110   1636492  \n",
       "3    1068186   738000  1210101  1779171   1970149  \n",
       "4    1195078   839000  1339257  1908119   2131007  \n",
       "..       ...      ...      ...      ...       ...  \n",
       "162  3096442  1768000  3422819  6433770  11466633  \n",
       "163  2727661  1590000  3059261  5686695   9070438  \n",
       "164  2372051  1483000  2650423  4370763   5977733  \n",
       "165  2284112  1407000  2574722  4401001   6037665  \n",
       "166  3960474  2255000  4179538  7290656  15262347  \n",
       "\n",
       "[167 rows x 174 columns]"
      ]
     },
     "execution_count": 12,
     "metadata": {},
     "output_type": "execute_result"
    }
   ],
   "source": [
    "df"
   ]
  },
  {
   "cell_type": "code",
   "execution_count": 13,
   "metadata": {},
   "outputs": [
    {
     "name": "stdout",
     "output_type": "stream",
     "text": [
      "slope:  398.39405526585966\n",
      "intersept:  -1545.2575127961409\n",
      "r2:  0.6680461286822867\n",
      "P_value:  6.104388470146404e-23\n",
      "std error:  34.54675999706051\n"
     ]
    },
    {
     "data": {
      "image/png": "[encoded data removed]",
      "text/plain": [
       "<Figure size 432x288 with 1 Axes>"
      ]
     },
     "metadata": {
      "needs_background": "light"
     },
     "output_type": "display_data"
    }
   ],
   "source": [
    "value_y = 'target'\n",
    "value_x = 'b1_fpca2_0509_max'\n",
    "sns.regplot(x= value_x, y=value_y, data=df)\n",
    "slope, intercept, r_value, p_value, std_err = scipy.stats.linregress(df[value_x], df[value_y])\n",
    "\n",
    "print(\"slope: \", slope)\n",
    "print(\"intersept: \", intercept)\n",
    "print(\"r2: \", r_value)\n",
    "print(\"P_value: \", p_value)\n",
    "print(\"std error: \", std_err)"
   ]
  },
  {
   "cell_type": "code",
   "execution_count": 14,
   "metadata": {},
   "outputs": [],
   "source": [
    "df_ml = df.copy(deep=True)"
   ]
  },
  {
   "cell_type": "markdown",
   "metadata": {},
   "source": [
    "### Set variables to plot"
   ]
  },
  {
   "cell_type": "markdown",
   "metadata": {},
   "source": [
    "## Choose which data set to run the models from"
   ]
  },
  {
   "cell_type": "code",
   "execution_count": 15,
   "metadata": {},
   "outputs": [
    {
     "data": {
      "text/html": [
       "<div>\n",
       "<style scoped>\n",
       "    .dataframe tbody tr th:only-of-type {\n",
       "        vertical-align: middle;\n",
       "    }\n",
       "\n",
       "    .dataframe tbody tr th {\n",
       "        vertical-align: top;\n",
       "    }\n",
       "\n",
       "    .dataframe thead th {\n",
       "        text-align: right;\n",
       "    }\n",
       "</style>\n",
       "<table border=\"1\" class=\"dataframe\">\n",
       "  <thead>\n",
       "    <tr style=\"text-align: right;\">\n",
       "      <th></th>\n",
       "      <th>target</th>\n",
       "      <th>site</th>\n",
       "      <th>uid</th>\n",
       "      <th>date</th>\n",
       "      <th>b1_fpca2_0509_min</th>\n",
       "      <th>b1_fpca2_0509_max</th>\n",
       "      <th>b1_fpca2_0509_mean</th>\n",
       "      <th>b1_fpca2_0509_med</th>\n",
       "      <th>b1_fpca2_0509_std</th>\n",
       "      <th>b1_h99a_01122_min</th>\n",
       "      <th>...</th>\n",
       "      <th>NDGIm</th>\n",
       "      <th>RIm</th>\n",
       "      <th>NBRm</th>\n",
       "      <th>NDIIm</th>\n",
       "      <th>GDVIm</th>\n",
       "      <th>MSAVIm</th>\n",
       "      <th>DVIm</th>\n",
       "      <th>SAVIm</th>\n",
       "      <th>NDVIm</th>\n",
       "      <th>MSRm</th>\n",
       "    </tr>\n",
       "  </thead>\n",
       "  <tbody>\n",
       "    <tr>\n",
       "      <th>0</th>\n",
       "      <td>0.00</td>\n",
       "      <td>nt001</td>\n",
       "      <td>71</td>\n",
       "      <td>20110523</td>\n",
       "      <td>13.78</td>\n",
       "      <td>47.00</td>\n",
       "      <td>25.85</td>\n",
       "      <td>23.87</td>\n",
       "      <td>8.48</td>\n",
       "      <td>7.27</td>\n",
       "      <td>...</td>\n",
       "      <td>-1797183</td>\n",
       "      <td>1797183</td>\n",
       "      <td>803085</td>\n",
       "      <td>-1648544</td>\n",
       "      <td>1653000</td>\n",
       "      <td>2108509</td>\n",
       "      <td>1334000</td>\n",
       "      <td>2374229</td>\n",
       "      <td>3891482</td>\n",
       "      <td>5080174</td>\n",
       "    </tr>\n",
       "    <tr>\n",
       "      <th>1</th>\n",
       "      <td>0.00</td>\n",
       "      <td>barkely01</td>\n",
       "      <td>24</td>\n",
       "      <td>20111025</td>\n",
       "      <td>0.75</td>\n",
       "      <td>2.87</td>\n",
       "      <td>1.69</td>\n",
       "      <td>1.49</td>\n",
       "      <td>0.70</td>\n",
       "      <td>4.38</td>\n",
       "      <td>...</td>\n",
       "      <td>-1237840</td>\n",
       "      <td>1237840</td>\n",
       "      <td>145478</td>\n",
       "      <td>-1258856</td>\n",
       "      <td>1100000</td>\n",
       "      <td>1063379</td>\n",
       "      <td>731000</td>\n",
       "      <td>1207466</td>\n",
       "      <td>1791228</td>\n",
       "      <td>1985065</td>\n",
       "    </tr>\n",
       "    <tr>\n",
       "      <th>2</th>\n",
       "      <td>0.00</td>\n",
       "      <td>barkely04</td>\n",
       "      <td>27</td>\n",
       "      <td>20111026</td>\n",
       "      <td>2.12</td>\n",
       "      <td>6.42</td>\n",
       "      <td>4.37</td>\n",
       "      <td>4.47</td>\n",
       "      <td>1.22</td>\n",
       "      <td>5.93</td>\n",
       "      <td>...</td>\n",
       "      <td>-1493838</td>\n",
       "      <td>1493838</td>\n",
       "      <td>965693</td>\n",
       "      <td>-982236</td>\n",
       "      <td>1174000</td>\n",
       "      <td>951763</td>\n",
       "      <td>677000</td>\n",
       "      <td>1068835</td>\n",
       "      <td>1504110</td>\n",
       "      <td>1636492</td>\n",
       "    </tr>\n",
       "    <tr>\n",
       "      <th>3</th>\n",
       "      <td>0.00</td>\n",
       "      <td>barkely03</td>\n",
       "      <td>26</td>\n",
       "      <td>20111026</td>\n",
       "      <td>0.75</td>\n",
       "      <td>3.29</td>\n",
       "      <td>1.82</td>\n",
       "      <td>1.64</td>\n",
       "      <td>0.70</td>\n",
       "      <td>3.66</td>\n",
       "      <td>...</td>\n",
       "      <td>-1481481</td>\n",
       "      <td>1481481</td>\n",
       "      <td>-2046</td>\n",
       "      <td>-1713026</td>\n",
       "      <td>1178000</td>\n",
       "      <td>1068186</td>\n",
       "      <td>738000</td>\n",
       "      <td>1210101</td>\n",
       "      <td>1779171</td>\n",
       "      <td>1970149</td>\n",
       "    </tr>\n",
       "    <tr>\n",
       "      <th>4</th>\n",
       "      <td>0.00</td>\n",
       "      <td>barkely02</td>\n",
       "      <td>25</td>\n",
       "      <td>20111026</td>\n",
       "      <td>2.12</td>\n",
       "      <td>13.78</td>\n",
       "      <td>4.97</td>\n",
       "      <td>4.73</td>\n",
       "      <td>2.43</td>\n",
       "      <td>3.13</td>\n",
       "      <td>...</td>\n",
       "      <td>-1563211</td>\n",
       "      <td>1563211</td>\n",
       "      <td>758167</td>\n",
       "      <td>-969300</td>\n",
       "      <td>1320000</td>\n",
       "      <td>1195078</td>\n",
       "      <td>839000</td>\n",
       "      <td>1339257</td>\n",
       "      <td>1908119</td>\n",
       "      <td>2131007</td>\n",
       "    </tr>\n",
       "  </tbody>\n",
       "</table>\n",
       "<p>5 rows × 174 columns</p>\n",
       "</div>"
      ],
      "text/plain": [
       "   target       site  uid      date  b1_fpca2_0509_min  b1_fpca2_0509_max  \\\n",
       "0    0.00      nt001   71  20110523              13.78              47.00   \n",
       "1    0.00  barkely01   24  20111025               0.75               2.87   \n",
       "2    0.00  barkely04   27  20111026               2.12               6.42   \n",
       "3    0.00  barkely03   26  20111026               0.75               3.29   \n",
       "4    0.00  barkely02   25  20111026               2.12              13.78   \n",
       "\n",
       "   b1_fpca2_0509_mean  b1_fpca2_0509_med  b1_fpca2_0509_std  \\\n",
       "0               25.85              23.87               8.48   \n",
       "1                1.69               1.49               0.70   \n",
       "2                4.37               4.47               1.22   \n",
       "3                1.82               1.64               0.70   \n",
       "4                4.97               4.73               2.43   \n",
       "\n",
       "   b1_h99a_01122_min  ...    NDGIm      RIm    NBRm    NDIIm    GDVIm  \\\n",
       "0               7.27  ... -1797183  1797183  803085 -1648544  1653000   \n",
       "1               4.38  ... -1237840  1237840  145478 -1258856  1100000   \n",
       "2               5.93  ... -1493838  1493838  965693  -982236  1174000   \n",
       "3               3.66  ... -1481481  1481481   -2046 -1713026  1178000   \n",
       "4               3.13  ... -1563211  1563211  758167  -969300  1320000   \n",
       "\n",
       "    MSAVIm     DVIm    SAVIm    NDVIm     MSRm  \n",
       "0  2108509  1334000  2374229  3891482  5080174  \n",
       "1  1063379   731000  1207466  1791228  1985065  \n",
       "2   951763   677000  1068835  1504110  1636492  \n",
       "3  1068186   738000  1210101  1779171  1970149  \n",
       "4  1195078   839000  1339257  1908119  2131007  \n",
       "\n",
       "[5 rows x 174 columns]"
      ]
     },
     "execution_count": 15,
     "metadata": {},
     "output_type": "execute_result"
    }
   ],
   "source": [
    "df_ml.head(5)"
   ]
  },
  {
   "cell_type": "code",
   "execution_count": 16,
   "metadata": {},
   "outputs": [],
   "source": [
    "# drop some of the unwanted values\n",
    "df_ml.drop(['site', 'uid', 'date'], axis=1, inplace=True) # 'date',\n",
    "#df_ml.drop(['fpca2_imdate'], axis=1, inplace=True)"
   ]
  },
  {
   "cell_type": "code",
   "execution_count": 17,
   "metadata": {},
   "outputs": [
    {
     "data": {
      "text/html": [
       "<div>\n",
       "<style scoped>\n",
       "    .dataframe tbody tr th:only-of-type {\n",
       "        vertical-align: middle;\n",
       "    }\n",
       "\n",
       "    .dataframe tbody tr th {\n",
       "        vertical-align: top;\n",
       "    }\n",
       "\n",
       "    .dataframe thead th {\n",
       "        text-align: right;\n",
       "    }\n",
       "</style>\n",
       "<table border=\"1\" class=\"dataframe\">\n",
       "  <thead>\n",
       "    <tr style=\"text-align: right;\">\n",
       "      <th></th>\n",
       "      <th>target</th>\n",
       "      <th>b1_fpca2_0509_min</th>\n",
       "      <th>b1_fpca2_0509_max</th>\n",
       "      <th>b1_fpca2_0509_mean</th>\n",
       "      <th>b1_fpca2_0509_med</th>\n",
       "      <th>b1_fpca2_0509_std</th>\n",
       "      <th>b1_h99a_01122_min</th>\n",
       "      <th>b1_h99a_01122_max</th>\n",
       "      <th>b1_h99a_01122_mean</th>\n",
       "      <th>b1_h99a_01122_med</th>\n",
       "      <th>...</th>\n",
       "      <th>NDGIm</th>\n",
       "      <th>RIm</th>\n",
       "      <th>NBRm</th>\n",
       "      <th>NDIIm</th>\n",
       "      <th>GDVIm</th>\n",
       "      <th>MSAVIm</th>\n",
       "      <th>DVIm</th>\n",
       "      <th>SAVIm</th>\n",
       "      <th>NDVIm</th>\n",
       "      <th>MSRm</th>\n",
       "    </tr>\n",
       "  </thead>\n",
       "  <tbody>\n",
       "    <tr>\n",
       "      <th>0</th>\n",
       "      <td>0.00</td>\n",
       "      <td>13.78</td>\n",
       "      <td>47.00</td>\n",
       "      <td>25.85</td>\n",
       "      <td>23.87</td>\n",
       "      <td>8.48</td>\n",
       "      <td>7.27</td>\n",
       "      <td>11.78</td>\n",
       "      <td>9.24</td>\n",
       "      <td>8.86</td>\n",
       "      <td>...</td>\n",
       "      <td>-1797183</td>\n",
       "      <td>1797183</td>\n",
       "      <td>803085</td>\n",
       "      <td>-1648544</td>\n",
       "      <td>1653000</td>\n",
       "      <td>2108509</td>\n",
       "      <td>1334000</td>\n",
       "      <td>2374229</td>\n",
       "      <td>3891482</td>\n",
       "      <td>5080174</td>\n",
       "    </tr>\n",
       "    <tr>\n",
       "      <th>1</th>\n",
       "      <td>0.00</td>\n",
       "      <td>0.75</td>\n",
       "      <td>2.87</td>\n",
       "      <td>1.69</td>\n",
       "      <td>1.49</td>\n",
       "      <td>0.70</td>\n",
       "      <td>4.38</td>\n",
       "      <td>8.97</td>\n",
       "      <td>6.83</td>\n",
       "      <td>7.18</td>\n",
       "      <td>...</td>\n",
       "      <td>-1237840</td>\n",
       "      <td>1237840</td>\n",
       "      <td>145478</td>\n",
       "      <td>-1258856</td>\n",
       "      <td>1100000</td>\n",
       "      <td>1063379</td>\n",
       "      <td>731000</td>\n",
       "      <td>1207466</td>\n",
       "      <td>1791228</td>\n",
       "      <td>1985065</td>\n",
       "    </tr>\n",
       "    <tr>\n",
       "      <th>2</th>\n",
       "      <td>0.00</td>\n",
       "      <td>2.12</td>\n",
       "      <td>6.42</td>\n",
       "      <td>4.37</td>\n",
       "      <td>4.47</td>\n",
       "      <td>1.22</td>\n",
       "      <td>5.93</td>\n",
       "      <td>8.85</td>\n",
       "      <td>7.68</td>\n",
       "      <td>7.68</td>\n",
       "      <td>...</td>\n",
       "      <td>-1493838</td>\n",
       "      <td>1493838</td>\n",
       "      <td>965693</td>\n",
       "      <td>-982236</td>\n",
       "      <td>1174000</td>\n",
       "      <td>951763</td>\n",
       "      <td>677000</td>\n",
       "      <td>1068835</td>\n",
       "      <td>1504110</td>\n",
       "      <td>1636492</td>\n",
       "    </tr>\n",
       "    <tr>\n",
       "      <th>3</th>\n",
       "      <td>0.00</td>\n",
       "      <td>0.75</td>\n",
       "      <td>3.29</td>\n",
       "      <td>1.82</td>\n",
       "      <td>1.64</td>\n",
       "      <td>0.70</td>\n",
       "      <td>3.66</td>\n",
       "      <td>7.09</td>\n",
       "      <td>4.98</td>\n",
       "      <td>4.85</td>\n",
       "      <td>...</td>\n",
       "      <td>-1481481</td>\n",
       "      <td>1481481</td>\n",
       "      <td>-2046</td>\n",
       "      <td>-1713026</td>\n",
       "      <td>1178000</td>\n",
       "      <td>1068186</td>\n",
       "      <td>738000</td>\n",
       "      <td>1210101</td>\n",
       "      <td>1779171</td>\n",
       "      <td>1970149</td>\n",
       "    </tr>\n",
       "    <tr>\n",
       "      <th>4</th>\n",
       "      <td>0.00</td>\n",
       "      <td>2.12</td>\n",
       "      <td>13.78</td>\n",
       "      <td>4.97</td>\n",
       "      <td>4.73</td>\n",
       "      <td>2.43</td>\n",
       "      <td>3.13</td>\n",
       "      <td>5.82</td>\n",
       "      <td>4.55</td>\n",
       "      <td>4.43</td>\n",
       "      <td>...</td>\n",
       "      <td>-1563211</td>\n",
       "      <td>1563211</td>\n",
       "      <td>758167</td>\n",
       "      <td>-969300</td>\n",
       "      <td>1320000</td>\n",
       "      <td>1195078</td>\n",
       "      <td>839000</td>\n",
       "      <td>1339257</td>\n",
       "      <td>1908119</td>\n",
       "      <td>2131007</td>\n",
       "    </tr>\n",
       "    <tr>\n",
       "      <th>...</th>\n",
       "      <td>...</td>\n",
       "      <td>...</td>\n",
       "      <td>...</td>\n",
       "      <td>...</td>\n",
       "      <td>...</td>\n",
       "      <td>...</td>\n",
       "      <td>...</td>\n",
       "      <td>...</td>\n",
       "      <td>...</td>\n",
       "      <td>...</td>\n",
       "      <td>...</td>\n",
       "      <td>...</td>\n",
       "      <td>...</td>\n",
       "      <td>...</td>\n",
       "      <td>...</td>\n",
       "      <td>...</td>\n",
       "      <td>...</td>\n",
       "      <td>...</td>\n",
       "      <td>...</td>\n",
       "      <td>...</td>\n",
       "      <td>...</td>\n",
       "    </tr>\n",
       "    <tr>\n",
       "      <th>162</th>\n",
       "      <td>20805.22</td>\n",
       "      <td>15.54</td>\n",
       "      <td>42.39</td>\n",
       "      <td>29.12</td>\n",
       "      <td>29.27</td>\n",
       "      <td>6.84</td>\n",
       "      <td>16.05</td>\n",
       "      <td>20.42</td>\n",
       "      <td>18.75</td>\n",
       "      <td>18.77</td>\n",
       "      <td>...</td>\n",
       "      <td>-652174</td>\n",
       "      <td>652174</td>\n",
       "      <td>4386747</td>\n",
       "      <td>1261845</td>\n",
       "      <td>1828000</td>\n",
       "      <td>3096442</td>\n",
       "      <td>1768000</td>\n",
       "      <td>3422819</td>\n",
       "      <td>6433770</td>\n",
       "      <td>11466633</td>\n",
       "    </tr>\n",
       "    <tr>\n",
       "      <th>163</th>\n",
       "      <td>30472.45</td>\n",
       "      <td>27.61</td>\n",
       "      <td>38.92</td>\n",
       "      <td>34.75</td>\n",
       "      <td>34.33</td>\n",
       "      <td>3.24</td>\n",
       "      <td>17.31</td>\n",
       "      <td>21.59</td>\n",
       "      <td>19.37</td>\n",
       "      <td>19.22</td>\n",
       "      <td>...</td>\n",
       "      <td>-1485714</td>\n",
       "      <td>1485714</td>\n",
       "      <td>4017258</td>\n",
       "      <td>1123510</td>\n",
       "      <td>1746000</td>\n",
       "      <td>2727661</td>\n",
       "      <td>1590000</td>\n",
       "      <td>3059261</td>\n",
       "      <td>5686695</td>\n",
       "      <td>9070438</td>\n",
       "    </tr>\n",
       "    <tr>\n",
       "      <th>164</th>\n",
       "      <td>24414.13</td>\n",
       "      <td>9.06</td>\n",
       "      <td>22.31</td>\n",
       "      <td>14.40</td>\n",
       "      <td>14.21</td>\n",
       "      <td>3.60</td>\n",
       "      <td>9.74</td>\n",
       "      <td>16.81</td>\n",
       "      <td>13.63</td>\n",
       "      <td>13.79</td>\n",
       "      <td>...</td>\n",
       "      <td>-2065698</td>\n",
       "      <td>2065698</td>\n",
       "      <td>2615783</td>\n",
       "      <td>222222</td>\n",
       "      <td>1810000</td>\n",
       "      <td>2372051</td>\n",
       "      <td>1483000</td>\n",
       "      <td>2650423</td>\n",
       "      <td>4370763</td>\n",
       "      <td>5977733</td>\n",
       "    </tr>\n",
       "    <tr>\n",
       "      <th>165</th>\n",
       "      <td>17598.35</td>\n",
       "      <td>5.26</td>\n",
       "      <td>25.45</td>\n",
       "      <td>13.08</td>\n",
       "      <td>12.11</td>\n",
       "      <td>5.79</td>\n",
       "      <td>9.61</td>\n",
       "      <td>20.05</td>\n",
       "      <td>13.89</td>\n",
       "      <td>13.26</td>\n",
       "      <td>...</td>\n",
       "      <td>-1885790</td>\n",
       "      <td>1885790</td>\n",
       "      <td>2958064</td>\n",
       "      <td>395123</td>\n",
       "      <td>1691000</td>\n",
       "      <td>2284112</td>\n",
       "      <td>1407000</td>\n",
       "      <td>2574722</td>\n",
       "      <td>4401001</td>\n",
       "      <td>6037665</td>\n",
       "    </tr>\n",
       "    <tr>\n",
       "      <th>166</th>\n",
       "      <td>9995.51</td>\n",
       "      <td>19.30</td>\n",
       "      <td>40.08</td>\n",
       "      <td>30.47</td>\n",
       "      <td>32.06</td>\n",
       "      <td>6.23</td>\n",
       "      <td>12.00</td>\n",
       "      <td>18.40</td>\n",
       "      <td>16.60</td>\n",
       "      <td>17.50</td>\n",
       "      <td>...</td>\n",
       "      <td>770925</td>\n",
       "      <td>-770925</td>\n",
       "      <td>5614599</td>\n",
       "      <td>2339640</td>\n",
       "      <td>2185000</td>\n",
       "      <td>3960474</td>\n",
       "      <td>2255000</td>\n",
       "      <td>4179538</td>\n",
       "      <td>7290656</td>\n",
       "      <td>15262347</td>\n",
       "    </tr>\n",
       "  </tbody>\n",
       "</table>\n",
       "<p>167 rows × 171 columns</p>\n",
       "</div>"
      ],
      "text/plain": [
       "      target  b1_fpca2_0509_min  b1_fpca2_0509_max  b1_fpca2_0509_mean  \\\n",
       "0       0.00              13.78              47.00               25.85   \n",
       "1       0.00               0.75               2.87                1.69   \n",
       "2       0.00               2.12               6.42                4.37   \n",
       "3       0.00               0.75               3.29                1.82   \n",
       "4       0.00               2.12              13.78                4.97   \n",
       "..       ...                ...                ...                 ...   \n",
       "162 20805.22              15.54              42.39               29.12   \n",
       "163 30472.45              27.61              38.92               34.75   \n",
       "164 24414.13               9.06              22.31               14.40   \n",
       "165 17598.35               5.26              25.45               13.08   \n",
       "166  9995.51              19.30              40.08               30.47   \n",
       "\n",
       "     b1_fpca2_0509_med  b1_fpca2_0509_std  b1_h99a_01122_min  \\\n",
       "0                23.87               8.48               7.27   \n",
       "1                 1.49               0.70               4.38   \n",
       "2                 4.47               1.22               5.93   \n",
       "3                 1.64               0.70               3.66   \n",
       "4                 4.73               2.43               3.13   \n",
       "..                 ...                ...                ...   \n",
       "162              29.27               6.84              16.05   \n",
       "163              34.33               3.24              17.31   \n",
       "164              14.21               3.60               9.74   \n",
       "165              12.11               5.79               9.61   \n",
       "166              32.06               6.23              12.00   \n",
       "\n",
       "     b1_h99a_01122_max  b1_h99a_01122_mean  b1_h99a_01122_med  ...    NDGIm  \\\n",
       "0                11.78                9.24               8.86  ... -1797183   \n",
       "1                 8.97                6.83               7.18  ... -1237840   \n",
       "2                 8.85                7.68               7.68  ... -1493838   \n",
       "3                 7.09                4.98               4.85  ... -1481481   \n",
       "4                 5.82                4.55               4.43  ... -1563211   \n",
       "..                 ...                 ...                ...  ...      ...   \n",
       "162              20.42               18.75              18.77  ...  -652174   \n",
       "163              21.59               19.37              19.22  ... -1485714   \n",
       "164              16.81               13.63              13.79  ... -2065698   \n",
       "165              20.05               13.89              13.26  ... -1885790   \n",
       "166              18.40               16.60              17.50  ...   770925   \n",
       "\n",
       "         RIm     NBRm    NDIIm    GDVIm   MSAVIm     DVIm    SAVIm    NDVIm  \\\n",
       "0    1797183   803085 -1648544  1653000  2108509  1334000  2374229  3891482   \n",
       "1    1237840   145478 -1258856  1100000  1063379   731000  1207466  1791228   \n",
       "2    1493838   965693  -982236  1174000   951763   677000  1068835  1504110   \n",
       "3    1481481    -2046 -1713026  1178000  1068186   738000  1210101  1779171   \n",
       "4    1563211   758167  -969300  1320000  1195078   839000  1339257  1908119   \n",
       "..       ...      ...      ...      ...      ...      ...      ...      ...   \n",
       "162   652174  4386747  1261845  1828000  3096442  1768000  3422819  6433770   \n",
       "163  1485714  4017258  1123510  1746000  2727661  1590000  3059261  5686695   \n",
       "164  2065698  2615783   222222  1810000  2372051  1483000  2650423  4370763   \n",
       "165  1885790  2958064   395123  1691000  2284112  1407000  2574722  4401001   \n",
       "166  -770925  5614599  2339640  2185000  3960474  2255000  4179538  7290656   \n",
       "\n",
       "         MSRm  \n",
       "0     5080174  \n",
       "1     1985065  \n",
       "2     1636492  \n",
       "3     1970149  \n",
       "4     2131007  \n",
       "..        ...  \n",
       "162  11466633  \n",
       "163   9070438  \n",
       "164   5977733  \n",
       "165   6037665  \n",
       "166  15262347  \n",
       "\n",
       "[167 rows x 171 columns]"
      ]
     },
     "execution_count": 17,
     "metadata": {},
     "output_type": "execute_result"
    }
   ],
   "source": [
    "df_ml"
   ]
  },
  {
   "cell_type": "markdown",
   "metadata": {},
   "source": [
    "## Qty of 0 values dataset "
   ]
  },
  {
   "cell_type": "code",
   "execution_count": 18,
   "metadata": {},
   "outputs": [
    {
     "name": "stdout",
     "output_type": "stream",
     "text": [
      "pathway  D:\\cdu\\data\\zonal_stats\\output\\20230219\\ml_svc_reg_dir\\data_set\\20230219_101604\\no0_values\n",
      "D:\\cdu\\data\\zonal_stats\\output\\20230219\\ml_svc_reg_dir\\data_set\\20230219_101604\\no0_values\n"
     ]
    }
   ],
   "source": [
    "model_data = df_ml\n",
    "model_data_name = \"all_values\"\n",
    "\n",
    "# ## Filter out all taregt == 0 values\n",
    "model_data = df_ml[df_ml['target']>0]\n",
    "model_data_name = \"no0_values\"\n",
    "\n",
    "# # ## Filter out all taregt == 0 values\n",
    "# model_data = df_ml[(df_ml['target']>0) & (df_ml['target']!=9)]\n",
    "# model_data_name = \"no0or9_values\"\n",
    "\n",
    "\n",
    "# ## Select a randon number of 0 values\n",
    "# n = 3\n",
    "# agb_0 = df_ml[df_ml['target']==0.0].sample(n)\n",
    "# model_data = pd.concat([df_ml[df_ml['target']>0.0], agb_0])\n",
    "# model_data_name = f\"s{n}_0_values\"\n",
    "\n",
    "\n",
    "model_outputs = os.path.join(export_ml_rf_reg_dir, f\"{model_data_name}\")\n",
    "mk_dir_fn(model_outputs)\n",
    "\n",
    "print(model_outputs)"
   ]
  },
  {
   "cell_type": "code",
   "execution_count": 19,
   "metadata": {},
   "outputs": [],
   "source": [
    "#model_data.target.value_counts()"
   ]
  },
  {
   "cell_type": "code",
   "execution_count": 20,
   "metadata": {},
   "outputs": [
    {
     "name": "stderr",
     "output_type": "stream",
     "text": [
      "C:\\ProgramData\\Anaconda3\\envs\\biomass_zonal\\lib\\site-packages\\ipykernel_launcher.py:1: SettingWithCopyWarning: \n",
      "A value is trying to be set on a copy of a slice from a DataFrame\n",
      "\n",
      "See the caveats in the documentation: https://pandas.pydata.org/pandas-docs/stable/user_guide/indexing.html#returning-a-view-versus-a-copy\n",
      "  \"\"\"Entry point for launching an IPython kernel.\n"
     ]
    }
   ],
   "source": [
    "model_data.dropna(inplace=True)"
   ]
  },
  {
   "cell_type": "code",
   "execution_count": 23,
   "metadata": {},
   "outputs": [
    {
     "name": "stdout",
     "output_type": "stream",
     "text": [
      "['target', 'b1_fpca2_0509_min', 'b1_fpca2_0509_max', 'b1_fpca2_0509_mean', 'b1_fpca2_0509_med', 'b1_fpca2_0509_std', 'b1_h99a_01122_min', 'b1_h99a_01122_max', 'b1_h99a_01122_mean', 'b1_h99a_01122_med', 'b1_h99a_01122_std', 'b1_dbi_0608_min', 'b1_dbi_0608_max', 'b1_dbi_0608_mean', 'b1_dbi_0608_med', 'b1_dbi_0608_std', 'b2_dbi_0608_min', 'b2_dbi_0608_max', 'b2_dbi_0608_mean', 'b2_dbi_0608_med', 'b2_dbi_0608_std', 'b3_dbi_0608_min', 'b3_dbi_0608_max', 'b3_dbi_0608_mean', 'b3_dbi_0608_med', 'b3_dbi_0608_std', 'b4_dbi_0608_min', 'b4_dbi_0608_max', 'b4_dbi_0608_mean', 'b4_dbi_0608_med', 'b4_dbi_0608_std', 'b5_dbi_0608_min', 'b5_dbi_0608_max', 'b5_dbi_0608_mean', 'b5_dbi_0608_med', 'b5_dbi_0608_std', 'b6_dbi_0608_min', 'b6_dbi_0608_max', 'b6_dbi_0608_mean', 'b6_dbi_0608_med', 'b6_dbi_0608_std', 'b1_dja_0305_min', 'b1_dja_0305_max', 'b1_dja_0305_mean', 'b1_dja_0305_med', 'b1_dja_0305_std', 'b1_dim_0305_min', 'b1_dim_0305_max', 'b1_dim_0305_mean', 'b1_dim_0305_med', 'b1_dim_0305_std', 'b2_dim_0305_min', 'b2_dim_0305_max', 'b2_dim_0305_mean', 'b2_dim_0305_med', 'b2_dim_0305_std', 'b3_dim_0305_min', 'b3_dim_0305_max', 'b3_dim_0305_mean', 'b3_dim_0305_med', 'b3_dim_0305_std', 'b1_dim_0608_min', 'b1_dim_0608_max', 'b1_dim_0608_mean', 'b1_dim_0608_med', 'b1_dim_0608_std', 'b2_dim_0608_min', 'b2_dim_0608_max', 'b2_dim_0608_mean', 'b2_dim_0608_med', 'b2_dim_0608_std', 'b3_dim_0608_min', 'b3_dim_0608_max', 'b3_dim_0608_mean', 'b3_dim_0608_med', 'b3_dim_0608_std', 'b1_dim_0911_min', 'b1_dim_0911_max', 'b1_dim_0911_mean', 'b1_dim_0911_med', 'b1_dim_0911_std', 'b2_dim_0911_min', 'b2_dim_0911_max', 'b2_dim_0911_mean', 'b2_dim_0911_med', 'b2_dim_0911_std', 'b3_dim_0911_min', 'b3_dim_0911_max', 'b3_dim_0911_mean', 'b3_dim_0911_med', 'b3_dim_0911_std', 'b1_dim_1202_min', 'b1_dim_1202_max', 'b1_dim_1202_mean', 'b1_dim_1202_med', 'b1_dim_1202_std', 'b2_dim_1202_min', 'b2_dim_1202_max', 'b2_dim_1202_mean', 'b2_dim_1202_med', 'b2_dim_1202_std', 'b3_dim_1202_min', 'b3_dim_1202_max', 'b3_dim_1202_mean', 'b3_dim_1202_med', 'b3_dim_1202_std', 'dka_0112_min', 'dka_0112_max', 'dka_0112_mean', 'dka_0112_std', 'dka_0112_med', 'dka_0112_minor', 'burnt', 'fire_f', 'fire_tot', 'since_fire', 'fire_gap', 'fire_pois1_5', 'b1_dp1_0112_min', 'b1_dp1_0112_max', 'b1_dp1_0112_mean', 'b1_dp1_0112_std', 'b1_dp1_0112_med', 'b2_dp1_0112_min', 'b2_dp1_0112_max', 'b2_dp1_0112_mean', 'b2_dp1_0112_std', 'b2_dp1_0112_med', 'b3_dp1_0112_min', 'b3_dp1_0112_max', 'b3_dp1_0112_mean', 'b3_dp1_0112_med', 'b3_dp1_0112_std', 'b1_dp1_0509_min', 'b1_dp1_0509_max', 'b1_dp1_0509_mean', 'b1_dp1_0509_std', 'b1_dp1_0509_med', 'b2_dp1_0509_min', 'b2_dp1_0509_max', 'b2_dp1_0509_mean', 'b2_dp1_0509_std', 'b2_dp1_0509_med', 'b3_dp1_0509_min', 'b3_dp1_0509_max', 'b3_dp1_0509_mean', 'b3_dp1_0509_med', 'b3_dp1_0509_std', 'ratio32m', 'ratio42m', 'ratio43m', 'ratio52m', 'ratio53m', 'ratio54m', 'ratio62m', 'ratio63m', 'ratio64m', 'ratio65m', 'GSAVIm', 'GNDVIm', 'CVIm', 'NDGIm', 'RIm', 'NBRm', 'NDIIm', 'GDVIm', 'MSAVIm', 'DVIm', 'SAVIm', 'NDVIm', 'MSRm']\n"
     ]
    }
   ],
   "source": [
    "print(list(model_data.columns))"
   ]
  },
  {
   "cell_type": "markdown",
   "metadata": {},
   "source": [
    " Define if you are using all variabes or selected variables"
   ]
  },
  {
   "cell_type": "code",
   "execution_count": 39,
   "metadata": {},
   "outputs": [],
   "source": [
    "# from sklean.model\n",
    "# randomly split data into train and test datasets, the user needs to define the variables \n",
    "data_x = model_data[\"b1_fpca2_0509_mean\"].astype('float32')\n",
    "data_y = model_data[\"target\"].astype('int')\n",
    "# ydata2 = ydata1.values\n",
    "# ydata = ydata2.ravel()\n",
    "\n",
    "# Split the data into a training set and a test set\n",
    "train_x, valid_x, train_y, valid_y = train_test_split(data_x, data_y, test_size=0.33, random_state = 1) \n",
    "         \n",
    "#y_test.value_counts()\n",
    "# print(X_test.shape, y_test.shape)"
   ]
  },
  {
   "cell_type": "markdown",
   "metadata": {},
   "source": [
    "### Improvement over Linear Regression: Polynomial Regression"
   ]
  },
  {
   "cell_type": "code",
   "execution_count": 40,
   "metadata": {
    "scrolled": false
   },
   "outputs": [
    {
     "name": "stdout",
     "output_type": "stream",
     "text": [
      "[   7.41167716  320.462006   1642.49988182]\n"
     ]
    },
    {
     "data": {
      "image/png": "[encoded data removed]",
      "text/plain": [
       "<Figure size 432x288 with 1 Axes>"
      ]
     },
     "metadata": {
      "needs_background": "light"
     },
     "output_type": "display_data"
    },
    {
     "name": "stdout",
     "output_type": "stream",
     "text": [
      "[ 2.88683861e-02 -9.37284205e-01 -1.31932340e+01  9.70430248e+02\n",
      " -9.12567587e+02]\n"
     ]
    },
    {
     "data": {
      "image/png": "[encoded data removed]",
      "text/plain": [
       "<Figure size 432x288 with 1 Axes>"
      ]
     },
     "metadata": {
      "needs_background": "light"
     },
     "output_type": "display_data"
    },
    {
     "name": "stdout",
     "output_type": "stream",
     "text": [
      "[ 3.08853468e-13 -1.56418240e-11 -4.16848864e-10  9.76688712e-09\n",
      "  8.85639511e-07  1.11413438e-05 -1.10284783e-03 -3.08484673e-02\n",
      "  1.93688500e+00 -3.24287461e+01  2.40511839e+02 -1.07846311e+02\n",
      "  5.62197418e+02]\n"
     ]
    },
    {
     "name": "stderr",
     "output_type": "stream",
     "text": [
      "C:\\ProgramData\\Anaconda3\\envs\\biomass_zonal\\lib\\site-packages\\IPython\\core\\interactiveshell.py:2878: RankWarning: Polyfit may be poorly conditioned\n",
      "  exec(code_obj, self.user_global_ns, self.user_ns)\n"
     ]
    },
    {
     "data": {
      "image/png": "[encoded data removed]",
      "text/plain": [
       "<Figure size 432x288 with 1 Axes>"
      ]
     },
     "metadata": {
      "needs_background": "light"
     },
     "output_type": "display_data"
    },
    {
     "name": "stdout",
     "output_type": "stream",
     "text": [
      "[ 6.44262156e-19 -2.49444277e-17 -1.06989610e-15 -5.35004722e-15\n",
      "  1.35102285e-12  7.16086471e-11  1.15684400e-09 -6.98987964e-08\n",
      " -5.07348755e-06 -6.34346954e-05  7.60257772e-03  2.29872979e-01\n",
      " -1.62968961e+01  2.95364162e+02 -2.22856781e+03  7.30939907e+03\n",
      " -5.60204390e+03]\n"
     ]
    },
    {
     "name": "stderr",
     "output_type": "stream",
     "text": [
      "C:\\ProgramData\\Anaconda3\\envs\\biomass_zonal\\lib\\site-packages\\IPython\\core\\interactiveshell.py:2878: RankWarning: Polyfit may be poorly conditioned\n",
      "  exec(code_obj, self.user_global_ns, self.user_ns)\n"
     ]
    },
    {
     "data": {
      "image/png": "[encoded data removed]",
      "text/plain": [
       "<Figure size 432x288 with 1 Axes>"
      ]
     },
     "metadata": {
      "needs_background": "light"
     },
     "output_type": "display_data"
    },
    {
     "name": "stdout",
     "output_type": "stream",
     "text": [
      "[-2.32524754e-33  1.64082889e-32  2.85174837e-30  1.28081072e-28\n",
      "  3.48150549e-27  2.25979342e-26 -4.15252306e-24 -3.19030187e-22\n",
      " -1.47834027e-20 -4.63655817e-19 -5.75894110e-18  4.41365184e-16\n",
      "  4.05776400e-14  1.89166066e-12  4.67269594e-11 -6.74885767e-10\n",
      " -1.29152759e-07 -5.62108501e-06 -9.07040397e-06  1.07493338e-02\n",
      "  2.43843336e-01 -2.19743796e+01  4.20521356e+02 -3.25675032e+03\n",
      "  1.05296473e+04 -8.32681334e+03]\n"
     ]
    },
    {
     "name": "stderr",
     "output_type": "stream",
     "text": [
      "C:\\ProgramData\\Anaconda3\\envs\\biomass_zonal\\lib\\site-packages\\IPython\\core\\interactiveshell.py:2878: RankWarning: Polyfit may be poorly conditioned\n",
      "  exec(code_obj, self.user_global_ns, self.user_ns)\n"
     ]
    },
    {
     "data": {
      "image/png": "[encoded data removed]",
      "text/plain": [
       "<Figure size 432x288 with 1 Axes>"
      ]
     },
     "metadata": {
      "needs_background": "light"
     },
     "output_type": "display_data"
    }
   ],
   "source": [
    "for n in [2, 4, 12, 16, 25]:# Generating weights for polynomial function with degree =2\n",
    "    weights = np.polyfit(train_x, train_y, n)\n",
    "    print(weights)\n",
    "    # -> array([ -0.05194765,   5.22868974, -10.03406116])\n",
    "\n",
    "    # Generating model with the given weights\n",
    "    model = np.poly1d(weights)\n",
    "\n",
    "    # Prediction on validation set\n",
    "    pred = model(valid_x)\n",
    "    # We will plot the graph for 70 observations only\n",
    "    xp = np.linspace(valid_x.min(),valid_x.max(),70)\n",
    "    pred_plot = model(xp)\n",
    "    plt.scatter(valid_x, valid_y, facecolor='None', edgecolor='k', alpha=0.3)\n",
    "    plt.plot(xp, pred_plot)\n",
    "    plt.show()"
   ]
  },
  {
   "cell_type": "code",
   "execution_count": 52,
   "metadata": {},
   "outputs": [
    {
     "data": {
      "text/plain": [
       "(0.754, 10.961]     35\n",
       "(10.961, 21.127]    24\n",
       "(21.127, 31.293]     8\n",
       "(31.293, 41.459]     6\n",
       "Name: b1_fpca2_0509_mean, dtype: int64"
      ]
     },
     "execution_count": 52,
     "metadata": {},
     "output_type": "execute_result"
    }
   ],
   "source": [
    "# Dividing the data into 4 bins\n",
    "df_cut, bins = pd.cut(train_x, 4, retbins=True, right=True)\n",
    "df_cut.value_counts(sort=False)"
   ]
  },
  {
   "cell_type": "code",
   "execution_count": 53,
   "metadata": {},
   "outputs": [
    {
     "data": {
      "text/html": [
       "<div>\n",
       "<style scoped>\n",
       "    .dataframe tbody tr th:only-of-type {\n",
       "        vertical-align: middle;\n",
       "    }\n",
       "\n",
       "    .dataframe tbody tr th {\n",
       "        vertical-align: top;\n",
       "    }\n",
       "\n",
       "    .dataframe thead th {\n",
       "        text-align: right;\n",
       "    }\n",
       "</style>\n",
       "<table border=\"1\" class=\"dataframe\">\n",
       "  <thead>\n",
       "    <tr style=\"text-align: right;\">\n",
       "      <th></th>\n",
       "      <th>(0.754, 10.961]</th>\n",
       "      <th>(10.961, 21.127]</th>\n",
       "      <th>(21.127, 31.293]</th>\n",
       "      <th>(31.293, 41.459]</th>\n",
       "    </tr>\n",
       "  </thead>\n",
       "  <tbody>\n",
       "    <tr>\n",
       "      <th>166</th>\n",
       "      <td>0</td>\n",
       "      <td>0</td>\n",
       "      <td>1</td>\n",
       "      <td>0</td>\n",
       "    </tr>\n",
       "    <tr>\n",
       "      <th>45</th>\n",
       "      <td>1</td>\n",
       "      <td>0</td>\n",
       "      <td>0</td>\n",
       "      <td>0</td>\n",
       "    </tr>\n",
       "    <tr>\n",
       "      <th>55</th>\n",
       "      <td>0</td>\n",
       "      <td>0</td>\n",
       "      <td>1</td>\n",
       "      <td>0</td>\n",
       "    </tr>\n",
       "    <tr>\n",
       "      <th>139</th>\n",
       "      <td>0</td>\n",
       "      <td>1</td>\n",
       "      <td>0</td>\n",
       "      <td>0</td>\n",
       "    </tr>\n",
       "    <tr>\n",
       "      <th>59</th>\n",
       "      <td>0</td>\n",
       "      <td>0</td>\n",
       "      <td>0</td>\n",
       "      <td>1</td>\n",
       "    </tr>\n",
       "  </tbody>\n",
       "</table>\n",
       "</div>"
      ],
      "text/plain": [
       "     (0.754, 10.961]  (10.961, 21.127]  (21.127, 31.293]  (31.293, 41.459]\n",
       "166                0                 0                 1                 0\n",
       "45                 1                 0                 0                 0\n",
       "55                 0                 0                 1                 0\n",
       "139                0                 1                 0                 0\n",
       "59                 0                 0                 0                 1"
      ]
     },
     "execution_count": 53,
     "metadata": {},
     "output_type": "execute_result"
    }
   ],
   "source": [
    "df_steps = pd.concat([train_x, df_cut, train_y], keys=['age','age_cuts','wage'], axis=1)\n",
    "\n",
    "# Create dummy variables for the age groups\n",
    "df_steps_dummies = pd.get_dummies(df_cut)\n",
    "df_steps_dummies.head()"
   ]
  },
  {
   "cell_type": "code",
   "execution_count": 54,
   "metadata": {},
   "outputs": [
    {
     "name": "stdout",
     "output_type": "stream",
     "text": [
      "6272.582820315961\n"
     ]
    }
   ],
   "source": [
    "import statsmodels.api as sm\n",
    "df_steps_dummies.columns = ['17.938-33.5','33.5-49','49-64.5','64.5-80'] \n",
    "\n",
    "# Fitting Generalised linear models\n",
    "fit3 = sm.GLM(df_steps.wage, df_steps_dummies).fit()\n",
    "\n",
    "# Binning validation set into same 4 bins\n",
    "bin_mapping = np.digitize(valid_x, bins) \n",
    "X_valid = pd.get_dummies(bin_mapping)\n",
    "\n",
    "# Removing any outliers\n",
    "X_valid = pd.get_dummies(bin_mapping).drop([5], axis=1)\n",
    "\n",
    "# Prediction\n",
    "pred2 = fit3.predict(X_valid)\n",
    "\n",
    "# Calculating RMSE\n",
    "from sklearn.metrics import mean_squared_error \n",
    "from math import sqrt \n",
    "rms = sqrt(mean_squared_error(valid_y, pred2)) \n",
    "print(rms)"
   ]
  },
  {
   "cell_type": "code",
   "execution_count": 59,
   "metadata": {},
   "outputs": [
    {
     "ename": "ValueError",
     "evalue": "shapes (70,5) and (4,) not aligned: 5 (dim 1) != 4 (dim 0)",
     "output_type": "error",
     "traceback": [
      "\u001b[1;31m---------------------------------------------------------------------------\u001b[0m",
      "\u001b[1;31mValueError\u001b[0m                                Traceback (most recent call last)",
      "\u001b[1;32m<ipython-input-59-5c3350770e1f>\u001b[0m in \u001b[0;36m<module>\u001b[1;34m()\u001b[0m\n\u001b[0;32m      3\u001b[0m \u001b[0mbin_mapping\u001b[0m \u001b[1;33m=\u001b[0m \u001b[0mnp\u001b[0m\u001b[1;33m.\u001b[0m\u001b[0mdigitize\u001b[0m\u001b[1;33m(\u001b[0m\u001b[0mxp\u001b[0m\u001b[1;33m,\u001b[0m \u001b[0mbins\u001b[0m\u001b[1;33m)\u001b[0m\u001b[1;33m\u001b[0m\u001b[1;33m\u001b[0m\u001b[0m\n\u001b[0;32m      4\u001b[0m \u001b[0mX_valid_2\u001b[0m \u001b[1;33m=\u001b[0m \u001b[0mpd\u001b[0m\u001b[1;33m.\u001b[0m\u001b[0mget_dummies\u001b[0m\u001b[1;33m(\u001b[0m\u001b[0mbin_mapping\u001b[0m\u001b[1;33m)\u001b[0m\u001b[1;33m\u001b[0m\u001b[1;33m\u001b[0m\u001b[0m\n\u001b[1;32m----> 5\u001b[1;33m \u001b[0mpred2\u001b[0m \u001b[1;33m=\u001b[0m \u001b[0mfit3\u001b[0m\u001b[1;33m.\u001b[0m\u001b[0mpredict\u001b[0m\u001b[1;33m(\u001b[0m\u001b[0mX_valid_2\u001b[0m\u001b[1;33m)\u001b[0m\u001b[1;33m\u001b[0m\u001b[1;33m\u001b[0m\u001b[0m\n\u001b[0m\u001b[0;32m      6\u001b[0m \u001b[1;31m# # Visualisation\u001b[0m\u001b[1;33m\u001b[0m\u001b[1;33m\u001b[0m\u001b[1;33m\u001b[0m\u001b[0m\n\u001b[0;32m      7\u001b[0m \u001b[1;31m# fig, (ax1) = plt.subplots(1,1, figsize=(12,5))\u001b[0m\u001b[1;33m\u001b[0m\u001b[1;33m\u001b[0m\u001b[1;33m\u001b[0m\u001b[0m\n",
      "\u001b[1;32mC:\\ProgramData\\Anaconda3\\envs\\biomass_zonal\\lib\\site-packages\\statsmodels\\base\\model.py\u001b[0m in \u001b[0;36mpredict\u001b[1;34m(self, exog, transform, *args, **kwargs)\u001b[0m\n\u001b[0;32m   1098\u001b[0m \u001b[1;33m\u001b[0m\u001b[0m\n\u001b[0;32m   1099\u001b[0m         predict_results = self.model.predict(self.params, exog, *args,\n\u001b[1;32m-> 1100\u001b[1;33m                                              **kwargs)\n\u001b[0m\u001b[0;32m   1101\u001b[0m \u001b[1;33m\u001b[0m\u001b[0m\n\u001b[0;32m   1102\u001b[0m         if exog_index is not None and not hasattr(predict_results,\n",
      "\u001b[1;32mC:\\ProgramData\\Anaconda3\\envs\\biomass_zonal\\lib\\site-packages\\statsmodels\\genmod\\generalized_linear_model.py\u001b[0m in \u001b[0;36mpredict\u001b[1;34m(self, params, exog, exposure, offset, linear)\u001b[0m\n\u001b[0;32m    894\u001b[0m             \u001b[0mexog\u001b[0m \u001b[1;33m=\u001b[0m \u001b[0mself\u001b[0m\u001b[1;33m.\u001b[0m\u001b[0mexog\u001b[0m\u001b[1;33m\u001b[0m\u001b[1;33m\u001b[0m\u001b[0m\n\u001b[0;32m    895\u001b[0m \u001b[1;33m\u001b[0m\u001b[0m\n\u001b[1;32m--> 896\u001b[1;33m         \u001b[0mlinpred\u001b[0m \u001b[1;33m=\u001b[0m \u001b[0mnp\u001b[0m\u001b[1;33m.\u001b[0m\u001b[0mdot\u001b[0m\u001b[1;33m(\u001b[0m\u001b[0mexog\u001b[0m\u001b[1;33m,\u001b[0m \u001b[0mparams\u001b[0m\u001b[1;33m)\u001b[0m \u001b[1;33m+\u001b[0m \u001b[0moffset\u001b[0m \u001b[1;33m+\u001b[0m \u001b[0mexposure\u001b[0m\u001b[1;33m\u001b[0m\u001b[1;33m\u001b[0m\u001b[0m\n\u001b[0m\u001b[0;32m    897\u001b[0m         \u001b[1;32mif\u001b[0m \u001b[0mlinear\u001b[0m\u001b[1;33m:\u001b[0m\u001b[1;33m\u001b[0m\u001b[1;33m\u001b[0m\u001b[0m\n\u001b[0;32m    898\u001b[0m             \u001b[1;32mreturn\u001b[0m \u001b[0mlinpred\u001b[0m\u001b[1;33m\u001b[0m\u001b[1;33m\u001b[0m\u001b[0m\n",
      "\u001b[1;32m<__array_function__ internals>\u001b[0m in \u001b[0;36mdot\u001b[1;34m(*args, **kwargs)\u001b[0m\n",
      "\u001b[1;31mValueError\u001b[0m: shapes (70,5) and (4,) not aligned: 5 (dim 1) != 4 (dim 0)"
     ]
    }
   ],
   "source": [
    "# We will plot the graph for 70 observations only\n",
    "xp = np.linspace(valid_x.min(),valid_x.max()-1,70) \n",
    "bin_mapping = np.digitize(xp, bins) \n",
    "X_valid_2 = pd.get_dummies(bin_mapping) \n",
    "pred2 = fit3.predict(X_valid_2)\n",
    "# # Visualisation\n",
    "# fig, (ax1) = plt.subplots(1,1, figsize=(12,5))\n",
    "# fig.suptitle('Piecewise Constant', fontsize=14)\n",
    "\n",
    "# # Scatter plot with polynomial regression line\n",
    "# ax1.scatter(train_x, train_y, facecolor='None', edgecolor='k', alpha=0.3)\n",
    "# ax1.plot(xp, pred2, c='b')\n",
    "\n",
    "# ax1.set_xlabel('age')\n",
    "# ax1.set_ylabel('wage')\n",
    "# plt.show()"
   ]
  },
  {
   "cell_type": "code",
   "execution_count": 58,
   "metadata": {},
   "outputs": [
    {
     "data": {
      "text/plain": [
       "1  2  3  4  5\n",
       "0  0  0  0  1    21\n",
       "      1  0  0    13\n",
       "1  0  0  0  0    12\n",
       "0  1  0  0  0    12\n",
       "   0  0  1  0    12\n",
       "dtype: int64"
      ]
     },
     "execution_count": 58,
     "metadata": {},
     "output_type": "execute_result"
    }
   ],
   "source": [
    "X_valid_2.value_counts()"
   ]
  },
  {
   "cell_type": "code",
   "execution_count": null,
   "metadata": {},
   "outputs": [],
   "source": []
  },
  {
   "cell_type": "code",
   "execution_count": null,
   "metadata": {},
   "outputs": [],
   "source": []
  },
  {
   "cell_type": "code",
   "execution_count": 27,
   "metadata": {},
   "outputs": [],
   "source": [
    "def train_model_plot(X_train, y_train, model, str_model, x_limit, y_limit, x_off, y_off):\n",
    "    \n",
    "    print(\"=\"*50)\n",
    "    print(str_model)\n",
    "    print(\"Train model\")\n",
    "    print(\"=\"*50)\n",
    "\n",
    "    # fit model with training data\n",
    "    model.fit(X_train, y_train)\n",
    "\n",
    "    r2 = round(model.score(X_train, y_train), 2)\n",
    "    mse = round(np.mean((y_train - model.predict(X_train))**2), 2)\n",
    "\n",
    "   \n",
    "    print(f\"R2: {r2}\")\n",
    "    print(f\"MSE: {mse}\")\n",
    "    #print('intercept:', model.intercept_)\n",
    "    #print('slope:', model.coef_) \n",
    "\n",
    "\n",
    "    # plotting the training datat\n",
    "    plt.title(f\"Model: {str_model.replace('_', ' ')} - Data: training\")\n",
    "    plt.scatter(model.predict(X_train), y_train)  \n",
    "    x = [x_limit,y_limit]\n",
    "    y = [x_limit, y_limit]\n",
    "\n",
    "    #sets the limits of the axis\n",
    "    plt.xlim(x_limit, y_limit)\n",
    "    plt.ylim(x_limit, y_limit)\n",
    "\n",
    "    plt.ylabel('Observed target')\n",
    "\n",
    "    plt.xlabel('Predicted target')\n",
    "\n",
    "    # 1 for 1 line\n",
    "    #adding text inside the plot\n",
    "    plt.text((x_limit + x_off), (y_limit - y_off), f'$R^2 = {round(r2, 4)}$', fontsize = 12)\n",
    "    plt.text((x_limit + x_off), (y_limit - (y_off*2)), f'$MSE = {round(mse, 4)}$', fontsize = 12)\n",
    "#     plt.text((x_limit + x_off), (y_limit - (y_off*2)), f'$MSE = {120}$', fontsize = 12)\n",
    "    plt.text((x_limit + x_off), (y_limit - (y_off*3)), f'$n = {len(y_train)}$', fontsize = 12)\n",
    "\n",
    "\n",
    "    plt.plot(x, y, color = 'r')\n",
    "\n",
    "    plot_out = os.path.join(model_outputs, f'{str_model}_train_plot.jpg')\n",
    "    plt.savefig(plot_out,dpi=600)# save out your figure to a pdf \n",
    "    print(f\"plot saved to: {plot_out}\")\n",
    "    plt.show()\n",
    "    \n",
    "    \n",
    "    # ------------------------------------ Predict Test ----------------------------------\n",
    "    print(\"=\"*50)\n",
    "    print(str_model)\n",
    "    print(\"Test model\")\n",
    "    print(\"=\"*50)\n",
    "\n",
    "    \n",
    "    # call the model\n",
    "    y_test_predict = model.predict(X_test)\n",
    "\n",
    "\n",
    "    r2 = model.score(X_test, y_test)\n",
    "    mse = np.mean((y_test - model.predict(X_test))** 2)\n",
    "    rmse = np.sqrt(np.mean((y_test_predict - y_test) ** 2))\n",
    "    bias = np.mean(y_test) - np.mean(y_test_predict)\n",
    "    print('Predicted data r2 =', r2)\n",
    "    print('MSE =', mse)\n",
    "#     print(f\"Intercept: {model.intercept_}\")\n",
    "    #print(f\"Slope: {model.coef_}\")\n",
    "#     print('RMSE =', format(rmse, '.3f'))\n",
    "#     print('bias =' , format(bias, '.3f'))\n",
    "#     print('n =' , len(y_test))\n",
    "\n",
    "\n",
    "    # r2 = round(rfrLCHM.score(X_1, y_1), 2)\n",
    "    # mse = round(np.mean((y_1 - rfrLCHM.predict(X_1))**2), 2)\n",
    "    # rmse = round(np.sqrt(np.mean((y2_predict - y_2) ** 2)), 2)\n",
    "    # bias = round(np.mean(y_2) - np.mean(y2_predict), 2)\n",
    "\n",
    "    # plotting the training datat\n",
    "    plt.title(f\"Model: {str_model.replace('_', ' ')} - Data: testing\")\n",
    "    \n",
    "    plt.scatter(y_test_predict, y_test) #, s=10, c='b', marker='o')\n",
    "    # data for the 1 for 1 line\n",
    "    x = [x_limit,y_limit]\n",
    "    y = [x_limit, y_limit]\n",
    "\n",
    "    #sets the limits of the axis\n",
    "    plt.xlim(x_limit, y_limit)\n",
    "    plt.ylim(x_limit, y_limit)\n",
    "    plt.ylabel('Observed')\n",
    "    plt.xlabel('Predicted')\n",
    "    # 1 for 1 line\n",
    "\n",
    "    #adding text inside the plot\n",
    "    plt.text((x_limit + x_off), (y_limit - y_off), f'$R^2 = {round(r2, 4)}$', fontsize = 12)\n",
    "    plt.text((x_limit + x_off), (y_limit - (y_off*2)), f'$MSE = {round(mse, 4)}$', fontsize = 12)\n",
    "    plt.text((x_limit + x_off), (y_limit - (y_off*3)), f'$RMSE = {round(rmse, 4)}$', fontsize = 12)\n",
    "    plt.text((x_limit + x_off), (y_limit - (y_off*4)), f'$Bias = {round(bias, 4)}$', fontsize = 12)\n",
    "    plt.text((x_limit + x_off), (y_limit - (y_off*5)), f'$n = {len(y_test)}$', fontsize = 12)\n",
    "\n",
    "    plt.plot(x, y, color = 'r')\n",
    "    plot_out = os.path.join(model_outputs, f'{str_model}_test_plot.jpg')\n",
    "    plt.savefig(plot_out,dpi=600)# save out your figure to a pdf \n",
    "    print(f\"plot saved to: {plot_out}\")\n",
    "    plt.show()    \n",
    "    \n",
    "    \n",
    "    return str_model, model"
   ]
  },
  {
   "cell_type": "code",
   "execution_count": 28,
   "metadata": {
    "scrolled": false
   },
   "outputs": [
    {
     "name": "stdout",
     "output_type": "stream",
     "text": [
      "==================================================\n",
      "Linear_regression\n",
      "Train model\n",
      "==================================================\n",
      "R2: 0.92\n",
      "MSE: 5190557.71\n",
      "plot saved to: D:\\cdu\\data\\zonal_stats\\output\\20230219\\ml_svc_reg_dir\\data_set\\20230219_092853\\no0_values\\Linear_regression_train_plot.jpg\n"
     ]
    },
    {
     "data": {
      "image/png": "[encoded data removed]",
      "text/plain": [
       "<Figure size 432x288 with 1 Axes>"
      ]
     },
     "metadata": {
      "needs_background": "light"
     },
     "output_type": "display_data"
    },
    {
     "name": "stdout",
     "output_type": "stream",
     "text": [
      "==================================================\n",
      "Linear_regression\n",
      "Test model\n",
      "==================================================\n",
      "Predicted data r2 = -1.2324864454600504\n",
      "MSE = 108700516.3626154\n",
      "plot saved to: D:\\cdu\\data\\zonal_stats\\output\\20230219\\ml_svc_reg_dir\\data_set\\20230219_092853\\no0_values\\Linear_regression_test_plot.jpg\n"
     ]
    },
    {
     "data": {
      "image/png": "[encoded data removed]",
      "text/plain": [
       "<Figure size 432x288 with 1 Axes>"
      ]
     },
     "metadata": {
      "needs_background": "light"
     },
     "output_type": "display_data"
    }
   ],
   "source": [
    "str_model, model = train_model_plot(X_train, y_train, LinearRegression(),\n",
    "                                    \"Linear_regression\", 0, 40000, 1000, 3000)"
   ]
  },
  {
   "cell_type": "code",
   "execution_count": 29,
   "metadata": {},
   "outputs": [
    {
     "name": "stdout",
     "output_type": "stream",
     "text": [
      "==================================================\n",
      "kernel_ridge\n",
      "Train model\n",
      "==================================================\n",
      "R2: 1.0\n",
      "MSE: 0.0\n"
     ]
    },
    {
     "name": "stderr",
     "output_type": "stream",
     "text": [
      "C:\\ProgramData\\Anaconda3\\envs\\biomass_zonal\\lib\\site-packages\\sklearn\\linear_model\\_ridge.py:197: UserWarning: Singular matrix in solving dual problem. Using least-squares solution instead.\n",
      "  \"Singular matrix in solving dual problem. Using \"\n"
     ]
    },
    {
     "name": "stdout",
     "output_type": "stream",
     "text": [
      "plot saved to: D:\\cdu\\data\\zonal_stats\\output\\20230219\\ml_svc_reg_dir\\data_set\\20230219_092853\\no0_values\\kernel_ridge_train_plot.jpg\n"
     ]
    },
    {
     "data": {
      "image/png": "[encoded data removed]",
      "text/plain": [
       "<Figure size 432x288 with 1 Axes>"
      ]
     },
     "metadata": {
      "needs_background": "light"
     },
     "output_type": "display_data"
    },
    {
     "name": "stdout",
     "output_type": "stream",
     "text": [
      "==================================================\n",
      "kernel_ridge\n",
      "Test model\n",
      "==================================================\n",
      "Predicted data r2 = -137.02248951451833\n",
      "MSE = 6720361465.303369\n",
      "plot saved to: D:\\cdu\\data\\zonal_stats\\output\\20230219\\ml_svc_reg_dir\\data_set\\20230219_092853\\no0_values\\kernel_ridge_test_plot.jpg\n"
     ]
    },
    {
     "data": {
      "image/png": "[encoded data removed]",
      "text/plain": [
       "<Figure size 432x288 with 1 Axes>"
      ]
     },
     "metadata": {
      "needs_background": "light"
     },
     "output_type": "display_data"
    }
   ],
   "source": [
    "str_model, model = train_model_plot(X_train, y_train, KernelRidge(),\n",
    "                                    \"kernel_ridge\", 0, 40000, 1000, 3000)"
   ]
  },
  {
   "cell_type": "code",
   "execution_count": 30,
   "metadata": {},
   "outputs": [
    {
     "name": "stdout",
     "output_type": "stream",
     "text": [
      "==================================================\n",
      "elastic_net\n",
      "Train model\n",
      "==================================================\n",
      "R2: 0.99\n",
      "MSE: 819571.23\n"
     ]
    },
    {
     "name": "stderr",
     "output_type": "stream",
     "text": [
      "C:\\ProgramData\\Anaconda3\\envs\\biomass_zonal\\lib\\site-packages\\sklearn\\linear_model\\_coordinate_descent.py:648: ConvergenceWarning: Objective did not converge. You might want to increase the number of iterations, check the scale of the features or consider increasing regularisation. Duality gap: 1.084e+08, tolerance: 5.175e+05\n",
      "  coef_, l1_reg, l2_reg, X, y, max_iter, tol, rng, random, positive\n"
     ]
    },
    {
     "name": "stdout",
     "output_type": "stream",
     "text": [
      "plot saved to: D:\\cdu\\data\\zonal_stats\\output\\20230219\\ml_svc_reg_dir\\data_set\\20230219_092853\\no0_values\\elastic_net_train_plot.jpg\n"
     ]
    },
    {
     "data": {
      "image/png": "[encoded data removed]",
      "text/plain": [
       "<Figure size 432x288 with 1 Axes>"
      ]
     },
     "metadata": {
      "needs_background": "light"
     },
     "output_type": "display_data"
    },
    {
     "name": "stdout",
     "output_type": "stream",
     "text": [
      "==================================================\n",
      "elastic_net\n",
      "Test model\n",
      "==================================================\n",
      "Predicted data r2 = -0.2805235471043743\n",
      "MSE = 62349122.462891206\n",
      "plot saved to: D:\\cdu\\data\\zonal_stats\\output\\20230219\\ml_svc_reg_dir\\data_set\\20230219_092853\\no0_values\\elastic_net_test_plot.jpg\n"
     ]
    },
    {
     "data": {
      "image/png": "[encoded data removed]",
      "text/plain": [
       "<Figure size 432x288 with 1 Axes>"
      ]
     },
     "metadata": {
      "needs_background": "light"
     },
     "output_type": "display_data"
    }
   ],
   "source": [
    "\n",
    "str_model, model = train_model_plot(X_train, y_train, ElasticNet(),\n",
    "                                    \"elastic_net\", 0, 40000, 1000, 3000)"
   ]
  },
  {
   "cell_type": "code",
   "execution_count": 31,
   "metadata": {},
   "outputs": [
    {
     "name": "stdout",
     "output_type": "stream",
     "text": [
      "==================================================\n",
      "bayesian_ridge\n",
      "Train model\n",
      "==================================================\n",
      "R2: 0.52\n",
      "MSE: 32507837.75\n",
      "plot saved to: D:\\cdu\\data\\zonal_stats\\output\\20230219\\ml_svc_reg_dir\\data_set\\20230219_092853\\no0_values\\bayesian_ridge_train_plot.jpg\n"
     ]
    },
    {
     "data": {
      "image/png": "[encoded data removed]",
      "text/plain": [
       "<Figure size 432x288 with 1 Axes>"
      ]
     },
     "metadata": {
      "needs_background": "light"
     },
     "output_type": "display_data"
    },
    {
     "name": "stdout",
     "output_type": "stream",
     "text": [
      "==================================================\n",
      "bayesian_ridge\n",
      "Test model\n",
      "==================================================\n",
      "Predicted data r2 = 0.5368007945501105\n",
      "MSE = 22553325.20094226\n",
      "plot saved to: D:\\cdu\\data\\zonal_stats\\output\\20230219\\ml_svc_reg_dir\\data_set\\20230219_092853\\no0_values\\bayesian_ridge_test_plot.jpg\n"
     ]
    },
    {
     "data": {
      "image/png": "[encoded data removed]",
      "text/plain": [
       "<Figure size 432x288 with 1 Axes>"
      ]
     },
     "metadata": {
      "needs_background": "light"
     },
     "output_type": "display_data"
    }
   ],
   "source": [
    "\n",
    "str_model, model = train_model_plot(X_train, y_train, BayesianRidge(),\n",
    "                                    \"bayesian_ridge\", 0, 40000, 1000, 3000)"
   ]
  },
  {
   "cell_type": "code",
   "execution_count": 32,
   "metadata": {},
   "outputs": [
    {
     "name": "stdout",
     "output_type": "stream",
     "text": [
      "==================================================\n",
      "gradient_boosting_regressor\n",
      "Train model\n",
      "==================================================\n",
      "R2: 1.0\n",
      "MSE: 3611.15\n",
      "plot saved to: D:\\cdu\\data\\zonal_stats\\output\\20230219\\ml_svc_reg_dir\\data_set\\20230219_092853\\no0_values\\gradient_boosting_regressor_train_plot.jpg\n"
     ]
    },
    {
     "data": {
      "image/png": "[encoded data removed]",
      "text/plain": [
       "<Figure size 432x288 with 1 Axes>"
      ]
     },
     "metadata": {
      "needs_background": "light"
     },
     "output_type": "display_data"
    },
    {
     "name": "stdout",
     "output_type": "stream",
     "text": [
      "==================================================\n",
      "gradient_boosting_regressor\n",
      "Test model\n",
      "==================================================\n",
      "Predicted data r2 = 0.5151030559776284\n",
      "MSE = 23609795.39431171\n",
      "plot saved to: D:\\cdu\\data\\zonal_stats\\output\\20230219\\ml_svc_reg_dir\\data_set\\20230219_092853\\no0_values\\gradient_boosting_regressor_test_plot.jpg\n"
     ]
    },
    {
     "data": {
      "image/png": "[encoded data removed]",
      "text/plain": [
       "<Figure size 432x288 with 1 Axes>"
      ]
     },
     "metadata": {
      "needs_background": "light"
     },
     "output_type": "display_data"
    }
   ],
   "source": [
    "str_model, model = train_model_plot(X_train, y_train, GradientBoostingRegressor(),\n",
    "                                    \"gradient_boosting_regressor\", 0, 40000, 1000, 3000)"
   ]
  },
  {
   "cell_type": "code",
   "execution_count": 33,
   "metadata": {},
   "outputs": [
    {
     "name": "stdout",
     "output_type": "stream",
     "text": [
      "==================================================\n",
      "svr\n",
      "Train model\n",
      "==================================================\n",
      "R2: -0.11\n",
      "MSE: 74283920.83\n",
      "plot saved to: D:\\cdu\\data\\zonal_stats\\output\\20230219\\ml_svc_reg_dir\\data_set\\20230219_092853\\no0_values\\svr_train_plot.jpg\n"
     ]
    },
    {
     "data": {
      "image/png": "[encoded data removed]",
      "text/plain": [
       "<Figure size 432x288 with 1 Axes>"
      ]
     },
     "metadata": {
      "needs_background": "light"
     },
     "output_type": "display_data"
    },
    {
     "name": "stdout",
     "output_type": "stream",
     "text": [
      "==================================================\n",
      "svr\n",
      "Test model\n",
      "==================================================\n",
      "Predicted data r2 = -0.021274782423191807\n",
      "MSE = 49726212.86157108\n",
      "plot saved to: D:\\cdu\\data\\zonal_stats\\output\\20230219\\ml_svc_reg_dir\\data_set\\20230219_092853\\no0_values\\svr_test_plot.jpg\n"
     ]
    },
    {
     "data": {
      "image/png": "[encoded data removed]",
      "text/plain": [
       "<Figure size 432x288 with 1 Axes>"
      ]
     },
     "metadata": {
      "needs_background": "light"
     },
     "output_type": "display_data"
    }
   ],
   "source": [
    "str_model, model = train_model_plot(X_train, y_train, SVR(),\n",
    "                                    \"svr\", 0, 40000, 1000, 3000)"
   ]
  },
  {
   "cell_type": "code",
   "execution_count": 34,
   "metadata": {},
   "outputs": [],
   "source": [
    "def train_poly_model_plot(X_train, y_train, model, str_model, x_limit, y_limit, x_off, y_off):\n",
    "    \n",
    "    print(\"=\"*50)\n",
    "    print(str_model)\n",
    "    print(\"Train model\")\n",
    "    print(\"=\"*50)\n",
    "\n",
    "    \n",
    "    x_ = PolynomialFeatures(degree=2, include_bias=False).fit_transform(X_train)\n",
    "    x__ = PolynomialFeatures(degree=2, include_bias=False).fit_transform(X_test)\n",
    "    \n",
    "    model.fit(x_, y_train)\n",
    "\n",
    "    r2 = round(model.score(x_, y_train), 2)\n",
    "    mse = round(np.mean((y_train - model.predict(x_))**2), 2)\n",
    "    \n",
    "    print(f\"R2: {r2}\")\n",
    "    print(f\"MSE: {mse}\")\n",
    "#     print(f\"Intercept: {model.intercept_}\")\n",
    "    #print(f\"Slope: {model.coef_}\")\n",
    "\n",
    "\n",
    "    plt.scatter(model.predict(x_), y_train)  \n",
    "    # data for the 1 for 1 line\n",
    "    x = [x_limit,y_limit]\n",
    "    y = [x_limit, y_limit]\n",
    "\n",
    "    #sets the limits of the axis\n",
    "    plt.xlim(x_limit, y_limit)\n",
    "    plt.ylim(x_limit, y_limit)\n",
    "\n",
    "    plt.ylabel('Observed target')\n",
    "\n",
    "    plt.xlabel('Predicted target')\n",
    "\n",
    "    # 1 for 1 line\n",
    "    #adding text inside the plot\n",
    "    plt.text((x_limit + x_off), (y_limit - y_off), f'$R^2 = {round(r2, 4)}$', fontsize = 12)\n",
    "    plt.text((x_limit + x_off), (y_limit - (y_off*2)), f'$MSE = {round(mse, 4)}$', fontsize = 12)\n",
    "#     plt.text((x_limit + x_off), (y_limit - (y_off*2)), f'$MSE = {120}$', fontsize = 12)\n",
    "    plt.text((x_limit + x_off), (y_limit - (y_off*3)), f'$n = {len(y_train)}$', fontsize = 12)\n",
    "\n",
    "\n",
    "    plt.plot(x, y, color = 'r')\n",
    "\n",
    "    plot_out = os.path.join(model_outputs, f'{str_model}_train_plot.jpg')\n",
    "    plt.savefig(plot_out,dpi=600)# save out your figure to a pdf \n",
    "    print(f\"plot saved to: {plot_out}\")\n",
    "    plt.show()\n",
    "    \n",
    "    \n",
    "    # ------------------------------------ Predict Test ----------------------------------\n",
    "    print(\"=\"*50)\n",
    "    print(str_model)\n",
    "    print(\"Test model\")\n",
    "    print(\"=\"*50)\n",
    "\n",
    "    \n",
    "    # call the model\n",
    "    y_test_predict = model.predict(x__)\n",
    "\n",
    "\n",
    "    r2 = model.score(x__, y_test)\n",
    "    mse = np.mean((y_test - model.predict(x__))** 2)\n",
    "    rmse = np.sqrt(np.mean((y_test_predict - y_test) ** 2))\n",
    "    bias = np.mean(y_test) - np.mean(y_test_predict)\n",
    "    print('Predicted data r2 =', r2)\n",
    "    print('MSE =', mse)\n",
    "    print(f\"Intercept: {model.intercept_}\")\n",
    "#     print(f\"Slope: {model.coef_}\")\n",
    "    print('RMSE =', format(rmse, '.3f'))\n",
    "    print('bias =' , format(bias, '.3f'))\n",
    "    print('n =' , len(y_test))\n",
    "\n",
    "\n",
    "    # r2 = round(rfrLCHM.score(X_1, y_1), 2)\n",
    "    # mse = round(np.mean((y_1 - rfrLCHM.predict(X_1))**2), 2)\n",
    "    # rmse = round(np.sqrt(np.mean((y2_predict - y_2) ** 2)), 2)\n",
    "    # bias = round(np.mean(y_2) - np.mean(y2_predict), 2)\n",
    "\n",
    "    plt.scatter(y_test_predict, y_test) #, s=10, c='b', marker='o')\n",
    "    # data for the 1 for 1 line\n",
    "    x = [x_limit,y_limit]\n",
    "    y = [x_limit, y_limit]\n",
    "\n",
    "    #sets the limits of the axis\n",
    "    plt.xlim(x_limit, y_limit)\n",
    "    plt.ylim(x_limit, y_limit)\n",
    "    plt.ylabel('Observed')\n",
    "    plt.xlabel('Predicted')\n",
    "    # 1 for 1 line\n",
    "\n",
    "    #adding text inside the plot\n",
    "    plt.text((x_limit + x_off), (y_limit - y_off), f'$R^2 = {round(r2, 4)}$', fontsize = 12)\n",
    "    plt.text((x_limit + x_off), (y_limit - (y_off*2)), f'$MSE = {round(mse, 4)}$', fontsize = 12)\n",
    "    plt.text((x_limit + x_off), (y_limit - (y_off*3)), f'$RMSE = {round(rmse, 4)}$', fontsize = 12)\n",
    "    plt.text((x_limit + x_off), (y_limit - (y_off*4)), f'$Bias = {round(bias, 4)}$', fontsize = 12)\n",
    "    plt.text((x_limit + x_off), (y_limit - (y_off*5)), f'$n = {len(y_test)}$', fontsize = 12)\n",
    "\n",
    "    plt.plot(x, y, color = 'r')\n",
    "    plot_out = os.path.join(model_outputs, f'{str_model}_test_plot.jpg')\n",
    "    plt.savefig(plot_out,dpi=600)# save out your figure to a pdf \n",
    "    print(f\"plot saved to: {plot_out}\")\n",
    "    plt.show()    \n",
    "    \n",
    "    \n",
    "    return str_model, model"
   ]
  },
  {
   "cell_type": "code",
   "execution_count": 35,
   "metadata": {},
   "outputs": [
    {
     "name": "stdout",
     "output_type": "stream",
     "text": [
      "==================================================\n",
      "polynomia_features\n",
      "Train model\n",
      "==================================================\n",
      "R2: 0.98\n",
      "MSE: 1495783.6\n",
      "plot saved to: D:\\cdu\\data\\zonal_stats\\output\\20230219\\ml_svc_reg_dir\\data_set\\20230219_092853\\no0_values\\polynomia_features_train_plot.jpg\n"
     ]
    },
    {
     "data": {
      "image/png": "[encoded data removed]",
      "text/plain": [
       "<Figure size 432x288 with 1 Axes>"
      ]
     },
     "metadata": {
      "needs_background": "light"
     },
     "output_type": "display_data"
    },
    {
     "name": "stdout",
     "output_type": "stream",
     "text": [
      "==================================================\n",
      "polynomia_features\n",
      "Test model\n",
      "==================================================\n",
      "Predicted data r2 = -12.161084633142307\n",
      "MSE = 640817640.0909091\n",
      "Intercept: -10717623.0\n",
      "RMSE = 25314.376\n",
      "bias = -45.424\n",
      "n = 33\n",
      "plot saved to: D:\\cdu\\data\\zonal_stats\\output\\20230219\\ml_svc_reg_dir\\data_set\\20230219_092853\\no0_values\\polynomia_features_test_plot.jpg\n"
     ]
    },
    {
     "data": {
      "image/png": "[encoded data removed]",
      "text/plain": [
       "<Figure size 432x288 with 1 Axes>"
      ]
     },
     "metadata": {
      "needs_background": "light"
     },
     "output_type": "display_data"
    }
   ],
   "source": [
    "str_model, model = train_poly_model_plot(X_train, y_train, LinearRegression(),\n",
    "                                    \"polynomia_features\", 0, 40000, 1000, 3000)\n",
    "# PolynomialFeatures(degree=2, include_bias=False).fit_transform(x)"
   ]
  },
  {
   "cell_type": "markdown",
   "metadata": {},
   "source": [
    "## Need to load through different env"
   ]
  },
  {
   "cell_type": "code",
   "execution_count": null,
   "metadata": {},
   "outputs": [],
   "source": [
    "#from lightgbm import LGBMRegressor"
   ]
  },
  {
   "cell_type": "code",
   "execution_count": null,
   "metadata": {},
   "outputs": [],
   "source": [
    "#from xgboost.sklearn import XGBRegressor"
   ]
  },
  {
   "cell_type": "code",
   "execution_count": null,
   "metadata": {},
   "outputs": [],
   "source": [
    "#from catboost import CatBoostRegressor"
   ]
  },
  {
   "cell_type": "code",
   "execution_count": null,
   "metadata": {},
   "outputs": [],
   "source": []
  },
  {
   "cell_type": "markdown",
   "metadata": {},
   "source": [
    "### Splines"
   ]
  },
  {
   "cell_type": "markdown",
   "metadata": {},
   "source": [
    "https://www.analyticsvidhya.com/blog/2018/03/introduction-regression-splines-python-codes/"
   ]
  },
  {
   "cell_type": "markdown",
   "metadata": {},
   "source": [
    "https://machinelearningmastery.com/multivariate-adaptive-regression-splines-mars-in-python/"
   ]
  },
  {
   "cell_type": "code",
   "execution_count": 38,
   "metadata": {},
   "outputs": [
    {
     "ename": "ModuleNotFoundError",
     "evalue": "No module named 'pyearth'",
     "output_type": "error",
     "traceback": [
      "\u001b[1;31m---------------------------------------------------------------------------\u001b[0m",
      "\u001b[1;31mModuleNotFoundError\u001b[0m                       Traceback (most recent call last)",
      "\u001b[1;32m<ipython-input-38-f342f2ba9eb4>\u001b[0m in \u001b[0;36m<module>\u001b[1;34m()\u001b[0m\n\u001b[1;32m----> 1\u001b[1;33m \u001b[1;32mimport\u001b[0m \u001b[0mpyearth\u001b[0m\u001b[1;33m\u001b[0m\u001b[1;33m\u001b[0m\u001b[0m\n\u001b[0m",
      "\u001b[1;31mModuleNotFoundError\u001b[0m: No module named 'pyearth'"
     ]
    }
   ],
   "source": [
    "import pyearth"
   ]
  },
  {
   "cell_type": "code",
   "execution_count": 36,
   "metadata": {},
   "outputs": [],
   "source": [
    "X_train, X_test, y_train, y_test = train_test_split(xdata1, ydata, train_size=0.70) #, stratify=ydata) "
   ]
  },
  {
   "cell_type": "code",
   "execution_count": 37,
   "metadata": {},
   "outputs": [
    {
     "ename": "ValueError",
     "evalue": "Input array must be 1 dimensional",
     "output_type": "error",
     "traceback": [
      "\u001b[1;31m---------------------------------------------------------------------------\u001b[0m",
      "\u001b[1;31mValueError\u001b[0m                                Traceback (most recent call last)",
      "\u001b[1;32m<ipython-input-37-6d08ca03c08d>\u001b[0m in \u001b[0;36m<module>\u001b[1;34m()\u001b[0m\n\u001b[0;32m      1\u001b[0m \u001b[1;31m# Dividing the data into 4 bins\u001b[0m\u001b[1;33m\u001b[0m\u001b[1;33m\u001b[0m\u001b[1;33m\u001b[0m\u001b[0m\n\u001b[1;32m----> 2\u001b[1;33m \u001b[0mdf_cut\u001b[0m\u001b[1;33m,\u001b[0m \u001b[0mbins\u001b[0m \u001b[1;33m=\u001b[0m \u001b[0mpd\u001b[0m\u001b[1;33m.\u001b[0m\u001b[0mcut\u001b[0m\u001b[1;33m(\u001b[0m\u001b[0mX_train\u001b[0m\u001b[1;33m,\u001b[0m \u001b[1;36m4\u001b[0m\u001b[1;33m,\u001b[0m \u001b[0mretbins\u001b[0m\u001b[1;33m=\u001b[0m\u001b[1;32mTrue\u001b[0m\u001b[1;33m,\u001b[0m \u001b[0mright\u001b[0m\u001b[1;33m=\u001b[0m\u001b[1;32mTrue\u001b[0m\u001b[1;33m)\u001b[0m\u001b[1;33m\u001b[0m\u001b[1;33m\u001b[0m\u001b[0m\n\u001b[0m\u001b[0;32m      3\u001b[0m \u001b[0mdf_cut\u001b[0m\u001b[1;33m.\u001b[0m\u001b[0mvalue_counts\u001b[0m\u001b[1;33m(\u001b[0m\u001b[0msort\u001b[0m\u001b[1;33m=\u001b[0m\u001b[1;32mFalse\u001b[0m\u001b[1;33m)\u001b[0m\u001b[1;33m\u001b[0m\u001b[1;33m\u001b[0m\u001b[0m\n",
      "\u001b[1;32mC:\\ProgramData\\Anaconda3\\envs\\biomass_zonal\\lib\\site-packages\\pandas\\core\\reshape\\tile.py\u001b[0m in \u001b[0;36mcut\u001b[1;34m(x, bins, right, labels, retbins, precision, include_lowest, duplicates, ordered)\u001b[0m\n\u001b[0;32m    222\u001b[0m \u001b[1;33m\u001b[0m\u001b[0m\n\u001b[0;32m    223\u001b[0m     \u001b[0moriginal\u001b[0m \u001b[1;33m=\u001b[0m \u001b[0mx\u001b[0m\u001b[1;33m\u001b[0m\u001b[1;33m\u001b[0m\u001b[0m\n\u001b[1;32m--> 224\u001b[1;33m     \u001b[0mx\u001b[0m \u001b[1;33m=\u001b[0m \u001b[0m_preprocess_for_cut\u001b[0m\u001b[1;33m(\u001b[0m\u001b[0mx\u001b[0m\u001b[1;33m)\u001b[0m\u001b[1;33m\u001b[0m\u001b[1;33m\u001b[0m\u001b[0m\n\u001b[0m\u001b[0;32m    225\u001b[0m     \u001b[0mx\u001b[0m\u001b[1;33m,\u001b[0m \u001b[0mdtype\u001b[0m \u001b[1;33m=\u001b[0m \u001b[0m_coerce_to_type\u001b[0m\u001b[1;33m(\u001b[0m\u001b[0mx\u001b[0m\u001b[1;33m)\u001b[0m\u001b[1;33m\u001b[0m\u001b[1;33m\u001b[0m\u001b[0m\n\u001b[0;32m    226\u001b[0m \u001b[1;33m\u001b[0m\u001b[0m\n",
      "\u001b[1;32mC:\\ProgramData\\Anaconda3\\envs\\biomass_zonal\\lib\\site-packages\\pandas\\core\\reshape\\tile.py\u001b[0m in \u001b[0;36m_preprocess_for_cut\u001b[1;34m(x)\u001b[0m\n\u001b[0;32m    578\u001b[0m         \u001b[0mx\u001b[0m \u001b[1;33m=\u001b[0m \u001b[0mnp\u001b[0m\u001b[1;33m.\u001b[0m\u001b[0masarray\u001b[0m\u001b[1;33m(\u001b[0m\u001b[0mx\u001b[0m\u001b[1;33m)\u001b[0m\u001b[1;33m\u001b[0m\u001b[1;33m\u001b[0m\u001b[0m\n\u001b[0;32m    579\u001b[0m     \u001b[1;32mif\u001b[0m \u001b[0mx\u001b[0m\u001b[1;33m.\u001b[0m\u001b[0mndim\u001b[0m \u001b[1;33m!=\u001b[0m \u001b[1;36m1\u001b[0m\u001b[1;33m:\u001b[0m\u001b[1;33m\u001b[0m\u001b[1;33m\u001b[0m\u001b[0m\n\u001b[1;32m--> 580\u001b[1;33m         \u001b[1;32mraise\u001b[0m \u001b[0mValueError\u001b[0m\u001b[1;33m(\u001b[0m\u001b[1;34m\"Input array must be 1 dimensional\"\u001b[0m\u001b[1;33m)\u001b[0m\u001b[1;33m\u001b[0m\u001b[1;33m\u001b[0m\u001b[0m\n\u001b[0m\u001b[0;32m    581\u001b[0m \u001b[1;33m\u001b[0m\u001b[0m\n\u001b[0;32m    582\u001b[0m     \u001b[1;32mreturn\u001b[0m \u001b[0mx\u001b[0m\u001b[1;33m\u001b[0m\u001b[1;33m\u001b[0m\u001b[0m\n",
      "\u001b[1;31mValueError\u001b[0m: Input array must be 1 dimensional"
     ]
    }
   ],
   "source": [
    "# Dividing the data into 4 bins\n",
    "df_cut, bins = pd.cut(X_train, 4, retbins=True, right=True)\n",
    "df_cut.value_counts(sort=False)"
   ]
  },
  {
   "cell_type": "code",
   "execution_count": null,
   "metadata": {},
   "outputs": [],
   "source": []
  },
  {
   "cell_type": "code",
   "execution_count": null,
   "metadata": {},
   "outputs": [],
   "source": []
  },
  {
   "cell_type": "code",
   "execution_count": null,
   "metadata": {},
   "outputs": [],
   "source": [
    "def train_regression_splines_model_plot(X_train, y_train, model, str_model, x_limit, y_limit, x_off, y_off):\n",
    "    \n",
    "    print(\"=\"*50)\n",
    "    print(str_model)\n",
    "    print(\"Train model\")\n",
    "    print(\"=\"*50)\n",
    "\n",
    "    \n",
    "    x_ = PolynomialFeatures(degree=2, include_bias=False).fit_transform(X_train)\n",
    "    x__ = PolynomialFeatures(degree=2, include_bias=False).fit_transform(X_test)\n",
    "    \n",
    "    model.fit(x_, y_train)\n",
    "\n",
    "    r2 = round(model.score(x_, y_train), 2)\n",
    "    mse = round(np.mean((y_train - model.predict(x_))**2), 2)\n",
    "    \n",
    "    print(f\"R2: {r2}\")\n",
    "    print(f\"MSE: {mse}\")\n",
    "#     print(f\"Intercept: {model.intercept_}\")\n",
    "    #print(f\"Slope: {model.coef_}\")\n",
    "\n",
    "\n",
    "    plt.scatter(model.predict(x_), y_train)  \n",
    "    # data for the 1 for 1 line\n",
    "    x = [x_limit,y_limit]\n",
    "    y = [x_limit, y_limit]\n",
    "\n",
    "    #sets the limits of the axis\n",
    "    plt.xlim(x_limit, y_limit)\n",
    "    plt.ylim(x_limit, y_limit)\n",
    "\n",
    "    plt.ylabel('Observed target')\n",
    "\n",
    "    plt.xlabel('Predicted target')\n",
    "\n",
    "    # 1 for 1 line\n",
    "    #adding text inside the plot\n",
    "    plt.text((x_limit + x_off), (y_limit - y_off), f'$R^2 = {round(r2, 4)}$', fontsize = 12)\n",
    "    plt.text((x_limit + x_off), (y_limit - (y_off*2)), f'$MSE = {round(mse, 4)}$', fontsize = 12)\n",
    "#     plt.text((x_limit + x_off), (y_limit - (y_off*2)), f'$MSE = {120}$', fontsize = 12)\n",
    "    plt.text((x_limit + x_off), (y_limit - (y_off*3)), f'$n = {len(y_train)}$', fontsize = 12)\n",
    "\n",
    "\n",
    "    plt.plot(x, y, color = 'r')\n",
    "\n",
    "    plot_out = os.path.join(model_outputs, f'{str_model}_train_plot.jpg')\n",
    "    plt.savefig(plot_out,dpi=600)# save out your figure to a pdf \n",
    "    print(f\"plot saved to: {plot_out}\")\n",
    "    plt.show()\n",
    "    \n",
    "    \n",
    "    # ------------------------------------ Predict Test ----------------------------------\n",
    "    print(\"=\"*50)\n",
    "    print(str_model)\n",
    "    print(\"Test model\")\n",
    "    print(\"=\"*50)\n",
    "\n",
    "    \n",
    "    # call the model\n",
    "    y_test_predict = model.predict(x__)\n",
    "\n",
    "\n",
    "    r2 = model.score(x__, y_test)\n",
    "    mse = np.mean((y_test - model.predict(x__))** 2)\n",
    "    rmse = np.sqrt(np.mean((y_test_predict - y_test) ** 2))\n",
    "    bias = np.mean(y_test) - np.mean(y_test_predict)\n",
    "    print('Predicted data r2 =', r2)\n",
    "    print('MSE =', mse)\n",
    "    print(f\"Intercept: {model.intercept_}\")\n",
    "#     print(f\"Slope: {model.coef_}\")\n",
    "    print('RMSE =', format(rmse, '.3f'))\n",
    "    print('bias =' , format(bias, '.3f'))\n",
    "    print('n =' , len(y_test))\n",
    "\n",
    "\n",
    "    # r2 = round(rfrLCHM.score(X_1, y_1), 2)\n",
    "    # mse = round(np.mean((y_1 - rfrLCHM.predict(X_1))**2), 2)\n",
    "    # rmse = round(np.sqrt(np.mean((y2_predict - y_2) ** 2)), 2)\n",
    "    # bias = round(np.mean(y_2) - np.mean(y2_predict), 2)\n",
    "\n",
    "    plt.scatter(y_test_predict, y_test) #, s=10, c='b', marker='o')\n",
    "    # data for the 1 for 1 line\n",
    "    x = [x_limit,y_limit]\n",
    "    y = [x_limit, y_limit]\n",
    "\n",
    "    #sets the limits of the axis\n",
    "    plt.xlim(x_limit, y_limit)\n",
    "    plt.ylim(x_limit, y_limit)\n",
    "    plt.ylabel('Observed')\n",
    "    plt.xlabel('Predicted')\n",
    "    # 1 for 1 line\n",
    "\n",
    "    #adding text inside the plot\n",
    "    plt.text((x_limit + x_off), (y_limit - y_off), f'$R^2 = {round(r2, 4)}$', fontsize = 12)\n",
    "    plt.text((x_limit + x_off), (y_limit - (y_off*2)), f'$MSE = {round(mse, 4)}$', fontsize = 12)\n",
    "    plt.text((x_limit + x_off), (y_limit - (y_off*3)), f'$RMSE = {round(rmse, 4)}$', fontsize = 12)\n",
    "    plt.text((x_limit + x_off), (y_limit - (y_off*4)), f'$Bias = {round(bias, 4)}$', fontsize = 12)\n",
    "    plt.text((x_limit + x_off), (y_limit - (y_off*5)), f'$n = {len(y_test)}$', fontsize = 12)\n",
    "\n",
    "    plt.plot(x, y, color = 'r')\n",
    "    plot_out = os.path.join(model_outputs, f'{str_model}_test_plot.jpg')\n",
    "    plt.savefig(plot_out,dpi=600)# save out your figure to a pdf \n",
    "    print(f\"plot saved to: {plot_out}\")\n",
    "    plt.show()    \n",
    "    \n",
    "    \n",
    "    return str_model, model"
   ]
  },
  {
   "cell_type": "code",
   "execution_count": null,
   "metadata": {},
   "outputs": [],
   "source": [
    "print(\"=\"*50)\n",
    "print(str_model)\n",
    "print(\"Train model\")\n",
    "print(\"=\"*50)\n",
    "\n",
    "\n",
    "model.fit(x_, y_train)\n",
    "\n",
    "r2 = round(model.score(x_, y_train), 2)\n",
    "mse = round(np.mean((y_train - model.predict(x_))**2), 2)\n",
    "\n",
    "print(f\"R2: {r2}\")\n",
    "print(f\"MSE: {mse}\")\n",
    "#     print(f\"Intercept: {model.intercept_}\")\n",
    "#print(f\"Slope: {model.coef_}\")\n",
    "\n",
    "\n",
    "plt.scatter(model.predict(x_), y_train)  \n",
    "# data for the 1 for 1 line\n",
    "x = [x_limit,y_limit]\n",
    "y = [x_limit, y_limit]\n",
    "\n",
    "#sets the limits of the axis\n",
    "plt.xlim(x_limit, y_limit)\n",
    "plt.ylim(x_limit, y_limit)\n",
    "\n",
    "plt.ylabel('Observed target')\n",
    "\n",
    "plt.xlabel('Predicted target')\n",
    "\n",
    "# 1 for 1 line\n",
    "#adding text inside the plot\n",
    "plt.text((x_limit + x_off), (y_limit - y_off), f'$R^2 = {round(r2, 4)}$', fontsize = 12)\n",
    "plt.text((x_limit + x_off), (y_limit - (y_off*2)), f'$MSE = {round(mse, 4)}$', fontsize = 12)\n",
    "#     plt.text((x_limit + x_off), (y_limit - (y_off*2)), f'$MSE = {120}$', fontsize = 12)\n",
    "plt.text((x_limit + x_off), (y_limit - (y_off*3)), f'$n = {len(y_train)}$', fontsize = 12)\n",
    "\n",
    "\n",
    "plt.plot(x, y, color = 'r')\n",
    "\n",
    "plot_out = os.path.join(model_outputs, f'{str_model}_train_plot.jpg')\n",
    "plt.savefig(plot_out,dpi=600)# save out your figure to a pdf \n",
    "print(f\"plot saved to: {plot_out}\")\n",
    "plt.show()\n",
    "    "
   ]
  },
  {
   "cell_type": "code",
   "execution_count": null,
   "metadata": {},
   "outputs": [],
   "source": []
  },
  {
   "cell_type": "markdown",
   "metadata": {},
   "source": [
    "## KernelRidge"
   ]
  },
  {
   "cell_type": "markdown",
   "metadata": {},
   "source": [
    "### Decision Tree Classifier"
   ]
  },
  {
   "cell_type": "code",
   "execution_count": 35,
   "metadata": {},
   "outputs": [
    {
     "ename": "NameError",
     "evalue": "name 'DecisionTreeClassifier' is not defined",
     "output_type": "error",
     "traceback": [
      "\u001b[1;31m---------------------------------------------------------------------------\u001b[0m",
      "\u001b[1;31mNameError\u001b[0m                                 Traceback (most recent call last)",
      "\u001b[1;32m<ipython-input-35-222bd6ff505c>\u001b[0m in \u001b[0;36m<module>\u001b[1;34m()\u001b[0m\n\u001b[1;32m----> 1\u001b[1;33m \u001b[0mmodel\u001b[0m \u001b[1;33m=\u001b[0m \u001b[0mDecisionTreeClassifier\u001b[0m\u001b[1;33m(\u001b[0m\u001b[0mclass_weight\u001b[0m\u001b[1;33m=\u001b[0m\u001b[1;34m'balanced'\u001b[0m\u001b[1;33m,\u001b[0m \u001b[0mmax_depth\u001b[0m\u001b[1;33m=\u001b[0m\u001b[1;36m10\u001b[0m\u001b[1;33m)\u001b[0m\u001b[1;33m\u001b[0m\u001b[1;33m\u001b[0m\u001b[0m\n\u001b[0m\u001b[0;32m      2\u001b[0m \u001b[0mmodel\u001b[0m \u001b[1;33m.\u001b[0m\u001b[0mfit\u001b[0m\u001b[1;33m(\u001b[0m\u001b[0mX_train_res\u001b[0m\u001b[1;33m,\u001b[0m \u001b[0my_train_res\u001b[0m\u001b[1;33m.\u001b[0m\u001b[0mtarget\u001b[0m\u001b[1;33m.\u001b[0m\u001b[0mravel\u001b[0m\u001b[1;33m(\u001b[0m\u001b[1;33m)\u001b[0m\u001b[1;33m)\u001b[0m\u001b[1;33m\u001b[0m\u001b[1;33m\u001b[0m\u001b[0m\n\u001b[0;32m      3\u001b[0m \u001b[0my_pred\u001b[0m \u001b[1;33m=\u001b[0m \u001b[0mmodel\u001b[0m\u001b[1;33m.\u001b[0m\u001b[0mpredict\u001b[0m\u001b[1;33m(\u001b[0m\u001b[0mX_test\u001b[0m\u001b[1;33m)\u001b[0m\u001b[1;33m\u001b[0m\u001b[1;33m\u001b[0m\u001b[0m\n\u001b[0;32m      4\u001b[0m \u001b[0mprint\u001b[0m\u001b[1;33m(\u001b[0m\u001b[0mclassification_report\u001b[0m\u001b[1;33m(\u001b[0m\u001b[0my_test\u001b[0m\u001b[1;33m,\u001b[0m \u001b[0my_pred\u001b[0m\u001b[1;33m)\u001b[0m\u001b[1;33m)\u001b[0m\u001b[1;33m\u001b[0m\u001b[1;33m\u001b[0m\u001b[0m\n\u001b[0;32m      5\u001b[0m \u001b[1;33m\u001b[0m\u001b[0m\n",
      "\u001b[1;31mNameError\u001b[0m: name 'DecisionTreeClassifier' is not defined"
     ]
    }
   ],
   "source": [
    "model = DecisionTreeClassifier(class_weight='balanced', max_depth=10)\n",
    "model .fit(X_train_res, y_train_res.target.ravel())\n",
    "y_pred = model.predict(X_test)\n",
    "print(classification_report(y_test, y_pred))\n",
    "\n",
    "np.set_printoptions(precision=4)\n",
    "\n",
    "# Plot non-normalized confusion matrix\n",
    "titles_options = [\n",
    "    (\"Confusion matrix, without normalization\", None),\n",
    "    (\"Normalized confusion matrix\", \"true\"),\n",
    "]\n",
    "for title, normalize in titles_options:\n",
    "    disp = ConfusionMatrixDisplay.from_estimator(\n",
    "        model,\n",
    "        X_test,\n",
    "        y_test,\n",
    "#         display_labels=class_names,\n",
    "        cmap=plt.cm.Blues,\n",
    "        normalize=normalize,\n",
    "    )\n",
    "    disp.ax_.set_title(title)\n",
    "\n",
    "    print(title)\n",
    "    print(disp.confusion_matrix)\n",
    "\n",
    "plt.show()"
   ]
  },
  {
   "cell_type": "markdown",
   "metadata": {},
   "source": [
    "## Random Forest Classifier"
   ]
  },
  {
   "cell_type": "code",
   "execution_count": null,
   "metadata": {},
   "outputs": [],
   "source": [
    "model = RandomForestClassifier(class_weight='balanced', random_state=1,max_depth=5, \\\n",
    "                              n_estimators =10, max_features=1)\n",
    "model .fit(X_train_res, y_train_res.target.ravel())\n",
    "y_pred = model.predict(X_test)\n",
    "print(classification_report(y_test, y_pred))\n",
    "\n",
    "np.set_printoptions(precision=4)\n",
    "\n",
    "# Plot non-normalized confusion matrix\n",
    "titles_options = [\n",
    "    (\"Confusion matrix, without normalization\", None),\n",
    "    (\"Normalized confusion matrix\", \"true\"),\n",
    "]\n",
    "for title, normalize in titles_options:\n",
    "    disp = ConfusionMatrixDisplay.from_estimator(\n",
    "        model,\n",
    "        X_test,\n",
    "        y_test,\n",
    "#         display_labels=class_names,\n",
    "        cmap=plt.cm.Blues,\n",
    "        normalize=normalize,\n",
    "    )\n",
    "    disp.ax_.set_title(title)\n",
    "\n",
    "    print(title)\n",
    "    print(disp.confusion_matrix)\n",
    "\n",
    "plt.show()"
   ]
  },
  {
   "cell_type": "markdown",
   "metadata": {},
   "source": [
    "## KNN"
   ]
  },
  {
   "cell_type": "code",
   "execution_count": null,
   "metadata": {},
   "outputs": [],
   "source": [
    "model = KNeighborsClassifier(3)\n",
    "model .fit(X_train_res, y_train_res.target.ravel())\n",
    "y_pred = model.predict(X_test)\n",
    "print(classification_report(y_test, y_pred))\n",
    "\n",
    "np.set_printoptions(precision=4)\n",
    "\n",
    "# Plot non-normalized confusion matrix\n",
    "titles_options = [\n",
    "    (\"Confusion matrix, without normalization\", None),\n",
    "    (\"Normalized confusion matrix\", \"true\"),\n",
    "]\n",
    "for title, normalize in titles_options:\n",
    "    disp = ConfusionMatrixDisplay.from_estimator(\n",
    "        model,\n",
    "        X_test,\n",
    "        y_test,\n",
    "#         display_labels=class_names,\n",
    "        cmap=plt.cm.Blues,\n",
    "        normalize=normalize,\n",
    "    )\n",
    "    disp.ax_.set_title(title)\n",
    "\n",
    "    print(title)\n",
    "    print(disp.confusion_matrix)\n",
    "\n",
    "plt.show()"
   ]
  },
  {
   "cell_type": "markdown",
   "metadata": {},
   "source": [
    "## AdaBoost Classifier"
   ]
  },
  {
   "cell_type": "code",
   "execution_count": null,
   "metadata": {},
   "outputs": [],
   "source": [
    "model = AdaBoostClassifier(learning_rate=0.01)\n",
    "model .fit(X_train_res, y_train_res.target.ravel())\n",
    "y_pred = model.predict(X_test)\n",
    "print(classification_report(y_test, y_pred))\n",
    "\n",
    "np.set_printoptions(precision=4)\n",
    "\n",
    "# Plot non-normalized confusion matrix\n",
    "titles_options = [\n",
    "    (\"Confusion matrix, without normalization\", None),\n",
    "    (\"Normalized confusion matrix\", \"true\"),\n",
    "]\n",
    "for title, normalize in titles_options:\n",
    "    disp = ConfusionMatrixDisplay.from_estimator(\n",
    "        model,\n",
    "        X_test,\n",
    "        y_test,\n",
    "#         display_labels=class_names,\n",
    "        cmap=plt.cm.Blues,\n",
    "        normalize=normalize,\n",
    "    )\n",
    "    disp.ax_.set_title(title)\n",
    "\n",
    "    print(title)\n",
    "    print(disp.confusion_matrix)\n",
    "\n",
    "plt.show()"
   ]
  },
  {
   "cell_type": "markdown",
   "metadata": {},
   "source": [
    "## Neural Networks"
   ]
  },
  {
   "cell_type": "code",
   "execution_count": null,
   "metadata": {},
   "outputs": [],
   "source": [
    "from tensorflow import keras"
   ]
  },
  {
   "cell_type": "code",
   "execution_count": null,
   "metadata": {},
   "outputs": [],
   "source": [
    "model = keras.Sequential([\n",
    "    keras.layers.Dense(32, input_dim=26, activation='relu'),\n",
    "    keras.layers.Dense(16, activation = \"relu\"),\n",
    "    keras.layers.Dropout(0,3),\n",
    "    keras.layers.Dense(8, activation=\"relu\"),\n",
    "    keras.layers.Dense(4, activation = \"softmax\")\n",
    "])"
   ]
  },
  {
   "cell_type": "code",
   "execution_count": null,
   "metadata": {},
   "outputs": [],
   "source": [
    "model.compile(loss=\"categorical_crossentropy\", optimizer=\"sgd\", metrics=[\"accuracy\"])"
   ]
  },
  {
   "cell_type": "code",
   "execution_count": null,
   "metadata": {},
   "outputs": [],
   "source": [
    "y_train_enc = pd.get_dummies(y_train_res)\n",
    "y_train_enc"
   ]
  },
  {
   "cell_type": "code",
   "execution_count": null,
   "metadata": {},
   "outputs": [],
   "source": [
    "import pandas as pd\n",
    "import numpy as np\n",
    "from sklearn.preprocessing import OneHotEncoder\n",
    "# creating instance of one-hot-encoder\n",
    "enc = OneHotEncoder(handle_unknown='ignore')\n",
    "# passing bridge-types-cat column (label encoded values of bridge_types)\n",
    "enc_df = pd.DataFrame(enc.fit_transform(y_train_res[['target']]).toarray())\n",
    "# merge with main df bridge_df on key values\n",
    "y_train_res = y_train_res.join(enc_df)\n",
    "y_train_res"
   ]
  },
  {
   "cell_type": "code",
   "execution_count": null,
   "metadata": {},
   "outputs": [],
   "source": [
    "enc_df = pd.DataFrame(enc.fit_transform(y_test_res[['target']]).toarray())\n",
    "# merge with main df bridge_df on key values\n",
    "y_test_res = y_test_res.join(enc_df)\n",
    "y_test_res"
   ]
  },
  {
   "cell_type": "code",
   "execution_count": null,
   "metadata": {},
   "outputs": [],
   "source": [
    "y_train_res.drop(\"target\", axis=1, inplace=True)"
   ]
  },
  {
   "cell_type": "code",
   "execution_count": null,
   "metadata": {},
   "outputs": [],
   "source": [
    "y_train_res"
   ]
  },
  {
   "cell_type": "code",
   "execution_count": null,
   "metadata": {},
   "outputs": [],
   "source": [
    "history = model.fit(X_train_res, y_train_enc, epochs=500, validation_split=0.2)"
   ]
  },
  {
   "cell_type": "markdown",
   "metadata": {},
   "source": [
    "https://www.educba.com/keras-sequential/"
   ]
  },
  {
   "cell_type": "code",
   "execution_count": null,
   "metadata": {},
   "outputs": [],
   "source": [
    "import tensorflow as tf\n",
    "\n",
    "inputs = tf.keras.Input(shape=(3,))\n",
    "x = tf.keras.layers.Dense(4, activation=tf.nn.relu)(inputs)\n",
    "outputs = tf.keras.layers.Dense(5, activation=tf.nn.softmax)(x)\n",
    "model = tf.keras.Model(inputs=inputs, outputs=outputs)"
   ]
  },
  {
   "cell_type": "code",
   "execution_count": null,
   "metadata": {},
   "outputs": [],
   "source": [
    "# Optionally, the first layer can receive an `input_shape` argument:\n",
    "model = tf.keras.Sequential()\n",
    "model.add(tf.keras.layers.Dense(8, input_shape=(16,)))\n",
    "# Afterwards, we do automatic shape inference:\n",
    "model.add(tf.keras.layers.Dense(4))\n",
    "\n",
    "# This is identical to the following:\n",
    "model = tf.keras.Sequential()\n",
    "model.add(tf.keras.Input(shape=(16,)))\n",
    "model.add(tf.keras.layers.Dense(8))\n",
    "\n",
    "# Note that you can also omit the `input_shape` argument.\n",
    "# In that case the model doesn't have any weights until the first call\n",
    "# to a training/evaluation method (since it isn't yet built):\n",
    "model = tf.keras.Sequential()\n",
    "model.add(tf.keras.layers.Dense(8))\n",
    "model.add(tf.keras.layers.Dense(4))\n",
    "# model.weights not created yet\n",
    "\n",
    "# Whereas if you specify the input shape, the model gets built\n",
    "# continuously as you are adding layers:\n",
    "model = tf.keras.Sequential()\n",
    "model.add(tf.keras.layers.Dense(8, input_shape=(16,)))\n",
    "model.add(tf.keras.layers.Dense(4))\n",
    "len(model.weights)\n",
    "# Returns \"4\"\n",
    "\n",
    "# When using the delayed-build pattern (no input shape specified), you can\n",
    "# choose to manually build your model by calling\n",
    "# `build(batch_input_shape)`:\n",
    "model = tf.keras.Sequential()\n",
    "model.add(tf.keras.layers.Dense(8))\n",
    "model.add(tf.keras.layers.Dense(4))\n",
    "model.build((None, 16))\n",
    "len(model.weights)\n",
    "# Returns \"4\"\n",
    "\n",
    "# Note that when using the delayed-build pattern (no input shape specified),\n",
    "# the model gets built the first time you call `fit`, `eval`, or `predict`,\n",
    "# or the first time you call the model on some input data.\n",
    "model = tf.keras.Sequential()\n",
    "model.add(tf.keras.layers.Dense(8))\n",
    "model.add(tf.keras.layers.Dense(1))\n",
    "model.compile(optimizer='sgd', loss='mse')\n",
    "# This builds the model for the first time:\n",
    "model.fit(x, y, batch_size=32, epochs=10)"
   ]
  },
  {
   "cell_type": "code",
   "execution_count": null,
   "metadata": {},
   "outputs": [],
   "source": []
  },
  {
   "cell_type": "code",
   "execution_count": null,
   "metadata": {},
   "outputs": [],
   "source": []
  },
  {
   "cell_type": "code",
   "execution_count": null,
   "metadata": {},
   "outputs": [],
   "source": [
    "train_data = tf.data.Dataset.from_tensor_slices((X_train_res, y_train_enc))\n",
    "valid_data = tf.data.Dataset.from_tensor_slices((X_test_res, y_test_enc))\n",
    "\n",
    "history = model.fit(X_train_res, y_train_enc, epochs=500, validation_split=0.2)"
   ]
  },
  {
   "cell_type": "code",
   "execution_count": null,
   "metadata": {},
   "outputs": [],
   "source": [
    "model.fit(trainMixed, trainVocals,epochs=10, validation_data=(testMixed, testVocals))"
   ]
  },
  {
   "cell_type": "code",
   "execution_count": null,
   "metadata": {},
   "outputs": [],
   "source": [
    "import tensorflow as tf\n",
    "\n",
    "train_data = tf.data.Dataset.from_tensor_slices((trainMixed, trainVocals))\n",
    "valid_data = tf.data.Dataset.from_tensor_slices((testMixed, testVocals))\n",
    "\n",
    "model.fit(train_data, epochs=10, validation_data=valid_data)"
   ]
  },
  {
   "cell_type": "code",
   "execution_count": null,
   "metadata": {},
   "outputs": [],
   "source": [
    "\n",
    "np.set_printoptions(precision=2)\n",
    "\n",
    "# Plot non-normalized confusion matrix\n",
    "titles_options = [\n",
    "    (\"Confusion matrix, without normalization\", None),\n",
    "    (\"Normalized confusion matrix\", \"true\"),\n",
    "]\n",
    "for title, normalize in titles_options:\n",
    "    disp = ConfusionMatrixDisplay.from_estimator(\n",
    "        model_svc,\n",
    "        X_test,\n",
    "        y_test,\n",
    "#         display_labels=class_names,\n",
    "        cmap=plt.cm.Blues,\n",
    "        normalize=normalize,\n",
    "    )\n",
    "    disp.ax_.set_title(title)\n",
    "\n",
    "    print(title)\n",
    "    print(disp.confusion_matrix)\n",
    "\n",
    "plt.show()"
   ]
  },
  {
   "cell_type": "code",
   "execution_count": null,
   "metadata": {},
   "outputs": [],
   "source": [
    "y_test.value_counts()"
   ]
  },
  {
   "cell_type": "code",
   "execution_count": null,
   "metadata": {},
   "outputs": [],
   "source": [
    "y_pred"
   ]
  },
  {
   "cell_type": "code",
   "execution_count": null,
   "metadata": {},
   "outputs": [],
   "source": [
    "print(classification_report(y_test, y_pred))"
   ]
  },
  {
   "cell_type": "code",
   "execution_count": null,
   "metadata": {},
   "outputs": [],
   "source": [
    "ydata"
   ]
  },
  {
   "cell_type": "code",
   "execution_count": null,
   "metadata": {},
   "outputs": [],
   "source": [
    "# class_names = iris.target_names\n",
    "\n",
    "# # Split the data into a training set and a test set\n",
    "# X_train, X_test, y_train, y_test = train_test_split(X, y, random_state=0)\n",
    "\n",
    "# Run classifier, using a model that is too regularized (C too low) to see\n",
    "# the impact on the results\n",
    "classifier = svm.SVC(kernel=\"linear\", C=0.01).fit(X_train, y_train)\n",
    "\n",
    "np.set_printoptions(precision=2)\n",
    "\n",
    "# Plot non-normalized confusion matrix\n",
    "titles_options = [\n",
    "    (\"Confusion matrix, without normalization\", None),\n",
    "    (\"Normalized confusion matrix\", \"true\"),\n",
    "]\n",
    "for title, normalize in titles_options:\n",
    "    disp = ConfusionMatrixDisplay.from_estimator(\n",
    "        classifier,\n",
    "        X_test,\n",
    "        y_test,\n",
    "#         display_labels=class_names,\n",
    "        cmap=plt.cm.Blues,\n",
    "        normalize=normalize,\n",
    "    )\n",
    "    disp.ax_.set_title(title)\n",
    "\n",
    "    print(title)\n",
    "    print(disp.confusion_matrix)\n",
    "\n",
    "plt.show()"
   ]
  },
  {
   "cell_type": "code",
   "execution_count": null,
   "metadata": {},
   "outputs": [],
   "source": [
    "# class_names = iris.target_names\n",
    "\n",
    "# # Split the data into a training set and a test set\n",
    "# X_train, X_test, y_train, y_test = train_test_split(X, y, random_state=0)\n",
    "\n",
    "# Run classifier, using a model that is too regularized (C too low) to see\n",
    "# the impact on the results\n",
    "classifier = svm.SVC(kernel=\"linear\", C=0.01).fit(X_train, y_train)\n",
    "\n",
    "np.set_printoptions(precision=2)\n",
    "\n",
    "# Plot non-normalized confusion matrix\n",
    "titles_options = [\n",
    "    (\"Confusion matrix, without normalization\", None),\n",
    "    (\"Normalized confusion matrix\", \"true\"),\n",
    "]\n",
    "for title, normalize in titles_options:\n",
    "    disp = ConfusionMatrixDisplay.from_estimator(\n",
    "        classifier,\n",
    "        X_test,\n",
    "        y_test,\n",
    "#         display_labels=class_names,\n",
    "        cmap=plt.cm.Blues,\n",
    "        normalize=normalize,\n",
    "    )\n",
    "    disp.ax_.set_title(title)\n",
    "\n",
    "    print(title)\n",
    "    print(disp.confusion_matrix)\n",
    "\n",
    "plt.show()"
   ]
  },
  {
   "cell_type": "code",
   "execution_count": null,
   "metadata": {},
   "outputs": [],
   "source": []
  },
  {
   "cell_type": "code",
   "execution_count": null,
   "metadata": {},
   "outputs": [],
   "source": []
  },
  {
   "cell_type": "code",
   "execution_count": null,
   "metadata": {},
   "outputs": [],
   "source": []
  },
  {
   "cell_type": "code",
   "execution_count": null,
   "metadata": {},
   "outputs": [],
   "source": []
  },
  {
   "cell_type": "code",
   "execution_count": null,
   "metadata": {},
   "outputs": [],
   "source": []
  },
  {
   "cell_type": "markdown",
   "metadata": {},
   "source": [
    "### Parameterise the Random Forest Regressor alogorthim\n",
    "\n",
    "for details see: http://scikit-learn.org/stable/modules/generated/sklearn.ensemble.RandomForestRegressor.html"
   ]
  },
  {
   "cell_type": "code",
   "execution_count": null,
   "metadata": {},
   "outputs": [],
   "source": [
    "n_est = 300\n",
    "rs = 1\n",
    "maxd = 4\n",
    "\n",
    "rng = np.random.RandomState(rs)\n",
    "rfrModel_1 = abr(dtr(max_depth=maxd), n_estimators=n_est, random_state=rng)\n",
    "print(rfrModel_1)\n",
    "mdl = \"abr\"\n",
    "str_model = f\"rf_{abr}_{model_data_name}_n_est_{n_est}_rs_{rs}_maxd_{maxd}_{date_time_str}\"\n",
    "print(str_model)"
   ]
  },
  {
   "cell_type": "code",
   "execution_count": null,
   "metadata": {},
   "outputs": [],
   "source": [
    "n_est = 100\n",
    "lr=0.1\n",
    "rs = 1\n",
    "maxd = 4\n",
    "loss = 'squared_error'\n",
    "\n",
    "rfrModel_1 = gbr(n_estimators=n_est, learning_rate=lr, max_depth=maxd, random_state=1, loss=loss)\n",
    "print(rfrModel_1)\n",
    "mdl = \"gbr\"\n",
    "str_model = f\"rf_{mdl}_{model_data_name}_n_est_{n_est}_lr{lr}_{loss}_rs_{rs}_maxd_{maxd}_{date_time_str}\"\n",
    "print(str_model)"
   ]
  },
  {
   "cell_type": "code",
   "execution_count": null,
   "metadata": {},
   "outputs": [],
   "source": [
    "# rfrModel_1 = etr(n_estimators=100, bootstrap=True, oob_score=True,  max_features='log2', min_samples_split=1,n_jobs=-1) \n",
    "# rfrModel_1"
   ]
  },
  {
   "cell_type": "code",
   "execution_count": null,
   "metadata": {
    "scrolled": true
   },
   "outputs": [],
   "source": [
    "# rfrModel_1 = rfr(n_estimators=100, oob_score=True,  max_depth=None, max_features='log2', min_samples_split=1.0,n_jobs=-1) \n",
    "# rfrModel_1,"
   ]
  },
  {
   "cell_type": "code",
   "execution_count": null,
   "metadata": {},
   "outputs": [],
   "source": [
    "# rfrModel_1 = rfr(n_estimators=100, oob_score=True) #,  max_depth=None, max_features='log2', min_samples_split=1.0,n_jobs=-1) \n",
    "# rfrModel_1,"
   ]
  },
  {
   "cell_type": "code",
   "execution_count": null,
   "metadata": {},
   "outputs": [],
   "source": [
    "np.nan_to_num(X_1)"
   ]
  },
  {
   "cell_type": "markdown",
   "metadata": {},
   "source": [
    "### Fit random forest regressor model and compute variable importance score \n",
    "\n",
    "may need to restrict the number of variables for the bar graph to be legible\n",
    "\n"
   ]
  },
  {
   "cell_type": "code",
   "execution_count": null,
   "metadata": {},
   "outputs": [],
   "source": [
    "rfrLCHM = rfrModel_1.fit(X_1, y_1)"
   ]
  },
  {
   "cell_type": "code",
   "execution_count": null,
   "metadata": {},
   "outputs": [],
   "source": [
    "feature_importance = rfrModel_1.feature_importances_\n",
    "\n",
    "### TRY THIS\n",
    "# use \"feature importance\" scores to see what the top 10 important features are\n",
    "fi = enumerate(rfrModel_1.feature_importances_)\n",
    "cols = xdata1.columns\n",
    "fiResult = [(value,cols[i]) for (i,value) in fi]\n",
    "#fiResult = [(value,cols[i]) for (i,value) in fi if value > 0.001]\n",
    "## Change the value 0.04 which we picked empirically to give us 10 variables\n",
    "## try running this code after changing the value up and down so you get more or less variables\n",
    "## do you see how this might be useful in refining the model?\n",
    "## Here is the code in case you mess up the line above\n",
    "## [(value,cols[i]) for (i,value) in fi if value > 0.04]\n",
    "#print fiResult\n",
    "r2 = round(rfrLCHM.score(X_1, y_1), 2)\n",
    "mse = round(np.mean((y_1 - rfrLCHM.predict(X_1))**2), 2)\n",
    "# print(r2)\n",
    "# print('Fitted model r2 =' ,  format(rfrLCHM.score(X_1, y_1), '.2f'))\n",
    "# print('Fitted model mse =', format(np.mean((y_1 - rfrLCHM.predict(X_1))**2), '.2f'))\n",
    "# print('n =', len(y_1))\n",
    "plt.scatter(rfrLCHM.predict(X_1), y_1,)  \n",
    "# data for the 1 for 1 line\n",
    "x = [0,35000]\n",
    "y = [0,35000]\n",
    "\n",
    "#sets the limits of the axis\n",
    "#plt.xlim(-1,35)\n",
    "#plt.ylim(-1,35)\n",
    "\n",
    "plt.ylabel('Observed target')\n",
    "\n",
    "plt.xlabel('Predicted target')\n",
    "\n",
    "# 1 for 1 line\n",
    "#adding text inside the plot\n",
    "plt.text(100, 33000, f'$R^2 = {r2}$', fontsize = 12)\n",
    "plt.text(100, 30000, f'$MSE = {mse}$', fontsize = 12)\n",
    "plt.text(100, 27000, f'$n = {len(y_1)}$', fontsize = 12)\n",
    "\n",
    "\n",
    "plt.plot(x, y, color = 'r')\n",
    "\n",
    "plot_out = os.path.join(model_outputs, f'{str_model}_plot.jpg')\n",
    "plt.savefig(plot_out,dpi=600)# save out your figure to a pdf \n",
    "print(f\"plot saved to: {plot_out}\")\n"
   ]
  },
  {
   "cell_type": "code",
   "execution_count": null,
   "metadata": {},
   "outputs": [],
   "source": [
    "fiResult = np.array(fiResult)\n",
    "score = (fiResult[:,0])\n",
    "band = fiResult[:,1]\n",
    "a = fiResult[np.argsort(fiResult[:, 1])]\n",
    "\n",
    "df_band = pd.DataFrame(dict(band=band,n=score))\n",
    "df_band['n'].astype('float')\n",
    "dfsort = df_band.sort_values(['n'], ascending=[False])\n",
    "print(dfsort)\n",
    " \n",
    "## my complicated way to get the bar plot to sort in ascending order and display the assocated band names in the y axis\n",
    "dfsort2 = df_band.sort_values(['n'], ascending=[True])\n",
    "b = dfsort2[['band']]\n",
    "c = b.values.tolist()\n",
    "# convert the list of band names in the correct order to a string\n",
    "e = str(c)\n",
    "# strips all the rubbish from the string\n",
    "f = e.replace('[','').replace(']','').replace(\"'\",'').replace(\",\",' ')\n",
    "# convert the cleaned up string back into a list to plot the band names in the bar graph\n",
    "g = f.split()\n",
    " \n",
    "ind = np.arange(len(df_band))\n",
    "width = 0.4\n",
    " \n",
    "fig, ax = plt.subplots()\n",
    "ax.barh(ind, dfsort2.n, width, color='blue')\n",
    "ax.set(yticks=ind + width, yticklabels= g, ylim=[2*width - 1, len(df_band)])\n",
    "ax.set_xlabel('Performance')\n",
    "ax.set_ylabel('Ranked variables')\n",
    "plt.xticks(rotation='vertical')\n",
    "ax.set_title('Variable Importance Rank')\n",
    "\n",
    "plt.show()\n",
    "plot_out = os.path.join(model_outputs, f'{str_model}_feature_importance_plot.jpg')\n",
    "fig.savefig(plot_out,dpi=600)# save out your figure to a pdf "
   ]
  },
  {
   "cell_type": "code",
   "execution_count": null,
   "metadata": {},
   "outputs": [],
   "source": [
    "dfsort['n'].astype('float')\n",
    "dfsort.info()\n",
    "dfsort['n'] = dfsort['n'].astype('float')\n",
    "dfsort.info()"
   ]
  },
  {
   "cell_type": "code",
   "execution_count": null,
   "metadata": {},
   "outputs": [],
   "source": [
    "num_bf_selection = 0.01\n",
    "df_var = dfsort[dfsort['n'] > num_bf_selection]"
   ]
  },
  {
   "cell_type": "code",
   "execution_count": null,
   "metadata": {},
   "outputs": [],
   "source": [
    "column_var = df_var.band.tolist()"
   ]
  },
  {
   "cell_type": "code",
   "execution_count": null,
   "metadata": {},
   "outputs": [],
   "source": [
    "column_var.insert(0, 'target')"
   ]
  },
  {
   "cell_type": "code",
   "execution_count": null,
   "metadata": {},
   "outputs": [],
   "source": [
    "select_model_data = df_ml[column_var]"
   ]
  },
  {
   "cell_type": "code",
   "execution_count": null,
   "metadata": {},
   "outputs": [],
   "source": [
    "df_corr = select_model_data.corr()\n",
    "df_corr.to_csv(os.path.join(model_outputs, f'{str_model}_feature_imp_n_{num_bf_selection}_.csv'), index=False)\n",
    "df_corr"
   ]
  },
  {
   "cell_type": "code",
   "execution_count": null,
   "metadata": {},
   "outputs": [],
   "source": [
    "variable_imp_list = dfsort.band.to_list()"
   ]
  },
  {
   "cell_type": "code",
   "execution_count": null,
   "metadata": {},
   "outputs": [],
   "source": [
    "variable_imp_list"
   ]
  },
  {
   "cell_type": "markdown",
   "metadata": {},
   "source": [
    "### Run same model and same peramiters with selected features"
   ]
  },
  {
   "cell_type": "code",
   "execution_count": null,
   "metadata": {},
   "outputs": [],
   "source": [
    "# randomly split data into train and test datasets, the user needs to define the variables \n",
    "xdata1 = select_model_data.iloc[:, 1:].astype('float32')\n",
    "ydata1 = select_model_data[[value_x]].astype('float32')\n",
    "ydata2 = ydata1.values\n",
    "ydata = ydata2.ravel()\n",
    "\n",
    "X_1, X_2, y_1, y_2 = train_test_split(xdata1, ydata, train_size=0.70)  \n",
    "         \n",
    "print(X_1.shape, y_1.shape)\n",
    "print(X_2.shape, y_2.shape)"
   ]
  },
  {
   "cell_type": "code",
   "execution_count": null,
   "metadata": {},
   "outputs": [],
   "source": [
    "if mdl == \"abr\":\n",
    "    \n",
    "    rng = np.random.RandomState(rs)\n",
    "    rfrModel_1 = abr(dtr(max_depth=maxd), n_estimators=n_est, random_state=rng)\n",
    "    str_model = f\"rf_abr_{model_data_name}_slc_feat_n_est_{n_est}_rs_{rs}_maxd_{maxd}_{date_time_str}\"\n",
    "    print(str_model)\n",
    "\n",
    "\n",
    "elif mdl== gbr:\n",
    "    rfrModel_1 = gbr(n_estimators=n_est, learning_rate=lr, max_depth=maxd, random_state=1, loss=loss)\n",
    "    str_model = f\"rf_gbr_{model_data_name}_slc_feat_n_est_{n_est}_lr{lr}_{loss}_rs_{rs}_maxd_{maxd}_{date_time_str}\"\n",
    "    print(str_model)\n",
    "else:\n",
    "    pass\n",
    "        "
   ]
  },
  {
   "cell_type": "code",
   "execution_count": null,
   "metadata": {},
   "outputs": [],
   "source": [
    "np.nan_to_num(X_1)"
   ]
  },
  {
   "cell_type": "markdown",
   "metadata": {},
   "source": [
    "### Fit random forest regressor model and compute variable importance score \n",
    "\n",
    "may need to restrict the number of variables for the bar graph to be legible\n",
    "\n"
   ]
  },
  {
   "cell_type": "code",
   "execution_count": null,
   "metadata": {},
   "outputs": [],
   "source": [
    "rfrLCHM = rfrModel_1.fit(X_1, y_1)"
   ]
  },
  {
   "cell_type": "markdown",
   "metadata": {},
   "source": [
    "##### good info on the feature importance score - http://stackoverflow.com/questions/15810339/how-are-feature-importances-in-randomforestclassifier-determined"
   ]
  },
  {
   "cell_type": "code",
   "execution_count": null,
   "metadata": {},
   "outputs": [],
   "source": [
    "feature_importance = rfrModel_1.feature_importances_\n",
    "\n",
    "### TRY THIS\n",
    "# use \"feature importance\" scores to see what the top 10 important features are\n",
    "fi = enumerate(rfrModel_1.feature_importances_)\n",
    "cols = xdata1.columns\n",
    "fiResult = [(value,cols[i]) for (i,value) in fi]\n",
    "#fiResult = [(value,cols[i]) for (i,value) in fi if value > 0.001]\n",
    "## Change the value 0.04 which we picked empirically to give us 10 variables\n",
    "## try running this code after changing the value up and down so you get more or less variables\n",
    "## do you see how this might be useful in refining the model?\n",
    "## Here is the code in case you mess up the line above\n",
    "## [(value,cols[i]) for (i,value) in fi if value > 0.04]\n",
    "#print fiResult\n",
    "r2 = round(rfrLCHM.score(X_1, y_1), 2)\n",
    "mse = round(np.mean((y_1 - rfrLCHM.predict(X_1))**2), 2)\n",
    "# print(r2)\n",
    "# print('Fitted model r2 =' ,  format(rfrLCHM.score(X_1, y_1), '.2f'))\n",
    "# print('Fitted model mse =', format(np.mean((y_1 - rfrLCHM.predict(X_1))**2), '.2f'))\n",
    "# print('n =', len(y_1))\n",
    "plt.scatter(rfrLCHM.predict(X_1), y_1,)  \n",
    "# data for the 1 for 1 line\n",
    "x = [0,35000]\n",
    "y = [0,35000]\n",
    "\n",
    "#sets the limits of the axis\n",
    "#plt.xlim(-1,35)\n",
    "#plt.ylim(-1,35)\n",
    "\n",
    "plt.ylabel('Observed target')\n",
    "\n",
    "plt.xlabel('Predicted target')\n",
    "\n",
    "# 1 for 1 line\n",
    "#adding text inside the plot\n",
    "plt.text(100, 33000, f'$R^2 = {r2}$', fontsize = 12)\n",
    "plt.text(100, 30000, f'$MSE = {mse}$', fontsize = 12)\n",
    "plt.text(100, 27000, f'$n = {len(y_1)}$', fontsize = 12)\n",
    "\n",
    "\n",
    "plt.plot(x, y, color = 'r')\n",
    "\n",
    "plot_out = os.path.join(model_outputs, f'{str_model}_select_feat_plot.jpg')\n",
    "plt.savefig(plot_out,dpi=600)# save out your figure to a pdf \n",
    "print(f\"plot saved to: {plot_out}\")\n"
   ]
  },
  {
   "cell_type": "code",
   "execution_count": null,
   "metadata": {},
   "outputs": [],
   "source": [
    "fiResult = np.array(fiResult)\n",
    "score = (fiResult[:,0])\n",
    "band = fiResult[:,1]\n",
    "a = fiResult[np.argsort(fiResult[:, 1])]\n",
    "\n",
    "df_band = pd.DataFrame(dict(band=band,n=score))\n",
    "df_band['n'].astype('float')\n",
    "dfsort = df_band.sort_values(['n'], ascending=[False])\n",
    "print(dfsort)\n",
    " \n",
    "## my complicated way to get the bar plot to sort in ascending order and display the assocated band names in the y axis\n",
    "dfsort2 = df_band.sort_values(['n'], ascending=[True])\n",
    "b = dfsort2[['band']]\n",
    "c = b.values.tolist()\n",
    "# convert the list of band names in the correct order to a string\n",
    "e = str(c)\n",
    "# strips all the rubbish from the string\n",
    "f = e.replace('[','').replace(']','').replace(\"'\",'').replace(\",\",' ')\n",
    "# convert the cleaned up string back into a list to plot the band names in the bar graph\n",
    "g = f.split()\n",
    " \n",
    "ind = np.arange(len(df_band))\n",
    "width = 0.4\n",
    " \n",
    "fig, ax = plt.subplots()\n",
    "ax.barh(ind, dfsort2.n, width, color='blue')\n",
    "ax.set(yticks=ind + width, yticklabels= g, ylim=[2*width - 1, len(df_band)])\n",
    "ax.set_xlabel('Performance')\n",
    "ax.set_ylabel('Ranked variables')\n",
    "plt.xticks(rotation='vertical')\n",
    "ax.set_title('Variable Importance Rank')\n",
    "\n",
    "plt.show()\n",
    "plot_out = os.path.join(model_outputs, f'{str_model}_select_features_feature_importance_plot.jpg')\n",
    "fig.savefig(plot_out,dpi=600)# save out your figure to a pdf "
   ]
  },
  {
   "cell_type": "markdown",
   "metadata": {},
   "source": [
    "### Predict the selected model on the test data"
   ]
  },
  {
   "cell_type": "code",
   "execution_count": null,
   "metadata": {},
   "outputs": [],
   "source": [
    "# plt.scatter(y2_predict, y_2)\n",
    "# plt.show()"
   ]
  },
  {
   "cell_type": "code",
   "execution_count": null,
   "metadata": {},
   "outputs": [],
   "source": [
    "y2_predict = rfrLCHM.predict(X_2)\n",
    "\n",
    "print('Predicted data r2 =', rfrLCHM.score(X_2, y_2))\n",
    "print('MSE =', format(np.mean((y_2 - rfrLCHM.predict(X_2))** 2), '.3f'))\n",
    "print('RMSE =', format(np.sqrt(np.mean((y2_predict - y_2) ** 2)), '.3f'))\n",
    "#print 'explained_var =',format(explained_variance_score(y_2, y2_predict),  '.3f') \n",
    "print('bias =' , format(np.mean(y_2) - np.mean(y2_predict), '.3f'))\n",
    "print('n =' , len(y_2))\n",
    "\n",
    "\n",
    "r2 = round(rfrLCHM.score(X_1, y_1), 2)\n",
    "mse = round(np.mean((y_1 - rfrLCHM.predict(X_1))**2), 2)\n",
    "rmse = round(np.sqrt(np.mean((y2_predict - y_2) ** 2)), 2)\n",
    "bias = round(np.mean(y_2) - np.mean(y2_predict), 2)\n",
    "\n",
    "plt.scatter(y2_predict, y_2 ,s=10, c='b', marker='o')\n",
    "# data for the 1 for 1 line\n",
    "x = [-1,40000]\n",
    "y = [-1,40000]\n",
    "\n",
    "#sets the limits of the axis\n",
    "plt.xlim(-1,40000)\n",
    "plt.ylim(-1, 40000)\n",
    "plt.ylabel('Observed mean AGB')\n",
    "plt.xlabel('Predicted mean AGB')\n",
    "# 1 for 1 line\n",
    "\n",
    "#adding text inside the plot\n",
    "plt.text(300, 37000, f'$R^2 = {r2}$', fontsize = 12)\n",
    "plt.text(300, 35000, f'$MSE = {mse}$', fontsize = 12)\n",
    "plt.text(300, 33000, f'$RMSE = {mse}$', fontsize = 12)\n",
    "plt.text(300, 31000, f'$Bias = {bias}$', fontsize = 12)\n",
    "plt.text(300, 29000, f'$n = {len(y_1)}$', fontsize = 12)\n",
    "\n",
    "plt.plot(x, y, color = 'r')\n",
    "plot_out = os.path.join(model_outputs, f'{str_model}_test_data.jpg')\n",
    "fig.savefig(plot_out,dpi=600)# save out your figure to a pdf \n",
    "\n",
    "plt.show()"
   ]
  },
  {
   "cell_type": "code",
   "execution_count": null,
   "metadata": {},
   "outputs": [],
   "source": [
    "str_model"
   ]
  },
  {
   "cell_type": "code",
   "execution_count": null,
   "metadata": {},
   "outputs": [],
   "source": [
    "import numpy as np\n",
    "import matplotlib.pyplot as plt\n",
    "from scipy.stats import gaussian_kde\n",
    "\n",
    "# data to plot\n",
    "x = y2_predict\n",
    "y = y_2\n",
    "\n",
    "# Calculate the point density\n",
    "xy = np.vstack([x,y])\n",
    "z = gaussian_kde(xy)(xy)\n",
    "\n",
    "# Sort the points by density, so that the densest points are plotted last\n",
    "idx = z.argsort()\n",
    "x, y, z = x[idx], y[idx], z[idx]\n",
    "\n",
    "print(x)\n",
    "print(y)\n",
    "print(z)\n",
    "# fig, ax = plt.subplots()\n",
    "# ax.scatter(x, y, c=z, s=0.8, edgecolor='')\n",
    "\n",
    "# # data for the 1 for 1 line\n",
    "# a = [-1,25]\n",
    "# b = [-1,25]\n",
    "\n",
    "# #sets the limits of the axis\n",
    "# plt.xlim(-1,25)\n",
    "# plt.ylim(-1,25)\n",
    "# plt.ylabel('Observed mean CHM')\n",
    "# plt.xlabel('Predicted mean CHM')\n",
    "# # 1 for 1 line\n",
    "# ax.plot(a, b, color = 'black')\n",
    "\n",
    "# plt.show()"
   ]
  },
  {
   "cell_type": "code",
   "execution_count": null,
   "metadata": {},
   "outputs": [],
   "source": []
  },
  {
   "cell_type": "code",
   "execution_count": null,
   "metadata": {},
   "outputs": [],
   "source": []
  },
  {
   "cell_type": "code",
   "execution_count": null,
   "metadata": {},
   "outputs": [],
   "source": []
  },
  {
   "cell_type": "code",
   "execution_count": null,
   "metadata": {},
   "outputs": [],
   "source": []
  },
  {
   "cell_type": "code",
   "execution_count": null,
   "metadata": {},
   "outputs": [],
   "source": []
  },
  {
   "cell_type": "markdown",
   "metadata": {},
   "source": [
    "# ================================================================="
   ]
  },
  {
   "cell_type": "markdown",
   "metadata": {},
   "source": [
    "# STOP - do you realy want to save this model?"
   ]
  },
  {
   "cell_type": "markdown",
   "metadata": {},
   "source": [
    "# remember to change the cPickle file name !!"
   ]
  },
  {
   "cell_type": "markdown",
   "metadata": {},
   "source": [
    "# Save current fitted model and apply to unseen validation data "
   ]
  },
  {
   "cell_type": "code",
   "execution_count": null,
   "metadata": {},
   "outputs": [],
   "source": [
    "import pickle\n",
    "\n",
    "#rfrL8CHM = rfr()\n",
    "#rfrL8CHM.fit(X_1, y_1)\n",
    "\n",
    "pkl_out = os.path.join(model_outputs, f'rf_model_{str_model}')\n",
    "\n",
    "\n",
    "with open(pkl_out, 'wb') as f:\n",
    "    pickle.dump(rfrLCHM, f)"
   ]
  },
  {
   "cell_type": "markdown",
   "metadata": {},
   "source": [
    "## Load in unseen data here"
   ]
  },
  {
   "cell_type": "code",
   "execution_count": null,
   "metadata": {},
   "outputs": [],
   "source": [
    "# read in your validation dataset which has never been seen by rfr model - NOTE in this example I am just reading the same data used to train the model\n",
    "new_data = select_model_data\n",
    "# df = pd.read_csv(csv_file, header=0)\n",
    "# df.shape "
   ]
  },
  {
   "cell_type": "code",
   "execution_count": null,
   "metadata": {},
   "outputs": [],
   "source": [
    "c_list = new_data.columns.tolist()\n",
    "c_list"
   ]
  },
  {
   "cell_type": "code",
   "execution_count": null,
   "metadata": {},
   "outputs": [],
   "source": []
  },
  {
   "cell_type": "code",
   "execution_count": null,
   "metadata": {},
   "outputs": [],
   "source": [
    "#df1 = df[(df['comp'] == 'l57')]\n",
    "df1 = new_data[(new_data['target'] > 0.01)]\n",
    "df1.dropna(inplace=True)\n",
    "print (df1.shape)"
   ]
  },
  {
   "cell_type": "code",
   "execution_count": null,
   "metadata": {},
   "outputs": [],
   "source": [
    "df1.columns"
   ]
  },
  {
   "cell_type": "code",
   "execution_count": null,
   "metadata": {},
   "outputs": [],
   "source": [
    "column_var"
   ]
  },
  {
   "cell_type": "code",
   "execution_count": null,
   "metadata": {},
   "outputs": [],
   "source": [
    "df1[column_var].info()"
   ]
  },
  {
   "cell_type": "code",
   "execution_count": null,
   "metadata": {},
   "outputs": [],
   "source": [
    "df1"
   ]
  },
  {
   "cell_type": "code",
   "execution_count": null,
   "metadata": {},
   "outputs": [],
   "source": [
    "xdata2 = df1[column_var].astype('float32')\n",
    "xdata2.drop(\"target\", axis=1, inplace=True)\n",
    "\n",
    "ydata1 = df1[['target']].astype('float32')\n",
    "\n",
    "ydata2 = ydata1.values\n",
    "\n",
    "ydata = ydata2.ravel()\n",
    "\n",
    "print(len(ydata1))"
   ]
  },
  {
   "cell_type": "code",
   "execution_count": null,
   "metadata": {},
   "outputs": [],
   "source": [
    "xdata2"
   ]
  },
  {
   "cell_type": "code",
   "execution_count": null,
   "metadata": {},
   "outputs": [],
   "source": [
    "with open(pkl_out, 'rb') as f:\n",
    "        rf = pickle.load(f)\n",
    "\n",
    "        predicted = rf.predict(xdata2)\n",
    "\n",
    "#print 'r2 =' ,  rf.score(predicted, y_2)\n",
    "#print 'rmse =', np.sqrt(np.mean((y_2 - predicted)**2))\n",
    "#print 'n =' , len(y_2)\n",
    "\n",
    "print('Predicted data r2 =', rf.score(xdata2, ydata))\n",
    "print('MSE =', format(np.mean((ydata - rf.predict(xdata2))** 2), '.3f'))\n",
    "print('RMSE =', format(np.sqrt(np.mean((predicted - ydata) ** 2)), '.3f'))\n",
    "print('explained_var =',format(explained_variance_score(ydata, predicted),  '.3f'))\n",
    "print('bias =' , format(np.mean(ydata) - np.mean(predicted), '.3f'))\n",
    "print('n =' , len(ydata))\n",
    "\n",
    "r2 = round(rf.score(xdata2, ydata), 2)\n",
    "mse = round(np.mean((ydata - rf.predict(xdata2))** 2), 2)\n",
    "rmse = round(np.sqrt(np.mean((predicted - ydata) ** 2)), 2)\n",
    "exp_var = round(explained_variance_score(ydata, predicted), 2)\n",
    "bias = round(np.mean(ydata) - np.mean(predicted), 2)\n",
    "\n",
    "# plot up predicted and observed data \n",
    "plt.scatter(predicted, ydata,s=8, c='b', marker='o')\n",
    "\n",
    "# data for the 1 for 1 line\n",
    "x = [-1,40000]\n",
    "y = [-1,40000]\n",
    "\n",
    "#sets the limits of the axis\n",
    "plt.xlim(-1, 40000)\n",
    "plt.ylim(-1, 40000)\n",
    "\n",
    "#adding text inside the plot\n",
    "plt.text(300, 37000, f'$R^2 = {r2}$', fontsize = 12)\n",
    "plt.text(300, 35000, f'$MSE = {mse}$', fontsize = 12)\n",
    "plt.text(300, 33000, f'$RMSE = {mse}$', fontsize = 12)\n",
    "plt.text(300, 31000, f'$Bias = {bias}$', fontsize = 12)\n",
    "plt.text(300, 29000, f'$Var = {exp_var}$', fontsize = 12)\n",
    "plt.text(300, 27000, f'$n = {len(y_1)}$', fontsize = 12)\n",
    "\n",
    "# 1 for 1 line\n",
    "\n",
    "fig = plt.figure(1)\n",
    "plt.plot(x, y, color = 'black')\n",
    "\n",
    "plot_out = os.path.join(model_outputs, f'{str_model}_unseen_data.jpg')\n",
    "\n",
    "fig.savefig(plot_out,dpi=600)# save out your figure to a pdf \n",
    "\n",
    "plt.show()"
   ]
  }
 ],
 "metadata": {
  "anaconda-cloud": {},
  "kernelspec": {
   "display_name": "Python 3",
   "language": "python",
   "name": "python3"
  },
  "language_info": {
   "codemirror_mode": {
    "name": "ipython",
    "version": 3
   },
   "file_extension": ".py",
   "mimetype": "text/x-python",
   "name": "python",
   "nbconvert_exporter": "python",
   "pygments_lexer": "ipython3",
   "version": "3.7.7"
  }
 },
 "nbformat": 4,
 "nbformat_minor": 1
}
