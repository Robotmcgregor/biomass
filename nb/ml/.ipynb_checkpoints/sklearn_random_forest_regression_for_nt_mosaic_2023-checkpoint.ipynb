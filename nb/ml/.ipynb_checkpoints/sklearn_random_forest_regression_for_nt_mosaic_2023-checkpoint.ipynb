{
 "cells": [
  {
   "cell_type": "markdown",
   "metadata": {},
   "source": [
    "# Sklearn Random Forest Regression for dp0 data"
   ]
  },
  {
   "cell_type": "markdown",
   "metadata": {},
   "source": [
    "###### Load modules "
   ]
  },
  {
   "cell_type": "markdown",
   "metadata": {},
   "source": [
    "The following conditions apply:\n",
    "\n",
    " - env = biomass_zonal\n",
    " - data merged_slats_field_agb_dp1_start.csv"
   ]
  },
  {
   "cell_type": "code",
   "execution_count": 1,
   "metadata": {},
   "outputs": [
    {
     "name": "stderr",
     "output_type": "stream",
     "text": [
      "C:\\Users\\rmcgr\\AppData\\Roaming\\Python\\Python37\\site-packages\\statsmodels\\tools\\_testing.py:19: FutureWarning: pandas.util.testing is deprecated. Use the functions in the public API at pandas.testing instead.\n",
      "  import pandas.util.testing as tm\n"
     ]
    }
   ],
   "source": [
    "\n",
    "\n",
    "%matplotlib inline\n",
    "import sklearn\n",
    "import pandas as pd\n",
    "pd.set_option('display.float_format', '{:.2f}'.format)\n",
    "import numpy as np\n",
    "from random import sample\n",
    "from sklearn.ensemble import RandomForestRegressor as rfr\n",
    "from sklearn.ensemble import ExtraTreesRegressor as etr\n",
    "from sklearn.ensemble import GradientBoostingRegressor as gbr\n",
    "from sklearn.ensemble import AdaBoostRegressor as abr\n",
    "from sklearn.tree import DecisionTreeRegressor as dtr\n",
    "import matplotlib.pyplot as plt\n",
    "import csv\n",
    "from sklearn.model_selection import train_test_split\n",
    "\n",
    "# import plotting and stats modules\n",
    "\n",
    "import matplotlib.pyplot as plt\n",
    "import seaborn as sns\n",
    "import os\n",
    "import scipy\n",
    "import scipy.stats as sc\n",
    "import numpy as np\n",
    "from glob import glob\n",
    "\n",
    "# stats module\n",
    "import statsmodels.api as sm\n",
    "from statsmodels.tools.tools import add_constant\n",
    "from statsmodels.sandbox.regression.predstd import wls_prediction_std\n",
    "from statsmodels.stats.outliers_influence import variance_inflation_factor\n",
    "\n",
    "from bokeh.io import output_notebook, output_file\n",
    "from bokeh.plotting import figure, show, save\n",
    "#%matplotlib inline\n",
    "\n",
    "# Bokeh Libraries\n",
    "# from bokeh.plotting import figure, show\n",
    "# from bokeh.io import output_file\n",
    "from bokeh.models import ColumnDataSource, NumeralTickFormatter, HoverTool\n",
    "\n",
    "\n",
    "from sklearn.model_selection import cross_validate\n",
    "#sklearn.model_selection.cross_validate\n",
    "# from sklearn import cross_validation\n",
    "from sklearn.metrics import explained_variance_score\n",
    "from sklearn import metrics\n",
    "from sklearn.metrics import mean_squared_error\n",
    "from sklearn.model_selection import GridSearchCV\n",
    "#from sklearn.cross_validation import KFold\n",
    "import pickle5 as Pickle"
   ]
  },
  {
   "cell_type": "markdown",
   "metadata": {},
   "source": [
    "### Import data"
   ]
  },
  {
   "cell_type": "code",
   "execution_count": 9,
   "metadata": {},
   "outputs": [],
   "source": [
    "date = \"20230109\""
   ]
  },
  {
   "cell_type": "code",
   "execution_count": 10,
   "metadata": {},
   "outputs": [],
   "source": [
    "#csv_file = r\"F:\\cdu\\data\\zonal_stats\\output\\merged_slats_field_nt_mosaic_clean_start_all_values.csv\"\n",
    "#csv_file = r\"E:\\cdu\\data\\zonal_stats\\output\\merged_slats_field_agb_dp1_start.csv\"\n",
    "csv_file = r\"F:\\cdu\\data\\zonal_stats\\output\\{0}\\dja_dbi_dim_dis_dka_stc_h99a2_fpca2_dry_indicies_clean.csv\".format(date)\n"
   ]
  },
  {
   "cell_type": "markdown",
   "metadata": {},
   "source": [
    "## Set output file locations"
   ]
  },
  {
   "cell_type": "code",
   "execution_count": 11,
   "metadata": {},
   "outputs": [],
   "source": [
    "output_ = r\"F:\\cdu\\data\\zonal_stats\\output\\{0}\\plots\".format(date)"
   ]
  },
  {
   "cell_type": "code",
   "execution_count": 12,
   "metadata": {},
   "outputs": [],
   "source": [
    "if not os.path.isdir(output_):\n",
    "    os.mkdir(output_)"
   ]
  },
  {
   "cell_type": "code",
   "execution_count": 13,
   "metadata": {},
   "outputs": [
    {
     "name": "stdout",
     "output_type": "stream",
     "text": [
      "(167, 164)\n",
      "['site', 'bio_agb_kg1ha', 'b1_dja_min', 'b1_dja_max', 'b1_dja_mean', 'b1_dja_med', 'b1_dja_std', 'b1_dja_p25', 'b1_dja_p50', 'b1_dja_p75', 'b1_dja_p95', 'b1_dja_p99', 'b1_dbi_min', 'b1_dbi_max', 'b1_dbi_mean', 'b1_dbi_med', 'b1_dbi_std', 'b1_dbi_p25', 'b1_dbi_p50', 'b1_dbi_p75', 'b1_dbi_p95', 'b1_dbi_p99', 'b2_dbi_min', 'b2_dbi_max', 'b2_dbi_mean', 'b2_dbi_med', 'b2_dbi_std', 'b2_dbi_p25', 'b2_dbi_p50', 'b2_dbi_p75', 'b2_dbi_p95', 'b2_dbi_p99', 'b3_dbi_min', 'b3_dbi_max', 'b3_dbi_mean', 'b3_dbi_med', 'b3_dbi_std', 'b3_dbi_p25', 'b3_dbi_p50', 'b3_dbi_p75', 'b3_dbi_p95', 'b3_dbi_p99', 'b4_dbi_min', 'b4_dbi_max', 'b4_dbi_mean', 'b4_dbi_med', 'b4_dbi_std', 'b4_dbi_p25', 'b4_dbi_p50', 'b4_dbi_p75', 'b4_dbi_p95', 'b4_dbi_p99', 'b5_dbi_min', 'b5_dbi_max', 'b5_dbi_mean', 'b5_dbi_med', 'b5_dbi_std', 'b5_dbi_p25', 'b5_dbi_p50', 'b5_dbi_p75', 'b5_dbi_p95', 'b5_dbi_p99', 'b6_dbi_min', 'b6_dbi_max', 'b6_dbi_mean', 'b6_dbi_med', 'b6_dbi_std', 'b6_dbi_p25', 'b6_dbi_p50', 'b6_dbi_p75', 'b6_dbi_p95', 'b6_dbi_p99', 'b1_dim_min', 'b1_dim_max', 'b1_dim_mean', 'b1_dim_med', 'b1_dim_std', 'b1_dim_p25', 'b1_dim_p50', 'b1_dim_p75', 'b1_dim_p95', 'b1_dim_p99', 'b2_dim_min', 'b2_dim_max', 'b2_dim_mean', 'b2_dim_med', 'b2_dim_std', 'b2_dim_p25', 'b2_dim_p50', 'b2_dim_p75', 'b2_dim_p95', 'b2_dim_p99', 'b3_dim_min', 'b3_dim_max', 'b3_dim_mean', 'b3_dim_med', 'b3_dim_std', 'b3_dim_p25', 'b3_dim_p50', 'b3_dim_p75', 'b3_dim_p95', 'b3_dim_p99', 'dis_min', 'dis_max', 'dis_mean', 'dis_med', 'dis_major', 'dis_minor', 'dka_min', 'dka_max', 'dka_mean', 'dka_med', 'dka_major', 'dka_minor', 'stc_min', 'stc_max', 'stc_mean', 'stc_med', 'stc_major', 'stc_minor', 'h99a2_min', 'h99a2_max', 'h99a2_mean', 'h99a2_med', 'h99a2_std', 'h99a2_p25', 'h99a2_p50', 'h99a2_p75', 'h99a2_p95', 'h99a2_p99', 'fpca2_min', 'fpca2_max', 'fpca2_mean', 'fpca2_med', 'fpca2_std', 'fpca2_p25', 'fpca2_p50', 'fpca2_p75', 'fpca2_p95', 'fpca2_p99', 'fpca2_imdate', 'ratio32m', 'ratio42m', 'ratio43m', 'ratio52m', 'ratio53m', 'ratio54m', 'ratio62m', 'ratio63m', 'ratio64m', 'ratio65m', 'GSAVIm', 'GNDVIm', 'CVIm', 'NDGIm', 'RIm', 'NBRm', 'NDIIm', 'GDVIm', 'MSAVIm', 'DVIm', 'SAVIm', 'NDVIm', 'MSRm']\n"
     ]
    }
   ],
   "source": [
    "# read as dataframe and copy\n",
    "df1 = pd.read_csv(csv_file, header=0) # the first row is read in as the header for you columns\n",
    "print(df1.shape) # prints out the number of rows and columns in your csv file \n",
    "print(list(df1))\n",
    "df1.shape\n",
    "df2 = df1.copy()"
   ]
  },
  {
   "cell_type": "code",
   "execution_count": 14,
   "metadata": {},
   "outputs": [],
   "source": [
    "# drop_list = ['dis_one', 'dis_two', 'dis_three', 'dis_four', 'dis_five', 'dis_six', 'dis_seven', 'dis_eight', 'dis_nine', 'dis_ten',\n",
    "#  'dka_jan', 'dka_feb', 'dka_mar', 'dka_april', 'dka_may', 'dka_june', 'dka_july', 'dka_aug', 'dka_sep', 'dka_oct', 'dka_nov', 'dka_dec',\n",
    "#     'stc_one', 'stc_two', 'stc_three', 'stc_four', 'stc_five', 'stc_six', 'stc_seven', 'stc_eight', 'stc_nine', 'stc_ten', 'stc_elev', \n",
    "#     'stc_twelv', 'stc_thirt', 'stc_fourt', 'stc_fift', 'stc_sixt', 'stc_sevent', 'dka_sum', 'dka_sum.1', 'dka_sum.2', 'dka_sum.3', \n",
    "#              'stc_sum', 'stc_sum.1', 'stc_sum.2', 'stc_sum.3']\n"
   ]
  },
  {
   "cell_type": "code",
   "execution_count": 15,
   "metadata": {},
   "outputs": [],
   "source": [
    "# # Drop multiple columns\n",
    "# df2.drop(drop_list, axis = 1, inplace=True)"
   ]
  },
  {
   "cell_type": "code",
   "execution_count": 16,
   "metadata": {},
   "outputs": [
    {
     "name": "stdout",
     "output_type": "stream",
     "text": [
      "['site', 'bio_agb_kg1ha', 'b1_dja_min', 'b1_dja_max', 'b1_dja_mean', 'b1_dja_med', 'b1_dja_std', 'b1_dja_p25', 'b1_dja_p50', 'b1_dja_p75', 'b1_dja_p95', 'b1_dja_p99', 'b1_dbi_min', 'b1_dbi_max', 'b1_dbi_mean', 'b1_dbi_med', 'b1_dbi_std', 'b1_dbi_p25', 'b1_dbi_p50', 'b1_dbi_p75', 'b1_dbi_p95', 'b1_dbi_p99', 'b2_dbi_min', 'b2_dbi_max', 'b2_dbi_mean', 'b2_dbi_med', 'b2_dbi_std', 'b2_dbi_p25', 'b2_dbi_p50', 'b2_dbi_p75', 'b2_dbi_p95', 'b2_dbi_p99', 'b3_dbi_min', 'b3_dbi_max', 'b3_dbi_mean', 'b3_dbi_med', 'b3_dbi_std', 'b3_dbi_p25', 'b3_dbi_p50', 'b3_dbi_p75', 'b3_dbi_p95', 'b3_dbi_p99', 'b4_dbi_min', 'b4_dbi_max', 'b4_dbi_mean', 'b4_dbi_med', 'b4_dbi_std', 'b4_dbi_p25', 'b4_dbi_p50', 'b4_dbi_p75', 'b4_dbi_p95', 'b4_dbi_p99', 'b5_dbi_min', 'b5_dbi_max', 'b5_dbi_mean', 'b5_dbi_med', 'b5_dbi_std', 'b5_dbi_p25', 'b5_dbi_p50', 'b5_dbi_p75', 'b5_dbi_p95', 'b5_dbi_p99', 'b6_dbi_min', 'b6_dbi_max', 'b6_dbi_mean', 'b6_dbi_med', 'b6_dbi_std', 'b6_dbi_p25', 'b6_dbi_p50', 'b6_dbi_p75', 'b6_dbi_p95', 'b6_dbi_p99', 'b1_dim_min', 'b1_dim_max', 'b1_dim_mean', 'b1_dim_med', 'b1_dim_std', 'b1_dim_p25', 'b1_dim_p50', 'b1_dim_p75', 'b1_dim_p95', 'b1_dim_p99', 'b2_dim_min', 'b2_dim_max', 'b2_dim_mean', 'b2_dim_med', 'b2_dim_std', 'b2_dim_p25', 'b2_dim_p50', 'b2_dim_p75', 'b2_dim_p95', 'b2_dim_p99', 'b3_dim_min', 'b3_dim_max', 'b3_dim_mean', 'b3_dim_med', 'b3_dim_std', 'b3_dim_p25', 'b3_dim_p50', 'b3_dim_p75', 'b3_dim_p95', 'b3_dim_p99', 'dis_min', 'dis_max', 'dis_mean', 'dis_med', 'dis_major', 'dis_minor', 'dka_min', 'dka_max', 'dka_mean', 'dka_med', 'dka_major', 'dka_minor', 'stc_min', 'stc_max', 'stc_mean', 'stc_med', 'stc_major', 'stc_minor', 'h99a2_min', 'h99a2_max', 'h99a2_mean', 'h99a2_med', 'h99a2_std', 'h99a2_p25', 'h99a2_p50', 'h99a2_p75', 'h99a2_p95', 'h99a2_p99', 'fpca2_min', 'fpca2_max', 'fpca2_mean', 'fpca2_med', 'fpca2_std', 'fpca2_p25', 'fpca2_p50', 'fpca2_p75', 'fpca2_p95', 'fpca2_p99', 'fpca2_imdate', 'ratio32m', 'ratio42m', 'ratio43m', 'ratio52m', 'ratio53m', 'ratio54m', 'ratio62m', 'ratio63m', 'ratio64m', 'ratio65m', 'GSAVIm', 'GNDVIm', 'CVIm', 'NDGIm', 'RIm', 'NBRm', 'NDIIm', 'GDVIm', 'MSAVIm', 'DVIm', 'SAVIm', 'NDVIm', 'MSRm']\n"
     ]
    }
   ],
   "source": [
    "print(list(df2.columns))"
   ]
  },
  {
   "cell_type": "code",
   "execution_count": 19,
   "metadata": {},
   "outputs": [],
   "source": [
    "# select_carbon_df = df2[['site', 'date', 'c_agb_kg1ha', 'b1_dja_min', 'b1_dja_max', 'b1_dja_mean', 'b1_dja_med', \n",
    "#                  'b1_dja_std', 'b1_dja_p25', 'b1_dja_p50', 'b1_dja_p75', 'b1_dja_p95', 'b1_dja_p99', 'b1_dbi_min', 'b1_dbi_max', \n",
    "#                  'b1_dbi_mean', 'b1_dbi_med', 'b1_dbi_std', 'b1_dbi_p25', 'b1_dbi_p50', 'b1_dbi_p75', 'b1_dbi_p95', 'b1_dbi_p99', \n",
    "#                  'b2_dbi_min', 'b2_dbi_max', 'b2_dbi_mean', 'b2_dbi_med', 'b2_dbi_std', 'b2_dbi_p25', 'b2_dbi_p50', 'b2_dbi_p75', \n",
    "#                  'b2_dbi_p95', 'b2_dbi_p99', 'b3_dbi_min', 'b3_dbi_max', 'b3_dbi_mean', 'b3_dbi_med', 'b3_dbi_std', 'b3_dbi_p25', \n",
    "#                  'b3_dbi_p50', 'b3_dbi_p75', 'b3_dbi_p95', 'b3_dbi_p99', 'b4_dbi_min', 'b4_dbi_max', 'b4_dbi_mean', 'b4_dbi_med', \n",
    "#                  'b4_dbi_std', 'b4_dbi_p25', 'b4_dbi_p50', 'b4_dbi_p75', 'b4_dbi_p95', 'b4_dbi_p99', 'b5_dbi_min', 'b5_dbi_max', \n",
    "#                  'b5_dbi_mean', 'b5_dbi_med', 'b5_dbi_std', 'b5_dbi_p25', 'b5_dbi_p50', 'b5_dbi_p75', 'b5_dbi_p95', 'b5_dbi_p99', \n",
    "#                  'b6_dbi_min', 'b6_dbi_max', 'b6_dbi_mean', 'b6_dbi_med', 'b6_dbi_std', 'b6_dbi_p25', 'b6_dbi_p50', 'b6_dbi_p75', \n",
    "#                  'b6_dbi_p95', 'b6_dbi_p99', 'b1_dim_min', 'b1_dim_max', 'b1_dim_mean', 'b1_dim_med', 'b1_dim_std', 'b1_dim_p25', \n",
    "#                  'b1_dim_p50', 'b1_dim_p75', 'b1_dim_p95', 'b1_dim_p99', 'b2_dim_min', 'b2_dim_max', 'b2_dim_mean', 'b2_dim_med', \n",
    "#                  'b2_dim_std', 'b2_dim_p25', 'b2_dim_p50', 'b2_dim_p75', 'b2_dim_p95', 'b2_dim_p99', 'b3_dim_min', 'b3_dim_max', \n",
    "#                  'b3_dim_mean', 'b3_dim_med', 'b3_dim_std', 'b3_dim_p25', 'b3_dim_p50', 'b3_dim_p75', 'b3_dim_p95', 'b3_dim_p99', \n",
    "#                  'dis_min', 'dis_max', 'dis_mean', 'dis_med', 'dis_major', 'dis_minor', 'dka_min', 'dka_max', 'dka_mean', 'dka_med', \n",
    "#                  'dka_major', 'dka_minor', 'stc_min', 'stc_max', 'stc_mean', 'stc_med', 'stc_major', 'stc_minor', 'h99a2_min', \n",
    "#                  'h99a2_max', 'h99a2_mean', 'h99a2_med', 'h99a2_std', 'h99a2_p25', 'h99a2_p50', 'h99a2_p75', 'h99a2_p95', \n",
    "#                  'h99a2_p99', 'fpca2_min', 'fpca2_max', 'fpca2_mean', 'fpca2_med', 'fpca2_std', 'fpca2_p25', 'fpca2_p50', \n",
    "#                  'fpca2_p75', 'fpca2_p95', 'fpca2_p99', 'fpca2_imdate', 'ratio32m', 'ratio42m', 'ratio43m', 'ratio52m', 'ratio53m', \n",
    "#                  'ratio54m', 'ratio62m', 'ratio63m', 'ratio64m', 'ratio65m', \n",
    "#                  'GSAVIm', 'GNDVIm', 'CVIm', 'NDGIm', 'RIm', 'NBRm', 'NDIIm', 'GDVIm', 'MSAVIm', 'DVIm', 'SAVIm', 'NDVIm', 'MSRm']]"
   ]
  },
  {
   "cell_type": "code",
   "execution_count": 20,
   "metadata": {},
   "outputs": [
    {
     "ename": "KeyError",
     "evalue": "\"['date'] not in index\"",
     "output_type": "error",
     "traceback": [
      "\u001b[1;31m---------------------------------------------------------------------------\u001b[0m",
      "\u001b[1;31mKeyError\u001b[0m                                  Traceback (most recent call last)",
      "\u001b[1;32m<ipython-input-20-d5f1cc038046>\u001b[0m in \u001b[0;36m<module>\u001b[1;34m()\u001b[0m\n\u001b[0;32m     18\u001b[0m                  \u001b[1;34m'fpca2_p75'\u001b[0m\u001b[1;33m,\u001b[0m \u001b[1;34m'fpca2_p95'\u001b[0m\u001b[1;33m,\u001b[0m \u001b[1;34m'fpca2_p99'\u001b[0m\u001b[1;33m,\u001b[0m \u001b[1;34m'fpca2_imdate'\u001b[0m\u001b[1;33m,\u001b[0m \u001b[1;34m'ratio32m'\u001b[0m\u001b[1;33m,\u001b[0m \u001b[1;34m'ratio42m'\u001b[0m\u001b[1;33m,\u001b[0m \u001b[1;34m'ratio43m'\u001b[0m\u001b[1;33m,\u001b[0m \u001b[1;34m'ratio52m'\u001b[0m\u001b[1;33m,\u001b[0m \u001b[1;34m'ratio53m'\u001b[0m\u001b[1;33m,\u001b[0m\u001b[1;33m\u001b[0m\u001b[1;33m\u001b[0m\u001b[0m\n\u001b[0;32m     19\u001b[0m                  \u001b[1;34m'ratio54m'\u001b[0m\u001b[1;33m,\u001b[0m \u001b[1;34m'ratio62m'\u001b[0m\u001b[1;33m,\u001b[0m \u001b[1;34m'ratio63m'\u001b[0m\u001b[1;33m,\u001b[0m \u001b[1;34m'ratio64m'\u001b[0m\u001b[1;33m,\u001b[0m \u001b[1;34m'ratio65m'\u001b[0m\u001b[1;33m,\u001b[0m\u001b[1;33m\u001b[0m\u001b[1;33m\u001b[0m\u001b[0m\n\u001b[1;32m---> 20\u001b[1;33m                  'GSAVIm', 'GNDVIm', 'CVIm', 'NDGIm', 'RIm', 'NBRm', 'NDIIm', 'GDVIm', 'MSAVIm', 'DVIm', 'SAVIm', 'NDVIm', 'MSRm']]\n\u001b[0m",
      "\u001b[1;32mC:\\Users\\rmcgr\\AppData\\Roaming\\Python\\Python37\\site-packages\\pandas\\core\\frame.py\u001b[0m in \u001b[0;36m__getitem__\u001b[1;34m(self, key)\u001b[0m\n\u001b[0;32m   3462\u001b[0m             \u001b[1;32mif\u001b[0m \u001b[0mis_iterator\u001b[0m\u001b[1;33m(\u001b[0m\u001b[0mkey\u001b[0m\u001b[1;33m)\u001b[0m\u001b[1;33m:\u001b[0m\u001b[1;33m\u001b[0m\u001b[1;33m\u001b[0m\u001b[0m\n\u001b[0;32m   3463\u001b[0m                 \u001b[0mkey\u001b[0m \u001b[1;33m=\u001b[0m \u001b[0mlist\u001b[0m\u001b[1;33m(\u001b[0m\u001b[0mkey\u001b[0m\u001b[1;33m)\u001b[0m\u001b[1;33m\u001b[0m\u001b[1;33m\u001b[0m\u001b[0m\n\u001b[1;32m-> 3464\u001b[1;33m             \u001b[0mindexer\u001b[0m \u001b[1;33m=\u001b[0m \u001b[0mself\u001b[0m\u001b[1;33m.\u001b[0m\u001b[0mloc\u001b[0m\u001b[1;33m.\u001b[0m\u001b[0m_get_listlike_indexer\u001b[0m\u001b[1;33m(\u001b[0m\u001b[0mkey\u001b[0m\u001b[1;33m,\u001b[0m \u001b[0maxis\u001b[0m\u001b[1;33m=\u001b[0m\u001b[1;36m1\u001b[0m\u001b[1;33m)\u001b[0m\u001b[1;33m[\u001b[0m\u001b[1;36m1\u001b[0m\u001b[1;33m]\u001b[0m\u001b[1;33m\u001b[0m\u001b[1;33m\u001b[0m\u001b[0m\n\u001b[0m\u001b[0;32m   3465\u001b[0m \u001b[1;33m\u001b[0m\u001b[0m\n\u001b[0;32m   3466\u001b[0m         \u001b[1;31m# take() does not accept boolean indexers\u001b[0m\u001b[1;33m\u001b[0m\u001b[1;33m\u001b[0m\u001b[1;33m\u001b[0m\u001b[0m\n",
      "\u001b[1;32mC:\\Users\\rmcgr\\AppData\\Roaming\\Python\\Python37\\site-packages\\pandas\\core\\indexing.py\u001b[0m in \u001b[0;36m_get_listlike_indexer\u001b[1;34m(self, key, axis)\u001b[0m\n\u001b[0;32m   1312\u001b[0m             \u001b[0mkeyarr\u001b[0m\u001b[1;33m,\u001b[0m \u001b[0mindexer\u001b[0m\u001b[1;33m,\u001b[0m \u001b[0mnew_indexer\u001b[0m \u001b[1;33m=\u001b[0m \u001b[0max\u001b[0m\u001b[1;33m.\u001b[0m\u001b[0m_reindex_non_unique\u001b[0m\u001b[1;33m(\u001b[0m\u001b[0mkeyarr\u001b[0m\u001b[1;33m)\u001b[0m\u001b[1;33m\u001b[0m\u001b[1;33m\u001b[0m\u001b[0m\n\u001b[0;32m   1313\u001b[0m \u001b[1;33m\u001b[0m\u001b[0m\n\u001b[1;32m-> 1314\u001b[1;33m         \u001b[0mself\u001b[0m\u001b[1;33m.\u001b[0m\u001b[0m_validate_read_indexer\u001b[0m\u001b[1;33m(\u001b[0m\u001b[0mkeyarr\u001b[0m\u001b[1;33m,\u001b[0m \u001b[0mindexer\u001b[0m\u001b[1;33m,\u001b[0m \u001b[0maxis\u001b[0m\u001b[1;33m)\u001b[0m\u001b[1;33m\u001b[0m\u001b[1;33m\u001b[0m\u001b[0m\n\u001b[0m\u001b[0;32m   1315\u001b[0m \u001b[1;33m\u001b[0m\u001b[0m\n\u001b[0;32m   1316\u001b[0m         if needs_i8_conversion(ax.dtype) or isinstance(\n",
      "\u001b[1;32mC:\\Users\\rmcgr\\AppData\\Roaming\\Python\\Python37\\site-packages\\pandas\\core\\indexing.py\u001b[0m in \u001b[0;36m_validate_read_indexer\u001b[1;34m(self, key, indexer, axis)\u001b[0m\n\u001b[0;32m   1375\u001b[0m \u001b[1;33m\u001b[0m\u001b[0m\n\u001b[0;32m   1376\u001b[0m             \u001b[0mnot_found\u001b[0m \u001b[1;33m=\u001b[0m \u001b[0mlist\u001b[0m\u001b[1;33m(\u001b[0m\u001b[0mensure_index\u001b[0m\u001b[1;33m(\u001b[0m\u001b[0mkey\u001b[0m\u001b[1;33m)\u001b[0m\u001b[1;33m[\u001b[0m\u001b[0mmissing_mask\u001b[0m\u001b[1;33m.\u001b[0m\u001b[0mnonzero\u001b[0m\u001b[1;33m(\u001b[0m\u001b[1;33m)\u001b[0m\u001b[1;33m[\u001b[0m\u001b[1;36m0\u001b[0m\u001b[1;33m]\u001b[0m\u001b[1;33m]\u001b[0m\u001b[1;33m.\u001b[0m\u001b[0munique\u001b[0m\u001b[1;33m(\u001b[0m\u001b[1;33m)\u001b[0m\u001b[1;33m)\u001b[0m\u001b[1;33m\u001b[0m\u001b[1;33m\u001b[0m\u001b[0m\n\u001b[1;32m-> 1377\u001b[1;33m             \u001b[1;32mraise\u001b[0m \u001b[0mKeyError\u001b[0m\u001b[1;33m(\u001b[0m\u001b[1;34mf\"{not_found} not in index\"\u001b[0m\u001b[1;33m)\u001b[0m\u001b[1;33m\u001b[0m\u001b[1;33m\u001b[0m\u001b[0m\n\u001b[0m\u001b[0;32m   1378\u001b[0m \u001b[1;33m\u001b[0m\u001b[0m\n\u001b[0;32m   1379\u001b[0m \u001b[1;33m\u001b[0m\u001b[0m\n",
      "\u001b[1;31mKeyError\u001b[0m: \"['date'] not in index\""
     ]
    }
   ],
   "source": [
    "select_agb_df = df2[['site', 'date',  'bio_agb_kg1ha','b1_dja_min', 'b1_dja_max', 'b1_dja_mean', 'b1_dja_med', \n",
    "                 'b1_dja_std', 'b1_dja_p25', 'b1_dja_p50', 'b1_dja_p75', 'b1_dja_p95', 'b1_dja_p99', 'b1_dbi_min', 'b1_dbi_max', \n",
    "                 'b1_dbi_mean', 'b1_dbi_med', 'b1_dbi_std', 'b1_dbi_p25', 'b1_dbi_p50', 'b1_dbi_p75', 'b1_dbi_p95', 'b1_dbi_p99', \n",
    "                 'b2_dbi_min', 'b2_dbi_max', 'b2_dbi_mean', 'b2_dbi_med', 'b2_dbi_std', 'b2_dbi_p25', 'b2_dbi_p50', 'b2_dbi_p75', \n",
    "                 'b2_dbi_p95', 'b2_dbi_p99', 'b3_dbi_min', 'b3_dbi_max', 'b3_dbi_mean', 'b3_dbi_med', 'b3_dbi_std', 'b3_dbi_p25', \n",
    "                 'b3_dbi_p50', 'b3_dbi_p75', 'b3_dbi_p95', 'b3_dbi_p99', 'b4_dbi_min', 'b4_dbi_max', 'b4_dbi_mean', 'b4_dbi_med', \n",
    "                 'b4_dbi_std', 'b4_dbi_p25', 'b4_dbi_p50', 'b4_dbi_p75', 'b4_dbi_p95', 'b4_dbi_p99', 'b5_dbi_min', 'b5_dbi_max', \n",
    "                 'b5_dbi_mean', 'b5_dbi_med', 'b5_dbi_std', 'b5_dbi_p25', 'b5_dbi_p50', 'b5_dbi_p75', 'b5_dbi_p95', 'b5_dbi_p99', \n",
    "                 'b6_dbi_min', 'b6_dbi_max', 'b6_dbi_mean', 'b6_dbi_med', 'b6_dbi_std', 'b6_dbi_p25', 'b6_dbi_p50', 'b6_dbi_p75', \n",
    "                 'b6_dbi_p95', 'b6_dbi_p99', 'b1_dim_min', 'b1_dim_max', 'b1_dim_mean', 'b1_dim_med', 'b1_dim_std', 'b1_dim_p25', \n",
    "                 'b1_dim_p50', 'b1_dim_p75', 'b1_dim_p95', 'b1_dim_p99', 'b2_dim_min', 'b2_dim_max', 'b2_dim_mean', 'b2_dim_med', \n",
    "                 'b2_dim_std', 'b2_dim_p25', 'b2_dim_p50', 'b2_dim_p75', 'b2_dim_p95', 'b2_dim_p99', 'b3_dim_min', 'b3_dim_max', \n",
    "                 'b3_dim_mean', 'b3_dim_med', 'b3_dim_std', 'b3_dim_p25', 'b3_dim_p50', 'b3_dim_p75', 'b3_dim_p95', 'b3_dim_p99', \n",
    "                 'dis_min', 'dis_max', 'dis_mean', 'dis_med', 'dis_major', 'dis_minor', 'dka_min', 'dka_max', 'dka_mean', 'dka_med', \n",
    "                 'dka_major', 'dka_minor', 'stc_min', 'stc_max', 'stc_mean', 'stc_med', 'stc_major', 'stc_minor', 'h99a2_min', \n",
    "                 'h99a2_max', 'h99a2_mean', 'h99a2_med', 'h99a2_std', 'h99a2_p25', 'h99a2_p50', 'h99a2_p75', 'h99a2_p95', \n",
    "                 'h99a2_p99', 'fpca2_min', 'fpca2_max', 'fpca2_mean', 'fpca2_med', 'fpca2_std', 'fpca2_p25', 'fpca2_p50', \n",
    "                 'fpca2_p75', 'fpca2_p95', 'fpca2_p99', 'fpca2_imdate', 'ratio32m', 'ratio42m', 'ratio43m', 'ratio52m', 'ratio53m', \n",
    "                 'ratio54m', 'ratio62m', 'ratio63m', 'ratio64m', 'ratio65m', \n",
    "                 'GSAVIm', 'GNDVIm', 'CVIm', 'NDGIm', 'RIm', 'NBRm', 'NDIIm', 'GDVIm', 'MSAVIm', 'DVIm', 'SAVIm', 'NDVIm', 'MSRm']]"
   ]
  },
  {
   "cell_type": "code",
   "execution_count": 21,
   "metadata": {
    "scrolled": false
   },
   "outputs": [
    {
     "name": "stdout",
     "output_type": "stream",
     "text": [
      "<class 'pandas.core.frame.DataFrame'>\n",
      "RangeIndex: 167 entries, 0 to 166\n",
      "Columns: 164 entries, site to MSRm\n",
      "dtypes: float64(139), int64(23), object(2)\n",
      "memory usage: 214.1+ KB\n"
     ]
    }
   ],
   "source": [
    "df2.info()"
   ]
  },
  {
   "cell_type": "code",
   "execution_count": null,
   "metadata": {},
   "outputs": [],
   "source": []
  },
  {
   "cell_type": "markdown",
   "metadata": {},
   "source": [
    "### Set variables to plot"
   ]
  },
  {
   "cell_type": "code",
   "execution_count": 22,
   "metadata": {},
   "outputs": [],
   "source": [
    "# predicted value is x\n",
    "value_x = 'bio_agb_kg1ha'\n",
    "# variable is y\n",
    "value_y = \"fpca2_p50\"\n",
    "value_a = 'h99a2_p95'\n",
    "value_b = 'stc_med'\n"
   ]
  },
  {
   "cell_type": "code",
   "execution_count": 23,
   "metadata": {},
   "outputs": [
    {
     "data": {
      "text/plain": [
       "'fpca2_p50'"
      ]
     },
     "execution_count": 23,
     "metadata": {},
     "output_type": "execute_result"
    }
   ],
   "source": [
    "value_y"
   ]
  },
  {
   "cell_type": "code",
   "execution_count": 24,
   "metadata": {},
   "outputs": [
    {
     "data": {
      "text/plain": [
       "(167, 164)"
      ]
     },
     "execution_count": 24,
     "metadata": {},
     "output_type": "execute_result"
    }
   ],
   "source": [
    "df2.shape"
   ]
  },
  {
   "cell_type": "code",
   "execution_count": 25,
   "metadata": {},
   "outputs": [],
   "source": [
    "def save_fig(value_x, value_y):\n",
    "    # Output to file\n",
    "    output_file(os.path.join(output_,'all_sites_{0}_{1}.html'.format(value_x, value_y)),\n",
    "                title='Relationship between {0} and {1}'.format(value_x.replace(\"_\", \" \"), value_y.replace(\"_\", \" \")))\n",
    "\n",
    "\n",
    "    #Specify the selection tools to be made available\n",
    "    select_tools = ['box_select', 'lasso_select', 'poly_select', 'tap', 'zoom_in', 'zoom_out', 'wheel_zoom', 'reset']\n",
    "\n",
    "    #print(test)\n",
    "    # Format the tooltip\n",
    "    tooltips = [\n",
    "                ('Site', '@site'),\n",
    "                ('Date', '@date'),\n",
    "                (value_x, '@{0}'.format(value_x)),\n",
    "                (value_y, '@{0}'.format(value_y)),   \n",
    "                (value_a, '@{0}'.format(value_a)),\n",
    "                (value_b, '@{0}'.format(value_b)) \n",
    "               ]\n",
    "\n",
    "    # Create the figure\n",
    "    fig = figure(plot_height=400,\n",
    "                 plot_width=1500,\n",
    "                 y_axis_label= value_y.replace(\"_\", \" \"), \n",
    "                 x_axis_label= value_x.replace(\"_\", \" \"),\n",
    "                 title='Relationship between {0} and {1}'.format(value_x.replace(\"_\", \" \"), value_y.replace(\"_\", \" \")),\n",
    "                 toolbar_location='below',\n",
    "                 tools=select_tools)\n",
    "\n",
    "    # # Format the y-axis tick label\n",
    "    fig.yaxis[0].formatter = NumeralTickFormatter(format='0')\n",
    "\n",
    "    # Add square representing each site\n",
    "    fig.square(x= value_x,\n",
    "               y= value_y,\n",
    "               source=df2.round(4),\n",
    "               size=5,\n",
    "               color='royalblue',\n",
    "               selection_color='deepskyblue',\n",
    "               nonselection_color='lightgray',\n",
    "               nonselection_alpha=0.3)\n",
    "\n",
    "    # Add the HoverTool to the figure\n",
    "    fig.add_tools(HoverTool(tooltips=tooltips))\n",
    "\n",
    "    # Visualize\n",
    "    save(fig)"
   ]
  },
  {
   "cell_type": "code",
   "execution_count": 26,
   "metadata": {},
   "outputs": [],
   "source": [
    "save_fig(value_x, value_y)"
   ]
  },
  {
   "cell_type": "code",
   "execution_count": 27,
   "metadata": {},
   "outputs": [
    {
     "ename": "NameError",
     "evalue": "name 'select_agb_df' is not defined",
     "output_type": "error",
     "traceback": [
      "\u001b[1;31m---------------------------------------------------------------------------\u001b[0m",
      "\u001b[1;31mNameError\u001b[0m                                 Traceback (most recent call last)",
      "\u001b[1;32m<ipython-input-27-2faca24c83c4>\u001b[0m in \u001b[0;36m<module>\u001b[1;34m()\u001b[0m\n\u001b[1;32m----> 1\u001b[1;33m \u001b[0mcolumn_list\u001b[0m \u001b[1;33m=\u001b[0m \u001b[0mselect_agb_df\u001b[0m\u001b[1;33m.\u001b[0m\u001b[0mcolumns\u001b[0m\u001b[1;33m.\u001b[0m\u001b[0mto_list\u001b[0m\u001b[1;33m(\u001b[0m\u001b[1;33m)\u001b[0m\u001b[1;33m\u001b[0m\u001b[1;33m\u001b[0m\u001b[0m\n\u001b[0m\u001b[0;32m      2\u001b[0m \u001b[0my_list\u001b[0m \u001b[1;33m=\u001b[0m \u001b[0mcolumn_list\u001b[0m\u001b[1;33m[\u001b[0m\u001b[1;36m3\u001b[0m\u001b[1;33m:\u001b[0m\u001b[1;33m]\u001b[0m\u001b[1;33m\u001b[0m\u001b[1;33m\u001b[0m\u001b[0m\n\u001b[0;32m      3\u001b[0m \u001b[0mvalue_x\u001b[0m \u001b[1;33m=\u001b[0m \u001b[0mcolumn_list\u001b[0m\u001b[1;33m[\u001b[0m\u001b[1;36m2\u001b[0m\u001b[1;33m:\u001b[0m\u001b[1;36m3\u001b[0m\u001b[1;33m]\u001b[0m\u001b[1;33m[\u001b[0m\u001b[1;36m0\u001b[0m\u001b[1;33m]\u001b[0m\u001b[1;33m\u001b[0m\u001b[1;33m\u001b[0m\u001b[0m\n\u001b[0;32m      4\u001b[0m \u001b[1;33m\u001b[0m\u001b[0m\n\u001b[0;32m      5\u001b[0m \u001b[1;33m\u001b[0m\u001b[0m\n",
      "\u001b[1;31mNameError\u001b[0m: name 'select_agb_df' is not defined"
     ]
    }
   ],
   "source": [
    "column_list = select_agb_df.columns.to_list()\n",
    "y_list = column_list[3:]\n",
    "value_x = column_list[2:3][0]\n",
    "\n",
    "\n",
    "for i in y_list:\n",
    "    value_y = i\n",
    "    save_fig(value_x, value_y)\n",
    "    "
   ]
  },
  {
   "cell_type": "code",
   "execution_count": 22,
   "metadata": {},
   "outputs": [
    {
     "name": "stdout",
     "output_type": "stream",
     "text": [
      "['b1_dja_min', 'b1_dja_max', 'b1_dja_mean', 'b1_dja_med', 'b1_dja_std', 'b1_dja_p25', 'b1_dja_p50', 'b1_dja_p75', 'b1_dja_p95', 'b1_dja_p99', 'b1_dbi_min', 'b1_dbi_max', 'b1_dbi_mean', 'b1_dbi_med', 'b1_dbi_std', 'b1_dbi_p25', 'b1_dbi_p50', 'b1_dbi_p75', 'b1_dbi_p95', 'b1_dbi_p99', 'b2_dbi_min', 'b2_dbi_max', 'b2_dbi_mean', 'b2_dbi_med', 'b2_dbi_std', 'b2_dbi_p25', 'b2_dbi_p50', 'b2_dbi_p75', 'b2_dbi_p95', 'b2_dbi_p99', 'b3_dbi_min', 'b3_dbi_max', 'b3_dbi_mean', 'b3_dbi_med', 'b3_dbi_std', 'b3_dbi_p25', 'b3_dbi_p50', 'b3_dbi_p75', 'b3_dbi_p95', 'b3_dbi_p99', 'b4_dbi_min', 'b4_dbi_max', 'b4_dbi_mean', 'b4_dbi_med', 'b4_dbi_std', 'b4_dbi_p25', 'b4_dbi_p50', 'b4_dbi_p75', 'b4_dbi_p95', 'b4_dbi_p99', 'b5_dbi_min', 'b5_dbi_max', 'b5_dbi_mean', 'b5_dbi_med', 'b5_dbi_std', 'b5_dbi_p25', 'b5_dbi_p50', 'b5_dbi_p75', 'b5_dbi_p95', 'b5_dbi_p99', 'b6_dbi_min', 'b6_dbi_max', 'b6_dbi_mean', 'b6_dbi_med', 'b6_dbi_std', 'b6_dbi_p25', 'b6_dbi_p50', 'b6_dbi_p75', 'b6_dbi_p95', 'b6_dbi_p99', 'b1_dim_min', 'b1_dim_max', 'b1_dim_mean', 'b1_dim_med', 'b1_dim_std', 'b1_dim_p25', 'b1_dim_p50', 'b1_dim_p75', 'b1_dim_p95', 'b1_dim_p99', 'b2_dim_min', 'b2_dim_max', 'b2_dim_mean', 'b2_dim_med', 'b2_dim_std', 'b2_dim_p25', 'b2_dim_p50', 'b2_dim_p75', 'b2_dim_p95', 'b2_dim_p99', 'b3_dim_min', 'b3_dim_max', 'b3_dim_mean', 'b3_dim_med', 'b3_dim_std', 'b3_dim_p25', 'b3_dim_p50', 'b3_dim_p75', 'b3_dim_p95', 'b3_dim_p99', 'dis_min', 'dis_max', 'dis_mean', 'dis_med', 'dis_major', 'dis_minor', 'dka_min', 'dka_max', 'dka_mean', 'dka_med', 'dka_major', 'dka_minor', 'stc_min', 'stc_max', 'stc_mean', 'stc_med', 'stc_major', 'stc_minor', 'h99a2_min', 'h99a2_max', 'h99a2_mean', 'h99a2_med', 'h99a2_std', 'h99a2_p25', 'h99a2_p50', 'h99a2_p75', 'h99a2_p95', 'h99a2_p99', 'fpca2_min', 'fpca2_max', 'fpca2_mean', 'fpca2_med', 'fpca2_std', 'fpca2_p25', 'fpca2_p50', 'fpca2_p75', 'fpca2_p95', 'fpca2_p99', 'fpca2_imdate', 'ratio32m', 'ratio42m', 'ratio43m', 'ratio52m', 'ratio53m', 'ratio54m', 'ratio62m', 'ratio63m', 'ratio64m', 'ratio65m', 'GSAVIm', 'GNDVIm', 'CVIm', 'NDGIm', 'RIm', 'NBRm', 'NDIIm', 'GDVIm', 'MSAVIm', 'DVIm', 'SAVIm', 'NDVIm', 'MSRm']\n",
      "['bio_agb_kg1ha']\n"
     ]
    }
   ],
   "source": [
    "print(column_list[3:])\n",
    "print(column_list[2:3])"
   ]
  },
  {
   "cell_type": "markdown",
   "metadata": {},
   "source": [
    "### Drop AGB numbers which are high"
   ]
  },
  {
   "cell_type": "code",
   "execution_count": 23,
   "metadata": {},
   "outputs": [],
   "source": [
    "# # drop the 7 tern sites that apear to be outliers\n",
    "# df3 =df2[df2[value_x] <= 100000]\n",
    "# df3.to_csv(os.path.join(output_, \"{0}_lt_100000.csv\".format(value_x)))\n",
    "# drop_sites =df2[df2[value_x] > 100000]\n",
    "# drop_sites.value_counts(['site', value_x, value_y])\n"
   ]
  },
  {
   "cell_type": "code",
   "execution_count": 24,
   "metadata": {},
   "outputs": [],
   "source": [
    "# df3.shape"
   ]
  },
  {
   "cell_type": "code",
   "execution_count": 25,
   "metadata": {},
   "outputs": [],
   "source": [
    "\n",
    "# # Output to file\n",
    "# output_file(os.path.join(output_, 'TERN7_removed_sites_{0}_{1}.html'.format(value_x, value_y)),\n",
    "#             title='Seven TERN sites removed - relationship between {0} and {1}'.format(value_x.replace(\"_\", \" \"), value_y.replace(\"_\", \" \")))\n",
    "\n",
    "\n",
    "# #Specify the selection tools to be made available\n",
    "# select_tools = ['box_select', 'lasso_select', 'poly_select', 'tap', 'zoom_in', 'zoom_out', 'wheel_zoom', 'reset']\n",
    "\n",
    "# # Format the tooltip\n",
    "# tooltips = [\n",
    "#             ('Site', '@site'),\n",
    "#             ('Date', '@date'),\n",
    "#             (value_x, '@{0}'.format(value_x)),\n",
    "#             (value_y, '@{0}'.format(value_y)),\n",
    "#             (value_a, '@{0}'.format(value_a)),\n",
    "#             (value_b, '@{0}'.format(value_b)) \n",
    "#            ]\n",
    "\n",
    "# # Create the figure\n",
    "# fig = figure(plot_height=400,\n",
    "#              plot_width=1500,\n",
    "#              y_axis_label= value_y.replace(\"_\", \" \"), \n",
    "#              x_axis_label= value_x.replace(\"_\", \" \"),\n",
    "#              title='Seven TERN sites removed - relationship between {0} and {1}'.format(value_x.replace(\"_\", \" \"), value_y.replace(\"_\", \" \")),\n",
    "#              toolbar_location='below',\n",
    "#              tools=select_tools)\n",
    "\n",
    "# # # Format the y-axis tick label\n",
    "# fig.yaxis[0].formatter = NumeralTickFormatter(format='0')\n",
    "\n",
    "# # Add square representing each site\n",
    "# fig.square(x= value_x,\n",
    "#            y= value_y,\n",
    "#            source=df3,\n",
    "#            size=5,\n",
    "#            color='royalblue',\n",
    "#            selection_color='deepskyblue',\n",
    "#            nonselection_color='lightgray',\n",
    "#            nonselection_alpha=0.3)\n",
    "\n",
    "# # Add the HoverTool to the figure\n",
    "# fig.add_tools(HoverTool(tooltips=tooltips))\n",
    "\n",
    "# # Visualize\n",
    "# show(fig)"
   ]
  },
  {
   "cell_type": "markdown",
   "metadata": {},
   "source": [
    "### Drop the TERN sites for review"
   ]
  },
  {
   "cell_type": "code",
   "execution_count": 26,
   "metadata": {},
   "outputs": [],
   "source": [
    "# # drop the TERN sites due to \n",
    "# df4=df3[df3.site.apply(lambda x: len(str(x))<=9)]\n",
    "# df4.to_csv(os.path.join(output_, \"{0}_NTH_only_lt_100000.csv\".format(value_x)))"
   ]
  },
  {
   "cell_type": "code",
   "execution_count": 27,
   "metadata": {},
   "outputs": [],
   "source": [
    "# df4.sample(5)"
   ]
  },
  {
   "cell_type": "code",
   "execution_count": 28,
   "metadata": {},
   "outputs": [],
   "source": [
    "# df4.shape"
   ]
  },
  {
   "cell_type": "code",
   "execution_count": 29,
   "metadata": {},
   "outputs": [],
   "source": [
    "\n",
    "# # Output to file\n",
    "# output_file(os.path.join(output_, 'ntg_sites_agb_{0}_{1}.html'.format(value_x, value_y)),\n",
    "#             title='NTG sites only - relationship between {0} and {1}'.format(value_x.replace(\"_\", \" \"), value_y.replace(\"_\", \" \")))\n",
    "\n",
    "# #Specify the selection tools to be made available\n",
    "# select_tools = ['box_select', 'lasso_select', 'poly_select', 'tap', 'zoom_in', 'zoom_out', 'wheel_zoom', 'reset']\n",
    "\n",
    "# # Format the tooltip\n",
    "# tooltips = [\n",
    "#             ('Site', '@site'),\n",
    "#             ('Date', '@date'),\n",
    "#             (value_x, '@{0}'.format(value_x)),\n",
    "#             (value_y, '@{0}'.format(value_y)),\n",
    "#             (value_a, '@{0}'.format(value_a)),\n",
    "#             (value_b, '@{0}'.format(value_b)) \n",
    "#            ]\n",
    "\n",
    "# # Create the figure\n",
    "# fig = figure(plot_height=400,\n",
    "#              plot_width=1500,\n",
    "#              y_axis_label= value_y.replace(\"_\", \" \"), \n",
    "#              x_axis_label= value_x.replace(\"_\", \" \"),\n",
    "#              title='NTG sites only - relationship between {0} and {1}'.format(value_x.replace(\"_\", \" \"), value_y.replace(\"_\", \" \")),\n",
    "#              toolbar_location='below',\n",
    "#              tools=select_tools)\n",
    "\n",
    "# # # Format the y-axis tick label\n",
    "# fig.yaxis[0].formatter = NumeralTickFormatter(format='0')\n",
    "\n",
    "# # Add square representing each site\n",
    "# fig.square(x= value_x,\n",
    "#            y= value_y,\n",
    "#            source=df4,\n",
    "#            size=5,\n",
    "#            color='royalblue',\n",
    "#            selection_color='deepskyblue',\n",
    "#            nonselection_color='lightgray',\n",
    "#            nonselection_alpha=0.3)\n",
    "\n",
    "# # Add the HoverTool to the figure\n",
    "# fig.add_tools(HoverTool(tooltips=tooltips))\n",
    "\n",
    "# # Visualize\n",
    "# show(fig)"
   ]
  },
  {
   "cell_type": "markdown",
   "metadata": {},
   "source": [
    "## Choose which data set to run the models from"
   ]
  },
  {
   "cell_type": "code",
   "execution_count": 30,
   "metadata": {},
   "outputs": [],
   "source": [
    "df_ml = select_agb_df"
   ]
  },
  {
   "cell_type": "code",
   "execution_count": 31,
   "metadata": {},
   "outputs": [
    {
     "name": "stdout",
     "output_type": "stream",
     "text": [
      "['site', 'date', 'bio_agb_kg1ha', 'b1_dja_min', 'b1_dja_max', 'b1_dja_mean', 'b1_dja_med', 'b1_dja_std', 'b1_dja_p25', 'b1_dja_p50', 'b1_dja_p75', 'b1_dja_p95', 'b1_dja_p99', 'b1_dbi_min', 'b1_dbi_max', 'b1_dbi_mean', 'b1_dbi_med', 'b1_dbi_std', 'b1_dbi_p25', 'b1_dbi_p50', 'b1_dbi_p75', 'b1_dbi_p95', 'b1_dbi_p99', 'b2_dbi_min', 'b2_dbi_max', 'b2_dbi_mean', 'b2_dbi_med', 'b2_dbi_std', 'b2_dbi_p25', 'b2_dbi_p50', 'b2_dbi_p75', 'b2_dbi_p95', 'b2_dbi_p99', 'b3_dbi_min', 'b3_dbi_max', 'b3_dbi_mean', 'b3_dbi_med', 'b3_dbi_std', 'b3_dbi_p25', 'b3_dbi_p50', 'b3_dbi_p75', 'b3_dbi_p95', 'b3_dbi_p99', 'b4_dbi_min', 'b4_dbi_max', 'b4_dbi_mean', 'b4_dbi_med', 'b4_dbi_std', 'b4_dbi_p25', 'b4_dbi_p50', 'b4_dbi_p75', 'b4_dbi_p95', 'b4_dbi_p99', 'b5_dbi_min', 'b5_dbi_max', 'b5_dbi_mean', 'b5_dbi_med', 'b5_dbi_std', 'b5_dbi_p25', 'b5_dbi_p50', 'b5_dbi_p75', 'b5_dbi_p95', 'b5_dbi_p99', 'b6_dbi_min', 'b6_dbi_max', 'b6_dbi_mean', 'b6_dbi_med', 'b6_dbi_std', 'b6_dbi_p25', 'b6_dbi_p50', 'b6_dbi_p75', 'b6_dbi_p95', 'b6_dbi_p99', 'b1_dim_min', 'b1_dim_max', 'b1_dim_mean', 'b1_dim_med', 'b1_dim_std', 'b1_dim_p25', 'b1_dim_p50', 'b1_dim_p75', 'b1_dim_p95', 'b1_dim_p99', 'b2_dim_min', 'b2_dim_max', 'b2_dim_mean', 'b2_dim_med', 'b2_dim_std', 'b2_dim_p25', 'b2_dim_p50', 'b2_dim_p75', 'b2_dim_p95', 'b2_dim_p99', 'b3_dim_min', 'b3_dim_max', 'b3_dim_mean', 'b3_dim_med', 'b3_dim_std', 'b3_dim_p25', 'b3_dim_p50', 'b3_dim_p75', 'b3_dim_p95', 'b3_dim_p99', 'dis_min', 'dis_max', 'dis_mean', 'dis_med', 'dis_major', 'dis_minor', 'dka_min', 'dka_max', 'dka_mean', 'dka_med', 'dka_major', 'dka_minor', 'stc_min', 'stc_max', 'stc_mean', 'stc_med', 'stc_major', 'stc_minor', 'h99a2_min', 'h99a2_max', 'h99a2_mean', 'h99a2_med', 'h99a2_std', 'h99a2_p25', 'h99a2_p50', 'h99a2_p75', 'h99a2_p95', 'h99a2_p99', 'fpca2_min', 'fpca2_max', 'fpca2_mean', 'fpca2_med', 'fpca2_std', 'fpca2_p25', 'fpca2_p50', 'fpca2_p75', 'fpca2_p95', 'fpca2_p99', 'fpca2_imdate', 'ratio32m', 'ratio42m', 'ratio43m', 'ratio52m', 'ratio53m', 'ratio54m', 'ratio62m', 'ratio63m', 'ratio64m', 'ratio65m', 'GSAVIm', 'GNDVIm', 'CVIm', 'NDGIm', 'RIm', 'NBRm', 'NDIIm', 'GDVIm', 'MSAVIm', 'DVIm', 'SAVIm', 'NDVIm', 'MSRm']\n"
     ]
    }
   ],
   "source": [
    "print(list(df_ml.columns))"
   ]
  },
  {
   "cell_type": "code",
   "execution_count": 32,
   "metadata": {},
   "outputs": [
    {
     "name": "stderr",
     "output_type": "stream",
     "text": [
      "C:\\Users\\rmcgr\\AppData\\Roaming\\Python\\Python37\\site-packages\\pandas\\core\\frame.py:4913: SettingWithCopyWarning: \n",
      "A value is trying to be set on a copy of a slice from a DataFrame\n",
      "\n",
      "See the caveats in the documentation: https://pandas.pydata.org/pandas-docs/stable/user_guide/indexing.html#returning-a-view-versus-a-copy\n",
      "  errors=errors,\n"
     ]
    }
   ],
   "source": [
    "# drop some of the unwanted values\n",
    "df_ml.drop(['date', 'site', 'fpca2_imdate'], axis=1, inplace=True)\n",
    "#df_ml.drop(['fpca2_imdate'], axis=1, inplace=True)"
   ]
  },
  {
   "cell_type": "code",
   "execution_count": 33,
   "metadata": {},
   "outputs": [
    {
     "name": "stdout",
     "output_type": "stream",
     "text": [
      "['bio_agb_kg1ha', 'b1_dja_min', 'b1_dja_max', 'b1_dja_mean', 'b1_dja_med', 'b1_dja_std', 'b1_dja_p25', 'b1_dja_p50', 'b1_dja_p75', 'b1_dja_p95', 'b1_dja_p99', 'b1_dbi_min', 'b1_dbi_max', 'b1_dbi_mean', 'b1_dbi_med', 'b1_dbi_std', 'b1_dbi_p25', 'b1_dbi_p50', 'b1_dbi_p75', 'b1_dbi_p95', 'b1_dbi_p99', 'b2_dbi_min', 'b2_dbi_max', 'b2_dbi_mean', 'b2_dbi_med', 'b2_dbi_std', 'b2_dbi_p25', 'b2_dbi_p50', 'b2_dbi_p75', 'b2_dbi_p95', 'b2_dbi_p99', 'b3_dbi_min', 'b3_dbi_max', 'b3_dbi_mean', 'b3_dbi_med', 'b3_dbi_std', 'b3_dbi_p25', 'b3_dbi_p50', 'b3_dbi_p75', 'b3_dbi_p95', 'b3_dbi_p99', 'b4_dbi_min', 'b4_dbi_max', 'b4_dbi_mean', 'b4_dbi_med', 'b4_dbi_std', 'b4_dbi_p25', 'b4_dbi_p50', 'b4_dbi_p75', 'b4_dbi_p95', 'b4_dbi_p99', 'b5_dbi_min', 'b5_dbi_max', 'b5_dbi_mean', 'b5_dbi_med', 'b5_dbi_std', 'b5_dbi_p25', 'b5_dbi_p50', 'b5_dbi_p75', 'b5_dbi_p95', 'b5_dbi_p99', 'b6_dbi_min', 'b6_dbi_max', 'b6_dbi_mean', 'b6_dbi_med', 'b6_dbi_std', 'b6_dbi_p25', 'b6_dbi_p50', 'b6_dbi_p75', 'b6_dbi_p95', 'b6_dbi_p99', 'b1_dim_min', 'b1_dim_max', 'b1_dim_mean', 'b1_dim_med', 'b1_dim_std', 'b1_dim_p25', 'b1_dim_p50', 'b1_dim_p75', 'b1_dim_p95', 'b1_dim_p99', 'b2_dim_min', 'b2_dim_max', 'b2_dim_mean', 'b2_dim_med', 'b2_dim_std', 'b2_dim_p25', 'b2_dim_p50', 'b2_dim_p75', 'b2_dim_p95', 'b2_dim_p99', 'b3_dim_min', 'b3_dim_max', 'b3_dim_mean', 'b3_dim_med', 'b3_dim_std', 'b3_dim_p25', 'b3_dim_p50', 'b3_dim_p75', 'b3_dim_p95', 'b3_dim_p99', 'dis_min', 'dis_max', 'dis_mean', 'dis_med', 'dis_major', 'dis_minor', 'dka_min', 'dka_max', 'dka_mean', 'dka_med', 'dka_major', 'dka_minor', 'stc_min', 'stc_max', 'stc_mean', 'stc_med', 'stc_major', 'stc_minor', 'h99a2_min', 'h99a2_max', 'h99a2_mean', 'h99a2_med', 'h99a2_std', 'h99a2_p25', 'h99a2_p50', 'h99a2_p75', 'h99a2_p95', 'h99a2_p99', 'fpca2_min', 'fpca2_max', 'fpca2_mean', 'fpca2_med', 'fpca2_std', 'fpca2_p25', 'fpca2_p50', 'fpca2_p75', 'fpca2_p95', 'fpca2_p99', 'ratio32m', 'ratio42m', 'ratio43m', 'ratio52m', 'ratio53m', 'ratio54m', 'ratio62m', 'ratio63m', 'ratio64m', 'ratio65m', 'GSAVIm', 'GNDVIm', 'CVIm', 'NDGIm', 'RIm', 'NBRm', 'NDIIm', 'GDVIm', 'MSAVIm', 'DVIm', 'SAVIm', 'NDVIm', 'MSRm']\n"
     ]
    }
   ],
   "source": [
    "print(list(df_ml))"
   ]
  },
  {
   "cell_type": "code",
   "execution_count": 34,
   "metadata": {},
   "outputs": [
    {
     "data": {
      "text/plain": [
       "(167, 162)"
      ]
     },
     "execution_count": 34,
     "metadata": {},
     "output_type": "execute_result"
    }
   ],
   "source": [
    "df_ml.shape"
   ]
  },
  {
   "cell_type": "code",
   "execution_count": 35,
   "metadata": {},
   "outputs": [
    {
     "data": {
      "text/html": [
       "<div>\n",
       "<style scoped>\n",
       "    .dataframe tbody tr th:only-of-type {\n",
       "        vertical-align: middle;\n",
       "    }\n",
       "\n",
       "    .dataframe tbody tr th {\n",
       "        vertical-align: top;\n",
       "    }\n",
       "\n",
       "    .dataframe thead th {\n",
       "        text-align: right;\n",
       "    }\n",
       "</style>\n",
       "<table border=\"1\" class=\"dataframe\">\n",
       "  <thead>\n",
       "    <tr style=\"text-align: right;\">\n",
       "      <th></th>\n",
       "      <th>bio_agb_kg1ha</th>\n",
       "      <th>b1_dja_min</th>\n",
       "      <th>b1_dja_max</th>\n",
       "      <th>b1_dja_mean</th>\n",
       "      <th>b1_dja_med</th>\n",
       "      <th>b1_dja_std</th>\n",
       "      <th>b1_dja_p25</th>\n",
       "      <th>b1_dja_p50</th>\n",
       "      <th>b1_dja_p75</th>\n",
       "      <th>b1_dja_p95</th>\n",
       "      <th>...</th>\n",
       "      <th>NDGIm</th>\n",
       "      <th>RIm</th>\n",
       "      <th>NBRm</th>\n",
       "      <th>NDIIm</th>\n",
       "      <th>GDVIm</th>\n",
       "      <th>MSAVIm</th>\n",
       "      <th>DVIm</th>\n",
       "      <th>SAVIm</th>\n",
       "      <th>NDVIm</th>\n",
       "      <th>MSRm</th>\n",
       "    </tr>\n",
       "  </thead>\n",
       "  <tbody>\n",
       "    <tr>\n",
       "      <th>0</th>\n",
       "      <td>0.00</td>\n",
       "      <td>21.00</td>\n",
       "      <td>29.00</td>\n",
       "      <td>26.38</td>\n",
       "      <td>27.50</td>\n",
       "      <td>2.60</td>\n",
       "      <td>24.75</td>\n",
       "      <td>27.50</td>\n",
       "      <td>28.25</td>\n",
       "      <td>29.00</td>\n",
       "      <td>...</td>\n",
       "      <td>-1797183</td>\n",
       "      <td>1797183</td>\n",
       "      <td>803085</td>\n",
       "      <td>-1648544</td>\n",
       "      <td>1653000</td>\n",
       "      <td>2108509</td>\n",
       "      <td>1334000</td>\n",
       "      <td>2374229</td>\n",
       "      <td>3891482</td>\n",
       "      <td>5080174</td>\n",
       "    </tr>\n",
       "    <tr>\n",
       "      <th>1</th>\n",
       "      <td>0.00</td>\n",
       "      <td>2.00</td>\n",
       "      <td>5.00</td>\n",
       "      <td>3.55</td>\n",
       "      <td>4.00</td>\n",
       "      <td>0.92</td>\n",
       "      <td>3.00</td>\n",
       "      <td>4.00</td>\n",
       "      <td>4.00</td>\n",
       "      <td>5.00</td>\n",
       "      <td>...</td>\n",
       "      <td>-1237840</td>\n",
       "      <td>1237840</td>\n",
       "      <td>145478</td>\n",
       "      <td>-1258856</td>\n",
       "      <td>1100000</td>\n",
       "      <td>1063379</td>\n",
       "      <td>731000</td>\n",
       "      <td>1207466</td>\n",
       "      <td>1791228</td>\n",
       "      <td>1985065</td>\n",
       "    </tr>\n",
       "    <tr>\n",
       "      <th>2</th>\n",
       "      <td>0.00</td>\n",
       "      <td>1.00</td>\n",
       "      <td>6.00</td>\n",
       "      <td>3.96</td>\n",
       "      <td>4.00</td>\n",
       "      <td>1.31</td>\n",
       "      <td>3.00</td>\n",
       "      <td>4.00</td>\n",
       "      <td>5.00</td>\n",
       "      <td>6.00</td>\n",
       "      <td>...</td>\n",
       "      <td>-1563211</td>\n",
       "      <td>1563211</td>\n",
       "      <td>758167</td>\n",
       "      <td>-969300</td>\n",
       "      <td>1320000</td>\n",
       "      <td>1195078</td>\n",
       "      <td>839000</td>\n",
       "      <td>1339257</td>\n",
       "      <td>1908119</td>\n",
       "      <td>2131007</td>\n",
       "    </tr>\n",
       "    <tr>\n",
       "      <th>3</th>\n",
       "      <td>0.00</td>\n",
       "      <td>0.00</td>\n",
       "      <td>6.00</td>\n",
       "      <td>3.08</td>\n",
       "      <td>3.00</td>\n",
       "      <td>1.98</td>\n",
       "      <td>1.00</td>\n",
       "      <td>3.00</td>\n",
       "      <td>5.00</td>\n",
       "      <td>6.00</td>\n",
       "      <td>...</td>\n",
       "      <td>-1493838</td>\n",
       "      <td>1493838</td>\n",
       "      <td>965693</td>\n",
       "      <td>-982236</td>\n",
       "      <td>1174000</td>\n",
       "      <td>951763</td>\n",
       "      <td>677000</td>\n",
       "      <td>1068835</td>\n",
       "      <td>1504110</td>\n",
       "      <td>1636492</td>\n",
       "    </tr>\n",
       "    <tr>\n",
       "      <th>4</th>\n",
       "      <td>0.00</td>\n",
       "      <td>0.00</td>\n",
       "      <td>5.00</td>\n",
       "      <td>2.32</td>\n",
       "      <td>2.00</td>\n",
       "      <td>1.43</td>\n",
       "      <td>1.00</td>\n",
       "      <td>2.00</td>\n",
       "      <td>3.00</td>\n",
       "      <td>4.80</td>\n",
       "      <td>...</td>\n",
       "      <td>-1481481</td>\n",
       "      <td>1481481</td>\n",
       "      <td>-2046</td>\n",
       "      <td>-1713026</td>\n",
       "      <td>1178000</td>\n",
       "      <td>1068186</td>\n",
       "      <td>738000</td>\n",
       "      <td>1210101</td>\n",
       "      <td>1779171</td>\n",
       "      <td>1970149</td>\n",
       "    </tr>\n",
       "  </tbody>\n",
       "</table>\n",
       "<p>5 rows × 162 columns</p>\n",
       "</div>"
      ],
      "text/plain": [
       "   bio_agb_kg1ha  b1_dja_min  b1_dja_max  b1_dja_mean  b1_dja_med  b1_dja_std  \\\n",
       "0           0.00       21.00       29.00        26.38       27.50        2.60   \n",
       "1           0.00        2.00        5.00         3.55        4.00        0.92   \n",
       "2           0.00        1.00        6.00         3.96        4.00        1.31   \n",
       "3           0.00        0.00        6.00         3.08        3.00        1.98   \n",
       "4           0.00        0.00        5.00         2.32        2.00        1.43   \n",
       "\n",
       "   b1_dja_p25  b1_dja_p50  b1_dja_p75  b1_dja_p95  ...    NDGIm      RIm  \\\n",
       "0       24.75       27.50       28.25       29.00  ... -1797183  1797183   \n",
       "1        3.00        4.00        4.00        5.00  ... -1237840  1237840   \n",
       "2        3.00        4.00        5.00        6.00  ... -1563211  1563211   \n",
       "3        1.00        3.00        5.00        6.00  ... -1493838  1493838   \n",
       "4        1.00        2.00        3.00        4.80  ... -1481481  1481481   \n",
       "\n",
       "     NBRm    NDIIm    GDVIm   MSAVIm     DVIm    SAVIm    NDVIm     MSRm  \n",
       "0  803085 -1648544  1653000  2108509  1334000  2374229  3891482  5080174  \n",
       "1  145478 -1258856  1100000  1063379   731000  1207466  1791228  1985065  \n",
       "2  758167  -969300  1320000  1195078   839000  1339257  1908119  2131007  \n",
       "3  965693  -982236  1174000   951763   677000  1068835  1504110  1636492  \n",
       "4   -2046 -1713026  1178000  1068186   738000  1210101  1779171  1970149  \n",
       "\n",
       "[5 rows x 162 columns]"
      ]
     },
     "execution_count": 35,
     "metadata": {},
     "output_type": "execute_result"
    }
   ],
   "source": [
    "df_ml.head(5)"
   ]
  },
  {
   "cell_type": "markdown",
   "metadata": {},
   "source": [
    "## Reduce level of 0 values"
   ]
  },
  {
   "cell_type": "code",
   "execution_count": 36,
   "metadata": {},
   "outputs": [],
   "source": [
    "# # due to the number of field sites with no basal collected data is stratified\n",
    "no0_df = df_ml[df_ml['bio_agb_kg1ha']>0.0]\n",
    "# agb_0 = df_ml[df_ml['bio_agb_kg1ha']==0.0].sample(3)\n",
    "# some0_df = pd.concat([no0_df, agb_0])\n",
    "\n",
    "## use this for reduced variables\n",
    "#no0_df = df[df['bio_agb_kg1ha']>0.0]"
   ]
  },
  {
   "cell_type": "markdown",
   "metadata": {},
   "source": [
    "## Select the dataset to run the models from"
   ]
  },
  {
   "cell_type": "markdown",
   "metadata": {},
   "source": [
    " Define if you are using all variabes or selected variables"
   ]
  },
  {
   "cell_type": "code",
   "execution_count": 37,
   "metadata": {},
   "outputs": [
    {
     "data": {
      "text/plain": [
       "(110, 162)"
      ]
     },
     "execution_count": 37,
     "metadata": {},
     "output_type": "execute_result"
    }
   ],
   "source": [
    "# All variables\n",
    "df = no0_df\n",
    "\n",
    "# select variables\n",
    "#df = select_df\n",
    "df.shape"
   ]
  },
  {
   "cell_type": "code",
   "execution_count": 38,
   "metadata": {},
   "outputs": [
    {
     "name": "stdout",
     "output_type": "stream",
     "text": [
      "<class 'pandas.core.frame.DataFrame'>\n",
      "Int64Index: 110 entries, 7 to 166\n",
      "Columns: 162 entries, bio_agb_kg1ha to MSRm\n",
      "dtypes: float64(139), int64(23)\n",
      "memory usage: 140.1 KB\n"
     ]
    }
   ],
   "source": [
    "df.info()"
   ]
  },
  {
   "cell_type": "code",
   "execution_count": 39,
   "metadata": {},
   "outputs": [],
   "source": [
    "test = df[df[value_x]==0.0]"
   ]
  },
  {
   "cell_type": "code",
   "execution_count": 40,
   "metadata": {},
   "outputs": [
    {
     "data": {
      "text/plain": [
       "(0, 162)"
      ]
     },
     "execution_count": 40,
     "metadata": {},
     "output_type": "execute_result"
    }
   ],
   "source": [
    "test.shape"
   ]
  },
  {
   "cell_type": "code",
   "execution_count": 41,
   "metadata": {},
   "outputs": [
    {
     "name": "stderr",
     "output_type": "stream",
     "text": [
      "C:\\Users\\rmcgr\\AppData\\Roaming\\Python\\Python37\\site-packages\\pandas\\util\\_decorators.py:311: SettingWithCopyWarning: \n",
      "A value is trying to be set on a copy of a slice from a DataFrame\n",
      "\n",
      "See the caveats in the documentation: https://pandas.pydata.org/pandas-docs/stable/user_guide/indexing.html#returning-a-view-versus-a-copy\n",
      "  return func(*args, **kwargs)\n"
     ]
    }
   ],
   "source": [
    "df.dropna(inplace=True)"
   ]
  },
  {
   "cell_type": "code",
   "execution_count": 42,
   "metadata": {},
   "outputs": [
    {
     "name": "stdout",
     "output_type": "stream",
     "text": [
      "<class 'pandas.core.frame.DataFrame'>\n",
      "Int64Index: 99 entries, 7 to 165\n",
      "Columns: 162 entries, bio_agb_kg1ha to MSRm\n",
      "dtypes: float64(139), int64(23)\n",
      "memory usage: 126.1 KB\n"
     ]
    }
   ],
   "source": [
    "df.info()"
   ]
  },
  {
   "cell_type": "code",
   "execution_count": 43,
   "metadata": {},
   "outputs": [],
   "source": [
    "# col_list = df.columns.to_list()"
   ]
  },
  {
   "cell_type": "code",
   "execution_count": 44,
   "metadata": {},
   "outputs": [],
   "source": [
    "# variable = col_list[4]\n",
    "# print(variable)"
   ]
  },
  {
   "cell_type": "code",
   "execution_count": null,
   "metadata": {},
   "outputs": [],
   "source": []
  },
  {
   "cell_type": "code",
   "execution_count": null,
   "metadata": {},
   "outputs": [],
   "source": []
  },
  {
   "cell_type": "markdown",
   "metadata": {},
   "source": [
    "# Scatter plots with error"
   ]
  },
  {
   "cell_type": "code",
   "execution_count": 45,
   "metadata": {
    "scrolled": true
   },
   "outputs": [],
   "source": [
    "# for i in df.columns[1:]:\n",
    "#     print(i)\n",
    "#     value_x = 'bio_agb_kg1ha'\n",
    "#     value_y_loop = str(i)\n",
    "#     plt.figure(figsize=(10,4))\n",
    "#     # left plot\n",
    "#     plt.subplot(1,2,1)\n",
    "#     sns.regplot(df[value_x], df[value_y_loop], line_kws={\"color\":\"red\"})\n",
    "#     plt.xlabel(value_x)\n",
    "#     plt.ylabel(value_y_loop)\n",
    "#     plt.title(\"Regression {0} and {1}\".format(value_x, value_y_loop))\n",
    "    \n",
    "#     slope, intercept, r_value, p_value, std_err = scipy.stats.linregress(df[value_x], df[value_y_loop])\n",
    "\n",
    "#     print(\"slope: \", slope)\n",
    "#     print(\"intersept: \", intercept)\n",
    "#     print(\"r2: \", r_value)\n",
    "#     print(\"P_value: \", p_value)\n",
    "#     print(\"std error: \", std_err)\n",
    "\n",
    "#     # right plot\n",
    "#     plt.subplot(1,2,2)\n",
    "#     sns.regplot(df[value_x], df[value_y_loop], lowess=True, line_kws={\"color\":\"green\"})\n",
    "#     plt.xlabel(value_x)\n",
    "#     plt.ylabel(\"Error\")\n",
    "#     plt.title(\"Residual Error {0} and {1}\".format(value_x, value_y_loop))\n",
    "#     plt.tight_layout()\n",
    "#     plt.show()\n",
    "    \n",
    "# #     slope, intercept, r_value, p_value, std_err = scipy.stats.linregress(df[value_x], df[value_y])\n",
    "\n",
    "# #     print(\"slope: \", slope)\n",
    "# #     print(\"intersept: \", intercept)\n",
    "# #     print(\"r2: \", r_value)\n",
    "# #     print(\"P_value: \", p_value)\n",
    "# #     print(\"std error: \", std_err)"
   ]
  },
  {
   "cell_type": "code",
   "execution_count": 46,
   "metadata": {},
   "outputs": [
    {
     "name": "stdout",
     "output_type": "stream",
     "text": [
      "slope:  243.4284216884388\n",
      "intersept:  3819055.56376293\n",
      "r2:  0.6563651778318847\n",
      "P_value:  1.6385302014407442e-13\n",
      "std error:  28.409691180811137\n"
     ]
    },
    {
     "data": {
      "image/png": "[encoded data removed]",
      "text/plain": [
       "<Figure size 432x288 with 1 Axes>"
      ]
     },
     "metadata": {
      "needs_background": "light"
     },
     "output_type": "display_data"
    }
   ],
   "source": [
    "# value_x = 'bio_agb_kg1ha'\n",
    "# value_y = 'b2_dbi_mean'\n",
    "sns.regplot(x= value_x, y=value_y, data=df)\n",
    "slope, intercept, r_value, p_value, std_err = scipy.stats.linregress(df[value_x], df[value_y])\n",
    "\n",
    "print(\"slope: \", slope)\n",
    "print(\"intersept: \", intercept)\n",
    "print(\"r2: \", r_value)\n",
    "print(\"P_value: \", p_value)\n",
    "print(\"std error: \", std_err)"
   ]
  },
  {
   "cell_type": "code",
   "execution_count": 47,
   "metadata": {},
   "outputs": [
    {
     "name": "stdout",
     "output_type": "stream",
     "text": [
      "slope:  243.4284216884388\n",
      "intersept:  3819055.56376293\n",
      "r2:  0.6563651778318847\n",
      "P_value:  1.6385302014407442e-13\n",
      "std error:  28.409691180811137\n"
     ]
    },
    {
     "data": {
      "image/png": "[encoded data removed]",
      "text/plain": [
       "<Figure size 432x288 with 1 Axes>"
      ]
     },
     "metadata": {
      "needs_background": "light"
     },
     "output_type": "display_data"
    }
   ],
   "source": [
    "# value_x = 'bio_agb_kg1ha'\n",
    "# value_y = 'b3_dbi_mean'\n",
    "sns.scatterplot(x= value_x, y=value_y, data=df)\n",
    "slope, intercept, r_value, p_value, std_err = scipy.stats.linregress(df[value_x], df[value_y])\n",
    "\n",
    "print(\"slope: \", slope)\n",
    "print(\"intersept: \", intercept)\n",
    "print(\"r2: \", r_value)\n",
    "print(\"P_value: \", p_value)\n",
    "print(\"std error: \", std_err)"
   ]
  },
  {
   "cell_type": "code",
   "execution_count": 48,
   "metadata": {},
   "outputs": [
    {
     "name": "stdout",
     "output_type": "stream",
     "text": [
      "(69, 161) (69,)\n",
      "(30, 161) (30,)\n"
     ]
    }
   ],
   "source": [
    "# randomly split data into train and test datasets, the user needs to define the variables \n",
    "\n",
    "# Two example of how you can call the predictor variables \n",
    "\n",
    "#xdata1 = df4[df4.columns[12:]].astype('float32')\n",
    "\n",
    "#xdata1 = df[['psB2a', 'psB3a', 'psB4a', 'psB5a', 'psB6a', 'ratio32a', 'ratio42a', 'ratio43a', 'ratio52a', 'ratio53a', 'ratio54a', 'ratio62a', 'ratio63a', 'ratio64a', 'ratio65a', 'GSAVIa', 'GNDVIa', 'CVIa', 'NDGIa', 'RIa', 'NBRa', 'NDIIa', 'GDVIa', 'MSAVIa', 'DVIa', 'SAVIa', 'NDVIa', 'MSRa', 'psB2d', 'psB3d', 'psB4d', 'psB5d', 'psB6d', 'ratio32d', 'ratio42d', 'ratio43d', 'ratio52d', 'ratio53d', 'ratio54d', 'ratio62d', 'ratio63d', 'ratio64d', 'ratio65d', 'GSAVId', 'GNDVId', 'CVId', 'NDGId', 'RId', 'NBRd', 'NDIId', 'GDVId', 'MSAVId', 'DVId', 'SAVId', 'NDVId', 'MSRd']].astype('float32')\n",
    "#xdata1 = df[['psB1a', 'psB2a', 'psB3a', 'psB4a', 'psB5a', 'psB6a', 'ratio32fa', 'ratio42fa', 'ratio43fa', 'ratio52fa', 'ratio53fa', 'ratio54fa', 'ratio62fa', 'ratio63fa', 'ratio64fa', 'ratio65fa', 'ratio32a', 'ratio42a', 'ratio43a', 'ratio52a', 'ratio53a', 'ratio54a', 'ratio62a', 'ratio63a', 'ratio64a', 'ratio65a', 'GSAVIfa', 'GSAVIa', 'GNDVIfa', 'GNDVIa', 'CVIfa', 'CVIa', 'NDGIfa', 'NDGIa', 'RIfa', 'RIa', 'NBRfa', 'NBRa', 'NDIIfa', 'NDIIa', 'GDVIfa', 'GDVIa', 'MSAVIfa', 'MSAVIa', 'DVIfa', 'DVIa', 'SAVIfa', 'SAVIa', 'NDVIfa', 'NDVIa', 'MSRfa', 'MSRa']]\n",
    "xdata1 = df.iloc[:, 1:].astype('float32')\n",
    "ydata1 = df[[value_x]].astype('float32')\n",
    "ydata2 = ydata1.values\n",
    "ydata = ydata2.ravel()\n",
    "\n",
    "X_1, X_2, y_1, y_2 = train_test_split(xdata1, ydata, train_size=0.70)  \n",
    "         \n",
    "print(X_1.shape, y_1.shape)\n",
    "print(X_2.shape, y_2.shape)"
   ]
  },
  {
   "cell_type": "markdown",
   "metadata": {},
   "source": [
    "### Plot up Histograms of Lidar meanCHM for train and test datasets"
   ]
  },
  {
   "cell_type": "code",
   "execution_count": 49,
   "metadata": {},
   "outputs": [
    {
     "data": {
      "image/png": "[encoded data removed]",
      "text/plain": [
       "<Figure size 432x288 with 2 Axes>"
      ]
     },
     "metadata": {
      "needs_background": "light"
     },
     "output_type": "display_data"
    }
   ],
   "source": [
    "plt.subplot(2, 2, 1)\n",
    "plt.hist(y_1)\n",
    "plt.subplot(2, 2, 2)\n",
    "plt.hist(y_2)\n",
    "plt.tight_layout()"
   ]
  },
  {
   "cell_type": "markdown",
   "metadata": {},
   "source": [
    "### Parameterise the Random Forest Regressor alogorthim\n",
    "\n",
    "for details see: http://scikit-learn.org/stable/modules/generated/sklearn.ensemble.RandomForestRegressor.html"
   ]
  },
  {
   "cell_type": "code",
   "execution_count": 50,
   "metadata": {},
   "outputs": [
    {
     "data": {
      "text/plain": [
       "AdaBoostRegressor(base_estimator=DecisionTreeRegressor(max_depth=4),\n",
       "                  n_estimators=300,\n",
       "                  random_state=RandomState(MT19937) at 0x1E87B130AE8)"
      ]
     },
     "execution_count": 50,
     "metadata": {},
     "output_type": "execute_result"
    }
   ],
   "source": [
    "rng = np.random.RandomState(1)\n",
    "rfrModel_1 = abr(dtr(max_depth=4), n_estimators=300, random_state=rng)\n",
    "rfrModel_1"
   ]
  },
  {
   "cell_type": "code",
   "execution_count": null,
   "metadata": {},
   "outputs": [],
   "source": []
  },
  {
   "cell_type": "code",
   "execution_count": 51,
   "metadata": {},
   "outputs": [
    {
     "data": {
      "text/plain": [
       "GradientBoostingRegressor(loss='ls', max_depth=4, random_state=0)"
      ]
     },
     "execution_count": 51,
     "metadata": {},
     "output_type": "execute_result"
    }
   ],
   "source": [
    "rfrModel_1 = gbr(n_estimators=100, learning_rate=0.1, max_depth=4, random_state=0, loss='ls')\n",
    "rfrModel_1"
   ]
  },
  {
   "cell_type": "code",
   "execution_count": 52,
   "metadata": {},
   "outputs": [],
   "source": [
    "# rfrModel_1 = etr(n_estimators=100, bootstrap=True, oob_score=True,  max_features='log2', min_samples_split=1,n_jobs=-1) \n",
    "# rfrModel_1"
   ]
  },
  {
   "cell_type": "code",
   "execution_count": 53,
   "metadata": {
    "scrolled": true
   },
   "outputs": [],
   "source": [
    "# rfrModel_1 = rfr(n_estimators=100, oob_score=True,  max_depth=None, max_features='log2', min_samples_split=1.0,n_jobs=-1) \n",
    "# rfrModel_1,"
   ]
  },
  {
   "cell_type": "code",
   "execution_count": 54,
   "metadata": {},
   "outputs": [],
   "source": [
    "# rfrModel_1 = rfr(n_estimators=100, oob_score=True) #,  max_depth=None, max_features='log2', min_samples_split=1.0,n_jobs=-1) \n",
    "# rfrModel_1,"
   ]
  },
  {
   "cell_type": "code",
   "execution_count": 55,
   "metadata": {},
   "outputs": [
    {
     "data": {
      "text/plain": [
       "array([[6.000000e+00, 1.700000e+01, 1.118750e+01, ..., 2.130245e+06,\n",
       "        3.120958e+06, 3.810799e+06],\n",
       "       [1.500000e+01, 2.800000e+01, 2.268750e+01, ..., 2.201922e+06,\n",
       "        3.991062e+06, 5.259015e+06],\n",
       "       [4.000000e+00, 1.000000e+01, 8.200000e+00, ..., 1.915301e+06,\n",
       "        3.046853e+06, 3.698159e+06],\n",
       "       ...,\n",
       "       [1.100000e+01, 1.600000e+01, 1.370000e+01, ..., 2.141831e+06,\n",
       "        3.555887e+06, 4.503819e+06],\n",
       "       [2.000000e+01, 2.600000e+01, 2.420000e+01, ..., 2.471669e+06,\n",
       "        4.725439e+06, 6.708635e+06],\n",
       "       [1.300000e+01, 3.000000e+01, 2.540000e+01, ..., 2.607477e+06,\n",
       "        4.611570e+06, 6.467108e+06]], dtype=float32)"
      ]
     },
     "execution_count": 55,
     "metadata": {},
     "output_type": "execute_result"
    }
   ],
   "source": [
    "np.nan_to_num(X_1)"
   ]
  },
  {
   "cell_type": "markdown",
   "metadata": {},
   "source": [
    "### Fit random forest regressor model and compute variable importance score \n",
    "\n",
    "may need to restrict the number of variables for the bar graph to be legible\n",
    "\n"
   ]
  },
  {
   "cell_type": "code",
   "execution_count": 56,
   "metadata": {},
   "outputs": [
    {
     "name": "stderr",
     "output_type": "stream",
     "text": [
      "C:\\Users\\rmcgr\\Miniconda3\\envs\\biomass_zonal\\lib\\site-packages\\sklearn\\ensemble\\_gb.py:290: FutureWarning: The loss 'ls' was deprecated in v1.0 and will be removed in version 1.2. Use 'squared_error' which is equivalent.\n",
      "  FutureWarning,\n"
     ]
    }
   ],
   "source": [
    "rfrLCHM = rfrModel_1.fit(X_1, y_1)"
   ]
  },
  {
   "cell_type": "markdown",
   "metadata": {},
   "source": [
    "##### good info on the feature importance score - http://stackoverflow.com/questions/15810339/how-are-feature-importances-in-randomforestclassifier-determined"
   ]
  },
  {
   "cell_type": "code",
   "execution_count": 57,
   "metadata": {},
   "outputs": [
    {
     "name": "stdout",
     "output_type": "stream",
     "text": [
      "Fitted model r2 = 1.00\n",
      "Fitted model mse = 30.80\n",
      "n = 69\n"
     ]
    },
    {
     "data": {
      "image/png": "[encoded data removed]",
      "text/plain": [
       "<Figure size 432x288 with 1 Axes>"
      ]
     },
     "metadata": {
      "needs_background": "light"
     },
     "output_type": "display_data"
    }
   ],
   "source": [
    "feature_importance = rfrModel_1.feature_importances_\n",
    "\n",
    "### TRY THIS\n",
    "# use \"feature importance\" scores to see what the top 10 important features are\n",
    "fi = enumerate(rfrModel_1.feature_importances_)\n",
    "cols = xdata1.columns\n",
    "fiResult = [(value,cols[i]) for (i,value) in fi]\n",
    "#fiResult = [(value,cols[i]) for (i,value) in fi if value > 0.001]\n",
    "## Change the value 0.04 which we picked empirically to give us 10 variables\n",
    "## try running this code after changing the value up and down so you get more or less variables\n",
    "## do you see how this might be useful in refining the model?\n",
    "## Here is the code in case you mess up the line above\n",
    "## [(value,cols[i]) for (i,value) in fi if value > 0.04]\n",
    "#print fiResult\n",
    "\n",
    "print('Fitted model r2 =' ,  format(rfrLCHM.score(X_1, y_1), '.2f'))\n",
    "print('Fitted model mse =', format(np.mean((y_1 - rfrLCHM.predict(X_1))**2), '.2f'))\n",
    "print('n =', len(y_1))\n",
    "plt.scatter(rfrLCHM.predict(X_1), y_1,)  \n",
    "# data for the 1 for 1 line\n",
    "x = [0,35000]\n",
    "y = [0,35000]\n",
    "\n",
    "#sets the limits of the axis\n",
    "#plt.xlim(-1,35)\n",
    "#plt.ylim(-1,35)\n",
    "\n",
    "plt.ylabel('Observed AGB')\n",
    "\n",
    "plt.xlabel('Predicted AGB')\n",
    "\n",
    "# 1 for 1 line\n",
    "\n",
    "plt.plot(x, y, color = 'r')\n",
    "plt.show()"
   ]
  },
  {
   "cell_type": "code",
   "execution_count": 58,
   "metadata": {},
   "outputs": [
    {
     "name": "stdout",
     "output_type": "stream",
     "text": [
      "            band                       n\n",
      "92   b3_dim_mean   9.433807382327669e-06\n",
      "93    b3_dim_med   9.279583899139994e-05\n",
      "33    b3_dbi_med   8.472756397061237e-06\n",
      "73    b1_dim_med   7.951475679153023e-05\n",
      "96    b3_dim_p50   7.420296697237992e-06\n",
      "..           ...                     ...\n",
      "132    fpca2_std   0.0001272011427077332\n",
      "101      dis_max  0.00011741891385363839\n",
      "113      stc_max                     0.0\n",
      "112      stc_min                     0.0\n",
      "83    b2_dim_med                     0.0\n",
      "\n",
      "[161 rows x 2 columns]\n"
     ]
    },
    {
     "data": {
      "image/png": "[encoded data removed]",
      "text/plain": [
       "<Figure size 432x288 with 1 Axes>"
      ]
     },
     "metadata": {
      "needs_background": "light"
     },
     "output_type": "display_data"
    }
   ],
   "source": [
    "fiResult = np.array(fiResult)\n",
    "score = (fiResult[:,0])\n",
    "band = fiResult[:,1]\n",
    "a = fiResult[np.argsort(fiResult[:, 1])]\n",
    "\n",
    "df_band = pd.DataFrame(dict(band=band,n=score))\n",
    "df_band['n'].astype('float')\n",
    "dfsort = df_band.sort_values(['n'], ascending=[False])\n",
    "print(dfsort)\n",
    " \n",
    "## my complicated way to get the bar plot to sort in ascending order and display the assocated band names in the y axis\n",
    "dfsort2 = df_band.sort_values(['n'], ascending=[True])\n",
    "b = dfsort2[['band']]\n",
    "c = b.values.tolist()\n",
    "# convert the list of band names in the correct order to a string\n",
    "e = str(c)\n",
    "# strips all the rubbish from the string\n",
    "f = e.replace('[','').replace(']','').replace(\"'\",'').replace(\",\",' ')\n",
    "# convert the cleaned up string back into a list to plot the band names in the bar graph\n",
    "g = f.split()\n",
    " \n",
    "ind = np.arange(len(df_band))\n",
    "width = 0.4\n",
    " \n",
    "fig, ax = plt.subplots()\n",
    "ax.barh(ind, dfsort2.n, width, color='blue')\n",
    "ax.set(yticks=ind + width, yticklabels= g, ylim=[2*width - 1, len(df_band)])\n",
    "ax.set_xlabel('Performance')\n",
    "ax.set_ylabel('Ranked variables')\n",
    "plt.xticks(rotation='vertical')\n",
    "ax.set_title('Variable Importance Rank')\n",
    "\n",
    "plt.show()\n",
    "fig.savefig('Band_Importance_Score.pdf',dpi=600)# save out your figure to a pdf "
   ]
  },
  {
   "cell_type": "code",
   "execution_count": 59,
   "metadata": {},
   "outputs": [
    {
     "name": "stdout",
     "output_type": "stream",
     "text": [
      "<class 'pandas.core.frame.DataFrame'>\n",
      "RangeIndex: 161 entries, 0 to 160\n",
      "Data columns (total 2 columns):\n",
      " #   Column  Non-Null Count  Dtype \n",
      "---  ------  --------------  ----- \n",
      " 0   band    161 non-null    object\n",
      " 1   n       161 non-null    object\n",
      "dtypes: object(2)\n",
      "memory usage: 2.6+ KB\n"
     ]
    }
   ],
   "source": [
    "df_band.info()"
   ]
  },
  {
   "cell_type": "code",
   "execution_count": 60,
   "metadata": {},
   "outputs": [
    {
     "name": "stdout",
     "output_type": "stream",
     "text": [
      "<class 'pandas.core.frame.DataFrame'>\n",
      "Int64Index: 161 entries, 92 to 83\n",
      "Data columns (total 2 columns):\n",
      " #   Column  Non-Null Count  Dtype \n",
      "---  ------  --------------  ----- \n",
      " 0   band    161 non-null    object\n",
      " 1   n       161 non-null    object\n",
      "dtypes: object(2)\n",
      "memory usage: 3.8+ KB\n",
      "<class 'pandas.core.frame.DataFrame'>\n",
      "Int64Index: 161 entries, 92 to 83\n",
      "Data columns (total 2 columns):\n",
      " #   Column  Non-Null Count  Dtype  \n",
      "---  ------  --------------  -----  \n",
      " 0   band    161 non-null    object \n",
      " 1   n       161 non-null    float64\n",
      "dtypes: float64(1), object(1)\n",
      "memory usage: 3.8+ KB\n"
     ]
    }
   ],
   "source": [
    "dfsort['n'].astype('float')\n",
    "dfsort.info()\n",
    "dfsort['n'] = dfsort['n'].astype('float')\n",
    "dfsort.info()"
   ]
  },
  {
   "cell_type": "code",
   "execution_count": 61,
   "metadata": {},
   "outputs": [],
   "source": [
    "df_var = dfsort[dfsort['n'] > 0.01]"
   ]
  },
  {
   "cell_type": "code",
   "execution_count": 62,
   "metadata": {},
   "outputs": [],
   "source": [
    "column_var = df_var.band.tolist()"
   ]
  },
  {
   "cell_type": "code",
   "execution_count": 63,
   "metadata": {},
   "outputs": [],
   "source": [
    "column_var.insert(0, 'bio_agb_kg1ha')"
   ]
  },
  {
   "cell_type": "code",
   "execution_count": 64,
   "metadata": {},
   "outputs": [
    {
     "data": {
      "text/plain": [
       "['bio_agb_kg1ha',\n",
       " 'h99a2_p99',\n",
       " 'fpca2_p99',\n",
       " 'fpca2_min',\n",
       " 'b2_dbi_p99',\n",
       " 'b2_dbi_max',\n",
       " 'CVIm',\n",
       " 'b1_dbi_max',\n",
       " 'b1_dbi_p95',\n",
       " 'b4_dbi_p25',\n",
       " 'b2_dbi_p75',\n",
       " 'b1_dbi_p25',\n",
       " 'fpca2_mean',\n",
       " 'b6_dbi_p25',\n",
       " 'b1_dja_p75']"
      ]
     },
     "execution_count": 64,
     "metadata": {},
     "output_type": "execute_result"
    }
   ],
   "source": [
    "column_var"
   ]
  },
  {
   "cell_type": "code",
   "execution_count": null,
   "metadata": {},
   "outputs": [],
   "source": [
    "df"
   ]
  },
  {
   "cell_type": "code",
   "execution_count": null,
   "metadata": {},
   "outputs": [],
   "source": [
    "df = df_ml[column_var]"
   ]
  },
  {
   "cell_type": "code",
   "execution_count": null,
   "metadata": {},
   "outputs": [],
   "source": [
    "df_corr = df.corr()\n",
    "df_corr"
   ]
  },
  {
   "cell_type": "code",
   "execution_count": null,
   "metadata": {},
   "outputs": [],
   "source": [
    "dfsort.to_csv(os.path.join(output_, \"rf_variable_score.csv\"))"
   ]
  },
  {
   "cell_type": "code",
   "execution_count": null,
   "metadata": {},
   "outputs": [],
   "source": [
    "variable_imp_list = dfsort.band.to_list()"
   ]
  },
  {
   "cell_type": "code",
   "execution_count": null,
   "metadata": {},
   "outputs": [],
   "source": [
    "# var_not_imp = variable_imp_list[20:]\n",
    "# print(list(var_not_imp))"
   ]
  },
  {
   "cell_type": "markdown",
   "metadata": {},
   "source": [
    "### Predict the selected model on the test data"
   ]
  },
  {
   "cell_type": "code",
   "execution_count": null,
   "metadata": {},
   "outputs": [],
   "source": [
    "# plt.scatter(y2_predict, y_2)\n",
    "# plt.show()"
   ]
  },
  {
   "cell_type": "code",
   "execution_count": null,
   "metadata": {},
   "outputs": [],
   "source": [
    "y2_predict = rfrLCHM.predict(X_2)\n",
    "\n",
    "print('Predicted data r2 =', rfrLCHM.score(X_2, y_2))\n",
    "print('MSE =', format(np.mean((y_2 - rfrLCHM.predict(X_2))** 2), '.3f'))\n",
    "print('RMSE =', format(np.sqrt(np.mean((y2_predict - y_2) ** 2)), '.3f'))\n",
    "#print 'explained_var =',format(explained_variance_score(y_2, y2_predict),  '.3f') \n",
    "print('bias =' , format(np.mean(y_2) - np.mean(y2_predict), '.3f'))\n",
    "print('n =' , len(y_2))\n",
    "\n",
    "plt.scatter(y2_predict, y_2 ,s=10, c='b', marker='o')\n",
    "# data for the 1 for 1 line\n",
    "x = [-1,30000]\n",
    "y = [-1,30000]\n",
    "\n",
    "#sets the limits of the axis\n",
    "plt.xlim(-1,30000)\n",
    "plt.ylim(-1, 30000)\n",
    "plt.ylabel('Observed mean AGB')\n",
    "plt.xlabel('Predicted mean AGB')\n",
    "# 1 for 1 line\n",
    "plt.plot(x, y, color = 'r')\n",
    "\n",
    "plt.show()"
   ]
  },
  {
   "cell_type": "code",
   "execution_count": null,
   "metadata": {},
   "outputs": [],
   "source": [
    "import numpy as np\n",
    "import matplotlib.pyplot as plt\n",
    "from scipy.stats import gaussian_kde\n",
    "\n",
    "# data to plot\n",
    "x = y2_predict\n",
    "y = y_2\n",
    "\n",
    "# Calculate the point density\n",
    "xy = np.vstack([x,y])\n",
    "z = gaussian_kde(xy)(xy)\n",
    "\n",
    "# Sort the points by density, so that the densest points are plotted last\n",
    "idx = z.argsort()\n",
    "x, y, z = x[idx], y[idx], z[idx]\n",
    "\n",
    "print(x)\n",
    "print(y)\n",
    "print(z)\n",
    "# fig, ax = plt.subplots()\n",
    "# ax.scatter(x, y, c=z, s=0.8, edgecolor='')\n",
    "\n",
    "# # data for the 1 for 1 line\n",
    "# a = [-1,25]\n",
    "# b = [-1,25]\n",
    "\n",
    "# #sets the limits of the axis\n",
    "# plt.xlim(-1,25)\n",
    "# plt.ylim(-1,25)\n",
    "# plt.ylabel('Observed mean CHM')\n",
    "# plt.xlabel('Predicted mean CHM')\n",
    "# # 1 for 1 line\n",
    "# ax.plot(a, b, color = 'black')\n",
    "\n",
    "# plt.show()"
   ]
  },
  {
   "cell_type": "code",
   "execution_count": null,
   "metadata": {},
   "outputs": [],
   "source": []
  },
  {
   "cell_type": "code",
   "execution_count": null,
   "metadata": {},
   "outputs": [],
   "source": []
  },
  {
   "cell_type": "code",
   "execution_count": null,
   "metadata": {},
   "outputs": [],
   "source": []
  },
  {
   "cell_type": "code",
   "execution_count": null,
   "metadata": {},
   "outputs": [],
   "source": []
  },
  {
   "cell_type": "code",
   "execution_count": null,
   "metadata": {},
   "outputs": [],
   "source": []
  },
  {
   "cell_type": "markdown",
   "metadata": {},
   "source": [
    "# ================================================================="
   ]
  },
  {
   "cell_type": "markdown",
   "metadata": {},
   "source": [
    "# STOP - do you realy want to save this model?"
   ]
  },
  {
   "cell_type": "markdown",
   "metadata": {},
   "source": [
    "# remember to change the cPickle file name !!"
   ]
  },
  {
   "cell_type": "markdown",
   "metadata": {},
   "source": [
    "# Save current fitted model and apply to unseen validation data "
   ]
  },
  {
   "cell_type": "code",
   "execution_count": null,
   "metadata": {},
   "outputs": [],
   "source": [
    "import pickle\n",
    "\n",
    "#rfrL8CHM = rfr()\n",
    "#rfrL8CHM.fit(X_1, y_1)\n",
    "\n",
    "with open('rfr_modelName_nt100_n17', 'wb') as f:\n",
    "    pickle.dump(rfrLCHM, f)"
   ]
  },
  {
   "cell_type": "code",
   "execution_count": null,
   "metadata": {},
   "outputs": [],
   "source": [
    "# read in your validation dataset which has never been seen by rfr model - NOTE in this example I am just reading the same data used to train the model\n",
    "\n",
    "df = pd.read_csv(csv_file, header=0)\n",
    "df.shape "
   ]
  },
  {
   "cell_type": "code",
   "execution_count": null,
   "metadata": {},
   "outputs": [],
   "source": [
    "c_list = df.columns.tolist()\n",
    "c_list"
   ]
  },
  {
   "cell_type": "code",
   "execution_count": null,
   "metadata": {},
   "outputs": [],
   "source": []
  },
  {
   "cell_type": "code",
   "execution_count": null,
   "metadata": {},
   "outputs": [],
   "source": [
    "#df1 = df[(df['comp'] == 'l57')]\n",
    "df1 = df[(df['bio_agb_kg1ha'] > 0.01)]\n",
    "df1.dropna(inplace=True)\n",
    "print (df1.shape)"
   ]
  },
  {
   "cell_type": "code",
   "execution_count": null,
   "metadata": {},
   "outputs": [],
   "source": [
    "df1.columns"
   ]
  },
  {
   "cell_type": "code",
   "execution_count": null,
   "metadata": {},
   "outputs": [],
   "source": [
    "column_var"
   ]
  },
  {
   "cell_type": "code",
   "execution_count": null,
   "metadata": {},
   "outputs": [],
   "source": [
    "df1[column_var].info()"
   ]
  },
  {
   "cell_type": "code",
   "execution_count": null,
   "metadata": {},
   "outputs": [],
   "source": [
    "df1"
   ]
  },
  {
   "cell_type": "code",
   "execution_count": null,
   "metadata": {},
   "outputs": [],
   "source": [
    "xdata2 = df1[column_var].astype('float32')\n",
    "\n",
    "ydata1 = df1[['bio_agb_kg1ha']].astype('float32')\n",
    "\n",
    "ydata2 = ydata1.values\n",
    "\n",
    "ydata = ydata2.ravel()\n",
    "\n",
    "print(len(ydata1))"
   ]
  },
  {
   "cell_type": "code",
   "execution_count": null,
   "metadata": {},
   "outputs": [],
   "source": [
    "with open('rfr_modelName_nt100_n17', 'rb') as f:\n",
    "        rf = pickle.load(f)\n",
    "\n",
    "        predicted = rf.predict(xdata2)\n",
    "\n",
    "#print 'r2 =' ,  rf.score(predicted, y_2)\n",
    "#print 'rmse =', np.sqrt(np.mean((y_2 - predicted)**2))\n",
    "#print 'n =' , len(y_2)\n",
    "\n",
    "print('Predicted data r2 =', rf.score(xdata2, ydata))\n",
    "print('MSE =', format(np.mean((ydata - rf.predict(xdata2))** 2), '.3f'))\n",
    "print('RMSE =', format(np.sqrt(np.mean((predicted - ydata) ** 2)), '.3f'))\n",
    "print('explained_var =',format(explained_variance_score(ydata, predicted),  '.3f'))\n",
    "print('bias =' , format(np.mean(ydata) - np.mean(predicted), '.3f'))\n",
    "print('n =' , len(ydata))\n",
    "\n",
    "\n",
    "# plot up predicted and observed data \n",
    "plt.scatter(predicted, ydata,s=8, c='b', marker='o')\n",
    "\n",
    "# data for the 1 for 1 line\n",
    "x = [-1,40000]\n",
    "y = [-1,40000]\n",
    "\n",
    "#sets the limits of the axis\n",
    "plt.xlim(-1, 40000)\n",
    "plt.ylim(-1, 40000)\n",
    "\n",
    "# 1 for 1 line\n",
    "\n",
    "fig = plt.figure(1)\n",
    "plt.plot(x, y, color = 'black')\n",
    "fig.savefig('predicted_Observed_Validation_78.png',dpi=600)\n",
    "plt.show()"
   ]
  },
  {
   "cell_type": "code",
   "execution_count": null,
   "metadata": {},
   "outputs": [],
   "source": []
  },
  {
   "cell_type": "code",
   "execution_count": null,
   "metadata": {},
   "outputs": [],
   "source": []
  },
  {
   "cell_type": "code",
   "execution_count": null,
   "metadata": {},
   "outputs": [],
   "source": []
  },
  {
   "cell_type": "code",
   "execution_count": null,
   "metadata": {},
   "outputs": [],
   "source": []
  },
  {
   "cell_type": "code",
   "execution_count": null,
   "metadata": {},
   "outputs": [],
   "source": []
  },
  {
   "cell_type": "code",
   "execution_count": null,
   "metadata": {},
   "outputs": [],
   "source": []
  },
  {
   "cell_type": "code",
   "execution_count": null,
   "metadata": {},
   "outputs": [],
   "source": []
  },
  {
   "cell_type": "code",
   "execution_count": null,
   "metadata": {},
   "outputs": [],
   "source": []
  },
  {
   "cell_type": "code",
   "execution_count": null,
   "metadata": {},
   "outputs": [],
   "source": []
  },
  {
   "cell_type": "code",
   "execution_count": null,
   "metadata": {},
   "outputs": [],
   "source": [
    "import numpy as np\n",
    "import matplotlib.pyplot as plt\n",
    "from scipy.stats import gaussian_kde\n",
    "\n",
    "# data to plot\n",
    "x = predicted\n",
    "y = ydata\n",
    "\n",
    "# Calculate the point density\n",
    "xy = np.vstack([x,y])\n",
    "z = gaussian_kde(xy)(xy)\n",
    "\n",
    "# Sort the points by density, so that the densest points are plotted last\n",
    "idx = z.argsort()\n",
    "x, y, z = x[idx], y[idx], z[idx]\n",
    "\n",
    "\n",
    "fig, ax = plt.subplots()\n",
    "ax.scatter(x, y, c=z, s=0.5, edgecolor='')\n",
    "\n",
    "# data for the 1 for 1 line\n",
    "a = [-1,30]\n",
    "b = [-1,30]\n",
    "\n",
    "#sets the limits of the axis\n",
    "plt.xlim(-1,30)\n",
    "plt.ylim(-1,30)\n",
    "plt.ylabel('Observed mean CHM')\n",
    "plt.xlabel('Predicted mean CHM')\n",
    "# 1 for 1 line\n",
    "ax.plot(a, b, color = 'black')\n",
    "\n",
    "plt.show()"
   ]
  },
  {
   "cell_type": "code",
   "execution_count": null,
   "metadata": {},
   "outputs": [],
   "source": [
    "with open('rfr_modelName_mKath', 'rb') as f:\n",
    "        rf = cPickle.load(f)\n",
    "\n",
    "        predicted = rf.predict(xdata2)\n",
    "\n",
    "#print 'r2 =' ,  rf.score(predicted, y_2)\n",
    "#print 'rmse =', np.sqrt(np.mean((y_2 - predicted)**2))\n",
    "#print 'n =' , len(y_2)\n",
    "\n",
    "print 'Predicted data r2 =', rf.score(xdata2, ydata)\n",
    "print 'MSE =', format(np.mean((ydata - rf.predict(xdata2))** 2), '.3f')\n",
    "print 'RMSE =', format(np.sqrt(np.mean((predicted - ydata) ** 2)), '.3f')\n",
    "print 'explained_var =',format(explained_variance_score(ydata, predicted),  '.3f') \n",
    "print 'bias =' , format(np.mean(ydata) - np.mean(predicted), '.3f')\n",
    "print 'n =' , len(ydata)\n",
    "\n",
    "\n",
    "# plot up predicted and observed data \n",
    "plt.scatter(predicted, ydata,s=0.002, c='b', marker='o')\n",
    "\n",
    "# data for the 1 for 1 line\n",
    "x = [-1,30]\n",
    "y = [-1,30]\n",
    "\n",
    "#sets the limits of the axis\n",
    "plt.xlim(-1, 30)\n",
    "plt.ylim(-1, 30)\n",
    "\n",
    "# 1 for 1 line\n",
    "\n",
    "fig = plt.figure(1)\n",
    "plt.plot(x, y, color = 'black')\n",
    "fig.savefig('predicted_Observed_Validation_l57.png',dpi=600)\n",
    "plt.show()"
   ]
  },
  {
   "cell_type": "code",
   "execution_count": null,
   "metadata": {},
   "outputs": [],
   "source": [
    "import numpy as np\n",
    "import matplotlib.pyplot as plt\n",
    "from scipy.stats import gaussian_kde\n",
    "\n",
    "# data to plot\n",
    "x = predicted\n",
    "y = ydata\n",
    "\n",
    "# Calculate the point density\n",
    "xy = np.vstack([x,y])\n",
    "z = gaussian_kde(xy)(xy)\n",
    "\n",
    "# Sort the points by density, so that the densest points are plotted last\n",
    "idx = z.argsort()\n",
    "x, y, z = x[idx], y[idx], z[idx]\n",
    "\n",
    "\n",
    "fig, ax = plt.subplots()\n",
    "ax.scatter(x, y, c=z, s=0.5, edgecolor='')\n",
    "\n",
    "# data for the 1 for 1 line\n",
    "a = [-1,30]\n",
    "b = [-1,30]\n",
    "\n",
    "#sets the limits of the axis\n",
    "plt.xlim(-1,30)\n",
    "plt.ylim(-1,30)\n",
    "plt.ylabel('Observed mean CHM')\n",
    "plt.xlabel('Predicted mean CHM')\n",
    "# 1 for 1 line\n",
    "ax.plot(a, b, color = 'black')\n",
    "\n",
    "plt.show()"
   ]
  },
  {
   "cell_type": "code",
   "execution_count": null,
   "metadata": {},
   "outputs": [],
   "source": [
    "with open('rfr_modelNamel57', 'rb') as f:\n",
    "        rf = cPickle.load(f)\n",
    "\n",
    "        predicted = rf.predict(xdata2)\n",
    "\n",
    "#print 'r2 =' ,  rf.score(predicted, y_2)\n",
    "#print 'rmse =', np.sqrt(np.mean((y_2 - predicted)**2))\n",
    "#print 'n =' , len(y_2)\n",
    "\n",
    "print 'Predicted data r2 =', rf.score(xdata2, ydata)\n",
    "print 'MSE =', format(np.mean((ydata - rf.predict(xdata2))** 2), '.3f')\n",
    "print 'RMSE =', format(np.sqrt(np.mean((predicted - ydata) ** 2)), '.3f')\n",
    "print 'explained_var =',format(explained_variance_score(ydata, predicted),  '.3f') \n",
    "print 'bias =' , format(np.mean(ydata) - np.mean(predicted), '.3f')\n",
    "print 'n =' , len(ydata)\n",
    "\n",
    "\n",
    "# plot up predicted and observed data \n",
    "plt.scatter(predicted, ydata,s=0.002, c='b', marker='o')\n",
    "\n",
    "# data for the 1 for 1 line\n",
    "x = [-1,30]\n",
    "y = [-1,30]\n",
    "\n",
    "#sets the limits of the axis\n",
    "plt.xlim(-1, 30)\n",
    "plt.ylim(-1, 30)\n",
    "\n",
    "# 1 for 1 line\n",
    "\n",
    "fig = plt.figure(1)\n",
    "plt.plot(x, y, color = 'black')\n",
    "fig.savefig('predicted_Observed_Validation.png',dpi=600)\n",
    "plt.show()"
   ]
  },
  {
   "cell_type": "code",
   "execution_count": null,
   "metadata": {},
   "outputs": [],
   "source": [
    "import numpy as np\n",
    "import matplotlib.pyplot as plt\n",
    "from scipy.stats import gaussian_kde\n",
    "\n",
    "# data to plot\n",
    "x = predicted\n",
    "y = ydata\n",
    "\n",
    "# Calculate the point density\n",
    "xy = np.vstack([x,y])\n",
    "z = gaussian_kde(xy)(xy)\n",
    "\n",
    "# Sort the points by density, so that the densest points are plotted last\n",
    "idx = z.argsort()\n",
    "x, y, z = x[idx], y[idx], z[idx]\n",
    "\n",
    "\n",
    "fig, ax = plt.subplots()\n",
    "ax.scatter(x, y, c=z, s=0.5, edgecolor='')\n",
    "\n",
    "# data for the 1 for 1 line\n",
    "a = [-1,30]\n",
    "b = [-1,30]\n",
    "\n",
    "#sets the limits of the axis\n",
    "plt.xlim(-1,30)\n",
    "plt.ylim(-1,30)\n",
    "plt.ylabel('Observed mean CHM')\n",
    "plt.xlabel('Predicted mean CHM')\n",
    "# 1 for 1 line\n",
    "ax.plot(a, b, color = 'black')\n",
    "\n",
    "plt.show()"
   ]
  },
  {
   "cell_type": "code",
   "execution_count": null,
   "metadata": {},
   "outputs": [],
   "source": []
  },
  {
   "cell_type": "code",
   "execution_count": null,
   "metadata": {},
   "outputs": [],
   "source": [
    "with open('rfr_modelNamel57', 'rb') as f:\n",
    "        rf = cPickle.load(f)\n",
    "\n",
    "        predicted = rf.predict(xdata2)\n",
    "\n",
    "#print 'r2 =' ,  rf.score(predicted, y_2)\n",
    "#print 'rmse =', np.sqrt(np.mean((y_2 - predicted)**2))\n",
    "#print 'n =' , len(y_2)\n",
    "\n",
    "print 'Predicted data r2 =', rf.score(xdata2, ydata)\n",
    "print 'MSE =', format(np.mean((ydata - rf.predict(xdata2))** 2), '.3f')\n",
    "print 'RMSE =', format(np.sqrt(np.mean((predicted - ydata) ** 2)), '.3f')\n",
    "print 'explained_var =',format(explained_variance_score(ydata, predicted),  '.3f') \n",
    "print 'bias =' , format(np.mean(ydata) - np.mean(predicted), '.3f')\n",
    "print 'n =' , len(ydata)\n",
    "\n",
    "\n",
    "# plot up predicted and observed data \n",
    "plt.scatter(predicted, ydata,s=0.002, c='b', marker='o')\n",
    "\n",
    "# data for the 1 for 1 line\n",
    "x = [-1,30]\n",
    "y = [-1,30]\n",
    "\n",
    "#sets the limits of the axis\n",
    "plt.xlim(-1, 30)\n",
    "plt.ylim(-1, 30)\n",
    "\n",
    "# 1 for 1 line\n",
    "\n",
    "fig = plt.figure(1)\n",
    "plt.plot(x, y, color = 'black')\n",
    "fig.savefig('predicted_Observed_Validationgtr4m.png',dpi=600)\n",
    "plt.show()"
   ]
  },
  {
   "cell_type": "code",
   "execution_count": null,
   "metadata": {},
   "outputs": [],
   "source": [
    "import numpy as np\n",
    "import matplotlib.pyplot as plt\n",
    "from scipy.stats import gaussian_kde\n",
    "\n",
    "# data to plot\n",
    "x = predicted\n",
    "y = ydata\n",
    "\n",
    "# Calculate the point density\n",
    "xy = np.vstack([x,y])\n",
    "z = gaussian_kde(xy)(xy)\n",
    "\n",
    "# Sort the points by density, so that the densest points are plotted last\n",
    "idx = z.argsort()\n",
    "x, y, z = x[idx], y[idx], z[idx]\n",
    "\n",
    "\n",
    "fig, ax = plt.subplots()\n",
    "ax.scatter(x, y, c=z, s=0.5, edgecolor='')\n",
    "\n",
    "# data for the 1 for 1 line\n",
    "a = [-1,30]\n",
    "b = [-1,30]\n",
    "\n",
    "#sets the limits of the axis\n",
    "plt.xlim(-1,30)\n",
    "plt.ylim(-1,30)\n",
    "plt.ylabel('Observed mean CHM')\n",
    "plt.xlabel('Predicted mean CHM')\n",
    "# 1 for 1 line\n",
    "ax.plot(a, b, color = 'black')\n",
    "\n",
    "plt.show()"
   ]
  },
  {
   "cell_type": "code",
   "execution_count": null,
   "metadata": {},
   "outputs": [],
   "source": []
  },
  {
   "cell_type": "code",
   "execution_count": null,
   "metadata": {},
   "outputs": [],
   "source": []
  },
  {
   "cell_type": "code",
   "execution_count": null,
   "metadata": {},
   "outputs": [],
   "source": []
  },
  {
   "cell_type": "code",
   "execution_count": null,
   "metadata": {},
   "outputs": [],
   "source": [
    "with open('rfr_modelNamel78', 'rb') as f:\n",
    "        rf = cPickle.load(f)\n",
    "\n",
    "        predicted = rf.predict(xdata2)\n",
    "\n",
    "#print 'r2 =' ,  rf.score(predicted, y_2)\n",
    "#print 'rmse =', np.sqrt(np.mean((y_2 - predicted)**2))\n",
    "#print 'n =' , len(y_2)\n",
    "\n",
    "print 'Predicted data r2 =', rf.score(xdata2, ydata)\n",
    "print 'MSE =', format(np.mean((ydata - rf.predict(xdata2))** 2), '.3f')\n",
    "print 'RMSE =', format(np.sqrt(np.mean((predicted - ydata) ** 2)), '.3f')\n",
    "print 'explained_var =',format(explained_variance_score(ydata, predicted),  '.3f') \n",
    "print 'bias =' , format(np.mean(ydata) - np.mean(predicted), '.3f')\n",
    "print 'n =' , len(ydata)\n",
    "\n",
    "\n",
    "# plot up predicted and observed data \n",
    "plt.scatter(predicted, ydata,s=0.002, c='b', marker='o')\n",
    "\n",
    "# data for the 1 for 1 line\n",
    "x = [-1,30]\n",
    "y = [-1,30]\n",
    "\n",
    "#sets the limits of the axis\n",
    "plt.xlim(-1, 30)\n",
    "plt.ylim(-1, 30)\n",
    "\n",
    "# 1 for 1 line\n",
    "\n",
    "fig = plt.figure(1)\n",
    "plt.plot(x, y, color = 'black')\n",
    "fig.savefig('predicted_Observed_Validation.png',dpi=600)\n",
    "plt.show()"
   ]
  },
  {
   "cell_type": "code",
   "execution_count": null,
   "metadata": {},
   "outputs": [],
   "source": []
  }
 ],
 "metadata": {
  "anaconda-cloud": {},
  "kernelspec": {
   "display_name": "Python 3",
   "language": "python",
   "name": "python3"
  },
  "language_info": {
   "codemirror_mode": {
    "name": "ipython",
    "version": 3
   },
   "file_extension": ".py",
   "mimetype": "text/x-python",
   "name": "python",
   "nbconvert_exporter": "python",
   "pygments_lexer": "ipython3",
   "version": "3.7.7"
  }
 },
 "nbformat": 4,
 "nbformat_minor": 1
}
