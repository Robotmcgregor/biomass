{
 "cells": [
  {
   "cell_type": "markdown",
   "metadata": {},
   "source": [
    "# sklearn_classification_models_for_seasonal_selections"
   ]
  },
  {
   "cell_type": "markdown",
   "metadata": {},
   "source": [
    "https://www.projectpro.io/article/multi-class-classification-python-example/547#mcetoc_1fpjsn4g8g"
   ]
  },
  {
   "cell_type": "markdown",
   "metadata": {},
   "source": [
    "https://www.educba.com/keras-sequential/"
   ]
  },
  {
   "cell_type": "markdown",
   "metadata": {},
   "source": [
    "###### Load modules "
   ]
  },
  {
   "cell_type": "markdown",
   "metadata": {},
   "source": [
    "The following conditions apply:\n",
    "\n",
    " - env = biomass_zonal\n",
    " - data merged_slats_field_agb_dp1_start.csv"
   ]
  },
  {
   "cell_type": "code",
   "execution_count": 165,
   "metadata": {},
   "outputs": [],
   "source": [
    "import numpy as np\n",
    "import matplotlib.pyplot as plt\n",
    "%matplotlib inline\n",
    "\n",
    "from sklearn import svm\n",
    "from sklearn.model_selection import train_test_split\n",
    "from sklearn.preprocessing import StandardScaler\n",
    "from sklearn.metrics import ConfusionMatrixDisplay, accuracy_score, classification_report\n",
    "from sklearn.neighbors import KNeighborsClassifier\n",
    "\n",
    "\n",
    "import matplotlib.pyplot as plt\n",
    "import seaborn as sns\n",
    "import os\n",
    "import scipy\n",
    "import scipy.stats as sc\n",
    "import numpy as np\n",
    "from glob import glob\n",
    "import pandas as pd\n",
    "pd.set_option('display.float_format', '{:.2f}'.format)"
   ]
  },
  {
   "cell_type": "code",
   "execution_count": 131,
   "metadata": {},
   "outputs": [],
   "source": [
    "\n",
    "\n",
    "# %matplotlib inline\n",
    "# import sklearn\n",
    "# import pandas as pd\n",
    "# pd.set_option('display.float_format', '{:.2f}'.format)\n",
    "# import numpy as np\n",
    "# from random import sample\n",
    "# from sklearn.ensemble import RandomForestRegressor as rfr\n",
    "# from sklearn.ensemble import ExtraTreesRegressor as etr\n",
    "# from sklearn.ensemble import GradientBoostingRegressor as gbr\n",
    "# from sklearn.ensemble import AdaBoostRegressor as abr\n",
    "# from sklearn.tree import DecisionTreeRegressor as dtr\n",
    "# import matplotlib.pyplot as plt\n",
    "# import csv\n",
    "# from sklearn.model_selection import train_test_split\n",
    "\n",
    "# # import plotting and stats modules\n",
    "\n",
    "# import matplotlib.pyplot as plt\n",
    "# import seaborn as sns\n",
    "# import os\n",
    "# import scipy\n",
    "# import scipy.stats as sc\n",
    "# import numpy as np\n",
    "# from glob import glob\n",
    "\n",
    "# # stats module\n",
    "# import statsmodels.api as sm\n",
    "# from statsmodels.tools.tools import add_constant\n",
    "# from statsmodels.sandbox.regression.predstd import wls_prediction_std\n",
    "# from statsmodels.stats.outliers_influence import variance_inflation_factor\n",
    "\n",
    "# from bokeh.io import output_notebook, output_file\n",
    "# from bokeh.plotting import figure, show, save\n",
    "# #%matplotlib inline\n",
    "\n",
    "# # Bokeh Libraries\n",
    "# # from bokeh.plotting import figure, show\n",
    "# # from bokeh.io import output_file\n",
    "# from bokeh.models import ColumnDataSource, NumeralTickFormatter, HoverTool\n",
    "\n",
    "\n",
    "# from sklearn.model_selection import cross_validate\n",
    "# #sklearn.model_selection.cross_validate\n",
    "# # from sklearn import cross_validation\n",
    "# from sklearn.metrics import explained_variance_score\n",
    "# from sklearn import metrics\n",
    "# from sklearn.metrics import mean_squared_error\n",
    "# from sklearn.model_selection import GridSearchCV\n",
    "# #from sklearn.cross_validation import KFold\n",
    "# import pickle5 as Pickle"
   ]
  },
  {
   "cell_type": "code",
   "execution_count": 3,
   "metadata": {},
   "outputs": [
    {
     "name": "stdout",
     "output_type": "stream",
     "text": [
      "20230205\n",
      "20230205_172204\n"
     ]
    }
   ],
   "source": [
    "from datetime import datetime\n",
    "\n",
    "# datetime object containing current date and time\n",
    "now = datetime.now()\n",
    " \n",
    "date_str = now.strftime(\"%Y%m%d\")\n",
    "date_time_str = now.strftime(\"%Y%m%d_%H%M%S\")\n",
    "print(date_str)\n",
    "print(date_time_str)"
   ]
  },
  {
   "cell_type": "markdown",
   "metadata": {},
   "source": [
    "### Import data"
   ]
  },
  {
   "cell_type": "code",
   "execution_count": 4,
   "metadata": {},
   "outputs": [],
   "source": [
    "#date_str = \"20230201\"\n",
    "drive = \"F\"\n",
    "data_date = \"20230205\"\n",
    "# define output directory\n",
    "output_dir = r\"{0}:\\cdu\\data\\zonal_stats\\output\\{1}\".format(drive, date_str)\n",
    "export_dir = os.path.join(output_dir, date_time_str)\n",
    "\n",
    "# data dir\n",
    "dir_ = r\"{0}:\\cdu\\data\\zonal_stats\\output\\{1}\\ml_data_si_dir\".format(drive, data_date)\n",
    "\n",
    "index_ = 1\n"
   ]
  },
  {
   "cell_type": "code",
   "execution_count": 12,
   "metadata": {},
   "outputs": [],
   "source": [
    "def mk_dir_fn(dir_):\n",
    "    \"\"\" Create a new directory if one does not already exist. \"\"\"\n",
    "    print(\"pathway \", dir_)\n",
    "    if not os.path.isdir(dir_):\n",
    "        os.mkdir(dir_)\n",
    "\n",
    "        \n",
    "def export_csv_fn(list_, dir_, file_name):\n",
    "    \n",
    "    \"\"\" Create and export path from directory and file name and exports csv with no dropping the index column. \"\"\"\n",
    "    \n",
    "    df_final = pd.concat(list_, axis =0)    \n",
    "    output_path = os.path.join(dir_, file_name)\n",
    "    df_final.to_csv(os.path.join(output_path), index=False)\n",
    "    print(\"File output to: \", output_path)\n",
    "    \n",
    "    return df_final"
   ]
  },
  {
   "cell_type": "markdown",
   "metadata": {},
   "source": [
    "## Set output file locations"
   ]
  },
  {
   "cell_type": "markdown",
   "metadata": {},
   "source": [
    "## Load data"
   ]
  },
  {
   "cell_type": "code",
   "execution_count": 13,
   "metadata": {},
   "outputs": [
    {
     "name": "stdout",
     "output_type": "stream",
     "text": [
      "F:\\cdu\\data\\zonal_stats\\output\\20230205\\ml_data_si_dir\\s_mean_max_min_med_std__fnm_fms_si_class.csv\n",
      "F:\\cdu\\data\\zonal_stats\\output\\20230205\\ml_data_si_dir\\r2_bs_mean_max_min_med_std__fnm_fms_si_class.csv\n",
      "F:\\cdu\\data\\zonal_stats\\output\\20230205\\ml_data_si_dir\\s_mean_max_min_med_std__fnm_fms_NOT_si_class.csv\n",
      "F:\\cdu\\data\\zonal_stats\\output\\20230205\\ml_data_si_dir\\r2_bs_mean_max_min_med_std__fnm_fms_NOT_si_class.csv\n",
      "F:\\cdu\\data\\zonal_stats\\output\\20230205\\ml_data_si_dir\\s_mean_max_min_med_std_met_fnm_fms_NOT_si_class.csv\n",
      "F:\\cdu\\data\\zonal_stats\\output\\20230205\\ml_data_si_dir\\r2_bs_mean_max_min_med_std_met_fnm_fms_NOT_si_class.csv\n",
      "F:\\cdu\\data\\zonal_stats\\output\\20230205\\ml_data_si_dir\\s_mean_max_min_med_std_met_fnm_fms_si_class.csv\n",
      "F:\\cdu\\data\\zonal_stats\\output\\20230205\\ml_data_si_dir\\r2_bs_mean_max_min_med_std_met_fnm_fms_si_class.csv\n"
     ]
    }
   ],
   "source": [
    "file_list = []\n",
    "for f in glob(os.path.join(dir_, \"*class.csv\")):\n",
    "    print(f)\n",
    "    file_list.append(f)\n"
   ]
  },
  {
   "cell_type": "code",
   "execution_count": 14,
   "metadata": {},
   "outputs": [],
   "source": [
    "_, file_name = os.path.split(file_list[index_])\n",
    "split_list = file_name.split(\".\")\n",
    "data_set = split_list[0]"
   ]
  },
  {
   "cell_type": "code",
   "execution_count": 15,
   "metadata": {},
   "outputs": [
    {
     "data": {
      "text/plain": [
       "'r2_bs_mean_max_min_med_std__fnm_fms_si_class'"
      ]
     },
     "execution_count": 15,
     "metadata": {},
     "output_type": "execute_result"
    }
   ],
   "source": [
    "data_set"
   ]
  },
  {
   "cell_type": "code",
   "execution_count": 18,
   "metadata": {},
   "outputs": [],
   "source": [
    "ml_rf_reg_dir= os.path.join(output_dir, \"ml_svc_class_dir\")\n",
    "data_set_dir= os.path.join(ml_rf_reg_dir, \"data_set\")\n",
    "export_ml_rf_reg_dir = os.path.join(data_set_dir, date_time_str)\n",
    "# plots_dir = os.path.join(export_ml_rf_reg_dir, data_set)\n",
    "all_plots_dir = os.path.join(export_ml_rf_reg_dir, \"all_plots\")\n",
    "# no_tern_plots_dir = os.path.join(plots_dir, \"no_tern\")\n"
   ]
  },
  {
   "cell_type": "code",
   "execution_count": 19,
   "metadata": {},
   "outputs": [
    {
     "name": "stdout",
     "output_type": "stream",
     "text": [
      "pathway  F:\\cdu\\data\\zonal_stats\\output\\20230205\\ml_knn_class_dir\n",
      "pathway  F:\\cdu\\data\\zonal_stats\\output\\20230205\\ml_knn_class_dir\\data_set\n",
      "pathway  F:\\cdu\\data\\zonal_stats\\output\\20230205\\ml_knn_class_dir\\data_set\\20230205_172204\n",
      "pathway  F:\\cdu\\data\\zonal_stats\\output\\20230205\\ml_knn_class_dir\\data_set\\20230205_172204\\all_plots\n"
     ]
    }
   ],
   "source": [
    "# mk_dir_fn(output_dir)\n",
    "mk_dir_fn(ml_rf_reg_dir)\n",
    "mk_dir_fn(data_set_dir)\n",
    "mk_dir_fn(export_ml_rf_reg_dir)\n",
    "# mk_dir_fn(plots_dir)\n",
    "mk_dir_fn(all_plots_dir)\n",
    "# mk_dir_fn(no_tern_plots_dir)"
   ]
  },
  {
   "cell_type": "code",
   "execution_count": 20,
   "metadata": {},
   "outputs": [
    {
     "data": {
      "text/plain": [
       "'F:\\\\cdu\\\\data\\\\zonal_stats\\\\output\\\\20230205\\\\ml_knn_class_dir\\\\data_set\\\\20230205_172204'"
      ]
     },
     "execution_count": 20,
     "metadata": {},
     "output_type": "execute_result"
    }
   ],
   "source": [
    "export_ml_rf_reg_dir"
   ]
  },
  {
   "cell_type": "code",
   "execution_count": 21,
   "metadata": {},
   "outputs": [],
   "source": [
    "df = pd.read_csv(file_list[index_], header=0)"
   ]
  },
  {
   "cell_type": "code",
   "execution_count": 22,
   "metadata": {},
   "outputs": [
    {
     "data": {
      "text/html": [
       "<div>\n",
       "<style scoped>\n",
       "    .dataframe tbody tr th:only-of-type {\n",
       "        vertical-align: middle;\n",
       "    }\n",
       "\n",
       "    .dataframe tbody tr th {\n",
       "        vertical-align: top;\n",
       "    }\n",
       "\n",
       "    .dataframe thead th {\n",
       "        text-align: right;\n",
       "    }\n",
       "</style>\n",
       "<table border=\"1\" class=\"dataframe\">\n",
       "  <thead>\n",
       "    <tr style=\"text-align: right;\">\n",
       "      <th></th>\n",
       "      <th>target</th>\n",
       "      <th>site</th>\n",
       "      <th>uid</th>\n",
       "      <th>date</th>\n",
       "      <th>b1_fpca2_0509_min</th>\n",
       "      <th>b1_fpca2_0509_max</th>\n",
       "      <th>b1_fpca2_0509_mean</th>\n",
       "      <th>b1_fpca2_0509_med</th>\n",
       "      <th>b1_fpca2_0509_std</th>\n",
       "      <th>b1_h99a_01122_min</th>\n",
       "      <th>...</th>\n",
       "      <th>NDGIm</th>\n",
       "      <th>RIm</th>\n",
       "      <th>NBRm</th>\n",
       "      <th>NDIIm</th>\n",
       "      <th>GDVIm</th>\n",
       "      <th>MSAVIm</th>\n",
       "      <th>DVIm</th>\n",
       "      <th>SAVIm</th>\n",
       "      <th>NDVIm</th>\n",
       "      <th>MSRm</th>\n",
       "    </tr>\n",
       "  </thead>\n",
       "  <tbody>\n",
       "    <tr>\n",
       "      <th>0</th>\n",
       "      <td>0</td>\n",
       "      <td>nt001</td>\n",
       "      <td>71</td>\n",
       "      <td>20110523</td>\n",
       "      <td>13.78</td>\n",
       "      <td>47.00</td>\n",
       "      <td>25.85</td>\n",
       "      <td>23.87</td>\n",
       "      <td>8.48</td>\n",
       "      <td>7.27</td>\n",
       "      <td>...</td>\n",
       "      <td>-1797183</td>\n",
       "      <td>1797183</td>\n",
       "      <td>803085</td>\n",
       "      <td>-1648544</td>\n",
       "      <td>1653000</td>\n",
       "      <td>2108509</td>\n",
       "      <td>1334000</td>\n",
       "      <td>2374229</td>\n",
       "      <td>3891482</td>\n",
       "      <td>5080174</td>\n",
       "    </tr>\n",
       "    <tr>\n",
       "      <th>1</th>\n",
       "      <td>0</td>\n",
       "      <td>barkely01</td>\n",
       "      <td>24</td>\n",
       "      <td>20111025</td>\n",
       "      <td>0.75</td>\n",
       "      <td>2.87</td>\n",
       "      <td>1.69</td>\n",
       "      <td>1.49</td>\n",
       "      <td>0.70</td>\n",
       "      <td>4.38</td>\n",
       "      <td>...</td>\n",
       "      <td>-1237840</td>\n",
       "      <td>1237840</td>\n",
       "      <td>145478</td>\n",
       "      <td>-1258856</td>\n",
       "      <td>1100000</td>\n",
       "      <td>1063379</td>\n",
       "      <td>731000</td>\n",
       "      <td>1207466</td>\n",
       "      <td>1791228</td>\n",
       "      <td>1985065</td>\n",
       "    </tr>\n",
       "    <tr>\n",
       "      <th>2</th>\n",
       "      <td>0</td>\n",
       "      <td>barkely04</td>\n",
       "      <td>27</td>\n",
       "      <td>20111026</td>\n",
       "      <td>2.12</td>\n",
       "      <td>6.42</td>\n",
       "      <td>4.37</td>\n",
       "      <td>4.47</td>\n",
       "      <td>1.22</td>\n",
       "      <td>5.93</td>\n",
       "      <td>...</td>\n",
       "      <td>-1493838</td>\n",
       "      <td>1493838</td>\n",
       "      <td>965693</td>\n",
       "      <td>-982236</td>\n",
       "      <td>1174000</td>\n",
       "      <td>951763</td>\n",
       "      <td>677000</td>\n",
       "      <td>1068835</td>\n",
       "      <td>1504110</td>\n",
       "      <td>1636492</td>\n",
       "    </tr>\n",
       "    <tr>\n",
       "      <th>3</th>\n",
       "      <td>0</td>\n",
       "      <td>barkely03</td>\n",
       "      <td>26</td>\n",
       "      <td>20111026</td>\n",
       "      <td>0.75</td>\n",
       "      <td>3.29</td>\n",
       "      <td>1.82</td>\n",
       "      <td>1.64</td>\n",
       "      <td>0.70</td>\n",
       "      <td>3.66</td>\n",
       "      <td>...</td>\n",
       "      <td>-1481481</td>\n",
       "      <td>1481481</td>\n",
       "      <td>-2046</td>\n",
       "      <td>-1713026</td>\n",
       "      <td>1178000</td>\n",
       "      <td>1068186</td>\n",
       "      <td>738000</td>\n",
       "      <td>1210101</td>\n",
       "      <td>1779171</td>\n",
       "      <td>1970149</td>\n",
       "    </tr>\n",
       "    <tr>\n",
       "      <th>4</th>\n",
       "      <td>0</td>\n",
       "      <td>barkely02</td>\n",
       "      <td>25</td>\n",
       "      <td>20111026</td>\n",
       "      <td>2.12</td>\n",
       "      <td>13.78</td>\n",
       "      <td>4.97</td>\n",
       "      <td>4.73</td>\n",
       "      <td>2.43</td>\n",
       "      <td>3.13</td>\n",
       "      <td>...</td>\n",
       "      <td>-1563211</td>\n",
       "      <td>1563211</td>\n",
       "      <td>758167</td>\n",
       "      <td>-969300</td>\n",
       "      <td>1320000</td>\n",
       "      <td>1195078</td>\n",
       "      <td>839000</td>\n",
       "      <td>1339257</td>\n",
       "      <td>1908119</td>\n",
       "      <td>2131007</td>\n",
       "    </tr>\n",
       "    <tr>\n",
       "      <th>...</th>\n",
       "      <td>...</td>\n",
       "      <td>...</td>\n",
       "      <td>...</td>\n",
       "      <td>...</td>\n",
       "      <td>...</td>\n",
       "      <td>...</td>\n",
       "      <td>...</td>\n",
       "      <td>...</td>\n",
       "      <td>...</td>\n",
       "      <td>...</td>\n",
       "      <td>...</td>\n",
       "      <td>...</td>\n",
       "      <td>...</td>\n",
       "      <td>...</td>\n",
       "      <td>...</td>\n",
       "      <td>...</td>\n",
       "      <td>...</td>\n",
       "      <td>...</td>\n",
       "      <td>...</td>\n",
       "      <td>...</td>\n",
       "      <td>...</td>\n",
       "    </tr>\n",
       "    <tr>\n",
       "      <th>162</th>\n",
       "      <td>8</td>\n",
       "      <td>ntadac0002</td>\n",
       "      <td>79</td>\n",
       "      <td>20160506</td>\n",
       "      <td>15.54</td>\n",
       "      <td>42.39</td>\n",
       "      <td>29.12</td>\n",
       "      <td>29.27</td>\n",
       "      <td>6.84</td>\n",
       "      <td>16.05</td>\n",
       "      <td>...</td>\n",
       "      <td>-652174</td>\n",
       "      <td>652174</td>\n",
       "      <td>4386747</td>\n",
       "      <td>1261845</td>\n",
       "      <td>1828000</td>\n",
       "      <td>3096442</td>\n",
       "      <td>1768000</td>\n",
       "      <td>3422819</td>\n",
       "      <td>6433770</td>\n",
       "      <td>11466633</td>\n",
       "    </tr>\n",
       "    <tr>\n",
       "      <th>163</th>\n",
       "      <td>9</td>\n",
       "      <td>ntaarp0001</td>\n",
       "      <td>75</td>\n",
       "      <td>20160602</td>\n",
       "      <td>27.61</td>\n",
       "      <td>38.92</td>\n",
       "      <td>34.75</td>\n",
       "      <td>34.33</td>\n",
       "      <td>3.24</td>\n",
       "      <td>17.31</td>\n",
       "      <td>...</td>\n",
       "      <td>-1485714</td>\n",
       "      <td>1485714</td>\n",
       "      <td>4017258</td>\n",
       "      <td>1123510</td>\n",
       "      <td>1746000</td>\n",
       "      <td>2727661</td>\n",
       "      <td>1590000</td>\n",
       "      <td>3059261</td>\n",
       "      <td>5686695</td>\n",
       "      <td>9070438</td>\n",
       "    </tr>\n",
       "    <tr>\n",
       "      <th>164</th>\n",
       "      <td>8</td>\n",
       "      <td>ntaarp0002</td>\n",
       "      <td>76</td>\n",
       "      <td>20160602</td>\n",
       "      <td>9.06</td>\n",
       "      <td>22.31</td>\n",
       "      <td>14.40</td>\n",
       "      <td>14.21</td>\n",
       "      <td>3.60</td>\n",
       "      <td>9.74</td>\n",
       "      <td>...</td>\n",
       "      <td>-2065698</td>\n",
       "      <td>2065698</td>\n",
       "      <td>2615783</td>\n",
       "      <td>222222</td>\n",
       "      <td>1810000</td>\n",
       "      <td>2372051</td>\n",
       "      <td>1483000</td>\n",
       "      <td>2650423</td>\n",
       "      <td>4370763</td>\n",
       "      <td>5977733</td>\n",
       "    </tr>\n",
       "    <tr>\n",
       "      <th>165</th>\n",
       "      <td>7</td>\n",
       "      <td>ntaarp0003</td>\n",
       "      <td>77</td>\n",
       "      <td>20160603</td>\n",
       "      <td>5.26</td>\n",
       "      <td>25.45</td>\n",
       "      <td>13.08</td>\n",
       "      <td>12.11</td>\n",
       "      <td>5.79</td>\n",
       "      <td>9.61</td>\n",
       "      <td>...</td>\n",
       "      <td>-1885790</td>\n",
       "      <td>1885790</td>\n",
       "      <td>2958064</td>\n",
       "      <td>395123</td>\n",
       "      <td>1691000</td>\n",
       "      <td>2284112</td>\n",
       "      <td>1407000</td>\n",
       "      <td>2574722</td>\n",
       "      <td>4401001</td>\n",
       "      <td>6037665</td>\n",
       "    </tr>\n",
       "    <tr>\n",
       "      <th>166</th>\n",
       "      <td>6</td>\n",
       "      <td>buff01</td>\n",
       "      <td>31</td>\n",
       "      <td>20210713</td>\n",
       "      <td>19.30</td>\n",
       "      <td>40.08</td>\n",
       "      <td>30.47</td>\n",
       "      <td>32.06</td>\n",
       "      <td>6.23</td>\n",
       "      <td>12.00</td>\n",
       "      <td>...</td>\n",
       "      <td>770925</td>\n",
       "      <td>-770925</td>\n",
       "      <td>5614599</td>\n",
       "      <td>2339640</td>\n",
       "      <td>2185000</td>\n",
       "      <td>3960474</td>\n",
       "      <td>2255000</td>\n",
       "      <td>4179538</td>\n",
       "      <td>7290656</td>\n",
       "      <td>15262347</td>\n",
       "    </tr>\n",
       "  </tbody>\n",
       "</table>\n",
       "<p>167 rows × 174 columns</p>\n",
       "</div>"
      ],
      "text/plain": [
       "     target        site  uid      date  b1_fpca2_0509_min  b1_fpca2_0509_max  \\\n",
       "0         0       nt001   71  20110523              13.78              47.00   \n",
       "1         0   barkely01   24  20111025               0.75               2.87   \n",
       "2         0   barkely04   27  20111026               2.12               6.42   \n",
       "3         0   barkely03   26  20111026               0.75               3.29   \n",
       "4         0   barkely02   25  20111026               2.12              13.78   \n",
       "..      ...         ...  ...       ...                ...                ...   \n",
       "162       8  ntadac0002   79  20160506              15.54              42.39   \n",
       "163       9  ntaarp0001   75  20160602              27.61              38.92   \n",
       "164       8  ntaarp0002   76  20160602               9.06              22.31   \n",
       "165       7  ntaarp0003   77  20160603               5.26              25.45   \n",
       "166       6      buff01   31  20210713              19.30              40.08   \n",
       "\n",
       "     b1_fpca2_0509_mean  b1_fpca2_0509_med  b1_fpca2_0509_std  \\\n",
       "0                 25.85              23.87               8.48   \n",
       "1                  1.69               1.49               0.70   \n",
       "2                  4.37               4.47               1.22   \n",
       "3                  1.82               1.64               0.70   \n",
       "4                  4.97               4.73               2.43   \n",
       "..                  ...                ...                ...   \n",
       "162               29.12              29.27               6.84   \n",
       "163               34.75              34.33               3.24   \n",
       "164               14.40              14.21               3.60   \n",
       "165               13.08              12.11               5.79   \n",
       "166               30.47              32.06               6.23   \n",
       "\n",
       "     b1_h99a_01122_min  ...    NDGIm      RIm     NBRm    NDIIm    GDVIm  \\\n",
       "0                 7.27  ... -1797183  1797183   803085 -1648544  1653000   \n",
       "1                 4.38  ... -1237840  1237840   145478 -1258856  1100000   \n",
       "2                 5.93  ... -1493838  1493838   965693  -982236  1174000   \n",
       "3                 3.66  ... -1481481  1481481    -2046 -1713026  1178000   \n",
       "4                 3.13  ... -1563211  1563211   758167  -969300  1320000   \n",
       "..                 ...  ...      ...      ...      ...      ...      ...   \n",
       "162              16.05  ...  -652174   652174  4386747  1261845  1828000   \n",
       "163              17.31  ... -1485714  1485714  4017258  1123510  1746000   \n",
       "164               9.74  ... -2065698  2065698  2615783   222222  1810000   \n",
       "165               9.61  ... -1885790  1885790  2958064   395123  1691000   \n",
       "166              12.00  ...   770925  -770925  5614599  2339640  2185000   \n",
       "\n",
       "      MSAVIm     DVIm    SAVIm    NDVIm      MSRm  \n",
       "0    2108509  1334000  2374229  3891482   5080174  \n",
       "1    1063379   731000  1207466  1791228   1985065  \n",
       "2     951763   677000  1068835  1504110   1636492  \n",
       "3    1068186   738000  1210101  1779171   1970149  \n",
       "4    1195078   839000  1339257  1908119   2131007  \n",
       "..       ...      ...      ...      ...       ...  \n",
       "162  3096442  1768000  3422819  6433770  11466633  \n",
       "163  2727661  1590000  3059261  5686695   9070438  \n",
       "164  2372051  1483000  2650423  4370763   5977733  \n",
       "165  2284112  1407000  2574722  4401001   6037665  \n",
       "166  3960474  2255000  4179538  7290656  15262347  \n",
       "\n",
       "[167 rows x 174 columns]"
      ]
     },
     "execution_count": 22,
     "metadata": {},
     "output_type": "execute_result"
    }
   ],
   "source": [
    "df"
   ]
  },
  {
   "cell_type": "code",
   "execution_count": 25,
   "metadata": {},
   "outputs": [
    {
     "name": "stdout",
     "output_type": "stream",
     "text": [
      "slope:  1.7911862699200679e-06\n",
      "intersept:  6.367735716719092\n",
      "r2:  0.3764617375841587\n",
      "P_value:  5.327552093824704e-07\n",
      "std error:  3.4315597327307624e-07\n"
     ]
    },
    {
     "data": {
      "image/png": "[encoded data removed]",
      "text/plain": [
       "<Figure size 432x288 with 1 Axes>"
      ]
     },
     "metadata": {
      "needs_background": "light"
     },
     "output_type": "display_data"
    }
   ],
   "source": [
    "value_y = 'target'\n",
    "value_x = 'NDGIm'\n",
    "sns.regplot(x= value_x, y=value_y, data=df)\n",
    "slope, intercept, r_value, p_value, std_err = scipy.stats.linregress(df[value_x], df[value_y])\n",
    "\n",
    "print(\"slope: \", slope)\n",
    "print(\"intersept: \", intercept)\n",
    "print(\"r2: \", r_value)\n",
    "print(\"P_value: \", p_value)\n",
    "print(\"std error: \", std_err)"
   ]
  },
  {
   "cell_type": "code",
   "execution_count": 34,
   "metadata": {},
   "outputs": [],
   "source": [
    "df_ml = df.copy(deep=True)"
   ]
  },
  {
   "cell_type": "markdown",
   "metadata": {},
   "source": [
    "### Set variables to plot"
   ]
  },
  {
   "cell_type": "markdown",
   "metadata": {},
   "source": [
    "## Choose which data set to run the models from"
   ]
  },
  {
   "cell_type": "code",
   "execution_count": 35,
   "metadata": {},
   "outputs": [
    {
     "data": {
      "text/html": [
       "<div>\n",
       "<style scoped>\n",
       "    .dataframe tbody tr th:only-of-type {\n",
       "        vertical-align: middle;\n",
       "    }\n",
       "\n",
       "    .dataframe tbody tr th {\n",
       "        vertical-align: top;\n",
       "    }\n",
       "\n",
       "    .dataframe thead th {\n",
       "        text-align: right;\n",
       "    }\n",
       "</style>\n",
       "<table border=\"1\" class=\"dataframe\">\n",
       "  <thead>\n",
       "    <tr style=\"text-align: right;\">\n",
       "      <th></th>\n",
       "      <th>target</th>\n",
       "      <th>site</th>\n",
       "      <th>uid</th>\n",
       "      <th>date</th>\n",
       "      <th>b1_fpca2_0509_min</th>\n",
       "      <th>b1_fpca2_0509_max</th>\n",
       "      <th>b1_fpca2_0509_mean</th>\n",
       "      <th>b1_fpca2_0509_med</th>\n",
       "      <th>b1_fpca2_0509_std</th>\n",
       "      <th>b1_h99a_01122_min</th>\n",
       "      <th>...</th>\n",
       "      <th>NDGIm</th>\n",
       "      <th>RIm</th>\n",
       "      <th>NBRm</th>\n",
       "      <th>NDIIm</th>\n",
       "      <th>GDVIm</th>\n",
       "      <th>MSAVIm</th>\n",
       "      <th>DVIm</th>\n",
       "      <th>SAVIm</th>\n",
       "      <th>NDVIm</th>\n",
       "      <th>MSRm</th>\n",
       "    </tr>\n",
       "  </thead>\n",
       "  <tbody>\n",
       "    <tr>\n",
       "      <th>0</th>\n",
       "      <td>0</td>\n",
       "      <td>nt001</td>\n",
       "      <td>71</td>\n",
       "      <td>20110523</td>\n",
       "      <td>13.78</td>\n",
       "      <td>47.00</td>\n",
       "      <td>25.85</td>\n",
       "      <td>23.87</td>\n",
       "      <td>8.48</td>\n",
       "      <td>7.27</td>\n",
       "      <td>...</td>\n",
       "      <td>-1797183</td>\n",
       "      <td>1797183</td>\n",
       "      <td>803085</td>\n",
       "      <td>-1648544</td>\n",
       "      <td>1653000</td>\n",
       "      <td>2108509</td>\n",
       "      <td>1334000</td>\n",
       "      <td>2374229</td>\n",
       "      <td>3891482</td>\n",
       "      <td>5080174</td>\n",
       "    </tr>\n",
       "    <tr>\n",
       "      <th>1</th>\n",
       "      <td>0</td>\n",
       "      <td>barkely01</td>\n",
       "      <td>24</td>\n",
       "      <td>20111025</td>\n",
       "      <td>0.75</td>\n",
       "      <td>2.87</td>\n",
       "      <td>1.69</td>\n",
       "      <td>1.49</td>\n",
       "      <td>0.70</td>\n",
       "      <td>4.38</td>\n",
       "      <td>...</td>\n",
       "      <td>-1237840</td>\n",
       "      <td>1237840</td>\n",
       "      <td>145478</td>\n",
       "      <td>-1258856</td>\n",
       "      <td>1100000</td>\n",
       "      <td>1063379</td>\n",
       "      <td>731000</td>\n",
       "      <td>1207466</td>\n",
       "      <td>1791228</td>\n",
       "      <td>1985065</td>\n",
       "    </tr>\n",
       "    <tr>\n",
       "      <th>2</th>\n",
       "      <td>0</td>\n",
       "      <td>barkely04</td>\n",
       "      <td>27</td>\n",
       "      <td>20111026</td>\n",
       "      <td>2.12</td>\n",
       "      <td>6.42</td>\n",
       "      <td>4.37</td>\n",
       "      <td>4.47</td>\n",
       "      <td>1.22</td>\n",
       "      <td>5.93</td>\n",
       "      <td>...</td>\n",
       "      <td>-1493838</td>\n",
       "      <td>1493838</td>\n",
       "      <td>965693</td>\n",
       "      <td>-982236</td>\n",
       "      <td>1174000</td>\n",
       "      <td>951763</td>\n",
       "      <td>677000</td>\n",
       "      <td>1068835</td>\n",
       "      <td>1504110</td>\n",
       "      <td>1636492</td>\n",
       "    </tr>\n",
       "    <tr>\n",
       "      <th>3</th>\n",
       "      <td>0</td>\n",
       "      <td>barkely03</td>\n",
       "      <td>26</td>\n",
       "      <td>20111026</td>\n",
       "      <td>0.75</td>\n",
       "      <td>3.29</td>\n",
       "      <td>1.82</td>\n",
       "      <td>1.64</td>\n",
       "      <td>0.70</td>\n",
       "      <td>3.66</td>\n",
       "      <td>...</td>\n",
       "      <td>-1481481</td>\n",
       "      <td>1481481</td>\n",
       "      <td>-2046</td>\n",
       "      <td>-1713026</td>\n",
       "      <td>1178000</td>\n",
       "      <td>1068186</td>\n",
       "      <td>738000</td>\n",
       "      <td>1210101</td>\n",
       "      <td>1779171</td>\n",
       "      <td>1970149</td>\n",
       "    </tr>\n",
       "    <tr>\n",
       "      <th>4</th>\n",
       "      <td>0</td>\n",
       "      <td>barkely02</td>\n",
       "      <td>25</td>\n",
       "      <td>20111026</td>\n",
       "      <td>2.12</td>\n",
       "      <td>13.78</td>\n",
       "      <td>4.97</td>\n",
       "      <td>4.73</td>\n",
       "      <td>2.43</td>\n",
       "      <td>3.13</td>\n",
       "      <td>...</td>\n",
       "      <td>-1563211</td>\n",
       "      <td>1563211</td>\n",
       "      <td>758167</td>\n",
       "      <td>-969300</td>\n",
       "      <td>1320000</td>\n",
       "      <td>1195078</td>\n",
       "      <td>839000</td>\n",
       "      <td>1339257</td>\n",
       "      <td>1908119</td>\n",
       "      <td>2131007</td>\n",
       "    </tr>\n",
       "  </tbody>\n",
       "</table>\n",
       "<p>5 rows × 174 columns</p>\n",
       "</div>"
      ],
      "text/plain": [
       "   target       site  uid      date  b1_fpca2_0509_min  b1_fpca2_0509_max  \\\n",
       "0       0      nt001   71  20110523              13.78              47.00   \n",
       "1       0  barkely01   24  20111025               0.75               2.87   \n",
       "2       0  barkely04   27  20111026               2.12               6.42   \n",
       "3       0  barkely03   26  20111026               0.75               3.29   \n",
       "4       0  barkely02   25  20111026               2.12              13.78   \n",
       "\n",
       "   b1_fpca2_0509_mean  b1_fpca2_0509_med  b1_fpca2_0509_std  \\\n",
       "0               25.85              23.87               8.48   \n",
       "1                1.69               1.49               0.70   \n",
       "2                4.37               4.47               1.22   \n",
       "3                1.82               1.64               0.70   \n",
       "4                4.97               4.73               2.43   \n",
       "\n",
       "   b1_h99a_01122_min  ...    NDGIm      RIm    NBRm    NDIIm    GDVIm  \\\n",
       "0               7.27  ... -1797183  1797183  803085 -1648544  1653000   \n",
       "1               4.38  ... -1237840  1237840  145478 -1258856  1100000   \n",
       "2               5.93  ... -1493838  1493838  965693  -982236  1174000   \n",
       "3               3.66  ... -1481481  1481481   -2046 -1713026  1178000   \n",
       "4               3.13  ... -1563211  1563211  758167  -969300  1320000   \n",
       "\n",
       "    MSAVIm     DVIm    SAVIm    NDVIm     MSRm  \n",
       "0  2108509  1334000  2374229  3891482  5080174  \n",
       "1  1063379   731000  1207466  1791228  1985065  \n",
       "2   951763   677000  1068835  1504110  1636492  \n",
       "3  1068186   738000  1210101  1779171  1970149  \n",
       "4  1195078   839000  1339257  1908119  2131007  \n",
       "\n",
       "[5 rows x 174 columns]"
      ]
     },
     "execution_count": 35,
     "metadata": {},
     "output_type": "execute_result"
    }
   ],
   "source": [
    "df_ml.head(5)"
   ]
  },
  {
   "cell_type": "code",
   "execution_count": 37,
   "metadata": {},
   "outputs": [],
   "source": [
    "# drop some of the unwanted values\n",
    "df_ml.drop(['site', 'uid', 'date'], axis=1, inplace=True) # 'date',\n",
    "#df_ml.drop(['fpca2_imdate'], axis=1, inplace=True)"
   ]
  },
  {
   "cell_type": "code",
   "execution_count": 38,
   "metadata": {},
   "outputs": [
    {
     "data": {
      "text/html": [
       "<div>\n",
       "<style scoped>\n",
       "    .dataframe tbody tr th:only-of-type {\n",
       "        vertical-align: middle;\n",
       "    }\n",
       "\n",
       "    .dataframe tbody tr th {\n",
       "        vertical-align: top;\n",
       "    }\n",
       "\n",
       "    .dataframe thead th {\n",
       "        text-align: right;\n",
       "    }\n",
       "</style>\n",
       "<table border=\"1\" class=\"dataframe\">\n",
       "  <thead>\n",
       "    <tr style=\"text-align: right;\">\n",
       "      <th></th>\n",
       "      <th>target</th>\n",
       "      <th>b1_fpca2_0509_min</th>\n",
       "      <th>b1_fpca2_0509_max</th>\n",
       "      <th>b1_fpca2_0509_mean</th>\n",
       "      <th>b1_fpca2_0509_med</th>\n",
       "      <th>b1_fpca2_0509_std</th>\n",
       "      <th>b1_h99a_01122_min</th>\n",
       "      <th>b1_h99a_01122_max</th>\n",
       "      <th>b1_h99a_01122_mean</th>\n",
       "      <th>b1_h99a_01122_med</th>\n",
       "      <th>...</th>\n",
       "      <th>NDGIm</th>\n",
       "      <th>RIm</th>\n",
       "      <th>NBRm</th>\n",
       "      <th>NDIIm</th>\n",
       "      <th>GDVIm</th>\n",
       "      <th>MSAVIm</th>\n",
       "      <th>DVIm</th>\n",
       "      <th>SAVIm</th>\n",
       "      <th>NDVIm</th>\n",
       "      <th>MSRm</th>\n",
       "    </tr>\n",
       "  </thead>\n",
       "  <tbody>\n",
       "    <tr>\n",
       "      <th>0</th>\n",
       "      <td>0</td>\n",
       "      <td>13.78</td>\n",
       "      <td>47.00</td>\n",
       "      <td>25.85</td>\n",
       "      <td>23.87</td>\n",
       "      <td>8.48</td>\n",
       "      <td>7.27</td>\n",
       "      <td>11.78</td>\n",
       "      <td>9.24</td>\n",
       "      <td>8.86</td>\n",
       "      <td>...</td>\n",
       "      <td>-1797183</td>\n",
       "      <td>1797183</td>\n",
       "      <td>803085</td>\n",
       "      <td>-1648544</td>\n",
       "      <td>1653000</td>\n",
       "      <td>2108509</td>\n",
       "      <td>1334000</td>\n",
       "      <td>2374229</td>\n",
       "      <td>3891482</td>\n",
       "      <td>5080174</td>\n",
       "    </tr>\n",
       "    <tr>\n",
       "      <th>1</th>\n",
       "      <td>0</td>\n",
       "      <td>0.75</td>\n",
       "      <td>2.87</td>\n",
       "      <td>1.69</td>\n",
       "      <td>1.49</td>\n",
       "      <td>0.70</td>\n",
       "      <td>4.38</td>\n",
       "      <td>8.97</td>\n",
       "      <td>6.83</td>\n",
       "      <td>7.18</td>\n",
       "      <td>...</td>\n",
       "      <td>-1237840</td>\n",
       "      <td>1237840</td>\n",
       "      <td>145478</td>\n",
       "      <td>-1258856</td>\n",
       "      <td>1100000</td>\n",
       "      <td>1063379</td>\n",
       "      <td>731000</td>\n",
       "      <td>1207466</td>\n",
       "      <td>1791228</td>\n",
       "      <td>1985065</td>\n",
       "    </tr>\n",
       "    <tr>\n",
       "      <th>2</th>\n",
       "      <td>0</td>\n",
       "      <td>2.12</td>\n",
       "      <td>6.42</td>\n",
       "      <td>4.37</td>\n",
       "      <td>4.47</td>\n",
       "      <td>1.22</td>\n",
       "      <td>5.93</td>\n",
       "      <td>8.85</td>\n",
       "      <td>7.68</td>\n",
       "      <td>7.68</td>\n",
       "      <td>...</td>\n",
       "      <td>-1493838</td>\n",
       "      <td>1493838</td>\n",
       "      <td>965693</td>\n",
       "      <td>-982236</td>\n",
       "      <td>1174000</td>\n",
       "      <td>951763</td>\n",
       "      <td>677000</td>\n",
       "      <td>1068835</td>\n",
       "      <td>1504110</td>\n",
       "      <td>1636492</td>\n",
       "    </tr>\n",
       "    <tr>\n",
       "      <th>3</th>\n",
       "      <td>0</td>\n",
       "      <td>0.75</td>\n",
       "      <td>3.29</td>\n",
       "      <td>1.82</td>\n",
       "      <td>1.64</td>\n",
       "      <td>0.70</td>\n",
       "      <td>3.66</td>\n",
       "      <td>7.09</td>\n",
       "      <td>4.98</td>\n",
       "      <td>4.85</td>\n",
       "      <td>...</td>\n",
       "      <td>-1481481</td>\n",
       "      <td>1481481</td>\n",
       "      <td>-2046</td>\n",
       "      <td>-1713026</td>\n",
       "      <td>1178000</td>\n",
       "      <td>1068186</td>\n",
       "      <td>738000</td>\n",
       "      <td>1210101</td>\n",
       "      <td>1779171</td>\n",
       "      <td>1970149</td>\n",
       "    </tr>\n",
       "    <tr>\n",
       "      <th>4</th>\n",
       "      <td>0</td>\n",
       "      <td>2.12</td>\n",
       "      <td>13.78</td>\n",
       "      <td>4.97</td>\n",
       "      <td>4.73</td>\n",
       "      <td>2.43</td>\n",
       "      <td>3.13</td>\n",
       "      <td>5.82</td>\n",
       "      <td>4.55</td>\n",
       "      <td>4.43</td>\n",
       "      <td>...</td>\n",
       "      <td>-1563211</td>\n",
       "      <td>1563211</td>\n",
       "      <td>758167</td>\n",
       "      <td>-969300</td>\n",
       "      <td>1320000</td>\n",
       "      <td>1195078</td>\n",
       "      <td>839000</td>\n",
       "      <td>1339257</td>\n",
       "      <td>1908119</td>\n",
       "      <td>2131007</td>\n",
       "    </tr>\n",
       "    <tr>\n",
       "      <th>...</th>\n",
       "      <td>...</td>\n",
       "      <td>...</td>\n",
       "      <td>...</td>\n",
       "      <td>...</td>\n",
       "      <td>...</td>\n",
       "      <td>...</td>\n",
       "      <td>...</td>\n",
       "      <td>...</td>\n",
       "      <td>...</td>\n",
       "      <td>...</td>\n",
       "      <td>...</td>\n",
       "      <td>...</td>\n",
       "      <td>...</td>\n",
       "      <td>...</td>\n",
       "      <td>...</td>\n",
       "      <td>...</td>\n",
       "      <td>...</td>\n",
       "      <td>...</td>\n",
       "      <td>...</td>\n",
       "      <td>...</td>\n",
       "      <td>...</td>\n",
       "    </tr>\n",
       "    <tr>\n",
       "      <th>162</th>\n",
       "      <td>8</td>\n",
       "      <td>15.54</td>\n",
       "      <td>42.39</td>\n",
       "      <td>29.12</td>\n",
       "      <td>29.27</td>\n",
       "      <td>6.84</td>\n",
       "      <td>16.05</td>\n",
       "      <td>20.42</td>\n",
       "      <td>18.75</td>\n",
       "      <td>18.77</td>\n",
       "      <td>...</td>\n",
       "      <td>-652174</td>\n",
       "      <td>652174</td>\n",
       "      <td>4386747</td>\n",
       "      <td>1261845</td>\n",
       "      <td>1828000</td>\n",
       "      <td>3096442</td>\n",
       "      <td>1768000</td>\n",
       "      <td>3422819</td>\n",
       "      <td>6433770</td>\n",
       "      <td>11466633</td>\n",
       "    </tr>\n",
       "    <tr>\n",
       "      <th>163</th>\n",
       "      <td>9</td>\n",
       "      <td>27.61</td>\n",
       "      <td>38.92</td>\n",
       "      <td>34.75</td>\n",
       "      <td>34.33</td>\n",
       "      <td>3.24</td>\n",
       "      <td>17.31</td>\n",
       "      <td>21.59</td>\n",
       "      <td>19.37</td>\n",
       "      <td>19.22</td>\n",
       "      <td>...</td>\n",
       "      <td>-1485714</td>\n",
       "      <td>1485714</td>\n",
       "      <td>4017258</td>\n",
       "      <td>1123510</td>\n",
       "      <td>1746000</td>\n",
       "      <td>2727661</td>\n",
       "      <td>1590000</td>\n",
       "      <td>3059261</td>\n",
       "      <td>5686695</td>\n",
       "      <td>9070438</td>\n",
       "    </tr>\n",
       "    <tr>\n",
       "      <th>164</th>\n",
       "      <td>8</td>\n",
       "      <td>9.06</td>\n",
       "      <td>22.31</td>\n",
       "      <td>14.40</td>\n",
       "      <td>14.21</td>\n",
       "      <td>3.60</td>\n",
       "      <td>9.74</td>\n",
       "      <td>16.81</td>\n",
       "      <td>13.63</td>\n",
       "      <td>13.79</td>\n",
       "      <td>...</td>\n",
       "      <td>-2065698</td>\n",
       "      <td>2065698</td>\n",
       "      <td>2615783</td>\n",
       "      <td>222222</td>\n",
       "      <td>1810000</td>\n",
       "      <td>2372051</td>\n",
       "      <td>1483000</td>\n",
       "      <td>2650423</td>\n",
       "      <td>4370763</td>\n",
       "      <td>5977733</td>\n",
       "    </tr>\n",
       "    <tr>\n",
       "      <th>165</th>\n",
       "      <td>7</td>\n",
       "      <td>5.26</td>\n",
       "      <td>25.45</td>\n",
       "      <td>13.08</td>\n",
       "      <td>12.11</td>\n",
       "      <td>5.79</td>\n",
       "      <td>9.61</td>\n",
       "      <td>20.05</td>\n",
       "      <td>13.89</td>\n",
       "      <td>13.26</td>\n",
       "      <td>...</td>\n",
       "      <td>-1885790</td>\n",
       "      <td>1885790</td>\n",
       "      <td>2958064</td>\n",
       "      <td>395123</td>\n",
       "      <td>1691000</td>\n",
       "      <td>2284112</td>\n",
       "      <td>1407000</td>\n",
       "      <td>2574722</td>\n",
       "      <td>4401001</td>\n",
       "      <td>6037665</td>\n",
       "    </tr>\n",
       "    <tr>\n",
       "      <th>166</th>\n",
       "      <td>6</td>\n",
       "      <td>19.30</td>\n",
       "      <td>40.08</td>\n",
       "      <td>30.47</td>\n",
       "      <td>32.06</td>\n",
       "      <td>6.23</td>\n",
       "      <td>12.00</td>\n",
       "      <td>18.40</td>\n",
       "      <td>16.60</td>\n",
       "      <td>17.50</td>\n",
       "      <td>...</td>\n",
       "      <td>770925</td>\n",
       "      <td>-770925</td>\n",
       "      <td>5614599</td>\n",
       "      <td>2339640</td>\n",
       "      <td>2185000</td>\n",
       "      <td>3960474</td>\n",
       "      <td>2255000</td>\n",
       "      <td>4179538</td>\n",
       "      <td>7290656</td>\n",
       "      <td>15262347</td>\n",
       "    </tr>\n",
       "  </tbody>\n",
       "</table>\n",
       "<p>167 rows × 171 columns</p>\n",
       "</div>"
      ],
      "text/plain": [
       "     target  b1_fpca2_0509_min  b1_fpca2_0509_max  b1_fpca2_0509_mean  \\\n",
       "0         0              13.78              47.00               25.85   \n",
       "1         0               0.75               2.87                1.69   \n",
       "2         0               2.12               6.42                4.37   \n",
       "3         0               0.75               3.29                1.82   \n",
       "4         0               2.12              13.78                4.97   \n",
       "..      ...                ...                ...                 ...   \n",
       "162       8              15.54              42.39               29.12   \n",
       "163       9              27.61              38.92               34.75   \n",
       "164       8               9.06              22.31               14.40   \n",
       "165       7               5.26              25.45               13.08   \n",
       "166       6              19.30              40.08               30.47   \n",
       "\n",
       "     b1_fpca2_0509_med  b1_fpca2_0509_std  b1_h99a_01122_min  \\\n",
       "0                23.87               8.48               7.27   \n",
       "1                 1.49               0.70               4.38   \n",
       "2                 4.47               1.22               5.93   \n",
       "3                 1.64               0.70               3.66   \n",
       "4                 4.73               2.43               3.13   \n",
       "..                 ...                ...                ...   \n",
       "162              29.27               6.84              16.05   \n",
       "163              34.33               3.24              17.31   \n",
       "164              14.21               3.60               9.74   \n",
       "165              12.11               5.79               9.61   \n",
       "166              32.06               6.23              12.00   \n",
       "\n",
       "     b1_h99a_01122_max  b1_h99a_01122_mean  b1_h99a_01122_med  ...    NDGIm  \\\n",
       "0                11.78                9.24               8.86  ... -1797183   \n",
       "1                 8.97                6.83               7.18  ... -1237840   \n",
       "2                 8.85                7.68               7.68  ... -1493838   \n",
       "3                 7.09                4.98               4.85  ... -1481481   \n",
       "4                 5.82                4.55               4.43  ... -1563211   \n",
       "..                 ...                 ...                ...  ...      ...   \n",
       "162              20.42               18.75              18.77  ...  -652174   \n",
       "163              21.59               19.37              19.22  ... -1485714   \n",
       "164              16.81               13.63              13.79  ... -2065698   \n",
       "165              20.05               13.89              13.26  ... -1885790   \n",
       "166              18.40               16.60              17.50  ...   770925   \n",
       "\n",
       "         RIm     NBRm    NDIIm    GDVIm   MSAVIm     DVIm    SAVIm    NDVIm  \\\n",
       "0    1797183   803085 -1648544  1653000  2108509  1334000  2374229  3891482   \n",
       "1    1237840   145478 -1258856  1100000  1063379   731000  1207466  1791228   \n",
       "2    1493838   965693  -982236  1174000   951763   677000  1068835  1504110   \n",
       "3    1481481    -2046 -1713026  1178000  1068186   738000  1210101  1779171   \n",
       "4    1563211   758167  -969300  1320000  1195078   839000  1339257  1908119   \n",
       "..       ...      ...      ...      ...      ...      ...      ...      ...   \n",
       "162   652174  4386747  1261845  1828000  3096442  1768000  3422819  6433770   \n",
       "163  1485714  4017258  1123510  1746000  2727661  1590000  3059261  5686695   \n",
       "164  2065698  2615783   222222  1810000  2372051  1483000  2650423  4370763   \n",
       "165  1885790  2958064   395123  1691000  2284112  1407000  2574722  4401001   \n",
       "166  -770925  5614599  2339640  2185000  3960474  2255000  4179538  7290656   \n",
       "\n",
       "         MSRm  \n",
       "0     5080174  \n",
       "1     1985065  \n",
       "2     1636492  \n",
       "3     1970149  \n",
       "4     2131007  \n",
       "..        ...  \n",
       "162  11466633  \n",
       "163   9070438  \n",
       "164   5977733  \n",
       "165   6037665  \n",
       "166  15262347  \n",
       "\n",
       "[167 rows x 171 columns]"
      ]
     },
     "execution_count": 38,
     "metadata": {},
     "output_type": "execute_result"
    }
   ],
   "source": [
    "df_ml"
   ]
  },
  {
   "cell_type": "markdown",
   "metadata": {},
   "source": [
    "## Qty of 0 values dataset "
   ]
  },
  {
   "cell_type": "code",
   "execution_count": 84,
   "metadata": {},
   "outputs": [
    {
     "name": "stdout",
     "output_type": "stream",
     "text": [
      "pathway  F:\\cdu\\data\\zonal_stats\\output\\20230205\\ml_knn_class_dir\\data_set\\20230205_172204\\no0or9_values\n",
      "F:\\cdu\\data\\zonal_stats\\output\\20230205\\ml_knn_class_dir\\data_set\\20230205_172204\\no0or9_values\n"
     ]
    }
   ],
   "source": [
    "model_data = df_ml\n",
    "model_data_name = \"all_values\"\n",
    "\n",
    "# ## Filter out all taregt == 0 values\n",
    "model_data = df_ml[df_ml['target']>0]\n",
    "model_data_name = \"no0_values\"\n",
    "\n",
    "# ## Filter out all taregt == 0 values\n",
    "model_data = df_ml[(df_ml['target']>0) & (df_ml['target']!=9)]\n",
    "model_data_name = \"no0or9_values\"\n",
    "\n",
    "\n",
    "# ## Select a randon number of 0 values\n",
    "# n = 3\n",
    "# agb_0 = df_ml[df_ml['target']==0.0].sample(n)\n",
    "# model_data = pd.concat([df_ml[df_ml['target']>0.0], agb_0])\n",
    "# model_data_name = f\"s{n}_0_values\"\n",
    "\n",
    "\n",
    "model_outputs = os.path.join(export_ml_rf_reg_dir, f\"{model_data_name}\")\n",
    "mk_dir_fn(model_outputs)\n",
    "\n",
    "print(model_outputs)"
   ]
  },
  {
   "cell_type": "code",
   "execution_count": 87,
   "metadata": {},
   "outputs": [
    {
     "data": {
      "text/plain": [
       "6    32\n",
       "8    13\n",
       "3    12\n",
       "7    12\n",
       "1    12\n",
       "4    10\n",
       "2     9\n",
       "5     8\n",
       "Name: target, dtype: int64"
      ]
     },
     "execution_count": 87,
     "metadata": {},
     "output_type": "execute_result"
    }
   ],
   "source": [
    "model_data.target.value_counts()"
   ]
  },
  {
   "cell_type": "code",
   "execution_count": 88,
   "metadata": {},
   "outputs": [
    {
     "name": "stderr",
     "output_type": "stream",
     "text": [
      "C:\\Users\\rmcgr\\AppData\\Local\\Temp\\ipykernel_21320\\3310783176.py:1: SettingWithCopyWarning: \n",
      "A value is trying to be set on a copy of a slice from a DataFrame\n",
      "\n",
      "See the caveats in the documentation: https://pandas.pydata.org/pandas-docs/stable/user_guide/indexing.html#returning-a-view-versus-a-copy\n",
      "  model_data.dropna(inplace=True)\n"
     ]
    }
   ],
   "source": [
    "model_data.dropna(inplace=True)"
   ]
  },
  {
   "cell_type": "code",
   "execution_count": 89,
   "metadata": {},
   "outputs": [
    {
     "data": {
      "text/html": [
       "<div>\n",
       "<style scoped>\n",
       "    .dataframe tbody tr th:only-of-type {\n",
       "        vertical-align: middle;\n",
       "    }\n",
       "\n",
       "    .dataframe tbody tr th {\n",
       "        vertical-align: top;\n",
       "    }\n",
       "\n",
       "    .dataframe thead th {\n",
       "        text-align: right;\n",
       "    }\n",
       "</style>\n",
       "<table border=\"1\" class=\"dataframe\">\n",
       "  <thead>\n",
       "    <tr style=\"text-align: right;\">\n",
       "      <th></th>\n",
       "      <th>target</th>\n",
       "      <th>b1_fpca2_0509_min</th>\n",
       "      <th>b1_fpca2_0509_max</th>\n",
       "      <th>b1_fpca2_0509_mean</th>\n",
       "      <th>b1_fpca2_0509_med</th>\n",
       "      <th>b1_fpca2_0509_std</th>\n",
       "      <th>b1_h99a_01122_min</th>\n",
       "      <th>b1_h99a_01122_max</th>\n",
       "      <th>b1_h99a_01122_mean</th>\n",
       "      <th>b1_h99a_01122_med</th>\n",
       "      <th>...</th>\n",
       "      <th>NDGIm</th>\n",
       "      <th>RIm</th>\n",
       "      <th>NBRm</th>\n",
       "      <th>NDIIm</th>\n",
       "      <th>GDVIm</th>\n",
       "      <th>MSAVIm</th>\n",
       "      <th>DVIm</th>\n",
       "      <th>SAVIm</th>\n",
       "      <th>NDVIm</th>\n",
       "      <th>MSRm</th>\n",
       "    </tr>\n",
       "  </thead>\n",
       "  <tbody>\n",
       "    <tr>\n",
       "      <th>5</th>\n",
       "      <td>2</td>\n",
       "      <td>1.79</td>\n",
       "      <td>5.83</td>\n",
       "      <td>2.86</td>\n",
       "      <td>2.48</td>\n",
       "      <td>1.22</td>\n",
       "      <td>3.80</td>\n",
       "      <td>5.20</td>\n",
       "      <td>4.29</td>\n",
       "      <td>4.27</td>\n",
       "      <td>...</td>\n",
       "      <td>-1452928</td>\n",
       "      <td>1452928</td>\n",
       "      <td>400174</td>\n",
       "      <td>-1264158</td>\n",
       "      <td>1238000</td>\n",
       "      <td>1250407</td>\n",
       "      <td>846000</td>\n",
       "      <td>1420098</td>\n",
       "      <td>2149390</td>\n",
       "      <td>2440148</td>\n",
       "    </tr>\n",
       "    <tr>\n",
       "      <th>8</th>\n",
       "      <td>2</td>\n",
       "      <td>6.80</td>\n",
       "      <td>17.20</td>\n",
       "      <td>11.25</td>\n",
       "      <td>11.00</td>\n",
       "      <td>2.80</td>\n",
       "      <td>7.44</td>\n",
       "      <td>12.23</td>\n",
       "      <td>9.75</td>\n",
       "      <td>9.73</td>\n",
       "      <td>...</td>\n",
       "      <td>-2148760</td>\n",
       "      <td>2148760</td>\n",
       "      <td>-267789</td>\n",
       "      <td>-1724138</td>\n",
       "      <td>1148000</td>\n",
       "      <td>1156438</td>\n",
       "      <td>732000</td>\n",
       "      <td>1358238</td>\n",
       "      <td>2373541</td>\n",
       "      <td>2737539</td>\n",
       "    </tr>\n",
       "    <tr>\n",
       "      <th>9</th>\n",
       "      <td>2</td>\n",
       "      <td>6.80</td>\n",
       "      <td>17.20</td>\n",
       "      <td>11.25</td>\n",
       "      <td>11.00</td>\n",
       "      <td>2.80</td>\n",
       "      <td>7.44</td>\n",
       "      <td>12.23</td>\n",
       "      <td>9.75</td>\n",
       "      <td>9.73</td>\n",
       "      <td>...</td>\n",
       "      <td>-2327297</td>\n",
       "      <td>2327297</td>\n",
       "      <td>176162</td>\n",
       "      <td>-1318945</td>\n",
       "      <td>1571000</td>\n",
       "      <td>1235708</td>\n",
       "      <td>877000</td>\n",
       "      <td>1377054</td>\n",
       "      <td>1926203</td>\n",
       "      <td>2153802</td>\n",
       "    </tr>\n",
       "    <tr>\n",
       "      <th>10</th>\n",
       "      <td>5</td>\n",
       "      <td>6.80</td>\n",
       "      <td>17.20</td>\n",
       "      <td>11.25</td>\n",
       "      <td>11.00</td>\n",
       "      <td>2.80</td>\n",
       "      <td>7.44</td>\n",
       "      <td>12.23</td>\n",
       "      <td>9.75</td>\n",
       "      <td>9.73</td>\n",
       "      <td>...</td>\n",
       "      <td>-2063673</td>\n",
       "      <td>2063673</td>\n",
       "      <td>799162</td>\n",
       "      <td>-701031</td>\n",
       "      <td>1106000</td>\n",
       "      <td>1197360</td>\n",
       "      <td>743000</td>\n",
       "      <td>1417038</td>\n",
       "      <td>2593368</td>\n",
       "      <td>3039489</td>\n",
       "    </tr>\n",
       "    <tr>\n",
       "      <th>12</th>\n",
       "      <td>2</td>\n",
       "      <td>6.80</td>\n",
       "      <td>17.20</td>\n",
       "      <td>11.25</td>\n",
       "      <td>11.00</td>\n",
       "      <td>2.80</td>\n",
       "      <td>7.44</td>\n",
       "      <td>12.23</td>\n",
       "      <td>9.75</td>\n",
       "      <td>9.73</td>\n",
       "      <td>...</td>\n",
       "      <td>-1639267</td>\n",
       "      <td>1639267</td>\n",
       "      <td>1618314</td>\n",
       "      <td>-88940</td>\n",
       "      <td>1673000</td>\n",
       "      <td>2020530</td>\n",
       "      <td>1324000</td>\n",
       "      <td>2256305</td>\n",
       "      <td>3482378</td>\n",
       "      <td>4382641</td>\n",
       "    </tr>\n",
       "    <tr>\n",
       "      <th>...</th>\n",
       "      <td>...</td>\n",
       "      <td>...</td>\n",
       "      <td>...</td>\n",
       "      <td>...</td>\n",
       "      <td>...</td>\n",
       "      <td>...</td>\n",
       "      <td>...</td>\n",
       "      <td>...</td>\n",
       "      <td>...</td>\n",
       "      <td>...</td>\n",
       "      <td>...</td>\n",
       "      <td>...</td>\n",
       "      <td>...</td>\n",
       "      <td>...</td>\n",
       "      <td>...</td>\n",
       "      <td>...</td>\n",
       "      <td>...</td>\n",
       "      <td>...</td>\n",
       "      <td>...</td>\n",
       "      <td>...</td>\n",
       "      <td>...</td>\n",
       "    </tr>\n",
       "    <tr>\n",
       "      <th>161</th>\n",
       "      <td>7</td>\n",
       "      <td>19.30</td>\n",
       "      <td>27.61</td>\n",
       "      <td>23.58</td>\n",
       "      <td>23.34</td>\n",
       "      <td>2.53</td>\n",
       "      <td>15.64</td>\n",
       "      <td>19.64</td>\n",
       "      <td>18.24</td>\n",
       "      <td>18.35</td>\n",
       "      <td>...</td>\n",
       "      <td>-1222031</td>\n",
       "      <td>1222031</td>\n",
       "      <td>3647779</td>\n",
       "      <td>881563</td>\n",
       "      <td>1718000</td>\n",
       "      <td>2675640</td>\n",
       "      <td>1576000</td>\n",
       "      <td>3000000</td>\n",
       "      <td>5472222</td>\n",
       "      <td>8485610</td>\n",
       "    </tr>\n",
       "    <tr>\n",
       "      <th>162</th>\n",
       "      <td>8</td>\n",
       "      <td>15.54</td>\n",
       "      <td>42.39</td>\n",
       "      <td>29.12</td>\n",
       "      <td>29.27</td>\n",
       "      <td>6.84</td>\n",
       "      <td>16.05</td>\n",
       "      <td>20.42</td>\n",
       "      <td>18.75</td>\n",
       "      <td>18.77</td>\n",
       "      <td>...</td>\n",
       "      <td>-652174</td>\n",
       "      <td>652174</td>\n",
       "      <td>4386747</td>\n",
       "      <td>1261845</td>\n",
       "      <td>1828000</td>\n",
       "      <td>3096442</td>\n",
       "      <td>1768000</td>\n",
       "      <td>3422819</td>\n",
       "      <td>6433770</td>\n",
       "      <td>11466633</td>\n",
       "    </tr>\n",
       "    <tr>\n",
       "      <th>164</th>\n",
       "      <td>8</td>\n",
       "      <td>9.06</td>\n",
       "      <td>22.31</td>\n",
       "      <td>14.40</td>\n",
       "      <td>14.21</td>\n",
       "      <td>3.60</td>\n",
       "      <td>9.74</td>\n",
       "      <td>16.81</td>\n",
       "      <td>13.63</td>\n",
       "      <td>13.79</td>\n",
       "      <td>...</td>\n",
       "      <td>-2065698</td>\n",
       "      <td>2065698</td>\n",
       "      <td>2615783</td>\n",
       "      <td>222222</td>\n",
       "      <td>1810000</td>\n",
       "      <td>2372051</td>\n",
       "      <td>1483000</td>\n",
       "      <td>2650423</td>\n",
       "      <td>4370763</td>\n",
       "      <td>5977733</td>\n",
       "    </tr>\n",
       "    <tr>\n",
       "      <th>165</th>\n",
       "      <td>7</td>\n",
       "      <td>5.26</td>\n",
       "      <td>25.45</td>\n",
       "      <td>13.08</td>\n",
       "      <td>12.11</td>\n",
       "      <td>5.79</td>\n",
       "      <td>9.61</td>\n",
       "      <td>20.05</td>\n",
       "      <td>13.89</td>\n",
       "      <td>13.26</td>\n",
       "      <td>...</td>\n",
       "      <td>-1885790</td>\n",
       "      <td>1885790</td>\n",
       "      <td>2958064</td>\n",
       "      <td>395123</td>\n",
       "      <td>1691000</td>\n",
       "      <td>2284112</td>\n",
       "      <td>1407000</td>\n",
       "      <td>2574722</td>\n",
       "      <td>4401001</td>\n",
       "      <td>6037665</td>\n",
       "    </tr>\n",
       "    <tr>\n",
       "      <th>166</th>\n",
       "      <td>6</td>\n",
       "      <td>19.30</td>\n",
       "      <td>40.08</td>\n",
       "      <td>30.47</td>\n",
       "      <td>32.06</td>\n",
       "      <td>6.23</td>\n",
       "      <td>12.00</td>\n",
       "      <td>18.40</td>\n",
       "      <td>16.60</td>\n",
       "      <td>17.50</td>\n",
       "      <td>...</td>\n",
       "      <td>770925</td>\n",
       "      <td>-770925</td>\n",
       "      <td>5614599</td>\n",
       "      <td>2339640</td>\n",
       "      <td>2185000</td>\n",
       "      <td>3960474</td>\n",
       "      <td>2255000</td>\n",
       "      <td>4179538</td>\n",
       "      <td>7290656</td>\n",
       "      <td>15262347</td>\n",
       "    </tr>\n",
       "  </tbody>\n",
       "</table>\n",
       "<p>108 rows × 171 columns</p>\n",
       "</div>"
      ],
      "text/plain": [
       "     target  b1_fpca2_0509_min  b1_fpca2_0509_max  b1_fpca2_0509_mean  \\\n",
       "5         2               1.79               5.83                2.86   \n",
       "8         2               6.80              17.20               11.25   \n",
       "9         2               6.80              17.20               11.25   \n",
       "10        5               6.80              17.20               11.25   \n",
       "12        2               6.80              17.20               11.25   \n",
       "..      ...                ...                ...                 ...   \n",
       "161       7              19.30              27.61               23.58   \n",
       "162       8              15.54              42.39               29.12   \n",
       "164       8               9.06              22.31               14.40   \n",
       "165       7               5.26              25.45               13.08   \n",
       "166       6              19.30              40.08               30.47   \n",
       "\n",
       "     b1_fpca2_0509_med  b1_fpca2_0509_std  b1_h99a_01122_min  \\\n",
       "5                 2.48               1.22               3.80   \n",
       "8                11.00               2.80               7.44   \n",
       "9                11.00               2.80               7.44   \n",
       "10               11.00               2.80               7.44   \n",
       "12               11.00               2.80               7.44   \n",
       "..                 ...                ...                ...   \n",
       "161              23.34               2.53              15.64   \n",
       "162              29.27               6.84              16.05   \n",
       "164              14.21               3.60               9.74   \n",
       "165              12.11               5.79               9.61   \n",
       "166              32.06               6.23              12.00   \n",
       "\n",
       "     b1_h99a_01122_max  b1_h99a_01122_mean  b1_h99a_01122_med  ...    NDGIm  \\\n",
       "5                 5.20                4.29               4.27  ... -1452928   \n",
       "8                12.23                9.75               9.73  ... -2148760   \n",
       "9                12.23                9.75               9.73  ... -2327297   \n",
       "10               12.23                9.75               9.73  ... -2063673   \n",
       "12               12.23                9.75               9.73  ... -1639267   \n",
       "..                 ...                 ...                ...  ...      ...   \n",
       "161              19.64               18.24              18.35  ... -1222031   \n",
       "162              20.42               18.75              18.77  ...  -652174   \n",
       "164              16.81               13.63              13.79  ... -2065698   \n",
       "165              20.05               13.89              13.26  ... -1885790   \n",
       "166              18.40               16.60              17.50  ...   770925   \n",
       "\n",
       "         RIm     NBRm    NDIIm    GDVIm   MSAVIm     DVIm    SAVIm    NDVIm  \\\n",
       "5    1452928   400174 -1264158  1238000  1250407   846000  1420098  2149390   \n",
       "8    2148760  -267789 -1724138  1148000  1156438   732000  1358238  2373541   \n",
       "9    2327297   176162 -1318945  1571000  1235708   877000  1377054  1926203   \n",
       "10   2063673   799162  -701031  1106000  1197360   743000  1417038  2593368   \n",
       "12   1639267  1618314   -88940  1673000  2020530  1324000  2256305  3482378   \n",
       "..       ...      ...      ...      ...      ...      ...      ...      ...   \n",
       "161  1222031  3647779   881563  1718000  2675640  1576000  3000000  5472222   \n",
       "162   652174  4386747  1261845  1828000  3096442  1768000  3422819  6433770   \n",
       "164  2065698  2615783   222222  1810000  2372051  1483000  2650423  4370763   \n",
       "165  1885790  2958064   395123  1691000  2284112  1407000  2574722  4401001   \n",
       "166  -770925  5614599  2339640  2185000  3960474  2255000  4179538  7290656   \n",
       "\n",
       "         MSRm  \n",
       "5     2440148  \n",
       "8     2737539  \n",
       "9     2153802  \n",
       "10    3039489  \n",
       "12    4382641  \n",
       "..        ...  \n",
       "161   8485610  \n",
       "162  11466633  \n",
       "164   5977733  \n",
       "165   6037665  \n",
       "166  15262347  \n",
       "\n",
       "[108 rows x 171 columns]"
      ]
     },
     "execution_count": 89,
     "metadata": {},
     "output_type": "execute_result"
    }
   ],
   "source": [
    "model_data"
   ]
  },
  {
   "cell_type": "markdown",
   "metadata": {},
   "source": [
    " Define if you are using all variabes or selected variables"
   ]
  },
  {
   "cell_type": "code",
   "execution_count": 90,
   "metadata": {},
   "outputs": [],
   "source": [
    "# from sklean.model\n",
    "# randomly split data into train and test datasets, the user needs to define the variables \n",
    "xdata1 = model_data.iloc[:, 1:].astype('float32')\n",
    "ydata1 = model_data[[\"target\"]].astype('int')\n",
    "ydata2 = ydata1.values\n",
    "ydata = ydata2.ravel()\n",
    "\n",
    "# Split the data into a training set and a test set\n",
    "X_train, X_test, y_train, y_test = train_test_split(xdata1, ydata, train_size=0.70, stratify=ydata)  \n",
    "         \n",
    "#y_test.value_counts()\n",
    "# print(X_test.shape, y_test.shape)"
   ]
  },
  {
   "cell_type": "code",
   "execution_count": 149,
   "metadata": {},
   "outputs": [],
   "source": [
    "# Stratify the data split into train and test datasets.\n",
    "# The stratify parameter will ensure that the train and test split has the same class \n",
    "# distribution ratio as the original dataset.\n",
    "\n",
    "xdata = model_data.iloc[:, 1:].astype('float32')\n",
    "ydata = model_data[[\"target\"]].astype('int')\n",
    "\n",
    "# Split the data into a training set and a test set\n",
    "X_train, X_test, y_train, y_test = train_test_split(xdata, ydata, train_size=0.70, stratify=ydata)  "
   ]
  },
  {
   "cell_type": "markdown",
   "metadata": {},
   "source": [
    "The stratify parameter will ensure that the train and test split has the same class distribution ratio as the original dataset. It is crucial in the case of imbalanced datasets. Otherwise, it might happen that the training data only consists of the majority class"
   ]
  },
  {
   "cell_type": "code",
   "execution_count": 92,
   "metadata": {},
   "outputs": [],
   "source": [
    "scaler = StandardScaler()\n",
    "X_train = pd.DataFrame(scaler.fit_transform(X_train))\n",
    "X_text = pd.DataFrame(scaler.transform(X_test))"
   ]
  },
  {
   "cell_type": "code",
   "execution_count": 93,
   "metadata": {},
   "outputs": [
    {
     "data": {
      "text/plain": [
       "target\n",
       "6         22\n",
       "7          9\n",
       "8          9\n",
       "1          8\n",
       "3          8\n",
       "4          7\n",
       "2          6\n",
       "5          6\n",
       "dtype: int64"
      ]
     },
     "execution_count": 93,
     "metadata": {},
     "output_type": "execute_result"
    }
   ],
   "source": [
    "y_train.value_counts()"
   ]
  },
  {
   "cell_type": "markdown",
   "metadata": {},
   "source": [
    "Now comes the turn to handle the class imbalance. Oversampling is one of the most widely used techniques to deal with imbalance classes. To briefly explain the concept, we generate synthetic samples for minority classes to make sure we have enough data to train the model. I will be using SMOTE for oversampling. You can install imblearn module for using SMOTE"
   ]
  },
  {
   "cell_type": "code",
   "execution_count": 150,
   "metadata": {},
   "outputs": [],
   "source": [
    "from imblearn.over_sampling import SMOTE\n",
    "sm = SMOTE(random_state = 2)\n",
    "X_train_res, y_train_res = sm.fit_resample(X_train, y_train)\n",
    "# x_TRAIN_RES, Y_TRAIN_RES = SM.FIT_RESAMPLE(x_TRAIN, Y_TRAIN)"
   ]
  },
  {
   "cell_type": "code",
   "execution_count": 151,
   "metadata": {},
   "outputs": [
    {
     "data": {
      "text/plain": [
       "array([6, 6, 8, 4, 6, 6, 4, 1, 1, 1, 5, 3, 1, 2, 1, 3, 6, 5, 6, 6, 3, 6,\n",
       "       4, 8, 7, 6, 1, 7, 6, 8, 6, 8, 6, 1, 3, 4, 6, 6, 6, 8, 8, 8, 6, 4,\n",
       "       3, 2, 5, 7, 6, 4, 7, 8, 6, 7, 5, 6, 6, 2, 6, 7, 5, 3, 3, 3, 2, 7,\n",
       "       7, 5, 2, 2, 4, 8, 1, 6, 3, 1, 1, 1, 1, 1, 1, 1, 1, 1, 1, 1, 1, 1,\n",
       "       1, 2, 2, 2, 2, 2, 2, 2, 2, 2, 2, 2, 2, 2, 2, 2, 2, 3, 3, 3, 3, 3,\n",
       "       3, 3, 3, 3, 3, 3, 3, 3, 4, 4, 4, 4, 4, 4, 4, 4, 4, 4, 4, 4, 4, 4,\n",
       "       4, 5, 5, 5, 5, 5, 5, 5, 5, 5, 5, 5, 5, 5, 5, 5, 5, 7, 7, 7, 7, 7,\n",
       "       7, 7, 7, 7, 7, 7, 7, 7, 7, 8, 8, 8, 8, 8, 8, 8, 8, 8, 8, 8, 8, 8])"
      ]
     },
     "execution_count": 151,
     "metadata": {},
     "output_type": "execute_result"
    }
   ],
   "source": [
    "y_train_res.target.ravel()"
   ]
  },
  {
   "cell_type": "markdown",
   "metadata": {},
   "source": [
    "### SVC"
   ]
  },
  {
   "cell_type": "code",
   "execution_count": 152,
   "metadata": {},
   "outputs": [],
   "source": [
    "model_svc = svm.SVC()"
   ]
  },
  {
   "cell_type": "code",
   "execution_count": 153,
   "metadata": {},
   "outputs": [
    {
     "name": "stdout",
     "output_type": "stream",
     "text": [
      "              precision    recall  f1-score   support\n",
      "\n",
      "           1       1.00      0.50      0.67         4\n",
      "           2       0.38      1.00      0.55         3\n",
      "           3       0.00      0.00      0.00         3\n",
      "           4       0.00      0.00      0.00         3\n",
      "           5       0.00      0.00      0.00         2\n",
      "           6       0.00      0.00      0.00        10\n",
      "           7       0.33      0.25      0.29         4\n",
      "           8       0.50      0.75      0.60         4\n",
      "\n",
      "    accuracy                           0.27        33\n",
      "   macro avg       0.28      0.31      0.26        33\n",
      "weighted avg       0.26      0.27      0.24        33\n",
      "\n",
      "Confusion matrix, without normalization\n",
      "[[2 0 2 0 0 0 0 0]\n",
      " [0 3 0 0 0 0 0 0]\n",
      " [0 3 0 0 0 0 0 0]\n",
      " [0 0 3 0 0 0 0 0]\n",
      " [0 0 1 1 0 0 0 0]\n",
      " [0 2 2 1 2 0 1 2]\n",
      " [0 0 1 0 1 0 1 1]\n",
      " [0 0 0 0 0 0 1 3]]\n",
      "Normalized confusion matrix\n",
      "[[0.5  0.   0.5  0.   0.   0.   0.   0.  ]\n",
      " [0.   1.   0.   0.   0.   0.   0.   0.  ]\n",
      " [0.   1.   0.   0.   0.   0.   0.   0.  ]\n",
      " [0.   0.   1.   0.   0.   0.   0.   0.  ]\n",
      " [0.   0.   0.5  0.5  0.   0.   0.   0.  ]\n",
      " [0.   0.2  0.2  0.1  0.2  0.   0.1  0.2 ]\n",
      " [0.   0.   0.25 0.   0.25 0.   0.25 0.25]\n",
      " [0.   0.   0.   0.   0.   0.   0.25 0.75]]\n"
     ]
    },
    {
     "name": "stderr",
     "output_type": "stream",
     "text": [
      "C:\\Users\\rmcgr\\AppData\\Roaming\\Python\\Python38\\site-packages\\sklearn\\metrics\\_classification.py:1344: UndefinedMetricWarning: Precision and F-score are ill-defined and being set to 0.0 in labels with no predicted samples. Use `zero_division` parameter to control this behavior.\n",
      "  _warn_prf(average, modifier, msg_start, len(result))\n",
      "C:\\Users\\rmcgr\\AppData\\Roaming\\Python\\Python38\\site-packages\\sklearn\\metrics\\_classification.py:1344: UndefinedMetricWarning: Precision and F-score are ill-defined and being set to 0.0 in labels with no predicted samples. Use `zero_division` parameter to control this behavior.\n",
      "  _warn_prf(average, modifier, msg_start, len(result))\n",
      "C:\\Users\\rmcgr\\AppData\\Roaming\\Python\\Python38\\site-packages\\sklearn\\metrics\\_classification.py:1344: UndefinedMetricWarning: Precision and F-score are ill-defined and being set to 0.0 in labels with no predicted samples. Use `zero_division` parameter to control this behavior.\n",
      "  _warn_prf(average, modifier, msg_start, len(result))\n"
     ]
    },
    {
     "data": {
      "image/png": "[encoded data removed]",
      "text/plain": [
       "<Figure size 432x288 with 2 Axes>"
      ]
     },
     "metadata": {
      "needs_background": "light"
     },
     "output_type": "display_data"
    },
    {
     "data": {
      "image/png": "[encoded data removed]",
      "text/plain": [
       "<Figure size 432x288 with 2 Axes>"
      ]
     },
     "metadata": {
      "needs_background": "light"
     },
     "output_type": "display_data"
    }
   ],
   "source": [
    "model_svc = svm.SVC()\n",
    "model_svc .fit(X_train_res, y_train_res.target.ravel())\n",
    "y_pred = model_svc.predict(X_test)\n",
    "print(classification_report(y_test, y_pred))\n",
    "\n",
    "np.set_printoptions(precision=4)\n",
    "\n",
    "# Plot non-normalized confusion matrix\n",
    "titles_options = [\n",
    "    (\"Confusion matrix, without normalization\", None),\n",
    "    (\"Normalized confusion matrix\", \"true\"),\n",
    "]\n",
    "for title, normalize in titles_options:\n",
    "    disp = ConfusionMatrixDisplay.from_estimator(\n",
    "        model_svc,\n",
    "        X_test,\n",
    "        y_test,\n",
    "#         display_labels=class_names,\n",
    "        cmap=plt.cm.Blues,\n",
    "        normalize=normalize,\n",
    "    )\n",
    "    disp.ax_.set_title(title)\n",
    "\n",
    "    print(title)\n",
    "    print(disp.confusion_matrix)\n",
    "\n",
    "plt.show()\n"
   ]
  },
  {
   "cell_type": "code",
   "execution_count": 173,
   "metadata": {},
   "outputs": [],
   "source": [
    "from sklearn.tree import DecisionTreeClassifier\n",
    "from sklearn.ensemble import RandomForestClassifier, AdaBoostClassifier"
   ]
  },
  {
   "cell_type": "markdown",
   "metadata": {},
   "source": [
    "### Decision Tree Classifier"
   ]
  },
  {
   "cell_type": "code",
   "execution_count": 174,
   "metadata": {},
   "outputs": [
    {
     "name": "stdout",
     "output_type": "stream",
     "text": [
      "              precision    recall  f1-score   support\n",
      "\n",
      "           1       0.67      0.50      0.57         4\n",
      "           2       0.00      0.00      0.00         3\n",
      "           3       0.12      0.33      0.18         3\n",
      "           4       0.00      0.00      0.00         3\n",
      "           5       0.00      0.00      0.00         2\n",
      "           6       0.50      0.30      0.37        10\n",
      "           7       0.33      0.25      0.29         4\n",
      "           8       0.40      0.50      0.44         4\n",
      "\n",
      "    accuracy                           0.27        33\n",
      "   macro avg       0.25      0.24      0.23        33\n",
      "weighted avg       0.33      0.27      0.29        33\n",
      "\n",
      "Confusion matrix, without normalization\n",
      "[[2 1 1 0 0 0 0 0]\n",
      " [0 0 1 0 0 1 0 1]\n",
      " [0 0 1 0 1 1 0 0]\n",
      " [1 0 2 0 0 0 0 0]\n",
      " [0 0 1 0 0 0 1 0]\n",
      " [0 1 1 3 1 3 1 0]\n",
      " [0 0 1 0 0 0 1 2]\n",
      " [0 0 0 0 1 1 0 2]]\n",
      "Normalized confusion matrix\n",
      "[[0.5    0.25   0.25   0.     0.     0.     0.     0.    ]\n",
      " [0.     0.     0.3333 0.     0.     0.3333 0.     0.3333]\n",
      " [0.     0.     0.3333 0.     0.3333 0.3333 0.     0.    ]\n",
      " [0.3333 0.     0.6667 0.     0.     0.     0.     0.    ]\n",
      " [0.     0.     0.5    0.     0.     0.     0.5    0.    ]\n",
      " [0.     0.1    0.1    0.3    0.1    0.3    0.1    0.    ]\n",
      " [0.     0.     0.25   0.     0.     0.     0.25   0.5   ]\n",
      " [0.     0.     0.     0.     0.25   0.25   0.     0.5   ]]\n"
     ]
    },
    {
     "data": {
      "image/png": "[encoded data removed]",
      "text/plain": [
       "<Figure size 432x288 with 2 Axes>"
      ]
     },
     "metadata": {
      "needs_background": "light"
     },
     "output_type": "display_data"
    },
    {
     "data": {
      "image/png": "[encoded data removed]",
      "text/plain": [
       "<Figure size 432x288 with 2 Axes>"
      ]
     },
     "metadata": {
      "needs_background": "light"
     },
     "output_type": "display_data"
    }
   ],
   "source": [
    "model = DecisionTreeClassifier(class_weight='balanced', max_depth=10)\n",
    "model .fit(X_train_res, y_train_res.target.ravel())\n",
    "y_pred = model.predict(X_test)\n",
    "print(classification_report(y_test, y_pred))\n",
    "\n",
    "np.set_printoptions(precision=4)\n",
    "\n",
    "# Plot non-normalized confusion matrix\n",
    "titles_options = [\n",
    "    (\"Confusion matrix, without normalization\", None),\n",
    "    (\"Normalized confusion matrix\", \"true\"),\n",
    "]\n",
    "for title, normalize in titles_options:\n",
    "    disp = ConfusionMatrixDisplay.from_estimator(\n",
    "        model,\n",
    "        X_test,\n",
    "        y_test,\n",
    "#         display_labels=class_names,\n",
    "        cmap=plt.cm.Blues,\n",
    "        normalize=normalize,\n",
    "    )\n",
    "    disp.ax_.set_title(title)\n",
    "\n",
    "    print(title)\n",
    "    print(disp.confusion_matrix)\n",
    "\n",
    "plt.show()"
   ]
  },
  {
   "cell_type": "markdown",
   "metadata": {},
   "source": [
    "## Random Forest Classifier"
   ]
  },
  {
   "cell_type": "code",
   "execution_count": 175,
   "metadata": {},
   "outputs": [
    {
     "name": "stdout",
     "output_type": "stream",
     "text": [
      "              precision    recall  f1-score   support\n",
      "\n",
      "           1       0.75      0.75      0.75         4\n",
      "           2       0.50      0.33      0.40         3\n",
      "           3       0.29      0.67      0.40         3\n",
      "           4       0.50      0.67      0.57         3\n",
      "           5       0.00      0.00      0.00         2\n",
      "           6       0.67      0.20      0.31        10\n",
      "           7       0.50      0.25      0.33         4\n",
      "           8       0.44      1.00      0.62         4\n",
      "\n",
      "    accuracy                           0.45        33\n",
      "   macro avg       0.46      0.48      0.42        33\n",
      "weighted avg       0.52      0.45      0.42        33\n",
      "\n",
      "Confusion matrix, without normalization\n",
      "[[3 1 0 0 0 0 0 0]\n",
      " [0 1 1 0 0 1 0 0]\n",
      " [0 0 2 1 0 0 0 0]\n",
      " [1 0 0 2 0 0 0 0]\n",
      " [0 0 1 1 0 0 0 0]\n",
      " [0 0 3 0 1 2 1 3]\n",
      " [0 0 0 0 1 0 1 2]\n",
      " [0 0 0 0 0 0 0 4]]\n",
      "Normalized confusion matrix\n",
      "[[0.75   0.25   0.     0.     0.     0.     0.     0.    ]\n",
      " [0.     0.3333 0.3333 0.     0.     0.3333 0.     0.    ]\n",
      " [0.     0.     0.6667 0.3333 0.     0.     0.     0.    ]\n",
      " [0.3333 0.     0.     0.6667 0.     0.     0.     0.    ]\n",
      " [0.     0.     0.5    0.5    0.     0.     0.     0.    ]\n",
      " [0.     0.     0.3    0.     0.1    0.2    0.1    0.3   ]\n",
      " [0.     0.     0.     0.     0.25   0.     0.25   0.5   ]\n",
      " [0.     0.     0.     0.     0.     0.     0.     1.    ]]\n"
     ]
    },
    {
     "data": {
      "image/png": "[encoded data removed]",
      "text/plain": [
       "<Figure size 432x288 with 2 Axes>"
      ]
     },
     "metadata": {
      "needs_background": "light"
     },
     "output_type": "display_data"
    },
    {
     "data": {
      "image/png": "[encoded data removed]",
      "text/plain": [
       "<Figure size 432x288 with 2 Axes>"
      ]
     },
     "metadata": {
      "needs_background": "light"
     },
     "output_type": "display_data"
    }
   ],
   "source": [
    "model = RandomForestClassifier(class_weight='balanced', random_state=1,max_depth=5, \\\n",
    "                              n_estimators =10, max_features=1)\n",
    "model .fit(X_train_res, y_train_res.target.ravel())\n",
    "y_pred = model.predict(X_test)\n",
    "print(classification_report(y_test, y_pred))\n",
    "\n",
    "np.set_printoptions(precision=4)\n",
    "\n",
    "# Plot non-normalized confusion matrix\n",
    "titles_options = [\n",
    "    (\"Confusion matrix, without normalization\", None),\n",
    "    (\"Normalized confusion matrix\", \"true\"),\n",
    "]\n",
    "for title, normalize in titles_options:\n",
    "    disp = ConfusionMatrixDisplay.from_estimator(\n",
    "        model,\n",
    "        X_test,\n",
    "        y_test,\n",
    "#         display_labels=class_names,\n",
    "        cmap=plt.cm.Blues,\n",
    "        normalize=normalize,\n",
    "    )\n",
    "    disp.ax_.set_title(title)\n",
    "\n",
    "    print(title)\n",
    "    print(disp.confusion_matrix)\n",
    "\n",
    "plt.show()"
   ]
  },
  {
   "cell_type": "markdown",
   "metadata": {},
   "source": [
    "## KNN"
   ]
  },
  {
   "cell_type": "code",
   "execution_count": 176,
   "metadata": {},
   "outputs": [
    {
     "name": "stdout",
     "output_type": "stream",
     "text": [
      "              precision    recall  f1-score   support\n",
      "\n",
      "           1       0.67      0.50      0.57         4\n",
      "           2       0.50      0.33      0.40         3\n",
      "           3       0.25      0.67      0.36         3\n",
      "           4       0.25      0.33      0.29         3\n",
      "           5       0.00      0.00      0.00         2\n",
      "           6       1.00      0.20      0.33        10\n",
      "           7       0.00      0.00      0.00         4\n",
      "           8       0.40      1.00      0.57         4\n",
      "\n",
      "    accuracy                           0.36        33\n",
      "   macro avg       0.38      0.38      0.32        33\n",
      "weighted avg       0.52      0.36      0.33        33\n",
      "\n",
      "Confusion matrix, without normalization\n",
      "[[2 0 2 0 0 0 0 0]\n",
      " [0 1 1 0 0 0 0 1]\n",
      " [0 0 2 0 0 0 0 1]\n",
      " [0 0 2 1 0 0 0 0]\n",
      " [0 0 0 1 0 0 1 0]\n",
      " [1 1 1 1 1 2 2 1]\n",
      " [0 0 0 1 0 0 0 3]\n",
      " [0 0 0 0 0 0 0 4]]\n",
      "Normalized confusion matrix\n",
      "[[0.5    0.     0.5    0.     0.     0.     0.     0.    ]\n",
      " [0.     0.3333 0.3333 0.     0.     0.     0.     0.3333]\n",
      " [0.     0.     0.6667 0.     0.     0.     0.     0.3333]\n",
      " [0.     0.     0.6667 0.3333 0.     0.     0.     0.    ]\n",
      " [0.     0.     0.     0.5    0.     0.     0.5    0.    ]\n",
      " [0.1    0.1    0.1    0.1    0.1    0.2    0.2    0.1   ]\n",
      " [0.     0.     0.     0.25   0.     0.     0.     0.75  ]\n",
      " [0.     0.     0.     0.     0.     0.     0.     1.    ]]\n"
     ]
    },
    {
     "data": {
      "image/png": "[encoded data removed]",
      "text/plain": [
       "<Figure size 432x288 with 2 Axes>"
      ]
     },
     "metadata": {
      "needs_background": "light"
     },
     "output_type": "display_data"
    },
    {
     "data": {
      "image/png": "[encoded data removed]",
      "text/plain": [
       "<Figure size 432x288 with 2 Axes>"
      ]
     },
     "metadata": {
      "needs_background": "light"
     },
     "output_type": "display_data"
    }
   ],
   "source": [
    "model = KNeighborsClassifier(3)\n",
    "model .fit(X_train_res, y_train_res.target.ravel())\n",
    "y_pred = model.predict(X_test)\n",
    "print(classification_report(y_test, y_pred))\n",
    "\n",
    "np.set_printoptions(precision=4)\n",
    "\n",
    "# Plot non-normalized confusion matrix\n",
    "titles_options = [\n",
    "    (\"Confusion matrix, without normalization\", None),\n",
    "    (\"Normalized confusion matrix\", \"true\"),\n",
    "]\n",
    "for title, normalize in titles_options:\n",
    "    disp = ConfusionMatrixDisplay.from_estimator(\n",
    "        model,\n",
    "        X_test,\n",
    "        y_test,\n",
    "#         display_labels=class_names,\n",
    "        cmap=plt.cm.Blues,\n",
    "        normalize=normalize,\n",
    "    )\n",
    "    disp.ax_.set_title(title)\n",
    "\n",
    "    print(title)\n",
    "    print(disp.confusion_matrix)\n",
    "\n",
    "plt.show()"
   ]
  },
  {
   "cell_type": "markdown",
   "metadata": {},
   "source": [
    "## AdaBoost Classifier"
   ]
  },
  {
   "cell_type": "code",
   "execution_count": 177,
   "metadata": {},
   "outputs": [
    {
     "name": "stdout",
     "output_type": "stream",
     "text": [
      "              precision    recall  f1-score   support\n",
      "\n",
      "           1       0.00      0.00      0.00         4\n",
      "           2       0.25      0.33      0.29         3\n",
      "           3       0.33      0.67      0.44         3\n",
      "           4       0.50      0.67      0.57         3\n",
      "           5       0.00      0.00      0.00         2\n",
      "           6       0.17      0.10      0.12        10\n",
      "           7       0.10      0.25      0.14         4\n",
      "           8       0.00      0.00      0.00         4\n",
      "\n",
      "    accuracy                           0.21        33\n",
      "   macro avg       0.17      0.25      0.20        33\n",
      "weighted avg       0.16      0.21      0.17        33\n",
      "\n",
      "Confusion matrix, without normalization\n",
      "[[0 3 1 0 0 0 0 0]\n",
      " [0 1 1 0 1 0 0 0]\n",
      " [0 0 2 0 0 1 0 0]\n",
      " [0 0 1 2 0 0 0 0]\n",
      " [0 0 0 0 0 1 1 0]\n",
      " [0 0 1 2 2 1 4 0]\n",
      " [0 0 0 0 0 3 1 0]\n",
      " [0 0 0 0 0 0 4 0]]\n",
      "Normalized confusion matrix\n",
      "[[0.     0.75   0.25   0.     0.     0.     0.     0.    ]\n",
      " [0.     0.3333 0.3333 0.     0.3333 0.     0.     0.    ]\n",
      " [0.     0.     0.6667 0.     0.     0.3333 0.     0.    ]\n",
      " [0.     0.     0.3333 0.6667 0.     0.     0.     0.    ]\n",
      " [0.     0.     0.     0.     0.     0.5    0.5    0.    ]\n",
      " [0.     0.     0.1    0.2    0.2    0.1    0.4    0.    ]\n",
      " [0.     0.     0.     0.     0.     0.75   0.25   0.    ]\n",
      " [0.     0.     0.     0.     0.     0.     1.     0.    ]]\n"
     ]
    },
    {
     "name": "stderr",
     "output_type": "stream",
     "text": [
      "C:\\Users\\rmcgr\\AppData\\Roaming\\Python\\Python38\\site-packages\\sklearn\\metrics\\_classification.py:1344: UndefinedMetricWarning: Precision and F-score are ill-defined and being set to 0.0 in labels with no predicted samples. Use `zero_division` parameter to control this behavior.\n",
      "  _warn_prf(average, modifier, msg_start, len(result))\n",
      "C:\\Users\\rmcgr\\AppData\\Roaming\\Python\\Python38\\site-packages\\sklearn\\metrics\\_classification.py:1344: UndefinedMetricWarning: Precision and F-score are ill-defined and being set to 0.0 in labels with no predicted samples. Use `zero_division` parameter to control this behavior.\n",
      "  _warn_prf(average, modifier, msg_start, len(result))\n",
      "C:\\Users\\rmcgr\\AppData\\Roaming\\Python\\Python38\\site-packages\\sklearn\\metrics\\_classification.py:1344: UndefinedMetricWarning: Precision and F-score are ill-defined and being set to 0.0 in labels with no predicted samples. Use `zero_division` parameter to control this behavior.\n",
      "  _warn_prf(average, modifier, msg_start, len(result))\n"
     ]
    },
    {
     "data": {
      "image/png": "[encoded data removed]",
      "text/plain": [
       "<Figure size 432x288 with 2 Axes>"
      ]
     },
     "metadata": {
      "needs_background": "light"
     },
     "output_type": "display_data"
    },
    {
     "data": {
      "image/png": "[encoded data removed]",
      "text/plain": [
       "<Figure size 432x288 with 2 Axes>"
      ]
     },
     "metadata": {
      "needs_background": "light"
     },
     "output_type": "display_data"
    }
   ],
   "source": [
    "model = AdaBoostClassifier(learning_rate=0.01)\n",
    "model .fit(X_train_res, y_train_res.target.ravel())\n",
    "y_pred = model.predict(X_test)\n",
    "print(classification_report(y_test, y_pred))\n",
    "\n",
    "np.set_printoptions(precision=4)\n",
    "\n",
    "# Plot non-normalized confusion matrix\n",
    "titles_options = [\n",
    "    (\"Confusion matrix, without normalization\", None),\n",
    "    (\"Normalized confusion matrix\", \"true\"),\n",
    "]\n",
    "for title, normalize in titles_options:\n",
    "    disp = ConfusionMatrixDisplay.from_estimator(\n",
    "        model,\n",
    "        X_test,\n",
    "        y_test,\n",
    "#         display_labels=class_names,\n",
    "        cmap=plt.cm.Blues,\n",
    "        normalize=normalize,\n",
    "    )\n",
    "    disp.ax_.set_title(title)\n",
    "\n",
    "    print(title)\n",
    "    print(disp.confusion_matrix)\n",
    "\n",
    "plt.show()"
   ]
  },
  {
   "cell_type": "markdown",
   "metadata": {},
   "source": [
    "## Neural Networks"
   ]
  },
  {
   "cell_type": "code",
   "execution_count": 178,
   "metadata": {},
   "outputs": [],
   "source": [
    "from tensorflow import keras"
   ]
  },
  {
   "cell_type": "code",
   "execution_count": 179,
   "metadata": {},
   "outputs": [],
   "source": [
    "model = keras.Sequential([\n",
    "    keras.layers.Dense(32, input_dim=26, activation='relu'),\n",
    "    keras.layers.Dense(16, activation = \"relu\"),\n",
    "    keras.layers.Dropout(0,3),\n",
    "    keras.layers.Dense(8, activation=\"relu\"),\n",
    "    keras.layers.Dense(4, activation = \"softmax\")\n",
    "])"
   ]
  },
  {
   "cell_type": "code",
   "execution_count": 180,
   "metadata": {},
   "outputs": [],
   "source": [
    "model.compile(loss=\"categorical_crossentropy\", optimizer=\"sgd\", metrics=[\"accuracy\"])"
   ]
  },
  {
   "cell_type": "code",
   "execution_count": 181,
   "metadata": {},
   "outputs": [
    {
     "data": {
      "text/html": [
       "<div>\n",
       "<style scoped>\n",
       "    .dataframe tbody tr th:only-of-type {\n",
       "        vertical-align: middle;\n",
       "    }\n",
       "\n",
       "    .dataframe tbody tr th {\n",
       "        vertical-align: top;\n",
       "    }\n",
       "\n",
       "    .dataframe thead th {\n",
       "        text-align: right;\n",
       "    }\n",
       "</style>\n",
       "<table border=\"1\" class=\"dataframe\">\n",
       "  <thead>\n",
       "    <tr style=\"text-align: right;\">\n",
       "      <th></th>\n",
       "      <th>target</th>\n",
       "    </tr>\n",
       "  </thead>\n",
       "  <tbody>\n",
       "    <tr>\n",
       "      <th>0</th>\n",
       "      <td>6</td>\n",
       "    </tr>\n",
       "    <tr>\n",
       "      <th>1</th>\n",
       "      <td>6</td>\n",
       "    </tr>\n",
       "    <tr>\n",
       "      <th>2</th>\n",
       "      <td>8</td>\n",
       "    </tr>\n",
       "    <tr>\n",
       "      <th>3</th>\n",
       "      <td>4</td>\n",
       "    </tr>\n",
       "    <tr>\n",
       "      <th>4</th>\n",
       "      <td>6</td>\n",
       "    </tr>\n",
       "    <tr>\n",
       "      <th>...</th>\n",
       "      <td>...</td>\n",
       "    </tr>\n",
       "    <tr>\n",
       "      <th>171</th>\n",
       "      <td>8</td>\n",
       "    </tr>\n",
       "    <tr>\n",
       "      <th>172</th>\n",
       "      <td>8</td>\n",
       "    </tr>\n",
       "    <tr>\n",
       "      <th>173</th>\n",
       "      <td>8</td>\n",
       "    </tr>\n",
       "    <tr>\n",
       "      <th>174</th>\n",
       "      <td>8</td>\n",
       "    </tr>\n",
       "    <tr>\n",
       "      <th>175</th>\n",
       "      <td>8</td>\n",
       "    </tr>\n",
       "  </tbody>\n",
       "</table>\n",
       "<p>176 rows × 1 columns</p>\n",
       "</div>"
      ],
      "text/plain": [
       "     target\n",
       "0         6\n",
       "1         6\n",
       "2         8\n",
       "3         4\n",
       "4         6\n",
       "..      ...\n",
       "171       8\n",
       "172       8\n",
       "173       8\n",
       "174       8\n",
       "175       8\n",
       "\n",
       "[176 rows x 1 columns]"
      ]
     },
     "execution_count": 181,
     "metadata": {},
     "output_type": "execute_result"
    }
   ],
   "source": [
    "y_train_enc = pd.get_dummies(y_train_res)\n",
    "y_train_enc"
   ]
  },
  {
   "cell_type": "code",
   "execution_count": 184,
   "metadata": {},
   "outputs": [
    {
     "data": {
      "text/html": [
       "<div>\n",
       "<style scoped>\n",
       "    .dataframe tbody tr th:only-of-type {\n",
       "        vertical-align: middle;\n",
       "    }\n",
       "\n",
       "    .dataframe tbody tr th {\n",
       "        vertical-align: top;\n",
       "    }\n",
       "\n",
       "    .dataframe thead th {\n",
       "        text-align: right;\n",
       "    }\n",
       "</style>\n",
       "<table border=\"1\" class=\"dataframe\">\n",
       "  <thead>\n",
       "    <tr style=\"text-align: right;\">\n",
       "      <th></th>\n",
       "      <th>target</th>\n",
       "      <th>0</th>\n",
       "      <th>1</th>\n",
       "      <th>2</th>\n",
       "      <th>3</th>\n",
       "      <th>4</th>\n",
       "      <th>5</th>\n",
       "      <th>6</th>\n",
       "      <th>7</th>\n",
       "    </tr>\n",
       "  </thead>\n",
       "  <tbody>\n",
       "    <tr>\n",
       "      <th>0</th>\n",
       "      <td>6</td>\n",
       "      <td>0.00</td>\n",
       "      <td>0.00</td>\n",
       "      <td>0.00</td>\n",
       "      <td>0.00</td>\n",
       "      <td>0.00</td>\n",
       "      <td>1.00</td>\n",
       "      <td>0.00</td>\n",
       "      <td>0.00</td>\n",
       "    </tr>\n",
       "    <tr>\n",
       "      <th>1</th>\n",
       "      <td>6</td>\n",
       "      <td>0.00</td>\n",
       "      <td>0.00</td>\n",
       "      <td>0.00</td>\n",
       "      <td>0.00</td>\n",
       "      <td>0.00</td>\n",
       "      <td>1.00</td>\n",
       "      <td>0.00</td>\n",
       "      <td>0.00</td>\n",
       "    </tr>\n",
       "    <tr>\n",
       "      <th>2</th>\n",
       "      <td>8</td>\n",
       "      <td>0.00</td>\n",
       "      <td>0.00</td>\n",
       "      <td>0.00</td>\n",
       "      <td>0.00</td>\n",
       "      <td>0.00</td>\n",
       "      <td>0.00</td>\n",
       "      <td>0.00</td>\n",
       "      <td>1.00</td>\n",
       "    </tr>\n",
       "    <tr>\n",
       "      <th>3</th>\n",
       "      <td>4</td>\n",
       "      <td>0.00</td>\n",
       "      <td>0.00</td>\n",
       "      <td>0.00</td>\n",
       "      <td>1.00</td>\n",
       "      <td>0.00</td>\n",
       "      <td>0.00</td>\n",
       "      <td>0.00</td>\n",
       "      <td>0.00</td>\n",
       "    </tr>\n",
       "    <tr>\n",
       "      <th>4</th>\n",
       "      <td>6</td>\n",
       "      <td>0.00</td>\n",
       "      <td>0.00</td>\n",
       "      <td>0.00</td>\n",
       "      <td>0.00</td>\n",
       "      <td>0.00</td>\n",
       "      <td>1.00</td>\n",
       "      <td>0.00</td>\n",
       "      <td>0.00</td>\n",
       "    </tr>\n",
       "    <tr>\n",
       "      <th>...</th>\n",
       "      <td>...</td>\n",
       "      <td>...</td>\n",
       "      <td>...</td>\n",
       "      <td>...</td>\n",
       "      <td>...</td>\n",
       "      <td>...</td>\n",
       "      <td>...</td>\n",
       "      <td>...</td>\n",
       "      <td>...</td>\n",
       "    </tr>\n",
       "    <tr>\n",
       "      <th>171</th>\n",
       "      <td>8</td>\n",
       "      <td>0.00</td>\n",
       "      <td>0.00</td>\n",
       "      <td>0.00</td>\n",
       "      <td>0.00</td>\n",
       "      <td>0.00</td>\n",
       "      <td>0.00</td>\n",
       "      <td>0.00</td>\n",
       "      <td>1.00</td>\n",
       "    </tr>\n",
       "    <tr>\n",
       "      <th>172</th>\n",
       "      <td>8</td>\n",
       "      <td>0.00</td>\n",
       "      <td>0.00</td>\n",
       "      <td>0.00</td>\n",
       "      <td>0.00</td>\n",
       "      <td>0.00</td>\n",
       "      <td>0.00</td>\n",
       "      <td>0.00</td>\n",
       "      <td>1.00</td>\n",
       "    </tr>\n",
       "    <tr>\n",
       "      <th>173</th>\n",
       "      <td>8</td>\n",
       "      <td>0.00</td>\n",
       "      <td>0.00</td>\n",
       "      <td>0.00</td>\n",
       "      <td>0.00</td>\n",
       "      <td>0.00</td>\n",
       "      <td>0.00</td>\n",
       "      <td>0.00</td>\n",
       "      <td>1.00</td>\n",
       "    </tr>\n",
       "    <tr>\n",
       "      <th>174</th>\n",
       "      <td>8</td>\n",
       "      <td>0.00</td>\n",
       "      <td>0.00</td>\n",
       "      <td>0.00</td>\n",
       "      <td>0.00</td>\n",
       "      <td>0.00</td>\n",
       "      <td>0.00</td>\n",
       "      <td>0.00</td>\n",
       "      <td>1.00</td>\n",
       "    </tr>\n",
       "    <tr>\n",
       "      <th>175</th>\n",
       "      <td>8</td>\n",
       "      <td>0.00</td>\n",
       "      <td>0.00</td>\n",
       "      <td>0.00</td>\n",
       "      <td>0.00</td>\n",
       "      <td>0.00</td>\n",
       "      <td>0.00</td>\n",
       "      <td>0.00</td>\n",
       "      <td>1.00</td>\n",
       "    </tr>\n",
       "  </tbody>\n",
       "</table>\n",
       "<p>176 rows × 9 columns</p>\n",
       "</div>"
      ],
      "text/plain": [
       "     target    0    1    2    3    4    5    6    7\n",
       "0         6 0.00 0.00 0.00 0.00 0.00 1.00 0.00 0.00\n",
       "1         6 0.00 0.00 0.00 0.00 0.00 1.00 0.00 0.00\n",
       "2         8 0.00 0.00 0.00 0.00 0.00 0.00 0.00 1.00\n",
       "3         4 0.00 0.00 0.00 1.00 0.00 0.00 0.00 0.00\n",
       "4         6 0.00 0.00 0.00 0.00 0.00 1.00 0.00 0.00\n",
       "..      ...  ...  ...  ...  ...  ...  ...  ...  ...\n",
       "171       8 0.00 0.00 0.00 0.00 0.00 0.00 0.00 1.00\n",
       "172       8 0.00 0.00 0.00 0.00 0.00 0.00 0.00 1.00\n",
       "173       8 0.00 0.00 0.00 0.00 0.00 0.00 0.00 1.00\n",
       "174       8 0.00 0.00 0.00 0.00 0.00 0.00 0.00 1.00\n",
       "175       8 0.00 0.00 0.00 0.00 0.00 0.00 0.00 1.00\n",
       "\n",
       "[176 rows x 9 columns]"
      ]
     },
     "execution_count": 184,
     "metadata": {},
     "output_type": "execute_result"
    }
   ],
   "source": [
    "import pandas as pd\n",
    "import numpy as np\n",
    "from sklearn.preprocessing import OneHotEncoder\n",
    "# creating instance of one-hot-encoder\n",
    "enc = OneHotEncoder(handle_unknown='ignore')\n",
    "# passing bridge-types-cat column (label encoded values of bridge_types)\n",
    "enc_df = pd.DataFrame(enc.fit_transform(y_train_res[['target']]).toarray())\n",
    "# merge with main df bridge_df on key values\n",
    "y_train_res = y_train_res.join(enc_df)\n",
    "y_train_res"
   ]
  },
  {
   "cell_type": "code",
   "execution_count": 190,
   "metadata": {},
   "outputs": [
    {
     "ename": "NameError",
     "evalue": "name 'y_test_res' is not defined",
     "output_type": "error",
     "traceback": [
      "\u001b[1;31m---------------------------------------------------------------------------\u001b[0m",
      "\u001b[1;31mNameError\u001b[0m                                 Traceback (most recent call last)",
      "Input \u001b[1;32mIn [190]\u001b[0m, in \u001b[0;36m<cell line: 1>\u001b[1;34m()\u001b[0m\n\u001b[1;32m----> 1\u001b[0m enc_df \u001b[38;5;241m=\u001b[39m pd\u001b[38;5;241m.\u001b[39mDataFrame(enc\u001b[38;5;241m.\u001b[39mfit_transform(\u001b[43my_test_res\u001b[49m[[\u001b[38;5;124m'\u001b[39m\u001b[38;5;124mtarget\u001b[39m\u001b[38;5;124m'\u001b[39m]])\u001b[38;5;241m.\u001b[39mtoarray())\n\u001b[0;32m      2\u001b[0m \u001b[38;5;66;03m# merge with main df bridge_df on key values\u001b[39;00m\n\u001b[0;32m      3\u001b[0m y_test_res \u001b[38;5;241m=\u001b[39m y_test_res\u001b[38;5;241m.\u001b[39mjoin(enc_df)\n",
      "\u001b[1;31mNameError\u001b[0m: name 'y_test_res' is not defined"
     ]
    }
   ],
   "source": [
    "enc_df = pd.DataFrame(enc.fit_transform(y_test_res[['target']]).toarray())\n",
    "# merge with main df bridge_df on key values\n",
    "y_test_res = y_test_res.join(enc_df)\n",
    "y_test_res"
   ]
  },
  {
   "cell_type": "code",
   "execution_count": 185,
   "metadata": {},
   "outputs": [],
   "source": [
    "y_train_res.drop(\"target\", axis=1, inplace=True)"
   ]
  },
  {
   "cell_type": "code",
   "execution_count": 186,
   "metadata": {},
   "outputs": [
    {
     "data": {
      "text/html": [
       "<div>\n",
       "<style scoped>\n",
       "    .dataframe tbody tr th:only-of-type {\n",
       "        vertical-align: middle;\n",
       "    }\n",
       "\n",
       "    .dataframe tbody tr th {\n",
       "        vertical-align: top;\n",
       "    }\n",
       "\n",
       "    .dataframe thead th {\n",
       "        text-align: right;\n",
       "    }\n",
       "</style>\n",
       "<table border=\"1\" class=\"dataframe\">\n",
       "  <thead>\n",
       "    <tr style=\"text-align: right;\">\n",
       "      <th></th>\n",
       "      <th>0</th>\n",
       "      <th>1</th>\n",
       "      <th>2</th>\n",
       "      <th>3</th>\n",
       "      <th>4</th>\n",
       "      <th>5</th>\n",
       "      <th>6</th>\n",
       "      <th>7</th>\n",
       "    </tr>\n",
       "  </thead>\n",
       "  <tbody>\n",
       "    <tr>\n",
       "      <th>0</th>\n",
       "      <td>0.00</td>\n",
       "      <td>0.00</td>\n",
       "      <td>0.00</td>\n",
       "      <td>0.00</td>\n",
       "      <td>0.00</td>\n",
       "      <td>1.00</td>\n",
       "      <td>0.00</td>\n",
       "      <td>0.00</td>\n",
       "    </tr>\n",
       "    <tr>\n",
       "      <th>1</th>\n",
       "      <td>0.00</td>\n",
       "      <td>0.00</td>\n",
       "      <td>0.00</td>\n",
       "      <td>0.00</td>\n",
       "      <td>0.00</td>\n",
       "      <td>1.00</td>\n",
       "      <td>0.00</td>\n",
       "      <td>0.00</td>\n",
       "    </tr>\n",
       "    <tr>\n",
       "      <th>2</th>\n",
       "      <td>0.00</td>\n",
       "      <td>0.00</td>\n",
       "      <td>0.00</td>\n",
       "      <td>0.00</td>\n",
       "      <td>0.00</td>\n",
       "      <td>0.00</td>\n",
       "      <td>0.00</td>\n",
       "      <td>1.00</td>\n",
       "    </tr>\n",
       "    <tr>\n",
       "      <th>3</th>\n",
       "      <td>0.00</td>\n",
       "      <td>0.00</td>\n",
       "      <td>0.00</td>\n",
       "      <td>1.00</td>\n",
       "      <td>0.00</td>\n",
       "      <td>0.00</td>\n",
       "      <td>0.00</td>\n",
       "      <td>0.00</td>\n",
       "    </tr>\n",
       "    <tr>\n",
       "      <th>4</th>\n",
       "      <td>0.00</td>\n",
       "      <td>0.00</td>\n",
       "      <td>0.00</td>\n",
       "      <td>0.00</td>\n",
       "      <td>0.00</td>\n",
       "      <td>1.00</td>\n",
       "      <td>0.00</td>\n",
       "      <td>0.00</td>\n",
       "    </tr>\n",
       "    <tr>\n",
       "      <th>...</th>\n",
       "      <td>...</td>\n",
       "      <td>...</td>\n",
       "      <td>...</td>\n",
       "      <td>...</td>\n",
       "      <td>...</td>\n",
       "      <td>...</td>\n",
       "      <td>...</td>\n",
       "      <td>...</td>\n",
       "    </tr>\n",
       "    <tr>\n",
       "      <th>171</th>\n",
       "      <td>0.00</td>\n",
       "      <td>0.00</td>\n",
       "      <td>0.00</td>\n",
       "      <td>0.00</td>\n",
       "      <td>0.00</td>\n",
       "      <td>0.00</td>\n",
       "      <td>0.00</td>\n",
       "      <td>1.00</td>\n",
       "    </tr>\n",
       "    <tr>\n",
       "      <th>172</th>\n",
       "      <td>0.00</td>\n",
       "      <td>0.00</td>\n",
       "      <td>0.00</td>\n",
       "      <td>0.00</td>\n",
       "      <td>0.00</td>\n",
       "      <td>0.00</td>\n",
       "      <td>0.00</td>\n",
       "      <td>1.00</td>\n",
       "    </tr>\n",
       "    <tr>\n",
       "      <th>173</th>\n",
       "      <td>0.00</td>\n",
       "      <td>0.00</td>\n",
       "      <td>0.00</td>\n",
       "      <td>0.00</td>\n",
       "      <td>0.00</td>\n",
       "      <td>0.00</td>\n",
       "      <td>0.00</td>\n",
       "      <td>1.00</td>\n",
       "    </tr>\n",
       "    <tr>\n",
       "      <th>174</th>\n",
       "      <td>0.00</td>\n",
       "      <td>0.00</td>\n",
       "      <td>0.00</td>\n",
       "      <td>0.00</td>\n",
       "      <td>0.00</td>\n",
       "      <td>0.00</td>\n",
       "      <td>0.00</td>\n",
       "      <td>1.00</td>\n",
       "    </tr>\n",
       "    <tr>\n",
       "      <th>175</th>\n",
       "      <td>0.00</td>\n",
       "      <td>0.00</td>\n",
       "      <td>0.00</td>\n",
       "      <td>0.00</td>\n",
       "      <td>0.00</td>\n",
       "      <td>0.00</td>\n",
       "      <td>0.00</td>\n",
       "      <td>1.00</td>\n",
       "    </tr>\n",
       "  </tbody>\n",
       "</table>\n",
       "<p>176 rows × 8 columns</p>\n",
       "</div>"
      ],
      "text/plain": [
       "       0    1    2    3    4    5    6    7\n",
       "0   0.00 0.00 0.00 0.00 0.00 1.00 0.00 0.00\n",
       "1   0.00 0.00 0.00 0.00 0.00 1.00 0.00 0.00\n",
       "2   0.00 0.00 0.00 0.00 0.00 0.00 0.00 1.00\n",
       "3   0.00 0.00 0.00 1.00 0.00 0.00 0.00 0.00\n",
       "4   0.00 0.00 0.00 0.00 0.00 1.00 0.00 0.00\n",
       "..   ...  ...  ...  ...  ...  ...  ...  ...\n",
       "171 0.00 0.00 0.00 0.00 0.00 0.00 0.00 1.00\n",
       "172 0.00 0.00 0.00 0.00 0.00 0.00 0.00 1.00\n",
       "173 0.00 0.00 0.00 0.00 0.00 0.00 0.00 1.00\n",
       "174 0.00 0.00 0.00 0.00 0.00 0.00 0.00 1.00\n",
       "175 0.00 0.00 0.00 0.00 0.00 0.00 0.00 1.00\n",
       "\n",
       "[176 rows x 8 columns]"
      ]
     },
     "execution_count": 186,
     "metadata": {},
     "output_type": "execute_result"
    }
   ],
   "source": [
    "y_train_res"
   ]
  },
  {
   "cell_type": "code",
   "execution_count": 188,
   "metadata": {},
   "outputs": [
    {
     "name": "stdout",
     "output_type": "stream",
     "text": [
      "Epoch 1/500\n"
     ]
    },
    {
     "ename": "ValueError",
     "evalue": "in user code:\n\n    File \"C:\\Users\\rmcgr\\AppData\\Roaming\\Python\\Python38\\site-packages\\keras\\engine\\training.py\", line 1249, in train_function  *\n        return step_function(self, iterator)\n    File \"C:\\Users\\rmcgr\\AppData\\Roaming\\Python\\Python38\\site-packages\\keras\\engine\\training.py\", line 1233, in step_function  **\n        outputs = model.distribute_strategy.run(run_step, args=(data,))\n    File \"C:\\Users\\rmcgr\\AppData\\Roaming\\Python\\Python38\\site-packages\\keras\\engine\\training.py\", line 1222, in run_step  **\n        outputs = model.train_step(data)\n    File \"C:\\Users\\rmcgr\\AppData\\Roaming\\Python\\Python38\\site-packages\\keras\\engine\\training.py\", line 1023, in train_step\n        y_pred = self(x, training=True)\n    File \"C:\\Users\\rmcgr\\AppData\\Roaming\\Python\\Python38\\site-packages\\keras\\utils\\traceback_utils.py\", line 70, in error_handler\n        raise e.with_traceback(filtered_tb) from None\n    File \"C:\\Users\\rmcgr\\AppData\\Roaming\\Python\\Python38\\site-packages\\keras\\engine\\input_spec.py\", line 295, in assert_input_compatibility\n        raise ValueError(\n\n    ValueError: Input 0 of layer \"sequential\" is incompatible with the layer: expected shape=(None, 26), found shape=(None, 170)\n",
     "output_type": "error",
     "traceback": [
      "\u001b[1;31m---------------------------------------------------------------------------\u001b[0m",
      "\u001b[1;31mValueError\u001b[0m                                Traceback (most recent call last)",
      "Input \u001b[1;32mIn [188]\u001b[0m, in \u001b[0;36m<cell line: 1>\u001b[1;34m()\u001b[0m\n\u001b[1;32m----> 1\u001b[0m history \u001b[38;5;241m=\u001b[39m \u001b[43mmodel\u001b[49m\u001b[38;5;241;43m.\u001b[39;49m\u001b[43mfit\u001b[49m\u001b[43m(\u001b[49m\u001b[43mX_train_res\u001b[49m\u001b[43m,\u001b[49m\u001b[43m \u001b[49m\u001b[43my_train_enc\u001b[49m\u001b[43m,\u001b[49m\u001b[43m \u001b[49m\u001b[43mepochs\u001b[49m\u001b[38;5;241;43m=\u001b[39;49m\u001b[38;5;241;43m500\u001b[39;49m\u001b[43m,\u001b[49m\u001b[43m \u001b[49m\u001b[43mvalidation_split\u001b[49m\u001b[38;5;241;43m=\u001b[39;49m\u001b[38;5;241;43m0.2\u001b[39;49m\u001b[43m)\u001b[49m\n",
      "File \u001b[1;32m~\\AppData\\Roaming\\Python\\Python38\\site-packages\\keras\\utils\\traceback_utils.py:70\u001b[0m, in \u001b[0;36mfilter_traceback.<locals>.error_handler\u001b[1;34m(*args, **kwargs)\u001b[0m\n\u001b[0;32m     67\u001b[0m     filtered_tb \u001b[38;5;241m=\u001b[39m _process_traceback_frames(e\u001b[38;5;241m.\u001b[39m__traceback__)\n\u001b[0;32m     68\u001b[0m     \u001b[38;5;66;03m# To get the full stack trace, call:\u001b[39;00m\n\u001b[0;32m     69\u001b[0m     \u001b[38;5;66;03m# `tf.debugging.disable_traceback_filtering()`\u001b[39;00m\n\u001b[1;32m---> 70\u001b[0m     \u001b[38;5;28;01mraise\u001b[39;00m e\u001b[38;5;241m.\u001b[39mwith_traceback(filtered_tb) \u001b[38;5;28;01mfrom\u001b[39;00m \u001b[38;5;28mNone\u001b[39m\n\u001b[0;32m     71\u001b[0m \u001b[38;5;28;01mfinally\u001b[39;00m:\n\u001b[0;32m     72\u001b[0m     \u001b[38;5;28;01mdel\u001b[39;00m filtered_tb\n",
      "File \u001b[1;32m~\\AppData\\Local\\Temp\\__autograph_generated_file0m2g7myu.py:15\u001b[0m, in \u001b[0;36mouter_factory.<locals>.inner_factory.<locals>.tf__train_function\u001b[1;34m(iterator)\u001b[0m\n\u001b[0;32m     13\u001b[0m \u001b[38;5;28;01mtry\u001b[39;00m:\n\u001b[0;32m     14\u001b[0m     do_return \u001b[38;5;241m=\u001b[39m \u001b[38;5;28;01mTrue\u001b[39;00m\n\u001b[1;32m---> 15\u001b[0m     retval_ \u001b[38;5;241m=\u001b[39m ag__\u001b[38;5;241m.\u001b[39mconverted_call(ag__\u001b[38;5;241m.\u001b[39mld(step_function), (ag__\u001b[38;5;241m.\u001b[39mld(\u001b[38;5;28mself\u001b[39m), ag__\u001b[38;5;241m.\u001b[39mld(iterator)), \u001b[38;5;28;01mNone\u001b[39;00m, fscope)\n\u001b[0;32m     16\u001b[0m \u001b[38;5;28;01mexcept\u001b[39;00m:\n\u001b[0;32m     17\u001b[0m     do_return \u001b[38;5;241m=\u001b[39m \u001b[38;5;28;01mFalse\u001b[39;00m\n",
      "\u001b[1;31mValueError\u001b[0m: in user code:\n\n    File \"C:\\Users\\rmcgr\\AppData\\Roaming\\Python\\Python38\\site-packages\\keras\\engine\\training.py\", line 1249, in train_function  *\n        return step_function(self, iterator)\n    File \"C:\\Users\\rmcgr\\AppData\\Roaming\\Python\\Python38\\site-packages\\keras\\engine\\training.py\", line 1233, in step_function  **\n        outputs = model.distribute_strategy.run(run_step, args=(data,))\n    File \"C:\\Users\\rmcgr\\AppData\\Roaming\\Python\\Python38\\site-packages\\keras\\engine\\training.py\", line 1222, in run_step  **\n        outputs = model.train_step(data)\n    File \"C:\\Users\\rmcgr\\AppData\\Roaming\\Python\\Python38\\site-packages\\keras\\engine\\training.py\", line 1023, in train_step\n        y_pred = self(x, training=True)\n    File \"C:\\Users\\rmcgr\\AppData\\Roaming\\Python\\Python38\\site-packages\\keras\\utils\\traceback_utils.py\", line 70, in error_handler\n        raise e.with_traceback(filtered_tb) from None\n    File \"C:\\Users\\rmcgr\\AppData\\Roaming\\Python\\Python38\\site-packages\\keras\\engine\\input_spec.py\", line 295, in assert_input_compatibility\n        raise ValueError(\n\n    ValueError: Input 0 of layer \"sequential\" is incompatible with the layer: expected shape=(None, 26), found shape=(None, 170)\n"
     ]
    }
   ],
   "source": [
    "history = model.fit(X_train_res, y_train_enc, epochs=500, validation_split=0.2)"
   ]
  },
  {
   "cell_type": "markdown",
   "metadata": {},
   "source": [
    "https://www.educba.com/keras-sequential/"
   ]
  },
  {
   "cell_type": "code",
   "execution_count": 192,
   "metadata": {},
   "outputs": [],
   "source": [
    "import tensorflow as tf\n",
    "\n",
    "inputs = tf.keras.Input(shape=(3,))\n",
    "x = tf.keras.layers.Dense(4, activation=tf.nn.relu)(inputs)\n",
    "outputs = tf.keras.layers.Dense(5, activation=tf.nn.softmax)(x)\n",
    "model = tf.keras.Model(inputs=inputs, outputs=outputs)"
   ]
  },
  {
   "cell_type": "code",
   "execution_count": 193,
   "metadata": {},
   "outputs": [
    {
     "ename": "NameError",
     "evalue": "name 'y' is not defined",
     "output_type": "error",
     "traceback": [
      "\u001b[1;31m---------------------------------------------------------------------------\u001b[0m",
      "\u001b[1;31mNameError\u001b[0m                                 Traceback (most recent call last)",
      "Input \u001b[1;32mIn [193]\u001b[0m, in \u001b[0;36m<cell line: 46>\u001b[1;34m()\u001b[0m\n\u001b[0;32m     44\u001b[0m model\u001b[38;5;241m.\u001b[39mcompile(optimizer\u001b[38;5;241m=\u001b[39m\u001b[38;5;124m'\u001b[39m\u001b[38;5;124msgd\u001b[39m\u001b[38;5;124m'\u001b[39m, loss\u001b[38;5;241m=\u001b[39m\u001b[38;5;124m'\u001b[39m\u001b[38;5;124mmse\u001b[39m\u001b[38;5;124m'\u001b[39m)\n\u001b[0;32m     45\u001b[0m \u001b[38;5;66;03m# This builds the model for the first time:\u001b[39;00m\n\u001b[1;32m---> 46\u001b[0m model\u001b[38;5;241m.\u001b[39mfit(x, \u001b[43my\u001b[49m, batch_size\u001b[38;5;241m=\u001b[39m\u001b[38;5;241m32\u001b[39m, epochs\u001b[38;5;241m=\u001b[39m\u001b[38;5;241m10\u001b[39m)\n",
      "\u001b[1;31mNameError\u001b[0m: name 'y' is not defined"
     ]
    }
   ],
   "source": [
    "# Optionally, the first layer can receive an `input_shape` argument:\n",
    "model = tf.keras.Sequential()\n",
    "model.add(tf.keras.layers.Dense(8, input_shape=(16,)))\n",
    "# Afterwards, we do automatic shape inference:\n",
    "model.add(tf.keras.layers.Dense(4))\n",
    "\n",
    "# This is identical to the following:\n",
    "model = tf.keras.Sequential()\n",
    "model.add(tf.keras.Input(shape=(16,)))\n",
    "model.add(tf.keras.layers.Dense(8))\n",
    "\n",
    "# Note that you can also omit the `input_shape` argument.\n",
    "# In that case the model doesn't have any weights until the first call\n",
    "# to a training/evaluation method (since it isn't yet built):\n",
    "model = tf.keras.Sequential()\n",
    "model.add(tf.keras.layers.Dense(8))\n",
    "model.add(tf.keras.layers.Dense(4))\n",
    "# model.weights not created yet\n",
    "\n",
    "# Whereas if you specify the input shape, the model gets built\n",
    "# continuously as you are adding layers:\n",
    "model = tf.keras.Sequential()\n",
    "model.add(tf.keras.layers.Dense(8, input_shape=(16,)))\n",
    "model.add(tf.keras.layers.Dense(4))\n",
    "len(model.weights)\n",
    "# Returns \"4\"\n",
    "\n",
    "# When using the delayed-build pattern (no input shape specified), you can\n",
    "# choose to manually build your model by calling\n",
    "# `build(batch_input_shape)`:\n",
    "model = tf.keras.Sequential()\n",
    "model.add(tf.keras.layers.Dense(8))\n",
    "model.add(tf.keras.layers.Dense(4))\n",
    "model.build((None, 16))\n",
    "len(model.weights)\n",
    "# Returns \"4\"\n",
    "\n",
    "# Note that when using the delayed-build pattern (no input shape specified),\n",
    "# the model gets built the first time you call `fit`, `eval`, or `predict`,\n",
    "# or the first time you call the model on some input data.\n",
    "model = tf.keras.Sequential()\n",
    "model.add(tf.keras.layers.Dense(8))\n",
    "model.add(tf.keras.layers.Dense(1))\n",
    "model.compile(optimizer='sgd', loss='mse')\n",
    "# This builds the model for the first time:\n",
    "model.fit(x, y, batch_size=32, epochs=10)"
   ]
  },
  {
   "cell_type": "code",
   "execution_count": null,
   "metadata": {},
   "outputs": [],
   "source": []
  },
  {
   "cell_type": "code",
   "execution_count": null,
   "metadata": {},
   "outputs": [],
   "source": []
  },
  {
   "cell_type": "code",
   "execution_count": null,
   "metadata": {},
   "outputs": [],
   "source": [
    "train_data = tf.data.Dataset.from_tensor_slices((X_train_res, y_train_enc))\n",
    "valid_data = tf.data.Dataset.from_tensor_slices((X_test_res, y_test_enc))\n",
    "\n",
    "history = model.fit(X_train_res, y_train_enc, epochs=500, validation_split=0.2)"
   ]
  },
  {
   "cell_type": "code",
   "execution_count": null,
   "metadata": {},
   "outputs": [],
   "source": [
    "model.fit(trainMixed, trainVocals,epochs=10, validation_data=(testMixed, testVocals))"
   ]
  },
  {
   "cell_type": "code",
   "execution_count": 189,
   "metadata": {},
   "outputs": [
    {
     "ename": "NameError",
     "evalue": "name 'trainMixed' is not defined",
     "output_type": "error",
     "traceback": [
      "\u001b[1;31m---------------------------------------------------------------------------\u001b[0m",
      "\u001b[1;31mNameError\u001b[0m                                 Traceback (most recent call last)",
      "Input \u001b[1;32mIn [189]\u001b[0m, in \u001b[0;36m<cell line: 3>\u001b[1;34m()\u001b[0m\n\u001b[0;32m      1\u001b[0m \u001b[38;5;28;01mimport\u001b[39;00m \u001b[38;5;21;01mtensorflow\u001b[39;00m \u001b[38;5;28;01mas\u001b[39;00m \u001b[38;5;21;01mtf\u001b[39;00m\n\u001b[1;32m----> 3\u001b[0m train_data \u001b[38;5;241m=\u001b[39m tf\u001b[38;5;241m.\u001b[39mdata\u001b[38;5;241m.\u001b[39mDataset\u001b[38;5;241m.\u001b[39mfrom_tensor_slices((\u001b[43mtrainMixed\u001b[49m, trainVocals))\n\u001b[0;32m      4\u001b[0m valid_data \u001b[38;5;241m=\u001b[39m tf\u001b[38;5;241m.\u001b[39mdata\u001b[38;5;241m.\u001b[39mDataset\u001b[38;5;241m.\u001b[39mfrom_tensor_slices((testMixed, testVocals))\n\u001b[0;32m      6\u001b[0m model\u001b[38;5;241m.\u001b[39mfit(train_data, epochs\u001b[38;5;241m=\u001b[39m\u001b[38;5;241m10\u001b[39m, validation_data\u001b[38;5;241m=\u001b[39mvalid_data)\n",
      "\u001b[1;31mNameError\u001b[0m: name 'trainMixed' is not defined"
     ]
    }
   ],
   "source": [
    "import tensorflow as tf\n",
    "\n",
    "train_data = tf.data.Dataset.from_tensor_slices((trainMixed, trainVocals))\n",
    "valid_data = tf.data.Dataset.from_tensor_slices((testMixed, testVocals))\n",
    "\n",
    "model.fit(train_data, epochs=10, validation_data=valid_data)"
   ]
  },
  {
   "cell_type": "code",
   "execution_count": 134,
   "metadata": {},
   "outputs": [
    {
     "name": "stdout",
     "output_type": "stream",
     "text": [
      "Confusion matrix, without normalization\n",
      "[[ 0  0  0  0  0  4  0  0]\n",
      " [ 0  0  0  0  0  3  0  0]\n",
      " [ 0  0  0  0  0  4  0  0]\n",
      " [ 0  0  0  0  0  3  0  0]\n",
      " [ 0  0  0  0  0  2  0  0]\n",
      " [ 0  0  0  0  0 10  0  0]\n",
      " [ 0  0  0  0  0  3  0  0]\n",
      " [ 0  0  0  0  0  4  0  0]]\n",
      "Normalized confusion matrix\n",
      "[[0. 0. 0. 0. 0. 1. 0. 0.]\n",
      " [0. 0. 0. 0. 0. 1. 0. 0.]\n",
      " [0. 0. 0. 0. 0. 1. 0. 0.]\n",
      " [0. 0. 0. 0. 0. 1. 0. 0.]\n",
      " [0. 0. 0. 0. 0. 1. 0. 0.]\n",
      " [0. 0. 0. 0. 0. 1. 0. 0.]\n",
      " [0. 0. 0. 0. 0. 1. 0. 0.]\n",
      " [0. 0. 0. 0. 0. 1. 0. 0.]]\n"
     ]
    },
    {
     "name": "stderr",
     "output_type": "stream",
     "text": [
      "C:\\Users\\rmcgr\\AppData\\Roaming\\Python\\Python38\\site-packages\\sklearn\\base.py:402: UserWarning: X has feature names, but SVC was fitted without feature names\n",
      "  warnings.warn(\n",
      "C:\\Users\\rmcgr\\AppData\\Roaming\\Python\\Python38\\site-packages\\sklearn\\base.py:402: UserWarning: X has feature names, but SVC was fitted without feature names\n",
      "  warnings.warn(\n"
     ]
    },
    {
     "data": {
      "image/png": "[encoded data removed]",
      "text/plain": [
       "<Figure size 432x288 with 2 Axes>"
      ]
     },
     "metadata": {
      "needs_background": "light"
     },
     "output_type": "display_data"
    },
    {
     "data": {
      "image/png": "[encoded data removed]",
      "text/plain": [
       "<Figure size 432x288 with 2 Axes>"
      ]
     },
     "metadata": {
      "needs_background": "light"
     },
     "output_type": "display_data"
    }
   ],
   "source": [
    "\n",
    "np.set_printoptions(precision=2)\n",
    "\n",
    "# Plot non-normalized confusion matrix\n",
    "titles_options = [\n",
    "    (\"Confusion matrix, without normalization\", None),\n",
    "    (\"Normalized confusion matrix\", \"true\"),\n",
    "]\n",
    "for title, normalize in titles_options:\n",
    "    disp = ConfusionMatrixDisplay.from_estimator(\n",
    "        model_svc,\n",
    "        X_test,\n",
    "        y_test,\n",
    "#         display_labels=class_names,\n",
    "        cmap=plt.cm.Blues,\n",
    "        normalize=normalize,\n",
    "    )\n",
    "    disp.ax_.set_title(title)\n",
    "\n",
    "    print(title)\n",
    "    print(disp.confusion_matrix)\n",
    "\n",
    "plt.show()"
   ]
  },
  {
   "cell_type": "code",
   "execution_count": 125,
   "metadata": {},
   "outputs": [
    {
     "data": {
      "text/plain": [
       "target\n",
       "6         10\n",
       "1          4\n",
       "3          4\n",
       "8          4\n",
       "2          3\n",
       "4          3\n",
       "7          3\n",
       "5          2\n",
       "dtype: int64"
      ]
     },
     "execution_count": 125,
     "metadata": {},
     "output_type": "execute_result"
    }
   ],
   "source": [
    "y_test.value_counts()"
   ]
  },
  {
   "cell_type": "code",
   "execution_count": 126,
   "metadata": {},
   "outputs": [
    {
     "data": {
      "text/plain": [
       "array([4, 4, 4, 4, 4, 4, 4, 4, 4, 4, 4, 4, 4, 4, 4, 4, 4, 4, 4, 4, 4, 4,\n",
       "       4, 4, 4, 4, 4, 4, 4, 4, 4, 4, 4])"
      ]
     },
     "execution_count": 126,
     "metadata": {},
     "output_type": "execute_result"
    }
   ],
   "source": [
    "y_pred"
   ]
  },
  {
   "cell_type": "code",
   "execution_count": 127,
   "metadata": {},
   "outputs": [
    {
     "name": "stdout",
     "output_type": "stream",
     "text": [
      "              precision    recall  f1-score   support\n",
      "\n",
      "           1       0.00      0.00      0.00         4\n",
      "           2       0.00      0.00      0.00         3\n",
      "           3       0.00      0.00      0.00         4\n",
      "           4       0.09      1.00      0.17         3\n",
      "           5       0.00      0.00      0.00         2\n",
      "           6       0.00      0.00      0.00        10\n",
      "           7       0.00      0.00      0.00         3\n",
      "           8       0.00      0.00      0.00         4\n",
      "\n",
      "    accuracy                           0.09        33\n",
      "   macro avg       0.01      0.12      0.02        33\n",
      "weighted avg       0.01      0.09      0.02        33\n",
      "\n"
     ]
    },
    {
     "name": "stderr",
     "output_type": "stream",
     "text": [
      "C:\\Users\\rmcgr\\AppData\\Roaming\\Python\\Python38\\site-packages\\sklearn\\metrics\\_classification.py:1344: UndefinedMetricWarning: Precision and F-score are ill-defined and being set to 0.0 in labels with no predicted samples. Use `zero_division` parameter to control this behavior.\n",
      "  _warn_prf(average, modifier, msg_start, len(result))\n",
      "C:\\Users\\rmcgr\\AppData\\Roaming\\Python\\Python38\\site-packages\\sklearn\\metrics\\_classification.py:1344: UndefinedMetricWarning: Precision and F-score are ill-defined and being set to 0.0 in labels with no predicted samples. Use `zero_division` parameter to control this behavior.\n",
      "  _warn_prf(average, modifier, msg_start, len(result))\n",
      "C:\\Users\\rmcgr\\AppData\\Roaming\\Python\\Python38\\site-packages\\sklearn\\metrics\\_classification.py:1344: UndefinedMetricWarning: Precision and F-score are ill-defined and being set to 0.0 in labels with no predicted samples. Use `zero_division` parameter to control this behavior.\n",
      "  _warn_prf(average, modifier, msg_start, len(result))\n"
     ]
    }
   ],
   "source": [
    "print(classification_report(y_test, y_pred))"
   ]
  },
  {
   "cell_type": "code",
   "execution_count": 66,
   "metadata": {},
   "outputs": [
    {
     "data": {
      "text/plain": [
       "array([2, 2, 2, 5, 2, 2, 2, 3, 2, 3, 2, 3, 3, 3, 8, 8, 4, 7, 5, 6, 4, 6,\n",
       "       6, 7, 4, 6, 9, 4, 5, 3, 6, 1, 4, 6, 6, 4, 6, 4, 8, 8, 3, 1, 6, 6,\n",
       "       6, 3, 8, 6, 8, 8, 6, 7, 7, 8, 7, 7, 6, 6, 1, 1, 1, 1, 1, 1, 1, 6,\n",
       "       1, 1, 7, 3, 5, 6, 4, 6, 5, 5, 4, 2, 1, 4, 3, 6, 6, 8, 8, 6, 6, 6,\n",
       "       7, 6, 5, 8, 6, 7, 6, 3, 6, 5, 6, 3, 7, 6, 6, 6, 7, 8, 9, 8, 7, 6])"
      ]
     },
     "execution_count": 66,
     "metadata": {},
     "output_type": "execute_result"
    }
   ],
   "source": [
    "ydata"
   ]
  },
  {
   "cell_type": "code",
   "execution_count": 73,
   "metadata": {},
   "outputs": [
    {
     "name": "stderr",
     "output_type": "stream",
     "text": [
      "C:\\Users\\rmcgr\\AppData\\Roaming\\Python\\Python38\\site-packages\\sklearn\\utils\\validation.py:1141: DataConversionWarning: A column-vector y was passed when a 1d array was expected. Please change the shape of y to (n_samples, ), for example using ravel().\n",
      "  y = column_or_1d(y, warn=True)\n"
     ]
    },
    {
     "name": "stdout",
     "output_type": "stream",
     "text": [
      "Confusion matrix, without normalization\n",
      "[[2 0 0 1 0 0 0 0 0]\n",
      " [2 1 0 0 0 0 0 0 0]\n",
      " [0 0 2 0 1 0 0 0 0]\n",
      " [0 0 0 1 1 1 0 0 0]\n",
      " [0 1 0 0 0 0 0 1 0]\n",
      " [1 0 0 1 2 3 2 1 0]\n",
      " [0 0 0 0 0 3 0 1 0]\n",
      " [0 0 0 1 0 0 0 3 0]\n",
      " [0 0 0 0 0 0 0 1 0]]\n",
      "Normalized confusion matrix\n",
      "[[0.67 0.   0.   0.33 0.   0.   0.   0.   0.  ]\n",
      " [0.67 0.33 0.   0.   0.   0.   0.   0.   0.  ]\n",
      " [0.   0.   0.67 0.   0.33 0.   0.   0.   0.  ]\n",
      " [0.   0.   0.   0.33 0.33 0.33 0.   0.   0.  ]\n",
      " [0.   0.5  0.   0.   0.   0.   0.   0.5  0.  ]\n",
      " [0.1  0.   0.   0.1  0.2  0.3  0.2  0.1  0.  ]\n",
      " [0.   0.   0.   0.   0.   0.75 0.   0.25 0.  ]\n",
      " [0.   0.   0.   0.25 0.   0.   0.   0.75 0.  ]\n",
      " [0.   0.   0.   0.   0.   0.   0.   1.   0.  ]]\n"
     ]
    },
    {
     "data": {
      "image/png": "[encoded data removed]",
      "text/plain": [
       "<Figure size 432x288 with 2 Axes>"
      ]
     },
     "metadata": {
      "needs_background": "light"
     },
     "output_type": "display_data"
    },
    {
     "data": {
      "image/png": "[encoded data removed]",
      "text/plain": [
       "<Figure size 432x288 with 2 Axes>"
      ]
     },
     "metadata": {
      "needs_background": "light"
     },
     "output_type": "display_data"
    }
   ],
   "source": [
    "# class_names = iris.target_names\n",
    "\n",
    "# # Split the data into a training set and a test set\n",
    "# X_train, X_test, y_train, y_test = train_test_split(X, y, random_state=0)\n",
    "\n",
    "# Run classifier, using a model that is too regularized (C too low) to see\n",
    "# the impact on the results\n",
    "classifier = svm.SVC(kernel=\"linear\", C=0.01).fit(X_train, y_train)\n",
    "\n",
    "np.set_printoptions(precision=2)\n",
    "\n",
    "# Plot non-normalized confusion matrix\n",
    "titles_options = [\n",
    "    (\"Confusion matrix, without normalization\", None),\n",
    "    (\"Normalized confusion matrix\", \"true\"),\n",
    "]\n",
    "for title, normalize in titles_options:\n",
    "    disp = ConfusionMatrixDisplay.from_estimator(\n",
    "        classifier,\n",
    "        X_test,\n",
    "        y_test,\n",
    "#         display_labels=class_names,\n",
    "        cmap=plt.cm.Blues,\n",
    "        normalize=normalize,\n",
    "    )\n",
    "    disp.ax_.set_title(title)\n",
    "\n",
    "    print(title)\n",
    "    print(disp.confusion_matrix)\n",
    "\n",
    "plt.show()"
   ]
  },
  {
   "cell_type": "code",
   "execution_count": null,
   "metadata": {},
   "outputs": [],
   "source": [
    "# class_names = iris.target_names\n",
    "\n",
    "# # Split the data into a training set and a test set\n",
    "# X_train, X_test, y_train, y_test = train_test_split(X, y, random_state=0)\n",
    "\n",
    "# Run classifier, using a model that is too regularized (C too low) to see\n",
    "# the impact on the results\n",
    "classifier = svm.SVC(kernel=\"linear\", C=0.01).fit(X_train, y_train)\n",
    "\n",
    "np.set_printoptions(precision=2)\n",
    "\n",
    "# Plot non-normalized confusion matrix\n",
    "titles_options = [\n",
    "    (\"Confusion matrix, without normalization\", None),\n",
    "    (\"Normalized confusion matrix\", \"true\"),\n",
    "]\n",
    "for title, normalize in titles_options:\n",
    "    disp = ConfusionMatrixDisplay.from_estimator(\n",
    "        classifier,\n",
    "        X_test,\n",
    "        y_test,\n",
    "#         display_labels=class_names,\n",
    "        cmap=plt.cm.Blues,\n",
    "        normalize=normalize,\n",
    "    )\n",
    "    disp.ax_.set_title(title)\n",
    "\n",
    "    print(title)\n",
    "    print(disp.confusion_matrix)\n",
    "\n",
    "plt.show()"
   ]
  },
  {
   "cell_type": "code",
   "execution_count": null,
   "metadata": {},
   "outputs": [],
   "source": []
  },
  {
   "cell_type": "code",
   "execution_count": null,
   "metadata": {},
   "outputs": [],
   "source": []
  },
  {
   "cell_type": "code",
   "execution_count": null,
   "metadata": {},
   "outputs": [],
   "source": []
  },
  {
   "cell_type": "code",
   "execution_count": null,
   "metadata": {},
   "outputs": [],
   "source": []
  },
  {
   "cell_type": "code",
   "execution_count": null,
   "metadata": {},
   "outputs": [],
   "source": []
  },
  {
   "cell_type": "markdown",
   "metadata": {},
   "source": [
    "### Parameterise the Random Forest Regressor alogorthim\n",
    "\n",
    "for details see: http://scikit-learn.org/stable/modules/generated/sklearn.ensemble.RandomForestRegressor.html"
   ]
  },
  {
   "cell_type": "code",
   "execution_count": null,
   "metadata": {},
   "outputs": [],
   "source": [
    "n_est = 300\n",
    "rs = 1\n",
    "maxd = 4\n",
    "\n",
    "rng = np.random.RandomState(rs)\n",
    "rfrModel_1 = abr(dtr(max_depth=maxd), n_estimators=n_est, random_state=rng)\n",
    "print(rfrModel_1)\n",
    "mdl = \"abr\"\n",
    "str_model = f\"rf_{abr}_{model_data_name}_n_est_{n_est}_rs_{rs}_maxd_{maxd}_{date_time_str}\"\n",
    "print(str_model)"
   ]
  },
  {
   "cell_type": "code",
   "execution_count": null,
   "metadata": {},
   "outputs": [],
   "source": [
    "n_est = 100\n",
    "lr=0.1\n",
    "rs = 1\n",
    "maxd = 4\n",
    "loss = 'squared_error'\n",
    "\n",
    "rfrModel_1 = gbr(n_estimators=n_est, learning_rate=lr, max_depth=maxd, random_state=1, loss=loss)\n",
    "print(rfrModel_1)\n",
    "mdl = \"gbr\"\n",
    "str_model = f\"rf_{mdl}_{model_data_name}_n_est_{n_est}_lr{lr}_{loss}_rs_{rs}_maxd_{maxd}_{date_time_str}\"\n",
    "print(str_model)"
   ]
  },
  {
   "cell_type": "code",
   "execution_count": null,
   "metadata": {},
   "outputs": [],
   "source": [
    "# rfrModel_1 = etr(n_estimators=100, bootstrap=True, oob_score=True,  max_features='log2', min_samples_split=1,n_jobs=-1) \n",
    "# rfrModel_1"
   ]
  },
  {
   "cell_type": "code",
   "execution_count": null,
   "metadata": {
    "scrolled": true
   },
   "outputs": [],
   "source": [
    "# rfrModel_1 = rfr(n_estimators=100, oob_score=True,  max_depth=None, max_features='log2', min_samples_split=1.0,n_jobs=-1) \n",
    "# rfrModel_1,"
   ]
  },
  {
   "cell_type": "code",
   "execution_count": null,
   "metadata": {},
   "outputs": [],
   "source": [
    "# rfrModel_1 = rfr(n_estimators=100, oob_score=True) #,  max_depth=None, max_features='log2', min_samples_split=1.0,n_jobs=-1) \n",
    "# rfrModel_1,"
   ]
  },
  {
   "cell_type": "code",
   "execution_count": null,
   "metadata": {},
   "outputs": [],
   "source": [
    "np.nan_to_num(X_1)"
   ]
  },
  {
   "cell_type": "markdown",
   "metadata": {},
   "source": [
    "### Fit random forest regressor model and compute variable importance score \n",
    "\n",
    "may need to restrict the number of variables for the bar graph to be legible\n",
    "\n"
   ]
  },
  {
   "cell_type": "code",
   "execution_count": null,
   "metadata": {},
   "outputs": [],
   "source": [
    "rfrLCHM = rfrModel_1.fit(X_1, y_1)"
   ]
  },
  {
   "cell_type": "code",
   "execution_count": null,
   "metadata": {},
   "outputs": [],
   "source": [
    "feature_importance = rfrModel_1.feature_importances_\n",
    "\n",
    "### TRY THIS\n",
    "# use \"feature importance\" scores to see what the top 10 important features are\n",
    "fi = enumerate(rfrModel_1.feature_importances_)\n",
    "cols = xdata1.columns\n",
    "fiResult = [(value,cols[i]) for (i,value) in fi]\n",
    "#fiResult = [(value,cols[i]) for (i,value) in fi if value > 0.001]\n",
    "## Change the value 0.04 which we picked empirically to give us 10 variables\n",
    "## try running this code after changing the value up and down so you get more or less variables\n",
    "## do you see how this might be useful in refining the model?\n",
    "## Here is the code in case you mess up the line above\n",
    "## [(value,cols[i]) for (i,value) in fi if value > 0.04]\n",
    "#print fiResult\n",
    "r2 = round(rfrLCHM.score(X_1, y_1), 2)\n",
    "mse = round(np.mean((y_1 - rfrLCHM.predict(X_1))**2), 2)\n",
    "# print(r2)\n",
    "# print('Fitted model r2 =' ,  format(rfrLCHM.score(X_1, y_1), '.2f'))\n",
    "# print('Fitted model mse =', format(np.mean((y_1 - rfrLCHM.predict(X_1))**2), '.2f'))\n",
    "# print('n =', len(y_1))\n",
    "plt.scatter(rfrLCHM.predict(X_1), y_1,)  \n",
    "# data for the 1 for 1 line\n",
    "x = [0,35000]\n",
    "y = [0,35000]\n",
    "\n",
    "#sets the limits of the axis\n",
    "#plt.xlim(-1,35)\n",
    "#plt.ylim(-1,35)\n",
    "\n",
    "plt.ylabel('Observed target')\n",
    "\n",
    "plt.xlabel('Predicted target')\n",
    "\n",
    "# 1 for 1 line\n",
    "#adding text inside the plot\n",
    "plt.text(100, 33000, f'$R^2 = {r2}$', fontsize = 12)\n",
    "plt.text(100, 30000, f'$MSE = {mse}$', fontsize = 12)\n",
    "plt.text(100, 27000, f'$n = {len(y_1)}$', fontsize = 12)\n",
    "\n",
    "\n",
    "plt.plot(x, y, color = 'r')\n",
    "\n",
    "plot_out = os.path.join(model_outputs, f'{str_model}_plot.jpg')\n",
    "plt.savefig(plot_out,dpi=600)# save out your figure to a pdf \n",
    "print(f\"plot saved to: {plot_out}\")\n"
   ]
  },
  {
   "cell_type": "code",
   "execution_count": null,
   "metadata": {},
   "outputs": [],
   "source": [
    "fiResult = np.array(fiResult)\n",
    "score = (fiResult[:,0])\n",
    "band = fiResult[:,1]\n",
    "a = fiResult[np.argsort(fiResult[:, 1])]\n",
    "\n",
    "df_band = pd.DataFrame(dict(band=band,n=score))\n",
    "df_band['n'].astype('float')\n",
    "dfsort = df_band.sort_values(['n'], ascending=[False])\n",
    "print(dfsort)\n",
    " \n",
    "## my complicated way to get the bar plot to sort in ascending order and display the assocated band names in the y axis\n",
    "dfsort2 = df_band.sort_values(['n'], ascending=[True])\n",
    "b = dfsort2[['band']]\n",
    "c = b.values.tolist()\n",
    "# convert the list of band names in the correct order to a string\n",
    "e = str(c)\n",
    "# strips all the rubbish from the string\n",
    "f = e.replace('[','').replace(']','').replace(\"'\",'').replace(\",\",' ')\n",
    "# convert the cleaned up string back into a list to plot the band names in the bar graph\n",
    "g = f.split()\n",
    " \n",
    "ind = np.arange(len(df_band))\n",
    "width = 0.4\n",
    " \n",
    "fig, ax = plt.subplots()\n",
    "ax.barh(ind, dfsort2.n, width, color='blue')\n",
    "ax.set(yticks=ind + width, yticklabels= g, ylim=[2*width - 1, len(df_band)])\n",
    "ax.set_xlabel('Performance')\n",
    "ax.set_ylabel('Ranked variables')\n",
    "plt.xticks(rotation='vertical')\n",
    "ax.set_title('Variable Importance Rank')\n",
    "\n",
    "plt.show()\n",
    "plot_out = os.path.join(model_outputs, f'{str_model}_feature_importance_plot.jpg')\n",
    "fig.savefig(plot_out,dpi=600)# save out your figure to a pdf "
   ]
  },
  {
   "cell_type": "code",
   "execution_count": null,
   "metadata": {},
   "outputs": [],
   "source": [
    "dfsort['n'].astype('float')\n",
    "dfsort.info()\n",
    "dfsort['n'] = dfsort['n'].astype('float')\n",
    "dfsort.info()"
   ]
  },
  {
   "cell_type": "code",
   "execution_count": null,
   "metadata": {},
   "outputs": [],
   "source": [
    "num_bf_selection = 0.01\n",
    "df_var = dfsort[dfsort['n'] > num_bf_selection]"
   ]
  },
  {
   "cell_type": "code",
   "execution_count": null,
   "metadata": {},
   "outputs": [],
   "source": [
    "column_var = df_var.band.tolist()"
   ]
  },
  {
   "cell_type": "code",
   "execution_count": null,
   "metadata": {},
   "outputs": [],
   "source": [
    "column_var.insert(0, 'target')"
   ]
  },
  {
   "cell_type": "code",
   "execution_count": null,
   "metadata": {},
   "outputs": [],
   "source": [
    "select_model_data = df_ml[column_var]"
   ]
  },
  {
   "cell_type": "code",
   "execution_count": null,
   "metadata": {},
   "outputs": [],
   "source": [
    "df_corr = select_model_data.corr()\n",
    "df_corr.to_csv(os.path.join(model_outputs, f'{str_model}_feature_imp_n_{num_bf_selection}_.csv'), index=False)\n",
    "df_corr"
   ]
  },
  {
   "cell_type": "code",
   "execution_count": null,
   "metadata": {},
   "outputs": [],
   "source": [
    "variable_imp_list = dfsort.band.to_list()"
   ]
  },
  {
   "cell_type": "code",
   "execution_count": null,
   "metadata": {},
   "outputs": [],
   "source": [
    "variable_imp_list"
   ]
  },
  {
   "cell_type": "markdown",
   "metadata": {},
   "source": [
    "### Run same model and same peramiters with selected features"
   ]
  },
  {
   "cell_type": "code",
   "execution_count": null,
   "metadata": {},
   "outputs": [],
   "source": [
    "# randomly split data into train and test datasets, the user needs to define the variables \n",
    "xdata1 = select_model_data.iloc[:, 1:].astype('float32')\n",
    "ydata1 = select_model_data[[value_x]].astype('float32')\n",
    "ydata2 = ydata1.values\n",
    "ydata = ydata2.ravel()\n",
    "\n",
    "X_1, X_2, y_1, y_2 = train_test_split(xdata1, ydata, train_size=0.70)  \n",
    "         \n",
    "print(X_1.shape, y_1.shape)\n",
    "print(X_2.shape, y_2.shape)"
   ]
  },
  {
   "cell_type": "code",
   "execution_count": null,
   "metadata": {},
   "outputs": [],
   "source": [
    "if mdl == \"abr\":\n",
    "    \n",
    "    rng = np.random.RandomState(rs)\n",
    "    rfrModel_1 = abr(dtr(max_depth=maxd), n_estimators=n_est, random_state=rng)\n",
    "    str_model = f\"rf_abr_{model_data_name}_slc_feat_n_est_{n_est}_rs_{rs}_maxd_{maxd}_{date_time_str}\"\n",
    "    print(str_model)\n",
    "\n",
    "\n",
    "elif mdl== gbr:\n",
    "    rfrModel_1 = gbr(n_estimators=n_est, learning_rate=lr, max_depth=maxd, random_state=1, loss=loss)\n",
    "    str_model = f\"rf_gbr_{model_data_name}_slc_feat_n_est_{n_est}_lr{lr}_{loss}_rs_{rs}_maxd_{maxd}_{date_time_str}\"\n",
    "    print(str_model)\n",
    "else:\n",
    "    pass\n",
    "        "
   ]
  },
  {
   "cell_type": "code",
   "execution_count": null,
   "metadata": {},
   "outputs": [],
   "source": [
    "np.nan_to_num(X_1)"
   ]
  },
  {
   "cell_type": "markdown",
   "metadata": {},
   "source": [
    "### Fit random forest regressor model and compute variable importance score \n",
    "\n",
    "may need to restrict the number of variables for the bar graph to be legible\n",
    "\n"
   ]
  },
  {
   "cell_type": "code",
   "execution_count": null,
   "metadata": {},
   "outputs": [],
   "source": [
    "rfrLCHM = rfrModel_1.fit(X_1, y_1)"
   ]
  },
  {
   "cell_type": "markdown",
   "metadata": {},
   "source": [
    "##### good info on the feature importance score - http://stackoverflow.com/questions/15810339/how-are-feature-importances-in-randomforestclassifier-determined"
   ]
  },
  {
   "cell_type": "code",
   "execution_count": null,
   "metadata": {},
   "outputs": [],
   "source": [
    "feature_importance = rfrModel_1.feature_importances_\n",
    "\n",
    "### TRY THIS\n",
    "# use \"feature importance\" scores to see what the top 10 important features are\n",
    "fi = enumerate(rfrModel_1.feature_importances_)\n",
    "cols = xdata1.columns\n",
    "fiResult = [(value,cols[i]) for (i,value) in fi]\n",
    "#fiResult = [(value,cols[i]) for (i,value) in fi if value > 0.001]\n",
    "## Change the value 0.04 which we picked empirically to give us 10 variables\n",
    "## try running this code after changing the value up and down so you get more or less variables\n",
    "## do you see how this might be useful in refining the model?\n",
    "## Here is the code in case you mess up the line above\n",
    "## [(value,cols[i]) for (i,value) in fi if value > 0.04]\n",
    "#print fiResult\n",
    "r2 = round(rfrLCHM.score(X_1, y_1), 2)\n",
    "mse = round(np.mean((y_1 - rfrLCHM.predict(X_1))**2), 2)\n",
    "# print(r2)\n",
    "# print('Fitted model r2 =' ,  format(rfrLCHM.score(X_1, y_1), '.2f'))\n",
    "# print('Fitted model mse =', format(np.mean((y_1 - rfrLCHM.predict(X_1))**2), '.2f'))\n",
    "# print('n =', len(y_1))\n",
    "plt.scatter(rfrLCHM.predict(X_1), y_1,)  \n",
    "# data for the 1 for 1 line\n",
    "x = [0,35000]\n",
    "y = [0,35000]\n",
    "\n",
    "#sets the limits of the axis\n",
    "#plt.xlim(-1,35)\n",
    "#plt.ylim(-1,35)\n",
    "\n",
    "plt.ylabel('Observed target')\n",
    "\n",
    "plt.xlabel('Predicted target')\n",
    "\n",
    "# 1 for 1 line\n",
    "#adding text inside the plot\n",
    "plt.text(100, 33000, f'$R^2 = {r2}$', fontsize = 12)\n",
    "plt.text(100, 30000, f'$MSE = {mse}$', fontsize = 12)\n",
    "plt.text(100, 27000, f'$n = {len(y_1)}$', fontsize = 12)\n",
    "\n",
    "\n",
    "plt.plot(x, y, color = 'r')\n",
    "\n",
    "plot_out = os.path.join(model_outputs, f'{str_model}_select_feat_plot.jpg')\n",
    "plt.savefig(plot_out,dpi=600)# save out your figure to a pdf \n",
    "print(f\"plot saved to: {plot_out}\")\n"
   ]
  },
  {
   "cell_type": "code",
   "execution_count": null,
   "metadata": {},
   "outputs": [],
   "source": [
    "fiResult = np.array(fiResult)\n",
    "score = (fiResult[:,0])\n",
    "band = fiResult[:,1]\n",
    "a = fiResult[np.argsort(fiResult[:, 1])]\n",
    "\n",
    "df_band = pd.DataFrame(dict(band=band,n=score))\n",
    "df_band['n'].astype('float')\n",
    "dfsort = df_band.sort_values(['n'], ascending=[False])\n",
    "print(dfsort)\n",
    " \n",
    "## my complicated way to get the bar plot to sort in ascending order and display the assocated band names in the y axis\n",
    "dfsort2 = df_band.sort_values(['n'], ascending=[True])\n",
    "b = dfsort2[['band']]\n",
    "c = b.values.tolist()\n",
    "# convert the list of band names in the correct order to a string\n",
    "e = str(c)\n",
    "# strips all the rubbish from the string\n",
    "f = e.replace('[','').replace(']','').replace(\"'\",'').replace(\",\",' ')\n",
    "# convert the cleaned up string back into a list to plot the band names in the bar graph\n",
    "g = f.split()\n",
    " \n",
    "ind = np.arange(len(df_band))\n",
    "width = 0.4\n",
    " \n",
    "fig, ax = plt.subplots()\n",
    "ax.barh(ind, dfsort2.n, width, color='blue')\n",
    "ax.set(yticks=ind + width, yticklabels= g, ylim=[2*width - 1, len(df_band)])\n",
    "ax.set_xlabel('Performance')\n",
    "ax.set_ylabel('Ranked variables')\n",
    "plt.xticks(rotation='vertical')\n",
    "ax.set_title('Variable Importance Rank')\n",
    "\n",
    "plt.show()\n",
    "plot_out = os.path.join(model_outputs, f'{str_model}_select_features_feature_importance_plot.jpg')\n",
    "fig.savefig(plot_out,dpi=600)# save out your figure to a pdf "
   ]
  },
  {
   "cell_type": "markdown",
   "metadata": {},
   "source": [
    "### Predict the selected model on the test data"
   ]
  },
  {
   "cell_type": "code",
   "execution_count": null,
   "metadata": {},
   "outputs": [],
   "source": [
    "# plt.scatter(y2_predict, y_2)\n",
    "# plt.show()"
   ]
  },
  {
   "cell_type": "code",
   "execution_count": null,
   "metadata": {},
   "outputs": [],
   "source": [
    "y2_predict = rfrLCHM.predict(X_2)\n",
    "\n",
    "print('Predicted data r2 =', rfrLCHM.score(X_2, y_2))\n",
    "print('MSE =', format(np.mean((y_2 - rfrLCHM.predict(X_2))** 2), '.3f'))\n",
    "print('RMSE =', format(np.sqrt(np.mean((y2_predict - y_2) ** 2)), '.3f'))\n",
    "#print 'explained_var =',format(explained_variance_score(y_2, y2_predict),  '.3f') \n",
    "print('bias =' , format(np.mean(y_2) - np.mean(y2_predict), '.3f'))\n",
    "print('n =' , len(y_2))\n",
    "\n",
    "\n",
    "r2 = round(rfrLCHM.score(X_1, y_1), 2)\n",
    "mse = round(np.mean((y_1 - rfrLCHM.predict(X_1))**2), 2)\n",
    "rmse = round(np.sqrt(np.mean((y2_predict - y_2) ** 2)), 2)\n",
    "bias = round(np.mean(y_2) - np.mean(y2_predict), 2)\n",
    "\n",
    "plt.scatter(y2_predict, y_2 ,s=10, c='b', marker='o')\n",
    "# data for the 1 for 1 line\n",
    "x = [-1,40000]\n",
    "y = [-1,40000]\n",
    "\n",
    "#sets the limits of the axis\n",
    "plt.xlim(-1,40000)\n",
    "plt.ylim(-1, 40000)\n",
    "plt.ylabel('Observed mean AGB')\n",
    "plt.xlabel('Predicted mean AGB')\n",
    "# 1 for 1 line\n",
    "\n",
    "#adding text inside the plot\n",
    "plt.text(300, 37000, f'$R^2 = {r2}$', fontsize = 12)\n",
    "plt.text(300, 35000, f'$MSE = {mse}$', fontsize = 12)\n",
    "plt.text(300, 33000, f'$RMSE = {mse}$', fontsize = 12)\n",
    "plt.text(300, 31000, f'$Bias = {bias}$', fontsize = 12)\n",
    "plt.text(300, 29000, f'$n = {len(y_1)}$', fontsize = 12)\n",
    "\n",
    "plt.plot(x, y, color = 'r')\n",
    "plot_out = os.path.join(model_outputs, f'{str_model}_test_data.jpg')\n",
    "fig.savefig(plot_out,dpi=600)# save out your figure to a pdf \n",
    "\n",
    "plt.show()"
   ]
  },
  {
   "cell_type": "code",
   "execution_count": null,
   "metadata": {},
   "outputs": [],
   "source": [
    "str_model"
   ]
  },
  {
   "cell_type": "code",
   "execution_count": null,
   "metadata": {},
   "outputs": [],
   "source": [
    "import numpy as np\n",
    "import matplotlib.pyplot as plt\n",
    "from scipy.stats import gaussian_kde\n",
    "\n",
    "# data to plot\n",
    "x = y2_predict\n",
    "y = y_2\n",
    "\n",
    "# Calculate the point density\n",
    "xy = np.vstack([x,y])\n",
    "z = gaussian_kde(xy)(xy)\n",
    "\n",
    "# Sort the points by density, so that the densest points are plotted last\n",
    "idx = z.argsort()\n",
    "x, y, z = x[idx], y[idx], z[idx]\n",
    "\n",
    "print(x)\n",
    "print(y)\n",
    "print(z)\n",
    "# fig, ax = plt.subplots()\n",
    "# ax.scatter(x, y, c=z, s=0.8, edgecolor='')\n",
    "\n",
    "# # data for the 1 for 1 line\n",
    "# a = [-1,25]\n",
    "# b = [-1,25]\n",
    "\n",
    "# #sets the limits of the axis\n",
    "# plt.xlim(-1,25)\n",
    "# plt.ylim(-1,25)\n",
    "# plt.ylabel('Observed mean CHM')\n",
    "# plt.xlabel('Predicted mean CHM')\n",
    "# # 1 for 1 line\n",
    "# ax.plot(a, b, color = 'black')\n",
    "\n",
    "# plt.show()"
   ]
  },
  {
   "cell_type": "code",
   "execution_count": null,
   "metadata": {},
   "outputs": [],
   "source": []
  },
  {
   "cell_type": "code",
   "execution_count": null,
   "metadata": {},
   "outputs": [],
   "source": []
  },
  {
   "cell_type": "code",
   "execution_count": null,
   "metadata": {},
   "outputs": [],
   "source": []
  },
  {
   "cell_type": "code",
   "execution_count": null,
   "metadata": {},
   "outputs": [],
   "source": []
  },
  {
   "cell_type": "code",
   "execution_count": null,
   "metadata": {},
   "outputs": [],
   "source": []
  },
  {
   "cell_type": "markdown",
   "metadata": {},
   "source": [
    "# ================================================================="
   ]
  },
  {
   "cell_type": "markdown",
   "metadata": {},
   "source": [
    "# STOP - do you realy want to save this model?"
   ]
  },
  {
   "cell_type": "markdown",
   "metadata": {},
   "source": [
    "# remember to change the cPickle file name !!"
   ]
  },
  {
   "cell_type": "markdown",
   "metadata": {},
   "source": [
    "# Save current fitted model and apply to unseen validation data "
   ]
  },
  {
   "cell_type": "code",
   "execution_count": null,
   "metadata": {},
   "outputs": [],
   "source": [
    "import pickle\n",
    "\n",
    "#rfrL8CHM = rfr()\n",
    "#rfrL8CHM.fit(X_1, y_1)\n",
    "\n",
    "pkl_out = os.path.join(model_outputs, f'rf_model_{str_model}')\n",
    "\n",
    "\n",
    "with open(pkl_out, 'wb') as f:\n",
    "    pickle.dump(rfrLCHM, f)"
   ]
  },
  {
   "cell_type": "markdown",
   "metadata": {},
   "source": [
    "## Load in unseen data here"
   ]
  },
  {
   "cell_type": "code",
   "execution_count": null,
   "metadata": {},
   "outputs": [],
   "source": [
    "# read in your validation dataset which has never been seen by rfr model - NOTE in this example I am just reading the same data used to train the model\n",
    "new_data = select_model_data\n",
    "# df = pd.read_csv(csv_file, header=0)\n",
    "# df.shape "
   ]
  },
  {
   "cell_type": "code",
   "execution_count": null,
   "metadata": {},
   "outputs": [],
   "source": [
    "c_list = new_data.columns.tolist()\n",
    "c_list"
   ]
  },
  {
   "cell_type": "code",
   "execution_count": null,
   "metadata": {},
   "outputs": [],
   "source": []
  },
  {
   "cell_type": "code",
   "execution_count": null,
   "metadata": {},
   "outputs": [],
   "source": [
    "#df1 = df[(df['comp'] == 'l57')]\n",
    "df1 = new_data[(new_data['target'] > 0.01)]\n",
    "df1.dropna(inplace=True)\n",
    "print (df1.shape)"
   ]
  },
  {
   "cell_type": "code",
   "execution_count": null,
   "metadata": {},
   "outputs": [],
   "source": [
    "df1.columns"
   ]
  },
  {
   "cell_type": "code",
   "execution_count": null,
   "metadata": {},
   "outputs": [],
   "source": [
    "column_var"
   ]
  },
  {
   "cell_type": "code",
   "execution_count": null,
   "metadata": {},
   "outputs": [],
   "source": [
    "df1[column_var].info()"
   ]
  },
  {
   "cell_type": "code",
   "execution_count": null,
   "metadata": {},
   "outputs": [],
   "source": [
    "df1"
   ]
  },
  {
   "cell_type": "code",
   "execution_count": null,
   "metadata": {},
   "outputs": [],
   "source": [
    "xdata2 = df1[column_var].astype('float32')\n",
    "xdata2.drop(\"target\", axis=1, inplace=True)\n",
    "\n",
    "ydata1 = df1[['target']].astype('float32')\n",
    "\n",
    "ydata2 = ydata1.values\n",
    "\n",
    "ydata = ydata2.ravel()\n",
    "\n",
    "print(len(ydata1))"
   ]
  },
  {
   "cell_type": "code",
   "execution_count": null,
   "metadata": {},
   "outputs": [],
   "source": [
    "xdata2"
   ]
  },
  {
   "cell_type": "code",
   "execution_count": null,
   "metadata": {},
   "outputs": [],
   "source": [
    "with open(pkl_out, 'rb') as f:\n",
    "        rf = pickle.load(f)\n",
    "\n",
    "        predicted = rf.predict(xdata2)\n",
    "\n",
    "#print 'r2 =' ,  rf.score(predicted, y_2)\n",
    "#print 'rmse =', np.sqrt(np.mean((y_2 - predicted)**2))\n",
    "#print 'n =' , len(y_2)\n",
    "\n",
    "print('Predicted data r2 =', rf.score(xdata2, ydata))\n",
    "print('MSE =', format(np.mean((ydata - rf.predict(xdata2))** 2), '.3f'))\n",
    "print('RMSE =', format(np.sqrt(np.mean((predicted - ydata) ** 2)), '.3f'))\n",
    "print('explained_var =',format(explained_variance_score(ydata, predicted),  '.3f'))\n",
    "print('bias =' , format(np.mean(ydata) - np.mean(predicted), '.3f'))\n",
    "print('n =' , len(ydata))\n",
    "\n",
    "r2 = round(rf.score(xdata2, ydata), 2)\n",
    "mse = round(np.mean((ydata - rf.predict(xdata2))** 2), 2)\n",
    "rmse = round(np.sqrt(np.mean((predicted - ydata) ** 2)), 2)\n",
    "exp_var = round(explained_variance_score(ydata, predicted), 2)\n",
    "bias = round(np.mean(ydata) - np.mean(predicted), 2)\n",
    "\n",
    "# plot up predicted and observed data \n",
    "plt.scatter(predicted, ydata,s=8, c='b', marker='o')\n",
    "\n",
    "# data for the 1 for 1 line\n",
    "x = [-1,40000]\n",
    "y = [-1,40000]\n",
    "\n",
    "#sets the limits of the axis\n",
    "plt.xlim(-1, 40000)\n",
    "plt.ylim(-1, 40000)\n",
    "\n",
    "#adding text inside the plot\n",
    "plt.text(300, 37000, f'$R^2 = {r2}$', fontsize = 12)\n",
    "plt.text(300, 35000, f'$MSE = {mse}$', fontsize = 12)\n",
    "plt.text(300, 33000, f'$RMSE = {mse}$', fontsize = 12)\n",
    "plt.text(300, 31000, f'$Bias = {bias}$', fontsize = 12)\n",
    "plt.text(300, 29000, f'$Var = {exp_var}$', fontsize = 12)\n",
    "plt.text(300, 27000, f'$n = {len(y_1)}$', fontsize = 12)\n",
    "\n",
    "# 1 for 1 line\n",
    "\n",
    "fig = plt.figure(1)\n",
    "plt.plot(x, y, color = 'black')\n",
    "\n",
    "plot_out = os.path.join(model_outputs, f'{str_model}_unseen_data.jpg')\n",
    "\n",
    "fig.savefig(plot_out,dpi=600)# save out your figure to a pdf \n",
    "\n",
    "plt.show()"
   ]
  }
 ],
 "metadata": {
  "anaconda-cloud": {},
  "kernelspec": {
   "display_name": "Python 3 (ipykernel)",
   "language": "python",
   "name": "python3"
  },
  "language_info": {
   "codemirror_mode": {
    "name": "ipython",
    "version": 3
   },
   "file_extension": ".py",
   "mimetype": "text/x-python",
   "name": "python",
   "nbconvert_exporter": "python",
   "pygments_lexer": "ipython3",
   "version": "3.8.16"
  }
 },
 "nbformat": 4,
 "nbformat_minor": 1
}
