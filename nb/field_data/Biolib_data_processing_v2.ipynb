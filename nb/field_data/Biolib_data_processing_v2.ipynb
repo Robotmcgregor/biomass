{
 "cells": [
  {
   "cell_type": "markdown",
   "metadata": {},
   "source": [
    "# Biolib_data_processing_v2"
   ]
  },
  {
   "cell_type": "markdown",
   "metadata": {},
   "source": [
    "This notebook removes duplicates, converts biomass from Mg ha-1 to Kg ha-1 and re-formats data to meet the zonal stats requirements.\n",
    "This data to be used to validate and /or train model development.\n",
    "\n",
    "[data:](https://researchdata.edu.au/biomass-plot-library-field-sites/1884792?source=suggested_datasets)\n",
    "\n",
    "[metadata:](https://object-store.rc.nectar.org.au/v1/AUTH_05bca33fce34447ba7033b9305947f11/data_submission_tool_attachments/fc4a7249-ebb2-4ada-8e06-b552bfb297a3/biomass_library_site_level_attributes.txt)\n",
    "\n",
    "env: biomass_zonal"
   ]
  },
  {
   "cell_type": "code",
   "execution_count": 1,
   "metadata": {},
   "outputs": [],
   "source": [
    "import pandas as pd\n",
    "import geopandas as gpd\n",
    "import os"
   ]
  },
  {
   "cell_type": "code",
   "execution_count": 2,
   "metadata": {},
   "outputs": [
    {
     "name": "stdout",
     "output_type": "stream",
     "text": [
      "20230407\n",
      "20230407_083249\n"
     ]
    }
   ],
   "source": [
    "from datetime import datetime\n",
    "\n",
    "# datetime object containing current date and time\n",
    "now = datetime.now()\n",
    " \n",
    "date_str = now.strftime(\"%Y%m%d\")\n",
    "date_time_str = now.strftime(\"%Y%m%d_%H%M%S\")\n",
    "print(date_str)\n",
    "print(date_time_str)"
   ]
  },
  {
   "cell_type": "code",
   "execution_count": 3,
   "metadata": {},
   "outputs": [],
   "source": [
    "\n",
    "drive = \"G\"\n",
    "\n",
    "dir_ = r\"{0}:\\cdu\\data\\tern_data\".format(drive)\n",
    "output_dir = r\"{0}:\\cdu\\data\\output\\{1}\".format(drive, date_str)\n",
    "output_dir2 = r\"X:\\PGB\\RSU\\scratch\\rob\\tern\\data\\outputs\"\n"
   ]
  },
  {
   "cell_type": "code",
   "execution_count": 4,
   "metadata": {},
   "outputs": [],
   "source": [
    "def mk_dir_fn(dir_):\n",
    "    if not os.path.isdir(dir_):\n",
    "        os.mkdir(dir_)"
   ]
  },
  {
   "cell_type": "code",
   "execution_count": 5,
   "metadata": {},
   "outputs": [],
   "source": [
    "mk_dir_fn(output_dir)"
   ]
  },
  {
   "cell_type": "code",
   "execution_count": 6,
   "metadata": {},
   "outputs": [
    {
     "data": {
      "text/plain": [
       "(1775, 25)"
      ]
     },
     "execution_count": 6,
     "metadata": {},
     "output_type": "execute_result"
    }
   ],
   "source": [
    "data = pd.read_csv(os.path.join(dir_, \"biolib_sitelist.csv\"))\n",
    "data.shape"
   ]
  },
  {
   "cell_type": "code",
   "execution_count": 7,
   "metadata": {},
   "outputs": [],
   "source": [
    "data.drop_duplicates(subset=[\"obs_key\"], inplace=True)"
   ]
  },
  {
   "cell_type": "code",
   "execution_count": 8,
   "metadata": {},
   "outputs": [
    {
     "data": {
      "text/plain": [
       "(892, 25)"
      ]
     },
     "execution_count": 8,
     "metadata": {},
     "output_type": "execute_result"
    }
   ],
   "source": [
    "data.shape"
   ]
  },
  {
   "cell_type": "code",
   "execution_count": 9,
   "metadata": {},
   "outputs": [
    {
     "name": "stdout",
     "output_type": "stream",
     "text": [
      "<class 'pandas.core.frame.DataFrame'>\n",
      "Int64Index: 892 entries, 0 to 1773\n",
      "Data columns (total 25 columns):\n",
      " #   Column                Non-Null Count  Dtype  \n",
      "---  ------                --------------  -----  \n",
      " 0   FID                   892 non-null    object \n",
      " 1   obs_key               892 non-null    object \n",
      " 2   source                892 non-null    object \n",
      " 3   project               892 non-null    object \n",
      " 4   site                  892 non-null    object \n",
      " 5   estsurvey             892 non-null    object \n",
      " 6   estdate               892 non-null    object \n",
      " 7   survey                892 non-null    object \n",
      " 8   obs_time              892 non-null    object \n",
      " 9   nplots                892 non-null    int64  \n",
      " 10  sampledarea_ha        883 non-null    float64\n",
      " 11  sitearea_ha           892 non-null    float64\n",
      " 12  sitedmin              892 non-null    int64  \n",
      " 13  geom                  892 non-null    object \n",
      " 14  longitude             892 non-null    float64\n",
      " 15  latitude              892 non-null    float64\n",
      " 16  live_basal_area_ha    884 non-null    float64\n",
      " 17  dead_basal_area_ha    884 non-null    float64\n",
      " 18  live_tree_density_ha  884 non-null    float64\n",
      " 19  dead_tree_density_ha  884 non-null    float64\n",
      " 20  agb_drymass_ha        883 non-null    float64\n",
      " 21  bgb_drymass_ha        883 non-null    float64\n",
      " 22  tb_drymass_ha         883 non-null    float64\n",
      " 23  universal_agb         883 non-null    float64\n",
      " 24  universal_count       883 non-null    float64\n",
      "dtypes: float64(13), int64(2), object(10)\n",
      "memory usage: 181.2+ KB\n"
     ]
    }
   ],
   "source": [
    "data.info()"
   ]
  },
  {
   "cell_type": "code",
   "execution_count": 10,
   "metadata": {},
   "outputs": [],
   "source": [
    "am_date_list = []\n",
    "for i in data.obs_time:\n",
    "    dt = datetime.strptime(i, '%m/%d/%Y')\n",
    "    am_date = dt.strftime(\"%Y%m%d\")\n",
    "    am_date_list.append(am_date)"
   ]
  },
  {
   "cell_type": "code",
   "execution_count": 11,
   "metadata": {},
   "outputs": [],
   "source": [
    "dict_ = {\"uid\": data.index+1,\n",
    "         \"site\": data.site,\n",
    "        \"date\": am_date_list,\n",
    "        \"lon_gda94\": data.longitude,\n",
    "        \"lat_gda94\": data.latitude,\n",
    "        \"bio_agb_kg1ha\": data.agb_drymass_ha*1000,\n",
    "       \"bio_bgb_kg1ha\": data.bgb_drymass_ha*1000,\n",
    "        \"bio_tb_kg1ha\": data.tb_drymass_ha*1000\n",
    "        }"
   ]
  },
  {
   "cell_type": "code",
   "execution_count": 12,
   "metadata": {},
   "outputs": [
    {
     "data": {
      "text/html": [
       "<div>\n",
       "<style scoped>\n",
       "    .dataframe tbody tr th:only-of-type {\n",
       "        vertical-align: middle;\n",
       "    }\n",
       "\n",
       "    .dataframe tbody tr th {\n",
       "        vertical-align: top;\n",
       "    }\n",
       "\n",
       "    .dataframe thead th {\n",
       "        text-align: right;\n",
       "    }\n",
       "</style>\n",
       "<table border=\"1\" class=\"dataframe\">\n",
       "  <thead>\n",
       "    <tr style=\"text-align: right;\">\n",
       "      <th></th>\n",
       "      <th>uid</th>\n",
       "      <th>site</th>\n",
       "      <th>date</th>\n",
       "      <th>lon_gda94</th>\n",
       "      <th>lat_gda94</th>\n",
       "      <th>bio_agb_kg1ha</th>\n",
       "      <th>bio_bgb_kg1ha</th>\n",
       "      <th>bio_tb_kg1ha</th>\n",
       "    </tr>\n",
       "  </thead>\n",
       "  <tbody>\n",
       "    <tr>\n",
       "      <th>0</th>\n",
       "      <td>1</td>\n",
       "      <td>AdelaideRiver</td>\n",
       "      <td>20080905</td>\n",
       "      <td>131.1178</td>\n",
       "      <td>-13.0769</td>\n",
       "      <td>29730.0</td>\n",
       "      <td>7512.8</td>\n",
       "      <td>37242.8</td>\n",
       "    </tr>\n",
       "    <tr>\n",
       "      <th>2</th>\n",
       "      <td>3</td>\n",
       "      <td>DalyRegrowth</td>\n",
       "      <td>20080901</td>\n",
       "      <td>131.3828</td>\n",
       "      <td>-14.1306</td>\n",
       "      <td>1723.1</td>\n",
       "      <td>561.8</td>\n",
       "      <td>2284.9</td>\n",
       "    </tr>\n",
       "    <tr>\n",
       "      <th>4</th>\n",
       "      <td>5</td>\n",
       "      <td>DalyUncleared</td>\n",
       "      <td>20080908</td>\n",
       "      <td>131.3881</td>\n",
       "      <td>-14.1592</td>\n",
       "      <td>31001.3</td>\n",
       "      <td>9080.9</td>\n",
       "      <td>40082.2</td>\n",
       "    </tr>\n",
       "    <tr>\n",
       "      <th>6</th>\n",
       "      <td>7</td>\n",
       "      <td>DryRiver</td>\n",
       "      <td>20080912</td>\n",
       "      <td>132.3706</td>\n",
       "      <td>-15.2588</td>\n",
       "      <td>31779.4</td>\n",
       "      <td>9032.0</td>\n",
       "      <td>40811.3</td>\n",
       "    </tr>\n",
       "    <tr>\n",
       "      <th>8</th>\n",
       "      <td>9</td>\n",
       "      <td>HowardSprings</td>\n",
       "      <td>20080903</td>\n",
       "      <td>131.1525</td>\n",
       "      <td>-12.4942</td>\n",
       "      <td>17624.3</td>\n",
       "      <td>4917.4</td>\n",
       "      <td>22541.7</td>\n",
       "    </tr>\n",
       "    <tr>\n",
       "      <th>...</th>\n",
       "      <td>...</td>\n",
       "      <td>...</td>\n",
       "      <td>...</td>\n",
       "      <td>...</td>\n",
       "      <td>...</td>\n",
       "      <td>...</td>\n",
       "      <td>...</td>\n",
       "      <td>...</td>\n",
       "    </tr>\n",
       "    <tr>\n",
       "      <th>1765</th>\n",
       "      <td>1766</td>\n",
       "      <td>RAN6</td>\n",
       "      <td>20060101</td>\n",
       "      <td>132.9074</td>\n",
       "      <td>-12.6900</td>\n",
       "      <td>554.0</td>\n",
       "      <td>190.7</td>\n",
       "      <td>744.6</td>\n",
       "    </tr>\n",
       "    <tr>\n",
       "      <th>1767</th>\n",
       "      <td>1768</td>\n",
       "      <td>RAN7</td>\n",
       "      <td>20060101</td>\n",
       "      <td>132.9130</td>\n",
       "      <td>-12.6932</td>\n",
       "      <td>55625.0</td>\n",
       "      <td>16076.0</td>\n",
       "      <td>71701.1</td>\n",
       "    </tr>\n",
       "    <tr>\n",
       "      <th>1769</th>\n",
       "      <td>1770</td>\n",
       "      <td>RAN8</td>\n",
       "      <td>20060101</td>\n",
       "      <td>132.9128</td>\n",
       "      <td>-12.6930</td>\n",
       "      <td>39946.5</td>\n",
       "      <td>12616.6</td>\n",
       "      <td>52563.0</td>\n",
       "    </tr>\n",
       "    <tr>\n",
       "      <th>1771</th>\n",
       "      <td>1772</td>\n",
       "      <td>RAN9</td>\n",
       "      <td>20060101</td>\n",
       "      <td>132.9128</td>\n",
       "      <td>-12.6934</td>\n",
       "      <td>8858.0</td>\n",
       "      <td>3016.7</td>\n",
       "      <td>11874.7</td>\n",
       "    </tr>\n",
       "    <tr>\n",
       "      <th>1773</th>\n",
       "      <td>1774</td>\n",
       "      <td>Litchfield</td>\n",
       "      <td>20130820</td>\n",
       "      <td>130.7944</td>\n",
       "      <td>-13.1791</td>\n",
       "      <td>7345.3</td>\n",
       "      <td>2042.7</td>\n",
       "      <td>9388.0</td>\n",
       "    </tr>\n",
       "  </tbody>\n",
       "</table>\n",
       "<p>892 rows × 8 columns</p>\n",
       "</div>"
      ],
      "text/plain": [
       "       uid           site      date  lon_gda94  lat_gda94  bio_agb_kg1ha  \\\n",
       "0        1  AdelaideRiver  20080905   131.1178   -13.0769        29730.0   \n",
       "2        3   DalyRegrowth  20080901   131.3828   -14.1306         1723.1   \n",
       "4        5  DalyUncleared  20080908   131.3881   -14.1592        31001.3   \n",
       "6        7       DryRiver  20080912   132.3706   -15.2588        31779.4   \n",
       "8        9  HowardSprings  20080903   131.1525   -12.4942        17624.3   \n",
       "...    ...            ...       ...        ...        ...            ...   \n",
       "1765  1766           RAN6  20060101   132.9074   -12.6900          554.0   \n",
       "1767  1768           RAN7  20060101   132.9130   -12.6932        55625.0   \n",
       "1769  1770           RAN8  20060101   132.9128   -12.6930        39946.5   \n",
       "1771  1772           RAN9  20060101   132.9128   -12.6934         8858.0   \n",
       "1773  1774     Litchfield  20130820   130.7944   -13.1791         7345.3   \n",
       "\n",
       "      bio_bgb_kg1ha  bio_tb_kg1ha  \n",
       "0            7512.8       37242.8  \n",
       "2             561.8        2284.9  \n",
       "4            9080.9       40082.2  \n",
       "6            9032.0       40811.3  \n",
       "8            4917.4       22541.7  \n",
       "...             ...           ...  \n",
       "1765          190.7         744.6  \n",
       "1767        16076.0       71701.1  \n",
       "1769        12616.6       52563.0  \n",
       "1771         3016.7       11874.7  \n",
       "1773         2042.7        9388.0  \n",
       "\n",
       "[892 rows x 8 columns]"
      ]
     },
     "execution_count": 12,
     "metadata": {},
     "output_type": "execute_result"
    }
   ],
   "source": [
    "df = pd.DataFrame(dict_)\n",
    "df"
   ]
  },
  {
   "cell_type": "code",
   "execution_count": 13,
   "metadata": {},
   "outputs": [
    {
     "name": "stdout",
     "output_type": "stream",
     "text": [
      "Data exported here: G:\\cdu\\data\\output\\20230407\\biolib_agb.csv\n"
     ]
    }
   ],
   "source": [
    "# output to external drive\n",
    "out = os.path.join(output_dir, \"biolib_agb.csv\")\n",
    "df.to_csv(out, index=False)\n",
    "print(f\"Data exported here: {out}\")"
   ]
  },
  {
   "cell_type": "code",
   "execution_count": 14,
   "metadata": {},
   "outputs": [],
   "source": [
    "# output to internal RSU drive\n",
    "# out = os.path.join(output_dir2, \"biolib_agb.csv\")\n",
    "# df.to_csv(out, index=False)\n",
    "# print(f\"Data exported here: {out}\")"
   ]
  }
 ],
 "metadata": {
  "kernelspec": {
   "display_name": "Python 3",
   "language": "python",
   "name": "python3"
  },
  "language_info": {
   "codemirror_mode": {
    "name": "ipython",
    "version": 3
   },
   "file_extension": ".py",
   "mimetype": "text/x-python",
   "name": "python",
   "nbconvert_exporter": "python",
   "pygments_lexer": "ipython3",
   "version": "3.7.7"
  }
 },
 "nbformat": 4,
 "nbformat_minor": 4
}
