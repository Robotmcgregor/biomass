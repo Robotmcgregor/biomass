{
 "cells": [
  {
   "cell_type": "markdown",
   "metadata": {},
   "source": [
    "# Biolib_data_processing_v2"
   ]
  },
  {
   "cell_type": "markdown",
   "metadata": {},
   "source": [
    "This notebook removes duplicates, converts biomass from Mg ha-1 to Kg ha-1 and re-formats data to meet the zonal stats requirements.\n",
    "This data to be used to validate and /or train model development.\n",
    "\n",
    "[data:](https://researchdata.edu.au/biomass-plot-library-field-sites/1884792?source=suggested_datasets)\n",
    "\n",
    "[metadata:](https://object-store.rc.nectar.org.au/v1/AUTH_05bca33fce34447ba7033b9305947f11/data_submission_tool_attachments/fc4a7249-ebb2-4ada-8e06-b552bfb297a3/biomass_library_site_level_attributes.txt)\n",
    "\n",
    "env: biomass_zonal"
   ]
  },
  {
   "cell_type": "code",
   "execution_count": 1,
   "metadata": {},
   "outputs": [],
   "source": [
    "import pandas as pd\n",
    "import geopandas as gpd\n",
    "import os\n",
    "import pandas as pd\n",
    "# Disable scientific notation for pandas DataFrames\n",
    "pd.set_option('display.float_format', lambda x: '%.6f' % x)"
   ]
  },
  {
   "cell_type": "code",
   "execution_count": 2,
   "metadata": {},
   "outputs": [
    {
     "name": "stdout",
     "output_type": "stream",
     "text": [
      "20240929\n",
      "20240929_094308\n"
     ]
    }
   ],
   "source": [
    "from datetime import datetime\n",
    "\n",
    "# datetime object containing current date and time\n",
    "now = datetime.now()\n",
    " \n",
    "date_str = now.strftime(\"%Y%m%d\")\n",
    "date_time_str = now.strftime(\"%Y%m%d_%H%M%S\")\n",
    "print(date_str)\n",
    "print(date_time_str)"
   ]
  },
  {
   "cell_type": "code",
   "execution_count": 3,
   "metadata": {},
   "outputs": [],
   "source": [
    "\n",
    "drive = \"C\"\n",
    "\n",
    "dir_ = r\"{0}:\\Users\\robot\\projects\\biomass\\field_sites\\biolib\".format(drive)\n",
    "output_dir = r\"{0}:\\Users\\robot\\projects\\biomass\\agb\\{1}\".format(drive, date_str)\n",
    "#output_dir2 = r\"X:\\PGB\\RSU\\scratch\\rob\\tern\\data\\outputs\"\n"
   ]
  },
  {
   "cell_type": "code",
   "execution_count": 4,
   "metadata": {},
   "outputs": [],
   "source": [
    "def mk_dir_fn(dir_):\n",
    "    if not os.path.isdir(dir_):\n",
    "        os.mkdir(dir_)"
   ]
  },
  {
   "cell_type": "code",
   "execution_count": 5,
   "metadata": {},
   "outputs": [],
   "source": [
    "mk_dir_fn(output_dir)"
   ]
  },
  {
   "cell_type": "code",
   "execution_count": 6,
   "metadata": {},
   "outputs": [
    {
     "name": "stdout",
     "output_type": "stream",
     "text": [
      "C:\\Users\\robot\\projects\\biomass\\field_sites\\biolib\\biolib_sitelist.csv\n"
     ]
    },
    {
     "data": {
      "text/plain": [
       "(1777, 24)"
      ]
     },
     "execution_count": 6,
     "metadata": {},
     "output_type": "execute_result"
    }
   ],
   "source": [
    "data_csv = os.path.join(dir_, \"biolib_sitelist.csv\")\n",
    "print(data_csv)\n",
    "data = pd.read_csv(data_csv)\n",
    "data.shape"
   ]
  },
  {
   "cell_type": "code",
   "execution_count": 7,
   "metadata": {},
   "outputs": [],
   "source": [
    "data.drop_duplicates(subset=[\"obs_key\"], inplace=True)"
   ]
  },
  {
   "cell_type": "code",
   "execution_count": 8,
   "metadata": {},
   "outputs": [
    {
     "data": {
      "text/plain": [
       "(893, 24)"
      ]
     },
     "execution_count": 8,
     "metadata": {},
     "output_type": "execute_result"
    }
   ],
   "source": [
    "data.shape"
   ]
  },
  {
   "cell_type": "code",
   "execution_count": 9,
   "metadata": {},
   "outputs": [
    {
     "name": "stdout",
     "output_type": "stream",
     "text": [
      "<class 'pandas.core.frame.DataFrame'>\n",
      "Int64Index: 893 entries, 0 to 1775\n",
      "Data columns (total 24 columns):\n",
      " #   Column                Non-Null Count  Dtype  \n",
      "---  ------                --------------  -----  \n",
      " 0   FID                   893 non-null    object \n",
      " 1   obs_key               893 non-null    object \n",
      " 2   source                893 non-null    object \n",
      " 3   project               893 non-null    object \n",
      " 4   site                  893 non-null    object \n",
      " 5   estsurvey             893 non-null    object \n",
      " 6   date                  893 non-null    int64  \n",
      " 7   nplots                893 non-null    int64  \n",
      " 8   sampledarea_ha        884 non-null    float64\n",
      " 9   sitearea_ha           893 non-null    float64\n",
      " 10  sitedmin              893 non-null    int64  \n",
      " 11  geom                  893 non-null    object \n",
      " 12  longitude             893 non-null    float64\n",
      " 13  latitude              893 non-null    float64\n",
      " 14  live_basal_area_ha    885 non-null    float64\n",
      " 15  dead_basal_area_ha    885 non-null    float64\n",
      " 16  live_tree_density_ha  885 non-null    float64\n",
      " 17  dead_tree_density_ha  885 non-null    float64\n",
      " 18  agb_drymass_ha        884 non-null    float64\n",
      " 19  bgb_drymass_ha        884 non-null    float64\n",
      " 20  tb_drymass_ha         884 non-null    float64\n",
      " 21  ammended_AGB_ha       893 non-null    float64\n",
      " 22  universal_agb         884 non-null    float64\n",
      " 23  universal_count       884 non-null    float64\n",
      "dtypes: float64(14), int64(3), object(7)\n",
      "memory usage: 174.4+ KB\n"
     ]
    }
   ],
   "source": [
    "data.info()"
   ]
  },
  {
   "cell_type": "code",
   "execution_count": 10,
   "metadata": {},
   "outputs": [],
   "source": [
    "# am_date_list = []\n",
    "# for i in data.date:\n",
    "#     dt = datetime.strptime(i, '%Y%m%Y')\n",
    "#     am_date = dt.strftime(\"%Y%m%d\")\n",
    "#     am_date_list.append(am_date)"
   ]
  },
  {
   "cell_type": "code",
   "execution_count": 11,
   "metadata": {},
   "outputs": [],
   "source": [
    "\n",
    "# dict_ = {\n",
    "#     \"uid\": data.index + 1,\n",
    "#     \"site\": data.site + data.date.astype(str) + \"_\" + data.date.astype(str).str[:4],  # Concatenate site and date with no space\n",
    "#     \"site_name\": data.site,\n",
    "#     \"date\": data.date,\n",
    "#     \"year\": data.date.astype(str).str[:4],  # Convert to string and take the first 4 characters\n",
    "#     \"site_size\": data.sitearea_ha,\n",
    "#     \"lon_gda94\": data.longitude,\n",
    "#     \"lat_gda94\": data.latitude,\n",
    "#     \"bio_agb_kg1ha\": data.agb_drymass_ha * (1000 / data.sitearea_ha),  # Normalize to 1 ha if tones/ha\n",
    "#     \"bio_bgb_kg1ha\": data.bgb_drymass_ha * (1000 / data.sitearea_ha),  # Normalize to 1 ha\n",
    "#     \"bio_tb_kg1ha\": data.tb_drymass_ha * (1000 / data.sitearea_ha)     # Normalize to 1 ha\n",
    "# }\n",
    "\n",
    "#     \"bio_agb_kg1ha\": data.agb_drymass_ha / data.sitearea_ha,  if it is kg/ha \n",
    "#     \"bio_bgb_kg1ha\": data.bgb_drymass_ha / data.sitearea_ha,  \n",
    "#     \"bio_tb_kg1ha\": data.tb_drymass_ha / data.sitearea_ha    "
   ]
  },
  {
   "cell_type": "code",
   "execution_count": 16,
   "metadata": {},
   "outputs": [],
   "source": [
    "dict_ = {\n",
    "    \"uid\": data.index + 1,\n",
    "    \"site\": data.site + data.date.astype(str) + \"_\" + data.date.astype(str).str[:4],  # Concatenate site and date with no space\n",
    "    \"site_clean\": data.site + data.date.astype(str),\n",
    "    \"site_name\": data.site,\n",
    "    \"date\": data.date,\n",
    "    \"year\": data.date.astype(str).str[:4],  # Convert to string and take the first 4 characters\n",
    "    \"site_size\": data.sitearea_ha,\n",
    "    \"lon_gda94\": data.longitude,\n",
    "    \"lat_gda94\": data.latitude,\n",
    "    \"orig\": data.agb_drymass_ha,\n",
    "    #\"bio_agb_kg1ha\": (data.agb_drymass_ha / data.sitearea_ha) * 1000,  # Mg ha-1 to kg ha-1\n",
    "    #Use case: When you want to convert the biomass to kg/ha for standard hectare units (adjusted by site area).\n",
    "    #\"bio_agb_kg1ha\": data.agb_drymass_ha * data.sitearea_ha * 1000,  # Mg ha-1 to kg ha-1 for the site size\n",
    "    #Use case: When you want the total biomass in kilograms for the whole site, not normalized by hectare.\n",
    "    \n",
    "    \"bio_agb_kg1ha\": data.agb_drymass_ha * 1000,  # Mg ha-1 to kg ha-1\n",
    "    #Use case: When the biomass is already per hectare, and you simply want to convert units from Mg/ha to kg/ha without any site-specific adjustments.\n",
    "    \"univ_agb\": data.universal_agb *1000\n",
    "\n",
    "}"
   ]
  },
  {
   "cell_type": "code",
   "execution_count": 17,
   "metadata": {},
   "outputs": [
    {
     "data": {
      "text/html": [
       "<div>\n",
       "<style scoped>\n",
       "    .dataframe tbody tr th:only-of-type {\n",
       "        vertical-align: middle;\n",
       "    }\n",
       "\n",
       "    .dataframe tbody tr th {\n",
       "        vertical-align: top;\n",
       "    }\n",
       "\n",
       "    .dataframe thead th {\n",
       "        text-align: right;\n",
       "    }\n",
       "</style>\n",
       "<table border=\"1\" class=\"dataframe\">\n",
       "  <thead>\n",
       "    <tr style=\"text-align: right;\">\n",
       "      <th></th>\n",
       "      <th>uid</th>\n",
       "      <th>site</th>\n",
       "      <th>site_clean</th>\n",
       "      <th>site_name</th>\n",
       "      <th>date</th>\n",
       "      <th>year</th>\n",
       "      <th>site_size</th>\n",
       "      <th>lon_gda94</th>\n",
       "      <th>lat_gda94</th>\n",
       "      <th>orig</th>\n",
       "      <th>bio_agb_kg1ha</th>\n",
       "      <th>univ_agb</th>\n",
       "    </tr>\n",
       "  </thead>\n",
       "  <tbody>\n",
       "    <tr>\n",
       "      <th>0</th>\n",
       "      <td>1</td>\n",
       "      <td>AdelaideRiver20080905_2008</td>\n",
       "      <td>AdelaideRiver20080905</td>\n",
       "      <td>AdelaideRiver</td>\n",
       "      <td>20080905</td>\n",
       "      <td>2008</td>\n",
       "      <td>1.000000</td>\n",
       "      <td>131.117800</td>\n",
       "      <td>-13.076900</td>\n",
       "      <td>29.730000</td>\n",
       "      <td>29730.000000</td>\n",
       "      <td>0.000000</td>\n",
       "    </tr>\n",
       "    <tr>\n",
       "      <th>2</th>\n",
       "      <td>3</td>\n",
       "      <td>DalyRegrowth20080901_2008</td>\n",
       "      <td>DalyRegrowth20080901</td>\n",
       "      <td>DalyRegrowth</td>\n",
       "      <td>20080901</td>\n",
       "      <td>2008</td>\n",
       "      <td>1.000000</td>\n",
       "      <td>131.382800</td>\n",
       "      <td>-14.130600</td>\n",
       "      <td>1.723100</td>\n",
       "      <td>1723.100000</td>\n",
       "      <td>0.000000</td>\n",
       "    </tr>\n",
       "    <tr>\n",
       "      <th>4</th>\n",
       "      <td>5</td>\n",
       "      <td>DalyUncleared20080908_2008</td>\n",
       "      <td>DalyUncleared20080908</td>\n",
       "      <td>DalyUncleared</td>\n",
       "      <td>20080908</td>\n",
       "      <td>2008</td>\n",
       "      <td>1.000000</td>\n",
       "      <td>131.388100</td>\n",
       "      <td>-14.159200</td>\n",
       "      <td>31.001300</td>\n",
       "      <td>31001.300000</td>\n",
       "      <td>0.000000</td>\n",
       "    </tr>\n",
       "    <tr>\n",
       "      <th>6</th>\n",
       "      <td>7</td>\n",
       "      <td>DryRiver20080912_2008</td>\n",
       "      <td>DryRiver20080912</td>\n",
       "      <td>DryRiver</td>\n",
       "      <td>20080912</td>\n",
       "      <td>2008</td>\n",
       "      <td>1.000000</td>\n",
       "      <td>132.370600</td>\n",
       "      <td>-15.258800</td>\n",
       "      <td>31.779400</td>\n",
       "      <td>31779.400000</td>\n",
       "      <td>0.000000</td>\n",
       "    </tr>\n",
       "    <tr>\n",
       "      <th>8</th>\n",
       "      <td>9</td>\n",
       "      <td>HowardSprings20080903_2008</td>\n",
       "      <td>HowardSprings20080903</td>\n",
       "      <td>HowardSprings</td>\n",
       "      <td>20080903</td>\n",
       "      <td>2008</td>\n",
       "      <td>1.000000</td>\n",
       "      <td>131.152500</td>\n",
       "      <td>-12.494200</td>\n",
       "      <td>17.624300</td>\n",
       "      <td>17624.300000</td>\n",
       "      <td>0.000000</td>\n",
       "    </tr>\n",
       "    <tr>\n",
       "      <th>...</th>\n",
       "      <td>...</td>\n",
       "      <td>...</td>\n",
       "      <td>...</td>\n",
       "      <td>...</td>\n",
       "      <td>...</td>\n",
       "      <td>...</td>\n",
       "      <td>...</td>\n",
       "      <td>...</td>\n",
       "      <td>...</td>\n",
       "      <td>...</td>\n",
       "      <td>...</td>\n",
       "      <td>...</td>\n",
       "    </tr>\n",
       "    <tr>\n",
       "      <th>1767</th>\n",
       "      <td>1768</td>\n",
       "      <td>RAN620060101_2006</td>\n",
       "      <td>RAN620060101</td>\n",
       "      <td>RAN6</td>\n",
       "      <td>20060101</td>\n",
       "      <td>2006</td>\n",
       "      <td>0.090000</td>\n",
       "      <td>132.907400</td>\n",
       "      <td>-12.690000</td>\n",
       "      <td>0.554000</td>\n",
       "      <td>554.000000</td>\n",
       "      <td>0.000000</td>\n",
       "    </tr>\n",
       "    <tr>\n",
       "      <th>1769</th>\n",
       "      <td>1770</td>\n",
       "      <td>RAN720060101_2006</td>\n",
       "      <td>RAN720060101</td>\n",
       "      <td>RAN7</td>\n",
       "      <td>20060101</td>\n",
       "      <td>2006</td>\n",
       "      <td>0.090000</td>\n",
       "      <td>132.913000</td>\n",
       "      <td>-12.693200</td>\n",
       "      <td>55.625000</td>\n",
       "      <td>55625.000000</td>\n",
       "      <td>0.000000</td>\n",
       "    </tr>\n",
       "    <tr>\n",
       "      <th>1771</th>\n",
       "      <td>1772</td>\n",
       "      <td>RAN820060101_2006</td>\n",
       "      <td>RAN820060101</td>\n",
       "      <td>RAN8</td>\n",
       "      <td>20060101</td>\n",
       "      <td>2006</td>\n",
       "      <td>0.090000</td>\n",
       "      <td>132.912800</td>\n",
       "      <td>-12.693000</td>\n",
       "      <td>39.946500</td>\n",
       "      <td>39946.500000</td>\n",
       "      <td>0.000000</td>\n",
       "    </tr>\n",
       "    <tr>\n",
       "      <th>1773</th>\n",
       "      <td>1774</td>\n",
       "      <td>RAN920060101_2006</td>\n",
       "      <td>RAN920060101</td>\n",
       "      <td>RAN9</td>\n",
       "      <td>20060101</td>\n",
       "      <td>2006</td>\n",
       "      <td>0.090000</td>\n",
       "      <td>132.912800</td>\n",
       "      <td>-12.693400</td>\n",
       "      <td>8.858000</td>\n",
       "      <td>8858.000000</td>\n",
       "      <td>0.000000</td>\n",
       "    </tr>\n",
       "    <tr>\n",
       "      <th>1775</th>\n",
       "      <td>1776</td>\n",
       "      <td>Litchfield20130820_2013</td>\n",
       "      <td>Litchfield20130820</td>\n",
       "      <td>Litchfield</td>\n",
       "      <td>20130820</td>\n",
       "      <td>2013</td>\n",
       "      <td>1.000000</td>\n",
       "      <td>130.794400</td>\n",
       "      <td>-13.179100</td>\n",
       "      <td>7.345300</td>\n",
       "      <td>7345.300000</td>\n",
       "      <td>0.000000</td>\n",
       "    </tr>\n",
       "  </tbody>\n",
       "</table>\n",
       "<p>893 rows × 12 columns</p>\n",
       "</div>"
      ],
      "text/plain": [
       "       uid                        site             site_clean      site_name  \\\n",
       "0        1  AdelaideRiver20080905_2008  AdelaideRiver20080905  AdelaideRiver   \n",
       "2        3   DalyRegrowth20080901_2008   DalyRegrowth20080901   DalyRegrowth   \n",
       "4        5  DalyUncleared20080908_2008  DalyUncleared20080908  DalyUncleared   \n",
       "6        7       DryRiver20080912_2008       DryRiver20080912       DryRiver   \n",
       "8        9  HowardSprings20080903_2008  HowardSprings20080903  HowardSprings   \n",
       "...    ...                         ...                    ...            ...   \n",
       "1767  1768           RAN620060101_2006           RAN620060101           RAN6   \n",
       "1769  1770           RAN720060101_2006           RAN720060101           RAN7   \n",
       "1771  1772           RAN820060101_2006           RAN820060101           RAN8   \n",
       "1773  1774           RAN920060101_2006           RAN920060101           RAN9   \n",
       "1775  1776     Litchfield20130820_2013     Litchfield20130820     Litchfield   \n",
       "\n",
       "          date  year  site_size  lon_gda94  lat_gda94      orig  \\\n",
       "0     20080905  2008   1.000000 131.117800 -13.076900 29.730000   \n",
       "2     20080901  2008   1.000000 131.382800 -14.130600  1.723100   \n",
       "4     20080908  2008   1.000000 131.388100 -14.159200 31.001300   \n",
       "6     20080912  2008   1.000000 132.370600 -15.258800 31.779400   \n",
       "8     20080903  2008   1.000000 131.152500 -12.494200 17.624300   \n",
       "...        ...   ...        ...        ...        ...       ...   \n",
       "1767  20060101  2006   0.090000 132.907400 -12.690000  0.554000   \n",
       "1769  20060101  2006   0.090000 132.913000 -12.693200 55.625000   \n",
       "1771  20060101  2006   0.090000 132.912800 -12.693000 39.946500   \n",
       "1773  20060101  2006   0.090000 132.912800 -12.693400  8.858000   \n",
       "1775  20130820  2013   1.000000 130.794400 -13.179100  7.345300   \n",
       "\n",
       "      bio_agb_kg1ha  univ_agb  \n",
       "0      29730.000000  0.000000  \n",
       "2       1723.100000  0.000000  \n",
       "4      31001.300000  0.000000  \n",
       "6      31779.400000  0.000000  \n",
       "8      17624.300000  0.000000  \n",
       "...             ...       ...  \n",
       "1767     554.000000  0.000000  \n",
       "1769   55625.000000  0.000000  \n",
       "1771   39946.500000  0.000000  \n",
       "1773    8858.000000  0.000000  \n",
       "1775    7345.300000  0.000000  \n",
       "\n",
       "[893 rows x 12 columns]"
      ]
     },
     "execution_count": 17,
     "metadata": {},
     "output_type": "execute_result"
    }
   ],
   "source": [
    "df = pd.DataFrame(dict_)\n",
    "df"
   ]
  },
  {
   "cell_type": "code",
   "execution_count": 15,
   "metadata": {},
   "outputs": [
    {
     "name": "stdout",
     "output_type": "stream",
     "text": [
      "Data exported here: C:\\Users\\robot\\projects\\biomass\\agb\\20240924\\biolib_agb_update5.csv\n"
     ]
    }
   ],
   "source": [
    "# output to external drive\n",
    "out = os.path.join(r\"C:\\Users\\robot\\projects\\biomass\\agb\\20240924\\biolib_agb_update5.csv\")\n",
    "df.to_csv(out, index=False)\n",
    "print(f\"Data exported here: {out}\")"
   ]
  },
  {
   "cell_type": "code",
   "execution_count": null,
   "metadata": {},
   "outputs": [],
   "source": [
    "df_left = pd.read_csv(r\"C:\\Users\\robot\\projects\\biomass\\collated_zonal_stats\\annual\\dp1_dbi_si_annual_density_near_met.csv\")\n",
    "df_right = pd.read_csv(r\"C:\\Users\\robot\\projects\\biomass\\agb\\20240924\\biolib_agb_update5.csv\")"
   ]
  },
  {
   "cell_type": "code",
   "execution_count": null,
   "metadata": {},
   "outputs": [],
   "source": []
  },
  {
   "cell_type": "code",
   "execution_count": null,
   "metadata": {},
   "outputs": [],
   "source": [
    "# Merge the DataFrames with left join\n",
    "df_merged = pd.merge(\n",
    "    df_left, \n",
    "    df_right[['site_clean', 'date', 'bio_agb_kg1ha']], \n",
    "    on=['site_clean', 'date'], \n",
    "    how='left', \n",
    "    suffixes=('', '_right')\n",
    ")\n",
    "\n",
    "# Replace 'bio_agb_kg1ha' in left DataFrame with the values from the right DataFrame (if available)\n",
    "df_merged['bio_agb_kg1ha'] = df_merged['bio_agb_kg1ha_right'].combine_first(df_merged['bio_agb_kg1ha'])\n",
    "\n",
    "# Drop the '_right' column\n",
    "df_merged.drop(columns=['bio_agb_kg1ha_right'], inplace=True)"
   ]
  },
  {
   "cell_type": "code",
   "execution_count": null,
   "metadata": {},
   "outputs": [],
   "source": [
    "df1 = df_merged[df_merged['bio_agb_kg1ha'] <= 60000]"
   ]
  },
  {
   "cell_type": "code",
   "execution_count": null,
   "metadata": {},
   "outputs": [],
   "source": [
    "df1.bio_agb_kg1ha.describe()"
   ]
  },
  {
   "cell_type": "code",
   "execution_count": null,
   "metadata": {},
   "outputs": [],
   "source": [
    "df1.to_csv(r\"C:\\Users\\robot\\projects\\biomass\\collated_zonal_stats\\biolib_test\\annual_biolib_met.csv\")"
   ]
  },
  {
   "cell_type": "code",
   "execution_count": null,
   "metadata": {},
   "outputs": [],
   "source": [
    "print(df1.shape) # prints out the number of rows and columns in your csv file \n",
    "print(list(df1))"
   ]
  },
  {
   "cell_type": "code",
   "execution_count": null,
   "metadata": {},
   "outputs": [],
   "source": []
  }
 ],
 "metadata": {
  "kernelspec": {
   "display_name": "Python 3",
   "language": "python",
   "name": "python3"
  },
  "language_info": {
   "codemirror_mode": {
    "name": "ipython",
    "version": 3
   },
   "file_extension": ".py",
   "mimetype": "text/x-python",
   "name": "python",
   "nbconvert_exporter": "python",
   "pygments_lexer": "ipython3",
   "version": "3.7.7"
  }
 },
 "nbformat": 4,
 "nbformat_minor": 4
}
