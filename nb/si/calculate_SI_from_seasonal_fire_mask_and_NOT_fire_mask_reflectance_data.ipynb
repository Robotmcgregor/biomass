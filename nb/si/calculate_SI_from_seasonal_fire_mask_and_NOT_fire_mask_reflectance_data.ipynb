{
 "cells": [
  {
   "cell_type": "markdown",
   "metadata": {},
   "source": [
    "# Calculate SI from seasonal fire mask and NOT fire mask reflectance Data\n"
   ]
  },
  {
   "cell_type": "markdown",
   "metadata": {},
   "source": [
    "This notebook calculates the Spectral Indices of the dbi features and append the data to the end of the df.\n",
    "\n",
    "The following conditions apply:\n",
    "\n",
    " - env = base\n",
    " - Run following: collate_met_and_seasonal_data_fire_mask_and_not.ipynb\n"
   ]
  },
  {
   "cell_type": "code",
   "execution_count": 1,
   "metadata": {},
   "outputs": [],
   "source": [
    "index_ = 11"
   ]
  },
  {
   "cell_type": "code",
   "execution_count": 2,
   "metadata": {},
   "outputs": [],
   "source": [
    "%matplotlib inline\n",
    "import pandas as pd\n",
    "import numpy as np\n",
    "import matplotlib.pyplot as plt\n",
    "import geopandas as gpd\n",
    "pd.set_option('chained_assignment',None)\n",
    "from __future__ import division\n",
    "import os\n",
    "from glob import glob\n",
    "#pd.set_option('precision', 8)"
   ]
  },
  {
   "cell_type": "code",
   "execution_count": 3,
   "metadata": {},
   "outputs": [
    {
     "name": "stdout",
     "output_type": "stream",
     "text": [
      "20230205\n",
      "20230205_085716\n"
     ]
    }
   ],
   "source": [
    "from datetime import datetime\n",
    "\n",
    "# datetime object containing current date and time\n",
    "now = datetime.now()\n",
    " \n",
    "date_str = now.strftime(\"%Y%m%d\")\n",
    "date_time_str = now.strftime(\"%Y%m%d_%H%M%S\")\n",
    "print(date_str)\n",
    "print(date_time_str)"
   ]
  },
  {
   "cell_type": "code",
   "execution_count": 4,
   "metadata": {},
   "outputs": [],
   "source": [
    "drive = \"D\"\n",
    "\n",
    "# # data date\n",
    "# date = \"20230204\"\n",
    "\n",
    "# define output directory\n",
    "output_dir = r\"{0}:\\cdu\\data\\zonal_stats\\output\\{1}\".format(drive, date_str)\n",
    "\n",
    "# data dir\n",
    "dir_ = r\"{0}:\\cdu\\data\\zonal_stats\\output\\{1}\\ml_data_dir\".format(drive, date_str)\n",
    "\n"
   ]
  },
  {
   "cell_type": "code",
   "execution_count": 5,
   "metadata": {},
   "outputs": [],
   "source": [
    "def mk_dir_fn(dir_):\n",
    "    \"\"\" Create a new directory if one does not already exist. \"\"\"\n",
    "    if not os.path.isdir(dir_):\n",
    "        os.mkdir(dir_)\n",
    "\n",
    "        \n",
    "def export_csv_fn(list_, dir_, file_name):\n",
    "    \n",
    "    \"\"\" Create and export path from directory and file name and exports csv with no dropping the index column. \"\"\"\n",
    "    \n",
    "    df_final = pd.concat(list_, axis =0)    \n",
    "    output_path = os.path.join(dir_, file_name)\n",
    "    df_final.to_csv(os.path.join(output_path), index=False)\n",
    "    print(\"File output to: \", output_path)\n",
    "    \n",
    "    return df_final"
   ]
  },
  {
   "cell_type": "code",
   "execution_count": 6,
   "metadata": {},
   "outputs": [],
   "source": [
    "##### Create output directories"
   ]
  },
  {
   "cell_type": "code",
   "execution_count": 7,
   "metadata": {},
   "outputs": [],
   "source": [
    "ml_data_dir = os.path.join(output_dir, \"ml_data_si_dir\")\n",
    "mk_dir_fn(output_dir)\n",
    "mk_dir_fn(ml_data_dir)"
   ]
  },
  {
   "cell_type": "code",
   "execution_count": 8,
   "metadata": {},
   "outputs": [],
   "source": [
    "# this note book will take in the combined training and validation data which has been combined and produces the \n",
    "# \n",
    "# ratios and vegetation indices for Landsat-8 (use the one written for the sentinel-2) and converts them to int32 bit data \n",
    "# \n",
    "# and reduces the significant figures to 8 decimal places. Comment out the relevent input csv file at the start and finish\n",
    "#"
   ]
  },
  {
   "cell_type": "code",
   "execution_count": 9,
   "metadata": {},
   "outputs": [
    {
     "name": "stdout",
     "output_type": "stream",
     "text": [
      "D:\\cdu\\data\\zonal_stats\\output\\20230205\\ml_data_dir\\s_mean_max_min_med_std__fnm_fms_applied_class.csv\n",
      "D:\\cdu\\data\\zonal_stats\\output\\20230205\\ml_data_dir\\s_mean_max_min_med_std__fnm_fms_NOT_applied_class.csv\n",
      "D:\\cdu\\data\\zonal_stats\\output\\20230205\\ml_data_dir\\r2_bs_mean_max_min_med_std__fnm_fms_NOT_applied_class.csv\n",
      "D:\\cdu\\data\\zonal_stats\\output\\20230205\\ml_data_dir\\s_mean_max_min_med_std_met_fnm_fms_NOT_applied_class.csv\n",
      "D:\\cdu\\data\\zonal_stats\\output\\20230205\\ml_data_dir\\r2_bs_mean_max_min_med_std_met_fnm_fms_NOT_applied_class.csv\n",
      "D:\\cdu\\data\\zonal_stats\\output\\20230205\\ml_data_dir\\s_mean_max_min_med_std__fnm_fms_applied_reg.csv\n",
      "D:\\cdu\\data\\zonal_stats\\output\\20230205\\ml_data_dir\\r2_bs_mean_max_min_med_std__fnm_fms_applied_reg.csv\n",
      "D:\\cdu\\data\\zonal_stats\\output\\20230205\\ml_data_dir\\s_mean_max_min_med_std_met_fnm_fms_applied_reg.csv\n",
      "D:\\cdu\\data\\zonal_stats\\output\\20230205\\ml_data_dir\\r2_bs_mean_max_min_med_std_met_fnm_fms_applied_reg.csv\n",
      "D:\\cdu\\data\\zonal_stats\\output\\20230205\\ml_data_dir\\s_mean_max_min_med_std_met_fnm_fms_applied_class.csv\n",
      "D:\\cdu\\data\\zonal_stats\\output\\20230205\\ml_data_dir\\r2_bs_mean_max_min_med_std_met_fnm_fms_applied_class.csv\n"
     ]
    }
   ],
   "source": [
    "# read in the zonal stats results\n",
    "#df = pd.read_csv(r\"{0}:\\cdu\\data\\zonal_stats\\output\\{1}\\dja_dbi_dim_dis_dka_stc_h99a2_fpca2_dry_clean_df.csv\".format(drive, date), header=0)\n",
    "#path_csv = r\"{0}:\\cdu\\data\\zonal_stats\\output\\{1}\\ml_data_dir\\r2_best_season_climate_fillna_fms_applied_reg.csv\".format(drive, date)\n",
    "\n",
    "\n",
    "file_list = []\n",
    "for f in glob(os.path.join(dir_, \"*.csv\")):\n",
    "    print(f)\n",
    "    file_list.append(f)\n"
   ]
  },
  {
   "cell_type": "code",
   "execution_count": 10,
   "metadata": {},
   "outputs": [
    {
     "ename": "IndexError",
     "evalue": "list index out of range",
     "output_type": "error",
     "traceback": [
      "\u001b[1;31m---------------------------------------------------------------------------\u001b[0m",
      "\u001b[1;31mIndexError\u001b[0m                                Traceback (most recent call last)",
      "\u001b[1;32m<ipython-input-10-6d5123f74d30>\u001b[0m in \u001b[0;36m<module>\u001b[1;34m()\u001b[0m\n\u001b[1;32m----> 1\u001b[1;33m \u001b[0mprint\u001b[0m\u001b[1;33m(\u001b[0m\u001b[1;34mf\"Working on  {file_list[index_]}\"\u001b[0m\u001b[1;33m)\u001b[0m\u001b[1;33m\u001b[0m\u001b[1;33m\u001b[0m\u001b[0m\n\u001b[0m\u001b[0;32m      2\u001b[0m \u001b[0mdf\u001b[0m \u001b[1;33m=\u001b[0m \u001b[0mpd\u001b[0m\u001b[1;33m.\u001b[0m\u001b[0mread_csv\u001b[0m\u001b[1;33m(\u001b[0m\u001b[0mfile_list\u001b[0m\u001b[1;33m[\u001b[0m\u001b[0mindex_\u001b[0m\u001b[1;33m]\u001b[0m\u001b[1;33m,\u001b[0m \u001b[0mheader\u001b[0m\u001b[1;33m=\u001b[0m\u001b[1;36m0\u001b[0m\u001b[1;33m)\u001b[0m\u001b[1;33m\u001b[0m\u001b[1;33m\u001b[0m\u001b[0m\n\u001b[0;32m      3\u001b[0m \u001b[0mprint\u001b[0m \u001b[1;33m(\u001b[0m\u001b[0mlist\u001b[0m\u001b[1;33m(\u001b[0m\u001b[0mdf\u001b[0m\u001b[1;33m)\u001b[0m\u001b[1;33m)\u001b[0m\u001b[1;33m\u001b[0m\u001b[1;33m\u001b[0m\u001b[0m\n\u001b[0;32m      4\u001b[0m \u001b[0mprint\u001b[0m \u001b[1;33m(\u001b[0m\u001b[0mdf\u001b[0m\u001b[1;33m.\u001b[0m\u001b[0mshape\u001b[0m\u001b[1;33m)\u001b[0m\u001b[1;33m\u001b[0m\u001b[1;33m\u001b[0m\u001b[0m\n",
      "\u001b[1;31mIndexError\u001b[0m: list index out of range"
     ]
    }
   ],
   "source": [
    "print(f\"Working on  {file_list[index_]}\")\n",
    "df = pd.read_csv(file_list[index_], header=0)\n",
    "print (list(df))\n",
    "print (df.shape)"
   ]
  },
  {
   "cell_type": "code",
   "execution_count": null,
   "metadata": {},
   "outputs": [],
   "source": [
    "df"
   ]
  },
  {
   "cell_type": "code",
   "execution_count": null,
   "metadata": {},
   "outputs": [],
   "source": [
    "print(list(df.columns))"
   ]
  },
  {
   "cell_type": "code",
   "execution_count": null,
   "metadata": {},
   "outputs": [],
   "source": [
    "a = df.copy(deep=True)"
   ]
  },
  {
   "cell_type": "code",
   "execution_count": null,
   "metadata": {},
   "outputs": [],
   "source": [
    "a.info()"
   ]
  },
  {
   "cell_type": "code",
   "execution_count": null,
   "metadata": {},
   "outputs": [],
   "source": [
    "a"
   ]
  },
  {
   "cell_type": "code",
   "execution_count": null,
   "metadata": {},
   "outputs": [],
   "source": [
    "def select_dbi_fn(df):\n",
    "    \"\"\" Remove features from dataframe \"\"\"\n",
    "    df_columns = df.columns.tolist()\n",
    "    print(f\"Initial columns: {df_columns}\")\n",
    "    print(\"-\"*100)\n",
    "    drop_list = [columns for columns in df_columns if 'dbi_0608_mean' not in columns]\n",
    "    print(drop_list)\n",
    "    drop_list.remove(\"site\")\n",
    "\n",
    "    df.drop(drop_list, axis = 1, inplace=True)\n",
    "    \n",
    "        \n",
    "    return df, drop_list"
   ]
  },
  {
   "cell_type": "code",
   "execution_count": null,
   "metadata": {},
   "outputs": [],
   "source": [
    "a, drop_list = select_dbi_fn(a)"
   ]
  },
  {
   "cell_type": "code",
   "execution_count": null,
   "metadata": {},
   "outputs": [],
   "source": [
    "print(list(a))"
   ]
  },
  {
   "cell_type": "code",
   "execution_count": null,
   "metadata": {},
   "outputs": [],
   "source": [
    "a.columns = [\"site\", \"psB1a\", \"psB2a\", \"psB3a\", \"psB4a\", \"psB5a\", \"psB6a\", ]"
   ]
  },
  {
   "cell_type": "code",
   "execution_count": null,
   "metadata": {},
   "outputs": [],
   "source": [
    "a.dropna(inplace=True)"
   ]
  },
  {
   "cell_type": "code",
   "execution_count": null,
   "metadata": {},
   "outputs": [],
   "source": [
    "a.info()"
   ]
  },
  {
   "cell_type": "code",
   "execution_count": null,
   "metadata": {},
   "outputs": [],
   "source": []
  },
  {
   "cell_type": "code",
   "execution_count": null,
   "metadata": {},
   "outputs": [],
   "source": [
    "# read in the zonal stats results\n",
    "#a = pd.read_csv(\"combined_val_data_l8.csv\", header=0)\n",
    "#print (list(a))"
   ]
  },
  {
   "cell_type": "code",
   "execution_count": null,
   "metadata": {},
   "outputs": [],
   "source": [
    "# converts interger stage code dbg surface reflectance data for landsat 5 & 7 \n",
    "# to floating point for analysis of the vegetation index, blue band not used\n",
    "\n",
    "blue =((a['psB1a'].astype('int16')*0.0001)+0.0)\n",
    "\n",
    "green =((a['psB2a'].astype('int16')*0.0001)+0.0)\n",
    "red = ((a['psB3a'].astype('int16')*0.0001)+0.0)\n",
    "nir = ((a['psB4a'].astype('int16')*0.0001)+0.0)\n",
    "swir1 =((a['psB5a'].astype('int16')*0.0001)+0.0)\n",
    "swir2 =((a['psB6a'].astype('int16')*0.0001)+0.0)"
   ]
  },
  {
   "cell_type": "code",
   "execution_count": null,
   "metadata": {},
   "outputs": [],
   "source": [
    "# calculate the band ratios\n",
    "\n",
    "a['ratio32fa'] = (a['psB3a'] / a['psB2a'])\n",
    "a['ratio42fa'] = (a['psB4a'] / a['psB2a'])\n",
    "a['ratio43fa'] = (a['psB4a'] / a['psB3a'])\n",
    "a['ratio52fa'] = (a['psB5a'] / a['psB2a'])\n",
    "a['ratio53fa'] = (a['psB5a'] / a['psB3a'])\n",
    "a['ratio54fa'] = (a['psB5a'] / a['psB4a'])\n",
    "a['ratio62fa'] = (a['psB6a'] / a['psB2a'])\n",
    "a['ratio63fa'] = (a['psB6a'] / a['psB3a'])\n",
    "a['ratio64fa'] = (a['psB6a'] / a['psB4a'])\n",
    "a['ratio65fa'] = (a['psB6a'] / a['psB5a'])\n",
    "\n",
    "# calculate the band ratios and convert them to int32 bit at 7 decimal places\n",
    "\n",
    "a['ratio32a'] = np.int32(np.around(a['ratio32fa'] * 10 ** 7))\n",
    "\n",
    "a['ratio42a'] = np.int32(np.around(a['ratio42fa'] * 10 ** 7))\n",
    "\n",
    "a['ratio43a'] = np.int32(np.around(a['ratio43fa'] * 10 ** 7))\n",
    "\n",
    "a['ratio52a'] = np.int32(np.around(a['ratio52fa'] * 10 ** 7))\n",
    "\n",
    "a['ratio53a'] = np.int32(np.around(a['ratio53fa'] * 10 ** 7))\n",
    "\n",
    "a['ratio54a'] = np.int32(np.around(a['ratio54fa'] * 10 ** 7))\n",
    "\n",
    "a['ratio62a'] = np.int32(np.around(a['ratio62fa'] * 10 ** 7))\n",
    "\n",
    "a['ratio63a'] = np.int32(np.around(a['ratio63fa'] * 10 ** 7))\n",
    "\n",
    "a['ratio64a'] = np.int32(np.around(a['ratio64fa'] * 10 ** 7))\n",
    "\n",
    "a['ratio65a'] = np.int32(np.around(a['ratio65fa'] * 10 ** 7))"
   ]
  },
  {
   "cell_type": "code",
   "execution_count": null,
   "metadata": {},
   "outputs": [],
   "source": [
    "# calculate the vegetation indices\n",
    "a['GSAVIfa'] = ((nir-green)/(nir+green+0.5))*(1.5)\n",
    "a['GSAVIa'] = np.int32(np.around(a['GSAVIfa'] * 10 ** 7))\n",
    "\n",
    "a['GNDVIfa'] = (nir-green)/(nir+green)\n",
    "a['GNDVIa'] = np.int32(np.around(a['GNDVIfa'] * 10 ** 7))\n",
    "\n",
    "a['CVIfa']= (nir/green)*(red/green)\n",
    "a['CVIa'] = np.int32(np.around(a['CVIfa'] * 10 ** 7))\n",
    "\n",
    "a['NDGIfa']= (green-red)/(green+red)\n",
    "a['NDGIa'] = np.int32(np.around(a['NDGIfa'] * 10 ** 7))\n",
    "\n",
    "a['RIfa']= (red-green)/(red+green)\n",
    "a['RIa'] = np.int32(np.around(a['RIfa'] * 10 ** 7))\n",
    "\n",
    "a['NBRfa']= (nir-swir2)/(nir+swir2)\n",
    "a['NBRa'] = np.int32(np.around(a['NBRfa'] * 10 ** 7))\n",
    "\n",
    "a['NDIIfa']= (nir-swir1)/(nir+swir1)\n",
    "a['NDIIa'] = np.int32(np.around(a['NDIIfa'] * 10 ** 7))\n",
    "\n",
    "a['GDVIfa']= (nir-green)\n",
    "a['GDVIa'] = np.int32(np.around(a['GDVIfa'] * 10 ** 7))\n",
    "\n",
    "a['MSAVIfa'] = (2 * nir + 1 - np.sqrt((np.power(((2*nir)+1) , 2)) - (8 * (nir-red))))/2\n",
    "a['MSAVIa'] = np.int32(np.around(a['MSAVIfa'] * 10 ** 7))\n",
    "\n",
    "a['DVIfa'] = (nir-red)\n",
    "a['DVIa'] = np.int32(np.around(a['DVIfa'] * 10 ** 7))\n",
    "\n",
    "a['SAVIfa']= ((nir-red)/(nir+red+0.5))*(1+0.5)\n",
    "a['SAVIa'] = np.int32(np.around(a['SAVIfa'] * 10 ** 7))\n",
    "\n",
    "a['NDVIfa']= (nir-red)/(nir+red)\n",
    "a['NDVIa'] = np.int32(np.around(a['NDVIfa'] * 10 ** 7))\n",
    "\n",
    "a['MSRfa']= (((nir/red)-1)/((np.sqrt(nir/red))+1))\n",
    "a['MSRa'] = np.int32(np.around(a['MSRfa'] * 10 ** 7))"
   ]
  },
  {
   "cell_type": "code",
   "execution_count": null,
   "metadata": {},
   "outputs": [],
   "source": [
    "a"
   ]
  },
  {
   "cell_type": "code",
   "execution_count": null,
   "metadata": {},
   "outputs": [],
   "source": [
    "a.info()"
   ]
  },
  {
   "cell_type": "code",
   "execution_count": null,
   "metadata": {},
   "outputs": [],
   "source": [
    "# # converts interger stage code dbg surface reflectance data for landsat 5 & 7 \n",
    "# # to floating point for analysis of the vegetation index, blue band not used\n",
    "\n",
    "# blued =((a['psB1d'].astype('int16')*0.0001)+0.0)\n",
    "\n",
    "# greend =((a['psB2d'].astype('int16')*0.0001)+0.0)\n",
    "# redd = ((a['psB3d'].astype('int16')*0.0001)+0.0)\n",
    "# nird = ((a['psB4d'].astype('int16')*0.0001)+0.0)\n",
    "# swir1d =((a['psB5d'].astype('int16')*0.0001)+0.0)\n",
    "# swir2d =((a['psB6d'].astype('int16')*0.0001)+0.0)"
   ]
  },
  {
   "cell_type": "code",
   "execution_count": null,
   "metadata": {},
   "outputs": [],
   "source": [
    "# # calculate the band ratios\n",
    "\n",
    "# a['ratio32fd'] = (a['psB3d'] / a['psB2d'])\n",
    "# a['ratio42fd'] = (a['psB4d'] / a['psB2d'])\n",
    "# a['ratio43fd'] = (a['psB4d'] / a['psB3d'])\n",
    "# a['ratio52fd'] = (a['psB5d'] / a['psB2d'])\n",
    "# a['ratio53fd'] = (a['psB5d'] / a['psB3d'])\n",
    "# a['ratio54fd'] = (a['psB5d'] / a['psB4d'])\n",
    "# a['ratio62fd'] = (a['psB6d'] / a['psB2d'])\n",
    "# a['ratio63fd'] = (a['psB6d'] / a['psB3d'])\n",
    "# a['ratio64fd'] = (a['psB6d'] / a['psB4d'])\n",
    "# a['ratio65fd'] = (a['psB6d'] / a['psB5d'])\n",
    "\n",
    "# # calculate the band ratios and convert them to int32 bit at 7 decimal places\n",
    "\n",
    "# a['ratio32d'] = np.int32(np.around(a['ratio32fd'] * 10 ** 7))\n",
    "\n",
    "# a['ratio42d'] = np.int32(np.around(a['ratio42fd'] * 10 ** 7))\n",
    "\n",
    "# a['ratio43d'] = np.int32(np.around(a['ratio43fd'] * 10 ** 7))\n",
    "\n",
    "# a['ratio52d'] = np.int32(np.around(a['ratio52fd'] * 10 ** 7))\n",
    "\n",
    "# a['ratio53d'] = np.int32(np.around(a['ratio53fd'] * 10 ** 7))\n",
    "\n",
    "# a['ratio54d'] = np.int32(np.around(a['ratio54fd'] * 10 ** 7))\n",
    "\n",
    "# a['ratio62d'] = np.int32(np.around(a['ratio62fd'] * 10 ** 7))\n",
    "\n",
    "# a['ratio63d'] = np.int32(np.around(a['ratio63fd'] * 10 ** 7))\n",
    "\n",
    "# a['ratio64d'] = np.int32(np.around(a['ratio64fd'] * 10 ** 7))\n",
    "\n",
    "# a['ratio65d'] = np.int32(np.around(a['ratio65fd'] * 10 ** 7))"
   ]
  },
  {
   "cell_type": "code",
   "execution_count": null,
   "metadata": {},
   "outputs": [],
   "source": [
    "# # calculate the vegetation indices\n",
    "# a['GSAVIfd'] = ((nird-greend)/(nird+greend+0.5))*(1.5)\n",
    "# a['GSAVId'] = np.int32(np.around(a['GSAVIfd'] * 10 ** 7))\n",
    "\n",
    "# a['GNDVIfd'] = (nird-greend)/(nird+greend)\n",
    "# a['GNDVId'] = np.int32(np.around(a['GNDVIfd'] * 10 ** 7))\n",
    "\n",
    "# a['CVIfd']= (nird/greend)*(redd/greend)\n",
    "# a['CVId'] = np.int32(np.around(a['CVIfd'] * 10 ** 7))\n",
    "\n",
    "# a['NDGIfd']= (greend-redd)/(greend+redd)\n",
    "# a['NDGId'] = np.int32(np.around(a['NDGIfd'] * 10 ** 7))\n",
    "\n",
    "# a['RIfd']= (redd-greend)/(redd+greend)\n",
    "# a['RId'] = np.int32(np.around(a['RIfd'] * 10 ** 7))\n",
    "\n",
    "# a['NBRfd']= (nird-swir2d)/(nird+swir2d)\n",
    "# a['NBRd'] = np.int32(np.around(a['NBRfd'] * 10 ** 7))\n",
    "\n",
    "# a['NDIIfd']= (nird-swir1d)/(nird+swir1d)\n",
    "# a['NDIId'] = np.int32(np.around(a['NDIIfd'] * 10 ** 7))\n",
    "\n",
    "# a['GDVIfd']= (nird-greend)\n",
    "# a['GDVId'] = np.int32(np.around(a['GDVIfd'] * 10 ** 7))\n",
    "\n",
    "# a['MSAVIfd'] = (2 * nird + 1 - np.sqrt((np.power(((2*nird)+1) , 2)) - (8 * (nird-redd))))/2\n",
    "# a['MSAVId'] = np.int32(np.around(a['MSAVIfd'] * 10 ** 7))\n",
    "\n",
    "# a['DVIfd'] = (nird-redd)\n",
    "# a['DVId'] = np.int32(np.around(a['DVIfd'] * 10 ** 7))\n",
    "\n",
    "# a['SAVIfd']= ((nird-redd)/(nird+redd+0.5))*(1+0.5)\n",
    "# a['SAVId'] = np.int32(np.around(a['SAVIfa'] * 10 ** 7))\n",
    "\n",
    "# a['NDVIfd']= (nird-redd)/(nird+redd)\n",
    "# a['NDVId'] = np.int32(np.around(a['NDVIfd'] * 10 ** 7))\n",
    "\n",
    "# a['MSRfd']= (((nird/redd)-1)/((np.sqrt(nird/redd))+1))\n",
    "# a['MSRd'] = np.int32(np.around(a['MSRfd'] * 10 ** 7))"
   ]
  },
  {
   "cell_type": "code",
   "execution_count": null,
   "metadata": {},
   "outputs": [],
   "source": [
    "print (list(a))"
   ]
  },
  {
   "cell_type": "code",
   "execution_count": null,
   "metadata": {},
   "outputs": [],
   "source": [
    "# remove fa\n",
    "tr = a[['site',\n",
    "        'ratio32a', 'ratio42a', 'ratio43a', 'ratio52a', 'ratio53a', 'ratio54a', 'ratio62a', 'ratio63a', \n",
    "        'ratio64a', 'ratio65a', 'GSAVIa', 'GNDVIa', 'CVIa', 'NDGIa', 'RIa', \n",
    "        'NBRa', 'NDIIa', 'GDVIa',  'MSAVIa', 'DVIa',  'SAVIa', 'NDVIa',  'MSRa']]"
   ]
  },
  {
   "cell_type": "code",
   "execution_count": null,
   "metadata": {},
   "outputs": [],
   "source": [
    "print(list(tr))"
   ]
  },
  {
   "cell_type": "code",
   "execution_count": null,
   "metadata": {},
   "outputs": [],
   "source": [
    "df_si = pd.merge(df, tr,  how='left', on=['site'])"
   ]
  },
  {
   "cell_type": "code",
   "execution_count": null,
   "metadata": {},
   "outputs": [],
   "source": [
    "column_to_move = df_si.pop(\"target\")\n",
    "\n",
    "# insert column with insert(location, column_name, column_value)\n",
    "\n",
    "df_si.insert(0, \"target\", column_to_move)"
   ]
  },
  {
   "cell_type": "code",
   "execution_count": null,
   "metadata": {},
   "outputs": [],
   "source": [
    "dict_ = {\n",
    "    'ratio32a':'ratio32m', 'ratio42a': 'ratio42m',\n",
    "    'ratio43a': 'ratio43m', 'ratio52a': 'ratio52m',\n",
    "    'ratio53a': 'ratio53m', 'ratio54a': 'ratio54m',\n",
    "    'ratio62a': 'ratio62m', 'ratio63a': 'ratio63m',\n",
    "    'ratio64a': 'ratio64m', 'ratio65a': 'ratio65m',\n",
    "    'GSAVIa': 'GSAVIm', 'GNDVIa': 'GNDVIm',\n",
    "    'CVIa': 'CVIm', 'NDGIa': 'NDGIm', \n",
    "    'RIa': 'RIm', 'NBRa': 'NBRm', \n",
    "    'NDIIa': 'NDIIm', 'GDVIa': 'GDVIm', \n",
    "    'MSAVIa': 'MSAVIm', 'DVIa': 'DVIm', \n",
    "    'SAVIa': 'SAVIm', 'NDVIa': 'NDVIm', 'MSRa': 'MSRm'\n",
    "}"
   ]
  },
  {
   "cell_type": "code",
   "execution_count": null,
   "metadata": {},
   "outputs": [],
   "source": [
    "df_si.rename(columns=dict_, inplace=True)"
   ]
  },
  {
   "cell_type": "code",
   "execution_count": null,
   "metadata": {},
   "outputs": [],
   "source": [
    "# ml_data_dir"
   ]
  },
  {
   "cell_type": "code",
   "execution_count": null,
   "metadata": {},
   "outputs": [],
   "source": [
    "_, file_name = os.path.split(file_list[index_])\n",
    "file_name_split = file_name.split(\"_applied\")\n",
    "new_name = file_name_split[0] + \"_si\" + file_name_split[1]\n",
    "path_ = os.path.join(ml_data_dir, new_name)      \n",
    "df_si.to_csv(path_, index=False)\n",
    "print(path_)"
   ]
  },
  {
   "cell_type": "code",
   "execution_count": null,
   "metadata": {},
   "outputs": [],
   "source": []
  }
 ],
 "metadata": {
  "anaconda-cloud": {},
  "kernelspec": {
   "display_name": "Python 3",
   "language": "python",
   "name": "python3"
  },
  "language_info": {
   "codemirror_mode": {
    "name": "ipython",
    "version": 3
   },
   "file_extension": ".py",
   "mimetype": "text/x-python",
   "name": "python",
   "nbconvert_exporter": "python",
   "pygments_lexer": "ipython3",
   "version": "3.7.7"
  }
 },
 "nbformat": 4,
 "nbformat_minor": 2
}
