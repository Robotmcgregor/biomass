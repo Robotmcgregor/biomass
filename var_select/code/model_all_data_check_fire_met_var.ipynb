{
 "cells": [
  {
   "cell_type": "markdown",
   "metadata": {},
   "source": [
    "# GBR_all_data_w_met_sddv3_h99_add_knn_xgboost"
   ]
  },
  {
   "cell_type": "markdown",
   "metadata": {},
   "source": [
    "The following conditions apply:\n",
    "\n",
    " - env = biomass_zonal\n",
    " - data merged_slats_field_agb_dp1_start.csv"
   ]
  },
  {
   "cell_type": "code",
   "execution_count": 1,
   "metadata": {
    "ExecuteTime": {
     "end_time": "2024-08-05T02:28:03.718394Z",
     "start_time": "2024-08-05T02:28:03.123354Z"
    }
   },
   "outputs": [],
   "source": [
    "\n",
    "%matplotlib inline\n",
    "\n",
    "\n",
    "import pandas as pd\n",
    "pd.set_option('display.float_format', '{:.2f}'.format)\n",
    "from sklearn.ensemble import RandomForestRegressor as rfr\n",
    "from sklearn.ensemble import ExtraTreesRegressor as etr\n",
    "from sklearn.ensemble import GradientBoostingRegressor as gbr\n",
    "from sklearn.ensemble import AdaBoostRegressor as abr\n",
    "from sklearn.tree import DecisionTreeRegressor as dtr\n",
    "from sklearn.neighbors import KNeighborsRegressor as knn\n",
    "from xgboost import XGBRegressor as xgboost\n",
    "from sklearn.model_selection import train_test_split\n",
    "import scipy.stats as sc\n",
    "import textwrap\n",
    "\n",
    "# stats module\n",
    "import statsmodels.api as sm\n",
    "from statsmodels.tools.tools import add_constant\n",
    "from statsmodels.sandbox.regression.predstd import wls_prediction_std\n",
    "from statsmodels.stats.outliers_influence import variance_inflation_factor\n",
    "\n",
    "from sklearn.metrics import explained_variance_score\n",
    "%matplotlib inline\n",
    "\n",
    "# import plotting and stats modules\n",
    "import matplotlib.pyplot as plt\n",
    "import seaborn as sns\n",
    "import os\n",
    "import scipy\n",
    "import pandas as pd\n",
    "\n",
    "# Set option to display floating-point numbers without scientific notation\n",
    "pd.set_option('display.float_format', lambda x: '%.2f' % x)\n",
    "\n",
    "from bokeh.io import output_notebook, output_file\n",
    "from bokeh.plotting import save # figure, show, \n",
    "#%matplotlib inline\n",
    "\n",
    "# Bokeh Libraries\n",
    "from bokeh.plotting import figure, show\n",
    "from bokeh.io import output_file\n",
    "from bokeh.models import ColumnDataSource, NumeralTickFormatter, HoverTool\n"
   ]
  },
  {
   "cell_type": "markdown",
   "metadata": {},
   "source": [
    "### Import data"
   ]
  },
  {
   "cell_type": "code",
   "execution_count": 2,
   "metadata": {
    "ExecuteTime": {
     "end_time": "2024-08-05T02:28:03.734392Z",
     "start_time": "2024-08-05T02:28:03.719393Z"
    }
   },
   "outputs": [],
   "source": [
    "\n",
    "# mdl = \"RFR\"\n",
    "# model_name = \"Random Forrest Regressor\"\n",
    "\n",
    "\n",
    "#mdl = \"ABR\"\n",
    "#model_name = \"AdaBoost Regressor\"\n",
    "\n",
    "mdl = \"GBR\"\n",
    "model_name = \"Gradient Boosting Regressor\"\n",
    "\n",
    "# mdl = \"KNN\"\n",
    "# model_name = \"K-Nearest Neighbors Regressor\"\n",
    "\n",
    "# mdl = \"XGBR\"\n",
    "# model_name = \"XGBoost Regressor\"\n",
    "\n",
    "\n",
    "rs = 0\n",
    "drive = \"D\"\n",
    "data_comp = f\"{mdl}_dp1_dbi_si_dry_mask_density_sddv3_mean\""
   ]
  },
  {
   "cell_type": "code",
   "execution_count": 3,
   "metadata": {
    "ExecuteTime": {
     "end_time": "2024-08-05T02:28:18.276005Z",
     "start_time": "2024-08-05T02:28:18.269996Z"
    }
   },
   "outputs": [],
   "source": [
    "csv_file = r\"C:\\Users\\robot\\projects\\biomass\\collated_zonal_stats\\annual_mask\\dp1_dbi_si_annual_mask_density_near_met_fire.csv\""
   ]
  },
  {
   "cell_type": "markdown",
   "metadata": {},
   "source": [
    "## Set output file locations"
   ]
  },
  {
   "cell_type": "code",
   "execution_count": 4,
   "metadata": {
    "ExecuteTime": {
     "end_time": "2024-08-05T02:28:18.718533Z",
     "start_time": "2024-08-05T02:28:18.701468Z"
    }
   },
   "outputs": [],
   "source": [
    "output = r\"C:\\Users\\robot\\projects\\biomass\\model\\{}\".format(data_comp)\n",
    "output_ = os.path.join(output, \"plots\")"
   ]
  },
  {
   "cell_type": "code",
   "execution_count": 5,
   "metadata": {
    "ExecuteTime": {
     "end_time": "2024-08-05T02:28:19.081099Z",
     "start_time": "2024-08-05T02:28:19.068102Z"
    }
   },
   "outputs": [
    {
     "ename": "FileNotFoundError",
     "evalue": "[WinError 3] The system cannot find the path specified: 'C:\\\\Users\\\\robot\\\\projects\\\\biomass\\\\model\\\\GBR_dp1_dbi_si_dry_mask_density_sddv3_mean'",
     "output_type": "error",
     "traceback": [
      "\u001b[1;31m---------------------------------------------------------------------------\u001b[0m",
      "\u001b[1;31mFileNotFoundError\u001b[0m                         Traceback (most recent call last)",
      "\u001b[1;32m<ipython-input-5-66a2603b233f>\u001b[0m in \u001b[0;36m<module>\u001b[1;34m()\u001b[0m\n\u001b[0;32m      1\u001b[0m \u001b[1;32mif\u001b[0m \u001b[1;32mnot\u001b[0m \u001b[0mos\u001b[0m\u001b[1;33m.\u001b[0m\u001b[0mpath\u001b[0m\u001b[1;33m.\u001b[0m\u001b[0misdir\u001b[0m\u001b[1;33m(\u001b[0m\u001b[0moutput\u001b[0m\u001b[1;33m)\u001b[0m\u001b[1;33m:\u001b[0m\u001b[1;33m\u001b[0m\u001b[1;33m\u001b[0m\u001b[0m\n\u001b[1;32m----> 2\u001b[1;33m     \u001b[0mos\u001b[0m\u001b[1;33m.\u001b[0m\u001b[0mmkdir\u001b[0m\u001b[1;33m(\u001b[0m\u001b[0moutput\u001b[0m\u001b[1;33m)\u001b[0m\u001b[1;33m\u001b[0m\u001b[1;33m\u001b[0m\u001b[0m\n\u001b[0m\u001b[0;32m      3\u001b[0m \u001b[1;32mif\u001b[0m \u001b[1;32mnot\u001b[0m \u001b[0mos\u001b[0m\u001b[1;33m.\u001b[0m\u001b[0mpath\u001b[0m\u001b[1;33m.\u001b[0m\u001b[0misdir\u001b[0m\u001b[1;33m(\u001b[0m\u001b[0moutput_\u001b[0m\u001b[1;33m)\u001b[0m\u001b[1;33m:\u001b[0m\u001b[1;33m\u001b[0m\u001b[1;33m\u001b[0m\u001b[0m\n\u001b[0;32m      4\u001b[0m     \u001b[0mos\u001b[0m\u001b[1;33m.\u001b[0m\u001b[0mmkdir\u001b[0m\u001b[1;33m(\u001b[0m\u001b[0moutput_\u001b[0m\u001b[1;33m)\u001b[0m\u001b[1;33m\u001b[0m\u001b[1;33m\u001b[0m\u001b[0m\n\u001b[0;32m      5\u001b[0m \u001b[1;33m\u001b[0m\u001b[0m\n",
      "\u001b[1;31mFileNotFoundError\u001b[0m: [WinError 3] The system cannot find the path specified: 'C:\\\\Users\\\\robot\\\\projects\\\\biomass\\\\model\\\\GBR_dp1_dbi_si_dry_mask_density_sddv3_mean'"
     ]
    }
   ],
   "source": [
    "if not os.path.isdir(output):\n",
    "    os.mkdir(output)\n",
    "if not os.path.isdir(output_):\n",
    "    os.mkdir(output_)\n",
    "    \n",
    "   "
   ]
  },
  {
   "cell_type": "code",
   "execution_count": 6,
   "metadata": {
    "ExecuteTime": {
     "end_time": "2024-08-05T02:28:19.390792Z",
     "start_time": "2024-08-05T02:28:19.379746Z"
    }
   },
   "outputs": [
    {
     "ename": "FileNotFoundError",
     "evalue": "[WinError 3] The system cannot find the path specified: 'C:\\\\Users\\\\robot\\\\projects\\\\biomass\\\\model\\\\GBR_dp1_dbi_si_dry_mask_density_sddv3_mean\\\\plots\\\\DEF'",
     "output_type": "error",
     "traceback": [
      "\u001b[1;31m---------------------------------------------------------------------------\u001b[0m",
      "\u001b[1;31mFileNotFoundError\u001b[0m                         Traceback (most recent call last)",
      "\u001b[1;32m<ipython-input-6-b6ebea74677d>\u001b[0m in \u001b[0;36m<module>\u001b[1;34m()\u001b[0m\n\u001b[0;32m      1\u001b[0m \u001b[0mdef_path\u001b[0m \u001b[1;33m=\u001b[0m \u001b[0mos\u001b[0m\u001b[1;33m.\u001b[0m\u001b[0mpath\u001b[0m\u001b[1;33m.\u001b[0m\u001b[0mjoin\u001b[0m\u001b[1;33m(\u001b[0m\u001b[0moutput_\u001b[0m\u001b[1;33m,\u001b[0m \u001b[1;34m\"DEF\"\u001b[0m\u001b[1;33m)\u001b[0m\u001b[1;33m\u001b[0m\u001b[1;33m\u001b[0m\u001b[0m\n\u001b[0;32m      2\u001b[0m \u001b[1;32mif\u001b[0m \u001b[1;32mnot\u001b[0m \u001b[0mos\u001b[0m\u001b[1;33m.\u001b[0m\u001b[0mpath\u001b[0m\u001b[1;33m.\u001b[0m\u001b[0misdir\u001b[0m\u001b[1;33m(\u001b[0m\u001b[0mdef_path\u001b[0m\u001b[1;33m)\u001b[0m\u001b[1;33m:\u001b[0m\u001b[1;33m\u001b[0m\u001b[1;33m\u001b[0m\u001b[0m\n\u001b[1;32m----> 3\u001b[1;33m     \u001b[0mos\u001b[0m\u001b[1;33m.\u001b[0m\u001b[0mmkdir\u001b[0m\u001b[1;33m(\u001b[0m\u001b[0mdef_path\u001b[0m\u001b[1;33m)\u001b[0m\u001b[1;33m\u001b[0m\u001b[1;33m\u001b[0m\u001b[0m\n\u001b[0m\u001b[0;32m      4\u001b[0m \u001b[1;33m\u001b[0m\u001b[0m\n\u001b[0;32m      5\u001b[0m \u001b[0mr2_path\u001b[0m \u001b[1;33m=\u001b[0m \u001b[0mos\u001b[0m\u001b[1;33m.\u001b[0m\u001b[0mpath\u001b[0m\u001b[1;33m.\u001b[0m\u001b[0mjoin\u001b[0m\u001b[1;33m(\u001b[0m\u001b[0moutput_\u001b[0m\u001b[1;33m,\u001b[0m \u001b[1;34m\"R2\"\u001b[0m\u001b[1;33m)\u001b[0m\u001b[1;33m\u001b[0m\u001b[1;33m\u001b[0m\u001b[0m\n",
      "\u001b[1;31mFileNotFoundError\u001b[0m: [WinError 3] The system cannot find the path specified: 'C:\\\\Users\\\\robot\\\\projects\\\\biomass\\\\model\\\\GBR_dp1_dbi_si_dry_mask_density_sddv3_mean\\\\plots\\\\DEF'"
     ]
    }
   ],
   "source": [
    "def_path = os.path.join(output_, \"DEF\")    \n",
    "if not os.path.isdir(def_path):\n",
    "    os.mkdir(def_path)\n",
    "    \n",
    "r2_path = os.path.join(output_, \"R2\")    \n",
    "if not os.path.isdir(r2_path):\n",
    "    os.mkdir(r2_path)\n",
    "    \n",
    "mae_path = os.path.join(output_, \"MAE\")    \n",
    "if not os.path.isdir(mae_path):\n",
    "    os.mkdir(mae_path)\n",
    "    \n",
    "rmse_path = os.path.join(output_, \"RMSE\")    \n",
    "if not os.path.isdir(rmse_path):\n",
    "    os.mkdir(rmse_path)\n",
    "    "
   ]
  },
  {
   "cell_type": "code",
   "execution_count": 8,
   "metadata": {
    "ExecuteTime": {
     "end_time": "2024-08-05T02:28:19.628863Z",
     "start_time": "2024-08-05T02:28:19.580963Z"
    }
   },
   "outputs": [
    {
     "name": "stdout",
     "output_type": "stream",
     "text": [
      "(46800, 411)\n",
      "['uid', 'site_name_x', 'date', 'lon_gda94', 'lat_gda94', 'bio_l_kg1ha', 'bio_t_kg1ha', 'bio_b_kg1ha', 'bio_w_kg1ha', 'bio_br_kg1ha', 'bio_s_kg1ha', 'bio_r_kg1ha', 'bio_agb_kg1ha', 'c_l_kg1ha', 'c_t_kg1ha', 'c_b_kg1ha', 'c_w_kg1ha', 'c_br_kg1ha', 'c_s_kg1ha', 'c_r_kg1ha', 'c_agb_kg1ha', 'geometry', 'basal_dt', 'site_clean', 'mean_f_afsm', 'min_f_afsm', 'max_f_afsm', 'mean_f_afyn', 'min_f_afyn', 'max_f_afyn', 'mean_f_agap', 'min_f_agap', 'max_f_agap', 'mean_f_apos', 'min_f_apos', 'max_f_apos', 'mean_f_ario', 'min_f_ario', 'max_f_ario', 'mean_f_dfsm', 'min_f_dfsm', 'max_f_dfsm', 'mean_f_dfyn', 'min_f_dfyn', 'max_f_dfyn', 'mean_f_dgap', 'min_f_dgap', 'max_f_dgap', 'mean_f_dpos', 'min_f_dpos', 'max_f_dpos', 'mean_f_drio', 'min_f_drio', 'max_f_drio', 'mean_f_lfsm', 'min_f_lfsm', 'max_f_lfsm', 'mean_f_lfyn', 'min_f_lfyn', 'max_f_lfyn', 'mean_f_lgap', 'min_f_lgap', 'max_f_lgap', 'mean_f_lpos', 'min_f_lpos', 'max_f_lpos', 'mean_f_lrio', 'min_f_lrio', 'max_f_lrio', 'site_name_y', 'dr_asav', 'dr_asmd', 'dr_aavg', 'dr_amed', 'dr_asiv', 'dr_asid', 'dr_asum', 'dr_corr', 'dr_dsav', 'dr_dsmd', 'dr_davg', 'dr_dmed', 'dr_dsiv', 'dr_dsid', 'dr_dsum', 'dr_mavg', 'dr_mmed', 'dr_msum', 'dr_wsav', 'dr_wsmd', 'dr_wavg', 'dr_wmed', 'dr_wsiv', 'dr_wsid', 'dr_wsum', 'ma_asav', 'ma_asmd', 'ma_aavg', 'ma_amed', 'ma_asiv', 'ma_asid', 'ma_asum', 'ma_corr', 'ma_dsav', 'ma_dsmd', 'ma_davg', 'ma_dmed', 'ma_dsiv', 'ma_dsid', 'ma_dsum', 'ma_mavg', 'ma_mmed', 'ma_msum', 'ma_wsav', 'ma_wsmd', 'ma_wavg', 'ma_wmed', 'ma_wsiv', 'ma_wsid', 'ma_wsum', 'tx_asav', 'tx_asmd', 'tx_aavg', 'tx_amed', 'tx_asiv', 'tx_asid', 'tx_asum', 'tx_corr', 'tx_dsav', 'tx_dsmd', 'tx_davg', 'tx_dmed', 'tx_dsiv', 'tx_dsid', 'tx_dsum', 'tx_mavg', 'tx_mmed', 'tx_msum', 'tx_wsav', 'tx_wsmd', 'tx_wavg', 'tx_wmed', 'tx_wsiv', 'tx_wsid', 'tx_wsum', 'tn_asav', 'tn_asmd', 'tn_aavg', 'tn_amed', 'tn_asiv', 'tn_asid', 'tn_asum', 'tn_corr', 'tn_dsav', 'tn_dsmd', 'tn_davg', 'tn_dmed', 'tn_dsiv', 'tn_dsid', 'tn_dsum', 'tn_mavg', 'tn_mmed', 'tn_msum', 'tn_wsav', 'tn_wsmd', 'tn_wavg', 'tn_wmed', 'tn_wsiv', 'tn_wsid', 'tn_wsum', 'rx_asav', 'rx_asmd', 'rx_aavg', 'rx_amed', 'rx_asiv', 'rx_asid', 'rx_asum', 'rx_corr', 'rx_dsav', 'rx_dsmd', 'rx_davg', 'rx_dmed', 'rx_dsiv', 'rx_dsid', 'rx_dsum', 'rx_mavg', 'rx_mmed', 'rx_msum', 'rx_wsav', 'rx_wsmd', 'rx_wavg', 'rx_wmed', 'rx_wsiv', 'rx_wsid', 'rx_wsum', 'rn_asav', 'rn_asmd', 'rn_aavg', 'rn_amed', 'rn_asiv', 'rn_asid', 'rn_asum', 'rn_corr', 'rn_dsav', 'rn_dsmd', 'rn_davg', 'rn_dmed', 'rn_dsiv', 'rn_dsid', 'rn_dsum', 'rn_mavg', 'rn_mmed', 'rn_msum', 'rn_wsav', 'rn_wsmd', 'rn_wavg', 'rn_wmed', 'rn_wsiv', 'rn_wsid', 'rn_wsum', 'b1_wfp_min', 'b1_wfp_max', 'b1_wfp_mean', 'b1_wfp_std', 'b1_wfp_med', 'b1_wfp_p25', 'b1_wfp_p50', 'b1_wfp_p75', 'b1_wfp_p95', 'b1_wfp_p99', 'wfp_dt', 'wfp_dir', 'wfp_seas', 'b1_wdc_major', 'b1_wdc_minor', 'b1_n17_major', 'b1_n17_minor', 'b1_hsd_min', 'b1_hsd_max', 'b1_hsd_mean', 'b1_hsd_std', 'b1_hsd_med', 'b1_hsd_p25', 'b1_hsd_p50', 'b1_hsd_p75', 'b1_hsd_p95', 'b1_hsd_p99', 'b1_hmc_min', 'b1_hmc_max', 'b1_hmc_mean', 'b1_hmc_std', 'b1_hmc_med', 'b1_hmc_p25', 'b1_hmc_p50', 'b1_hmc_p75', 'b1_hmc_p95', 'b1_hmc_p99', 'b1_hcv_min', 'b1_hcv_max', 'b1_hcv_mean', 'b1_hcv_std', 'b1_hcv_med', 'b1_hcv_p25', 'b1_hcv_p50', 'b1_hcv_p75', 'b1_hcv_p95', 'b1_hcv_p99', 'b1_h99_min', 'b1_h99_max', 'b1_h99_mean', 'b1_h99_std', 'b1_h99_med', 'b1_h99_p25', 'b1_h99_p50', 'b1_h99_p75', 'b1_h99_p95', 'b1_h99_p99', 'b1_fdc_major', 'b1_fdc_minor', 'b1_ccw_min', 'b1_ccw_max', 'b1_ccw_mean', 'b1_ccw_std', 'b1_ccw_med', 'b1_ccw_p25', 'b1_ccw_p50', 'b1_ccw_p75', 'b1_ccw_p95', 'b1_ccw_p99', 'ccw_dt', 'ccw_dir', 'ccw_seas', 'b1_dp1fm_min', 'b1_dp1fm_max', 'b1_dp1fm_mean', 'b1_dp1fm_std', 'b1_dp1fm_med', 'b1_dp1fm_p25', 'b1_dp1fm_p50', 'b1_dp1fm_p75', 'b1_dp1fm_p95', 'b1_dp1fm_p99', 'b2_dp1fm_min', 'b2_dp1fm_max', 'b2_dp1fm_mean', 'b2_dp1fm_std', 'b2_dp1fm_med', 'b2_dp1fm_p25', 'b2_dp1fm_p50', 'b2_dp1fm_p75', 'b2_dp1fm_p95', 'b2_dp1fm_p99', 'b3_dp1fm_min', 'b3_dp1fm_max', 'b3_dp1fm_mean', 'b3_dp1fm_std', 'b3_dp1fm_med', 'b3_dp1fm_p25', 'b3_dp1fm_p50', 'b3_dp1fm_p75', 'b3_dp1fm_p95', 'b3_dp1fm_p99', 'b1_dbifm_min', 'b1_dbifm_max', 'b1_dbifm_mean', 'b1_dbifm_std', 'b1_dbifm_med', 'b1_dbifm_p25', 'b1_dbifm_p50', 'b1_dbifm_p75', 'b1_dbifm_p95', 'b1_dbifm_p99', 'b2_dbifm_min', 'b2_dbifm_max', 'b2_dbifm_mean', 'b2_dbifm_std', 'b2_dbifm_med', 'b2_dbifm_p25', 'b2_dbifm_p50', 'b2_dbifm_p75', 'b2_dbifm_p95', 'b2_dbifm_p99', 'b3_dbifm_min', 'b3_dbifm_max', 'b3_dbifm_mean', 'b3_dbifm_std', 'b3_dbifm_med', 'b3_dbifm_p25', 'b3_dbifm_p50', 'b3_dbifm_p75', 'b3_dbifm_p95', 'b3_dbifm_p99', 'b4_dbifm_min', 'b4_dbifm_max', 'b4_dbifm_mean', 'b4_dbifm_std', 'b4_dbifm_med', 'b4_dbifm_p25', 'b4_dbifm_p50', 'b4_dbifm_p75', 'b4_dbifm_p95', 'b4_dbifm_p99', 'b5_dbifm_min', 'b5_dbifm_max', 'b5_dbifm_mean', 'b5_dbifm_std', 'b5_dbifm_med', 'b5_dbifm_p25', 'b5_dbifm_p50', 'b5_dbifm_p75', 'b5_dbifm_p95', 'b5_dbifm_p99', 'b6_dbifm_min', 'b6_dbifm_max', 'b6_dbifm_mean', 'b6_dbifm_std', 'b6_dbifm_med', 'b6_dbifm_p25', 'b6_dbifm_p50', 'b6_dbifm_p75', 'b6_dbifm_p95', 'b6_dbifm_p99', 'dbifman_psB1a', 'dbifman_psB2a', 'dbifman_psB3a', 'dbifman_psB4a', 'dbifman_psB5a', 'dbifman_psB6a', 'dbifman_r32', 'dbifman_r42', 'dbifman_r43', 'dbifman_r52', 'dbifman_r53', 'dbifman_r54', 'dbifman_r62', 'dbifman_r63', 'dbifman_r64', 'dbifman_r65', 'dbifman_GSAVI', 'dbifman_GNDVI', 'dbifman_CVI', 'dbifman_NDGI', 'dbifman_RI', 'dbifman_NBR', 'dbifman_NDII', 'dbifman_GDVI', 'dbifman_MSAVI', 'dbifman_DVI', 'dbifman_SAVI', 'dbifman_NDVI', 'dbifman_MSR']\n"
     ]
    },
    {
     "data": {
      "text/plain": [
       "(46800, 411)"
      ]
     },
     "execution_count": 8,
     "metadata": {},
     "output_type": "execute_result"
    }
   ],
   "source": [
    "# read as dataframe and copy\n",
    "df1 = pd.read_csv(csv_file, header=0) # the first row is read in as the header for you columns\n",
    "print(df1.shape) # prints out the number of rows and columns in your csv file \n",
    "print(list(df1))\n",
    "df1.shape\n",
    "#df2 = df1.copy()"
   ]
  },
  {
   "cell_type": "code",
   "execution_count": 9,
   "metadata": {
    "ExecuteTime": {
     "end_time": "2024-08-05T02:28:19.834936Z",
     "start_time": "2024-08-05T02:28:19.817934Z"
    }
   },
   "outputs": [
    {
     "data": {
      "text/plain": [
       "Index(['mean_f_afsm', 'min_f_afsm', 'max_f_afsm', 'mean_f_afyn', 'min_f_afyn',\n",
       "       'max_f_afyn', 'mean_f_agap', 'min_f_agap', 'max_f_agap', 'mean_f_apos',\n",
       "       'min_f_apos', 'max_f_apos', 'mean_f_ario', 'min_f_ario', 'max_f_ario',\n",
       "       'mean_f_dfsm', 'min_f_dfsm', 'max_f_dfsm', 'mean_f_dfyn', 'min_f_dfyn',\n",
       "       'max_f_dfyn', 'mean_f_dgap', 'min_f_dgap', 'max_f_dgap', 'mean_f_dpos',\n",
       "       'min_f_dpos', 'max_f_dpos', 'mean_f_drio', 'min_f_drio', 'max_f_drio',\n",
       "       'mean_f_lfsm', 'min_f_lfsm', 'max_f_lfsm', 'mean_f_lfyn', 'min_f_lfyn',\n",
       "       'max_f_lfyn', 'mean_f_lgap', 'min_f_lgap', 'max_f_lgap', 'mean_f_lpos',\n",
       "       'min_f_lpos', 'max_f_lpos', 'mean_f_lrio', 'min_f_lrio', 'max_f_lrio',\n",
       "       'dr_corr', 'ma_corr', 'tx_corr', 'tn_corr', 'rx_corr', 'rn_corr',\n",
       "       'b1_wfp_min', 'b1_wfp_max', 'b1_wfp_mean', 'b1_wfp_std', 'b1_wfp_med',\n",
       "       'b1_wfp_p25', 'b1_wfp_p50', 'b1_wfp_p75', 'b1_wfp_p95', 'b1_wfp_p99',\n",
       "       'wfp_dt', 'wfp_dir', 'wfp_seas', 'b1_wdc_major', 'b1_wdc_minor',\n",
       "       'b1_ccw_min', 'b1_ccw_max', 'b1_ccw_mean', 'b1_ccw_std', 'b1_ccw_med',\n",
       "       'b1_ccw_p25', 'b1_ccw_p50', 'b1_ccw_p75', 'b1_ccw_p95', 'b1_ccw_p99',\n",
       "       'ccw_dt', 'ccw_dir', 'ccw_seas', 'b1_dp1fm_min', 'b2_dp1fm_min'],\n",
       "      dtype='object')"
      ]
     },
     "execution_count": 9,
     "metadata": {},
     "output_type": "execute_result"
    }
   ],
   "source": [
    "# Check for null values in each column\n",
    "columns_with_nulls = df1.columns[df1.isnull().any()]\n",
    "columns_with_nulls"
   ]
  },
  {
   "cell_type": "markdown",
   "metadata": {},
   "source": [
    "## Fill missing values"
   ]
  },
  {
   "cell_type": "code",
   "execution_count": 10,
   "metadata": {
    "ExecuteTime": {
     "end_time": "2024-08-05T02:28:20.891518Z",
     "start_time": "2024-08-05T02:28:20.842774Z"
    }
   },
   "outputs": [
    {
     "ename": "TypeError",
     "evalue": "'<=' not supported between instances of 'str' and 'float'",
     "output_type": "error",
     "traceback": [
      "\u001b[1;31m---------------------------------------------------------------------------\u001b[0m",
      "\u001b[1;31mTypeError\u001b[0m                                 Traceback (most recent call last)",
      "\u001b[1;32m<ipython-input-10-46a20132f19c>\u001b[0m in \u001b[0;36m<module>\u001b[1;34m()\u001b[0m\n\u001b[0;32m      1\u001b[0m \u001b[1;31m# Fill missing values with the minimum value of each column\u001b[0m\u001b[1;33m\u001b[0m\u001b[1;33m\u001b[0m\u001b[1;33m\u001b[0m\u001b[0m\n\u001b[1;32m----> 2\u001b[1;33m \u001b[0mdf1\u001b[0m \u001b[1;33m=\u001b[0m \u001b[0mdf1\u001b[0m\u001b[1;33m.\u001b[0m\u001b[0mapply\u001b[0m\u001b[1;33m(\u001b[0m\u001b[1;32mlambda\u001b[0m \u001b[0mcol\u001b[0m\u001b[1;33m:\u001b[0m \u001b[0mcol\u001b[0m\u001b[1;33m.\u001b[0m\u001b[0mfillna\u001b[0m\u001b[1;33m(\u001b[0m\u001b[0mcol\u001b[0m\u001b[1;33m.\u001b[0m\u001b[0mmin\u001b[0m\u001b[1;33m(\u001b[0m\u001b[1;33m)\u001b[0m\u001b[1;33m)\u001b[0m\u001b[1;33m,\u001b[0m \u001b[0maxis\u001b[0m\u001b[1;33m=\u001b[0m\u001b[1;36m0\u001b[0m\u001b[1;33m)\u001b[0m\u001b[1;33m\u001b[0m\u001b[1;33m\u001b[0m\u001b[0m\n\u001b[0m",
      "\u001b[1;32mC:\\Users\\robot\\anaconda3\\envs\\biomass_zonal\\lib\\site-packages\\pandas\\core\\frame.py\u001b[0m in \u001b[0;36mapply\u001b[1;34m(self, func, axis, raw, result_type, args, **kwds)\u001b[0m\n\u001b[0;32m   7543\u001b[0m             \u001b[0mkwds\u001b[0m\u001b[1;33m=\u001b[0m\u001b[0mkwds\u001b[0m\u001b[1;33m,\u001b[0m\u001b[1;33m\u001b[0m\u001b[1;33m\u001b[0m\u001b[0m\n\u001b[0;32m   7544\u001b[0m         )\n\u001b[1;32m-> 7545\u001b[1;33m         \u001b[1;32mreturn\u001b[0m \u001b[0mop\u001b[0m\u001b[1;33m.\u001b[0m\u001b[0mget_result\u001b[0m\u001b[1;33m(\u001b[0m\u001b[1;33m)\u001b[0m\u001b[1;33m\u001b[0m\u001b[1;33m\u001b[0m\u001b[0m\n\u001b[0m\u001b[0;32m   7546\u001b[0m \u001b[1;33m\u001b[0m\u001b[0m\n\u001b[0;32m   7547\u001b[0m     \u001b[1;32mdef\u001b[0m \u001b[0mapplymap\u001b[0m\u001b[1;33m(\u001b[0m\u001b[0mself\u001b[0m\u001b[1;33m,\u001b[0m \u001b[0mfunc\u001b[0m\u001b[1;33m)\u001b[0m \u001b[1;33m->\u001b[0m \u001b[1;34m\"DataFrame\"\u001b[0m\u001b[1;33m:\u001b[0m\u001b[1;33m\u001b[0m\u001b[1;33m\u001b[0m\u001b[0m\n",
      "\u001b[1;32mC:\\Users\\robot\\anaconda3\\envs\\biomass_zonal\\lib\\site-packages\\pandas\\core\\apply.py\u001b[0m in \u001b[0;36mget_result\u001b[1;34m(self)\u001b[0m\n\u001b[0;32m    178\u001b[0m             \u001b[1;32mreturn\u001b[0m \u001b[0mself\u001b[0m\u001b[1;33m.\u001b[0m\u001b[0mapply_raw\u001b[0m\u001b[1;33m(\u001b[0m\u001b[1;33m)\u001b[0m\u001b[1;33m\u001b[0m\u001b[1;33m\u001b[0m\u001b[0m\n\u001b[0;32m    179\u001b[0m \u001b[1;33m\u001b[0m\u001b[0m\n\u001b[1;32m--> 180\u001b[1;33m         \u001b[1;32mreturn\u001b[0m \u001b[0mself\u001b[0m\u001b[1;33m.\u001b[0m\u001b[0mapply_standard\u001b[0m\u001b[1;33m(\u001b[0m\u001b[1;33m)\u001b[0m\u001b[1;33m\u001b[0m\u001b[1;33m\u001b[0m\u001b[0m\n\u001b[0m\u001b[0;32m    181\u001b[0m \u001b[1;33m\u001b[0m\u001b[0m\n\u001b[0;32m    182\u001b[0m     \u001b[1;32mdef\u001b[0m \u001b[0mapply_empty_result\u001b[0m\u001b[1;33m(\u001b[0m\u001b[0mself\u001b[0m\u001b[1;33m)\u001b[0m\u001b[1;33m:\u001b[0m\u001b[1;33m\u001b[0m\u001b[1;33m\u001b[0m\u001b[0m\n",
      "\u001b[1;32mC:\\Users\\robot\\anaconda3\\envs\\biomass_zonal\\lib\\site-packages\\pandas\\core\\apply.py\u001b[0m in \u001b[0;36mapply_standard\u001b[1;34m(self)\u001b[0m\n\u001b[0;32m    253\u001b[0m \u001b[1;33m\u001b[0m\u001b[0m\n\u001b[0;32m    254\u001b[0m     \u001b[1;32mdef\u001b[0m \u001b[0mapply_standard\u001b[0m\u001b[1;33m(\u001b[0m\u001b[0mself\u001b[0m\u001b[1;33m)\u001b[0m\u001b[1;33m:\u001b[0m\u001b[1;33m\u001b[0m\u001b[1;33m\u001b[0m\u001b[0m\n\u001b[1;32m--> 255\u001b[1;33m         \u001b[0mresults\u001b[0m\u001b[1;33m,\u001b[0m \u001b[0mres_index\u001b[0m \u001b[1;33m=\u001b[0m \u001b[0mself\u001b[0m\u001b[1;33m.\u001b[0m\u001b[0mapply_series_generator\u001b[0m\u001b[1;33m(\u001b[0m\u001b[1;33m)\u001b[0m\u001b[1;33m\u001b[0m\u001b[1;33m\u001b[0m\u001b[0m\n\u001b[0m\u001b[0;32m    256\u001b[0m \u001b[1;33m\u001b[0m\u001b[0m\n\u001b[0;32m    257\u001b[0m         \u001b[1;31m# wrap results\u001b[0m\u001b[1;33m\u001b[0m\u001b[1;33m\u001b[0m\u001b[1;33m\u001b[0m\u001b[0m\n",
      "\u001b[1;32mC:\\Users\\robot\\anaconda3\\envs\\biomass_zonal\\lib\\site-packages\\pandas\\core\\apply.py\u001b[0m in \u001b[0;36mapply_series_generator\u001b[1;34m(self)\u001b[0m\n\u001b[0;32m    282\u001b[0m                 \u001b[1;32mfor\u001b[0m \u001b[0mi\u001b[0m\u001b[1;33m,\u001b[0m \u001b[0mv\u001b[0m \u001b[1;32min\u001b[0m \u001b[0menumerate\u001b[0m\u001b[1;33m(\u001b[0m\u001b[0mseries_gen\u001b[0m\u001b[1;33m)\u001b[0m\u001b[1;33m:\u001b[0m\u001b[1;33m\u001b[0m\u001b[1;33m\u001b[0m\u001b[0m\n\u001b[0;32m    283\u001b[0m                     \u001b[1;31m# ignore SettingWithCopy here in case the user mutates\u001b[0m\u001b[1;33m\u001b[0m\u001b[1;33m\u001b[0m\u001b[1;33m\u001b[0m\u001b[0m\n\u001b[1;32m--> 284\u001b[1;33m                     \u001b[0mresults\u001b[0m\u001b[1;33m[\u001b[0m\u001b[0mi\u001b[0m\u001b[1;33m]\u001b[0m \u001b[1;33m=\u001b[0m \u001b[0mself\u001b[0m\u001b[1;33m.\u001b[0m\u001b[0mf\u001b[0m\u001b[1;33m(\u001b[0m\u001b[0mv\u001b[0m\u001b[1;33m)\u001b[0m\u001b[1;33m\u001b[0m\u001b[1;33m\u001b[0m\u001b[0m\n\u001b[0m\u001b[0;32m    285\u001b[0m                     \u001b[1;32mif\u001b[0m \u001b[0misinstance\u001b[0m\u001b[1;33m(\u001b[0m\u001b[0mresults\u001b[0m\u001b[1;33m[\u001b[0m\u001b[0mi\u001b[0m\u001b[1;33m]\u001b[0m\u001b[1;33m,\u001b[0m \u001b[0mABCSeries\u001b[0m\u001b[1;33m)\u001b[0m\u001b[1;33m:\u001b[0m\u001b[1;33m\u001b[0m\u001b[1;33m\u001b[0m\u001b[0m\n\u001b[0;32m    286\u001b[0m                         \u001b[1;31m# If we have a view on v, we need to make a copy because\u001b[0m\u001b[1;33m\u001b[0m\u001b[1;33m\u001b[0m\u001b[1;33m\u001b[0m\u001b[0m\n",
      "\u001b[1;32m<ipython-input-10-46a20132f19c>\u001b[0m in \u001b[0;36m<lambda>\u001b[1;34m(col)\u001b[0m\n\u001b[0;32m      1\u001b[0m \u001b[1;31m# Fill missing values with the minimum value of each column\u001b[0m\u001b[1;33m\u001b[0m\u001b[1;33m\u001b[0m\u001b[1;33m\u001b[0m\u001b[0m\n\u001b[1;32m----> 2\u001b[1;33m \u001b[0mdf1\u001b[0m \u001b[1;33m=\u001b[0m \u001b[0mdf1\u001b[0m\u001b[1;33m.\u001b[0m\u001b[0mapply\u001b[0m\u001b[1;33m(\u001b[0m\u001b[1;32mlambda\u001b[0m \u001b[0mcol\u001b[0m\u001b[1;33m:\u001b[0m \u001b[0mcol\u001b[0m\u001b[1;33m.\u001b[0m\u001b[0mfillna\u001b[0m\u001b[1;33m(\u001b[0m\u001b[0mcol\u001b[0m\u001b[1;33m.\u001b[0m\u001b[0mmin\u001b[0m\u001b[1;33m(\u001b[0m\u001b[1;33m)\u001b[0m\u001b[1;33m)\u001b[0m\u001b[1;33m,\u001b[0m \u001b[0maxis\u001b[0m\u001b[1;33m=\u001b[0m\u001b[1;36m0\u001b[0m\u001b[1;33m)\u001b[0m\u001b[1;33m\u001b[0m\u001b[1;33m\u001b[0m\u001b[0m\n\u001b[0m",
      "\u001b[1;32mC:\\Users\\robot\\anaconda3\\envs\\biomass_zonal\\lib\\site-packages\\pandas\\core\\generic.py\u001b[0m in \u001b[0;36mstat_func\u001b[1;34m(self, axis, skipna, level, numeric_only, **kwargs)\u001b[0m\n\u001b[0;32m  11458\u001b[0m             \u001b[1;32mreturn\u001b[0m \u001b[0mself\u001b[0m\u001b[1;33m.\u001b[0m\u001b[0m_agg_by_level\u001b[0m\u001b[1;33m(\u001b[0m\u001b[0mname\u001b[0m\u001b[1;33m,\u001b[0m \u001b[0maxis\u001b[0m\u001b[1;33m=\u001b[0m\u001b[0maxis\u001b[0m\u001b[1;33m,\u001b[0m \u001b[0mlevel\u001b[0m\u001b[1;33m=\u001b[0m\u001b[0mlevel\u001b[0m\u001b[1;33m,\u001b[0m \u001b[0mskipna\u001b[0m\u001b[1;33m=\u001b[0m\u001b[0mskipna\u001b[0m\u001b[1;33m)\u001b[0m\u001b[1;33m\u001b[0m\u001b[1;33m\u001b[0m\u001b[0m\n\u001b[0;32m  11459\u001b[0m         return self._reduce(\n\u001b[1;32m> 11460\u001b[1;33m             \u001b[0mfunc\u001b[0m\u001b[1;33m,\u001b[0m \u001b[0mname\u001b[0m\u001b[1;33m=\u001b[0m\u001b[0mname\u001b[0m\u001b[1;33m,\u001b[0m \u001b[0maxis\u001b[0m\u001b[1;33m=\u001b[0m\u001b[0maxis\u001b[0m\u001b[1;33m,\u001b[0m \u001b[0mskipna\u001b[0m\u001b[1;33m=\u001b[0m\u001b[0mskipna\u001b[0m\u001b[1;33m,\u001b[0m \u001b[0mnumeric_only\u001b[0m\u001b[1;33m=\u001b[0m\u001b[0mnumeric_only\u001b[0m\u001b[1;33m\u001b[0m\u001b[1;33m\u001b[0m\u001b[0m\n\u001b[0m\u001b[0;32m  11461\u001b[0m         )\n\u001b[0;32m  11462\u001b[0m \u001b[1;33m\u001b[0m\u001b[0m\n",
      "\u001b[1;32mC:\\Users\\robot\\anaconda3\\envs\\biomass_zonal\\lib\\site-packages\\pandas\\core\\series.py\u001b[0m in \u001b[0;36m_reduce\u001b[1;34m(self, op, name, axis, skipna, numeric_only, filter_type, **kwds)\u001b[0m\n\u001b[0;32m   4234\u001b[0m                 )\n\u001b[0;32m   4235\u001b[0m             \u001b[1;32mwith\u001b[0m \u001b[0mnp\u001b[0m\u001b[1;33m.\u001b[0m\u001b[0merrstate\u001b[0m\u001b[1;33m(\u001b[0m\u001b[0mall\u001b[0m\u001b[1;33m=\u001b[0m\u001b[1;34m\"ignore\"\u001b[0m\u001b[1;33m)\u001b[0m\u001b[1;33m:\u001b[0m\u001b[1;33m\u001b[0m\u001b[1;33m\u001b[0m\u001b[0m\n\u001b[1;32m-> 4236\u001b[1;33m                 \u001b[1;32mreturn\u001b[0m \u001b[0mop\u001b[0m\u001b[1;33m(\u001b[0m\u001b[0mdelegate\u001b[0m\u001b[1;33m,\u001b[0m \u001b[0mskipna\u001b[0m\u001b[1;33m=\u001b[0m\u001b[0mskipna\u001b[0m\u001b[1;33m,\u001b[0m \u001b[1;33m**\u001b[0m\u001b[0mkwds\u001b[0m\u001b[1;33m)\u001b[0m\u001b[1;33m\u001b[0m\u001b[1;33m\u001b[0m\u001b[0m\n\u001b[0m\u001b[0;32m   4237\u001b[0m \u001b[1;33m\u001b[0m\u001b[0m\n\u001b[0;32m   4238\u001b[0m     \u001b[1;32mdef\u001b[0m \u001b[0m_reindex_indexer\u001b[0m\u001b[1;33m(\u001b[0m\u001b[0mself\u001b[0m\u001b[1;33m,\u001b[0m \u001b[0mnew_index\u001b[0m\u001b[1;33m,\u001b[0m \u001b[0mindexer\u001b[0m\u001b[1;33m,\u001b[0m \u001b[0mcopy\u001b[0m\u001b[1;33m)\u001b[0m\u001b[1;33m:\u001b[0m\u001b[1;33m\u001b[0m\u001b[1;33m\u001b[0m\u001b[0m\n",
      "\u001b[1;32mC:\\Users\\robot\\anaconda3\\envs\\biomass_zonal\\lib\\site-packages\\pandas\\core\\nanops.py\u001b[0m in \u001b[0;36mf\u001b[1;34m(values, axis, skipna, **kwds)\u001b[0m\n\u001b[0;32m    127\u001b[0m                     \u001b[0mresult\u001b[0m \u001b[1;33m=\u001b[0m \u001b[0malt\u001b[0m\u001b[1;33m(\u001b[0m\u001b[0mvalues\u001b[0m\u001b[1;33m,\u001b[0m \u001b[0maxis\u001b[0m\u001b[1;33m=\u001b[0m\u001b[0maxis\u001b[0m\u001b[1;33m,\u001b[0m \u001b[0mskipna\u001b[0m\u001b[1;33m=\u001b[0m\u001b[0mskipna\u001b[0m\u001b[1;33m,\u001b[0m \u001b[1;33m**\u001b[0m\u001b[0mkwds\u001b[0m\u001b[1;33m)\u001b[0m\u001b[1;33m\u001b[0m\u001b[1;33m\u001b[0m\u001b[0m\n\u001b[0;32m    128\u001b[0m             \u001b[1;32melse\u001b[0m\u001b[1;33m:\u001b[0m\u001b[1;33m\u001b[0m\u001b[1;33m\u001b[0m\u001b[0m\n\u001b[1;32m--> 129\u001b[1;33m                 \u001b[0mresult\u001b[0m \u001b[1;33m=\u001b[0m \u001b[0malt\u001b[0m\u001b[1;33m(\u001b[0m\u001b[0mvalues\u001b[0m\u001b[1;33m,\u001b[0m \u001b[0maxis\u001b[0m\u001b[1;33m=\u001b[0m\u001b[0maxis\u001b[0m\u001b[1;33m,\u001b[0m \u001b[0mskipna\u001b[0m\u001b[1;33m=\u001b[0m\u001b[0mskipna\u001b[0m\u001b[1;33m,\u001b[0m \u001b[1;33m**\u001b[0m\u001b[0mkwds\u001b[0m\u001b[1;33m)\u001b[0m\u001b[1;33m\u001b[0m\u001b[1;33m\u001b[0m\u001b[0m\n\u001b[0m\u001b[0;32m    130\u001b[0m \u001b[1;33m\u001b[0m\u001b[0m\n\u001b[0;32m    131\u001b[0m             \u001b[1;32mreturn\u001b[0m \u001b[0mresult\u001b[0m\u001b[1;33m\u001b[0m\u001b[1;33m\u001b[0m\u001b[0m\n",
      "\u001b[1;32mC:\\Users\\robot\\anaconda3\\envs\\biomass_zonal\\lib\\site-packages\\pandas\\core\\nanops.py\u001b[0m in \u001b[0;36mreduction\u001b[1;34m(values, axis, skipna, mask)\u001b[0m\n\u001b[0;32m    871\u001b[0m                 \u001b[0mresult\u001b[0m \u001b[1;33m=\u001b[0m \u001b[0mnp\u001b[0m\u001b[1;33m.\u001b[0m\u001b[0mnan\u001b[0m\u001b[1;33m\u001b[0m\u001b[1;33m\u001b[0m\u001b[0m\n\u001b[0;32m    872\u001b[0m         \u001b[1;32melse\u001b[0m\u001b[1;33m:\u001b[0m\u001b[1;33m\u001b[0m\u001b[1;33m\u001b[0m\u001b[0m\n\u001b[1;32m--> 873\u001b[1;33m             \u001b[0mresult\u001b[0m \u001b[1;33m=\u001b[0m \u001b[0mgetattr\u001b[0m\u001b[1;33m(\u001b[0m\u001b[0mvalues\u001b[0m\u001b[1;33m,\u001b[0m \u001b[0mmeth\u001b[0m\u001b[1;33m)\u001b[0m\u001b[1;33m(\u001b[0m\u001b[0maxis\u001b[0m\u001b[1;33m)\u001b[0m\u001b[1;33m\u001b[0m\u001b[1;33m\u001b[0m\u001b[0m\n\u001b[0m\u001b[0;32m    874\u001b[0m \u001b[1;33m\u001b[0m\u001b[0m\n\u001b[0;32m    875\u001b[0m         \u001b[0mresult\u001b[0m \u001b[1;33m=\u001b[0m \u001b[0m_wrap_results\u001b[0m\u001b[1;33m(\u001b[0m\u001b[0mresult\u001b[0m\u001b[1;33m,\u001b[0m \u001b[0mdtype\u001b[0m\u001b[1;33m,\u001b[0m \u001b[0mfill_value\u001b[0m\u001b[1;33m)\u001b[0m\u001b[1;33m\u001b[0m\u001b[1;33m\u001b[0m\u001b[0m\n",
      "\u001b[1;32mC:\\Users\\robot\\anaconda3\\envs\\biomass_zonal\\lib\\site-packages\\numpy\\core\\_methods.py\u001b[0m in \u001b[0;36m_amin\u001b[1;34m(a, axis, out, keepdims, initial, where)\u001b[0m\n\u001b[0;32m     41\u001b[0m def _amin(a, axis=None, out=None, keepdims=False,\n\u001b[0;32m     42\u001b[0m           initial=_NoValue, where=True):\n\u001b[1;32m---> 43\u001b[1;33m     \u001b[1;32mreturn\u001b[0m \u001b[0mumr_minimum\u001b[0m\u001b[1;33m(\u001b[0m\u001b[0ma\u001b[0m\u001b[1;33m,\u001b[0m \u001b[0maxis\u001b[0m\u001b[1;33m,\u001b[0m \u001b[1;32mNone\u001b[0m\u001b[1;33m,\u001b[0m \u001b[0mout\u001b[0m\u001b[1;33m,\u001b[0m \u001b[0mkeepdims\u001b[0m\u001b[1;33m,\u001b[0m \u001b[0minitial\u001b[0m\u001b[1;33m,\u001b[0m \u001b[0mwhere\u001b[0m\u001b[1;33m)\u001b[0m\u001b[1;33m\u001b[0m\u001b[1;33m\u001b[0m\u001b[0m\n\u001b[0m\u001b[0;32m     44\u001b[0m \u001b[1;33m\u001b[0m\u001b[0m\n\u001b[0;32m     45\u001b[0m def _sum(a, axis=None, dtype=None, out=None, keepdims=False,\n",
      "\u001b[1;31mTypeError\u001b[0m: '<=' not supported between instances of 'str' and 'float'"
     ]
    }
   ],
   "source": [
    "# Fill missing values with the minimum value of each column\n",
    "df1 = df1.apply(lambda col: col.fillna(col.min()), axis=0)"
   ]
  },
  {
   "cell_type": "code",
   "execution_count": 11,
   "metadata": {
    "ExecuteTime": {
     "end_time": "2024-08-05T02:28:21.348075Z",
     "start_time": "2024-08-05T02:28:21.331088Z"
    }
   },
   "outputs": [
    {
     "data": {
      "text/plain": [
       "Index(['mean_f_afsm', 'min_f_afsm', 'max_f_afsm', 'mean_f_afyn', 'min_f_afyn',\n",
       "       'max_f_afyn', 'mean_f_agap', 'min_f_agap', 'max_f_agap', 'mean_f_apos',\n",
       "       'min_f_apos', 'max_f_apos', 'mean_f_ario', 'min_f_ario', 'max_f_ario',\n",
       "       'mean_f_dfsm', 'min_f_dfsm', 'max_f_dfsm', 'mean_f_dfyn', 'min_f_dfyn',\n",
       "       'max_f_dfyn', 'mean_f_dgap', 'min_f_dgap', 'max_f_dgap', 'mean_f_dpos',\n",
       "       'min_f_dpos', 'max_f_dpos', 'mean_f_drio', 'min_f_drio', 'max_f_drio',\n",
       "       'mean_f_lfsm', 'min_f_lfsm', 'max_f_lfsm', 'mean_f_lfyn', 'min_f_lfyn',\n",
       "       'max_f_lfyn', 'mean_f_lgap', 'min_f_lgap', 'max_f_lgap', 'mean_f_lpos',\n",
       "       'min_f_lpos', 'max_f_lpos', 'mean_f_lrio', 'min_f_lrio', 'max_f_lrio',\n",
       "       'dr_corr', 'ma_corr', 'tx_corr', 'tn_corr', 'rx_corr', 'rn_corr',\n",
       "       'b1_wfp_min', 'b1_wfp_max', 'b1_wfp_mean', 'b1_wfp_std', 'b1_wfp_med',\n",
       "       'b1_wfp_p25', 'b1_wfp_p50', 'b1_wfp_p75', 'b1_wfp_p95', 'b1_wfp_p99',\n",
       "       'wfp_dt', 'wfp_dir', 'wfp_seas', 'b1_wdc_major', 'b1_wdc_minor',\n",
       "       'b1_ccw_min', 'b1_ccw_max', 'b1_ccw_mean', 'b1_ccw_std', 'b1_ccw_med',\n",
       "       'b1_ccw_p25', 'b1_ccw_p50', 'b1_ccw_p75', 'b1_ccw_p95', 'b1_ccw_p99',\n",
       "       'ccw_dt', 'ccw_dir', 'ccw_seas', 'b1_dp1fm_min', 'b2_dp1fm_min'],\n",
       "      dtype='object')"
      ]
     },
     "execution_count": 11,
     "metadata": {},
     "output_type": "execute_result"
    }
   ],
   "source": [
    "# Check for null values in each column\n",
    "columns_with_nulls = df1.columns[df1.isnull().any()]\n",
    "columns_with_nulls"
   ]
  },
  {
   "cell_type": "code",
   "execution_count": 12,
   "metadata": {
    "ExecuteTime": {
     "end_time": "2024-08-05T02:28:21.890218Z",
     "start_time": "2024-08-05T02:28:21.875295Z"
    }
   },
   "outputs": [],
   "source": [
    "df = df1.rename(columns={'bio_agb_kg1ha': 'target'})"
   ]
  },
  {
   "cell_type": "code",
   "execution_count": 13,
   "metadata": {
    "ExecuteTime": {
     "end_time": "2024-08-05T02:28:22.345664Z",
     "start_time": "2024-08-05T02:28:22.323665Z"
    }
   },
   "outputs": [
    {
     "data": {
      "text/html": [
       "<div>\n",
       "<style scoped>\n",
       "    .dataframe tbody tr th:only-of-type {\n",
       "        vertical-align: middle;\n",
       "    }\n",
       "\n",
       "    .dataframe tbody tr th {\n",
       "        vertical-align: top;\n",
       "    }\n",
       "\n",
       "    .dataframe thead th {\n",
       "        text-align: right;\n",
       "    }\n",
       "</style>\n",
       "<table border=\"1\" class=\"dataframe\">\n",
       "  <thead>\n",
       "    <tr style=\"text-align: right;\">\n",
       "      <th></th>\n",
       "      <th>uid</th>\n",
       "      <th>site_name_x</th>\n",
       "      <th>date</th>\n",
       "      <th>lon_gda94</th>\n",
       "      <th>lat_gda94</th>\n",
       "      <th>bio_l_kg1ha</th>\n",
       "      <th>bio_t_kg1ha</th>\n",
       "      <th>bio_b_kg1ha</th>\n",
       "      <th>bio_w_kg1ha</th>\n",
       "      <th>bio_br_kg1ha</th>\n",
       "      <th>...</th>\n",
       "      <th>dbifman_NDGI</th>\n",
       "      <th>dbifman_RI</th>\n",
       "      <th>dbifman_NBR</th>\n",
       "      <th>dbifman_NDII</th>\n",
       "      <th>dbifman_GDVI</th>\n",
       "      <th>dbifman_MSAVI</th>\n",
       "      <th>dbifman_DVI</th>\n",
       "      <th>dbifman_SAVI</th>\n",
       "      <th>dbifman_NDVI</th>\n",
       "      <th>dbifman_MSR</th>\n",
       "    </tr>\n",
       "  </thead>\n",
       "  <tbody>\n",
       "    <tr>\n",
       "      <th>0</th>\n",
       "      <td>82</td>\n",
       "      <td>nt001</td>\n",
       "      <td>20110523</td>\n",
       "      <td>131.21</td>\n",
       "      <td>-13.95</td>\n",
       "      <td>0.00</td>\n",
       "      <td>0.00</td>\n",
       "      <td>0.00</td>\n",
       "      <td>0.00</td>\n",
       "      <td>0.00</td>\n",
       "      <td>...</td>\n",
       "      <td>-892193</td>\n",
       "      <td>892193</td>\n",
       "      <td>2252982</td>\n",
       "      <td>-91008</td>\n",
       "      <td>1987000</td>\n",
       "      <td>2950283</td>\n",
       "      <td>1843000</td>\n",
       "      <td>3214161</td>\n",
       "      <td>5118023</td>\n",
       "      <td>7597445</td>\n",
       "    </tr>\n",
       "    <tr>\n",
       "      <th>1</th>\n",
       "      <td>82</td>\n",
       "      <td>nt001</td>\n",
       "      <td>20110523</td>\n",
       "      <td>131.21</td>\n",
       "      <td>-13.95</td>\n",
       "      <td>0.00</td>\n",
       "      <td>0.00</td>\n",
       "      <td>0.00</td>\n",
       "      <td>0.00</td>\n",
       "      <td>0.00</td>\n",
       "      <td>...</td>\n",
       "      <td>-892193</td>\n",
       "      <td>892193</td>\n",
       "      <td>2252982</td>\n",
       "      <td>-91008</td>\n",
       "      <td>1987000</td>\n",
       "      <td>2950283</td>\n",
       "      <td>1843000</td>\n",
       "      <td>3214161</td>\n",
       "      <td>5118023</td>\n",
       "      <td>7597445</td>\n",
       "    </tr>\n",
       "    <tr>\n",
       "      <th>2</th>\n",
       "      <td>82</td>\n",
       "      <td>nt001</td>\n",
       "      <td>20110523</td>\n",
       "      <td>131.21</td>\n",
       "      <td>-13.95</td>\n",
       "      <td>0.00</td>\n",
       "      <td>0.00</td>\n",
       "      <td>0.00</td>\n",
       "      <td>0.00</td>\n",
       "      <td>0.00</td>\n",
       "      <td>...</td>\n",
       "      <td>-892193</td>\n",
       "      <td>892193</td>\n",
       "      <td>2252982</td>\n",
       "      <td>-91008</td>\n",
       "      <td>1987000</td>\n",
       "      <td>2950283</td>\n",
       "      <td>1843000</td>\n",
       "      <td>3214161</td>\n",
       "      <td>5118023</td>\n",
       "      <td>7597445</td>\n",
       "    </tr>\n",
       "    <tr>\n",
       "      <th>3</th>\n",
       "      <td>82</td>\n",
       "      <td>nt001</td>\n",
       "      <td>20110523</td>\n",
       "      <td>131.21</td>\n",
       "      <td>-13.95</td>\n",
       "      <td>0.00</td>\n",
       "      <td>0.00</td>\n",
       "      <td>0.00</td>\n",
       "      <td>0.00</td>\n",
       "      <td>0.00</td>\n",
       "      <td>...</td>\n",
       "      <td>-892193</td>\n",
       "      <td>892193</td>\n",
       "      <td>2252982</td>\n",
       "      <td>-91008</td>\n",
       "      <td>1987000</td>\n",
       "      <td>2950283</td>\n",
       "      <td>1843000</td>\n",
       "      <td>3214161</td>\n",
       "      <td>5118023</td>\n",
       "      <td>7597445</td>\n",
       "    </tr>\n",
       "    <tr>\n",
       "      <th>4</th>\n",
       "      <td>82</td>\n",
       "      <td>nt001</td>\n",
       "      <td>20110523</td>\n",
       "      <td>131.21</td>\n",
       "      <td>-13.95</td>\n",
       "      <td>0.00</td>\n",
       "      <td>0.00</td>\n",
       "      <td>0.00</td>\n",
       "      <td>0.00</td>\n",
       "      <td>0.00</td>\n",
       "      <td>...</td>\n",
       "      <td>-892193</td>\n",
       "      <td>892193</td>\n",
       "      <td>2252982</td>\n",
       "      <td>-91008</td>\n",
       "      <td>1987000</td>\n",
       "      <td>2950283</td>\n",
       "      <td>1843000</td>\n",
       "      <td>3214161</td>\n",
       "      <td>5118023</td>\n",
       "      <td>7597445</td>\n",
       "    </tr>\n",
       "    <tr>\n",
       "      <th>...</th>\n",
       "      <td>...</td>\n",
       "      <td>...</td>\n",
       "      <td>...</td>\n",
       "      <td>...</td>\n",
       "      <td>...</td>\n",
       "      <td>...</td>\n",
       "      <td>...</td>\n",
       "      <td>...</td>\n",
       "      <td>...</td>\n",
       "      <td>...</td>\n",
       "      <td>...</td>\n",
       "      <td>...</td>\n",
       "      <td>...</td>\n",
       "      <td>...</td>\n",
       "      <td>...</td>\n",
       "      <td>...</td>\n",
       "      <td>...</td>\n",
       "      <td>...</td>\n",
       "      <td>...</td>\n",
       "      <td>...</td>\n",
       "      <td>...</td>\n",
       "    </tr>\n",
       "    <tr>\n",
       "      <th>46795</th>\n",
       "      <td>37</td>\n",
       "      <td>cpr03</td>\n",
       "      <td>20240602</td>\n",
       "      <td>130.81</td>\n",
       "      <td>-12.71</td>\n",
       "      <td>24.35</td>\n",
       "      <td>26.48</td>\n",
       "      <td>103.47</td>\n",
       "      <td>336.61</td>\n",
       "      <td>255.25</td>\n",
       "      <td>...</td>\n",
       "      <td>-369588</td>\n",
       "      <td>369588</td>\n",
       "      <td>1762328</td>\n",
       "      <td>-415020</td>\n",
       "      <td>999000</td>\n",
       "      <td>1723507</td>\n",
       "      <td>964000</td>\n",
       "      <td>2081774</td>\n",
       "      <td>4953751</td>\n",
       "      <td>7214355</td>\n",
       "    </tr>\n",
       "    <tr>\n",
       "      <th>46796</th>\n",
       "      <td>37</td>\n",
       "      <td>cpr03</td>\n",
       "      <td>20240602</td>\n",
       "      <td>130.81</td>\n",
       "      <td>-12.71</td>\n",
       "      <td>24.35</td>\n",
       "      <td>26.48</td>\n",
       "      <td>103.47</td>\n",
       "      <td>336.61</td>\n",
       "      <td>255.25</td>\n",
       "      <td>...</td>\n",
       "      <td>-369588</td>\n",
       "      <td>369588</td>\n",
       "      <td>1762328</td>\n",
       "      <td>-415020</td>\n",
       "      <td>999000</td>\n",
       "      <td>1723507</td>\n",
       "      <td>964000</td>\n",
       "      <td>2081774</td>\n",
       "      <td>4953751</td>\n",
       "      <td>7214355</td>\n",
       "    </tr>\n",
       "    <tr>\n",
       "      <th>46797</th>\n",
       "      <td>37</td>\n",
       "      <td>cpr03</td>\n",
       "      <td>20240602</td>\n",
       "      <td>130.81</td>\n",
       "      <td>-12.71</td>\n",
       "      <td>24.35</td>\n",
       "      <td>26.48</td>\n",
       "      <td>103.47</td>\n",
       "      <td>336.61</td>\n",
       "      <td>255.25</td>\n",
       "      <td>...</td>\n",
       "      <td>-369588</td>\n",
       "      <td>369588</td>\n",
       "      <td>1762328</td>\n",
       "      <td>-415020</td>\n",
       "      <td>999000</td>\n",
       "      <td>1723507</td>\n",
       "      <td>964000</td>\n",
       "      <td>2081774</td>\n",
       "      <td>4953751</td>\n",
       "      <td>7214355</td>\n",
       "    </tr>\n",
       "    <tr>\n",
       "      <th>46798</th>\n",
       "      <td>37</td>\n",
       "      <td>cpr03</td>\n",
       "      <td>20240602</td>\n",
       "      <td>130.81</td>\n",
       "      <td>-12.71</td>\n",
       "      <td>24.35</td>\n",
       "      <td>26.48</td>\n",
       "      <td>103.47</td>\n",
       "      <td>336.61</td>\n",
       "      <td>255.25</td>\n",
       "      <td>...</td>\n",
       "      <td>-369588</td>\n",
       "      <td>369588</td>\n",
       "      <td>1762328</td>\n",
       "      <td>-415020</td>\n",
       "      <td>999000</td>\n",
       "      <td>1723507</td>\n",
       "      <td>964000</td>\n",
       "      <td>2081774</td>\n",
       "      <td>4953751</td>\n",
       "      <td>7214355</td>\n",
       "    </tr>\n",
       "    <tr>\n",
       "      <th>46799</th>\n",
       "      <td>37</td>\n",
       "      <td>cpr03</td>\n",
       "      <td>20240602</td>\n",
       "      <td>130.81</td>\n",
       "      <td>-12.71</td>\n",
       "      <td>24.35</td>\n",
       "      <td>26.48</td>\n",
       "      <td>103.47</td>\n",
       "      <td>336.61</td>\n",
       "      <td>255.25</td>\n",
       "      <td>...</td>\n",
       "      <td>-369588</td>\n",
       "      <td>369588</td>\n",
       "      <td>1762328</td>\n",
       "      <td>-415020</td>\n",
       "      <td>999000</td>\n",
       "      <td>1723507</td>\n",
       "      <td>964000</td>\n",
       "      <td>2081774</td>\n",
       "      <td>4953751</td>\n",
       "      <td>7214355</td>\n",
       "    </tr>\n",
       "  </tbody>\n",
       "</table>\n",
       "<p>46800 rows × 411 columns</p>\n",
       "</div>"
      ],
      "text/plain": [
       "       uid site_name_x      date  lon_gda94  lat_gda94  bio_l_kg1ha  \\\n",
       "0       82       nt001  20110523     131.21     -13.95         0.00   \n",
       "1       82       nt001  20110523     131.21     -13.95         0.00   \n",
       "2       82       nt001  20110523     131.21     -13.95         0.00   \n",
       "3       82       nt001  20110523     131.21     -13.95         0.00   \n",
       "4       82       nt001  20110523     131.21     -13.95         0.00   \n",
       "...    ...         ...       ...        ...        ...          ...   \n",
       "46795   37       cpr03  20240602     130.81     -12.71        24.35   \n",
       "46796   37       cpr03  20240602     130.81     -12.71        24.35   \n",
       "46797   37       cpr03  20240602     130.81     -12.71        24.35   \n",
       "46798   37       cpr03  20240602     130.81     -12.71        24.35   \n",
       "46799   37       cpr03  20240602     130.81     -12.71        24.35   \n",
       "\n",
       "       bio_t_kg1ha  bio_b_kg1ha  bio_w_kg1ha  bio_br_kg1ha  ...  dbifman_NDGI  \\\n",
       "0             0.00         0.00         0.00          0.00  ...       -892193   \n",
       "1             0.00         0.00         0.00          0.00  ...       -892193   \n",
       "2             0.00         0.00         0.00          0.00  ...       -892193   \n",
       "3             0.00         0.00         0.00          0.00  ...       -892193   \n",
       "4             0.00         0.00         0.00          0.00  ...       -892193   \n",
       "...            ...          ...          ...           ...  ...           ...   \n",
       "46795        26.48       103.47       336.61        255.25  ...       -369588   \n",
       "46796        26.48       103.47       336.61        255.25  ...       -369588   \n",
       "46797        26.48       103.47       336.61        255.25  ...       -369588   \n",
       "46798        26.48       103.47       336.61        255.25  ...       -369588   \n",
       "46799        26.48       103.47       336.61        255.25  ...       -369588   \n",
       "\n",
       "       dbifman_RI  dbifman_NBR  dbifman_NDII  dbifman_GDVI  dbifman_MSAVI  \\\n",
       "0          892193      2252982        -91008       1987000        2950283   \n",
       "1          892193      2252982        -91008       1987000        2950283   \n",
       "2          892193      2252982        -91008       1987000        2950283   \n",
       "3          892193      2252982        -91008       1987000        2950283   \n",
       "4          892193      2252982        -91008       1987000        2950283   \n",
       "...           ...          ...           ...           ...            ...   \n",
       "46795      369588      1762328       -415020        999000        1723507   \n",
       "46796      369588      1762328       -415020        999000        1723507   \n",
       "46797      369588      1762328       -415020        999000        1723507   \n",
       "46798      369588      1762328       -415020        999000        1723507   \n",
       "46799      369588      1762328       -415020        999000        1723507   \n",
       "\n",
       "       dbifman_DVI  dbifman_SAVI  dbifman_NDVI  dbifman_MSR  \n",
       "0          1843000       3214161       5118023      7597445  \n",
       "1          1843000       3214161       5118023      7597445  \n",
       "2          1843000       3214161       5118023      7597445  \n",
       "3          1843000       3214161       5118023      7597445  \n",
       "4          1843000       3214161       5118023      7597445  \n",
       "...            ...           ...           ...          ...  \n",
       "46795       964000       2081774       4953751      7214355  \n",
       "46796       964000       2081774       4953751      7214355  \n",
       "46797       964000       2081774       4953751      7214355  \n",
       "46798       964000       2081774       4953751      7214355  \n",
       "46799       964000       2081774       4953751      7214355  \n",
       "\n",
       "[46800 rows x 411 columns]"
      ]
     },
     "execution_count": 13,
     "metadata": {},
     "output_type": "execute_result"
    }
   ],
   "source": [
    "df"
   ]
  },
  {
   "cell_type": "code",
   "execution_count": 14,
   "metadata": {
    "ExecuteTime": {
     "end_time": "2024-08-05T02:28:23.171567Z",
     "start_time": "2024-08-05T02:28:23.161568Z"
    }
   },
   "outputs": [
    {
     "data": {
      "text/plain": [
       "Index(['mean_f_afsm', 'min_f_afsm', 'max_f_afsm', 'mean_f_afyn', 'min_f_afyn',\n",
       "       'max_f_afyn', 'mean_f_agap', 'min_f_agap', 'max_f_agap', 'mean_f_apos',\n",
       "       'min_f_apos', 'max_f_apos', 'mean_f_ario', 'min_f_ario', 'max_f_ario',\n",
       "       'mean_f_dfsm', 'min_f_dfsm', 'max_f_dfsm', 'mean_f_dfyn', 'min_f_dfyn',\n",
       "       'max_f_dfyn', 'mean_f_dgap', 'min_f_dgap', 'max_f_dgap', 'mean_f_dpos',\n",
       "       'min_f_dpos', 'max_f_dpos', 'mean_f_drio', 'min_f_drio', 'max_f_drio',\n",
       "       'mean_f_lfsm', 'min_f_lfsm', 'max_f_lfsm', 'mean_f_lfyn', 'min_f_lfyn',\n",
       "       'max_f_lfyn', 'mean_f_lgap', 'min_f_lgap', 'max_f_lgap', 'mean_f_lpos',\n",
       "       'min_f_lpos', 'max_f_lpos', 'mean_f_lrio', 'min_f_lrio', 'max_f_lrio',\n",
       "       'dr_corr', 'ma_corr', 'tx_corr', 'tn_corr', 'rx_corr', 'rn_corr',\n",
       "       'b1_wfp_min', 'b1_wfp_max', 'b1_wfp_mean', 'b1_wfp_std', 'b1_wfp_med',\n",
       "       'b1_wfp_p25', 'b1_wfp_p50', 'b1_wfp_p75', 'b1_wfp_p95', 'b1_wfp_p99',\n",
       "       'wfp_dt', 'wfp_dir', 'wfp_seas', 'b1_wdc_major', 'b1_wdc_minor',\n",
       "       'b1_ccw_min', 'b1_ccw_max', 'b1_ccw_mean', 'b1_ccw_std', 'b1_ccw_med',\n",
       "       'b1_ccw_p25', 'b1_ccw_p50', 'b1_ccw_p75', 'b1_ccw_p95', 'b1_ccw_p99',\n",
       "       'ccw_dt', 'ccw_dir', 'ccw_seas', 'b1_dp1fm_min', 'b2_dp1fm_min'],\n",
       "      dtype='object')"
      ]
     },
     "execution_count": 14,
     "metadata": {},
     "output_type": "execute_result"
    }
   ],
   "source": [
    "columns_with_nulls = df.columns[df.isnull().any()]\n",
    "columns_with_nulls"
   ]
  },
  {
   "cell_type": "code",
   "execution_count": 15,
   "metadata": {
    "ExecuteTime": {
     "end_time": "2024-08-05T02:28:24.944593Z",
     "start_time": "2024-08-05T02:28:24.930648Z"
    }
   },
   "outputs": [
    {
     "name": "stdout",
     "output_type": "stream",
     "text": [
      "['uid', 'site_name_x', 'date', 'lon_gda94', 'lat_gda94', 'bio_l_kg1ha', 'bio_t_kg1ha', 'bio_b_kg1ha', 'bio_w_kg1ha', 'bio_br_kg1ha', 'bio_s_kg1ha', 'bio_r_kg1ha', 'target', 'c_l_kg1ha', 'c_t_kg1ha', 'c_b_kg1ha', 'c_w_kg1ha', 'c_br_kg1ha', 'c_s_kg1ha', 'c_r_kg1ha', 'c_agb_kg1ha', 'geometry', 'basal_dt', 'site_clean', 'mean_f_afsm', 'min_f_afsm', 'max_f_afsm', 'mean_f_afyn', 'min_f_afyn', 'max_f_afyn', 'mean_f_agap', 'min_f_agap', 'max_f_agap', 'mean_f_apos', 'min_f_apos', 'max_f_apos', 'mean_f_ario', 'min_f_ario', 'max_f_ario', 'mean_f_dfsm', 'min_f_dfsm', 'max_f_dfsm', 'mean_f_dfyn', 'min_f_dfyn', 'max_f_dfyn', 'mean_f_dgap', 'min_f_dgap', 'max_f_dgap', 'mean_f_dpos', 'min_f_dpos', 'max_f_dpos', 'mean_f_drio', 'min_f_drio', 'max_f_drio', 'mean_f_lfsm', 'min_f_lfsm', 'max_f_lfsm', 'mean_f_lfyn', 'min_f_lfyn', 'max_f_lfyn', 'mean_f_lgap', 'min_f_lgap', 'max_f_lgap', 'mean_f_lpos', 'min_f_lpos', 'max_f_lpos', 'mean_f_lrio', 'min_f_lrio', 'max_f_lrio', 'site_name_y', 'dr_asav', 'dr_asmd', 'dr_aavg', 'dr_amed', 'dr_asiv', 'dr_asid', 'dr_asum', 'dr_corr', 'dr_dsav', 'dr_dsmd', 'dr_davg', 'dr_dmed', 'dr_dsiv', 'dr_dsid', 'dr_dsum', 'dr_mavg', 'dr_mmed', 'dr_msum', 'dr_wsav', 'dr_wsmd', 'dr_wavg', 'dr_wmed', 'dr_wsiv', 'dr_wsid', 'dr_wsum', 'ma_asav', 'ma_asmd', 'ma_aavg', 'ma_amed', 'ma_asiv', 'ma_asid', 'ma_asum', 'ma_corr', 'ma_dsav', 'ma_dsmd', 'ma_davg', 'ma_dmed', 'ma_dsiv', 'ma_dsid', 'ma_dsum', 'ma_mavg', 'ma_mmed', 'ma_msum', 'ma_wsav', 'ma_wsmd', 'ma_wavg', 'ma_wmed', 'ma_wsiv', 'ma_wsid', 'ma_wsum', 'tx_asav', 'tx_asmd', 'tx_aavg', 'tx_amed', 'tx_asiv', 'tx_asid', 'tx_asum', 'tx_corr', 'tx_dsav', 'tx_dsmd', 'tx_davg', 'tx_dmed', 'tx_dsiv', 'tx_dsid', 'tx_dsum', 'tx_mavg', 'tx_mmed', 'tx_msum', 'tx_wsav', 'tx_wsmd', 'tx_wavg', 'tx_wmed', 'tx_wsiv', 'tx_wsid', 'tx_wsum', 'tn_asav', 'tn_asmd', 'tn_aavg', 'tn_amed', 'tn_asiv', 'tn_asid', 'tn_asum', 'tn_corr', 'tn_dsav', 'tn_dsmd', 'tn_davg', 'tn_dmed', 'tn_dsiv', 'tn_dsid', 'tn_dsum', 'tn_mavg', 'tn_mmed', 'tn_msum', 'tn_wsav', 'tn_wsmd', 'tn_wavg', 'tn_wmed', 'tn_wsiv', 'tn_wsid', 'tn_wsum', 'rx_asav', 'rx_asmd', 'rx_aavg', 'rx_amed', 'rx_asiv', 'rx_asid', 'rx_asum', 'rx_corr', 'rx_dsav', 'rx_dsmd', 'rx_davg', 'rx_dmed', 'rx_dsiv', 'rx_dsid', 'rx_dsum', 'rx_mavg', 'rx_mmed', 'rx_msum', 'rx_wsav', 'rx_wsmd', 'rx_wavg', 'rx_wmed', 'rx_wsiv', 'rx_wsid', 'rx_wsum', 'rn_asav', 'rn_asmd', 'rn_aavg', 'rn_amed', 'rn_asiv', 'rn_asid', 'rn_asum', 'rn_corr', 'rn_dsav', 'rn_dsmd', 'rn_davg', 'rn_dmed', 'rn_dsiv', 'rn_dsid', 'rn_dsum', 'rn_mavg', 'rn_mmed', 'rn_msum', 'rn_wsav', 'rn_wsmd', 'rn_wavg', 'rn_wmed', 'rn_wsiv', 'rn_wsid', 'rn_wsum', 'b1_wfp_min', 'b1_wfp_max', 'b1_wfp_mean', 'b1_wfp_std', 'b1_wfp_med', 'b1_wfp_p25', 'b1_wfp_p50', 'b1_wfp_p75', 'b1_wfp_p95', 'b1_wfp_p99', 'wfp_dt', 'wfp_dir', 'wfp_seas', 'b1_wdc_major', 'b1_wdc_minor', 'b1_n17_major', 'b1_n17_minor', 'b1_hsd_min', 'b1_hsd_max', 'b1_hsd_mean', 'b1_hsd_std', 'b1_hsd_med', 'b1_hsd_p25', 'b1_hsd_p50', 'b1_hsd_p75', 'b1_hsd_p95', 'b1_hsd_p99', 'b1_hmc_min', 'b1_hmc_max', 'b1_hmc_mean', 'b1_hmc_std', 'b1_hmc_med', 'b1_hmc_p25', 'b1_hmc_p50', 'b1_hmc_p75', 'b1_hmc_p95', 'b1_hmc_p99', 'b1_hcv_min', 'b1_hcv_max', 'b1_hcv_mean', 'b1_hcv_std', 'b1_hcv_med', 'b1_hcv_p25', 'b1_hcv_p50', 'b1_hcv_p75', 'b1_hcv_p95', 'b1_hcv_p99', 'b1_h99_min', 'b1_h99_max', 'b1_h99_mean', 'b1_h99_std', 'b1_h99_med', 'b1_h99_p25', 'b1_h99_p50', 'b1_h99_p75', 'b1_h99_p95', 'b1_h99_p99', 'b1_fdc_major', 'b1_fdc_minor', 'b1_ccw_min', 'b1_ccw_max', 'b1_ccw_mean', 'b1_ccw_std', 'b1_ccw_med', 'b1_ccw_p25', 'b1_ccw_p50', 'b1_ccw_p75', 'b1_ccw_p95', 'b1_ccw_p99', 'ccw_dt', 'ccw_dir', 'ccw_seas', 'b1_dp1fm_min', 'b1_dp1fm_max', 'b1_dp1fm_mean', 'b1_dp1fm_std', 'b1_dp1fm_med', 'b1_dp1fm_p25', 'b1_dp1fm_p50', 'b1_dp1fm_p75', 'b1_dp1fm_p95', 'b1_dp1fm_p99', 'b2_dp1fm_min', 'b2_dp1fm_max', 'b2_dp1fm_mean', 'b2_dp1fm_std', 'b2_dp1fm_med', 'b2_dp1fm_p25', 'b2_dp1fm_p50', 'b2_dp1fm_p75', 'b2_dp1fm_p95', 'b2_dp1fm_p99', 'b3_dp1fm_min', 'b3_dp1fm_max', 'b3_dp1fm_mean', 'b3_dp1fm_std', 'b3_dp1fm_med', 'b3_dp1fm_p25', 'b3_dp1fm_p50', 'b3_dp1fm_p75', 'b3_dp1fm_p95', 'b3_dp1fm_p99', 'b1_dbifm_min', 'b1_dbifm_max', 'b1_dbifm_mean', 'b1_dbifm_std', 'b1_dbifm_med', 'b1_dbifm_p25', 'b1_dbifm_p50', 'b1_dbifm_p75', 'b1_dbifm_p95', 'b1_dbifm_p99', 'b2_dbifm_min', 'b2_dbifm_max', 'b2_dbifm_mean', 'b2_dbifm_std', 'b2_dbifm_med', 'b2_dbifm_p25', 'b2_dbifm_p50', 'b2_dbifm_p75', 'b2_dbifm_p95', 'b2_dbifm_p99', 'b3_dbifm_min', 'b3_dbifm_max', 'b3_dbifm_mean', 'b3_dbifm_std', 'b3_dbifm_med', 'b3_dbifm_p25', 'b3_dbifm_p50', 'b3_dbifm_p75', 'b3_dbifm_p95', 'b3_dbifm_p99', 'b4_dbifm_min', 'b4_dbifm_max', 'b4_dbifm_mean', 'b4_dbifm_std', 'b4_dbifm_med', 'b4_dbifm_p25', 'b4_dbifm_p50', 'b4_dbifm_p75', 'b4_dbifm_p95', 'b4_dbifm_p99', 'b5_dbifm_min', 'b5_dbifm_max', 'b5_dbifm_mean', 'b5_dbifm_std', 'b5_dbifm_med', 'b5_dbifm_p25', 'b5_dbifm_p50', 'b5_dbifm_p75', 'b5_dbifm_p95', 'b5_dbifm_p99', 'b6_dbifm_min', 'b6_dbifm_max', 'b6_dbifm_mean', 'b6_dbifm_std', 'b6_dbifm_med', 'b6_dbifm_p25', 'b6_dbifm_p50', 'b6_dbifm_p75', 'b6_dbifm_p95', 'b6_dbifm_p99', 'dbifman_psB1a', 'dbifman_psB2a', 'dbifman_psB3a', 'dbifman_psB4a', 'dbifman_psB5a', 'dbifman_psB6a', 'dbifman_r32', 'dbifman_r42', 'dbifman_r43', 'dbifman_r52', 'dbifman_r53', 'dbifman_r54', 'dbifman_r62', 'dbifman_r63', 'dbifman_r64', 'dbifman_r65', 'dbifman_GSAVI', 'dbifman_GNDVI', 'dbifman_CVI', 'dbifman_NDGI', 'dbifman_RI', 'dbifman_NBR', 'dbifman_NDII', 'dbifman_GDVI', 'dbifman_MSAVI', 'dbifman_DVI', 'dbifman_SAVI', 'dbifman_NDVI', 'dbifman_MSR']\n"
     ]
    }
   ],
   "source": [
    "print(df.columns.tolist())"
   ]
  },
  {
   "cell_type": "markdown",
   "metadata": {},
   "source": [
    "## Main only"
   ]
  },
  {
   "cell_type": "code",
   "execution_count": 21,
   "metadata": {
    "ExecuteTime": {
     "end_time": "2024-08-05T02:28:32.789061Z",
     "start_time": "2024-08-05T02:28:32.772054Z"
    }
   },
   "outputs": [
    {
     "name": "stdout",
     "output_type": "stream",
     "text": [
      "(200, 45)\n"
     ]
    }
   ],
   "source": [
    "#main major and h99 \n",
    "var_ = data_comp\n",
    "\n",
    "df_columns = list(df.columns)\n",
    "keep = ['site_clean', \"target\", \n",
    "        \"mean\", \n",
    "        #\"major\", \n",
    "        #\"p99\", \n",
    "        \"GNDVI\", \"MSR\", \"NBR\", \"_NDVI\", \"CVI\", \"GDVI\", \"GSAVI\",\n",
    "        \"NDGI\",\"RI\", \"NDII\", \"MSAVI\", \"SAVI\"\n",
    "       'r32', 'r42', 'r43',\n",
    "         'r52', 'r53', 'r54', 'r62', 'r63', 'r64', 'r65',\n",
    "         #'dr_', 'ma_', 'tx_', 'tn_', 'rx_', 'rn_'\n",
    "        ]\n",
    "header = [ele for ele in df_columns for x in keep if x in ele]\n",
    "df2 = df[header]\n",
    "print(df2.shape)"
   ]
  },
  {
   "cell_type": "code",
   "execution_count": 22,
   "metadata": {
    "ExecuteTime": {
     "end_time": "2024-08-05T02:28:38.072515Z",
     "start_time": "2024-08-05T02:28:38.055044Z"
    }
   },
   "outputs": [],
   "source": [
    "# drop fdc - no need for this data\n",
    "\n",
    "# Identify columns that contain \"fdc\" in their column names\n",
    "columns_to_drop = df2.columns[df2.columns.str.contains(\"fdc\", case=False)]\n",
    "\n",
    "# Drop these columns\n",
    "df2 = df2.drop(columns=columns_to_drop)"
   ]
  },
  {
   "cell_type": "code",
   "execution_count": 23,
   "metadata": {
    "ExecuteTime": {
     "end_time": "2024-08-05T02:28:38.450282Z",
     "start_time": "2024-08-05T02:28:38.431374Z"
    }
   },
   "outputs": [
    {
     "data": {
      "text/plain": [
       "Index([], dtype='object')"
      ]
     },
     "execution_count": 23,
     "metadata": {},
     "output_type": "execute_result"
    }
   ],
   "source": [
    "columns_to_drop"
   ]
  },
  {
   "cell_type": "code",
   "execution_count": 24,
   "metadata": {
    "ExecuteTime": {
     "end_time": "2024-08-05T02:28:39.221884Z",
     "start_time": "2024-08-05T02:28:39.208885Z"
    }
   },
   "outputs": [
    {
     "data": {
      "text/plain": [
       "(200, 45)"
      ]
     },
     "execution_count": 24,
     "metadata": {},
     "output_type": "execute_result"
    }
   ],
   "source": [
    "df2.shape"
   ]
  },
  {
   "cell_type": "code",
   "execution_count": 25,
   "metadata": {
    "ExecuteTime": {
     "end_time": "2024-08-05T02:28:40.777415Z",
     "start_time": "2024-08-05T02:28:40.770426Z"
    }
   },
   "outputs": [
    {
     "name": "stdout",
     "output_type": "stream",
     "text": [
      "['target', 'site_clean', 'mean_f_afsm', 'mean_f_apos', 'mean_f_ario', 'mean_f_dfsm', 'mean_f_dpos', 'mean_f_drio', 'mean_f_lfsm', 'mean_f_lpos', 'mean_f_lrio', 'b1_wfp_dry_mean', 'b1_hsd_mean', 'b1_hmc_mean', 'b1_hcv_mean', 'b1_h99_mean', 'b1_ccw_dry_mean', 'b1_dp1fm_dry_mean', 'b2_dp1fm_dry_mean', 'b3_dp1fm_dry_mean', 'b2_dbifm_dry_mean', 'b3_dbifm_dry_mean', 'b4_dbifm_dry_mean', 'b5_dbifm_dry_mean', 'b6_dbifm_dry_mean', 'dbifmdry_r42', 'dbifmdry_r43', 'dbifmdry_r52', 'dbifmdry_r53', 'dbifmdry_r54', 'dbifmdry_r62', 'dbifmdry_r63', 'dbifmdry_r64', 'dbifmdry_r65', 'dbifmdry_GSAVI', 'dbifmdry_GNDVI', 'dbifmdry_CVI', 'dbifmdry_NDGI', 'dbifmdry_RI', 'dbifmdry_NBR', 'dbifmdry_NDII', 'dbifmdry_GDVI', 'dbifmdry_MSAVI', 'dbifmdry_NDVI', 'dbifmdry_MSR']\n"
     ]
    }
   ],
   "source": [
    "print(df2.columns.tolist())"
   ]
  },
  {
   "cell_type": "code",
   "execution_count": 26,
   "metadata": {
    "ExecuteTime": {
     "end_time": "2024-08-05T02:28:41.331625Z",
     "start_time": "2024-08-05T02:28:41.325618Z"
    }
   },
   "outputs": [
    {
     "name": "stdout",
     "output_type": "stream",
     "text": [
      "[]\n"
     ]
    }
   ],
   "source": [
    "df_columns = list(df2.columns)\n",
    "keep = ['major']\n",
    "       \n",
    "classified_cols = [ele for ele in df_columns for x in keep if x in ele]\n",
    "print(classified_cols)"
   ]
  },
  {
   "cell_type": "code",
   "execution_count": 21,
   "metadata": {
    "ExecuteTime": {
     "end_time": "2024-08-02T06:26:53.704822Z",
     "start_time": "2024-08-02T06:26:53.692822Z"
    }
   },
   "outputs": [],
   "source": [
    "# df2 = df2[['site_clean', 'target', 'dbifmdry_r42', 'dbifmdry_r43', 'dbifmdry_r52', 'dbifmdry_r53', 'dbifmdry_r54', 'dbifmdry_r62', 'dbifmdry_r63', 'dbifmdry_r64', 'dbifmdry_r65', 'dbifmdry_NDVI',\n",
    "# \n",
    "#  ]]\n",
    "# print(df2.columns.tolist())\n",
    "# var_ = \"_ratio_NDVI_only_test\""
   ]
  },
  {
   "cell_type": "code",
   "execution_count": 22,
   "metadata": {
    "ExecuteTime": {
     "end_time": "2024-08-02T06:26:53.846825Z",
     "start_time": "2024-08-02T06:26:53.829822Z"
    }
   },
   "outputs": [
    {
     "data": {
      "text/plain": [
       "['site_clean',\n",
       " 'target',\n",
       " 'b1_wfp_dry_mean',\n",
       " 'b1_hsd_mean',\n",
       " 'b1_hmc_mean',\n",
       " 'b1_hcv_mean',\n",
       " 'b1_h99_mean',\n",
       " 'b1_ccw_dry_mean',\n",
       " 'b1_dp1fm_dry_mean',\n",
       " 'b2_dp1fm_dry_mean',\n",
       " 'b3_dp1fm_dry_mean',\n",
       " 'b2_dbifm_dry_mean',\n",
       " 'b3_dbifm_dry_mean',\n",
       " 'b4_dbifm_dry_mean',\n",
       " 'b5_dbifm_dry_mean',\n",
       " 'b6_dbifm_dry_mean',\n",
       " 'dbifmdry_r42',\n",
       " 'dbifmdry_r43',\n",
       " 'dbifmdry_r52',\n",
       " 'dbifmdry_r53',\n",
       " 'dbifmdry_r54',\n",
       " 'dbifmdry_r62',\n",
       " 'dbifmdry_r63',\n",
       " 'dbifmdry_r64',\n",
       " 'dbifmdry_r65',\n",
       " 'dbifmdry_GSAVI',\n",
       " 'dbifmdry_GNDVI',\n",
       " 'dbifmdry_CVI',\n",
       " 'dbifmdry_NDGI',\n",
       " 'dbifmdry_RI',\n",
       " 'dbifmdry_NBR',\n",
       " 'dbifmdry_NDII',\n",
       " 'dbifmdry_GDVI',\n",
       " 'dbifmdry_MSAVI',\n",
       " 'dbifmdry_NDVI',\n",
       " 'dbifmdry_MSR']"
      ]
     },
     "execution_count": 22,
     "metadata": {},
     "output_type": "execute_result"
    }
   ],
   "source": [
    "df2.columns.tolist()"
   ]
  },
  {
   "cell_type": "markdown",
   "metadata": {},
   "source": [
    "### Logical selection"
   ]
  },
  {
   "cell_type": "code",
   "execution_count": 23,
   "metadata": {
    "ExecuteTime": {
     "end_time": "2024-08-02T06:26:53.908826Z",
     "start_time": "2024-08-02T06:26:53.903826Z"
    }
   },
   "outputs": [
    {
     "name": "stdout",
     "output_type": "stream",
     "text": [
      "No duplicate columns found.\n"
     ]
    }
   ],
   "source": [
    "# Check for duplicate columns and print them\n",
    "duplicate_columns = df2.columns[df2.columns.duplicated()]\n",
    "\n",
    "if duplicate_columns.any():\n",
    "    print(\"Duplicate columns found:\")\n",
    "    for col in duplicate_columns:\n",
    "        print(col)\n",
    "else:\n",
    "    print(\"No duplicate columns found.\")"
   ]
  },
  {
   "cell_type": "markdown",
   "metadata": {},
   "source": [
    "## Remove site values which seem like outliers"
   ]
  },
  {
   "cell_type": "markdown",
   "metadata": {},
   "source": [
    "Detect outliers using Z score on all columns including Target\n"
   ]
  },
  {
   "cell_type": "code",
   "execution_count": 24,
   "metadata": {
    "ExecuteTime": {
     "end_time": "2024-08-02T06:26:54.048829Z",
     "start_time": "2024-08-02T06:26:54.028823Z"
    }
   },
   "outputs": [
    {
     "name": "stdout",
     "output_type": "stream",
     "text": [
      "<class 'pandas.core.frame.DataFrame'>\n",
      "RangeIndex: 200 entries, 0 to 199\n",
      "Data columns (total 36 columns):\n",
      " #   Column             Non-Null Count  Dtype  \n",
      "---  ------             --------------  -----  \n",
      " 0   site_clean         200 non-null    object \n",
      " 1   target             200 non-null    float64\n",
      " 2   b1_wfp_dry_mean    200 non-null    float64\n",
      " 3   b1_hsd_mean        200 non-null    float64\n",
      " 4   b1_hmc_mean        200 non-null    float64\n",
      " 5   b1_hcv_mean        200 non-null    float64\n",
      " 6   b1_h99_mean        200 non-null    float64\n",
      " 7   b1_ccw_dry_mean    200 non-null    float64\n",
      " 8   b1_dp1fm_dry_mean  200 non-null    float64\n",
      " 9   b2_dp1fm_dry_mean  200 non-null    float64\n",
      " 10  b3_dp1fm_dry_mean  200 non-null    float64\n",
      " 11  b2_dbifm_dry_mean  200 non-null    float64\n",
      " 12  b3_dbifm_dry_mean  200 non-null    float64\n",
      " 13  b4_dbifm_dry_mean  200 non-null    float64\n",
      " 14  b5_dbifm_dry_mean  200 non-null    float64\n",
      " 15  b6_dbifm_dry_mean  200 non-null    float64\n",
      " 16  dbifmdry_r42       200 non-null    int64  \n",
      " 17  dbifmdry_r43       200 non-null    int64  \n",
      " 18  dbifmdry_r52       200 non-null    int64  \n",
      " 19  dbifmdry_r53       200 non-null    int64  \n",
      " 20  dbifmdry_r54       200 non-null    int64  \n",
      " 21  dbifmdry_r62       200 non-null    int64  \n",
      " 22  dbifmdry_r63       200 non-null    int64  \n",
      " 23  dbifmdry_r64       200 non-null    int64  \n",
      " 24  dbifmdry_r65       200 non-null    int64  \n",
      " 25  dbifmdry_GSAVI     200 non-null    int64  \n",
      " 26  dbifmdry_GNDVI     200 non-null    int64  \n",
      " 27  dbifmdry_CVI       200 non-null    int64  \n",
      " 28  dbifmdry_NDGI      200 non-null    int64  \n",
      " 29  dbifmdry_RI        200 non-null    int64  \n",
      " 30  dbifmdry_NBR       200 non-null    int64  \n",
      " 31  dbifmdry_NDII      200 non-null    int64  \n",
      " 32  dbifmdry_GDVI      200 non-null    int64  \n",
      " 33  dbifmdry_MSAVI     200 non-null    int64  \n",
      " 34  dbifmdry_NDVI      200 non-null    int64  \n",
      " 35  dbifmdry_MSR       200 non-null    int64  \n",
      "dtypes: float64(15), int64(20), object(1)\n",
      "memory usage: 56.4+ KB\n"
     ]
    }
   ],
   "source": [
    "df2.info()"
   ]
  },
  {
   "cell_type": "markdown",
   "metadata": {},
   "source": [
    "## Detect Z score outliers on all columns except target"
   ]
  },
  {
   "cell_type": "code",
   "execution_count": 25,
   "metadata": {
    "ExecuteTime": {
     "end_time": "2024-08-02T06:26:54.456937Z",
     "start_time": "2024-08-02T06:26:54.412937Z"
    }
   },
   "outputs": [
    {
     "name": "stdout",
     "output_type": "stream",
     "text": [
      "Detected Outliers:\n",
      "          site_clean   target  b1_wfp_dry_mean  b1_hsd_mean  b1_hmc_mean  \\\n",
      "5         amg08.2012 29521.80            57.22       103.42       107.59   \n",
      "20        auv07.2012     0.00             1.00       100.37       100.47   \n",
      "40         ep01.2012 18757.20            85.08       102.77       107.54   \n",
      "48        hsf01.2012 25701.69            65.25       102.89       107.15   \n",
      "50       hshr01.2012 35199.71            72.56       104.43       111.05   \n",
      "62       legu03.2012     0.00             1.50       101.19       102.74   \n",
      "76        lit01.2013 25585.07            67.42       105.87       112.95   \n",
      "84        nt004.2012     0.00            15.22       103.00       103.78   \n",
      "132  ntamgd0002.2014     0.00             1.00       100.94       101.70   \n",
      "142  ntastu0005.2016  8402.81            17.06       101.95       103.51   \n",
      "191        wh03.2012     0.00            16.42       102.00       103.57   \n",
      "192        wh04.2012     0.00            15.89       102.12       103.36   \n",
      "\n",
      "     b1_hcv_mean  b1_h99_mean  b1_ccw_dry_mean  b1_dp1fm_dry_mean  \\\n",
      "5         144.85       113.89            79.22               3.33   \n",
      "20        112.70       100.89             1.00              65.22   \n",
      "40        138.38       113.30            96.67               2.50   \n",
      "48        146.12       112.88            85.58               3.58   \n",
      "50        141.64       117.95            90.22               2.22   \n",
      "62        138.91       104.98             1.62              60.75   \n",
      "76        144.24       121.73            87.25               1.33   \n",
      "84        185.01       110.48            25.67               0.78   \n",
      "132       128.66       103.49             1.00              62.78   \n",
      "142       153.46       107.36            29.50              17.31   \n",
      "191       149.95       108.58            29.00              52.25   \n",
      "192       153.47       108.33            27.89              54.67   \n",
      "\n",
      "     b2_dp1fm_dry_mean  ...  dbifmdry_GNDVI  dbifmdry_CVI  dbifmdry_NDGI  \\\n",
      "5                53.33  ...         6409966      44267830         160256   \n",
      "20                0.11  ...         3182178      29832240       -2135036   \n",
      "40               81.42  ...         7035081      42981955        1441048   \n",
      "48               59.83  ...         6237817      40365245         334672   \n",
      "50               67.11  ...         7054575      60584012        -226365   \n",
      "62                4.08  ...         3450859      28126217       -1559216   \n",
      "76               61.75  ...         7295209      68692898        -358127   \n",
      "84               18.11  ...         5071823      41417282       -1504762   \n",
      "132               1.00  ...         3437776      32224131       -2228900   \n",
      "142              24.19  ...         4953532      44201947       -1973392   \n",
      "191              24.00  ...         4543796      44188134       -2474832   \n",
      "192              23.44  ...         4521815      44432394       -2526606   \n",
      "\n",
      "     dbifmdry_RI  dbifmdry_NBR  dbifmdry_NDII  dbifmdry_GDVI  dbifmdry_MSAVI  \\\n",
      "5        -160256       4296991        1027397        1132000         2118919   \n",
      "20       2135036      -1807308       -2641648        1207000          706621   \n",
      "40      -1441048       6111309        2551417        1865000         3597595   \n",
      "48       -334672       4935007        1505525        1280000         2383996   \n",
      "50        226365       5864128        2434172        1758000         3131803   \n",
      "62       1559216      -1168981       -1853730        1566000         1381565   \n",
      "76        358127       6371617        2755771        1888000         3345874   \n",
      "84       1504762       -130246       -2867974         918000         1334040   \n",
      "132      2228900       -433553       -1458626        1558000          930084   \n",
      "142      1973392       -901894       -1985056        1066000         1346027   \n",
      "191      2474832         90736        -515668        1494000         1345598   \n",
      "192      2526606        126939        -481061        1565000         1351412   \n",
      "\n",
      "     dbifmdry_NDVI  dbifmdry_MSR  \n",
      "5          6503417      11725261  \n",
      "20         1123471       1194342  \n",
      "40         7695925      17713304  \n",
      "48         6438086      11482454  \n",
      "50         6939020      13524145  \n",
      "62         1999214       2246446  \n",
      "76         7123183      14396983  \n",
      "84         3861789       5027568  \n",
      "132        1309192       1407375  \n",
      "142        3303018       4094040  \n",
      "191        2331099       2680439  \n",
      "192        2252560       2575762  \n",
      "\n",
      "[12 rows x 36 columns]\n",
      "Original DataFrame with Outliers Highlighted:\n",
      "     site_clean   target  b1_wfp_dry_mean  b1_hsd_mean  b1_hmc_mean  \\\n",
      "0    agb02.2012     0.00            45.89       103.63       107.13   \n",
      "1    amg01.2012  8376.22            44.00       103.88       106.25   \n",
      "2    amg03.2012     0.00             3.33       101.58       103.49   \n",
      "3    amg05.2012 24670.80            34.83       103.14       105.14   \n",
      "4    amg06.2012  3086.16            29.78       103.02       104.74   \n",
      "..          ...      ...              ...          ...          ...   \n",
      "195   wh07.2012   240.24             2.25       100.94       102.21   \n",
      "196   wh08.2012     0.00            11.92       102.08       103.29   \n",
      "197   wh09.2012     0.00             7.89       100.82       101.59   \n",
      "198   wh13.2012     0.00             6.00       101.01       101.96   \n",
      "199   wh15.2012     0.00             1.00       100.89       101.59   \n",
      "\n",
      "     b1_hcv_mean  b1_h99_mean  b1_ccw_dry_mean  b1_dp1fm_dry_mean  \\\n",
      "0         151.32       114.13            68.00              10.67   \n",
      "1         169.41       113.93            66.00               1.33   \n",
      "2         137.70       106.57             6.92               0.67   \n",
      "3         157.61       111.49            54.75               8.75   \n",
      "4         163.29       110.91            48.33               5.22   \n",
      "..           ...          ...              ...                ...   \n",
      "195       140.04       103.96             2.25              35.33   \n",
      "196       156.05       107.97            21.25              30.33   \n",
      "197       144.41       103.81            14.22               1.78   \n",
      "198       131.00       104.01            11.00              21.38   \n",
      "199       138.83       103.90             1.00               5.78   \n",
      "\n",
      "     b2_dp1fm_dry_mean  ...  dbifmdry_GNDVI_outlier  dbifmdry_CVI_outlier  \\\n",
      "0                44.33  ...                  Normal                Normal   \n",
      "1                43.67  ...                  Normal                Normal   \n",
      "2                10.42  ...                  Normal                Normal   \n",
      "3                37.25  ...                  Normal                Normal   \n",
      "4                33.78  ...                  Normal                Normal   \n",
      "..                 ...  ...                     ...                   ...   \n",
      "195               5.75  ...                  Normal                Normal   \n",
      "196              19.67  ...                  Normal                Normal   \n",
      "197              15.67  ...                  Normal                Normal   \n",
      "198               2.50  ...                  Normal                Normal   \n",
      "199               2.00  ...                  Normal                Normal   \n",
      "\n",
      "     dbifmdry_NDGI_outlier  dbifmdry_RI_outlier  dbifmdry_NBR_outlier  \\\n",
      "0                   Normal               Normal                Normal   \n",
      "1                   Normal               Normal                Normal   \n",
      "2                   Normal               Normal                Normal   \n",
      "3                   Normal               Normal                Normal   \n",
      "4                   Normal               Normal                Normal   \n",
      "..                     ...                  ...                   ...   \n",
      "195                 Normal               Normal                Normal   \n",
      "196                 Normal               Normal                Normal   \n",
      "197                 Normal               Normal                Normal   \n",
      "198                 Normal               Normal                Normal   \n",
      "199                 Normal               Normal                Normal   \n",
      "\n",
      "     dbifmdry_NDII_outlier  dbifmdry_GDVI_outlier  dbifmdry_MSAVI_outlier  \\\n",
      "0                   Normal                 Normal                  Normal   \n",
      "1                   Normal                 Normal                  Normal   \n",
      "2                   Normal                 Normal                  Normal   \n",
      "3                   Normal                 Normal                  Normal   \n",
      "4                   Normal                 Normal                  Normal   \n",
      "..                     ...                    ...                     ...   \n",
      "195                 Normal                 Normal                  Normal   \n",
      "196                 Normal                 Normal                  Normal   \n",
      "197                 Normal                 Normal                  Normal   \n",
      "198                 Normal                 Normal                  Normal   \n",
      "199                 Normal                 Normal                  Normal   \n",
      "\n",
      "     dbifmdry_NDVI_outlier  dbifmdry_MSR_outlier  \n",
      "0                   Normal                Normal  \n",
      "1                   Normal                Normal  \n",
      "2                   Normal                Normal  \n",
      "3                   Normal                Normal  \n",
      "4                   Normal                Normal  \n",
      "..                     ...                   ...  \n",
      "195                 Normal                Normal  \n",
      "196                 Normal                Normal  \n",
      "197                 Normal                Normal  \n",
      "198                 Normal                Normal  \n",
      "199                 Normal                Normal  \n",
      "\n",
      "[200 rows x 70 columns]\n"
     ]
    }
   ],
   "source": [
    "import pandas as pd\n",
    "from scipy.stats import zscore\n",
    "import numpy as np\n",
    "\n",
    "# Function to detect outliers using Z-score\n",
    "def detect_outliers(df, target_column):\n",
    "    # Select only numeric columns except the target column\n",
    "    numeric_df = df.select_dtypes(include=[np.number]).drop(columns=[target_column])\n",
    "    \n",
    "    # Calculate the Z-scores\n",
    "    z_scores = np.abs(zscore(numeric_df))\n",
    "    \n",
    "    # Identify rows with Z-scores greater than 3 in any column\n",
    "    outliers = (z_scores > 3).any(axis=1)\n",
    "    \n",
    "    return outliers\n",
    "\n",
    "# Assuming df2 is your DataFrame with mixed data types and 'target' is the target column\n",
    "df = df2.copy()\n",
    "\n",
    "# Define the target column\n",
    "target_column = 'target'  # Replace 'target' with the name of your target column\n",
    "\n",
    "# Detect outliers\n",
    "outliers = detect_outliers(df, target_column)\n",
    "\n",
    "# Print the detected outliers\n",
    "print(\"Detected Outliers:\")\n",
    "print(df[outliers])\n",
    "\n",
    "# If you want to highlight these outliers in the original DataFrame\n",
    "df_highlighted = df.copy()\n",
    "\n",
    "for col in df.select_dtypes(include=[np.number]).drop(columns=[target_column]).columns:\n",
    "    df_highlighted[col + '_outlier'] = np.where(outliers, 'Outlier', 'Normal')\n",
    "\n",
    "print(\"Original DataFrame with Outliers Highlighted:\")\n",
    "print(df_highlighted)\n",
    "\n",
    "output_ = os.path.join(output, f\"dry_mask_{var_}_not_target_outlier.csv\")\n",
    "df_highlighted.to_csv(output_, index=False)"
   ]
  },
  {
   "cell_type": "code",
   "execution_count": 26,
   "metadata": {
    "ExecuteTime": {
     "end_time": "2024-08-02T06:26:54.550938Z",
     "start_time": "2024-08-02T06:26:54.515939Z"
    }
   },
   "outputs": [
    {
     "name": "stdout",
     "output_type": "stream",
     "text": [
      "Detected Outliers:\n",
      "5           amg08.2012\n",
      "20          auv07.2012\n",
      "40           ep01.2012\n",
      "48          hsf01.2012\n",
      "50         hshr01.2012\n",
      "62         legu03.2012\n",
      "76          lit01.2013\n",
      "84          nt004.2012\n",
      "132    ntamgd0002.2014\n",
      "142    ntastu0005.2016\n",
      "167        site21.2023\n",
      "191          wh03.2012\n",
      "192          wh04.2012\n",
      "Name: site_clean, dtype: object\n",
      "Cleaned DataFrame (without outliers):\n"
     ]
    },
    {
     "data": {
      "text/html": [
       "<div>\n",
       "<style scoped>\n",
       "    .dataframe tbody tr th:only-of-type {\n",
       "        vertical-align: middle;\n",
       "    }\n",
       "\n",
       "    .dataframe tbody tr th {\n",
       "        vertical-align: top;\n",
       "    }\n",
       "\n",
       "    .dataframe thead th {\n",
       "        text-align: right;\n",
       "    }\n",
       "</style>\n",
       "<table border=\"1\" class=\"dataframe\">\n",
       "  <thead>\n",
       "    <tr style=\"text-align: right;\">\n",
       "      <th></th>\n",
       "      <th>site_clean</th>\n",
       "      <th>target</th>\n",
       "      <th>b1_wfp_dry_mean</th>\n",
       "      <th>b1_hsd_mean</th>\n",
       "      <th>b1_hmc_mean</th>\n",
       "      <th>b1_hcv_mean</th>\n",
       "      <th>b1_h99_mean</th>\n",
       "      <th>b1_ccw_dry_mean</th>\n",
       "      <th>b1_dp1fm_dry_mean</th>\n",
       "      <th>b2_dp1fm_dry_mean</th>\n",
       "      <th>...</th>\n",
       "      <th>dbifmdry_GNDVI</th>\n",
       "      <th>dbifmdry_CVI</th>\n",
       "      <th>dbifmdry_NDGI</th>\n",
       "      <th>dbifmdry_RI</th>\n",
       "      <th>dbifmdry_NBR</th>\n",
       "      <th>dbifmdry_NDII</th>\n",
       "      <th>dbifmdry_GDVI</th>\n",
       "      <th>dbifmdry_MSAVI</th>\n",
       "      <th>dbifmdry_NDVI</th>\n",
       "      <th>dbifmdry_MSR</th>\n",
       "    </tr>\n",
       "  </thead>\n",
       "  <tbody>\n",
       "    <tr>\n",
       "      <th>0</th>\n",
       "      <td>agb02.2012</td>\n",
       "      <td>0.00</td>\n",
       "      <td>45.89</td>\n",
       "      <td>103.63</td>\n",
       "      <td>107.13</td>\n",
       "      <td>151.32</td>\n",
       "      <td>114.13</td>\n",
       "      <td>68.00</td>\n",
       "      <td>10.67</td>\n",
       "      <td>44.33</td>\n",
       "      <td>...</td>\n",
       "      <td>5566970</td>\n",
       "      <td>47885270</td>\n",
       "      <td>-1538462</td>\n",
       "      <td>1538462</td>\n",
       "      <td>1964774</td>\n",
       "      <td>-383207</td>\n",
       "      <td>1409000</td>\n",
       "      <td>2022182</td>\n",
       "      <td>4405850</td>\n",
       "      <td>6047316</td>\n",
       "    </tr>\n",
       "    <tr>\n",
       "      <th>1</th>\n",
       "      <td>amg01.2012</td>\n",
       "      <td>8376.22</td>\n",
       "      <td>44.00</td>\n",
       "      <td>103.88</td>\n",
       "      <td>106.25</td>\n",
       "      <td>169.41</td>\n",
       "      <td>113.93</td>\n",
       "      <td>66.00</td>\n",
       "      <td>1.33</td>\n",
       "      <td>43.67</td>\n",
       "      <td>...</td>\n",
       "      <td>5898277</td>\n",
       "      <td>50775600</td>\n",
       "      <td>-1341991</td>\n",
       "      <td>1341991</td>\n",
       "      <td>2881356</td>\n",
       "      <td>-338983</td>\n",
       "      <td>1438000</td>\n",
       "      <td>2197130</td>\n",
       "      <td>4947937</td>\n",
       "      <td>7201101</td>\n",
       "    </tr>\n",
       "    <tr>\n",
       "      <th>2</th>\n",
       "      <td>amg03.2012</td>\n",
       "      <td>0.00</td>\n",
       "      <td>3.33</td>\n",
       "      <td>101.58</td>\n",
       "      <td>103.49</td>\n",
       "      <td>137.70</td>\n",
       "      <td>106.57</td>\n",
       "      <td>6.92</td>\n",
       "      <td>0.67</td>\n",
       "      <td>10.42</td>\n",
       "      <td>...</td>\n",
       "      <td>5460945</td>\n",
       "      <td>58363315</td>\n",
       "      <td>-2629287</td>\n",
       "      <td>2629287</td>\n",
       "      <td>1429988</td>\n",
       "      <td>-1452928</td>\n",
       "      <td>1629000</td>\n",
       "      <td>1787156</td>\n",
       "      <td>3306405</td>\n",
       "      <td>4099401</td>\n",
       "    </tr>\n",
       "    <tr>\n",
       "      <th>3</th>\n",
       "      <td>amg05.2012</td>\n",
       "      <td>24670.80</td>\n",
       "      <td>34.83</td>\n",
       "      <td>103.14</td>\n",
       "      <td>105.14</td>\n",
       "      <td>157.61</td>\n",
       "      <td>111.49</td>\n",
       "      <td>54.75</td>\n",
       "      <td>8.75</td>\n",
       "      <td>37.25</td>\n",
       "      <td>...</td>\n",
       "      <td>5793397</td>\n",
       "      <td>47524435</td>\n",
       "      <td>-1173184</td>\n",
       "      <td>1173184</td>\n",
       "      <td>2241024</td>\n",
       "      <td>-539075</td>\n",
       "      <td>1088000</td>\n",
       "      <td>1753382</td>\n",
       "      <td>4957136</td>\n",
       "      <td>7222079</td>\n",
       "    </tr>\n",
       "    <tr>\n",
       "      <th>4</th>\n",
       "      <td>amg06.2012</td>\n",
       "      <td>3086.16</td>\n",
       "      <td>29.78</td>\n",
       "      <td>103.02</td>\n",
       "      <td>104.74</td>\n",
       "      <td>163.29</td>\n",
       "      <td>110.91</td>\n",
       "      <td>48.33</td>\n",
       "      <td>5.22</td>\n",
       "      <td>33.78</td>\n",
       "      <td>...</td>\n",
       "      <td>5341797</td>\n",
       "      <td>42394332</td>\n",
       "      <td>-1255729</td>\n",
       "      <td>1255729</td>\n",
       "      <td>2197205</td>\n",
       "      <td>-836979</td>\n",
       "      <td>1094000</td>\n",
       "      <td>1668140</td>\n",
       "      <td>4379863</td>\n",
       "      <td>5995724</td>\n",
       "    </tr>\n",
       "    <tr>\n",
       "      <th>...</th>\n",
       "      <td>...</td>\n",
       "      <td>...</td>\n",
       "      <td>...</td>\n",
       "      <td>...</td>\n",
       "      <td>...</td>\n",
       "      <td>...</td>\n",
       "      <td>...</td>\n",
       "      <td>...</td>\n",
       "      <td>...</td>\n",
       "      <td>...</td>\n",
       "      <td>...</td>\n",
       "      <td>...</td>\n",
       "      <td>...</td>\n",
       "      <td>...</td>\n",
       "      <td>...</td>\n",
       "      <td>...</td>\n",
       "      <td>...</td>\n",
       "      <td>...</td>\n",
       "      <td>...</td>\n",
       "      <td>...</td>\n",
       "      <td>...</td>\n",
       "    </tr>\n",
       "    <tr>\n",
       "      <th>195</th>\n",
       "      <td>wh07.2012</td>\n",
       "      <td>240.24</td>\n",
       "      <td>2.25</td>\n",
       "      <td>100.94</td>\n",
       "      <td>102.21</td>\n",
       "      <td>140.04</td>\n",
       "      <td>103.96</td>\n",
       "      <td>2.25</td>\n",
       "      <td>35.33</td>\n",
       "      <td>5.75</td>\n",
       "      <td>...</td>\n",
       "      <td>3616564</td>\n",
       "      <td>30388263</td>\n",
       "      <td>-1751216</td>\n",
       "      <td>1751216</td>\n",
       "      <td>-653378</td>\n",
       "      <td>-1646321</td>\n",
       "      <td>1345000</td>\n",
       "      <td>1214483</td>\n",
       "      <td>1991475</td>\n",
       "      <td>2236580</td>\n",
       "    </tr>\n",
       "    <tr>\n",
       "      <th>196</th>\n",
       "      <td>wh08.2012</td>\n",
       "      <td>0.00</td>\n",
       "      <td>11.92</td>\n",
       "      <td>102.08</td>\n",
       "      <td>103.29</td>\n",
       "      <td>156.05</td>\n",
       "      <td>107.97</td>\n",
       "      <td>21.25</td>\n",
       "      <td>30.33</td>\n",
       "      <td>19.67</td>\n",
       "      <td>...</td>\n",
       "      <td>4150995</td>\n",
       "      <td>34182549</td>\n",
       "      <td>-1711085</td>\n",
       "      <td>1711085</td>\n",
       "      <td>742810</td>\n",
       "      <td>-791061</td>\n",
       "      <td>1523000</td>\n",
       "      <td>1587738</td>\n",
       "      <td>2626459</td>\n",
       "      <td>3085874</td>\n",
       "    </tr>\n",
       "    <tr>\n",
       "      <th>197</th>\n",
       "      <td>wh09.2012</td>\n",
       "      <td>0.00</td>\n",
       "      <td>7.89</td>\n",
       "      <td>100.82</td>\n",
       "      <td>101.59</td>\n",
       "      <td>144.41</td>\n",
       "      <td>103.81</td>\n",
       "      <td>14.22</td>\n",
       "      <td>1.78</td>\n",
       "      <td>15.67</td>\n",
       "      <td>...</td>\n",
       "      <td>4826087</td>\n",
       "      <td>42441388</td>\n",
       "      <td>-1939035</td>\n",
       "      <td>1939035</td>\n",
       "      <td>2065458</td>\n",
       "      <td>-545833</td>\n",
       "      <td>1776000</td>\n",
       "      <td>1952017</td>\n",
       "      <td>3185114</td>\n",
       "      <td>3909535</td>\n",
       "    </tr>\n",
       "    <tr>\n",
       "      <th>198</th>\n",
       "      <td>wh13.2012</td>\n",
       "      <td>0.00</td>\n",
       "      <td>6.00</td>\n",
       "      <td>101.01</td>\n",
       "      <td>101.96</td>\n",
       "      <td>131.00</td>\n",
       "      <td>104.01</td>\n",
       "      <td>11.00</td>\n",
       "      <td>21.38</td>\n",
       "      <td>2.50</td>\n",
       "      <td>...</td>\n",
       "      <td>3514137</td>\n",
       "      <td>29196771</td>\n",
       "      <td>-1670989</td>\n",
       "      <td>1670989</td>\n",
       "      <td>1488840</td>\n",
       "      <td>-458342</td>\n",
       "      <td>1218000</td>\n",
       "      <td>1131930</td>\n",
       "      <td>1958131</td>\n",
       "      <td>2194196</td>\n",
       "    </tr>\n",
       "    <tr>\n",
       "      <th>199</th>\n",
       "      <td>wh15.2012</td>\n",
       "      <td>0.00</td>\n",
       "      <td>1.00</td>\n",
       "      <td>100.89</td>\n",
       "      <td>101.59</td>\n",
       "      <td>138.83</td>\n",
       "      <td>103.90</td>\n",
       "      <td>1.00</td>\n",
       "      <td>5.78</td>\n",
       "      <td>2.00</td>\n",
       "      <td>...</td>\n",
       "      <td>4170644</td>\n",
       "      <td>36003359</td>\n",
       "      <td>-1938944</td>\n",
       "      <td>1938944</td>\n",
       "      <td>1487304</td>\n",
       "      <td>-952381</td>\n",
       "      <td>1398000</td>\n",
       "      <td>1389131</td>\n",
       "      <td>2428048</td>\n",
       "      <td>2811428</td>\n",
       "    </tr>\n",
       "  </tbody>\n",
       "</table>\n",
       "<p>187 rows × 36 columns</p>\n",
       "</div>"
      ],
      "text/plain": [
       "     site_clean   target  b1_wfp_dry_mean  b1_hsd_mean  b1_hmc_mean  \\\n",
       "0    agb02.2012     0.00            45.89       103.63       107.13   \n",
       "1    amg01.2012  8376.22            44.00       103.88       106.25   \n",
       "2    amg03.2012     0.00             3.33       101.58       103.49   \n",
       "3    amg05.2012 24670.80            34.83       103.14       105.14   \n",
       "4    amg06.2012  3086.16            29.78       103.02       104.74   \n",
       "..          ...      ...              ...          ...          ...   \n",
       "195   wh07.2012   240.24             2.25       100.94       102.21   \n",
       "196   wh08.2012     0.00            11.92       102.08       103.29   \n",
       "197   wh09.2012     0.00             7.89       100.82       101.59   \n",
       "198   wh13.2012     0.00             6.00       101.01       101.96   \n",
       "199   wh15.2012     0.00             1.00       100.89       101.59   \n",
       "\n",
       "     b1_hcv_mean  b1_h99_mean  b1_ccw_dry_mean  b1_dp1fm_dry_mean  \\\n",
       "0         151.32       114.13            68.00              10.67   \n",
       "1         169.41       113.93            66.00               1.33   \n",
       "2         137.70       106.57             6.92               0.67   \n",
       "3         157.61       111.49            54.75               8.75   \n",
       "4         163.29       110.91            48.33               5.22   \n",
       "..           ...          ...              ...                ...   \n",
       "195       140.04       103.96             2.25              35.33   \n",
       "196       156.05       107.97            21.25              30.33   \n",
       "197       144.41       103.81            14.22               1.78   \n",
       "198       131.00       104.01            11.00              21.38   \n",
       "199       138.83       103.90             1.00               5.78   \n",
       "\n",
       "     b2_dp1fm_dry_mean  ...  dbifmdry_GNDVI  dbifmdry_CVI  dbifmdry_NDGI  \\\n",
       "0                44.33  ...         5566970      47885270       -1538462   \n",
       "1                43.67  ...         5898277      50775600       -1341991   \n",
       "2                10.42  ...         5460945      58363315       -2629287   \n",
       "3                37.25  ...         5793397      47524435       -1173184   \n",
       "4                33.78  ...         5341797      42394332       -1255729   \n",
       "..                 ...  ...             ...           ...            ...   \n",
       "195               5.75  ...         3616564      30388263       -1751216   \n",
       "196              19.67  ...         4150995      34182549       -1711085   \n",
       "197              15.67  ...         4826087      42441388       -1939035   \n",
       "198               2.50  ...         3514137      29196771       -1670989   \n",
       "199               2.00  ...         4170644      36003359       -1938944   \n",
       "\n",
       "     dbifmdry_RI  dbifmdry_NBR  dbifmdry_NDII  dbifmdry_GDVI  dbifmdry_MSAVI  \\\n",
       "0        1538462       1964774        -383207        1409000         2022182   \n",
       "1        1341991       2881356        -338983        1438000         2197130   \n",
       "2        2629287       1429988       -1452928        1629000         1787156   \n",
       "3        1173184       2241024        -539075        1088000         1753382   \n",
       "4        1255729       2197205        -836979        1094000         1668140   \n",
       "..           ...           ...            ...            ...             ...   \n",
       "195      1751216       -653378       -1646321        1345000         1214483   \n",
       "196      1711085        742810        -791061        1523000         1587738   \n",
       "197      1939035       2065458        -545833        1776000         1952017   \n",
       "198      1670989       1488840        -458342        1218000         1131930   \n",
       "199      1938944       1487304        -952381        1398000         1389131   \n",
       "\n",
       "     dbifmdry_NDVI  dbifmdry_MSR  \n",
       "0          4405850       6047316  \n",
       "1          4947937       7201101  \n",
       "2          3306405       4099401  \n",
       "3          4957136       7222079  \n",
       "4          4379863       5995724  \n",
       "..             ...           ...  \n",
       "195        1991475       2236580  \n",
       "196        2626459       3085874  \n",
       "197        3185114       3909535  \n",
       "198        1958131       2194196  \n",
       "199        2428048       2811428  \n",
       "\n",
       "[187 rows x 36 columns]"
      ]
     },
     "execution_count": 26,
     "metadata": {},
     "output_type": "execute_result"
    }
   ],
   "source": [
    "# Function to detect outliers using Z-score\n",
    "def detect_outliers(df):\n",
    "    # Select only numeric columns\n",
    "    numeric_df = df.select_dtypes(include=[np.number])\n",
    "    \n",
    "    # Calculate the Z-scores\n",
    "    z_scores = np.abs(zscore(numeric_df))\n",
    "    \n",
    "    # Identify rows with Z-scores greater than 3 in any column\n",
    "    outliers = (z_scores > 3).any(axis=1)\n",
    "    \n",
    "    return outliers\n",
    "\n",
    "# Assuming df2 is your DataFrame with mixed data types\n",
    "df = df2.copy()\n",
    "\n",
    "# Detect outliers\n",
    "outliers = detect_outliers(df)\n",
    "\n",
    "# Print the detected outliers\n",
    "print(\"Detected Outliers:\")\n",
    "print(df[outliers].site_clean)\n",
    "\n",
    "# Drop rows that contain outliers\n",
    "df_cleaned = df[~outliers]\n",
    "\n",
    "print(\"Cleaned DataFrame (without outliers):\")\n",
    "df_cleaned"
   ]
  },
  {
   "cell_type": "code",
   "execution_count": 27,
   "metadata": {
    "ExecuteTime": {
     "end_time": "2024-08-02T06:26:54.599968Z",
     "start_time": "2024-08-02T06:26:54.573948Z"
    }
   },
   "outputs": [
    {
     "data": {
      "text/html": [
       "<div>\n",
       "<style scoped>\n",
       "    .dataframe tbody tr th:only-of-type {\n",
       "        vertical-align: middle;\n",
       "    }\n",
       "\n",
       "    .dataframe tbody tr th {\n",
       "        vertical-align: top;\n",
       "    }\n",
       "\n",
       "    .dataframe thead th {\n",
       "        text-align: right;\n",
       "    }\n",
       "</style>\n",
       "<table border=\"1\" class=\"dataframe\">\n",
       "  <thead>\n",
       "    <tr style=\"text-align: right;\">\n",
       "      <th></th>\n",
       "      <th>site_clean</th>\n",
       "      <th>target</th>\n",
       "      <th>b1_wfp_dry_mean</th>\n",
       "      <th>b1_hsd_mean</th>\n",
       "      <th>b1_hmc_mean</th>\n",
       "      <th>b1_hcv_mean</th>\n",
       "      <th>b1_h99_mean</th>\n",
       "      <th>b1_ccw_dry_mean</th>\n",
       "      <th>b1_dp1fm_dry_mean</th>\n",
       "      <th>b2_dp1fm_dry_mean</th>\n",
       "      <th>...</th>\n",
       "      <th>dbifmdry_GNDVI</th>\n",
       "      <th>dbifmdry_CVI</th>\n",
       "      <th>dbifmdry_NDGI</th>\n",
       "      <th>dbifmdry_RI</th>\n",
       "      <th>dbifmdry_NBR</th>\n",
       "      <th>dbifmdry_NDII</th>\n",
       "      <th>dbifmdry_GDVI</th>\n",
       "      <th>dbifmdry_MSAVI</th>\n",
       "      <th>dbifmdry_NDVI</th>\n",
       "      <th>dbifmdry_MSR</th>\n",
       "    </tr>\n",
       "  </thead>\n",
       "  <tbody>\n",
       "    <tr>\n",
       "      <th>0</th>\n",
       "      <td>agb02.2012</td>\n",
       "      <td>0.00</td>\n",
       "      <td>45.89</td>\n",
       "      <td>103.63</td>\n",
       "      <td>107.13</td>\n",
       "      <td>151.32</td>\n",
       "      <td>114.13</td>\n",
       "      <td>68.00</td>\n",
       "      <td>10.67</td>\n",
       "      <td>44.33</td>\n",
       "      <td>...</td>\n",
       "      <td>5566970</td>\n",
       "      <td>47885270</td>\n",
       "      <td>-1538462</td>\n",
       "      <td>1538462</td>\n",
       "      <td>1964774</td>\n",
       "      <td>-383207</td>\n",
       "      <td>1409000</td>\n",
       "      <td>2022182</td>\n",
       "      <td>4405850</td>\n",
       "      <td>6047316</td>\n",
       "    </tr>\n",
       "    <tr>\n",
       "      <th>1</th>\n",
       "      <td>amg01.2012</td>\n",
       "      <td>8376.22</td>\n",
       "      <td>44.00</td>\n",
       "      <td>103.88</td>\n",
       "      <td>106.25</td>\n",
       "      <td>169.41</td>\n",
       "      <td>113.93</td>\n",
       "      <td>66.00</td>\n",
       "      <td>1.33</td>\n",
       "      <td>43.67</td>\n",
       "      <td>...</td>\n",
       "      <td>5898277</td>\n",
       "      <td>50775600</td>\n",
       "      <td>-1341991</td>\n",
       "      <td>1341991</td>\n",
       "      <td>2881356</td>\n",
       "      <td>-338983</td>\n",
       "      <td>1438000</td>\n",
       "      <td>2197130</td>\n",
       "      <td>4947937</td>\n",
       "      <td>7201101</td>\n",
       "    </tr>\n",
       "    <tr>\n",
       "      <th>2</th>\n",
       "      <td>amg03.2012</td>\n",
       "      <td>0.00</td>\n",
       "      <td>3.33</td>\n",
       "      <td>101.58</td>\n",
       "      <td>103.49</td>\n",
       "      <td>137.70</td>\n",
       "      <td>106.57</td>\n",
       "      <td>6.92</td>\n",
       "      <td>0.67</td>\n",
       "      <td>10.42</td>\n",
       "      <td>...</td>\n",
       "      <td>5460945</td>\n",
       "      <td>58363315</td>\n",
       "      <td>-2629287</td>\n",
       "      <td>2629287</td>\n",
       "      <td>1429988</td>\n",
       "      <td>-1452928</td>\n",
       "      <td>1629000</td>\n",
       "      <td>1787156</td>\n",
       "      <td>3306405</td>\n",
       "      <td>4099401</td>\n",
       "    </tr>\n",
       "    <tr>\n",
       "      <th>3</th>\n",
       "      <td>amg05.2012</td>\n",
       "      <td>24670.80</td>\n",
       "      <td>34.83</td>\n",
       "      <td>103.14</td>\n",
       "      <td>105.14</td>\n",
       "      <td>157.61</td>\n",
       "      <td>111.49</td>\n",
       "      <td>54.75</td>\n",
       "      <td>8.75</td>\n",
       "      <td>37.25</td>\n",
       "      <td>...</td>\n",
       "      <td>5793397</td>\n",
       "      <td>47524435</td>\n",
       "      <td>-1173184</td>\n",
       "      <td>1173184</td>\n",
       "      <td>2241024</td>\n",
       "      <td>-539075</td>\n",
       "      <td>1088000</td>\n",
       "      <td>1753382</td>\n",
       "      <td>4957136</td>\n",
       "      <td>7222079</td>\n",
       "    </tr>\n",
       "    <tr>\n",
       "      <th>4</th>\n",
       "      <td>amg06.2012</td>\n",
       "      <td>3086.16</td>\n",
       "      <td>29.78</td>\n",
       "      <td>103.02</td>\n",
       "      <td>104.74</td>\n",
       "      <td>163.29</td>\n",
       "      <td>110.91</td>\n",
       "      <td>48.33</td>\n",
       "      <td>5.22</td>\n",
       "      <td>33.78</td>\n",
       "      <td>...</td>\n",
       "      <td>5341797</td>\n",
       "      <td>42394332</td>\n",
       "      <td>-1255729</td>\n",
       "      <td>1255729</td>\n",
       "      <td>2197205</td>\n",
       "      <td>-836979</td>\n",
       "      <td>1094000</td>\n",
       "      <td>1668140</td>\n",
       "      <td>4379863</td>\n",
       "      <td>5995724</td>\n",
       "    </tr>\n",
       "    <tr>\n",
       "      <th>...</th>\n",
       "      <td>...</td>\n",
       "      <td>...</td>\n",
       "      <td>...</td>\n",
       "      <td>...</td>\n",
       "      <td>...</td>\n",
       "      <td>...</td>\n",
       "      <td>...</td>\n",
       "      <td>...</td>\n",
       "      <td>...</td>\n",
       "      <td>...</td>\n",
       "      <td>...</td>\n",
       "      <td>...</td>\n",
       "      <td>...</td>\n",
       "      <td>...</td>\n",
       "      <td>...</td>\n",
       "      <td>...</td>\n",
       "      <td>...</td>\n",
       "      <td>...</td>\n",
       "      <td>...</td>\n",
       "      <td>...</td>\n",
       "      <td>...</td>\n",
       "    </tr>\n",
       "    <tr>\n",
       "      <th>195</th>\n",
       "      <td>wh07.2012</td>\n",
       "      <td>240.24</td>\n",
       "      <td>2.25</td>\n",
       "      <td>100.94</td>\n",
       "      <td>102.21</td>\n",
       "      <td>140.04</td>\n",
       "      <td>103.96</td>\n",
       "      <td>2.25</td>\n",
       "      <td>35.33</td>\n",
       "      <td>5.75</td>\n",
       "      <td>...</td>\n",
       "      <td>3616564</td>\n",
       "      <td>30388263</td>\n",
       "      <td>-1751216</td>\n",
       "      <td>1751216</td>\n",
       "      <td>-653378</td>\n",
       "      <td>-1646321</td>\n",
       "      <td>1345000</td>\n",
       "      <td>1214483</td>\n",
       "      <td>1991475</td>\n",
       "      <td>2236580</td>\n",
       "    </tr>\n",
       "    <tr>\n",
       "      <th>196</th>\n",
       "      <td>wh08.2012</td>\n",
       "      <td>0.00</td>\n",
       "      <td>11.92</td>\n",
       "      <td>102.08</td>\n",
       "      <td>103.29</td>\n",
       "      <td>156.05</td>\n",
       "      <td>107.97</td>\n",
       "      <td>21.25</td>\n",
       "      <td>30.33</td>\n",
       "      <td>19.67</td>\n",
       "      <td>...</td>\n",
       "      <td>4150995</td>\n",
       "      <td>34182549</td>\n",
       "      <td>-1711085</td>\n",
       "      <td>1711085</td>\n",
       "      <td>742810</td>\n",
       "      <td>-791061</td>\n",
       "      <td>1523000</td>\n",
       "      <td>1587738</td>\n",
       "      <td>2626459</td>\n",
       "      <td>3085874</td>\n",
       "    </tr>\n",
       "    <tr>\n",
       "      <th>197</th>\n",
       "      <td>wh09.2012</td>\n",
       "      <td>0.00</td>\n",
       "      <td>7.89</td>\n",
       "      <td>100.82</td>\n",
       "      <td>101.59</td>\n",
       "      <td>144.41</td>\n",
       "      <td>103.81</td>\n",
       "      <td>14.22</td>\n",
       "      <td>1.78</td>\n",
       "      <td>15.67</td>\n",
       "      <td>...</td>\n",
       "      <td>4826087</td>\n",
       "      <td>42441388</td>\n",
       "      <td>-1939035</td>\n",
       "      <td>1939035</td>\n",
       "      <td>2065458</td>\n",
       "      <td>-545833</td>\n",
       "      <td>1776000</td>\n",
       "      <td>1952017</td>\n",
       "      <td>3185114</td>\n",
       "      <td>3909535</td>\n",
       "    </tr>\n",
       "    <tr>\n",
       "      <th>198</th>\n",
       "      <td>wh13.2012</td>\n",
       "      <td>0.00</td>\n",
       "      <td>6.00</td>\n",
       "      <td>101.01</td>\n",
       "      <td>101.96</td>\n",
       "      <td>131.00</td>\n",
       "      <td>104.01</td>\n",
       "      <td>11.00</td>\n",
       "      <td>21.38</td>\n",
       "      <td>2.50</td>\n",
       "      <td>...</td>\n",
       "      <td>3514137</td>\n",
       "      <td>29196771</td>\n",
       "      <td>-1670989</td>\n",
       "      <td>1670989</td>\n",
       "      <td>1488840</td>\n",
       "      <td>-458342</td>\n",
       "      <td>1218000</td>\n",
       "      <td>1131930</td>\n",
       "      <td>1958131</td>\n",
       "      <td>2194196</td>\n",
       "    </tr>\n",
       "    <tr>\n",
       "      <th>199</th>\n",
       "      <td>wh15.2012</td>\n",
       "      <td>0.00</td>\n",
       "      <td>1.00</td>\n",
       "      <td>100.89</td>\n",
       "      <td>101.59</td>\n",
       "      <td>138.83</td>\n",
       "      <td>103.90</td>\n",
       "      <td>1.00</td>\n",
       "      <td>5.78</td>\n",
       "      <td>2.00</td>\n",
       "      <td>...</td>\n",
       "      <td>4170644</td>\n",
       "      <td>36003359</td>\n",
       "      <td>-1938944</td>\n",
       "      <td>1938944</td>\n",
       "      <td>1487304</td>\n",
       "      <td>-952381</td>\n",
       "      <td>1398000</td>\n",
       "      <td>1389131</td>\n",
       "      <td>2428048</td>\n",
       "      <td>2811428</td>\n",
       "    </tr>\n",
       "  </tbody>\n",
       "</table>\n",
       "<p>187 rows × 36 columns</p>\n",
       "</div>"
      ],
      "text/plain": [
       "     site_clean   target  b1_wfp_dry_mean  b1_hsd_mean  b1_hmc_mean  \\\n",
       "0    agb02.2012     0.00            45.89       103.63       107.13   \n",
       "1    amg01.2012  8376.22            44.00       103.88       106.25   \n",
       "2    amg03.2012     0.00             3.33       101.58       103.49   \n",
       "3    amg05.2012 24670.80            34.83       103.14       105.14   \n",
       "4    amg06.2012  3086.16            29.78       103.02       104.74   \n",
       "..          ...      ...              ...          ...          ...   \n",
       "195   wh07.2012   240.24             2.25       100.94       102.21   \n",
       "196   wh08.2012     0.00            11.92       102.08       103.29   \n",
       "197   wh09.2012     0.00             7.89       100.82       101.59   \n",
       "198   wh13.2012     0.00             6.00       101.01       101.96   \n",
       "199   wh15.2012     0.00             1.00       100.89       101.59   \n",
       "\n",
       "     b1_hcv_mean  b1_h99_mean  b1_ccw_dry_mean  b1_dp1fm_dry_mean  \\\n",
       "0         151.32       114.13            68.00              10.67   \n",
       "1         169.41       113.93            66.00               1.33   \n",
       "2         137.70       106.57             6.92               0.67   \n",
       "3         157.61       111.49            54.75               8.75   \n",
       "4         163.29       110.91            48.33               5.22   \n",
       "..           ...          ...              ...                ...   \n",
       "195       140.04       103.96             2.25              35.33   \n",
       "196       156.05       107.97            21.25              30.33   \n",
       "197       144.41       103.81            14.22               1.78   \n",
       "198       131.00       104.01            11.00              21.38   \n",
       "199       138.83       103.90             1.00               5.78   \n",
       "\n",
       "     b2_dp1fm_dry_mean  ...  dbifmdry_GNDVI  dbifmdry_CVI  dbifmdry_NDGI  \\\n",
       "0                44.33  ...         5566970      47885270       -1538462   \n",
       "1                43.67  ...         5898277      50775600       -1341991   \n",
       "2                10.42  ...         5460945      58363315       -2629287   \n",
       "3                37.25  ...         5793397      47524435       -1173184   \n",
       "4                33.78  ...         5341797      42394332       -1255729   \n",
       "..                 ...  ...             ...           ...            ...   \n",
       "195               5.75  ...         3616564      30388263       -1751216   \n",
       "196              19.67  ...         4150995      34182549       -1711085   \n",
       "197              15.67  ...         4826087      42441388       -1939035   \n",
       "198               2.50  ...         3514137      29196771       -1670989   \n",
       "199               2.00  ...         4170644      36003359       -1938944   \n",
       "\n",
       "     dbifmdry_RI  dbifmdry_NBR  dbifmdry_NDII  dbifmdry_GDVI  dbifmdry_MSAVI  \\\n",
       "0        1538462       1964774        -383207        1409000         2022182   \n",
       "1        1341991       2881356        -338983        1438000         2197130   \n",
       "2        2629287       1429988       -1452928        1629000         1787156   \n",
       "3        1173184       2241024        -539075        1088000         1753382   \n",
       "4        1255729       2197205        -836979        1094000         1668140   \n",
       "..           ...           ...            ...            ...             ...   \n",
       "195      1751216       -653378       -1646321        1345000         1214483   \n",
       "196      1711085        742810        -791061        1523000         1587738   \n",
       "197      1939035       2065458        -545833        1776000         1952017   \n",
       "198      1670989       1488840        -458342        1218000         1131930   \n",
       "199      1938944       1487304        -952381        1398000         1389131   \n",
       "\n",
       "     dbifmdry_NDVI  dbifmdry_MSR  \n",
       "0          4405850       6047316  \n",
       "1          4947937       7201101  \n",
       "2          3306405       4099401  \n",
       "3          4957136       7222079  \n",
       "4          4379863       5995724  \n",
       "..             ...           ...  \n",
       "195        1991475       2236580  \n",
       "196        2626459       3085874  \n",
       "197        3185114       3909535  \n",
       "198        1958131       2194196  \n",
       "199        2428048       2811428  \n",
       "\n",
       "[187 rows x 36 columns]"
      ]
     },
     "execution_count": 27,
     "metadata": {},
     "output_type": "execute_result"
    }
   ],
   "source": [
    "df_cleaned"
   ]
  },
  {
   "cell_type": "code",
   "execution_count": 28,
   "metadata": {
    "ExecuteTime": {
     "end_time": "2024-08-02T06:26:54.728997Z",
     "start_time": "2024-08-02T06:26:54.722001Z"
    }
   },
   "outputs": [
    {
     "data": {
      "text/plain": [
       "(187, 36)"
      ]
     },
     "execution_count": 28,
     "metadata": {},
     "output_type": "execute_result"
    }
   ],
   "source": [
    "df_cleaned.shape"
   ]
  },
  {
   "cell_type": "code",
   "execution_count": 29,
   "metadata": {
    "ExecuteTime": {
     "end_time": "2024-08-02T06:26:54.820998Z",
     "start_time": "2024-08-02T06:26:54.817998Z"
    }
   },
   "outputs": [],
   "source": [
    "df2 = df_cleaned"
   ]
  },
  {
   "cell_type": "markdown",
   "metadata": {},
   "source": [
    "### Set variables to plot"
   ]
  },
  {
   "cell_type": "code",
   "execution_count": 30,
   "metadata": {
    "ExecuteTime": {
     "end_time": "2024-08-02T06:26:54.901005Z",
     "start_time": "2024-08-02T06:26:54.886997Z"
    }
   },
   "outputs": [],
   "source": [
    "# predicted value is x\n",
    "value_x = 'target'\n",
    "# variable is y\n",
    "value_y = \"b1_wfp_mean\"\n",
    "value_a = 'b2_dp1fm_dry_mean'\n",
    "value_b = 'b1_h99_mean'\n",
    "\n",
    "\n",
    "site = 'site_clean'\n"
   ]
  },
  {
   "cell_type": "code",
   "execution_count": 31,
   "metadata": {
    "ExecuteTime": {
     "end_time": "2024-08-02T06:26:55.104999Z",
     "start_time": "2024-08-02T06:26:55.086998Z"
    }
   },
   "outputs": [
    {
     "data": {
      "text/plain": [
       "'b1_wfp_mean'"
      ]
     },
     "execution_count": 31,
     "metadata": {},
     "output_type": "execute_result"
    }
   ],
   "source": [
    "value_y"
   ]
  },
  {
   "cell_type": "code",
   "execution_count": 32,
   "metadata": {
    "ExecuteTime": {
     "end_time": "2024-08-02T06:26:55.152998Z",
     "start_time": "2024-08-02T06:26:55.141998Z"
    }
   },
   "outputs": [
    {
     "data": {
      "text/plain": [
       "(187, 36)"
      ]
     },
     "execution_count": 32,
     "metadata": {},
     "output_type": "execute_result"
    }
   ],
   "source": [
    "df2.shape"
   ]
  },
  {
   "cell_type": "code",
   "execution_count": 33,
   "metadata": {
    "ExecuteTime": {
     "end_time": "2024-08-02T06:26:55.246998Z",
     "start_time": "2024-08-02T06:26:55.230999Z"
    }
   },
   "outputs": [],
   "source": [
    "output_int = os.path.join(output, \"inter\")\n",
    "if not os.path.isdir(output_int):\n",
    "    os.mkdir(output_int)\n"
   ]
  },
  {
   "cell_type": "code",
   "execution_count": 34,
   "metadata": {
    "ExecuteTime": {
     "end_time": "2024-08-02T06:26:55.311Z",
     "start_time": "2024-08-02T06:26:55.287998Z"
    }
   },
   "outputs": [],
   "source": [
    "def save_fig(value_x, value_y):\n",
    "    # Output to file\n",
    "    output_file(os.path.join(output_int,'all_sites_{0}_{1}.html'.format(value_x, value_y)),\n",
    "                title='Relationship between {0} and {1}'.format(value_x.replace(\"_\", \" \"), value_y.replace(\"_\", \" \")))\n",
    "\n",
    "\n",
    "    #Specify the selection tools to be made available\n",
    "    select_tools = ['box_select', 'lasso_select', 'poly_select', 'tap', 'zoom_in', 'zoom_out', 'wheel_zoom', 'reset']\n",
    "\n",
    "    #print(test)\n",
    "    # Format the tooltip\n",
    "    tooltips = [\n",
    "                ('Site', '@site_clean'),\n",
    "                (value_x, '@{0}'.format(value_x)),\n",
    "                (value_y, '@{0}'.format(value_y)),   \n",
    "                (value_a, '@{0}'.format(value_a)),\n",
    "                (value_b, '@{0}'.format(value_b)) \n",
    "               ]\n",
    "\n",
    "    # Create the figure\n",
    "    fig = figure(plot_height=400,\n",
    "                 plot_width=1500,\n",
    "                 y_axis_label= value_y.replace(\"_\", \" \"), \n",
    "                 x_axis_label= value_x.replace(\"_\", \" \"),\n",
    "                 title='Relationship between {0} and {1}'.format(value_x.replace(\"_\", \" \"), value_y.replace(\"_\", \" \")),\n",
    "                 toolbar_location='below',\n",
    "                 tools=select_tools)\n",
    "\n",
    "    # # Format the y-axis tick label\n",
    "    fig.yaxis[0].formatter = NumeralTickFormatter(format='0')\n",
    "\n",
    "    # Add square representing each site\n",
    "    fig.square(x= value_x,\n",
    "               y= value_y,\n",
    "               source=df2.round(4),\n",
    "               size=5,\n",
    "               color='royalblue',\n",
    "               selection_color='deepskyblue',\n",
    "               nonselection_color='lightgray',\n",
    "               nonselection_alpha=0.3)\n",
    "\n",
    "    # Add the HoverTool to the figure\n",
    "    fig.add_tools(HoverTool(tooltips=tooltips))\n",
    "\n",
    "    # Visualize\n",
    "    save(fig)"
   ]
  },
  {
   "cell_type": "markdown",
   "metadata": {},
   "source": []
  },
  {
   "cell_type": "code",
   "execution_count": 35,
   "metadata": {
    "ExecuteTime": {
     "end_time": "2024-08-02T06:26:55.466997Z",
     "start_time": "2024-08-02T06:26:55.453997Z"
    }
   },
   "outputs": [
    {
     "data": {
      "text/plain": [
       "(187, 36)"
      ]
     },
     "execution_count": 35,
     "metadata": {},
     "output_type": "execute_result"
    }
   ],
   "source": [
    "df2.shape"
   ]
  },
  {
   "cell_type": "code",
   "execution_count": 36,
   "metadata": {
    "ExecuteTime": {
     "end_time": "2024-08-02T06:26:56.416305Z",
     "start_time": "2024-08-02T06:26:55.493997Z"
    }
   },
   "outputs": [],
   "source": [
    "column_list = df2.columns.to_list()\n",
    "y_list = column_list[3:]\n",
    "value_x = column_list[1:2][0]\n",
    "\n",
    "\n",
    "for i in y_list:\n",
    "    value_y = i\n",
    "    save_fig(value_x, value_y)\n",
    "    "
   ]
  },
  {
   "cell_type": "code",
   "execution_count": 37,
   "metadata": {
    "ExecuteTime": {
     "end_time": "2024-08-02T06:26:56.432297Z",
     "start_time": "2024-08-02T06:26:56.417298Z"
    }
   },
   "outputs": [
    {
     "name": "stdout",
     "output_type": "stream",
     "text": [
      "['b1_hsd_mean', 'b1_hmc_mean', 'b1_hcv_mean', 'b1_h99_mean', 'b1_ccw_dry_mean', 'b1_dp1fm_dry_mean', 'b2_dp1fm_dry_mean', 'b3_dp1fm_dry_mean', 'b2_dbifm_dry_mean', 'b3_dbifm_dry_mean', 'b4_dbifm_dry_mean', 'b5_dbifm_dry_mean', 'b6_dbifm_dry_mean', 'dbifmdry_r42', 'dbifmdry_r43', 'dbifmdry_r52', 'dbifmdry_r53', 'dbifmdry_r54', 'dbifmdry_r62', 'dbifmdry_r63', 'dbifmdry_r64', 'dbifmdry_r65', 'dbifmdry_GSAVI', 'dbifmdry_GNDVI', 'dbifmdry_CVI', 'dbifmdry_NDGI', 'dbifmdry_RI', 'dbifmdry_NBR', 'dbifmdry_NDII', 'dbifmdry_GDVI', 'dbifmdry_MSAVI', 'dbifmdry_NDVI', 'dbifmdry_MSR']\n",
      "['target']\n"
     ]
    }
   ],
   "source": [
    "print(column_list[3:])\n",
    "print(column_list[1:2])"
   ]
  },
  {
   "cell_type": "markdown",
   "metadata": {},
   "source": [
    "### One-Hot Encoding (for Tree-based Models)"
   ]
  },
  {
   "cell_type": "code",
   "execution_count": 38,
   "metadata": {
    "ExecuteTime": {
     "end_time": "2024-08-02T06:26:56.448305Z",
     "start_time": "2024-08-02T06:26:56.433299Z"
    }
   },
   "outputs": [
    {
     "data": {
      "text/plain": [
       "[]"
      ]
     },
     "execution_count": 38,
     "metadata": {},
     "output_type": "execute_result"
    }
   ],
   "source": [
    "# add columns that contain class data n17\n",
    "classified_cols"
   ]
  },
  {
   "cell_type": "code",
   "execution_count": 39,
   "metadata": {
    "ExecuteTime": {
     "end_time": "2024-08-02T06:26:56.464377Z",
     "start_time": "2024-08-02T06:26:56.449298Z"
    }
   },
   "outputs": [
    {
     "data": {
      "text/plain": [
       "Index(['site_clean', 'target', 'b1_wfp_dry_mean', 'b1_hsd_mean', 'b1_hmc_mean',\n",
       "       'b1_hcv_mean', 'b1_h99_mean', 'b1_ccw_dry_mean', 'b1_dp1fm_dry_mean',\n",
       "       'b2_dp1fm_dry_mean', 'b3_dp1fm_dry_mean', 'b2_dbifm_dry_mean',\n",
       "       'b3_dbifm_dry_mean', 'b4_dbifm_dry_mean', 'b5_dbifm_dry_mean',\n",
       "       'b6_dbifm_dry_mean', 'dbifmdry_r42', 'dbifmdry_r43', 'dbifmdry_r52',\n",
       "       'dbifmdry_r53', 'dbifmdry_r54', 'dbifmdry_r62', 'dbifmdry_r63',\n",
       "       'dbifmdry_r64', 'dbifmdry_r65', 'dbifmdry_GSAVI', 'dbifmdry_GNDVI',\n",
       "       'dbifmdry_CVI', 'dbifmdry_NDGI', 'dbifmdry_RI', 'dbifmdry_NBR',\n",
       "       'dbifmdry_NDII', 'dbifmdry_GDVI', 'dbifmdry_MSAVI', 'dbifmdry_NDVI',\n",
       "       'dbifmdry_MSR'],\n",
       "      dtype='object')"
      ]
     },
     "execution_count": 39,
     "metadata": {},
     "output_type": "execute_result"
    }
   ],
   "source": [
    "df2.columns"
   ]
  },
  {
   "cell_type": "code",
   "execution_count": 40,
   "metadata": {
    "ExecuteTime": {
     "end_time": "2024-08-02T06:26:56.479696Z",
     "start_time": "2024-08-02T06:26:56.465691Z"
    }
   },
   "outputs": [],
   "source": [
    "for i in classified_cols:\n",
    "    df2 = pd.get_dummies(df2, columns=[i], prefix=f'{i}_en')"
   ]
  },
  {
   "cell_type": "code",
   "execution_count": 41,
   "metadata": {
    "ExecuteTime": {
     "end_time": "2024-08-02T06:26:56.495696Z",
     "start_time": "2024-08-02T06:26:56.480696Z"
    }
   },
   "outputs": [
    {
     "data": {
      "text/html": [
       "<div>\n",
       "<style scoped>\n",
       "    .dataframe tbody tr th:only-of-type {\n",
       "        vertical-align: middle;\n",
       "    }\n",
       "\n",
       "    .dataframe tbody tr th {\n",
       "        vertical-align: top;\n",
       "    }\n",
       "\n",
       "    .dataframe thead th {\n",
       "        text-align: right;\n",
       "    }\n",
       "</style>\n",
       "<table border=\"1\" class=\"dataframe\">\n",
       "  <thead>\n",
       "    <tr style=\"text-align: right;\">\n",
       "      <th></th>\n",
       "      <th>site_clean</th>\n",
       "      <th>target</th>\n",
       "      <th>b1_wfp_dry_mean</th>\n",
       "      <th>b1_hsd_mean</th>\n",
       "      <th>b1_hmc_mean</th>\n",
       "      <th>b1_hcv_mean</th>\n",
       "      <th>b1_h99_mean</th>\n",
       "      <th>b1_ccw_dry_mean</th>\n",
       "      <th>b1_dp1fm_dry_mean</th>\n",
       "      <th>b2_dp1fm_dry_mean</th>\n",
       "      <th>...</th>\n",
       "      <th>dbifmdry_GNDVI</th>\n",
       "      <th>dbifmdry_CVI</th>\n",
       "      <th>dbifmdry_NDGI</th>\n",
       "      <th>dbifmdry_RI</th>\n",
       "      <th>dbifmdry_NBR</th>\n",
       "      <th>dbifmdry_NDII</th>\n",
       "      <th>dbifmdry_GDVI</th>\n",
       "      <th>dbifmdry_MSAVI</th>\n",
       "      <th>dbifmdry_NDVI</th>\n",
       "      <th>dbifmdry_MSR</th>\n",
       "    </tr>\n",
       "  </thead>\n",
       "  <tbody>\n",
       "    <tr>\n",
       "      <th>0</th>\n",
       "      <td>agb02.2012</td>\n",
       "      <td>0.00</td>\n",
       "      <td>45.89</td>\n",
       "      <td>103.63</td>\n",
       "      <td>107.13</td>\n",
       "      <td>151.32</td>\n",
       "      <td>114.13</td>\n",
       "      <td>68.00</td>\n",
       "      <td>10.67</td>\n",
       "      <td>44.33</td>\n",
       "      <td>...</td>\n",
       "      <td>5566970</td>\n",
       "      <td>47885270</td>\n",
       "      <td>-1538462</td>\n",
       "      <td>1538462</td>\n",
       "      <td>1964774</td>\n",
       "      <td>-383207</td>\n",
       "      <td>1409000</td>\n",
       "      <td>2022182</td>\n",
       "      <td>4405850</td>\n",
       "      <td>6047316</td>\n",
       "    </tr>\n",
       "    <tr>\n",
       "      <th>1</th>\n",
       "      <td>amg01.2012</td>\n",
       "      <td>8376.22</td>\n",
       "      <td>44.00</td>\n",
       "      <td>103.88</td>\n",
       "      <td>106.25</td>\n",
       "      <td>169.41</td>\n",
       "      <td>113.93</td>\n",
       "      <td>66.00</td>\n",
       "      <td>1.33</td>\n",
       "      <td>43.67</td>\n",
       "      <td>...</td>\n",
       "      <td>5898277</td>\n",
       "      <td>50775600</td>\n",
       "      <td>-1341991</td>\n",
       "      <td>1341991</td>\n",
       "      <td>2881356</td>\n",
       "      <td>-338983</td>\n",
       "      <td>1438000</td>\n",
       "      <td>2197130</td>\n",
       "      <td>4947937</td>\n",
       "      <td>7201101</td>\n",
       "    </tr>\n",
       "    <tr>\n",
       "      <th>2</th>\n",
       "      <td>amg03.2012</td>\n",
       "      <td>0.00</td>\n",
       "      <td>3.33</td>\n",
       "      <td>101.58</td>\n",
       "      <td>103.49</td>\n",
       "      <td>137.70</td>\n",
       "      <td>106.57</td>\n",
       "      <td>6.92</td>\n",
       "      <td>0.67</td>\n",
       "      <td>10.42</td>\n",
       "      <td>...</td>\n",
       "      <td>5460945</td>\n",
       "      <td>58363315</td>\n",
       "      <td>-2629287</td>\n",
       "      <td>2629287</td>\n",
       "      <td>1429988</td>\n",
       "      <td>-1452928</td>\n",
       "      <td>1629000</td>\n",
       "      <td>1787156</td>\n",
       "      <td>3306405</td>\n",
       "      <td>4099401</td>\n",
       "    </tr>\n",
       "    <tr>\n",
       "      <th>3</th>\n",
       "      <td>amg05.2012</td>\n",
       "      <td>24670.80</td>\n",
       "      <td>34.83</td>\n",
       "      <td>103.14</td>\n",
       "      <td>105.14</td>\n",
       "      <td>157.61</td>\n",
       "      <td>111.49</td>\n",
       "      <td>54.75</td>\n",
       "      <td>8.75</td>\n",
       "      <td>37.25</td>\n",
       "      <td>...</td>\n",
       "      <td>5793397</td>\n",
       "      <td>47524435</td>\n",
       "      <td>-1173184</td>\n",
       "      <td>1173184</td>\n",
       "      <td>2241024</td>\n",
       "      <td>-539075</td>\n",
       "      <td>1088000</td>\n",
       "      <td>1753382</td>\n",
       "      <td>4957136</td>\n",
       "      <td>7222079</td>\n",
       "    </tr>\n",
       "    <tr>\n",
       "      <th>4</th>\n",
       "      <td>amg06.2012</td>\n",
       "      <td>3086.16</td>\n",
       "      <td>29.78</td>\n",
       "      <td>103.02</td>\n",
       "      <td>104.74</td>\n",
       "      <td>163.29</td>\n",
       "      <td>110.91</td>\n",
       "      <td>48.33</td>\n",
       "      <td>5.22</td>\n",
       "      <td>33.78</td>\n",
       "      <td>...</td>\n",
       "      <td>5341797</td>\n",
       "      <td>42394332</td>\n",
       "      <td>-1255729</td>\n",
       "      <td>1255729</td>\n",
       "      <td>2197205</td>\n",
       "      <td>-836979</td>\n",
       "      <td>1094000</td>\n",
       "      <td>1668140</td>\n",
       "      <td>4379863</td>\n",
       "      <td>5995724</td>\n",
       "    </tr>\n",
       "    <tr>\n",
       "      <th>...</th>\n",
       "      <td>...</td>\n",
       "      <td>...</td>\n",
       "      <td>...</td>\n",
       "      <td>...</td>\n",
       "      <td>...</td>\n",
       "      <td>...</td>\n",
       "      <td>...</td>\n",
       "      <td>...</td>\n",
       "      <td>...</td>\n",
       "      <td>...</td>\n",
       "      <td>...</td>\n",
       "      <td>...</td>\n",
       "      <td>...</td>\n",
       "      <td>...</td>\n",
       "      <td>...</td>\n",
       "      <td>...</td>\n",
       "      <td>...</td>\n",
       "      <td>...</td>\n",
       "      <td>...</td>\n",
       "      <td>...</td>\n",
       "      <td>...</td>\n",
       "    </tr>\n",
       "    <tr>\n",
       "      <th>195</th>\n",
       "      <td>wh07.2012</td>\n",
       "      <td>240.24</td>\n",
       "      <td>2.25</td>\n",
       "      <td>100.94</td>\n",
       "      <td>102.21</td>\n",
       "      <td>140.04</td>\n",
       "      <td>103.96</td>\n",
       "      <td>2.25</td>\n",
       "      <td>35.33</td>\n",
       "      <td>5.75</td>\n",
       "      <td>...</td>\n",
       "      <td>3616564</td>\n",
       "      <td>30388263</td>\n",
       "      <td>-1751216</td>\n",
       "      <td>1751216</td>\n",
       "      <td>-653378</td>\n",
       "      <td>-1646321</td>\n",
       "      <td>1345000</td>\n",
       "      <td>1214483</td>\n",
       "      <td>1991475</td>\n",
       "      <td>2236580</td>\n",
       "    </tr>\n",
       "    <tr>\n",
       "      <th>196</th>\n",
       "      <td>wh08.2012</td>\n",
       "      <td>0.00</td>\n",
       "      <td>11.92</td>\n",
       "      <td>102.08</td>\n",
       "      <td>103.29</td>\n",
       "      <td>156.05</td>\n",
       "      <td>107.97</td>\n",
       "      <td>21.25</td>\n",
       "      <td>30.33</td>\n",
       "      <td>19.67</td>\n",
       "      <td>...</td>\n",
       "      <td>4150995</td>\n",
       "      <td>34182549</td>\n",
       "      <td>-1711085</td>\n",
       "      <td>1711085</td>\n",
       "      <td>742810</td>\n",
       "      <td>-791061</td>\n",
       "      <td>1523000</td>\n",
       "      <td>1587738</td>\n",
       "      <td>2626459</td>\n",
       "      <td>3085874</td>\n",
       "    </tr>\n",
       "    <tr>\n",
       "      <th>197</th>\n",
       "      <td>wh09.2012</td>\n",
       "      <td>0.00</td>\n",
       "      <td>7.89</td>\n",
       "      <td>100.82</td>\n",
       "      <td>101.59</td>\n",
       "      <td>144.41</td>\n",
       "      <td>103.81</td>\n",
       "      <td>14.22</td>\n",
       "      <td>1.78</td>\n",
       "      <td>15.67</td>\n",
       "      <td>...</td>\n",
       "      <td>4826087</td>\n",
       "      <td>42441388</td>\n",
       "      <td>-1939035</td>\n",
       "      <td>1939035</td>\n",
       "      <td>2065458</td>\n",
       "      <td>-545833</td>\n",
       "      <td>1776000</td>\n",
       "      <td>1952017</td>\n",
       "      <td>3185114</td>\n",
       "      <td>3909535</td>\n",
       "    </tr>\n",
       "    <tr>\n",
       "      <th>198</th>\n",
       "      <td>wh13.2012</td>\n",
       "      <td>0.00</td>\n",
       "      <td>6.00</td>\n",
       "      <td>101.01</td>\n",
       "      <td>101.96</td>\n",
       "      <td>131.00</td>\n",
       "      <td>104.01</td>\n",
       "      <td>11.00</td>\n",
       "      <td>21.38</td>\n",
       "      <td>2.50</td>\n",
       "      <td>...</td>\n",
       "      <td>3514137</td>\n",
       "      <td>29196771</td>\n",
       "      <td>-1670989</td>\n",
       "      <td>1670989</td>\n",
       "      <td>1488840</td>\n",
       "      <td>-458342</td>\n",
       "      <td>1218000</td>\n",
       "      <td>1131930</td>\n",
       "      <td>1958131</td>\n",
       "      <td>2194196</td>\n",
       "    </tr>\n",
       "    <tr>\n",
       "      <th>199</th>\n",
       "      <td>wh15.2012</td>\n",
       "      <td>0.00</td>\n",
       "      <td>1.00</td>\n",
       "      <td>100.89</td>\n",
       "      <td>101.59</td>\n",
       "      <td>138.83</td>\n",
       "      <td>103.90</td>\n",
       "      <td>1.00</td>\n",
       "      <td>5.78</td>\n",
       "      <td>2.00</td>\n",
       "      <td>...</td>\n",
       "      <td>4170644</td>\n",
       "      <td>36003359</td>\n",
       "      <td>-1938944</td>\n",
       "      <td>1938944</td>\n",
       "      <td>1487304</td>\n",
       "      <td>-952381</td>\n",
       "      <td>1398000</td>\n",
       "      <td>1389131</td>\n",
       "      <td>2428048</td>\n",
       "      <td>2811428</td>\n",
       "    </tr>\n",
       "  </tbody>\n",
       "</table>\n",
       "<p>187 rows × 36 columns</p>\n",
       "</div>"
      ],
      "text/plain": [
       "     site_clean   target  b1_wfp_dry_mean  b1_hsd_mean  b1_hmc_mean  \\\n",
       "0    agb02.2012     0.00            45.89       103.63       107.13   \n",
       "1    amg01.2012  8376.22            44.00       103.88       106.25   \n",
       "2    amg03.2012     0.00             3.33       101.58       103.49   \n",
       "3    amg05.2012 24670.80            34.83       103.14       105.14   \n",
       "4    amg06.2012  3086.16            29.78       103.02       104.74   \n",
       "..          ...      ...              ...          ...          ...   \n",
       "195   wh07.2012   240.24             2.25       100.94       102.21   \n",
       "196   wh08.2012     0.00            11.92       102.08       103.29   \n",
       "197   wh09.2012     0.00             7.89       100.82       101.59   \n",
       "198   wh13.2012     0.00             6.00       101.01       101.96   \n",
       "199   wh15.2012     0.00             1.00       100.89       101.59   \n",
       "\n",
       "     b1_hcv_mean  b1_h99_mean  b1_ccw_dry_mean  b1_dp1fm_dry_mean  \\\n",
       "0         151.32       114.13            68.00              10.67   \n",
       "1         169.41       113.93            66.00               1.33   \n",
       "2         137.70       106.57             6.92               0.67   \n",
       "3         157.61       111.49            54.75               8.75   \n",
       "4         163.29       110.91            48.33               5.22   \n",
       "..           ...          ...              ...                ...   \n",
       "195       140.04       103.96             2.25              35.33   \n",
       "196       156.05       107.97            21.25              30.33   \n",
       "197       144.41       103.81            14.22               1.78   \n",
       "198       131.00       104.01            11.00              21.38   \n",
       "199       138.83       103.90             1.00               5.78   \n",
       "\n",
       "     b2_dp1fm_dry_mean  ...  dbifmdry_GNDVI  dbifmdry_CVI  dbifmdry_NDGI  \\\n",
       "0                44.33  ...         5566970      47885270       -1538462   \n",
       "1                43.67  ...         5898277      50775600       -1341991   \n",
       "2                10.42  ...         5460945      58363315       -2629287   \n",
       "3                37.25  ...         5793397      47524435       -1173184   \n",
       "4                33.78  ...         5341797      42394332       -1255729   \n",
       "..                 ...  ...             ...           ...            ...   \n",
       "195               5.75  ...         3616564      30388263       -1751216   \n",
       "196              19.67  ...         4150995      34182549       -1711085   \n",
       "197              15.67  ...         4826087      42441388       -1939035   \n",
       "198               2.50  ...         3514137      29196771       -1670989   \n",
       "199               2.00  ...         4170644      36003359       -1938944   \n",
       "\n",
       "     dbifmdry_RI  dbifmdry_NBR  dbifmdry_NDII  dbifmdry_GDVI  dbifmdry_MSAVI  \\\n",
       "0        1538462       1964774        -383207        1409000         2022182   \n",
       "1        1341991       2881356        -338983        1438000         2197130   \n",
       "2        2629287       1429988       -1452928        1629000         1787156   \n",
       "3        1173184       2241024        -539075        1088000         1753382   \n",
       "4        1255729       2197205        -836979        1094000         1668140   \n",
       "..           ...           ...            ...            ...             ...   \n",
       "195      1751216       -653378       -1646321        1345000         1214483   \n",
       "196      1711085        742810        -791061        1523000         1587738   \n",
       "197      1939035       2065458        -545833        1776000         1952017   \n",
       "198      1670989       1488840        -458342        1218000         1131930   \n",
       "199      1938944       1487304        -952381        1398000         1389131   \n",
       "\n",
       "     dbifmdry_NDVI  dbifmdry_MSR  \n",
       "0          4405850       6047316  \n",
       "1          4947937       7201101  \n",
       "2          3306405       4099401  \n",
       "3          4957136       7222079  \n",
       "4          4379863       5995724  \n",
       "..             ...           ...  \n",
       "195        1991475       2236580  \n",
       "196        2626459       3085874  \n",
       "197        3185114       3909535  \n",
       "198        1958131       2194196  \n",
       "199        2428048       2811428  \n",
       "\n",
       "[187 rows x 36 columns]"
      ]
     },
     "execution_count": 41,
     "metadata": {},
     "output_type": "execute_result"
    }
   ],
   "source": [
    "#df_encoded\n",
    "df2"
   ]
  },
  {
   "cell_type": "markdown",
   "metadata": {},
   "source": [
    "## Choose which data set to run the models from"
   ]
  },
  {
   "cell_type": "code",
   "execution_count": 42,
   "metadata": {
    "ExecuteTime": {
     "end_time": "2024-08-02T06:26:56.511696Z",
     "start_time": "2024-08-02T06:26:56.496696Z"
    }
   },
   "outputs": [],
   "source": [
    "df_ml = df2"
   ]
  },
  {
   "cell_type": "code",
   "execution_count": 43,
   "metadata": {
    "ExecuteTime": {
     "end_time": "2024-08-02T06:26:56.527696Z",
     "start_time": "2024-08-02T06:26:56.513696Z"
    }
   },
   "outputs": [
    {
     "name": "stderr",
     "output_type": "stream",
     "text": [
      "C:\\Users\\robot\\anaconda3\\envs\\biomass_zonal\\lib\\site-packages\\pandas\\core\\frame.py:4167: SettingWithCopyWarning: \n",
      "A value is trying to be set on a copy of a slice from a DataFrame\n",
      "\n",
      "See the caveats in the documentation: https://pandas.pydata.org/pandas-docs/stable/user_guide/indexing.html#returning-a-view-versus-a-copy\n",
      "  errors=errors,\n"
     ]
    }
   ],
   "source": [
    "# drop some of the unwanted values\n",
    "df_ml.drop(['site_clean',], axis=1, inplace=True)\n",
    "#df_ml.drop(['fpca2_imdate'], axis=1, inplace=True)"
   ]
  },
  {
   "cell_type": "code",
   "execution_count": 44,
   "metadata": {
    "ExecuteTime": {
     "end_time": "2024-08-02T06:26:56.542696Z",
     "start_time": "2024-08-02T06:26:56.529696Z"
    }
   },
   "outputs": [
    {
     "name": "stdout",
     "output_type": "stream",
     "text": [
      "['target', 'b1_wfp_dry_mean', 'b1_hsd_mean', 'b1_hmc_mean', 'b1_hcv_mean', 'b1_h99_mean', 'b1_ccw_dry_mean', 'b1_dp1fm_dry_mean', 'b2_dp1fm_dry_mean', 'b3_dp1fm_dry_mean', 'b2_dbifm_dry_mean', 'b3_dbifm_dry_mean', 'b4_dbifm_dry_mean', 'b5_dbifm_dry_mean', 'b6_dbifm_dry_mean', 'dbifmdry_r42', 'dbifmdry_r43', 'dbifmdry_r52', 'dbifmdry_r53', 'dbifmdry_r54', 'dbifmdry_r62', 'dbifmdry_r63', 'dbifmdry_r64', 'dbifmdry_r65', 'dbifmdry_GSAVI', 'dbifmdry_GNDVI', 'dbifmdry_CVI', 'dbifmdry_NDGI', 'dbifmdry_RI', 'dbifmdry_NBR', 'dbifmdry_NDII', 'dbifmdry_GDVI', 'dbifmdry_MSAVI', 'dbifmdry_NDVI', 'dbifmdry_MSR']\n"
     ]
    }
   ],
   "source": [
    "print(list(df_ml))"
   ]
  },
  {
   "cell_type": "code",
   "execution_count": 45,
   "metadata": {
    "ExecuteTime": {
     "end_time": "2024-08-02T06:26:56.557696Z",
     "start_time": "2024-08-02T06:26:56.543696Z"
    }
   },
   "outputs": [
    {
     "data": {
      "text/plain": [
       "(187, 35)"
      ]
     },
     "execution_count": 45,
     "metadata": {},
     "output_type": "execute_result"
    }
   ],
   "source": [
    "df_ml.shape"
   ]
  },
  {
   "cell_type": "code",
   "execution_count": 46,
   "metadata": {
    "ExecuteTime": {
     "end_time": "2024-08-02T06:26:56.573696Z",
     "start_time": "2024-08-02T06:26:56.559696Z"
    }
   },
   "outputs": [
    {
     "name": "stdout",
     "output_type": "stream",
     "text": [
      "<class 'pandas.core.frame.DataFrame'>\n",
      "Int64Index: 187 entries, 0 to 199\n",
      "Data columns (total 35 columns):\n",
      " #   Column             Non-Null Count  Dtype  \n",
      "---  ------             --------------  -----  \n",
      " 0   target             187 non-null    float64\n",
      " 1   b1_wfp_dry_mean    187 non-null    float64\n",
      " 2   b1_hsd_mean        187 non-null    float64\n",
      " 3   b1_hmc_mean        187 non-null    float64\n",
      " 4   b1_hcv_mean        187 non-null    float64\n",
      " 5   b1_h99_mean        187 non-null    float64\n",
      " 6   b1_ccw_dry_mean    187 non-null    float64\n",
      " 7   b1_dp1fm_dry_mean  187 non-null    float64\n",
      " 8   b2_dp1fm_dry_mean  187 non-null    float64\n",
      " 9   b3_dp1fm_dry_mean  187 non-null    float64\n",
      " 10  b2_dbifm_dry_mean  187 non-null    float64\n",
      " 11  b3_dbifm_dry_mean  187 non-null    float64\n",
      " 12  b4_dbifm_dry_mean  187 non-null    float64\n",
      " 13  b5_dbifm_dry_mean  187 non-null    float64\n",
      " 14  b6_dbifm_dry_mean  187 non-null    float64\n",
      " 15  dbifmdry_r42       187 non-null    int64  \n",
      " 16  dbifmdry_r43       187 non-null    int64  \n",
      " 17  dbifmdry_r52       187 non-null    int64  \n",
      " 18  dbifmdry_r53       187 non-null    int64  \n",
      " 19  dbifmdry_r54       187 non-null    int64  \n",
      " 20  dbifmdry_r62       187 non-null    int64  \n",
      " 21  dbifmdry_r63       187 non-null    int64  \n",
      " 22  dbifmdry_r64       187 non-null    int64  \n",
      " 23  dbifmdry_r65       187 non-null    int64  \n",
      " 24  dbifmdry_GSAVI     187 non-null    int64  \n",
      " 25  dbifmdry_GNDVI     187 non-null    int64  \n",
      " 26  dbifmdry_CVI       187 non-null    int64  \n",
      " 27  dbifmdry_NDGI      187 non-null    int64  \n",
      " 28  dbifmdry_RI        187 non-null    int64  \n",
      " 29  dbifmdry_NBR       187 non-null    int64  \n",
      " 30  dbifmdry_NDII      187 non-null    int64  \n",
      " 31  dbifmdry_GDVI      187 non-null    int64  \n",
      " 32  dbifmdry_MSAVI     187 non-null    int64  \n",
      " 33  dbifmdry_NDVI      187 non-null    int64  \n",
      " 34  dbifmdry_MSR       187 non-null    int64  \n",
      "dtypes: float64(15), int64(20)\n",
      "memory usage: 52.6 KB\n"
     ]
    }
   ],
   "source": [
    "df_ml.info()"
   ]
  },
  {
   "cell_type": "markdown",
   "metadata": {},
   "source": [
    "## Reduce level of 0 values is this cell needed?"
   ]
  },
  {
   "cell_type": "markdown",
   "metadata": {},
   "source": [
    "## Drop AGB numbers which are low"
   ]
  },
  {
   "cell_type": "code",
   "execution_count": 47,
   "metadata": {
    "ExecuteTime": {
     "end_time": "2024-08-02T06:26:56.589696Z",
     "start_time": "2024-08-02T06:26:56.574696Z"
    }
   },
   "outputs": [],
   "source": [
    "# df2 = df2[df2['target']>0.0]\n",
    "# #df2 = df2[df2['target']>1000.0]\n",
    "# df2.shape"
   ]
  },
  {
   "cell_type": "code",
   "execution_count": 48,
   "metadata": {
    "ExecuteTime": {
     "end_time": "2024-08-02T06:26:56.605701Z",
     "start_time": "2024-08-02T06:26:56.591701Z"
    }
   },
   "outputs": [],
   "source": [
    "# columns_with_nulls = df2.columns[df2.isnull().any()]\n",
    "# columns_with_nulls"
   ]
  },
  {
   "cell_type": "markdown",
   "metadata": {},
   "source": [
    "## Drop AGB numbers which are high"
   ]
  },
  {
   "cell_type": "code",
   "execution_count": 49,
   "metadata": {
    "ExecuteTime": {
     "end_time": "2024-08-02T06:26:56.621214Z",
     "start_time": "2024-08-02T06:26:56.607204Z"
    }
   },
   "outputs": [],
   "source": [
    "# # drop the 7 tern sites that appear to be outliers\n",
    "# df2 =df2[df2['target'] <= 40000]\n",
    "# df2.to_csv(os.path.join(output, \"{0}_lt_40000.csv\".format('target')))\n",
    "# #df2 =df2[df2['target'] > 40000]\n",
    "# #df2.value_counts(['site_clean', value_x, value_y])"
   ]
  },
  {
   "cell_type": "code",
   "execution_count": 50,
   "metadata": {
    "ExecuteTime": {
     "end_time": "2024-08-02T06:26:56.636476Z",
     "start_time": "2024-08-02T06:26:56.622215Z"
    }
   },
   "outputs": [
    {
     "data": {
      "text/plain": [
       "(187, 35)"
      ]
     },
     "execution_count": 50,
     "metadata": {},
     "output_type": "execute_result"
    }
   ],
   "source": [
    "df_ml.shape"
   ]
  },
  {
   "cell_type": "code",
   "execution_count": 51,
   "metadata": {
    "ExecuteTime": {
     "end_time": "2024-08-02T06:26:56.651989Z",
     "start_time": "2024-08-02T06:26:56.638476Z"
    }
   },
   "outputs": [],
   "source": [
    "#no removal\n",
    "out_df = df_ml\n",
    "samp = \"all_data\"\n",
    "\n",
    "# # due to the number of field sites with no basal collected data is stratified\n",
    "# out_df = df_ml[df_ml['target']>0.0]\n",
    "# samp = \"no0\"\n",
    "# out_df.to_csv(os.path.join(output, \"more_than_0kgha.csv\"))\n",
    "# out_df = df_ml[df_ml['target']>=10.0]\n",
    "# samp=\"more_t_10\"\n",
    "# out_df.to_csv(os.path.join(output, \"more_than_10kgha.csv\"))\n",
    "# \n",
    "# # create a random selection of 0 - based on sample size\n",
    "# sample_size = 3\n",
    "# no_0_df = df_ml[df_ml['target']>0.0]\n",
    "# samp = \"no0\"\n",
    "# agb_0 = df_ml[df_ml['bio_agb_kg1ha']==0.0].sample(sample_size)\n",
    "# out_df = pd.concat([no_0_df, agb_0])\n",
    "# out_df.to_csv(os.path.join(output, \"ml_df_0_sample_{0}kgha.csv\".format(str(sample_size))))\n",
    "# samp = f\"some0_{sample_size}\"\n",
    "# \n",
    "# \n",
    "# out_df =df_ml[df_ml['target'] <= 40000]\n",
    "# out_df.to_csv(os.path.join(output, \"less_than_40000kgha.csv\"))\n",
    "# samp = \"less_t_40\""
   ]
  },
  {
   "cell_type": "code",
   "execution_count": 52,
   "metadata": {
    "ExecuteTime": {
     "end_time": "2024-08-02T06:26:56.667502Z",
     "start_time": "2024-08-02T06:26:56.652990Z"
    }
   },
   "outputs": [
    {
     "data": {
      "text/plain": [
       "(0, 35)"
      ]
     },
     "execution_count": 52,
     "metadata": {},
     "output_type": "execute_result"
    }
   ],
   "source": [
    "test = out_df[out_df['target']>40000.0]\n",
    "test.shape"
   ]
  },
  {
   "cell_type": "markdown",
   "metadata": {},
   "source": [
    "## Select the dataset to run the models from"
   ]
  },
  {
   "cell_type": "code",
   "execution_count": 53,
   "metadata": {
    "ExecuteTime": {
     "end_time": "2024-08-02T06:26:56.683501Z",
     "start_time": "2024-08-02T06:26:56.668502Z"
    }
   },
   "outputs": [
    {
     "data": {
      "text/plain": [
       "(187, 35)"
      ]
     },
     "execution_count": 53,
     "metadata": {},
     "output_type": "execute_result"
    }
   ],
   "source": [
    "# All variables\n",
    "df_ml = out_df\n",
    "\n",
    "# select variables\n",
    "#df = select_df\n",
    "df_ml.shape"
   ]
  },
  {
   "cell_type": "markdown",
   "metadata": {},
   "source": [
    " Define if you are using all variabes or selected variables"
   ]
  },
  {
   "cell_type": "code",
   "execution_count": 54,
   "metadata": {
    "ExecuteTime": {
     "end_time": "2024-08-02T06:26:56.699501Z",
     "start_time": "2024-08-02T06:26:56.684502Z"
    }
   },
   "outputs": [
    {
     "name": "stdout",
     "output_type": "stream",
     "text": [
      "<class 'pandas.core.frame.DataFrame'>\n",
      "Int64Index: 187 entries, 0 to 199\n",
      "Data columns (total 35 columns):\n",
      " #   Column             Non-Null Count  Dtype  \n",
      "---  ------             --------------  -----  \n",
      " 0   target             187 non-null    float64\n",
      " 1   b1_wfp_dry_mean    187 non-null    float64\n",
      " 2   b1_hsd_mean        187 non-null    float64\n",
      " 3   b1_hmc_mean        187 non-null    float64\n",
      " 4   b1_hcv_mean        187 non-null    float64\n",
      " 5   b1_h99_mean        187 non-null    float64\n",
      " 6   b1_ccw_dry_mean    187 non-null    float64\n",
      " 7   b1_dp1fm_dry_mean  187 non-null    float64\n",
      " 8   b2_dp1fm_dry_mean  187 non-null    float64\n",
      " 9   b3_dp1fm_dry_mean  187 non-null    float64\n",
      " 10  b2_dbifm_dry_mean  187 non-null    float64\n",
      " 11  b3_dbifm_dry_mean  187 non-null    float64\n",
      " 12  b4_dbifm_dry_mean  187 non-null    float64\n",
      " 13  b5_dbifm_dry_mean  187 non-null    float64\n",
      " 14  b6_dbifm_dry_mean  187 non-null    float64\n",
      " 15  dbifmdry_r42       187 non-null    int64  \n",
      " 16  dbifmdry_r43       187 non-null    int64  \n",
      " 17  dbifmdry_r52       187 non-null    int64  \n",
      " 18  dbifmdry_r53       187 non-null    int64  \n",
      " 19  dbifmdry_r54       187 non-null    int64  \n",
      " 20  dbifmdry_r62       187 non-null    int64  \n",
      " 21  dbifmdry_r63       187 non-null    int64  \n",
      " 22  dbifmdry_r64       187 non-null    int64  \n",
      " 23  dbifmdry_r65       187 non-null    int64  \n",
      " 24  dbifmdry_GSAVI     187 non-null    int64  \n",
      " 25  dbifmdry_GNDVI     187 non-null    int64  \n",
      " 26  dbifmdry_CVI       187 non-null    int64  \n",
      " 27  dbifmdry_NDGI      187 non-null    int64  \n",
      " 28  dbifmdry_RI        187 non-null    int64  \n",
      " 29  dbifmdry_NBR       187 non-null    int64  \n",
      " 30  dbifmdry_NDII      187 non-null    int64  \n",
      " 31  dbifmdry_GDVI      187 non-null    int64  \n",
      " 32  dbifmdry_MSAVI     187 non-null    int64  \n",
      " 33  dbifmdry_NDVI      187 non-null    int64  \n",
      " 34  dbifmdry_MSR       187 non-null    int64  \n",
      "dtypes: float64(15), int64(20)\n",
      "memory usage: 52.6 KB\n"
     ]
    }
   ],
   "source": [
    "df_ml.info()"
   ]
  },
  {
   "cell_type": "code",
   "execution_count": null,
   "metadata": {
    "ExecuteTime": {
     "end_time": "2024-08-02T06:26:56.715502Z",
     "start_time": "2024-08-02T06:26:56.701502Z"
    }
   },
   "outputs": [],
   "source": []
  },
  {
   "cell_type": "code",
   "execution_count": 55,
   "metadata": {
    "ExecuteTime": {
     "end_time": "2024-08-02T06:26:56.731502Z",
     "start_time": "2024-08-02T06:26:56.717501Z"
    }
   },
   "outputs": [
    {
     "name": "stderr",
     "output_type": "stream",
     "text": [
      "C:\\Users\\robot\\anaconda3\\envs\\biomass_zonal\\lib\\site-packages\\ipykernel_launcher.py:1: SettingWithCopyWarning: \n",
      "A value is trying to be set on a copy of a slice from a DataFrame\n",
      "\n",
      "See the caveats in the documentation: https://pandas.pydata.org/pandas-docs/stable/user_guide/indexing.html#returning-a-view-versus-a-copy\n",
      "  \"\"\"Entry point for launching an IPython kernel.\n"
     ]
    }
   ],
   "source": [
    "df_ml.dropna(inplace=True)"
   ]
  },
  {
   "cell_type": "code",
   "execution_count": 56,
   "metadata": {
    "ExecuteTime": {
     "end_time": "2024-08-02T06:26:56.747502Z",
     "start_time": "2024-08-02T06:26:56.733502Z"
    }
   },
   "outputs": [
    {
     "name": "stdout",
     "output_type": "stream",
     "text": [
      "<class 'pandas.core.frame.DataFrame'>\n",
      "Int64Index: 187 entries, 0 to 199\n",
      "Data columns (total 35 columns):\n",
      " #   Column             Non-Null Count  Dtype  \n",
      "---  ------             --------------  -----  \n",
      " 0   target             187 non-null    float64\n",
      " 1   b1_wfp_dry_mean    187 non-null    float64\n",
      " 2   b1_hsd_mean        187 non-null    float64\n",
      " 3   b1_hmc_mean        187 non-null    float64\n",
      " 4   b1_hcv_mean        187 non-null    float64\n",
      " 5   b1_h99_mean        187 non-null    float64\n",
      " 6   b1_ccw_dry_mean    187 non-null    float64\n",
      " 7   b1_dp1fm_dry_mean  187 non-null    float64\n",
      " 8   b2_dp1fm_dry_mean  187 non-null    float64\n",
      " 9   b3_dp1fm_dry_mean  187 non-null    float64\n",
      " 10  b2_dbifm_dry_mean  187 non-null    float64\n",
      " 11  b3_dbifm_dry_mean  187 non-null    float64\n",
      " 12  b4_dbifm_dry_mean  187 non-null    float64\n",
      " 13  b5_dbifm_dry_mean  187 non-null    float64\n",
      " 14  b6_dbifm_dry_mean  187 non-null    float64\n",
      " 15  dbifmdry_r42       187 non-null    int64  \n",
      " 16  dbifmdry_r43       187 non-null    int64  \n",
      " 17  dbifmdry_r52       187 non-null    int64  \n",
      " 18  dbifmdry_r53       187 non-null    int64  \n",
      " 19  dbifmdry_r54       187 non-null    int64  \n",
      " 20  dbifmdry_r62       187 non-null    int64  \n",
      " 21  dbifmdry_r63       187 non-null    int64  \n",
      " 22  dbifmdry_r64       187 non-null    int64  \n",
      " 23  dbifmdry_r65       187 non-null    int64  \n",
      " 24  dbifmdry_GSAVI     187 non-null    int64  \n",
      " 25  dbifmdry_GNDVI     187 non-null    int64  \n",
      " 26  dbifmdry_CVI       187 non-null    int64  \n",
      " 27  dbifmdry_NDGI      187 non-null    int64  \n",
      " 28  dbifmdry_RI        187 non-null    int64  \n",
      " 29  dbifmdry_NBR       187 non-null    int64  \n",
      " 30  dbifmdry_NDII      187 non-null    int64  \n",
      " 31  dbifmdry_GDVI      187 non-null    int64  \n",
      " 32  dbifmdry_MSAVI     187 non-null    int64  \n",
      " 33  dbifmdry_NDVI      187 non-null    int64  \n",
      " 34  dbifmdry_MSR       187 non-null    int64  \n",
      "dtypes: float64(15), int64(20)\n",
      "memory usage: 52.6 KB\n"
     ]
    }
   ],
   "source": [
    "df_ml.info()"
   ]
  },
  {
   "cell_type": "code",
   "execution_count": 57,
   "metadata": {
    "ExecuteTime": {
     "end_time": "2024-08-02T06:26:56.811502Z",
     "start_time": "2024-08-02T06:26:56.750501Z"
    }
   },
   "outputs": [
    {
     "data": {
      "text/html": [
       "<div>\n",
       "<style scoped>\n",
       "    .dataframe tbody tr th:only-of-type {\n",
       "        vertical-align: middle;\n",
       "    }\n",
       "\n",
       "    .dataframe tbody tr th {\n",
       "        vertical-align: top;\n",
       "    }\n",
       "\n",
       "    .dataframe thead th {\n",
       "        text-align: right;\n",
       "    }\n",
       "</style>\n",
       "<table border=\"1\" class=\"dataframe\">\n",
       "  <thead>\n",
       "    <tr style=\"text-align: right;\">\n",
       "      <th></th>\n",
       "      <th>target</th>\n",
       "      <th>b1_wfp_dry_mean</th>\n",
       "      <th>b1_hsd_mean</th>\n",
       "      <th>b1_hmc_mean</th>\n",
       "      <th>b1_hcv_mean</th>\n",
       "      <th>b1_h99_mean</th>\n",
       "      <th>b1_ccw_dry_mean</th>\n",
       "      <th>b1_dp1fm_dry_mean</th>\n",
       "      <th>b2_dp1fm_dry_mean</th>\n",
       "      <th>b3_dp1fm_dry_mean</th>\n",
       "      <th>...</th>\n",
       "      <th>dbifmdry_GNDVI</th>\n",
       "      <th>dbifmdry_CVI</th>\n",
       "      <th>dbifmdry_NDGI</th>\n",
       "      <th>dbifmdry_RI</th>\n",
       "      <th>dbifmdry_NBR</th>\n",
       "      <th>dbifmdry_NDII</th>\n",
       "      <th>dbifmdry_GDVI</th>\n",
       "      <th>dbifmdry_MSAVI</th>\n",
       "      <th>dbifmdry_NDVI</th>\n",
       "      <th>dbifmdry_MSR</th>\n",
       "    </tr>\n",
       "  </thead>\n",
       "  <tbody>\n",
       "    <tr>\n",
       "      <th>count</th>\n",
       "      <td>187.00</td>\n",
       "      <td>187.00</td>\n",
       "      <td>187.00</td>\n",
       "      <td>187.00</td>\n",
       "      <td>187.00</td>\n",
       "      <td>187.00</td>\n",
       "      <td>187.00</td>\n",
       "      <td>187.00</td>\n",
       "      <td>187.00</td>\n",
       "      <td>187.00</td>\n",
       "      <td>...</td>\n",
       "      <td>187.00</td>\n",
       "      <td>187.00</td>\n",
       "      <td>187.00</td>\n",
       "      <td>187.00</td>\n",
       "      <td>187.00</td>\n",
       "      <td>187.00</td>\n",
       "      <td>187.00</td>\n",
       "      <td>187.00</td>\n",
       "      <td>187.00</td>\n",
       "      <td>187.00</td>\n",
       "    </tr>\n",
       "    <tr>\n",
       "      <th>mean</th>\n",
       "      <td>6600.97</td>\n",
       "      <td>22.64</td>\n",
       "      <td>102.77</td>\n",
       "      <td>105.19</td>\n",
       "      <td>152.11</td>\n",
       "      <td>110.44</td>\n",
       "      <td>34.69</td>\n",
       "      <td>10.89</td>\n",
       "      <td>25.58</td>\n",
       "      <td>62.04</td>\n",
       "      <td>...</td>\n",
       "      <td>5036584.71</td>\n",
       "      <td>44062876.53</td>\n",
       "      <td>-1640127.78</td>\n",
       "      <td>1640127.78</td>\n",
       "      <td>1591732.42</td>\n",
       "      <td>-718855.29</td>\n",
       "      <td>1414251.34</td>\n",
       "      <td>1809372.90</td>\n",
       "      <td>3697968.03</td>\n",
       "      <td>5027109.81</td>\n",
       "    </tr>\n",
       "    <tr>\n",
       "      <th>std</th>\n",
       "      <td>7885.74</td>\n",
       "      <td>18.04</td>\n",
       "      <td>1.36</td>\n",
       "      <td>2.73</td>\n",
       "      <td>9.98</td>\n",
       "      <td>4.81</td>\n",
       "      <td>26.11</td>\n",
       "      <td>10.30</td>\n",
       "      <td>16.84</td>\n",
       "      <td>16.11</td>\n",
       "      <td>...</td>\n",
       "      <td>919816.78</td>\n",
       "      <td>10259510.63</td>\n",
       "      <td>419534.09</td>\n",
       "      <td>419534.09</td>\n",
       "      <td>1465902.28</td>\n",
       "      <td>963395.77</td>\n",
       "      <td>266009.47</td>\n",
       "      <td>533066.52</td>\n",
       "      <td>1225930.38</td>\n",
       "      <td>2273608.00</td>\n",
       "    </tr>\n",
       "    <tr>\n",
       "      <th>min</th>\n",
       "      <td>0.00</td>\n",
       "      <td>1.00</td>\n",
       "      <td>100.55</td>\n",
       "      <td>100.86</td>\n",
       "      <td>122.17</td>\n",
       "      <td>101.91</td>\n",
       "      <td>1.00</td>\n",
       "      <td>0.00</td>\n",
       "      <td>0.11</td>\n",
       "      <td>25.67</td>\n",
       "      <td>...</td>\n",
       "      <td>3165382.00</td>\n",
       "      <td>25412028.00</td>\n",
       "      <td>-2629287.00</td>\n",
       "      <td>62735.00</td>\n",
       "      <td>-1410805.00</td>\n",
       "      <td>-2596291.00</td>\n",
       "      <td>852000.00</td>\n",
       "      <td>866176.00</td>\n",
       "      <td>1531438.00</td>\n",
       "      <td>1669087.00</td>\n",
       "    </tr>\n",
       "    <tr>\n",
       "      <th>25%</th>\n",
       "      <td>0.00</td>\n",
       "      <td>5.82</td>\n",
       "      <td>101.62</td>\n",
       "      <td>102.97</td>\n",
       "      <td>145.93</td>\n",
       "      <td>106.33</td>\n",
       "      <td>9.39</td>\n",
       "      <td>3.32</td>\n",
       "      <td>10.61</td>\n",
       "      <td>49.33</td>\n",
       "      <td>...</td>\n",
       "      <td>4257238.50</td>\n",
       "      <td>35290076.50</td>\n",
       "      <td>-1938989.50</td>\n",
       "      <td>1338674.00</td>\n",
       "      <td>469229.00</td>\n",
       "      <td>-1458399.50</td>\n",
       "      <td>1216500.00</td>\n",
       "      <td>1396798.00</td>\n",
       "      <td>2653194.50</td>\n",
       "      <td>3123535.00</td>\n",
       "    </tr>\n",
       "    <tr>\n",
       "      <th>50%</th>\n",
       "      <td>3668.79</td>\n",
       "      <td>18.67</td>\n",
       "      <td>102.65</td>\n",
       "      <td>104.48</td>\n",
       "      <td>152.80</td>\n",
       "      <td>110.21</td>\n",
       "      <td>31.33</td>\n",
       "      <td>7.33</td>\n",
       "      <td>24.92</td>\n",
       "      <td>59.38</td>\n",
       "      <td>...</td>\n",
       "      <td>5055439.00</td>\n",
       "      <td>43270890.00</td>\n",
       "      <td>-1680672.00</td>\n",
       "      <td>1680672.00</td>\n",
       "      <td>1488840.00</td>\n",
       "      <td>-805076.00</td>\n",
       "      <td>1398000.00</td>\n",
       "      <td>1680773.00</td>\n",
       "      <td>3461818.00</td>\n",
       "      <td>4349057.00</td>\n",
       "    </tr>\n",
       "    <tr>\n",
       "      <th>75%</th>\n",
       "      <td>9589.98</td>\n",
       "      <td>37.67</td>\n",
       "      <td>103.79</td>\n",
       "      <td>107.06</td>\n",
       "      <td>158.35</td>\n",
       "      <td>113.95</td>\n",
       "      <td>57.67</td>\n",
       "      <td>17.05</td>\n",
       "      <td>41.78</td>\n",
       "      <td>75.47</td>\n",
       "      <td>...</td>\n",
       "      <td>5826491.50</td>\n",
       "      <td>51814500.00</td>\n",
       "      <td>-1338674.00</td>\n",
       "      <td>1938989.50</td>\n",
       "      <td>2590125.00</td>\n",
       "      <td>-10692.50</td>\n",
       "      <td>1600500.00</td>\n",
       "      <td>2212283.50</td>\n",
       "      <td>4800476.00</td>\n",
       "      <td>6871634.00</td>\n",
       "    </tr>\n",
       "    <tr>\n",
       "      <th>max</th>\n",
       "      <td>32025.21</td>\n",
       "      <td>68.22</td>\n",
       "      <td>105.72</td>\n",
       "      <td>112.38</td>\n",
       "      <td>179.98</td>\n",
       "      <td>120.23</td>\n",
       "      <td>87.33</td>\n",
       "      <td>49.62</td>\n",
       "      <td>62.56</td>\n",
       "      <td>94.22</td>\n",
       "      <td>...</td>\n",
       "      <td>6960059.00</td>\n",
       "      <td>68007708.00</td>\n",
       "      <td>-62735.00</td>\n",
       "      <td>2629287.00</td>\n",
       "      <td>5095458.00</td>\n",
       "      <td>1657346.00</td>\n",
       "      <td>2143000.00</td>\n",
       "      <td>3153809.00</td>\n",
       "      <td>6413744.00</td>\n",
       "      <td>11393565.00</td>\n",
       "    </tr>\n",
       "  </tbody>\n",
       "</table>\n",
       "<p>8 rows × 35 columns</p>\n",
       "</div>"
      ],
      "text/plain": [
       "        target  b1_wfp_dry_mean  b1_hsd_mean  b1_hmc_mean  b1_hcv_mean  \\\n",
       "count   187.00           187.00       187.00       187.00       187.00   \n",
       "mean   6600.97            22.64       102.77       105.19       152.11   \n",
       "std    7885.74            18.04         1.36         2.73         9.98   \n",
       "min       0.00             1.00       100.55       100.86       122.17   \n",
       "25%       0.00             5.82       101.62       102.97       145.93   \n",
       "50%    3668.79            18.67       102.65       104.48       152.80   \n",
       "75%    9589.98            37.67       103.79       107.06       158.35   \n",
       "max   32025.21            68.22       105.72       112.38       179.98   \n",
       "\n",
       "       b1_h99_mean  b1_ccw_dry_mean  b1_dp1fm_dry_mean  b2_dp1fm_dry_mean  \\\n",
       "count       187.00           187.00             187.00             187.00   \n",
       "mean        110.44            34.69              10.89              25.58   \n",
       "std           4.81            26.11              10.30              16.84   \n",
       "min         101.91             1.00               0.00               0.11   \n",
       "25%         106.33             9.39               3.32              10.61   \n",
       "50%         110.21            31.33               7.33              24.92   \n",
       "75%         113.95            57.67              17.05              41.78   \n",
       "max         120.23            87.33              49.62              62.56   \n",
       "\n",
       "       b3_dp1fm_dry_mean  ...  dbifmdry_GNDVI  dbifmdry_CVI  dbifmdry_NDGI  \\\n",
       "count             187.00  ...          187.00        187.00         187.00   \n",
       "mean               62.04  ...      5036584.71   44062876.53    -1640127.78   \n",
       "std                16.11  ...       919816.78   10259510.63      419534.09   \n",
       "min                25.67  ...      3165382.00   25412028.00    -2629287.00   \n",
       "25%                49.33  ...      4257238.50   35290076.50    -1938989.50   \n",
       "50%                59.38  ...      5055439.00   43270890.00    -1680672.00   \n",
       "75%                75.47  ...      5826491.50   51814500.00    -1338674.00   \n",
       "max                94.22  ...      6960059.00   68007708.00      -62735.00   \n",
       "\n",
       "       dbifmdry_RI  dbifmdry_NBR  dbifmdry_NDII  dbifmdry_GDVI  \\\n",
       "count       187.00        187.00         187.00         187.00   \n",
       "mean    1640127.78    1591732.42     -718855.29     1414251.34   \n",
       "std      419534.09    1465902.28      963395.77      266009.47   \n",
       "min       62735.00   -1410805.00    -2596291.00      852000.00   \n",
       "25%     1338674.00     469229.00    -1458399.50     1216500.00   \n",
       "50%     1680672.00    1488840.00     -805076.00     1398000.00   \n",
       "75%     1938989.50    2590125.00      -10692.50     1600500.00   \n",
       "max     2629287.00    5095458.00     1657346.00     2143000.00   \n",
       "\n",
       "       dbifmdry_MSAVI  dbifmdry_NDVI  dbifmdry_MSR  \n",
       "count          187.00         187.00        187.00  \n",
       "mean       1809372.90     3697968.03    5027109.81  \n",
       "std         533066.52     1225930.38    2273608.00  \n",
       "min         866176.00     1531438.00    1669087.00  \n",
       "25%        1396798.00     2653194.50    3123535.00  \n",
       "50%        1680773.00     3461818.00    4349057.00  \n",
       "75%        2212283.50     4800476.00    6871634.00  \n",
       "max        3153809.00     6413744.00   11393565.00  \n",
       "\n",
       "[8 rows x 35 columns]"
      ]
     },
     "execution_count": 57,
     "metadata": {},
     "output_type": "execute_result"
    }
   ],
   "source": [
    "df_ml.describe()"
   ]
  },
  {
   "cell_type": "markdown",
   "metadata": {},
   "source": [
    "# Scatter plots with error"
   ]
  },
  {
   "cell_type": "code",
   "execution_count": 58,
   "metadata": {
    "ExecuteTime": {
     "end_time": "2024-08-02T06:26:56.827501Z",
     "start_time": "2024-08-02T06:26:56.812502Z"
    }
   },
   "outputs": [],
   "source": [
    "#df_ml.to_csv(, index=False)\n",
    "df_ml.to_csv(os.path.join(output, \"{0}_{1}_{2}_ml_data.csv\".format(var_, mdl, samp)), index=False)"
   ]
  },
  {
   "cell_type": "code",
   "execution_count": 59,
   "metadata": {
    "ExecuteTime": {
     "end_time": "2024-08-02T06:26:56.875503Z",
     "start_time": "2024-08-02T06:26:56.828502Z"
    }
   },
   "outputs": [
    {
     "data": {
      "text/html": [
       "<div>\n",
       "<style scoped>\n",
       "    .dataframe tbody tr th:only-of-type {\n",
       "        vertical-align: middle;\n",
       "    }\n",
       "\n",
       "    .dataframe tbody tr th {\n",
       "        vertical-align: top;\n",
       "    }\n",
       "\n",
       "    .dataframe thead th {\n",
       "        text-align: right;\n",
       "    }\n",
       "</style>\n",
       "<table border=\"1\" class=\"dataframe\">\n",
       "  <thead>\n",
       "    <tr style=\"text-align: right;\">\n",
       "      <th></th>\n",
       "      <th>target</th>\n",
       "      <th>b1_wfp_dry_mean</th>\n",
       "      <th>b1_hsd_mean</th>\n",
       "      <th>b1_hmc_mean</th>\n",
       "      <th>b1_hcv_mean</th>\n",
       "      <th>b1_h99_mean</th>\n",
       "      <th>b1_ccw_dry_mean</th>\n",
       "      <th>b1_dp1fm_dry_mean</th>\n",
       "      <th>b2_dp1fm_dry_mean</th>\n",
       "      <th>b3_dp1fm_dry_mean</th>\n",
       "      <th>...</th>\n",
       "      <th>dbifmdry_GNDVI</th>\n",
       "      <th>dbifmdry_CVI</th>\n",
       "      <th>dbifmdry_NDGI</th>\n",
       "      <th>dbifmdry_RI</th>\n",
       "      <th>dbifmdry_NBR</th>\n",
       "      <th>dbifmdry_NDII</th>\n",
       "      <th>dbifmdry_GDVI</th>\n",
       "      <th>dbifmdry_MSAVI</th>\n",
       "      <th>dbifmdry_NDVI</th>\n",
       "      <th>dbifmdry_MSR</th>\n",
       "    </tr>\n",
       "  </thead>\n",
       "  <tbody>\n",
       "    <tr>\n",
       "      <th>count</th>\n",
       "      <td>187.00</td>\n",
       "      <td>187.00</td>\n",
       "      <td>187.00</td>\n",
       "      <td>187.00</td>\n",
       "      <td>187.00</td>\n",
       "      <td>187.00</td>\n",
       "      <td>187.00</td>\n",
       "      <td>187.00</td>\n",
       "      <td>187.00</td>\n",
       "      <td>187.00</td>\n",
       "      <td>...</td>\n",
       "      <td>187.00</td>\n",
       "      <td>187.00</td>\n",
       "      <td>187.00</td>\n",
       "      <td>187.00</td>\n",
       "      <td>187.00</td>\n",
       "      <td>187.00</td>\n",
       "      <td>187.00</td>\n",
       "      <td>187.00</td>\n",
       "      <td>187.00</td>\n",
       "      <td>187.00</td>\n",
       "    </tr>\n",
       "    <tr>\n",
       "      <th>mean</th>\n",
       "      <td>6600.97</td>\n",
       "      <td>22.64</td>\n",
       "      <td>102.77</td>\n",
       "      <td>105.19</td>\n",
       "      <td>152.11</td>\n",
       "      <td>110.44</td>\n",
       "      <td>34.69</td>\n",
       "      <td>10.89</td>\n",
       "      <td>25.58</td>\n",
       "      <td>62.04</td>\n",
       "      <td>...</td>\n",
       "      <td>5036584.71</td>\n",
       "      <td>44062876.53</td>\n",
       "      <td>-1640127.78</td>\n",
       "      <td>1640127.78</td>\n",
       "      <td>1591732.42</td>\n",
       "      <td>-718855.29</td>\n",
       "      <td>1414251.34</td>\n",
       "      <td>1809372.90</td>\n",
       "      <td>3697968.03</td>\n",
       "      <td>5027109.81</td>\n",
       "    </tr>\n",
       "    <tr>\n",
       "      <th>std</th>\n",
       "      <td>7885.74</td>\n",
       "      <td>18.04</td>\n",
       "      <td>1.36</td>\n",
       "      <td>2.73</td>\n",
       "      <td>9.98</td>\n",
       "      <td>4.81</td>\n",
       "      <td>26.11</td>\n",
       "      <td>10.30</td>\n",
       "      <td>16.84</td>\n",
       "      <td>16.11</td>\n",
       "      <td>...</td>\n",
       "      <td>919816.78</td>\n",
       "      <td>10259510.63</td>\n",
       "      <td>419534.09</td>\n",
       "      <td>419534.09</td>\n",
       "      <td>1465902.28</td>\n",
       "      <td>963395.77</td>\n",
       "      <td>266009.47</td>\n",
       "      <td>533066.52</td>\n",
       "      <td>1225930.38</td>\n",
       "      <td>2273608.00</td>\n",
       "    </tr>\n",
       "    <tr>\n",
       "      <th>min</th>\n",
       "      <td>0.00</td>\n",
       "      <td>1.00</td>\n",
       "      <td>100.55</td>\n",
       "      <td>100.86</td>\n",
       "      <td>122.17</td>\n",
       "      <td>101.91</td>\n",
       "      <td>1.00</td>\n",
       "      <td>0.00</td>\n",
       "      <td>0.11</td>\n",
       "      <td>25.67</td>\n",
       "      <td>...</td>\n",
       "      <td>3165382.00</td>\n",
       "      <td>25412028.00</td>\n",
       "      <td>-2629287.00</td>\n",
       "      <td>62735.00</td>\n",
       "      <td>-1410805.00</td>\n",
       "      <td>-2596291.00</td>\n",
       "      <td>852000.00</td>\n",
       "      <td>866176.00</td>\n",
       "      <td>1531438.00</td>\n",
       "      <td>1669087.00</td>\n",
       "    </tr>\n",
       "    <tr>\n",
       "      <th>25%</th>\n",
       "      <td>0.00</td>\n",
       "      <td>5.82</td>\n",
       "      <td>101.62</td>\n",
       "      <td>102.97</td>\n",
       "      <td>145.93</td>\n",
       "      <td>106.33</td>\n",
       "      <td>9.39</td>\n",
       "      <td>3.32</td>\n",
       "      <td>10.61</td>\n",
       "      <td>49.33</td>\n",
       "      <td>...</td>\n",
       "      <td>4257238.50</td>\n",
       "      <td>35290076.50</td>\n",
       "      <td>-1938989.50</td>\n",
       "      <td>1338674.00</td>\n",
       "      <td>469229.00</td>\n",
       "      <td>-1458399.50</td>\n",
       "      <td>1216500.00</td>\n",
       "      <td>1396798.00</td>\n",
       "      <td>2653194.50</td>\n",
       "      <td>3123535.00</td>\n",
       "    </tr>\n",
       "    <tr>\n",
       "      <th>50%</th>\n",
       "      <td>3668.79</td>\n",
       "      <td>18.67</td>\n",
       "      <td>102.65</td>\n",
       "      <td>104.48</td>\n",
       "      <td>152.80</td>\n",
       "      <td>110.21</td>\n",
       "      <td>31.33</td>\n",
       "      <td>7.33</td>\n",
       "      <td>24.92</td>\n",
       "      <td>59.38</td>\n",
       "      <td>...</td>\n",
       "      <td>5055439.00</td>\n",
       "      <td>43270890.00</td>\n",
       "      <td>-1680672.00</td>\n",
       "      <td>1680672.00</td>\n",
       "      <td>1488840.00</td>\n",
       "      <td>-805076.00</td>\n",
       "      <td>1398000.00</td>\n",
       "      <td>1680773.00</td>\n",
       "      <td>3461818.00</td>\n",
       "      <td>4349057.00</td>\n",
       "    </tr>\n",
       "    <tr>\n",
       "      <th>75%</th>\n",
       "      <td>9589.98</td>\n",
       "      <td>37.67</td>\n",
       "      <td>103.79</td>\n",
       "      <td>107.06</td>\n",
       "      <td>158.35</td>\n",
       "      <td>113.95</td>\n",
       "      <td>57.67</td>\n",
       "      <td>17.05</td>\n",
       "      <td>41.78</td>\n",
       "      <td>75.47</td>\n",
       "      <td>...</td>\n",
       "      <td>5826491.50</td>\n",
       "      <td>51814500.00</td>\n",
       "      <td>-1338674.00</td>\n",
       "      <td>1938989.50</td>\n",
       "      <td>2590125.00</td>\n",
       "      <td>-10692.50</td>\n",
       "      <td>1600500.00</td>\n",
       "      <td>2212283.50</td>\n",
       "      <td>4800476.00</td>\n",
       "      <td>6871634.00</td>\n",
       "    </tr>\n",
       "    <tr>\n",
       "      <th>max</th>\n",
       "      <td>32025.21</td>\n",
       "      <td>68.22</td>\n",
       "      <td>105.72</td>\n",
       "      <td>112.38</td>\n",
       "      <td>179.98</td>\n",
       "      <td>120.23</td>\n",
       "      <td>87.33</td>\n",
       "      <td>49.62</td>\n",
       "      <td>62.56</td>\n",
       "      <td>94.22</td>\n",
       "      <td>...</td>\n",
       "      <td>6960059.00</td>\n",
       "      <td>68007708.00</td>\n",
       "      <td>-62735.00</td>\n",
       "      <td>2629287.00</td>\n",
       "      <td>5095458.00</td>\n",
       "      <td>1657346.00</td>\n",
       "      <td>2143000.00</td>\n",
       "      <td>3153809.00</td>\n",
       "      <td>6413744.00</td>\n",
       "      <td>11393565.00</td>\n",
       "    </tr>\n",
       "  </tbody>\n",
       "</table>\n",
       "<p>8 rows × 35 columns</p>\n",
       "</div>"
      ],
      "text/plain": [
       "        target  b1_wfp_dry_mean  b1_hsd_mean  b1_hmc_mean  b1_hcv_mean  \\\n",
       "count   187.00           187.00       187.00       187.00       187.00   \n",
       "mean   6600.97            22.64       102.77       105.19       152.11   \n",
       "std    7885.74            18.04         1.36         2.73         9.98   \n",
       "min       0.00             1.00       100.55       100.86       122.17   \n",
       "25%       0.00             5.82       101.62       102.97       145.93   \n",
       "50%    3668.79            18.67       102.65       104.48       152.80   \n",
       "75%    9589.98            37.67       103.79       107.06       158.35   \n",
       "max   32025.21            68.22       105.72       112.38       179.98   \n",
       "\n",
       "       b1_h99_mean  b1_ccw_dry_mean  b1_dp1fm_dry_mean  b2_dp1fm_dry_mean  \\\n",
       "count       187.00           187.00             187.00             187.00   \n",
       "mean        110.44            34.69              10.89              25.58   \n",
       "std           4.81            26.11              10.30              16.84   \n",
       "min         101.91             1.00               0.00               0.11   \n",
       "25%         106.33             9.39               3.32              10.61   \n",
       "50%         110.21            31.33               7.33              24.92   \n",
       "75%         113.95            57.67              17.05              41.78   \n",
       "max         120.23            87.33              49.62              62.56   \n",
       "\n",
       "       b3_dp1fm_dry_mean  ...  dbifmdry_GNDVI  dbifmdry_CVI  dbifmdry_NDGI  \\\n",
       "count             187.00  ...          187.00        187.00         187.00   \n",
       "mean               62.04  ...      5036584.71   44062876.53    -1640127.78   \n",
       "std                16.11  ...       919816.78   10259510.63      419534.09   \n",
       "min                25.67  ...      3165382.00   25412028.00    -2629287.00   \n",
       "25%                49.33  ...      4257238.50   35290076.50    -1938989.50   \n",
       "50%                59.38  ...      5055439.00   43270890.00    -1680672.00   \n",
       "75%                75.47  ...      5826491.50   51814500.00    -1338674.00   \n",
       "max                94.22  ...      6960059.00   68007708.00      -62735.00   \n",
       "\n",
       "       dbifmdry_RI  dbifmdry_NBR  dbifmdry_NDII  dbifmdry_GDVI  \\\n",
       "count       187.00        187.00         187.00         187.00   \n",
       "mean    1640127.78    1591732.42     -718855.29     1414251.34   \n",
       "std      419534.09    1465902.28      963395.77      266009.47   \n",
       "min       62735.00   -1410805.00    -2596291.00      852000.00   \n",
       "25%     1338674.00     469229.00    -1458399.50     1216500.00   \n",
       "50%     1680672.00    1488840.00     -805076.00     1398000.00   \n",
       "75%     1938989.50    2590125.00      -10692.50     1600500.00   \n",
       "max     2629287.00    5095458.00     1657346.00     2143000.00   \n",
       "\n",
       "       dbifmdry_MSAVI  dbifmdry_NDVI  dbifmdry_MSR  \n",
       "count          187.00         187.00        187.00  \n",
       "mean       1809372.90     3697968.03    5027109.81  \n",
       "std         533066.52     1225930.38    2273608.00  \n",
       "min         866176.00     1531438.00    1669087.00  \n",
       "25%        1396798.00     2653194.50    3123535.00  \n",
       "50%        1680773.00     3461818.00    4349057.00  \n",
       "75%        2212283.50     4800476.00    6871634.00  \n",
       "max        3153809.00     6413744.00   11393565.00  \n",
       "\n",
       "[8 rows x 35 columns]"
      ]
     },
     "execution_count": 59,
     "metadata": {},
     "output_type": "execute_result"
    }
   ],
   "source": [
    "df_ml.describe()"
   ]
  },
  {
   "cell_type": "code",
   "execution_count": 60,
   "metadata": {
    "ExecuteTime": {
     "end_time": "2024-08-02T06:26:56.891503Z",
     "start_time": "2024-08-02T06:26:56.876504Z"
    }
   },
   "outputs": [],
   "source": [
    "# Check for null values\n",
    "null_values = df_ml.isnull().sum()"
   ]
  },
  {
   "cell_type": "code",
   "execution_count": 61,
   "metadata": {
    "ExecuteTime": {
     "end_time": "2024-08-02T06:26:56.907513Z",
     "start_time": "2024-08-02T06:26:56.892503Z"
    }
   },
   "outputs": [
    {
     "data": {
      "text/plain": [
       "target               0\n",
       "b1_wfp_dry_mean      0\n",
       "b1_hsd_mean          0\n",
       "b1_hmc_mean          0\n",
       "b1_hcv_mean          0\n",
       "b1_h99_mean          0\n",
       "b1_ccw_dry_mean      0\n",
       "b1_dp1fm_dry_mean    0\n",
       "b2_dp1fm_dry_mean    0\n",
       "b3_dp1fm_dry_mean    0\n",
       "b2_dbifm_dry_mean    0\n",
       "b3_dbifm_dry_mean    0\n",
       "b4_dbifm_dry_mean    0\n",
       "b5_dbifm_dry_mean    0\n",
       "b6_dbifm_dry_mean    0\n",
       "dbifmdry_r42         0\n",
       "dbifmdry_r43         0\n",
       "dbifmdry_r52         0\n",
       "dbifmdry_r53         0\n",
       "dbifmdry_r54         0\n",
       "dbifmdry_r62         0\n",
       "dbifmdry_r63         0\n",
       "dbifmdry_r64         0\n",
       "dbifmdry_r65         0\n",
       "dbifmdry_GSAVI       0\n",
       "dbifmdry_GNDVI       0\n",
       "dbifmdry_CVI         0\n",
       "dbifmdry_NDGI        0\n",
       "dbifmdry_RI          0\n",
       "dbifmdry_NBR         0\n",
       "dbifmdry_NDII        0\n",
       "dbifmdry_GDVI        0\n",
       "dbifmdry_MSAVI       0\n",
       "dbifmdry_NDVI        0\n",
       "dbifmdry_MSR         0\n",
       "dtype: int64"
      ]
     },
     "execution_count": 61,
     "metadata": {},
     "output_type": "execute_result"
    }
   ],
   "source": [
    "null_values"
   ]
  },
  {
   "cell_type": "code",
   "execution_count": 62,
   "metadata": {
    "ExecuteTime": {
     "end_time": "2024-08-02T06:26:56.922503Z",
     "start_time": "2024-08-02T06:26:56.908503Z"
    }
   },
   "outputs": [],
   "source": [
    "#df = df_ml"
   ]
  },
  {
   "cell_type": "code",
   "execution_count": 63,
   "metadata": {
    "ExecuteTime": {
     "end_time": "2024-08-02T06:26:56.937502Z",
     "start_time": "2024-08-02T06:26:56.923503Z"
    }
   },
   "outputs": [],
   "source": [
    "# Function to check if a value is in scientific notation\n",
    "def is_scientific_notation(value):\n",
    "    try:\n",
    "        float_value = float(value)\n",
    "        return '{:e}'.format(float_value) == value.lower()\n",
    "    except ValueError:\n",
    "        return False\n",
    "\n",
    "# Check for scientific notation in each cell\n",
    "for column in df_ml.columns:\n",
    "    for value in df_ml[column]:\n",
    "        if is_scientific_notation(str(value)):\n",
    "            print(f\"Column {column}: {value} is in scientific notation\")"
   ]
  },
  {
   "cell_type": "code",
   "execution_count": null,
   "metadata": {
    "ExecuteTime": {
     "end_time": "2024-08-02T06:27:43.511703Z",
     "start_time": "2024-08-02T06:26:56.939503Z"
    }
   },
   "outputs": [
    {
     "data": {
      "image/png": "[encoded data removed]",
      "text/plain": [
       "<Figure size 1008x720 with 4 Axes>"
      ]
     },
     "metadata": {
      "needs_background": "light"
     },
     "output_type": "display_data"
    },
    {
     "name": "stdout",
     "output_type": "stream",
     "text": [
      "plot:  C:\\Users\\robot\\projects\\biomass\\model\\GBR_dp1_dbi_si_dry_mask_density_sddv3_mean\\plots\\GBR_dp1_dbi_si_dry_mask_density_sddv3_mean_GBR_b1_wfp_dry_mean_0_combined_plot_tr.JPG\n"
     ]
    },
    {
     "data": {
      "image/png": "[encoded data removed]",
      "text/plain": [
       "<Figure size 1008x720 with 4 Axes>"
      ]
     },
     "metadata": {
      "needs_background": "light"
     },
     "output_type": "display_data"
    },
    {
     "name": "stdout",
     "output_type": "stream",
     "text": [
      "plot:  C:\\Users\\robot\\projects\\biomass\\model\\GBR_dp1_dbi_si_dry_mask_density_sddv3_mean\\plots\\GBR_dp1_dbi_si_dry_mask_density_sddv3_mean_GBR_b1_hsd_mean_0_combined_plot_tr.JPG\n"
     ]
    },
    {
     "data": {
      "image/png": "[encoded data removed]",
      "text/plain": [
       "<Figure size 1008x720 with 4 Axes>"
      ]
     },
     "metadata": {
      "needs_background": "light"
     },
     "output_type": "display_data"
    },
    {
     "name": "stdout",
     "output_type": "stream",
     "text": [
      "plot:  C:\\Users\\robot\\projects\\biomass\\model\\GBR_dp1_dbi_si_dry_mask_density_sddv3_mean\\plots\\GBR_dp1_dbi_si_dry_mask_density_sddv3_mean_GBR_b1_hmc_mean_0_combined_plot_tr.JPG\n"
     ]
    },
    {
     "data": {
      "image/png": "[encoded data removed]",
      "text/plain": [
       "<Figure size 1008x720 with 4 Axes>"
      ]
     },
     "metadata": {
      "needs_background": "light"
     },
     "output_type": "display_data"
    },
    {
     "name": "stdout",
     "output_type": "stream",
     "text": [
      "plot:  C:\\Users\\robot\\projects\\biomass\\model\\GBR_dp1_dbi_si_dry_mask_density_sddv3_mean\\plots\\GBR_dp1_dbi_si_dry_mask_density_sddv3_mean_GBR_b1_hcv_mean_0_combined_plot_tr.JPG\n"
     ]
    }
   ],
   "source": [
    "df = df_ml\n",
    "\n",
    "def plot_with_mean_median(df, columns):\n",
    "    for col in columns:\n",
    "        plt.figure(figsize=(14, 10))\n",
    "\n",
    "        # Top-left plot: Distribution with mean and median\n",
    "        plt.subplot(2, 2, 1)\n",
    "        sns.histplot(df[col], kde=True, color='blue', bins=30)\n",
    "        \n",
    "        # Calculate mean and median\n",
    "        mean = df[col].mean()\n",
    "        median = df[col].median()\n",
    "        \n",
    "        # Plot mean and median as dashed lines\n",
    "        plt.axvline(mean, color='red', linestyle='dashed', linewidth=2, label=f'Mean: {mean:.2f}')\n",
    "        plt.axvline(median, color='green', linestyle='dashed', linewidth=2, label=f'Median: {median:.2f}')\n",
    "        \n",
    "        plt.title(f'Distribution of {col}', fontsize=16)\n",
    "        plt.xlabel(col, fontsize=14)\n",
    "        plt.ylabel('Frequency', fontsize=14)\n",
    "        plt.legend(fontsize=12)\n",
    "        \n",
    "        # Top-right plot: Regression plot\n",
    "        value_x = 'target'\n",
    "        C_value_x = \"Target\"\n",
    "        value_y_loop = col\n",
    "\n",
    "        plt.subplot(2, 2, 2)\n",
    "        sns.regplot(data=df_ml, x=value_x, y=value_y_loop, line_kws={\"color\": \"red\"}, scatter_kws={'s': 50, 'alpha': 0.5, 'color': 'blue'})\n",
    "        plt.xlabel(C_value_x, fontsize=14)\n",
    "        plt.ylabel(value_y_loop, fontsize=14)\n",
    "        plt.title(f\"Regression of {C_value_x} vs. {value_y_loop}\", fontsize=16)\n",
    "\n",
    "        slope, intercept, r_value, p_value, std_err = scipy.stats.linregress(df_ml[value_x], df_ml[value_y_loop])\n",
    "\n",
    "        # Annotate the stats\n",
    "        plt.text(0.95, 0.95, f'slope: {slope:.2f}\\nintercept: {intercept:.2f}\\nr2: {r_value:.2f}\\np-value: {p_value:.2f}\\nstd err: {std_err:.2f}',\n",
    "                 transform=plt.gca().transAxes, verticalalignment='top', horizontalalignment='right', fontsize=12)\n",
    "\n",
    "        # Bottom-left plot: Residuals plot\n",
    "        plt.subplot(2, 2, 3)\n",
    "        sns.regplot(data=df_ml, x=value_x, y=value_y_loop, lowess=True, line_kws={\"color\": \"green\"}, scatter_kws={'s': 50, 'alpha': 0.5, 'color': 'blue'})\n",
    "        plt.xlabel(C_value_x, fontsize=14)\n",
    "        plt.ylabel(\"Error\", fontsize=14)\n",
    "        plt.title(f\"Residuals of Regression: {C_value_x} vs. {value_y_loop}\", fontsize=16)\n",
    "\n",
    "        residuals = df_ml[value_y_loop] - (slope * df_ml[value_x] + intercept)\n",
    "\n",
    "        # Compute additional residual statistics\n",
    "        mean_res = np.mean(residuals)\n",
    "        std_res = np.std(residuals)\n",
    "        rmse_res = np.sqrt(np.mean(residuals**2))\n",
    "        mae_res = np.mean(np.abs(residuals))\n",
    "        r2_res = scipy.stats.linregress(df_ml[value_x], residuals)[2]**2\n",
    "\n",
    "        # Annotate the residual stats\n",
    "        plt.text(0.95, 0.95, f'Mean: {mean_res:.2f}\\nStd: {std_res:.2f}\\nRMSE: {rmse_res:.2f}\\nMAE: {mae_res:.2f}\\nr2: {r2_res:.2f}',\n",
    "                 transform=plt.gca().transAxes, verticalalignment='top', horizontalalignment='right', fontsize=12)\n",
    "\n",
    "        # Bottom-right plot: Q-Q plot\n",
    "        plt.subplot(2, 2, 4)\n",
    "        scipy.stats.probplot(residuals, dist=\"norm\", plot=plt)\n",
    "        plt.title(f\"Q-Q Plot of Residuals: {C_value_x} vs. {value_y_loop}\", fontsize=16)\n",
    "        \n",
    "        # Increase font size for Q-Q plot\n",
    "        plt.xlabel('Theoretical Quantiles', fontsize=14)\n",
    "        plt.ylabel('Sample Quantiles', fontsize=14)\n",
    "        plt.tick_params(axis='both', which='major', labelsize=12)\n",
    "\n",
    "        plt.tight_layout()\n",
    "\n",
    "        # Save the plot\n",
    "        plt_out = os.path.join(output, \"plots\", f\"{var_}_{mdl}_{value_y_loop}_{rs}_combined_plot_tr.JPG\")\n",
    "        plt.savefig(plt_out, dpi=300)\n",
    "        plt.show()\n",
    "        print(\"plot: \", plt_out)\n",
    "        plt.close()\n",
    "\n",
    "# Assuming df_ml.columns[1:] contains the columns to be plotted\n",
    "plot_with_mean_median(df, df_ml.columns[1:])\n",
    "\n",
    "plt.close('all')"
   ]
  },
  {
   "cell_type": "code",
   "execution_count": null,
   "metadata": {
    "ExecuteTime": {
     "end_time": "2024-08-02T06:28:17.129358Z",
     "start_time": "2024-08-02T06:27:43.512694Z"
    }
   },
   "outputs": [],
   "source": [
    "df = df_ml\n",
    "\n",
    "def plot_with_mean_median(df, columns):\n",
    "    for col in columns:\n",
    "        plt.figure(figsize=(14, 10))\n",
    "\n",
    "        # Top-left plot: Distribution with mean and median\n",
    "        plt.subplot(2, 2, 1)\n",
    "        sns.histplot(df[col], kde=True, color='blue', bins=30)\n",
    "        \n",
    "        # Calculate mean and median\n",
    "        mean = df[col].mean()\n",
    "        median = df[col].median()\n",
    "        \n",
    "        # Plot mean and median as dashed lines\n",
    "        plt.axvline(mean, color='red', linestyle='dashed', linewidth=2, label=f'Mean: {mean:.2f}')\n",
    "        plt.axvline(median, color='green', linestyle='dashed', linewidth=2, label=f'Median: {median:.2f}')\n",
    "        \n",
    "        plt.title(f'Distribution of {col}', fontsize=16)\n",
    "        plt.xlabel(col, fontsize=14)\n",
    "        plt.ylabel('Frequency', fontsize=14)\n",
    "        plt.legend(fontsize=12)\n",
    "        \n",
    "        # Top-right plot: Regression plot\n",
    "        value_x = 'target'\n",
    "        C_value_x = 'Target'\n",
    "        value_y_loop = col\n",
    "\n",
    "        plt.subplot(2, 2, 2)\n",
    "        sns.regplot(data=df_ml, x=value_x, y=value_y_loop, line_kws={\"color\": \"red\"}, scatter_kws={'s': 50, 'alpha': 0.5, 'color': 'blue'})\n",
    "        plt.xlabel(C_value_x, fontsize=14)\n",
    "        plt.ylabel(value_y_loop, fontsize=14)\n",
    "        plt.title(f\"Regression of {C_value_x} vs. {value_y_loop}\", fontsize=16)\n",
    "\n",
    "        slope, intercept, r_value, p_value, std_err = scipy.stats.linregress(df_ml[value_x], df_ml[value_y_loop])\n",
    "\n",
    "        # Annotate the stats\n",
    "        plt.text(0.95, 0.05, f'slope: {slope:.2f}\\nintercept: {intercept:.2f}\\nr2: {r_value:.2f}\\np-value: {p_value:.2f}\\nstd err: {std_err:.2f}',\n",
    "                 transform=plt.gca().transAxes, verticalalignment='bottom', horizontalalignment='right', fontsize=12)\n",
    "\n",
    "        # Bottom-left plot: Residuals plot\n",
    "        plt.subplot(2, 2, 3)\n",
    "        sns.regplot(data=df_ml, x=value_x, y=value_y_loop, lowess=True, line_kws={\"color\": \"green\"}, scatter_kws={'s': 50, 'alpha': 0.5, 'color': 'blue'})\n",
    "        plt.xlabel(C_value_x, fontsize=14)\n",
    "        plt.ylabel(\"Error\", fontsize=14)\n",
    "        plt.title(f\"Residuals of Regression: {C_value_x} vs. {value_y_loop}\", fontsize=16)\n",
    "\n",
    "        residuals = df_ml[value_y_loop] - (slope * df_ml[value_x] + intercept)\n",
    "\n",
    "        # Compute additional residual statistics\n",
    "        mean_res = np.mean(residuals)\n",
    "        std_res = np.std(residuals)\n",
    "        rmse_res = np.sqrt(np.mean(residuals**2))\n",
    "        mae_res = np.mean(np.abs(residuals))\n",
    "        r2_res = scipy.stats.linregress(df_ml[value_x], residuals)[2]**2\n",
    "\n",
    "        # Annotate the residual stats\n",
    "        plt.text(0.95, 0.05, f'Mean: {mean_res:.2f}\\nStd: {std_res:.2f}\\nRMSE: {rmse_res:.2f}\\nMAE: {mae_res:.2f}\\nr2: {r2_res:.2f}',\n",
    "                 transform=plt.gca().transAxes, verticalalignment='bottom', horizontalalignment='right', fontsize=12)\n",
    "\n",
    "        # Bottom-right plot: Q-Q plot\n",
    "        plt.subplot(2, 2, 4)\n",
    "        scipy.stats.probplot(residuals, dist=\"norm\", plot=plt)\n",
    "        plt.title(f\"Q-Q Plot of Residuals: {C_value_x} vs. {value_y_loop}\", fontsize=16)\n",
    "        \n",
    "        # Increase font size for Q-Q plot\n",
    "        plt.xlabel('Theoretical Quantiles', fontsize=14)\n",
    "        plt.ylabel('Sample Quantiles', fontsize=14)\n",
    "        plt.tick_params(axis='both', which='major', labelsize=12)\n",
    "\n",
    "        plt.tight_layout()\n",
    "\n",
    "        # Save the plot\n",
    "        plt_out = os.path.join(output, \"plots\", f\"{var_}_{mdl}_{value_y_loop}_{rs}_combined_plot_br.JPG\")\n",
    "        plt.savefig(plt_out, dpi=300)\n",
    "        #plt.show()\n",
    "        print(\"plot: \", plt_out)\n",
    "        plt.close()\n",
    "\n",
    "# Assuming df_ml.columns[1:] contains the columns to be plotted\n",
    "plot_with_mean_median(df, df_ml.columns[1:])\n",
    "\n",
    "plt.close('all')"
   ]
  },
  {
   "cell_type": "markdown",
   "metadata": {},
   "source": [
    "a# Model"
   ]
  },
  {
   "cell_type": "markdown",
   "metadata": {},
   "source": [
    "### Split off validation test and train data"
   ]
  },
  {
   "cell_type": "code",
   "execution_count": null,
   "metadata": {
    "ExecuteTime": {
     "end_time": "2024-08-02T06:28:17.145079Z",
     "start_time": "2024-08-02T06:28:17.130283Z"
    }
   },
   "outputs": [],
   "source": [
    "value_x = \"target\""
   ]
  },
  {
   "cell_type": "code",
   "execution_count": null,
   "metadata": {
    "ExecuteTime": {
     "end_time": "2024-08-02T06:28:17.160999Z",
     "start_time": "2024-08-02T06:28:17.146001Z"
    }
   },
   "outputs": [],
   "source": [
    "#select random state\n",
    "#rs = 0\n",
    "\n",
    "# randomly split data into train and test datasets, the user needs to define the variables \n",
    "xdata1 = df_ml.iloc[:, 1:].astype('float32')\n",
    "ydata1 = df_ml[[value_x]].astype('float32')\n",
    "ydata2 = ydata1.values\n",
    "ydata = ydata2.ravel()\n",
    "#y_data_float=ydata.astype(\"float32\")\n",
    "x_validation, x_remaining, y_validation, y_remaining = train_test_split(xdata1, ydata, train_size=0.20, random_state=rs)\n",
    "x_train, x_test, y_train, y_test = train_test_split(x_remaining, y_remaining, train_size=0.70, random_state=rs)  \n",
    "print(x_validation.shape, y_validation.shape)\n",
    "print(\"remaining.....\")\n",
    "print(x_remaining.shape, y_remaining.shape)\n",
    "print(\"-\"*50)\n",
    "print(x_train.shape, y_train.shape)\n",
    "print(x_test.shape, y_test.shape)"
   ]
  },
  {
   "cell_type": "markdown",
   "metadata": {},
   "source": [
    "### Plot up Histograms for train and test datasets"
   ]
  },
  {
   "cell_type": "code",
   "execution_count": null,
   "metadata": {
    "ExecuteTime": {
     "end_time": "2024-08-02T06:28:17.740462Z",
     "start_time": "2024-08-02T06:28:17.162024Z"
    }
   },
   "outputs": [],
   "source": [
    "import numpy as np\n",
    "# output = '.'  # Replace with your actual output directory\n",
    "# var_ = 'example_var'\n",
    "# mdl = 'example_model'\n",
    "# rs = 'example_run'\n",
    "\n",
    "# Create subplots: 1 row, 3 columns\n",
    "fig, axs = plt.subplots(1, 3, figsize=(18, 6))  # Adjust figsize as needed\n",
    "\n",
    "# Define the data and titles for each subplot\n",
    "data = [y_train, y_test, y_validation]\n",
    "titles = ['Training Data Distribution', 'Testing Data Distribution', 'Validation Data Distribution']\n",
    "\n",
    "for i, (data_set, title) in enumerate(zip(data, titles)):\n",
    "    mean = np.mean(data_set)\n",
    "    median = np.median(data_set)\n",
    "    \n",
    "    # Plot histogram with seaborn\n",
    "    sns.histplot(data_set, kde=True, bins=20, ax=axs[i], color='blue', alpha=0.7)\n",
    "    \n",
    "    # Plot mean and median lines\n",
    "    axs[i].axvline(mean, color='red', linestyle='dashed', linewidth=2, label=f'Mean: {mean:.2f}')\n",
    "    axs[i].axvline(median, color='green', linestyle='dashed', linewidth=2, label=f'Median: {median:.2f}')\n",
    "    \n",
    "    axs[i].set_title(title, fontsize=16)\n",
    "    axs[i].set_xlabel('Target', fontsize=14)\n",
    "    axs[i].set_ylabel('Frequency', fontsize=14)\n",
    "    axs[i].legend(fontsize=12)\n",
    "\n",
    "# Adjust layout\n",
    "plt.tight_layout()\n",
    "\n",
    "# Save the figure\n",
    "out = os.path.join(output, \"plots\", f\"{var_}_{mdl}_{rs}_train_test_validation_distribution.JPG\")\n",
    "plt.savefig(out, dpi=300)\n",
    "plt.show()\n",
    "\n",
    "print(\"saved to: \", out)"
   ]
  },
  {
   "cell_type": "markdown",
   "metadata": {},
   "source": [
    "### Parameterise algorithm"
   ]
  },
  {
   "cell_type": "code",
   "execution_count": null,
   "metadata": {},
   "outputs": [],
   "source": [
    "from sklearn.neighbors import KNeighborsRegressor\n",
    "from sklearn.metrics import make_scorer, mean_squared_error, mean_absolute_error, r2_score\n",
    "from sklearn.model_selection import GridSearchCV\n",
    "import numpy as np\n",
    "\n",
    "if mdl == \"RFR\":\n",
    "    from sklearn.ensemble import RandomForestRegressor as rfr\n",
    "\n",
    "    # Define model\n",
    "    model = rfr()\n",
    "    \n",
    "    # Define parameter grid\n",
    "    param_grid = {\n",
    "        'n_estimators': [50, 100, 150, 200, 300],\n",
    "        'max_depth': [None, 2, 3, 4, 5, 10, 20],\n",
    "        'max_features': ['auto', 'sqrt'],\n",
    "        'bootstrap': [True, False]\n",
    "    }\n",
    "\n",
    "elif mdl == \"GBR\":\n",
    "    from sklearn.ensemble import GradientBoostingRegressor as gbr\n",
    "\n",
    "    # Define model\n",
    "    model = gbr()\n",
    "\n",
    "    # Define parameter grid\n",
    "    param_grid = {\n",
    "        'n_estimators': [50, 100, 150, 200, 300],\n",
    "        'learning_rate': [0.01, 0.1, 1.0],\n",
    "        'max_depth': [3, 5, 7],\n",
    "    }\n",
    "\n",
    "elif mdl == \"ABR\":\n",
    "    from sklearn.ensemble import AdaBoostRegressor as abr\n",
    "\n",
    "    # Define model\n",
    "    model = abr()\n",
    "\n",
    "    # Define parameter grid\n",
    "    param_grid = {\n",
    "        'n_estimators': [50, 100, 150, 200, 300],\n",
    "        'learning_rate': [0.01, 0.1, 1.0],\n",
    "    }\n",
    "\n",
    "elif mdl == \"XGBR\":\n",
    "    from xgboost import XGBRegressor as xgboost\n",
    "\n",
    "    # Define model\n",
    "    model = xgboost()\n",
    "\n",
    "    # Define parameter grid\n",
    "    param_grid = {\n",
    "        'n_estimators': [50, 100, 150, 200, 300],\n",
    "        'learning_rate': [0.01, 0.1, 0.3],\n",
    "        'max_depth': [3, 5, 7],\n",
    "        'subsample': [0.6, 0.8, 1.0],\n",
    "        'colsample_bytree': [0.6, 0.8, 1.0],\n",
    "    }\n",
    "\n",
    "elif mdl == \"KNN\":\n",
    "    from sklearn.neighbors import KNeighborsRegressor as knn\n",
    "\n",
    "    # Define model\n",
    "    model = knn()\n",
    "\n",
    "    # Define parameter grid\n",
    "    param_grid = {\n",
    "        'n_neighbors': [3, 5, 7, 10, 15],\n",
    "        'weights': ['uniform', 'distance'],\n",
    "        'p': [1, 2]  # p=1 is for Manhattan distance, p=2 is for Euclidean distance\n",
    "    }\n",
    "\n",
    "else:\n",
    "    print(\"ERROR__\" * 100)\n",
    "\n",
    "# Define custom scorers for RMSE, MAE, R2\n",
    "def custom_rmse_scorer(y_true, y_pred):\n",
    "    return -np.sqrt(mean_squared_error(y_true, y_pred))\n",
    "\n",
    "def custom_mae_scorer(y_true, y_pred):\n",
    "    return -mean_absolute_error(y_true, y_pred)\n",
    "\n",
    "def custom_r2_scorer(y_true, y_pred):\n",
    "    return r2_score(y_true, y_pred)\n",
    "\n",
    "r2_scorer = make_scorer(custom_r2_scorer)\n",
    "rmse_scorer = make_scorer(custom_rmse_scorer)\n",
    "mae_scorer = make_scorer(custom_mae_scorer)\n",
    "\n",
    "# Create GridSearchCV objects\n",
    "grid_search_rmse = GridSearchCV(model, param_grid, scoring=rmse_scorer, cv=5)\n",
    "grid_search_rmse.fit(x_train, y_train)\n",
    "\n",
    "# ----------------------------- RMSE ---------------------------------\n",
    "print(mdl)\n",
    "print(\"-\" * 100)\n",
    "print(\"RMSE Best Score: \", grid_search_rmse.best_score_)\n",
    "print(\"RMSE Best Parameters: \", grid_search_rmse.best_params_)\n",
    "\n",
    "grid_search_mae = GridSearchCV(model, param_grid, scoring=mae_scorer, cv=5)\n",
    "grid_search_mae.fit(x_train, y_train)\n",
    "\n",
    "# ----------------------------- MAE ---------------------------------\n",
    "print(\"MAE Best Score: \", grid_search_mae.best_score_)\n",
    "print(\"MAE Best Parameters: \", grid_search_mae.best_params_)\n",
    "\n",
    "grid_search_r2 = GridSearchCV(model, param_grid, scoring=r2_scorer, cv=5)\n",
    "grid_search_r2.fit(x_train, y_train)\n",
    "\n",
    "# ----------------------------- R2 ---------------------------------\n",
    "print(\"R2 Best Score: \", grid_search_r2.best_score_)\n",
    "print(\"R2 Best Parameters: \", grid_search_r2.best_params_)\n"
   ]
  },
  {
   "cell_type": "code",
   "execution_count": null,
   "metadata": {},
   "outputs": [],
   "source": [
    "# Get best RMSE parameters\n",
    "#best_params = grid_search_rmse.best_params_\n",
    "best_model = grid_search_rmse.best_estimator_\n",
    "fac = \"RMSE\"\n",
    "p_out = rmse_path\n",
    "print(\"RMSE Best Score: \", grid_search_rmse.best_score_)\n",
    "print(\"RMSE Best Parameters: \", grid_search_rmse.best_params_)\n",
    "print(best_model)"
   ]
  },
  {
   "cell_type": "code",
   "execution_count": null,
   "metadata": {
    "ExecuteTime": {
     "end_time": "2024-08-02T06:32:07.134084Z",
     "start_time": "2024-08-02T06:32:07.131083Z"
    }
   },
   "outputs": [],
   "source": [
    "# Get best MAE parameters\n",
    "#best_params = grid_search_rmse.best_params_\n",
    "best_model = grid_search_mae.best_estimator_\n",
    "fac = \"MAE\"\n",
    "p_out = mae_path\n",
    "print(\"MAE Best Score: \", grid_search_mae.best_score_)\n",
    "print(\"MAE Best Parameters: \", grid_search_mae.best_params_)\n",
    "print(best_model)"
   ]
  },
  {
   "cell_type": "code",
   "execution_count": null,
   "metadata": {},
   "outputs": [],
   "source": [
    "# Get best r2 parameters\n",
    "#best_params = grid_search_r2.best_params_\n",
    "best_model = grid_search_r2.best_estimator_\n",
    "fac = \"r2\"\n",
    "p_out = r2_path\n",
    "print(\"r2 Best Score: \", grid_search_r2.best_score_)\n",
    "print(\"r2Best Parameters: \", grid_search_r2.best_params_)\n",
    "print(best_model)"
   ]
  },
  {
   "cell_type": "code",
   "execution_count": null,
   "metadata": {},
   "outputs": [],
   "source": [
    "#default\n",
    "best_model = rfr()\n",
    "fac = \"DEF\"\n",
    "p_out = def_path"
   ]
  },
  {
   "cell_type": "markdown",
   "metadata": {},
   "source": [
    "### Enter manualy when required"
   ]
  },
  {
   "cell_type": "code",
   "execution_count": null,
   "metadata": {},
   "outputs": [],
   "source": [
    "#Manual \n",
    "#best_model = rfr()"
   ]
  },
  {
   "cell_type": "markdown",
   "metadata": {},
   "source": [
    "### Fit regressor model and compute variable importance score \n",
    "\n",
    "may need to restrict the number of variables for the bar graph to be legible\n",
    "\n"
   ]
  },
  {
   "cell_type": "code",
   "execution_count": null,
   "metadata": {},
   "outputs": [],
   "source": [
    "#tree_model = best_model.fit(X_1, y_1)\n",
    "best_model.fit(x_train, y_train)"
   ]
  },
  {
   "cell_type": "markdown",
   "metadata": {},
   "source": [
    "##### good info on the feature importance score - http://stackoverflow.com/questions/15810339/how-are-feature-importances-in-randomforestclassifier-determined"
   ]
  },
  {
   "cell_type": "code",
   "execution_count": null,
   "metadata": {},
   "outputs": [],
   "source": [
    "from sklearn.inspection import permutation_importance\n",
    "import os\n",
    "import numpy as np\n",
    "import pandas as pd\n",
    "import matplotlib.pyplot as plt\n",
    "import textwrap\n",
    "from sklearn.metrics import mean_absolute_error\n",
    "\n",
    "# Calculate feature importance for tree-based models\n",
    "def tree_based_feature_importance(model, x_train, cols):\n",
    "    fi = enumerate(model.feature_importances_)\n",
    "    fiResult = [(value, cols[i]) for (i, value) in fi]\n",
    "    return fiResult\n",
    "\n",
    "# Calculate permutation importance\n",
    "def permutation_feature_importance(model, x_train, y_train, cols):\n",
    "    result = permutation_importance(model, x_train, y_train, n_repeats=10, random_state=42)\n",
    "    fiResult = [(importance, cols[i]) for i, importance in enumerate(result.importances_mean)]\n",
    "    return fiResult\n",
    "\n",
    "# Plot feature importance\n",
    "def plot_feature_importance(fiResult, model_name, var_, fac, mdl, output):\n",
    "    df_band = pd.DataFrame(fiResult, columns=['importance', 'feature'])\n",
    "    df_band['importance'] = df_band['importance'].astype(float)\n",
    "    dfsort = df_band.sort_values(['importance'], ascending=[False]).head(20)  # Select top 20 features\n",
    "\n",
    "    ind = np.arange(len(dfsort))\n",
    "    width = 0.4\n",
    "\n",
    "    # Increase figure size\n",
    "    fig, ax = plt.subplots(figsize=(12, 8))\n",
    "\n",
    "    # Bar plot\n",
    "    ax.barh(ind, dfsort['importance'], width, color='blue')\n",
    "\n",
    "    # Adjust y-tick labels\n",
    "    wrapped_labels = [textwrap.fill(label, 20) for label in dfsort['feature']]\n",
    "    ax.set(yticks=ind, yticklabels=wrapped_labels, ylim=[-1, len(dfsort)])\n",
    "    ax.set_xlabel('Importance Score', fontsize=14)\n",
    "    ax.set_ylabel('Features', fontsize=14)\n",
    "    ax.set_title(f'Top 20 Feature Importance ({model_name})', fontsize=14)\n",
    "\n",
    "    # Reverse the order of y-axis to display highest to lowest\n",
    "    ax.invert_yaxis()\n",
    "\n",
    "    # Adjust layout\n",
    "    plt.tight_layout()\n",
    "\n",
    "    out = os.path.join(output, f\"{var_}_{fac}_{mdl}_Top20_Feature_Importance_Score.JPG\")\n",
    "    plt.savefig(out, dpi=300)  # dpi sets the resolution in dots per inch\n",
    "    plt.show()\n",
    "    print(out)\n",
    "\n",
    "    return dfsort\n",
    "\n",
    "# Feature importance\n",
    "cols = xdata1.columns\n",
    "\n",
    "if mdl in [\"rfr\", \"abr\", \"gbr\", \"xgboost\"]:\n",
    "    fiResult = tree_based_feature_importance(best_model, x_train, cols)\n",
    "else:\n",
    "    fiResult = permutation_feature_importance(best_model, x_train, y_train, cols)\n",
    "\n",
    "# Plot feature importance\n",
    "dfsort = plot_feature_importance(fiResult, mdl, var_, fac, mdl, p_out)\n",
    "\n",
    "# Generate scatter plot for model predictions\n",
    "plt.figure(figsize=(10, 6))\n",
    "y_pred = best_model.predict(x_train)\n",
    "\n",
    "r2 = round(best_model.score(x_train, y_train), 2)\n",
    "mse = round(np.mean((y_train - y_pred) ** 2), 2)\n",
    "rmse = round(np.sqrt(mse), 2)\n",
    "mae = round(mean_absolute_error(y_train, y_pred), 2)\n",
    "bias = round(np.mean(y_train) - np.mean(y_pred), 2)\n",
    "\n",
    "plt.scatter(y_pred, y_train, s=70, alpha=0.5, color='blue', edgecolors='w')\n",
    "\n",
    "# Data for the 1 for 1 line\n",
    "x = [-500, 40000]\n",
    "y = [-500, 40000]\n",
    "\n",
    "# Set the limits of the axis\n",
    "plt.xlim(-500, 40000)\n",
    "plt.ylim(-500, 40000)\n",
    "\n",
    "plt.plot(x, y, color='red')\n",
    "\n",
    "# Add labels and title\n",
    "plt.ylabel('Observed Target', fontsize=14)\n",
    "plt.xlabel('Predicted Target', fontsize=14)\n",
    "plt.title(f'Data Used in {mdl} Training', fontsize=16)\n",
    "\n",
    "# Annotate the stats in the top left corner\n",
    "plt.text(0.05, 0.95, f'r2: {r2:.2f}\\nMSE: {mse:.2f}\\nRMSE: {rmse:.2f}\\nMAE: {mae:.2f}\\nBias: {bias:.2f}\\nn: {len(y_train)}',\n",
    "         transform=plt.gca().transAxes, verticalalignment='top', horizontalalignment='left', fontsize=12)\n",
    "\n",
    "out = os.path.join(p_out, f\"{var_}_{mdl}_{fac}_train.JPG\")\n",
    "plt.savefig(out, dpi=300)  # dpi sets the resolution in dots per inch\n",
    "plt.show()\n",
    "\n",
    "print(\"saved to: \", out)\n",
    "print(\"-\" * 30)\n",
    "print(f\"\\t - r2: {r2}\")\n",
    "print(f\"\\t - mse: {mse}\")\n",
    "print(f\"\\t - rmse: {rmse}\")\n",
    "print(f\"\\t - mae: {mae}\")\n",
    "print(f\"\\t - bias: {bias}\")\n",
    "print(f\"\\t - n: {len(y_train)}\")\n",
    "\n",
    "# Example metrics\n",
    "metrics_dict = {\n",
    "    'r2': r2,\n",
    "    'mse': mse,\n",
    "    'rmse': rmse,\n",
    "    'mae': mae,\n",
    "    'bias': bias,\n",
    "    'n': len(y_train)\n",
    "}\n",
    "\n",
    "# Adding the site as a key-value pair\n",
    "metrics_dict['mdl'] = mdl\n",
    "metrics_dict['status'] = \"train\"\n",
    "metrics_dict['var'] = var_\n",
    "metrics_dict['fac'] = fac\n",
    "metrics_dict['features'] = list(x_train)\n",
    "metrics_dict['model'] = best_model\n",
    "\n",
    "# Creating a DataFrame from the dictionary\n",
    "train_metrics_df = pd.DataFrame([metrics_dict])\n",
    "\n",
    "out_metrics = os.path.join(p_out, f\"{var_}_{mdl}_{fac}_train_metrics.csv\")\n",
    "train_metrics_df.to_csv(out_metrics, index=False)"
   ]
  },
  {
   "cell_type": "code",
   "execution_count": null,
   "metadata": {},
   "outputs": [],
   "source": [
    "train_metrics_df"
   ]
  },
  {
   "cell_type": "code",
   "execution_count": null,
   "metadata": {
    "ExecuteTime": {
     "end_time": "2024-08-02T06:32:15.914694Z",
     "start_time": "2024-08-02T06:32:15.652720Z"
    }
   },
   "outputs": [],
   "source": [
    "from sklearn.metrics import explained_variance_score, mean_absolute_error\n",
    "import os\n",
    "\n",
    "# Evaluate and plot for the best model\n",
    "plt.figure(figsize=(10, 6))\n",
    "\n",
    "# Use the best estimator from the grid search\n",
    "#best_model = grid_search_r2.best_estimator_\n",
    "\n",
    "# Make predictions\n",
    "y2_predict = best_model.predict(x_test)\n",
    "\n",
    "# Calculate metrics\n",
    "r2 = round(best_model.score(x_test, y_test), 2)\n",
    "mse = round(np.mean((y_test - y2_predict) ** 2), 2)\n",
    "rmse = round(np.sqrt(mse), 2)\n",
    "mae = round(mean_absolute_error(y_test, y2_predict), 2)\n",
    "bias = round(np.mean(y_test) - np.mean(y2_predict), 2)\n",
    "var = round(explained_variance_score(y_test, y2_predict), 2)\n",
    "\n",
    "# Generate scatter plot\n",
    "plt.scatter(y2_predict, y_test, s=70, alpha=0.5, color='blue', edgecolors='w')\n",
    "\n",
    "# Data for the 1 for 1 line\n",
    "x = [-500, 40000]\n",
    "y = [-500, 40000]\n",
    "\n",
    "# Set limits of the axis\n",
    "plt.xlim(-500, 40000)\n",
    "plt.ylim(-500, 40000)\n",
    "plt.plot(x, y, color='red')\n",
    "\n",
    "# Add labels and title\n",
    "plt.ylabel('Observed Target', fontsize=14)\n",
    "plt.xlabel('Predicted Target', fontsize=14)\n",
    "plt.title(f'Data Used in {mdl} Testing', fontsize=16)\n",
    "\n",
    "# Annotate the stats in the top left corner\n",
    "plt.text(0.05, 0.95, f'r2: {r2:.2f}\\nMSE: {mse:.2f}\\nRMSE: {rmse:.2f}\\nMAE: {mae:.2f}\\nBias: {bias:.2f}\\nn: {len(y_test)}',\n",
    "         transform=plt.gca().transAxes, verticalalignment='top', horizontalalignment='left', fontsize=12)\n",
    "\n",
    "# Save the plot\n",
    "out_plot = os.path.join(p_out, f\"{var_}_{mdl}_{fac}_test_data.JPG\")\n",
    "plt.savefig(out_plot, dpi=300)\n",
    "plt.show()\n",
    "\n",
    "print(\"Plot: \", out_plot)\n",
    "print(\"-\" * 30)\n",
    "print(f\"\\t - r2: {r2}\")\n",
    "print(f\"\\t - mse: {mse}\")\n",
    "print(f\"\\t - rmse: {rmse}\")\n",
    "print(f\"\\t - mae: {mae}\")\n",
    "print(f\"\\t - bias: {bias}\")\n",
    "print(f\"\\t - n: {len(y_test)}\")\n",
    "\n",
    "\n",
    "# Example metrics\n",
    "metrics_dict = {\n",
    "    'r2': r2,\n",
    "    'mse': mse,\n",
    "    'rmse': rmse,\n",
    "    'mae': mae,\n",
    "    'bias': bias,\n",
    "    'n': len(y_test)\n",
    "}\n",
    "\n",
    "# Adding the site as a key-value pair\n",
    "metrics_dict['mdl'] = mdl\n",
    "metrics_dict['status'] = \"test\"\n",
    "metrics_dict['var'] = var_\n",
    "metrics_dict['fac'] = fac\n",
    "metrics_dict['features'] = list(x_test)\n",
    "metrics_dict['model'] = best_model\n",
    "\n",
    "# Creating a DataFrame from the dictionary\n",
    "test_metrics_df = pd.DataFrame([metrics_dict])\n",
    "\n",
    "out_metrics = os.path.join(p_out, f\"{var_}_{mdl}_{fac}_test_metrics.csv\")\n",
    "test_metrics_df.to_csv(out_metrics, index=False)\n",
    "\n"
   ]
  },
  {
   "cell_type": "code",
   "execution_count": null,
   "metadata": {},
   "outputs": [],
   "source": [
    "test_metrics_df"
   ]
  },
  {
   "cell_type": "code",
   "execution_count": null,
   "metadata": {},
   "outputs": [],
   "source": [
    "out_dfsort = dfsort.copy()\n",
    "dfsort_copy = dfsort.copy()\n",
    "#dfsort = orig_dfsort\n",
    "#dfsort.shape"
   ]
  },
  {
   "cell_type": "code",
   "execution_count": null,
   "metadata": {},
   "outputs": [],
   "source": [
    "out_df_sort"
   ]
  },
  {
   "cell_type": "code",
   "execution_count": null,
   "metadata": {},
   "outputs": [],
   "source": [
    "out_dfsort.shape"
   ]
  },
  {
   "cell_type": "code",
   "execution_count": null,
   "metadata": {},
   "outputs": [],
   "source": [
    "# out_dfsort[\"var\"] = var_\n",
    "# out_dfsort[\"mdl\"] = mdl\n",
    "# out_dfsort[\"fac\"] = fac\n",
    "# #out_dfsort[\"model\"] = best_model\n",
    "# out_dfsort[\"sel_num\"] = 20"
   ]
  },
  {
   "cell_type": "code",
   "execution_count": null,
   "metadata": {},
   "outputs": [],
   "source": [
    "dfsort"
   ]
  },
  {
   "cell_type": "markdown",
   "metadata": {},
   "source": [
    "### Predict the selected model on the test data"
   ]
  },
  {
   "cell_type": "code",
   "execution_count": null,
   "metadata": {
    "ExecuteTime": {
     "end_time": "2024-08-02T06:32:27.649271Z",
     "start_time": "2024-08-02T06:32:27.634141Z"
    }
   },
   "outputs": [],
   "source": [
    "#Plot has value at the top with very small n value\n",
    "\n",
    "sel_num = 20\n",
    "df_var = dfsort.head(sel_num).copy()\n",
    "sel_out_dfsort = out_dfsort.head(sel_num).copy()"
   ]
  },
  {
   "cell_type": "code",
   "execution_count": null,
   "metadata": {
    "ExecuteTime": {
     "end_time": "2024-08-02T06:32:28.887837Z",
     "start_time": "2024-08-02T06:32:28.878561Z"
    }
   },
   "outputs": [],
   "source": [
    "#df_var = dfsort[dfsort['n'] > 0.01]"
   ]
  },
  {
   "cell_type": "code",
   "execution_count": null,
   "metadata": {},
   "outputs": [],
   "source": [
    "\n",
    "sel_out_dfsort[\"var\"] = var_\n",
    "sel_out_dfsort[\"mdl\"] = mdl\n",
    "sel_out_dfsort[\"fac\"] = fac\n",
    "sel_out_dfsort[\"sel_num\"] = sel_num\n",
    "\n"
   ]
  },
  {
   "cell_type": "code",
   "execution_count": null,
   "metadata": {
    "ExecuteTime": {
     "end_time": "2024-08-02T06:32:29.361212Z",
     "start_time": "2024-08-02T06:32:29.345930Z"
    }
   },
   "outputs": [],
   "source": [
    "df_var"
   ]
  },
  {
   "cell_type": "code",
   "execution_count": null,
   "metadata": {
    "ExecuteTime": {
     "end_time": "2024-08-02T06:32:29.471734Z",
     "start_time": "2024-08-02T06:32:29.457735Z"
    }
   },
   "outputs": [],
   "source": [
    "column_var = df_var.feature.tolist()"
   ]
  },
  {
   "cell_type": "code",
   "execution_count": null,
   "metadata": {
    "ExecuteTime": {
     "end_time": "2024-08-02T06:32:29.816964Z",
     "start_time": "2024-08-02T06:32:29.802726Z"
    }
   },
   "outputs": [],
   "source": [
    "#column_var.insert(0, 'target')"
   ]
  },
  {
   "cell_type": "code",
   "execution_count": null,
   "metadata": {
    "ExecuteTime": {
     "end_time": "2024-08-02T06:32:30.855285Z",
     "start_time": "2024-08-02T06:32:30.842125Z"
    }
   },
   "outputs": [],
   "source": [
    "column_var"
   ]
  },
  {
   "cell_type": "code",
   "execution_count": null,
   "metadata": {
    "ExecuteTime": {
     "end_time": "2024-08-02T06:32:30.870292Z",
     "start_time": "2024-08-02T06:32:30.857284Z"
    }
   },
   "outputs": [],
   "source": [
    "df_ml"
   ]
  },
  {
   "cell_type": "code",
   "execution_count": null,
   "metadata": {
    "ExecuteTime": {
     "end_time": "2024-08-02T06:32:31.196291Z",
     "start_time": "2024-08-02T06:32:31.188286Z"
    }
   },
   "outputs": [],
   "source": [
    "select_df = df_ml[column_var]"
   ]
  },
  {
   "cell_type": "code",
   "execution_count": null,
   "metadata": {
    "ExecuteTime": {
     "end_time": "2024-08-02T06:32:31.558592Z",
     "start_time": "2024-08-02T06:32:31.545593Z"
    }
   },
   "outputs": [],
   "source": [
    "df_corr = select_df.corr()\n",
    "df_corr"
   ]
  },
  {
   "cell_type": "code",
   "execution_count": null,
   "metadata": {
    "ExecuteTime": {
     "end_time": "2024-08-02T06:32:31.920160Z",
     "start_time": "2024-08-02T06:32:31.906154Z"
    }
   },
   "outputs": [],
   "source": [
    "#dfsort.to_csv(os.path.join(p_out, \"{0}_{1}_{2}_sel_{3}_variable_score.csv\".format(var_, fac, mdl, sel_num)))\n",
    "sel_out_dfsort.to_csv(os.path.join(p_out, \"{0}_{1}_{2}_sel_{3}_variable_score.csv\".format(var_, fac, mdl, sel_num)))\n",
    "df_corr.to_csv(os.path.join(p_out, \"{0}_{1}_{2}_sel_{3}_variable_correlation.csv\".format(var_, fac, mdl, sel_num)))"
   ]
  },
  {
   "cell_type": "code",
   "execution_count": null,
   "metadata": {
    "ExecuteTime": {
     "end_time": "2024-08-02T06:32:34.239741Z",
     "start_time": "2024-08-02T06:32:32.873243Z"
    }
   },
   "outputs": [],
   "source": [
    "# Create heatmap\n",
    "plt.figure(figsize=(12, 12))\n",
    "sns.heatmap(df_corr, annot=True, cmap='coolwarm', fmt=\".2f\")\n",
    "plt.title('Correlation Heatmap')\n",
    "\n",
    "# Save the plot\n",
    "plot_out = os.path.join(p_out, \"{0}_{1}_{2}_sel_{3}_variable_score.JPG\".format(var_, fac, mdl, sel_num))\n",
    "plt.savefig(plot_out, dpi=300)  # dpi sets the resolution in dots per inch\n",
    "plt.show()\n",
    "print(\"Plot: \", plot_out)"
   ]
  },
  {
   "cell_type": "code",
   "execution_count": null,
   "metadata": {
    "ExecuteTime": {
     "end_time": "2024-08-02T06:32:35.087206Z",
     "start_time": "2024-08-02T06:32:35.068205Z"
    }
   },
   "outputs": [],
   "source": [
    "select_df"
   ]
  },
  {
   "cell_type": "code",
   "execution_count": null,
   "metadata": {},
   "outputs": [],
   "source": []
  },
  {
   "cell_type": "code",
   "execution_count": null,
   "metadata": {},
   "outputs": [],
   "source": []
  },
  {
   "cell_type": "code",
   "execution_count": null,
   "metadata": {},
   "outputs": [],
   "source": []
  },
  {
   "cell_type": "markdown",
   "metadata": {},
   "source": [
    "# Rerun on Selected data"
   ]
  },
  {
   "cell_type": "code",
   "execution_count": null,
   "metadata": {
    "ExecuteTime": {
     "end_time": "2024-08-02T06:32:35.577680Z",
     "start_time": "2024-08-02T06:32:35.561494Z"
    }
   },
   "outputs": [],
   "source": [
    "#x_train, x_test, y_train, y_test, x_validation, y_validation"
   ]
  },
  {
   "cell_type": "code",
   "execution_count": null,
   "metadata": {
    "ExecuteTime": {
     "end_time": "2024-08-02T06:32:36.017364Z",
     "start_time": "2024-08-02T06:32:36.002353Z"
    }
   },
   "outputs": [],
   "source": [
    "sel_x_train = x_train[column_var]\n",
    "sel_x_test = x_test[column_var]\n",
    "sel_x_validation = x_validation[column_var]\n",
    "sel_y_train = y_train\n",
    "sel_y_test = y_test\n",
    "sel_y_validation = y_validation"
   ]
  },
  {
   "cell_type": "markdown",
   "metadata": {},
   "source": [
    "# Set model with feature names for Notebook testing"
   ]
  },
  {
   "cell_type": "code",
   "execution_count": null,
   "metadata": {
    "ExecuteTime": {
     "end_time": "2024-08-02T06:32:40.190913Z",
     "start_time": "2024-08-02T06:32:40.174913Z"
    }
   },
   "outputs": [],
   "source": [
    "select_model = best_model.fit(sel_x_train, sel_y_train)"
   ]
  },
  {
   "cell_type": "markdown",
   "metadata": {},
   "source": [
    "## Re-train model on selected paramiters"
   ]
  },
  {
   "cell_type": "code",
   "execution_count": null,
   "metadata": {},
   "outputs": [],
   "source": [
    "from sklearn.inspection import permutation_importance\n",
    "from sklearn.metrics import mean_absolute_error\n",
    "import os\n",
    "import numpy as np\n",
    "import pandas as pd\n",
    "import matplotlib.pyplot as plt\n",
    "import textwrap\n",
    "\n",
    "# Calculate feature importance for tree-based models\n",
    "def tree_based_feature_importance(model, x_train, cols):\n",
    "    fi = enumerate(model.feature_importances_)\n",
    "    fiResult = [(value, cols[i]) for (i, value) in fi]\n",
    "    return fiResult\n",
    "\n",
    "# Calculate permutation importance\n",
    "def permutation_feature_importance(model, x_train, y_train, cols):\n",
    "    result = permutation_importance(model, x_train, y_train, n_repeats=10, random_state=42)\n",
    "    fiResult = [(importance, cols[i]) for i, importance in enumerate(result.importances_mean)]\n",
    "    return fiResult\n",
    "\n",
    "# Plot feature importance\n",
    "def plot_feature_importance(fiResult, model_name, var_, fac, mdl, output):\n",
    "    df_band = pd.DataFrame(fiResult, columns=['importance', 'feature'])\n",
    "    df_band['importance'] = df_band['importance'].astype(float)\n",
    "    dfsort = df_band.sort_values(['importance'], ascending=[False]).head(20)  # Select top 20 features\n",
    "\n",
    "    ind = np.arange(len(dfsort))\n",
    "    width = 0.4\n",
    "\n",
    "    # Increase figure size\n",
    "    fig, ax = plt.subplots(figsize=(12, 8))\n",
    "\n",
    "    # Bar plot\n",
    "    ax.barh(ind, dfsort['importance'], width, color='blue')\n",
    "\n",
    "    # Adjust y-tick labels\n",
    "    wrapped_labels = [textwrap.fill(label, 16) for label in dfsort['feature']]\n",
    "    ax.set(yticks=ind, yticklabels=wrapped_labels, ylim=[-1, len(dfsort)])\n",
    "    ax.set_xlabel('Importance Score', fontsize=12)\n",
    "    ax.set_ylabel('Features', fontsize=12)\n",
    "    ax.set_title(f'Top {sel_num} Feature Importance ({mdl})', fontsize=14)\n",
    "\n",
    "    # Reverse the order of y-axis to display highest to lowest\n",
    "    ax.invert_yaxis()\n",
    "\n",
    "    # Adjust layout\n",
    "    plt.tight_layout()\n",
    "\n",
    "    out = os.path.join(p_out, f\"{var_}_{fac}_{mdl}_Top_{sel_num}_Feature_Importance_Score.JPG\")\n",
    "    plt.savefig(out, dpi=300)  # dpi sets the resolution in dots per inch\n",
    "    plt.show()\n",
    "    print(out)\n",
    "\n",
    "    return dfsort\n",
    "\n",
    "# Feature importance\n",
    "cols = xdata1.columns\n",
    "\n",
    "if isinstance(select_model, (rfr, abr, gbr)):\n",
    "    fiResult = tree_based_feature_importance(select_model, sel_x_train, cols)\n",
    "else:\n",
    "    fiResult = permutation_feature_importance(select_model, sel_x_train, sel_y_train, cols)\n",
    "\n",
    "# Plot feature importance\n",
    "dfsort = plot_feature_importance(fiResult, mdl, var_, fac, mdl, p_out)\n",
    "\n",
    "# Generate scatter plot for model predictions\n",
    "plt.figure(figsize=(10, 6))\n",
    "sel_y_pred = select_model.predict(sel_x_train)\n",
    "\n",
    "r2 = round(select_model.score(sel_x_train, sel_y_train), 2)\n",
    "mse = round(np.mean((sel_y_train - sel_y_pred) ** 2), 2)\n",
    "rmse = round(np.sqrt(mse), 2)\n",
    "mae = round(mean_absolute_error(sel_y_train, sel_y_pred), 2)\n",
    "bias = round(np.mean(sel_y_train) - np.mean(sel_y_pred), 2)\n",
    "\n",
    "plt.scatter(sel_y_pred, sel_y_train, s=70, alpha=0.5, color='blue', edgecolors='w')\n",
    "\n",
    "# Data for the 1 for 1 line\n",
    "x = [-500, 40000]\n",
    "y = [-500, 40000]\n",
    "\n",
    "# Set the limits of the axis\n",
    "plt.xlim(-500, 40000)\n",
    "plt.ylim(-500, 40000)\n",
    "\n",
    "plt.plot(x, y, color='red')\n",
    "\n",
    "# Add labels and title\n",
    "plt.ylabel('Observed Target', fontsize=14)\n",
    "plt.xlabel('Predicted Target', fontsize=14)\n",
    "plt.title(f'Data Used in {mdl} Training', fontsize=16)\n",
    "\n",
    "# Annotate the stats in the top left corner\n",
    "plt.text(0.05, 0.95, f'r2: {r2:.2f}\\nMSE: {mse:.2f}\\nRMSE: {rmse:.2f}\\nMAE: {mae:.2f}\\nBias: {bias:.2f}\\nn: {len(sel_y_train)}',\n",
    "         transform=plt.gca().transAxes, verticalalignment='top', horizontalalignment='left', fontsize=12)\n",
    "\n",
    "out = os.path.join(output, f\"{var_}_{mdl}_{fac}_top_{sel_num}_retrain.JPG\")\n",
    "plt.savefig(out, dpi=300)  # dpi sets the resolution in dots per inch\n",
    "plt.show()\n",
    "\n",
    "print(\"saved to: \", out)\n",
    "print(\"-\" * 30)\n",
    "print(f\"\\t - r2: {r2}\")\n",
    "print(f\"\\t - mse: {mse}\")\n",
    "print(f\"\\t - rmse: {rmse}\")\n",
    "print(f\"\\t - mae: {mae}\")\n",
    "print(f\"\\t - bias: {bias}\")\n",
    "print(f\"\\t - n: {len(sel_y_train)}\")\n",
    "\n",
    "\n",
    "# Example metrics\n",
    "metrics_dict = {\n",
    "    'r2': r2,\n",
    "    'mse': mse,\n",
    "    'rmse': rmse,\n",
    "    'mae': mae,\n",
    "    'bias': bias,\n",
    "    'n': len(sel_y_train)\n",
    "}\n",
    "\n",
    "# Adding the site as a key-value pair\n",
    "metrics_dict['mdl'] = mdl\n",
    "metrics_dict['status'] = \"retrain\"\n",
    "metrics_dict['var'] = var_\n",
    "metrics_dict['fac'] = fac\n",
    "metrics_dict['sel_num'] = sel_num\n",
    "metrics_dict['features'] = list(sel_x_train)\n",
    "metrics_dict['model'] = select_model\n",
    "\n",
    "# Creating a DataFrame from the dictionary\n",
    "retrain_metrics_df = pd.DataFrame([metrics_dict])\n",
    "\n",
    "out_metrics = os.path.join(p_out, f\"{var_}_{mdl}_{fac}_top_{sel_num}_retrain_metrics.csv\")\n",
    "retrain_metrics_df.to_csv(out_metrics, index=False)\n"
   ]
  },
  {
   "cell_type": "code",
   "execution_count": null,
   "metadata": {
    "scrolled": false
   },
   "outputs": [],
   "source": [
    "plt.figure(figsize=(10, 6))\n",
    "y2_predict = select_model.predict(sel_x_test)\n",
    "\n",
    "r2 = round(select_model.score(sel_x_test, sel_y_test), 2)\n",
    "mse = round(np.mean((sel_y_test - select_model.predict(sel_x_test)) ** 2), 2)\n",
    "rmse = round(np.sqrt(np.mean((y2_predict - sel_y_test) ** 2)), 2)\n",
    "mae = round(mean_absolute_error(sel_y_test, y2_predict), 2)\n",
    "bias = round(np.mean(sel_y_test) - np.mean(y2_predict), 2)\n",
    "var = round(explained_variance_score(sel_y_test, y2_predict), 2)\n",
    "\n",
    "plt.scatter(y2_predict, sel_y_test, s=70, alpha=0.5, color='blue', edgecolors='w')\n",
    "\n",
    "# Data for the 1 for 1 line\n",
    "x = [-500, 40000]\n",
    "y = [-500, 40000]\n",
    "\n",
    "# Set the limits of the axis\n",
    "plt.xlim(-500, 40000)\n",
    "plt.ylim(-500, 40000)\n",
    "plt.plot(x, y, color='red')\n",
    "\n",
    "# Add labels and title\n",
    "plt.ylabel('Observed Target', fontsize=14)\n",
    "plt.xlabel('Predicted Target', fontsize=14)\n",
    "plt.title(f'Data Used in {mdl} Testing', fontsize=16)\n",
    "\n",
    "# Annotate the stats in the top left corner\n",
    "plt.text(0.05, 0.95, f'r2: {r2:.2f}\\nMSE: {mse:.2f}\\nRMSE: {rmse:.2f}\\nMAE: {mae:.2f}\\nBias: {bias:.2f}\\nn: {len(sel_y_test)}',\n",
    "         transform=plt.gca().transAxes, verticalalignment='top', horizontalalignment='left', fontsize=12)\n",
    "\n",
    "# Save the plot\n",
    "plt.savefig(os.path.join(output, f\"{var_}_{mdl}_{fac}_top_{sel_num}_retest.JPG\"), dpi=300)\n",
    "plt.show()\n",
    "\n",
    "# Print the results\n",
    "print(\"-\" * 30)\n",
    "print(f\"\\t - r2: {r2}\")\n",
    "print(f\"\\t - mse: {mse}\")\n",
    "print(f\"\\t - rmse: {rmse}\")\n",
    "print(f\"\\t - mae: {mae}\")\n",
    "print(f\"\\t - bias: {bias}\")\n",
    "print(f\"\\t - n: {len(sel_y_test)}\")\n",
    "\n",
    "\n",
    "# Example metrics\n",
    "metrics_dict = {\n",
    "    'r2': r2,\n",
    "    'mse': mse,\n",
    "    'rmse': rmse,\n",
    "    'mae': mae,\n",
    "    'bias': bias,\n",
    "    'n': len(y_test)\n",
    "}\n",
    "\n",
    "# Adding the site as a key-value pair\n",
    "metrics_dict['mdl'] = mdl\n",
    "metrics_dict['status'] = \"retest\"\n",
    "metrics_dict['var'] = var_\n",
    "metrics_dict['fac'] = fac\n",
    "metrics_dict['sel_num'] = sel_num\n",
    "metrics_dict['features'] = list(sel_x_test)\n",
    "metrics_dict['model'] = select_model\n",
    "\n",
    "# Creating a DataFrame from the dictionary\n",
    "retest_metrics_df = pd.DataFrame([metrics_dict])\n",
    "\n",
    "out_metrics = os.path.join(p_out, f\"{var_}_{mdl}_{fac}_top_{sel_num}_metrics_retest.csv\")\n",
    "retest_metrics_df.to_csv(out_metrics, index=False)\n",
    "\n"
   ]
  },
  {
   "cell_type": "code",
   "execution_count": null,
   "metadata": {
    "ExecuteTime": {
     "end_time": "2024-08-02T06:32:46.247317Z",
     "start_time": "2024-08-02T06:32:46.237282Z"
    }
   },
   "outputs": [],
   "source": [
    "variable_imp_list = dfsort.feature.to_list()\n",
    "print(variable_imp_list)"
   ]
  },
  {
   "cell_type": "markdown",
   "metadata": {},
   "source": [
    "# ================================================================="
   ]
  },
  {
   "cell_type": "markdown",
   "metadata": {},
   "source": [
    "# STOP - do you realy want to save this model?"
   ]
  },
  {
   "cell_type": "markdown",
   "metadata": {},
   "source": [
    "# remember to change the cPickle file name !!"
   ]
  },
  {
   "cell_type": "markdown",
   "metadata": {},
   "source": [
    "# Save current fitted model and apply to validation validation data"
   ]
  },
  {
   "cell_type": "code",
   "execution_count": null,
   "metadata": {
    "ExecuteTime": {
     "end_time": "2024-08-02T06:32:49.624082Z",
     "start_time": "2024-08-02T06:32:49.610089Z"
    }
   },
   "outputs": [],
   "source": [
    "select_model"
   ]
  },
  {
   "cell_type": "code",
   "execution_count": null,
   "metadata": {
    "ExecuteTime": {
     "end_time": "2024-08-02T06:32:50.489118Z",
     "start_time": "2024-08-02T06:32:50.480442Z"
    }
   },
   "outputs": [],
   "source": [
    "import pickle\n",
    "\n",
    "#rfrL8CHM = rfr()\n",
    "#rfrL8CHM.fit(sel_x_train, sel_y_train)\n",
    "pickle_file = os.path.join(output, \"{0}_{1}_{2}_sel_{3}_{4}_model.pickle\".format(var_, fac, mdl, sel_num, samp))\n",
    "with open(pickle_file, 'wb') as f:\n",
    "    pickle.dump(select_model, f)\n",
    "print(\"pickle saved: \", pickle_file)"
   ]
  },
  {
   "cell_type": "code",
   "execution_count": null,
   "metadata": {
    "ExecuteTime": {
     "end_time": "2024-08-02T06:32:50.783746Z",
     "start_time": "2024-08-02T06:32:50.754322Z"
    }
   },
   "outputs": [],
   "source": [
    "# read in your validation dataset which has never been seen by rfr model - NOTE in this example I am just reading the same data used to train the model\n",
    "sel_y_validation\n",
    "sel_x_validation\n",
    "#validation_data"
   ]
  },
  {
   "cell_type": "code",
   "execution_count": null,
   "metadata": {
    "ExecuteTime": {
     "end_time": "2024-08-02T06:32:51.702820Z",
     "start_time": "2024-08-02T06:32:51.696526Z"
    }
   },
   "outputs": [],
   "source": [
    "c_list = sel_x_validation.columns.tolist()\n",
    "c_list"
   ]
  },
  {
   "cell_type": "code",
   "execution_count": null,
   "metadata": {
    "ExecuteTime": {
     "end_time": "2024-08-02T06:32:52.333071Z",
     "start_time": "2024-08-02T06:32:52.318071Z"
    }
   },
   "outputs": [],
   "source": [
    "validation_df = sel_x_validation"
   ]
  },
  {
   "cell_type": "code",
   "execution_count": null,
   "metadata": {
    "ExecuteTime": {
     "end_time": "2024-08-02T06:32:52.349108Z",
     "start_time": "2024-08-02T06:32:52.336073Z"
    }
   },
   "outputs": [],
   "source": [
    "# Insert array as the first column\n",
    "validation_df.insert(0, 'target', sel_y_validation)"
   ]
  },
  {
   "cell_type": "code",
   "execution_count": null,
   "metadata": {
    "ExecuteTime": {
     "end_time": "2024-08-02T06:32:52.723878Z",
     "start_time": "2024-08-02T06:32:52.708948Z"
    }
   },
   "outputs": [],
   "source": [
    "validation_out = os.path.join(output, \"validation_data.csv\")\n",
    "validation_df.to_csv(validation_out, index=False)"
   ]
  },
  {
   "cell_type": "code",
   "execution_count": null,
   "metadata": {
    "ExecuteTime": {
     "end_time": "2024-08-02T06:32:52.867433Z",
     "start_time": "2024-08-02T06:32:52.852423Z"
    }
   },
   "outputs": [],
   "source": [
    "#select_validation_df = validation_df[column_var]"
   ]
  },
  {
   "cell_type": "code",
   "execution_count": null,
   "metadata": {
    "ExecuteTime": {
     "end_time": "2024-08-02T06:32:53.780669Z",
     "start_time": "2024-08-02T06:32:53.762664Z"
    }
   },
   "outputs": [],
   "source": [
    "validation_df.columns"
   ]
  },
  {
   "cell_type": "code",
   "execution_count": null,
   "metadata": {
    "ExecuteTime": {
     "end_time": "2024-08-02T06:32:54.030318Z",
     "start_time": "2024-08-02T06:32:54.019316Z"
    }
   },
   "outputs": [],
   "source": [
    "column_var"
   ]
  },
  {
   "cell_type": "code",
   "execution_count": null,
   "metadata": {
    "ExecuteTime": {
     "end_time": "2024-08-02T06:32:54.441449Z",
     "start_time": "2024-08-02T06:32:54.430949Z"
    }
   },
   "outputs": [],
   "source": [
    "validation_xdata = validation_df.iloc[:, 1:].astype('float32')\n",
    "ydata1 = validation_df[[value_x]].astype('float32')\n",
    "ydata2 = ydata1.values\n",
    "ydata3 = ydata2.ravel()\n",
    "\n",
    "validation_ydata = ydata3.reshape(-1, 1)"
   ]
  },
  {
   "cell_type": "code",
   "execution_count": null,
   "metadata": {
    "ExecuteTime": {
     "end_time": "2024-08-02T06:32:54.848131Z",
     "start_time": "2024-08-02T06:32:54.834802Z"
    }
   },
   "outputs": [],
   "source": [
    "validation_xdata.shape"
   ]
  },
  {
   "cell_type": "code",
   "execution_count": null,
   "metadata": {
    "ExecuteTime": {
     "end_time": "2024-08-02T06:32:55.182119Z",
     "start_time": "2024-08-02T06:32:55.167121Z"
    }
   },
   "outputs": [],
   "source": [
    "validation_ydata.shape"
   ]
  },
  {
   "cell_type": "code",
   "execution_count": null,
   "metadata": {},
   "outputs": [],
   "source": [
    "import matplotlib.pyplot as plt\n",
    "import numpy as np\n",
    "import os\n",
    "from sklearn.metrics import explained_variance_score, mean_absolute_error\n",
    "\n",
    "plt.figure(figsize=(10, 6))\n",
    "\n",
    "# Load the model\n",
    "with open(pickle_file, 'rb') as f:\n",
    "    rf = pickle.load(f)\n",
    "\n",
    "predicted = rf.predict(validation_xdata)\n",
    "\n",
    "# Calculate metrics\n",
    "r2 = round(rf.score(validation_xdata, validation_ydata), 2)\n",
    "mse = round(np.mean((validation_ydata - predicted) ** 2), 2)\n",
    "rmse = round(np.sqrt(np.mean((predicted - validation_ydata) ** 2)), 2)\n",
    "mae = round(mean_absolute_error(validation_ydata, predicted), 2)\n",
    "bias = round(np.mean(validation_ydata) - np.mean(predicted), 2)\n",
    "var = round(explained_variance_score(validation_ydata, predicted), 2)\n",
    "\n",
    "# Plot predicted vs observed data\n",
    "plt.scatter(predicted, validation_ydata, s=70, alpha=0.5, color='blue', edgecolors='w')\n",
    "\n",
    "# Data for the 1-for-1 line\n",
    "x = [-500, 40000]\n",
    "y = [-500, 40000]\n",
    "\n",
    "# Set the limits of the axis\n",
    "plt.xlim(-500, 40000)\n",
    "plt.ylim(-500, 40000)\n",
    "\n",
    "# Add labels and title\n",
    "plt.ylabel('Observed Target', fontsize=14)\n",
    "plt.xlabel('Predicted Target', fontsize=14)\n",
    "plt.title(f'Data Used in {mdl} Validation', fontsize=16)\n",
    "\n",
    "# Annotate the stats in the top left corner\n",
    "plt.text(0.05, 0.95, f'r2: {r2:.2f}\\nMSE: {mse:.2f}\\nRMSE: {rmse:.2f}\\nMAE: {mae:.2f}\\nBias: {bias:.2f}\\nn: {len(validation_ydata)}',\n",
    "         transform=plt.gca().transAxes, verticalalignment='top', horizontalalignment='left', fontsize=12)\n",
    "\n",
    "# 1-for-1 line\n",
    "plt.plot(x, y, color='red')\n",
    "\n",
    "# Save the plot\n",
    "output_plot = os.path.join(output, \"{0}_{1}_{2}_sel_{3}_data_validation.JPG\".format(var_, fac, mdl, str(sel_num)))\n",
    "plt.savefig(output_plot, dpi=600)\n",
    "plt.show()\n",
    "\n",
    "# Print the results\n",
    "print(\"plot output: \", output_plot)\n",
    "print(\"Using: \", \"{0}_{1}_{2}_sel_{3}_model.pickle\".format(var_, fac, mdl, sel_num))\n",
    "\n",
    "print(\"-\" * 30)\n",
    "print(f\"\\t - r2: {r2}\")\n",
    "print(f\"\\t - mse: {mse}\")\n",
    "print(f\"\\t - rmse: {rmse}\")\n",
    "print(f\"\\t - mae: {mae}\")\n",
    "print(f\"\\t - bias: {bias}\")\n",
    "print(f\"\\t - n: {len(validation_ydata)}\")\n",
    "\n",
    "\n",
    "\n",
    "# Adding the site as a key-value pair\n",
    "metrics_dict['mdl'] = mdl\n",
    "metrics_dict['status'] = \"validate\"\n",
    "metrics_dict['var'] = var_\n",
    "metrics_dict['fac'] = fac\n",
    "metrics_dict['sel_num'] = sel_num\n",
    "metrics_dict['features'] = list(validation_df)\n",
    "metrics_dict['model'] = rf\n",
    "\n",
    "# Creating a DataFrame from the dictionary\n",
    "val_metrics_df = pd.DataFrame([metrics_dict])\n",
    "\n",
    "\n",
    "out_metrics = os.path.join(output, f\"{var_}_{mdl}_{fac}_top_{sel_num}_validate_metrics.csv\")\n",
    "val_metrics_df.to_csv(out_metrics, index=False)"
   ]
  },
  {
   "cell_type": "code",
   "execution_count": null,
   "metadata": {
    "ExecuteTime": {
     "end_time": "2024-08-02T06:32:56.287966Z",
     "start_time": "2024-08-02T06:32:56.273918Z"
    }
   },
   "outputs": [],
   "source": [
    "# Load the pickled model\n",
    "import pickle\n",
    "\n",
    "with open(pickle_file, 'rb') as file:\n",
    "    model = pickle.load(file)\n",
    "\n",
    "# Load the dataset\n",
    "import pandas as pd\n",
    "\n",
    "# validation x data\n",
    "data = validation_xdata\n",
    "\n",
    "# Check the feature names used during training\n",
    "training_feature_names = model.feature_names_in_\n",
    "\n",
    "# Check the feature names in the new dataset\n",
    "new_feature_names = data.columns\n",
    "\n",
    "print(\"Training feature names:\", training_feature_names)\n",
    "print(\"New feature names:\", new_feature_names)"
   ]
  },
  {
   "cell_type": "code",
   "execution_count": null,
   "metadata": {
    "ExecuteTime": {
     "end_time": "2024-08-02T06:32:56.732934Z",
     "start_time": "2024-08-02T06:32:56.727934Z"
    }
   },
   "outputs": [],
   "source": []
  },
  {
   "cell_type": "markdown",
   "metadata": {},
   "source": [
    "# Adjust to export model with no feature names"
   ]
  },
  {
   "cell_type": "code",
   "execution_count": null,
   "metadata": {
    "ExecuteTime": {
     "end_time": "2024-08-02T06:32:56.902421Z",
     "start_time": "2024-08-02T06:32:56.882935Z"
    }
   },
   "outputs": [],
   "source": [
    "xarray = sel_x_train.to_numpy()\n",
    "yarray = sel_y_train"
   ]
  },
  {
   "cell_type": "code",
   "execution_count": null,
   "metadata": {
    "ExecuteTime": {
     "end_time": "2024-08-02T06:32:57.400147Z",
     "start_time": "2024-08-02T06:32:57.386587Z"
    }
   },
   "outputs": [],
   "source": [
    "select_tree_model_no_headers = best_model.fit(xarray, yarray)"
   ]
  },
  {
   "cell_type": "markdown",
   "metadata": {},
   "source": [
    "## Export selected model as pickle"
   ]
  },
  {
   "cell_type": "code",
   "execution_count": null,
   "metadata": {
    "ExecuteTime": {
     "end_time": "2024-08-02T06:32:58.157028Z",
     "start_time": "2024-08-02T06:32:58.144029Z"
    }
   },
   "outputs": [],
   "source": [
    "import pickle\n",
    "\n",
    "#rfrL8CHM = rfr()\n",
    "#rfrL8CHM.fit(sel_x_train, sel_y_train)\n",
    "pickle_file_no_headers = os.path.join(output, \"{0}_{1}_{2}_sel_{3}_{4}_model_no_headers.pickle\".format(var_, fac, mdl, sel_num, samp))\n",
    "with open(pickle_file_no_headers, 'wb') as f:\n",
    "    pickle.dump(select_tree_model_no_headers, f)\n",
    "print(\"pickle saved: \", pickle_file_no_headers)"
   ]
  },
  {
   "cell_type": "code",
   "execution_count": null,
   "metadata": {
    "ExecuteTime": {
     "end_time": "2024-08-02T06:32:59.114459Z",
     "start_time": "2024-08-02T06:32:59.098458Z"
    }
   },
   "outputs": [],
   "source": [
    "plt.close('all')"
   ]
  }
 ],
 "metadata": {
  "anaconda-cloud": {},
  "kernelspec": {
   "display_name": "Python 3",
   "language": "python",
   "name": "python3"
  },
  "language_info": {
   "codemirror_mode": {
    "name": "ipython",
    "version": 3
   },
   "file_extension": ".py",
   "mimetype": "text/x-python",
   "name": "python",
   "nbconvert_exporter": "python",
   "pygments_lexer": "ipython3",
   "version": "3.7.7"
  }
 },
 "nbformat": 4,
 "nbformat_minor": 1
}
